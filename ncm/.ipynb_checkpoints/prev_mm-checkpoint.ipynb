{
 "cells": [
  {
   "cell_type": "code",
   "execution_count": 1,
   "id": "993b141f-e8c3-44fc-88a6-5be0eb7787e8",
   "metadata": {},
   "outputs": [],
   "source": [
    "import numpy as np\n",
    "import pandas as pd\n",
    "import matplotlib.pyplot as plt\n",
    "import seaborn as sns\n",
    "import warnings\n",
    "warnings.filterwarnings(\"ignore\")\n",
    "comex_df=pd.read_csv('/home/andre301267/git/BD/temp/imp_fert_ncm_quanti.csv').sort_values(by=['CO_ANO','CO_MES'])"
   ]
  },
  {
   "cell_type": "code",
   "execution_count": 2,
   "id": "6583f156-4703-49dc-b465-22b9e30e97eb",
   "metadata": {},
   "outputs": [
    {
     "data": {
      "text/plain": [
       "array(['MOP', 'MOP<60', 'NK', 'NPK', 'Nit.Sódio Potássico 15 15',\n",
       "       'Outros N', 'Outros nitratos de sódio', 'SAM', 'SOP<52', 'MAP',\n",
       "       'NAM', 'Nit.Sódio natural<16,3', 'Outros Nit.Sódio potássico',\n",
       "       'Outros potássicos', 'Superfosfatos<22', 'UREIA',\n",
       "       'DAP arsênio> 6 mg/kg', 'NCa', 'Outros SOP', 'PK',\n",
       "       'Superfosfato>45', 'Ureia, mesmo aquosa',\n",
       "       'Outros Nit.Sódio, naturais', 'NP', 'Nitratos e fosfatos',\n",
       "       'Superfosfatos>35', 'Outros superfosfatos'], dtype=object)"
      ]
     },
     "execution_count": 2,
     "metadata": {},
     "output_type": "execute_result"
    }
   ],
   "source": [
    "comex_df.nick.unique()"
   ]
  },
  {
   "cell_type": "code",
   "execution_count": 3,
   "id": "0fccb9bf-4af3-4cb2-87d2-af543f3b56d6",
   "metadata": {},
   "outputs": [],
   "source": [
    "uf='BA'\n",
    "nick='NK'\n",
    "comex_df=comex_df[(comex_df.UF==uf)&(comex_df.nick==nick)]\\\n",
    ".drop(columns=['UF','nick','CO_NCM','CO_PAIS','CO_URF','VL_SEGURO_orig','VL_FRETE_orig',\\\n",
    "               'VL_FOB_orig','VL_FRETE','VL_SEGURO'])"
   ]
  },
  {
   "cell_type": "code",
   "execution_count": 4,
   "id": "cd4dcb5f-979f-4b4f-9b35-6445893af632",
   "metadata": {},
   "outputs": [
    {
     "data": {
      "image/png": "[encoded data removed]",
      "text/plain": [
       "<Figure size 858.875x200 with 1 Axes>"
      ]
     },
     "metadata": {},
     "output_type": "display_data"
    }
   ],
   "source": [
    "sns.displot(data=comex_df,x='KG_LIQUIDO',hue='km', log_scale=True,height=2,aspect=4).fig.suptitle(f\"Importações de {nick} em {uf}\",y=1.1)\n",
    "plt.show()"
   ]
  },
  {
   "cell_type": "code",
   "execution_count": 5,
   "id": "8a931f69-e69b-482d-9ae9-bd2356911abe",
   "metadata": {},
   "outputs": [],
   "source": [
    "km=1"
   ]
  },
  {
   "cell_type": "raw",
   "id": "d32bd1c3-63c9-426d-afc5-855b30c800da",
   "metadata": {},
   "source": [
    "km=int(input('Escolha o cluster (km) desejado:'))"
   ]
  },
  {
   "cell_type": "code",
   "execution_count": 6,
   "id": "b9bf9e66-fc28-4e73-95f3-6747c919d9a8",
   "metadata": {},
   "outputs": [],
   "source": [
    "comex_df=comex_df[comex_df.km==km]\n",
    "comex_df.drop(columns='km',inplace=True)"
   ]
  },
  {
   "cell_type": "code",
   "execution_count": 7,
   "id": "be47a10b-b471-4421-9b66-3e75585c8645",
   "metadata": {},
   "outputs": [],
   "source": [
    "comex_df=comex_df.groupby(by=['CO_ANO','CO_MES'])[['KG_LIQUIDO','VL_FOB']].sum().reset_index()\\\n",
    ".astype(int)"
   ]
  },
  {
   "cell_type": "code",
   "execution_count": 8,
   "id": "d9b556bf-1c37-4b30-bf6e-cb80cc9474fb",
   "metadata": {},
   "outputs": [
    {
     "name": "stdout",
     "output_type": "stream",
     "text": [
      "** Função matriz_esparsa(comex_df, ct) disponível **\n"
     ]
    }
   ],
   "source": [
    "%run '/home/andre301267/git/BD/Comexstat/function/matriz_esparsa.ipynb'\n",
    "comex_df_sp=matriz_esparsa(comex_df)"
   ]
  },
  {
   "cell_type": "code",
   "execution_count": 9,
   "id": "43ba5b8a-30cd-45e3-b05a-71274db5a394",
   "metadata": {},
   "outputs": [
    {
     "name": "stdout",
     "output_type": "stream",
     "text": [
      "** Função escalona_tempo(comex_df) disponível **\n"
     ]
    }
   ],
   "source": [
    "%run '/home/andre301267/git/BD/Comexstat/function/escalona_tempo.ipynb'\n",
    "comex_df_sc=escalona_tempo(comex_df_sp)\n",
    "\n",
    "# Identifica a mês corrente\n",
    "mês_corrente=comex_df_sc[comex_df_sc.CO_ANO==comex_df_sc.CO_ANO.max()].CO_MES.max()\n",
    "# Completa escalonamento criano ano índice\n",
    "comex_df_sc['ano_i']=comex_df_sc.CO_ANO.shift(mês_corrente)"
   ]
  },
  {
   "cell_type": "code",
   "execution_count": 10,
   "id": "224f96bc-1f28-4c96-87f1-3e63fa938331",
   "metadata": {},
   "outputs": [],
   "source": [
    "# Corrige na\n",
    "k=comex_df_sc[comex_df_sc.ano_i.isna()]\n",
    "w=comex_df_sc[~comex_df_sc.ano_i.isna()]\n",
    "k=k.drop(columns='ano_i')\n",
    "z=np.array(w[w.index.isin(k.index+8)].ano_i-1)\n",
    "k['ano_i']=z\n",
    "comex_df_sc=pd.concat([k,w])"
   ]
  },
  {
   "cell_type": "code",
   "execution_count": 11,
   "id": "ec64d804-1023-47fe-b785-ce9e58a1b141",
   "metadata": {},
   "outputs": [],
   "source": [
    "# Corrige tipo\n",
    "comex_df_sc[comex_df_sc.select_dtypes('float').columns]=comex_df_sc[comex_df_sc.select_dtypes('float').columns].astype(int)"
   ]
  },
  {
   "cell_type": "code",
   "execution_count": 12,
   "id": "9f8e10eb-25e7-4937-9ce2-0892ef675a7d",
   "metadata": {},
   "outputs": [
    {
     "data": {
      "text/plain": [
       "Index(['mes_i', 'bim_i', 'trim_i', 'quadri_i', 'sem_i', 'ano_i'], dtype='object')"
      ]
     },
     "execution_count": 12,
     "metadata": {},
     "output_type": "execute_result"
    }
   ],
   "source": [
    "# Identifica escalas\n",
    "escalas=comex_df_sc.columns[-6:]\n",
    "escalas"
   ]
  },
  {
   "cell_type": "code",
   "execution_count": 13,
   "id": "96d4ede3-5057-4b7d-b22a-8c84789cdb2e",
   "metadata": {},
   "outputs": [
    {
     "data": {
      "text/plain": [
       "[(0, 'mes_i'),\n",
       " (1, 'bim_i'),\n",
       " (2, 'trim_i'),\n",
       " (3, 'quadri_i'),\n",
       " (4, 'sem_i'),\n",
       " (5, 'ano_i')]"
      ]
     },
     "execution_count": 13,
     "metadata": {},
     "output_type": "execute_result"
    }
   ],
   "source": [
    "list(enumerate(escalas))"
   ]
  },
  {
   "cell_type": "raw",
   "id": "73fe2c46-61c4-49bc-9c34-9ec0beaa34db",
   "metadata": {},
   "source": [
    "si=int(input('Indice da escala:'))"
   ]
  },
  {
   "cell_type": "code",
   "execution_count": 14,
   "id": "8a529b99-e9d7-468f-91d1-ece296fabc52",
   "metadata": {},
   "outputs": [],
   "source": [
    "si=0"
   ]
  },
  {
   "cell_type": "code",
   "execution_count": 15,
   "id": "1933e6a0-d821-4595-9732-9fb6ea429eb6",
   "metadata": {},
   "outputs": [],
   "source": [
    "sc=escalas[si]\n",
    "\n",
    "comex_df_sc_g=comex_df_sc.groupby(by=['ano_i',sc])[['KG_LIQUIDO','VL_FOB']].sum().reset_index().astype(int)\n",
    "\n",
    "tab=comex_df_sc[['date','ano_i',sc]]\n",
    "tab=tab.drop_duplicates(subset=['ano_i',sc])\n",
    "tab=tab[tab.ano_i!=tab.ano_i.min()]\n",
    "\n",
    "comex_df_sc_g=tab.merge(comex_df_sc_g)\n",
    "\n",
    "g_a_sc_dict={'mes_i':12, 'bim_i':6, 'trim_i':4, 'quadri_i':3, 'sem_i':2}\n",
    "\n",
    "g_i_sc_dict={'mes_i':1, 'bim_i':2, 'trim_i':3, 'quadri_i':4, 'sem_i':6}\n",
    "\n",
    "l=len(comex_df_sc_g.columns)"
   ]
  },
  {
   "cell_type": "code",
   "execution_count": 16,
   "id": "759750cb-2c95-4b99-acbb-8a4d52a86682",
   "metadata": {},
   "outputs": [
    {
     "data": {
      "text/plain": [
       "12"
      ]
     },
     "execution_count": 16,
     "metadata": {},
     "output_type": "execute_result"
    }
   ],
   "source": [
    "g_a_sc_dict[sc]"
   ]
  },
  {
   "cell_type": "code",
   "execution_count": 17,
   "id": "28e08bbe-ee19-4e92-967d-eda13eb9227d",
   "metadata": {},
   "outputs": [],
   "source": [
    "comex_df_sc_g\\\n",
    ".insert(l,'fob_last_12_months',comex_df_sc_g.VL_FOB.rolling(g_a_sc_dict[sc]).sum())"
   ]
  },
  {
   "cell_type": "code",
   "execution_count": 18,
   "id": "bdf8db0f-0d2f-42f4-8f80-13278d8302b4",
   "metadata": {},
   "outputs": [],
   "source": [
    "comex_df_sc_g\\\n",
    ".insert(l,'kg_last_12_months',comex_df_sc_g.KG_LIQUIDO.rolling(g_a_sc_dict[sc]).sum())\n",
    "\n",
    "comex_df_mm=comex_df_sc_g\n",
    "\n",
    "comex_df_mm=comex_df_mm.dropna()"
   ]
  },
  {
   "cell_type": "code",
   "execution_count": 19,
   "id": "3023e330-5fd1-402d-87c5-8910f332fde8",
   "metadata": {},
   "outputs": [],
   "source": [
    "comex_df_mm=comex_df_mm.assign(fob_kg=comex_df_mm.VL_FOB/comex_df_mm.KG_LIQUIDO)"
   ]
  },
  {
   "cell_type": "code",
   "execution_count": 20,
   "id": "e5a2f6e0-8a4a-4fba-85a6-084ef487bde8",
   "metadata": {},
   "outputs": [],
   "source": [
    "fob_kg_prev=comex_df_mm.fob_kg.tail(1).values[0]"
   ]
  },
  {
   "cell_type": "code",
   "execution_count": 21,
   "id": "8e826c9b-6da2-4070-b092-8e3ee4410beb",
   "metadata": {},
   "outputs": [],
   "source": [
    "comex_df_mm.fob_kg=comex_df_mm.fob_kg.shift(1)"
   ]
  },
  {
   "cell_type": "code",
   "execution_count": 22,
   "id": "3ebc1d3b-fbf4-48a7-9ccf-8d0be65ed0be",
   "metadata": {},
   "outputs": [
    {
     "data": {
      "text/html": [
       "<div>\n",
       "<style scoped>\n",
       "    .dataframe tbody tr th:only-of-type {\n",
       "        vertical-align: middle;\n",
       "    }\n",
       "\n",
       "    .dataframe tbody tr th {\n",
       "        vertical-align: top;\n",
       "    }\n",
       "\n",
       "    .dataframe thead th {\n",
       "        text-align: right;\n",
       "    }\n",
       "</style>\n",
       "<table border=\"1\" class=\"dataframe\">\n",
       "  <thead>\n",
       "    <tr style=\"text-align: right;\">\n",
       "      <th></th>\n",
       "      <th>date</th>\n",
       "      <th>ano_i</th>\n",
       "      <th>mes_i</th>\n",
       "      <th>KG_LIQUIDO</th>\n",
       "      <th>VL_FOB</th>\n",
       "      <th>kg_last_12_months</th>\n",
       "      <th>fob_last_12_months</th>\n",
       "      <th>fob_kg</th>\n",
       "    </tr>\n",
       "  </thead>\n",
       "  <tbody>\n",
       "    <tr>\n",
       "      <th>11</th>\n",
       "      <td>2000-11-01</td>\n",
       "      <td>2000</td>\n",
       "      <td>4</td>\n",
       "      <td>0</td>\n",
       "      <td>0</td>\n",
       "      <td>2326.0</td>\n",
       "      <td>27477.0</td>\n",
       "      <td>NaN</td>\n",
       "    </tr>\n",
       "  </tbody>\n",
       "</table>\n",
       "</div>"
      ],
      "text/plain": [
       "         date  ano_i  mes_i  KG_LIQUIDO  VL_FOB  kg_last_12_months  \\\n",
       "11 2000-11-01   2000      4           0       0             2326.0   \n",
       "\n",
       "    fob_last_12_months  fob_kg  \n",
       "11             27477.0     NaN  "
      ]
     },
     "execution_count": 22,
     "metadata": {},
     "output_type": "execute_result"
    }
   ],
   "source": [
    "comex_df_mm.head(1)"
   ]
  },
  {
   "cell_type": "raw",
   "id": "7e5b0e92-4eb3-481c-94fd-ebf810470a2b",
   "metadata": {},
   "source": [
    "comex_df_mm=comex_df_mm.dropna()"
   ]
  },
  {
   "cell_type": "code",
   "execution_count": 23,
   "id": "30fe86ed-f9bd-4689-b225-75c40e714586",
   "metadata": {},
   "outputs": [],
   "source": [
    "X_train=comex_df_mm[['date','fob_kg']]"
   ]
  },
  {
   "cell_type": "code",
   "execution_count": 24,
   "id": "7b915c2c-4dec-4cc4-a44d-9c5370df1f75",
   "metadata": {},
   "outputs": [],
   "source": [
    "X_train.date=X_train.date.astype(int)"
   ]
  },
  {
   "cell_type": "code",
   "execution_count": 25,
   "id": "c1cc08a7-35c9-4d32-80df-229224895537",
   "metadata": {},
   "outputs": [],
   "source": [
    "y_train=comex_df_mm[['kg_last_12_months','fob_last_12_months']]"
   ]
  },
  {
   "cell_type": "code",
   "execution_count": 26,
   "id": "3befe8cd-abca-4a0c-a302-63e214284ccd",
   "metadata": {},
   "outputs": [],
   "source": [
    "from datetime import timedelta\n",
    "date_prev=comex_df_mm.date.iloc[-g_a_sc_dict[sc]] + timedelta(days=365+1)"
   ]
  },
  {
   "cell_type": "code",
   "execution_count": 27,
   "id": "4f7e7e76-356d-4246-ace6-2b555abc148a",
   "metadata": {},
   "outputs": [],
   "source": [
    "X_prev=pd.DataFrame({\n",
    "    'date':[date_prev],\n",
    "    'fob_kg':[fob_kg_prev]})\n",
    "\n",
    "X_prev.date=X_prev.date.astype(int)"
   ]
  },
  {
   "cell_type": "code",
   "execution_count": 28,
   "id": "4356f9dc-3508-4269-8151-d55dff941bad",
   "metadata": {},
   "outputs": [],
   "source": [
    "#from sklearn.linear_model import LinearRegression as REG\n",
    "from sklearn.ensemble import RandomForestRegressor as REG\n",
    "REG=REG()\n",
    "REG.fit(X_train,y_train)\n",
    "X_prev[['kg_last_12_months','fob_last_12_months']]=REG.predict(X_prev)"
   ]
  },
  {
   "cell_type": "code",
   "execution_count": 29,
   "id": "a7db440c-04bf-41eb-902f-090437f10980",
   "metadata": {},
   "outputs": [],
   "source": [
    "X_prev=X_prev\\\n",
    ".assign(tipo=['prev'])\\\n",
    ".assign(ano_i=[comex_df.CO_ANO.max()])\\\n",
    ".assign(KG_LIQUIDO=X_prev['kg_last_12_months']-comex_df_mm['kg_last_12_months'].iloc[-1]+comex_df_mm.iloc[-g_a_sc_dict[sc],3])\\\n",
    ".assign(VL_FOB=    X_prev['fob_last_12_months']-comex_df_mm['fob_last_12_months'].iloc[-1]+comex_df_mm.iloc[-g_a_sc_dict[sc],4])\n",
    "X_prev.insert(0,str(sc),1)"
   ]
  },
  {
   "cell_type": "code",
   "execution_count": 30,
   "id": "12a0fa0d-1d09-467d-8dbe-de8f5f188270",
   "metadata": {},
   "outputs": [],
   "source": [
    "comex_df_mm=pd.concat([comex_df_mm.assign(tipo='real'),X_prev])"
   ]
  },
  {
   "cell_type": "code",
   "execution_count": 31,
   "id": "85db9512-5bbd-40e0-b26f-4a310927bbb3",
   "metadata": {},
   "outputs": [],
   "source": [
    "comex_df_mm.date=pd.to_datetime(comex_df_mm.date)"
   ]
  },
  {
   "cell_type": "code",
   "execution_count": 32,
   "id": "517ef108-7708-46f9-9ed3-e7cd5ab44e99",
   "metadata": {},
   "outputs": [],
   "source": [
    "comex_df_mm=comex_df_mm[comex_df_mm.date.dt.year>2019]"
   ]
  },
  {
   "cell_type": "code",
   "execution_count": 33,
   "id": "f88814e1-e1b8-49d6-a04f-6945cf0ca752",
   "metadata": {},
   "outputs": [],
   "source": [
    "comex_df_mm['fob_kg'].iloc[-1]=comex_df_mm['VL_FOB'].iloc[-1]/comex_df_mm['KG_LIQUIDO'].iloc[-1]"
   ]
  },
  {
   "cell_type": "code",
   "execution_count": 34,
   "id": "d384365f-0b78-405b-9311-dfe736b28a49",
   "metadata": {},
   "outputs": [
    {
     "data": {
      "text/html": [
       "<div>\n",
       "<style scoped>\n",
       "    .dataframe tbody tr th:only-of-type {\n",
       "        vertical-align: middle;\n",
       "    }\n",
       "\n",
       "    .dataframe tbody tr th {\n",
       "        vertical-align: top;\n",
       "    }\n",
       "\n",
       "    .dataframe thead th {\n",
       "        text-align: right;\n",
       "    }\n",
       "</style>\n",
       "<table border=\"1\" class=\"dataframe\">\n",
       "  <thead>\n",
       "    <tr style=\"text-align: right;\">\n",
       "      <th></th>\n",
       "      <th>date</th>\n",
       "      <th>ano_i</th>\n",
       "      <th>mes_i</th>\n",
       "      <th>KG_LIQUIDO</th>\n",
       "      <th>VL_FOB</th>\n",
       "      <th>kg_last_12_months</th>\n",
       "      <th>fob_last_12_months</th>\n",
       "      <th>fob_kg</th>\n",
       "      <th>tipo</th>\n",
       "    </tr>\n",
       "  </thead>\n",
       "  <tbody>\n",
       "    <tr>\n",
       "      <th>270</th>\n",
       "      <td>2022-06-01</td>\n",
       "      <td>2021</td>\n",
       "      <td>11</td>\n",
       "      <td>0.00</td>\n",
       "      <td>0.00</td>\n",
       "      <td>0.00</td>\n",
       "      <td>0.00</td>\n",
       "      <td>NaN</td>\n",
       "      <td>real</td>\n",
       "    </tr>\n",
       "    <tr>\n",
       "      <th>271</th>\n",
       "      <td>2022-07-01</td>\n",
       "      <td>2021</td>\n",
       "      <td>12</td>\n",
       "      <td>0.00</td>\n",
       "      <td>0.00</td>\n",
       "      <td>0.00</td>\n",
       "      <td>0.00</td>\n",
       "      <td>NaN</td>\n",
       "      <td>real</td>\n",
       "    </tr>\n",
       "    <tr>\n",
       "      <th>272</th>\n",
       "      <td>2022-08-01</td>\n",
       "      <td>2022</td>\n",
       "      <td>1</td>\n",
       "      <td>0.00</td>\n",
       "      <td>0.00</td>\n",
       "      <td>0.00</td>\n",
       "      <td>0.00</td>\n",
       "      <td>NaN</td>\n",
       "      <td>real</td>\n",
       "    </tr>\n",
       "    <tr>\n",
       "      <th>273</th>\n",
       "      <td>2022-09-01</td>\n",
       "      <td>2022</td>\n",
       "      <td>2</td>\n",
       "      <td>0.00</td>\n",
       "      <td>0.00</td>\n",
       "      <td>0.00</td>\n",
       "      <td>0.00</td>\n",
       "      <td>NaN</td>\n",
       "      <td>real</td>\n",
       "    </tr>\n",
       "    <tr>\n",
       "      <th>274</th>\n",
       "      <td>2022-10-01</td>\n",
       "      <td>2022</td>\n",
       "      <td>3</td>\n",
       "      <td>0.00</td>\n",
       "      <td>0.00</td>\n",
       "      <td>0.00</td>\n",
       "      <td>0.00</td>\n",
       "      <td>NaN</td>\n",
       "      <td>real</td>\n",
       "    </tr>\n",
       "    <tr>\n",
       "      <th>275</th>\n",
       "      <td>2022-11-01</td>\n",
       "      <td>2022</td>\n",
       "      <td>4</td>\n",
       "      <td>0.00</td>\n",
       "      <td>0.00</td>\n",
       "      <td>0.00</td>\n",
       "      <td>0.00</td>\n",
       "      <td>NaN</td>\n",
       "      <td>real</td>\n",
       "    </tr>\n",
       "    <tr>\n",
       "      <th>276</th>\n",
       "      <td>2022-12-01</td>\n",
       "      <td>2022</td>\n",
       "      <td>5</td>\n",
       "      <td>0.00</td>\n",
       "      <td>0.00</td>\n",
       "      <td>0.00</td>\n",
       "      <td>0.00</td>\n",
       "      <td>NaN</td>\n",
       "      <td>real</td>\n",
       "    </tr>\n",
       "    <tr>\n",
       "      <th>277</th>\n",
       "      <td>2023-01-01</td>\n",
       "      <td>2022</td>\n",
       "      <td>6</td>\n",
       "      <td>0.00</td>\n",
       "      <td>0.00</td>\n",
       "      <td>0.00</td>\n",
       "      <td>0.00</td>\n",
       "      <td>NaN</td>\n",
       "      <td>real</td>\n",
       "    </tr>\n",
       "    <tr>\n",
       "      <th>278</th>\n",
       "      <td>2023-02-01</td>\n",
       "      <td>2022</td>\n",
       "      <td>7</td>\n",
       "      <td>0.00</td>\n",
       "      <td>0.00</td>\n",
       "      <td>0.00</td>\n",
       "      <td>0.00</td>\n",
       "      <td>NaN</td>\n",
       "      <td>real</td>\n",
       "    </tr>\n",
       "    <tr>\n",
       "      <th>279</th>\n",
       "      <td>2023-03-01</td>\n",
       "      <td>2022</td>\n",
       "      <td>8</td>\n",
       "      <td>0.00</td>\n",
       "      <td>0.00</td>\n",
       "      <td>0.00</td>\n",
       "      <td>0.00</td>\n",
       "      <td>NaN</td>\n",
       "      <td>real</td>\n",
       "    </tr>\n",
       "    <tr>\n",
       "      <th>280</th>\n",
       "      <td>2023-04-01</td>\n",
       "      <td>2022</td>\n",
       "      <td>9</td>\n",
       "      <td>0.00</td>\n",
       "      <td>0.00</td>\n",
       "      <td>0.00</td>\n",
       "      <td>0.00</td>\n",
       "      <td>NaN</td>\n",
       "      <td>real</td>\n",
       "    </tr>\n",
       "    <tr>\n",
       "      <th>281</th>\n",
       "      <td>2023-05-01</td>\n",
       "      <td>2022</td>\n",
       "      <td>10</td>\n",
       "      <td>4608.00</td>\n",
       "      <td>11135.00</td>\n",
       "      <td>4608.00</td>\n",
       "      <td>11135.00</td>\n",
       "      <td>NaN</td>\n",
       "      <td>real</td>\n",
       "    </tr>\n",
       "    <tr>\n",
       "      <th>282</th>\n",
       "      <td>2023-06-01</td>\n",
       "      <td>2022</td>\n",
       "      <td>11</td>\n",
       "      <td>0.00</td>\n",
       "      <td>0.00</td>\n",
       "      <td>4608.00</td>\n",
       "      <td>11135.00</td>\n",
       "      <td>2.416450</td>\n",
       "      <td>real</td>\n",
       "    </tr>\n",
       "    <tr>\n",
       "      <th>283</th>\n",
       "      <td>2023-07-01</td>\n",
       "      <td>2022</td>\n",
       "      <td>12</td>\n",
       "      <td>3200.00</td>\n",
       "      <td>4588.00</td>\n",
       "      <td>7808.00</td>\n",
       "      <td>15723.00</td>\n",
       "      <td>NaN</td>\n",
       "      <td>real</td>\n",
       "    </tr>\n",
       "    <tr>\n",
       "      <th>0</th>\n",
       "      <td>2023-08-02</td>\n",
       "      <td>2023</td>\n",
       "      <td>1</td>\n",
       "      <td>-1287.84</td>\n",
       "      <td>-1853.94</td>\n",
       "      <td>6520.16</td>\n",
       "      <td>13869.06</td>\n",
       "      <td>1.439573</td>\n",
       "      <td>prev</td>\n",
       "    </tr>\n",
       "  </tbody>\n",
       "</table>\n",
       "</div>"
      ],
      "text/plain": [
       "          date  ano_i  mes_i  KG_LIQUIDO    VL_FOB  kg_last_12_months  \\\n",
       "270 2022-06-01   2021     11        0.00      0.00               0.00   \n",
       "271 2022-07-01   2021     12        0.00      0.00               0.00   \n",
       "272 2022-08-01   2022      1        0.00      0.00               0.00   \n",
       "273 2022-09-01   2022      2        0.00      0.00               0.00   \n",
       "274 2022-10-01   2022      3        0.00      0.00               0.00   \n",
       "275 2022-11-01   2022      4        0.00      0.00               0.00   \n",
       "276 2022-12-01   2022      5        0.00      0.00               0.00   \n",
       "277 2023-01-01   2022      6        0.00      0.00               0.00   \n",
       "278 2023-02-01   2022      7        0.00      0.00               0.00   \n",
       "279 2023-03-01   2022      8        0.00      0.00               0.00   \n",
       "280 2023-04-01   2022      9        0.00      0.00               0.00   \n",
       "281 2023-05-01   2022     10     4608.00  11135.00            4608.00   \n",
       "282 2023-06-01   2022     11        0.00      0.00            4608.00   \n",
       "283 2023-07-01   2022     12     3200.00   4588.00            7808.00   \n",
       "0   2023-08-02   2023      1    -1287.84  -1853.94            6520.16   \n",
       "\n",
       "     fob_last_12_months    fob_kg  tipo  \n",
       "270                0.00       NaN  real  \n",
       "271                0.00       NaN  real  \n",
       "272                0.00       NaN  real  \n",
       "273                0.00       NaN  real  \n",
       "274                0.00       NaN  real  \n",
       "275                0.00       NaN  real  \n",
       "276                0.00       NaN  real  \n",
       "277                0.00       NaN  real  \n",
       "278                0.00       NaN  real  \n",
       "279                0.00       NaN  real  \n",
       "280                0.00       NaN  real  \n",
       "281            11135.00       NaN  real  \n",
       "282            11135.00  2.416450  real  \n",
       "283            15723.00       NaN  real  \n",
       "0              13869.06  1.439573  prev  "
      ]
     },
     "execution_count": 34,
     "metadata": {},
     "output_type": "execute_result"
    }
   ],
   "source": [
    "comex_df_mm.tail(15)"
   ]
  },
  {
   "cell_type": "code",
   "execution_count": 35,
   "id": "72618ae3-62a2-402c-97c1-6924d91d6885",
   "metadata": {},
   "outputs": [
    {
     "data": {
      "image/png": "[encoded data removed]",
      "text/plain": [
       "<Figure size 681.125x200 with 1 Axes>"
      ]
     },
     "metadata": {},
     "output_type": "display_data"
    },
    {
     "name": "stdout",
     "output_type": "stream",
     "text": [
      "\n"
     ]
    },
    {
     "data": {
      "image/png": "[encoded data removed]",
      "text/plain": [
       "<Figure size 681.125x200 with 1 Axes>"
      ]
     },
     "metadata": {},
     "output_type": "display_data"
    },
    {
     "name": "stdout",
     "output_type": "stream",
     "text": [
      "\n"
     ]
    },
    {
     "data": {
      "image/png": "[encoded data removed]",
      "text/plain": [
       "<Figure size 681.125x200 with 1 Axes>"
      ]
     },
     "metadata": {},
     "output_type": "display_data"
    },
    {
     "name": "stdout",
     "output_type": "stream",
     "text": [
      "\n"
     ]
    }
   ],
   "source": [
    "for cc in ['kg_last_12_months','fob_last_12_months','fob_kg']:\n",
    "    t=comex_df_mm.copy()\n",
    "    t=t.rename(columns={'date':'Semestre Indexado'})\n",
    "    kt='tipo'\n",
    "    sct=sc\n",
    "    if cc == 'fob_kg':\n",
    "        \n",
    "        sns.relplot(data=t[t[cc]<3],x='Semestre Indexado',y=cc,height=2,aspect=3,hue='tipo')\\\n",
    "        .fig.suptitle(f\"Importações de {nick} \\n {uf}.\", y=1.2)\n",
    "        plt.xticks(rotation=90)\n",
    "        plt.show()\n",
    "        print()\n",
    "    else:\n",
    "        sns.relplot(data=t,x='Semestre Indexado',y=cc,height=2,aspect=3, hue=kt)\\\n",
    "        .fig.suptitle(f\"Importações de {nick} \\n {uf}.\", y=1.1)\n",
    "        plt.xticks(rotation=30)\n",
    "        plt.show()\n",
    "        print()"
   ]
  },
  {
   "cell_type": "code",
   "execution_count": null,
   "id": "8212f8b1-407f-43a5-96f3-b84c281fae11",
   "metadata": {},
   "outputs": [],
   "source": []
  }
 ],
 "metadata": {
  "kernelspec": {
   "display_name": "Python 3 (ipykernel)",
   "language": "python",
   "name": "python3"
  },
  "language_info": {
   "codemirror_mode": {
    "name": "ipython",
    "version": 3
   },
   "file_extension": ".py",
   "mimetype": "text/x-python",
   "name": "python",
   "nbconvert_exporter": "python",
   "pygments_lexer": "ipython3",
   "version": "3.11.2"
  }
 },
 "nbformat": 4,
 "nbformat_minor": 5
}
