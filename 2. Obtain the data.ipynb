{
 "cells": [
  {
   "attachments": {},
   "cell_type": "markdown",
   "id": "f5ac7b64-6093-4f92-8cb6-4803b2bdb759",
   "metadata": {},
   "source": [
    "### 1. Importação de Fertilizantes do Estado da Bahia\n",
    "\n",
    "O site [Comexstat](http://comexstat.mdic.gov.br/pt/geral), portal para acesso gratuito às estatísticas de comércio exterior do Brasil, disponibiliza arquivos que apresentam todos os dados utilizados para construção da balança comercial brasileira, detalhados por NCM ou por Municípios do exportador/importador. \n",
    "\n",
    "O site informa que os dados estão disponíveis em arquivos compatados que contém arquivos CSV, utilizando como separador o ponto e vírgula (;), e com os nomes das colunas na primeira linha. \n",
    "\n",
    "Para esse projeto, o interesse esta sobre a base de dados denominada IMP_COMPLETA.zip, que contém histórico mensal das importações detalhadas por produto (código NCM), Unidade Federativa importadora, ano, mês, país de origem, quilograma líquido, valor dólar FOB (US$) e outras.\n",
    "\n",
    "Para aproveitamento completo dos arquivos de dados, será necessário baixar e utilizar as Tabelas Auxiliares contendo a \"Correlações de Códigos e Classificações\". \n",
    "\n",
    "O arquivo principal e as tabelas auxiliares foram baixadas e salvas localmente na pasta '~/git/BD/Comexstat/'.\n",
    "\n",
    "> **Nota em relação ao Github:** Os arquivos salvos **nesta fase** são maiores do que o tamanho aceito em minha conta, e por isso eles serão ignorados e não disponibilizados.\n",
    "\n",
    "A classificação de produto mais abrangente disponível é a SH2 (Sistema Harmonizado) e no nome dela se buscará identificar palavras como \"fertilizantes\" ou \"adubo\"."
   ]
  },
  {
   "cell_type": "code",
   "execution_count": 1,
   "id": "e96c3ee6-0a56-46cf-aa8f-586a779aea33",
   "metadata": {},
   "outputs": [],
   "source": [
    "# Importa as bibliotecas necessárias\n",
    "%run '~/git/Bibliotecas.ipynb'"
   ]
  },
  {
   "cell_type": "code",
   "execution_count": 2,
   "id": "7acd7896-e04b-4fef-a0b1-da630eb751ee",
   "metadata": {},
   "outputs": [
    {
     "data": {
      "text/html": [
       "<div>\n",
       "<style scoped>\n",
       "    .dataframe tbody tr th:only-of-type {\n",
       "        vertical-align: middle;\n",
       "    }\n",
       "\n",
       "    .dataframe tbody tr th {\n",
       "        vertical-align: top;\n",
       "    }\n",
       "\n",
       "    .dataframe thead th {\n",
       "        text-align: right;\n",
       "    }\n",
       "</style>\n",
       "<table border=\"1\" class=\"dataframe\">\n",
       "  <thead>\n",
       "    <tr style=\"text-align: right;\">\n",
       "      <th></th>\n",
       "      <th>CO_SH6</th>\n",
       "      <th>NO_SH6_POR</th>\n",
       "      <th>NO_SH6_ESP</th>\n",
       "      <th>NO_SH6_ING</th>\n",
       "      <th>CO_SH4</th>\n",
       "      <th>NO_SH4_POR</th>\n",
       "      <th>NO_SH4_ESP</th>\n",
       "      <th>NO_SH4_ING</th>\n",
       "      <th>CO_SH2</th>\n",
       "      <th>NO_SH2_POR</th>\n",
       "      <th>NO_SH2_ESP</th>\n",
       "      <th>NO_SH2_ING</th>\n",
       "      <th>CO_NCM_SECROM</th>\n",
       "      <th>NO_SEC_POR</th>\n",
       "      <th>NO_SEC_ESP</th>\n",
       "      <th>NO_SEC_ING</th>\n",
       "    </tr>\n",
       "  </thead>\n",
       "  <tbody>\n",
       "    <tr>\n",
       "      <th>0</th>\n",
       "      <td>10110</td>\n",
       "      <td>Animais vivos das espécies cavalar, asinina e ...</td>\n",
       "      <td>Caballos y asnos, reproductores de raza pura</td>\n",
       "      <td>Pure-bred breeding horses and asses</td>\n",
       "      <td>101</td>\n",
       "      <td>Cavalos, asininos e muares, vivos</td>\n",
       "      <td>Caballos, asnos, mulos y burdéganos, vivos</td>\n",
       "      <td>Live horses, asses, mules and hinnies</td>\n",
       "      <td>1</td>\n",
       "      <td>Animais vivos</td>\n",
       "      <td>Animales vivos</td>\n",
       "      <td>Live animals</td>\n",
       "      <td>I</td>\n",
       "      <td>Animais vivos e produtos do reino animal</td>\n",
       "      <td>Animales vivos y productos del reino animal</td>\n",
       "      <td>Lives animals; Animal products</td>\n",
       "    </tr>\n",
       "  </tbody>\n",
       "</table>\n",
       "</div>"
      ],
      "text/plain": [
       "   CO_SH6                                         NO_SH6_POR  \\\n",
       "0   10110  Animais vivos das espécies cavalar, asinina e ...   \n",
       "\n",
       "                                     NO_SH6_ESP  \\\n",
       "0  Caballos y asnos, reproductores de raza pura   \n",
       "\n",
       "                            NO_SH6_ING  CO_SH4  \\\n",
       "0  Pure-bred breeding horses and asses     101   \n",
       "\n",
       "                          NO_SH4_POR  \\\n",
       "0  Cavalos, asininos e muares, vivos   \n",
       "\n",
       "                                   NO_SH4_ESP  \\\n",
       "0  Caballos, asnos, mulos y burdéganos, vivos   \n",
       "\n",
       "                              NO_SH4_ING  CO_SH2     NO_SH2_POR  \\\n",
       "0  Live horses, asses, mules and hinnies       1  Animais vivos   \n",
       "\n",
       "       NO_SH2_ESP    NO_SH2_ING CO_NCM_SECROM  \\\n",
       "0  Animales vivos  Live animals             I   \n",
       "\n",
       "                                 NO_SEC_POR  \\\n",
       "0  Animais vivos e produtos do reino animal   \n",
       "\n",
       "                                    NO_SEC_ESP                      NO_SEC_ING  \n",
       "0  Animales vivos y productos del reino animal  Lives animals; Animal products  "
      ]
     },
     "execution_count": 2,
     "metadata": {},
     "output_type": "execute_result"
    }
   ],
   "source": [
    "sh=pd.read_csv('~/git/BD/Comexstat/NCM_SH.csv',sep=';',encoding='Latin-1')\n",
    "sh.head(1)"
   ]
  },
  {
   "cell_type": "markdown",
   "id": "4395f36f-fccb-44f1-9b3b-d662b58806fa",
   "metadata": {},
   "source": [
    "> Pode-se ver que a coluna CO_SH2 apresenta o código mais abrangente. Ainda pode-se ver que na coluna NO_SH2_POR existe o nome da categoria em português.\n",
    ">\n",
    "> Identifica-se a seguir qual SH2 tem a palavra \"fertilizante\" incluída no nome."
   ]
  },
  {
   "cell_type": "code",
   "execution_count": 3,
   "id": "626aa747-50e7-47f4-925c-035b5316d1c4",
   "metadata": {},
   "outputs": [
    {
     "data": {
      "text/plain": [
       "array([31])"
      ]
     },
     "execution_count": 3,
     "metadata": {},
     "output_type": "execute_result"
    }
   ],
   "source": [
    "# Identifica qual nome de categoria apresenta a palavra \"fertilizante\"\n",
    "sh2_fert=sh[sh.NO_SH2_POR.str.contains('fertilizante')]['CO_SH2'].unique()\n",
    "sh2_fert"
   ]
  },
  {
   "cell_type": "code",
   "execution_count": 4,
   "id": "4eb72252-3d66-4ddc-9c1a-7d487d98cf0a",
   "metadata": {},
   "outputs": [
    {
     "data": {
      "text/plain": [
       "array([], dtype=int64)"
      ]
     },
     "execution_count": 4,
     "metadata": {},
     "output_type": "execute_result"
    }
   ],
   "source": [
    "# Identifica qual nome de categoria apresenta a palavra \"adubo\"\n",
    "sh2_adubo=sh[sh.NO_SH2_POR.str.contains('adubo')]['CO_SH2'].unique()\n",
    "sh2_adubo"
   ]
  },
  {
   "cell_type": "markdown",
   "id": "ccb10623-5e5d-4924-be95-6656361b617d",
   "metadata": {},
   "source": [
    "> Só um SH2 (31) possui 'fertilizante' no nome. Salvaremos o código dele a seguir:"
   ]
  },
  {
   "cell_type": "code",
   "execution_count": 5,
   "id": "21a4a47b-a272-4aaf-92a3-a3129c1351b0",
   "metadata": {},
   "outputs": [],
   "source": [
    "# Identifica o código da única categoria 'fertilizante'\n",
    "sh2_fert=sh2_fert[0]"
   ]
  },
  {
   "cell_type": "markdown",
   "id": "2df66d28-8409-46ce-bafa-b21842d467c2",
   "metadata": {},
   "source": [
    ">  Nessa mesma tabela, o código mais específico é o SH6, e os que são relacionados ao SH2 dos fertilizantes serão listados a seguir:"
   ]
  },
  {
   "cell_type": "code",
   "execution_count": 6,
   "id": "5ad897b9-e574-44a6-b71e-298c81f586c0",
   "metadata": {},
   "outputs": [
    {
     "data": {
      "text/plain": [
       "array([310100, 310210, 310221, 310229, 310230, 310240, 310250, 310260,\n",
       "       310270, 310280, 310290, 310310, 310311, 310319, 310320, 310390,\n",
       "       310410, 310420, 310430, 310490, 310510, 310520, 310530, 310540,\n",
       "       310551, 310559, 310560, 310590])"
      ]
     },
     "execution_count": 6,
     "metadata": {},
     "output_type": "execute_result"
    }
   ],
   "source": [
    "sh6_fert=sh[sh.CO_SH2==sh2_fert]['CO_SH6'].unique()\n",
    "sh6_fert"
   ]
  },
  {
   "cell_type": "markdown",
   "id": "7040dc7c-60c1-4b7a-9453-276f11baf8f2",
   "metadata": {},
   "source": [
    "> Passaremos agora para a próxima tabela, a tabela NCM.csv, e dela extrairemos a lista de NCMs que se relacionam com a lista de SH6 dos fertilizantes. "
   ]
  },
  {
   "cell_type": "code",
   "execution_count": 7,
   "id": "a602d8ab-39f1-4547-a4de-b5db829141e5",
   "metadata": {},
   "outputs": [
    {
     "data": {
      "text/plain": [
       "array([31053000, 31031100, 31031900, 31059011, 31059019, 31059090,\n",
       "       31031020, 31031030, 31032000, 31039011, 31053010, 31053090,\n",
       "       31054000, 31055100, 31055900, 31056000, 31010000, 31021010,\n",
       "       31021090, 31022100, 31022910, 31022990, 31023000, 31024000,\n",
       "       31025011, 31025019, 31025090, 31026000, 31027000, 31028000,\n",
       "       31029000, 31031010, 31039019, 31039090, 31041000, 31042010,\n",
       "       31042090, 31043010, 31043090, 31049010, 31049090, 31051000,\n",
       "       31052000])"
      ]
     },
     "execution_count": 7,
     "metadata": {},
     "output_type": "execute_result"
    }
   ],
   "source": [
    "ncm=pd.read_csv('~/git/BD/Comexstat/NCM.csv', sep=';',encoding='latin1')\n",
    "ncm_fert=ncm[ncm.CO_SH6.isin(sh6_fert)].CO_NCM.unique()\n",
    "ncm_fert"
   ]
  },
  {
   "cell_type": "markdown",
   "id": "09b221f8-0a13-45cb-880a-de8eb9024f84",
   "metadata": {},
   "source": [
    "Agora será extraido do arquivo principal (IMP_COMPLETA.csv) os registros relativos aos NCMs listados.\n",
    "\n",
    "As linhas filtradas serão concatenadas para formar o novo  **arquivo principal**, que em seguida será salvo no endereço '~/comex/data/imp1.csv'."
   ]
  },
  {
   "cell_type": "code",
   "execution_count": 8,
   "id": "40038959-0c0b-4895-8dad-f41a41a7af5e",
   "metadata": {},
   "outputs": [
    {
     "data": {
      "text/html": [
       "<div>\n",
       "<style scoped>\n",
       "    .dataframe tbody tr th:only-of-type {\n",
       "        vertical-align: middle;\n",
       "    }\n",
       "\n",
       "    .dataframe tbody tr th {\n",
       "        vertical-align: top;\n",
       "    }\n",
       "\n",
       "    .dataframe thead th {\n",
       "        text-align: right;\n",
       "    }\n",
       "</style>\n",
       "<table border=\"1\" class=\"dataframe\">\n",
       "  <thead>\n",
       "    <tr style=\"text-align: right;\">\n",
       "      <th></th>\n",
       "      <th>CO_ANO</th>\n",
       "      <th>CO_MES</th>\n",
       "      <th>CO_NCM</th>\n",
       "      <th>CO_UNID</th>\n",
       "      <th>CO_PAIS</th>\n",
       "      <th>SG_UF_NCM</th>\n",
       "      <th>CO_VIA</th>\n",
       "      <th>CO_URF</th>\n",
       "      <th>QT_ESTAT</th>\n",
       "      <th>KG_LIQUIDO</th>\n",
       "      <th>VL_FOB</th>\n",
       "      <th>VL_FRETE</th>\n",
       "      <th>VL_SEGURO</th>\n",
       "    </tr>\n",
       "  </thead>\n",
       "  <tbody>\n",
       "    <tr>\n",
       "      <th>0</th>\n",
       "      <td>1997</td>\n",
       "      <td>1</td>\n",
       "      <td>31010000</td>\n",
       "      <td>10</td>\n",
       "      <td>386</td>\n",
       "      <td>SP</td>\n",
       "      <td>1</td>\n",
       "      <td>817800</td>\n",
       "      <td>15222</td>\n",
       "      <td>15222</td>\n",
       "      <td>34324</td>\n",
       "      <td>1323</td>\n",
       "      <td>177</td>\n",
       "    </tr>\n",
       "    <tr>\n",
       "      <th>1</th>\n",
       "      <td>1997</td>\n",
       "      <td>1</td>\n",
       "      <td>31010000</td>\n",
       "      <td>10</td>\n",
       "      <td>573</td>\n",
       "      <td>SP</td>\n",
       "      <td>1</td>\n",
       "      <td>817800</td>\n",
       "      <td>1800</td>\n",
       "      <td>20000</td>\n",
       "      <td>7169</td>\n",
       "      <td>2638</td>\n",
       "      <td>0</td>\n",
       "    </tr>\n",
       "    <tr>\n",
       "      <th>2</th>\n",
       "      <td>1997</td>\n",
       "      <td>1</td>\n",
       "      <td>31021010</td>\n",
       "      <td>10</td>\n",
       "      <td>850</td>\n",
       "      <td>RR</td>\n",
       "      <td>7</td>\n",
       "      <td>260151</td>\n",
       "      <td>640</td>\n",
       "      <td>32000</td>\n",
       "      <td>7360</td>\n",
       "      <td>1120</td>\n",
       "      <td>0</td>\n",
       "    </tr>\n",
       "    <tr>\n",
       "      <th>3</th>\n",
       "      <td>1997</td>\n",
       "      <td>1</td>\n",
       "      <td>31021090</td>\n",
       "      <td>10</td>\n",
       "      <td>850</td>\n",
       "      <td>RR</td>\n",
       "      <td>7</td>\n",
       "      <td>260151</td>\n",
       "      <td>96000</td>\n",
       "      <td>96000</td>\n",
       "      <td>22080</td>\n",
       "      <td>3360</td>\n",
       "      <td>0</td>\n",
       "    </tr>\n",
       "    <tr>\n",
       "      <th>4</th>\n",
       "      <td>1997</td>\n",
       "      <td>1</td>\n",
       "      <td>31022100</td>\n",
       "      <td>10</td>\n",
       "      <td>23</td>\n",
       "      <td>GO</td>\n",
       "      <td>1</td>\n",
       "      <td>817800</td>\n",
       "      <td>1900000</td>\n",
       "      <td>1900000</td>\n",
       "      <td>184300</td>\n",
       "      <td>19000</td>\n",
       "      <td>0</td>\n",
       "    </tr>\n",
       "  </tbody>\n",
       "</table>\n",
       "</div>"
      ],
      "text/plain": [
       "   CO_ANO  CO_MES    CO_NCM  CO_UNID  CO_PAIS SG_UF_NCM  CO_VIA  CO_URF  \\\n",
       "0    1997       1  31010000       10      386        SP       1  817800   \n",
       "1    1997       1  31010000       10      573        SP       1  817800   \n",
       "2    1997       1  31021010       10      850        RR       7  260151   \n",
       "3    1997       1  31021090       10      850        RR       7  260151   \n",
       "4    1997       1  31022100       10       23        GO       1  817800   \n",
       "\n",
       "   QT_ESTAT  KG_LIQUIDO  VL_FOB  VL_FRETE  VL_SEGURO  \n",
       "0     15222       15222   34324      1323        177  \n",
       "1      1800       20000    7169      2638          0  \n",
       "2       640       32000    7360      1120          0  \n",
       "3     96000       96000   22080      3360          0  \n",
       "4   1900000     1900000  184300     19000          0  "
      ]
     },
     "execution_count": 8,
     "metadata": {},
     "output_type": "execute_result"
    }
   ],
   "source": [
    "# Cria leitor do arquivo principal em pedaços\n",
    "csv_reader=pd.read_csv('~/git/BD/Comexstat/IMP_COMPLETA.zip', sep=';', chunksize=1000000)\n",
    "\n",
    "# Prepara tabela para receber e concatenar os filtrados dos pedaços\n",
    "q=pd.DataFrame()\n",
    "\n",
    "# Lê, filtra e concatena cada pedaço\n",
    "for chunk in csv_reader:\n",
    "    q=pd.concat([q, chunk[chunk.CO_NCM.isin(ncm_fert)]])\n",
    "\n",
    "# Ordena os dados\n",
    "imp1=q.sort_values(by=q.columns.to_list()).reset_index(drop=True)\n",
    "\n",
    "directory = '~/git/Pricing-Fertilizer-take-Rains-into-account/temp/'\n",
    "\n",
    "# Expand the user path (if '~' is used)\n",
    "expanded_directory = os.path.expanduser(directory)\n",
    "\n",
    "# Check if the directory exists\n",
    "if not os.path.exists(expanded_directory):\n",
    "    # Create the directory if it doesn't exist\n",
    "    os.makedirs(expanded_directory)\n",
    "\n",
    "\n",
    "# Salva o resultado\n",
    "imp1.to_csv('~/git/Pricing-Fertilizer-take-Rains-into-account/temp/imp1.csv', index=False)\n",
    "\n",
    "imp1.head()"
   ]
  },
  {
   "cell_type": "markdown",
   "id": "69ee12c7-532e-4708-b8e7-b538a90ed95b",
   "metadata": {},
   "source": [
    "### 2. Chuva"
   ]
  },
  {
   "cell_type": "markdown",
   "id": "2ccd857e-a971-4a44-be2c-d21a30b8cbb1",
   "metadata": {},
   "source": [
    "O [INMET](https://portal.inmet.gov.br/) - Instituto Nacional de Meteorologia, subordinado ao Ministério da Agricultura e Pecuária, disponibilisa no site os dados históricos de chuvas em estações meteorológicas automáticas em todos os estados brasileiro.\n",
    "\n",
    "Os arquivos compactados foram baixados do site e salvos localmente em:  \n",
    "* '~/git/BD/Inmet/'\n",
    "\n",
    "No Estado da Bahia exitem várias dessas estações automáticas, na capital e no interior.\n",
    "\n",
    "Para selecionar as estações do INMET que mais se correlacionem com a importação de fertilizantes, é necessário identificar os municípios com maior intensidade da agricultura:\n",
    "\n",
    "Rank dos Municípios com Maior Área Plantada no Estado da Bahia no ano 2022(Fonte: IBGE):\n",
    "São Desidério (BA)\n",
    "Formosa do Rio Preto (BA)\n",
    "Correntina (BA)\n",
    "Barreiras (BA)\n",
    "Luís Eduardo Magalhães (BA)\n",
    "Riachão das Neves (BA)\n",
    "Jaborandi (BA)\n",
    "\n",
    "Comparando o rank acima com as estações meteorológicas listadas pelo INMET, identificamos as seguintes estações de interesse do projeto:  \n",
    "\n",
    "Estações de interesse: \n",
    "* FORMOSA DO RIO PRETO\n",
    "* CORRENTINA\n",
    "* LUIS EDUARDO MAGALHÃES\n",
    "* BARREIRAS\n",
    "\n",
    "\n",
    "\n",
    "> **Nota em relação ao Github:** Os arquivos salvos **nesta fase** são maiores do que o tamanho aceito em minha conta, e por isso eles serão ignorados e não disponibilizados."
   ]
  },
  {
   "cell_type": "markdown",
   "id": "1522d059-a105-48d3-a88d-c734fdb383a2",
   "metadata": {},
   "source": [
    "Filtra arquivos do INMET relacionados as localidades baianas acima listadas e salva localmente"
   ]
  },
  {
   "cell_type": "code",
   "execution_count": 9,
   "id": "e190b62b-bbeb-46b3-8386-40b1be8c327b",
   "metadata": {},
   "outputs": [
    {
     "name": "stdout",
     "output_type": "stream",
     "text": [
      "Transferência concluída. Arquivos filtrados foram salvos em: /home/andre301267/git/Pricing-Fertilizer-take-Rains-into-account/temp/chuvas/\n"
     ]
    }
   ],
   "source": [
    "# Carrega biblioteca adcional\n",
    "import shutil\n",
    "import zipfile\n",
    "\n",
    "# Pasta com os arquivos zipados\n",
    "pasta_zip = '/home/andre301267/git/BD/Inmet/'\n",
    "\n",
    "# Pasta de destino para os arquivos CSV filtrados no ambiente Linux\n",
    "pasta_destino_linux = os.path.expanduser('~/git/Pricing-Fertilizer-take-Rains-into-account/temp/chuvas/')\n",
    "\n",
    "# Alternativas a serem verificadas no nome do arquivo\n",
    "alternativas = ['FORMOSA', 'CORRENTINA', 'EDUARDO', 'BARREIRAS']\n",
    "\n",
    "# Certifique-se de que a pasta de destino exista ou crie-a\n",
    "if not os.path.exists(pasta_destino_linux):\n",
    "    os.makedirs(pasta_destino_linux)\n",
    "\n",
    "# Itera sobre os arquivos na pasta_zip\n",
    "for nome_arquivo in os.listdir(pasta_zip):\n",
    "    caminho_arquivo_zip = os.path.join(pasta_zip, nome_arquivo)\n",
    "\n",
    "    # Verifica se é um arquivo zip\n",
    "    if nome_arquivo.lower().endswith('.zip'):\n",
    "        # Extrai o conteúdo diretamente para a pasta de destino\n",
    "        with zipfile.ZipFile(caminho_arquivo_zip, 'r') as zip_ref:\n",
    "            for arquivo in zip_ref.namelist():\n",
    "                if any(alternativa in arquivo for alternativa in alternativas) and \"_BA_\" in arquivo and arquivo.lower().endswith('.csv'):\n",
    "                    # Constrói o caminho de destino de forma mais simplificada, sem o sufixo \"copiado_\"\n",
    "                    nome_destino = f\"{os.path.splitext(os.path.basename(arquivo))[0]}.CSV\"\n",
    "                    caminho_destino = os.path.join(pasta_destino_linux, nome_destino)\n",
    "\n",
    "                    with open(caminho_destino, 'wb') as destino, zip_ref.open(arquivo) as origem:\n",
    "                        shutil.copyfileobj(origem, destino)\n",
    "\n",
    "print(\"Transferência concluída. Arquivos filtrados foram salvos em:\", pasta_destino_linux)\n"
   ]
  },
  {
   "cell_type": "code",
   "execution_count": 10,
   "id": "d791ec29-3e42-4cbb-9e44-65da47b84386",
   "metadata": {},
   "outputs": [
    {
     "name": "stdout",
     "output_type": "stream",
     "text": [
      "DataFrame Parte 1:\n"
     ]
    },
    {
     "data": {
      "text/html": [
       "<div>\n",
       "<style scoped>\n",
       "    .dataframe tbody tr th:only-of-type {\n",
       "        vertical-align: middle;\n",
       "    }\n",
       "\n",
       "    .dataframe tbody tr th {\n",
       "        vertical-align: top;\n",
       "    }\n",
       "\n",
       "    .dataframe thead th {\n",
       "        text-align: right;\n",
       "    }\n",
       "</style>\n",
       "<table border=\"1\" class=\"dataframe\">\n",
       "  <thead>\n",
       "    <tr style=\"text-align: right;\">\n",
       "      <th></th>\n",
       "      <th>UF:</th>\n",
       "      <th>ESTAÇÃO:</th>\n",
       "      <th>CODIGO (WMO):</th>\n",
       "      <th>LATITUDE:</th>\n",
       "      <th>LONGITUDE:</th>\n",
       "    </tr>\n",
       "  </thead>\n",
       "  <tbody>\n",
       "    <tr>\n",
       "      <th>1</th>\n",
       "      <td>BA</td>\n",
       "      <td>BARREIRAS</td>\n",
       "      <td>A402</td>\n",
       "      <td>-12,15</td>\n",
       "      <td>-45,01666666</td>\n",
       "    </tr>\n",
       "    <tr>\n",
       "      <th>2</th>\n",
       "      <td>BA</td>\n",
       "      <td>LUIZ EDUARDO MAGALHAES</td>\n",
       "      <td>A404</td>\n",
       "      <td>-12,15222222</td>\n",
       "      <td>-45,82972221</td>\n",
       "    </tr>\n",
       "    <tr>\n",
       "      <th>3</th>\n",
       "      <td>BA</td>\n",
       "      <td>CORRENTINA</td>\n",
       "      <td>A416</td>\n",
       "      <td>-13,33222221</td>\n",
       "      <td>-44,61722221</td>\n",
       "    </tr>\n",
       "    <tr>\n",
       "      <th>4</th>\n",
       "      <td>BA</td>\n",
       "      <td>FORMOSA DO RIO PRETO</td>\n",
       "      <td>A452</td>\n",
       "      <td>-11,05222222</td>\n",
       "      <td>-45,20083333</td>\n",
       "    </tr>\n",
       "  </tbody>\n",
       "</table>\n",
       "</div>"
      ],
      "text/plain": [
       "0 UF:                ESTAÇÃO: CODIGO (WMO):     LATITUDE:    LONGITUDE:\n",
       "1  BA               BARREIRAS          A402        -12,15  -45,01666666\n",
       "2  BA  LUIZ EDUARDO MAGALHAES          A404  -12,15222222  -45,82972221\n",
       "3  BA              CORRENTINA          A416  -13,33222221  -44,61722221\n",
       "4  BA    FORMOSA DO RIO PRETO          A452  -11,05222222  -45,20083333"
      ]
     },
     "metadata": {},
     "output_type": "display_data"
    },
    {
     "name": "stdout",
     "output_type": "stream",
     "text": [
      "\n",
      "DataFrame Parte 2:\n"
     ]
    },
    {
     "data": {
      "text/html": [
       "<div>\n",
       "<style scoped>\n",
       "    .dataframe tbody tr th:only-of-type {\n",
       "        vertical-align: middle;\n",
       "    }\n",
       "\n",
       "    .dataframe tbody tr th {\n",
       "        vertical-align: top;\n",
       "    }\n",
       "\n",
       "    .dataframe thead th {\n",
       "        text-align: right;\n",
       "    }\n",
       "</style>\n",
       "<table border=\"1\" class=\"dataframe\">\n",
       "  <thead>\n",
       "    <tr style=\"text-align: right;\">\n",
       "      <th></th>\n",
       "      <th>DATA (YYYY-MM-DD)</th>\n",
       "      <th>HORA (UTC)</th>\n",
       "      <th>PRECIPITAÇÃO TOTAL, HORÁRIO (mm)</th>\n",
       "      <th>PRESSAO ATMOSFERICA AO NIVEL DA ESTACAO, HORARIA (mB)</th>\n",
       "      <th>PRESSÃO ATMOSFERICA MAX.NA HORA ANT. (AUT) (mB)</th>\n",
       "      <th>PRESSÃO ATMOSFERICA MIN. NA HORA ANT. (AUT) (mB)</th>\n",
       "      <th>RADIACAO GLOBAL (KJ/m²)</th>\n",
       "      <th>TEMPERATURA DO AR - BULBO SECO, HORARIA (°C)</th>\n",
       "      <th>TEMPERATURA DO PONTO DE ORVALHO (°C)</th>\n",
       "      <th>TEMPERATURA MÁXIMA NA HORA ANT. (AUT) (°C)</th>\n",
       "      <th>...</th>\n",
       "      <th>UMIDADE REL. MIN. NA HORA ANT. (AUT) (%)</th>\n",
       "      <th>UMIDADE RELATIVA DO AR, HORARIA (%)</th>\n",
       "      <th>VENTO, DIREÇÃO HORARIA (gr) (° (gr))</th>\n",
       "      <th>VENTO, RAJADA MAXIMA (m/s)</th>\n",
       "      <th>VENTO, VELOCIDADE HORARIA (m/s)</th>\n",
       "      <th>Unnamed: 19</th>\n",
       "      <th>Estação</th>\n",
       "      <th>Data</th>\n",
       "      <th>Hora UTC</th>\n",
       "      <th>RADIACAO GLOBAL (Kj/m²)</th>\n",
       "    </tr>\n",
       "  </thead>\n",
       "  <tbody>\n",
       "    <tr>\n",
       "      <th>0</th>\n",
       "      <td>2002-01-01</td>\n",
       "      <td>00:00</td>\n",
       "      <td>0</td>\n",
       "      <td>960,2</td>\n",
       "      <td>960,2</td>\n",
       "      <td>959,5</td>\n",
       "      <td>-9999</td>\n",
       "      <td>22,6</td>\n",
       "      <td>20,5</td>\n",
       "      <td>22,9</td>\n",
       "      <td>...</td>\n",
       "      <td>86.0</td>\n",
       "      <td>88.0</td>\n",
       "      <td>68</td>\n",
       "      <td>2,8</td>\n",
       "      <td>1,5</td>\n",
       "      <td>NaN</td>\n",
       "      <td>BARREIRAS</td>\n",
       "      <td>NaN</td>\n",
       "      <td>NaN</td>\n",
       "      <td>NaN</td>\n",
       "    </tr>\n",
       "    <tr>\n",
       "      <th>1</th>\n",
       "      <td>2002-01-01</td>\n",
       "      <td>01:00</td>\n",
       "      <td>0</td>\n",
       "      <td>960,1</td>\n",
       "      <td>960,3</td>\n",
       "      <td>960,1</td>\n",
       "      <td>-9999</td>\n",
       "      <td>22,4</td>\n",
       "      <td>20,7</td>\n",
       "      <td>22,7</td>\n",
       "      <td>...</td>\n",
       "      <td>88.0</td>\n",
       "      <td>90.0</td>\n",
       "      <td>44</td>\n",
       "      <td>3,2</td>\n",
       "      <td>1,9</td>\n",
       "      <td>NaN</td>\n",
       "      <td>BARREIRAS</td>\n",
       "      <td>NaN</td>\n",
       "      <td>NaN</td>\n",
       "      <td>NaN</td>\n",
       "    </tr>\n",
       "  </tbody>\n",
       "</table>\n",
       "<p>2 rows × 24 columns</p>\n",
       "</div>"
      ],
      "text/plain": [
       "  DATA (YYYY-MM-DD) HORA (UTC) PRECIPITAÇÃO TOTAL, HORÁRIO (mm)  \\\n",
       "0        2002-01-01      00:00                                0   \n",
       "1        2002-01-01      01:00                                0   \n",
       "\n",
       "  PRESSAO ATMOSFERICA AO NIVEL DA ESTACAO, HORARIA (mB)  \\\n",
       "0                                              960,2      \n",
       "1                                              960,1      \n",
       "\n",
       "  PRESSÃO ATMOSFERICA MAX.NA HORA ANT. (AUT) (mB)  \\\n",
       "0                                           960,2   \n",
       "1                                           960,3   \n",
       "\n",
       "  PRESSÃO ATMOSFERICA MIN. NA HORA ANT. (AUT) (mB) RADIACAO GLOBAL (KJ/m²)  \\\n",
       "0                                            959,5                   -9999   \n",
       "1                                            960,1                   -9999   \n",
       "\n",
       "  TEMPERATURA DO AR - BULBO SECO, HORARIA (°C)  \\\n",
       "0                                         22,6   \n",
       "1                                         22,4   \n",
       "\n",
       "  TEMPERATURA DO PONTO DE ORVALHO (°C)  \\\n",
       "0                                 20,5   \n",
       "1                                 20,7   \n",
       "\n",
       "  TEMPERATURA MÁXIMA NA HORA ANT. (AUT) (°C)  ...  \\\n",
       "0                                       22,9  ...   \n",
       "1                                       22,7  ...   \n",
       "\n",
       "  UMIDADE REL. MIN. NA HORA ANT. (AUT) (%)  \\\n",
       "0                                     86.0   \n",
       "1                                     88.0   \n",
       "\n",
       "  UMIDADE RELATIVA DO AR, HORARIA (%) VENTO, DIREÇÃO HORARIA (gr) (° (gr))  \\\n",
       "0                                88.0                                   68   \n",
       "1                                90.0                                   44   \n",
       "\n",
       "   VENTO, RAJADA MAXIMA (m/s)  VENTO, VELOCIDADE HORARIA (m/s)  Unnamed: 19  \\\n",
       "0                         2,8                              1,5          NaN   \n",
       "1                         3,2                              1,9          NaN   \n",
       "\n",
       "     Estação Data Hora UTC  RADIACAO GLOBAL (Kj/m²)  \n",
       "0  BARREIRAS  NaN      NaN                      NaN  \n",
       "1  BARREIRAS  NaN      NaN                      NaN  \n",
       "\n",
       "[2 rows x 24 columns]"
      ]
     },
     "metadata": {},
     "output_type": "display_data"
    }
   ],
   "source": [
    "# Diretório dos arquivos\n",
    "diretorio = '/home/andre301267/git/Pricing-Fertilizer-take-Rains-into-account/temp/chuvas/'\n",
    "\n",
    "# Lista para armazenar os DataFrames\n",
    "df_parte1 = pd.DataFrame()\n",
    "df_parte2 = pd.DataFrame()\n",
    "\n",
    "# Iterar sobre os arquivos no diretório\n",
    "for arquivo in os.listdir(diretorio):\n",
    "    if arquivo.endswith('.CSV'):  # Certifique-se de que estamos lidando apenas com arquivos de texto\n",
    "        caminho_arquivo = os.path.join(diretorio, arquivo)\n",
    "\n",
    "        # Ler as primeiras 8 linhas\n",
    "        parte1 = pd.read_csv(caminho_arquivo, nrows=7,sep=';',encoding='Latin-1')\n",
    "       # print(parte1)\n",
    "\n",
    "        # Ler a partir da linha 9\n",
    "        parte2 = pd.read_csv(caminho_arquivo, skiprows=8,sep=';',encoding='Latin-1').assign(Estação=parte1.iloc[1,1])\n",
    "\n",
    "        # Adicionar DataFrames às listas\n",
    "        df_parte1=pd.concat([df_parte1,parte1],axis=1)\n",
    "        df_parte2=pd.concat([df_parte2,parte2])\n",
    "\n",
    "# Formata arquivo contendo ID das estações\n",
    "df_parte1=df_parte1.transpose().drop(columns=[5,6]).drop_duplicates(subset=[1]).drop_duplicates(subset=[2])\\\n",
    ".reset_index(drop=True)\n",
    "\n",
    "df_parte1.columns=df_parte1.iloc[0]\n",
    "\n",
    "df_parte1=df_parte1.iloc[1:]\n",
    "\n",
    "df_parte1.to_csv('/home/andre301267/git/Pricing-Fertilizer-take-Rains-into-account/temp/estações.csv',index=False)\n",
    "df_parte2.to_csv('/home/andre301267/git/Pricing-Fertilizer-take-Rains-into-account/temp/chuvas1.csv',index=False)\n",
    "\n",
    "# Exibir os DataFrames\n",
    "print(\"DataFrame Parte 1:\")\n",
    "display(df_parte1)\n",
    "\n",
    "print(\"\\nDataFrame Parte 2:\")\n",
    "display(df_parte2.head(2))"
   ]
  },
  {
   "cell_type": "markdown",
   "id": "1952b9c0-15a8-4461-94fe-ed4088442e64",
   "metadata": {},
   "source": [
    "Remove o diretório com os arquivos extraídos e ainda separados sobre chuvas"
   ]
  },
  {
   "cell_type": "code",
   "execution_count": 11,
   "id": "04f075eb-25af-4c60-871a-92772d8d6aa4",
   "metadata": {},
   "outputs": [
    {
     "name": "stdout",
     "output_type": "stream",
     "text": [
      "O diretório '/home/andre301267/git/Pricing-Fertilizer-take-Rains-into-account/temp/chuvas/' e todo o seu conteúdo foram removidos com sucesso.\n"
     ]
    }
   ],
   "source": [
    "import shutil\n",
    "\n",
    "diretorio = '/home/andre301267/git/Pricing-Fertilizer-take-Rains-into-account/temp/chuvas/'\n",
    "\n",
    "try:\n",
    "    shutil.rmtree(diretorio)\n",
    "    print(f\"O diretório '{diretorio}' e todo o seu conteúdo foram removidos com sucesso.\")\n",
    "except OSError as e:\n",
    "    print(f\"Falha ao remover o diretório '{diretorio}': {e}\")\n"
   ]
  },
  {
   "cell_type": "code",
   "execution_count": null,
   "id": "ca002ade-b251-4962-8f1d-c93401c80921",
   "metadata": {},
   "outputs": [],
   "source": []
  }
 ],
 "metadata": {
  "kernelspec": {
   "display_name": "Python 3 (ipykernel)",
   "language": "python",
   "name": "python3"
  },
  "language_info": {
   "codemirror_mode": {
    "name": "ipython",
    "version": 3
   },
   "file_extension": ".py",
   "mimetype": "text/x-python",
   "name": "python",
   "nbconvert_exporter": "python",
   "pygments_lexer": "ipython3",
   "version": "3.11.5"
  }
 },
 "nbformat": 4,
 "nbformat_minor": 5
}
