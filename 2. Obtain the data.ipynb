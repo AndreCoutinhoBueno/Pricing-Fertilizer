{
 "cells": [
  {
   "cell_type": "markdown",
   "id": "5aefd71e-0f0e-4d85-9502-100da0e471d5",
   "metadata": {},
   "source": [
    "### 1. Importação de Fertilizantes do Estado da Bahia\n",
    "\n",
    "O site [Comexstat](http://comexstat.mdic.gov.br/pt/geral), portal para acesso gratuito às estatísticas de comércio exterior do Brasil, disponibiliza arquivos que apresentam todos os dados utilizados para construção da balança comercial brasileira, detalhados por NCM ou por Municípios do exportador/importador. \n",
    "\n",
    "O site informa que os dados estão disponíveis em arquivos compatados que contém arquivos CSV, utilizando como separador o ponto e vírgula (;), e com os nomes das colunas na primeira linha. \n",
    "\n",
    "Para esse projeto, o interesse esta sobre a base de dados denominada IMP_COMPLETA.zip, que contém histórico mensal das importações detalhadas por produto (código NCM), Unidade Federativa importadora, ano, mês, país de origem, quilograma líquido, valor dólar FOB (US$) e outras.\n",
    "\n",
    "Para aproveitamento completo dos arquivos de dados, será necessário baixar e utilizar as Tabelas Auxiliares contendo a \"Correlações de Códigos e Classificações\". \n",
    "\n",
    "O arquivo principal e as tabelas auxiliares foram baixadas e salvas localmente na pasta '~/git/BD/Comexstat/'."
   ]
  },
  {
   "cell_type": "markdown",
   "id": "6cd6eb3a-f617-4165-8db7-10b9d3e8aa02",
   "metadata": {},
   "source": [
    "**Nota em relação ao Github:** Os arquivos salvos **nesta fase** são maiores do que o tamanho aceito em minha conta, e por isso eles serão ignorados e não disponibilizados."
   ]
  },
  {
   "cell_type": "markdown",
   "id": "0ebd4ae2-1901-42d9-b51c-0dfe114e42e7",
   "metadata": {},
   "source": [
    "> O objtivo do projeto é prever importações de fertilizantes identificados da forma mais esecífica possível. \n",
    ">\n",
    "> No arquivo completo de importações do Brasil, a identificação mais específica é a Nomenclatura Comum do Mercosul (NCM).\n",
    ">\n",
    "> Para identificarmos no arquivo os NCMs relacionados aos fertilizantes, iremos identificar primeiro as categorias mais amplas, até chegarmos ao NCM.\n",
    ">\n",
    "> As categorias mais amplas de identificação de produtos é denominada SH(Sistema Harmonizado) é é por ela que vamos começar."
   ]
  },
  {
   "cell_type": "code",
   "execution_count": 2,
   "id": "e96c3ee6-0a56-46cf-aa8f-586a779aea33",
   "metadata": {},
   "outputs": [],
   "source": [
    "# Importa as bibliotecas necessárias\n",
    "%run '~/git/Bibliotecas.ipynb'"
   ]
  },
  {
   "cell_type": "code",
   "execution_count": 3,
   "id": "7acd7896-e04b-4fef-a0b1-da630eb751ee",
   "metadata": {},
   "outputs": [
    {
     "data": {
      "text/html": [
       "<div>\n",
       "<style scoped>\n",
       "    .dataframe tbody tr th:only-of-type {\n",
       "        vertical-align: middle;\n",
       "    }\n",
       "\n",
       "    .dataframe tbody tr th {\n",
       "        vertical-align: top;\n",
       "    }\n",
       "\n",
       "    .dataframe thead th {\n",
       "        text-align: right;\n",
       "    }\n",
       "</style>\n",
       "<table border=\"1\" class=\"dataframe\">\n",
       "  <thead>\n",
       "    <tr style=\"text-align: right;\">\n",
       "      <th></th>\n",
       "      <th>CO_SH6</th>\n",
       "      <th>NO_SH6_POR</th>\n",
       "      <th>NO_SH6_ESP</th>\n",
       "      <th>NO_SH6_ING</th>\n",
       "      <th>CO_SH4</th>\n",
       "      <th>NO_SH4_POR</th>\n",
       "      <th>NO_SH4_ESP</th>\n",
       "      <th>NO_SH4_ING</th>\n",
       "      <th>CO_SH2</th>\n",
       "      <th>NO_SH2_POR</th>\n",
       "      <th>NO_SH2_ESP</th>\n",
       "      <th>NO_SH2_ING</th>\n",
       "      <th>CO_NCM_SECROM</th>\n",
       "      <th>NO_SEC_POR</th>\n",
       "      <th>NO_SEC_ESP</th>\n",
       "      <th>NO_SEC_ING</th>\n",
       "    </tr>\n",
       "  </thead>\n",
       "  <tbody>\n",
       "    <tr>\n",
       "      <th>0</th>\n",
       "      <td>10110</td>\n",
       "      <td>Animais vivos das espécies cavalar, asinina e ...</td>\n",
       "      <td>Caballos y asnos, reproductores de raza pura</td>\n",
       "      <td>Pure-bred breeding horses and asses</td>\n",
       "      <td>101</td>\n",
       "      <td>Cavalos, asininos e muares, vivos</td>\n",
       "      <td>Caballos, asnos, mulos y burdéganos, vivos</td>\n",
       "      <td>Live horses, asses, mules and hinnies</td>\n",
       "      <td>1</td>\n",
       "      <td>Animais vivos</td>\n",
       "      <td>Animales vivos</td>\n",
       "      <td>Live animals</td>\n",
       "      <td>I</td>\n",
       "      <td>Animais vivos e produtos do reino animal</td>\n",
       "      <td>Animales vivos y productos del reino animal</td>\n",
       "      <td>Lives animals; Animal products</td>\n",
       "    </tr>\n",
       "  </tbody>\n",
       "</table>\n",
       "</div>"
      ],
      "text/plain": [
       "   CO_SH6                                         NO_SH6_POR  \\\n",
       "0   10110  Animais vivos das espécies cavalar, asinina e ...   \n",
       "\n",
       "                                     NO_SH6_ESP  \\\n",
       "0  Caballos y asnos, reproductores de raza pura   \n",
       "\n",
       "                            NO_SH6_ING  CO_SH4  \\\n",
       "0  Pure-bred breeding horses and asses     101   \n",
       "\n",
       "                          NO_SH4_POR  \\\n",
       "0  Cavalos, asininos e muares, vivos   \n",
       "\n",
       "                                   NO_SH4_ESP  \\\n",
       "0  Caballos, asnos, mulos y burdéganos, vivos   \n",
       "\n",
       "                              NO_SH4_ING  CO_SH2     NO_SH2_POR  \\\n",
       "0  Live horses, asses, mules and hinnies       1  Animais vivos   \n",
       "\n",
       "       NO_SH2_ESP    NO_SH2_ING CO_NCM_SECROM  \\\n",
       "0  Animales vivos  Live animals             I   \n",
       "\n",
       "                                 NO_SEC_POR  \\\n",
       "0  Animais vivos e produtos do reino animal   \n",
       "\n",
       "                                    NO_SEC_ESP                      NO_SEC_ING  \n",
       "0  Animales vivos y productos del reino animal  Lives animals; Animal products  "
      ]
     },
     "execution_count": 3,
     "metadata": {},
     "output_type": "execute_result"
    }
   ],
   "source": [
    "sh=pd.read_csv('~/git/BD/Comexstat/NCM_SH.csv',sep=';',encoding='Latin-1')\n",
    "sh.head(1)"
   ]
  },
  {
   "cell_type": "markdown",
   "id": "4395f36f-fccb-44f1-9b3b-d662b58806fa",
   "metadata": {},
   "source": [
    "> Pode-se ver que a coluna CO_SH2 apresenta o código mais abrangente. Ainda pode-se ver que na coluna NO_SH2_POR existe o nome da categoria em português.\n",
    ">\n",
    "> Identifica-se a seguir qual SH2 tem a palavra \"fertilizante\" incluída no nome."
   ]
  },
  {
   "cell_type": "code",
   "execution_count": 5,
   "id": "626aa747-50e7-47f4-925c-035b5316d1c4",
   "metadata": {},
   "outputs": [
    {
     "data": {
      "text/plain": [
       "array([31])"
      ]
     },
     "execution_count": 5,
     "metadata": {},
     "output_type": "execute_result"
    }
   ],
   "source": [
    "# Identifica qual nome de categoria apresenta a palavra \"fertilizante\"\n",
    "sh2_fert=sh[sh.NO_SH2_POR.str.contains('fertilizante')]['CO_SH2'].unique()\n",
    "sh2_fert"
   ]
  },
  {
   "cell_type": "markdown",
   "id": "ccb10623-5e5d-4924-be95-6656361b617d",
   "metadata": {},
   "source": [
    "> Só um SH2 (31) possui 'fertilizante' no nome. Guardaremos o código dele a seguir:"
   ]
  },
  {
   "cell_type": "code",
   "execution_count": 6,
   "id": "21a4a47b-a272-4aaf-92a3-a3129c1351b0",
   "metadata": {},
   "outputs": [],
   "source": [
    "# Identifica o código da única categoria 'fertilizante'\n",
    "sh2_fert=sh2_fert[0]"
   ]
  },
  {
   "cell_type": "markdown",
   "id": "2df66d28-8409-46ce-bafa-b21842d467c2",
   "metadata": {},
   "source": [
    ">  Nessa mesma tabela, o código mais específico é o SH6, e os que são relacionados ao SH2 dos fertilizantes serão listados a seguir:"
   ]
  },
  {
   "cell_type": "code",
   "execution_count": 7,
   "id": "5ad897b9-e574-44a6-b71e-298c81f586c0",
   "metadata": {},
   "outputs": [
    {
     "data": {
      "text/plain": [
       "array([310100, 310210, 310221, 310229, 310230, 310240, 310250, 310260,\n",
       "       310270, 310280, 310290, 310310, 310311, 310319, 310320, 310390,\n",
       "       310410, 310420, 310430, 310490, 310510, 310520, 310530, 310540,\n",
       "       310551, 310559, 310560, 310590])"
      ]
     },
     "execution_count": 7,
     "metadata": {},
     "output_type": "execute_result"
    }
   ],
   "source": [
    "sh6_fert=sh[sh.CO_SH2==sh2_fert]['CO_SH6'].unique()\n",
    "sh6_fert"
   ]
  },
  {
   "cell_type": "markdown",
   "id": "7040dc7c-60c1-4b7a-9453-276f11baf8f2",
   "metadata": {},
   "source": [
    "> Passaremos agora para a próxima tabela, a tabela NCM.csv, e dela extrairemos a lista de NCMs que se relacionam com a lista de SH6 dos fertilizantes. "
   ]
  },
  {
   "cell_type": "code",
   "execution_count": 9,
   "id": "a602d8ab-39f1-4547-a4de-b5db829141e5",
   "metadata": {},
   "outputs": [
    {
     "data": {
      "text/plain": [
       "array([31053000, 31031100, 31031900, 31059011, 31059019, 31059090,\n",
       "       31031020, 31031030, 31032000, 31039011, 31053010, 31053090,\n",
       "       31054000, 31055100, 31055900, 31056000, 31010000, 31021010,\n",
       "       31021090, 31022100, 31022910, 31022990, 31023000, 31024000,\n",
       "       31025011, 31025019, 31025090, 31026000, 31027000, 31028000,\n",
       "       31029000, 31031010, 31039019, 31039090, 31041000, 31042010,\n",
       "       31042090, 31043010, 31043090, 31049010, 31049090, 31051000,\n",
       "       31052000])"
      ]
     },
     "execution_count": 9,
     "metadata": {},
     "output_type": "execute_result"
    }
   ],
   "source": [
    "ncm=pd.read_csv('~/git/BD/Comexstat/NCM.csv', sep=';',encoding='latin1')\n",
    "ncm_fert=ncm[ncm.CO_SH6.isin(sh6_fert)].CO_NCM.unique()\n",
    "ncm_fert"
   ]
  },
  {
   "cell_type": "markdown",
   "id": "09b221f8-0a13-45cb-880a-de8eb9024f84",
   "metadata": {},
   "source": [
    "Agora será extraido do arquivo principal (IMP_COMPLETA.csv) os registros relativos aos NCMs listados.\n",
    "\n",
    "As linhas filtradas serão concatenadas para formar o novo  **arquivo principal**, que em seguida será salvo no endereço '~/comex/data/imp1.csv'."
   ]
  },
  {
   "cell_type": "code",
   "execution_count": 14,
   "id": "6093c623-73fa-4390-bcc3-5567f6b634b4",
   "metadata": {},
   "outputs": [],
   "source": [
    "# Cria leitor do arquivo principal em pedaços\n",
    "csv_reader=pd.read_csv('~/git/BD/Comexstat/IMP_COMPLETA.zip', sep=';', chunksize=1000000)\n",
    "\n",
    "# Prepara tabela para receber e concatenar os filtrados dos pedaços\n",
    "q=pd.DataFrame()\n",
    "\n",
    "# Lê, filtra e concatena cada pedaço\n",
    "for chunk in csv_reader:\n",
    "    q=pd.concat([q, chunk[chunk.CO_NCM.isin(ncm_fert)]])\n",
    "\n",
    "# Ordena os dados\n",
    "imp1=q.sort_values(by=q.columns.to_list()).reset_index(drop=True)\n",
    "\n",
    "directory = '~/git/Pricing-Fertilizer-take-Rains-into-account/temp/'\n",
    "\n",
    "# Expand the user path (if '~' is used)\n",
    "expanded_directory = os.path.expanduser(directory)\n",
    "\n",
    "# Check if the directory exists\n",
    "if not os.path.exists(expanded_directory):\n",
    "    # Create the directory if it doesn't exist\n",
    "    os.makedirs(expanded_directory)\n",
    "\n",
    "\n",
    "# Salva o resultado\n",
    "imp1.to_csv('~/git/Pricing-Fertilizer-take-Rains-into-account/temp/imp1.csv', index=False)"
   ]
  },
  {
   "cell_type": "code",
   "execution_count": 16,
   "id": "37a30a73-d376-470e-81ac-bbb2ed85a566",
   "metadata": {},
   "outputs": [
    {
     "data": {
      "text/html": [
       "<div>\n",
       "<style scoped>\n",
       "    .dataframe tbody tr th:only-of-type {\n",
       "        vertical-align: middle;\n",
       "    }\n",
       "\n",
       "    .dataframe tbody tr th {\n",
       "        vertical-align: top;\n",
       "    }\n",
       "\n",
       "    .dataframe thead th {\n",
       "        text-align: right;\n",
       "    }\n",
       "</style>\n",
       "<table border=\"1\" class=\"dataframe\">\n",
       "  <thead>\n",
       "    <tr style=\"text-align: right;\">\n",
       "      <th></th>\n",
       "      <th>CO_ANO</th>\n",
       "      <th>CO_MES</th>\n",
       "      <th>CO_NCM</th>\n",
       "      <th>CO_UNID</th>\n",
       "      <th>CO_PAIS</th>\n",
       "      <th>SG_UF_NCM</th>\n",
       "      <th>CO_VIA</th>\n",
       "      <th>CO_URF</th>\n",
       "      <th>QT_ESTAT</th>\n",
       "      <th>KG_LIQUIDO</th>\n",
       "      <th>VL_FOB</th>\n",
       "      <th>VL_FRETE</th>\n",
       "      <th>VL_SEGURO</th>\n",
       "    </tr>\n",
       "  </thead>\n",
       "  <tbody>\n",
       "    <tr>\n",
       "      <th>0</th>\n",
       "      <td>1997</td>\n",
       "      <td>1</td>\n",
       "      <td>31010000</td>\n",
       "      <td>10</td>\n",
       "      <td>386</td>\n",
       "      <td>SP</td>\n",
       "      <td>1</td>\n",
       "      <td>817800</td>\n",
       "      <td>15222</td>\n",
       "      <td>15222</td>\n",
       "      <td>34324</td>\n",
       "      <td>1323</td>\n",
       "      <td>177</td>\n",
       "    </tr>\n",
       "    <tr>\n",
       "      <th>1</th>\n",
       "      <td>1997</td>\n",
       "      <td>1</td>\n",
       "      <td>31010000</td>\n",
       "      <td>10</td>\n",
       "      <td>573</td>\n",
       "      <td>SP</td>\n",
       "      <td>1</td>\n",
       "      <td>817800</td>\n",
       "      <td>1800</td>\n",
       "      <td>20000</td>\n",
       "      <td>7169</td>\n",
       "      <td>2638</td>\n",
       "      <td>0</td>\n",
       "    </tr>\n",
       "    <tr>\n",
       "      <th>2</th>\n",
       "      <td>1997</td>\n",
       "      <td>1</td>\n",
       "      <td>31021010</td>\n",
       "      <td>10</td>\n",
       "      <td>850</td>\n",
       "      <td>RR</td>\n",
       "      <td>7</td>\n",
       "      <td>260151</td>\n",
       "      <td>640</td>\n",
       "      <td>32000</td>\n",
       "      <td>7360</td>\n",
       "      <td>1120</td>\n",
       "      <td>0</td>\n",
       "    </tr>\n",
       "    <tr>\n",
       "      <th>3</th>\n",
       "      <td>1997</td>\n",
       "      <td>1</td>\n",
       "      <td>31021090</td>\n",
       "      <td>10</td>\n",
       "      <td>850</td>\n",
       "      <td>RR</td>\n",
       "      <td>7</td>\n",
       "      <td>260151</td>\n",
       "      <td>96000</td>\n",
       "      <td>96000</td>\n",
       "      <td>22080</td>\n",
       "      <td>3360</td>\n",
       "      <td>0</td>\n",
       "    </tr>\n",
       "    <tr>\n",
       "      <th>4</th>\n",
       "      <td>1997</td>\n",
       "      <td>1</td>\n",
       "      <td>31022100</td>\n",
       "      <td>10</td>\n",
       "      <td>23</td>\n",
       "      <td>GO</td>\n",
       "      <td>1</td>\n",
       "      <td>817800</td>\n",
       "      <td>1900000</td>\n",
       "      <td>1900000</td>\n",
       "      <td>184300</td>\n",
       "      <td>19000</td>\n",
       "      <td>0</td>\n",
       "    </tr>\n",
       "  </tbody>\n",
       "</table>\n",
       "</div>"
      ],
      "text/plain": [
       "   CO_ANO  CO_MES    CO_NCM  CO_UNID  CO_PAIS SG_UF_NCM  CO_VIA  CO_URF  \\\n",
       "0    1997       1  31010000       10      386        SP       1  817800   \n",
       "1    1997       1  31010000       10      573        SP       1  817800   \n",
       "2    1997       1  31021010       10      850        RR       7  260151   \n",
       "3    1997       1  31021090       10      850        RR       7  260151   \n",
       "4    1997       1  31022100       10       23        GO       1  817800   \n",
       "\n",
       "   QT_ESTAT  KG_LIQUIDO  VL_FOB  VL_FRETE  VL_SEGURO  \n",
       "0     15222       15222   34324      1323        177  \n",
       "1      1800       20000    7169      2638          0  \n",
       "2       640       32000    7360      1120          0  \n",
       "3     96000       96000   22080      3360          0  \n",
       "4   1900000     1900000  184300     19000          0  "
      ]
     },
     "execution_count": 16,
     "metadata": {},
     "output_type": "execute_result"
    }
   ],
   "source": [
    "imp1.head()"
   ]
  },
  {
   "cell_type": "markdown",
   "id": "69ee12c7-532e-4708-b8e7-b538a90ed95b",
   "metadata": {},
   "source": [
    "### 2. Volume de Chuva"
   ]
  },
  {
   "cell_type": "markdown",
   "id": "7a31300c-0852-4d6e-a935-9a4eebd8f6f6",
   "metadata": {},
   "source": [
    "O [INMET](https://portal.inmet.gov.br/) disponibliza banco de dados meteorológicos, capturados por estações automáticas espalhadas estratégicamente em regiões de interesse do Brasil.\n",
    "\n",
    "Os arquivos foram baixados e salvos em:  \n",
    "\n",
    "* '~/git/BD/Inmet/'"
   ]
  }
 ],
 "metadata": {
  "kernelspec": {
   "display_name": "Python 3 (ipykernel)",
   "language": "python",
   "name": "python3"
  },
  "language_info": {
   "codemirror_mode": {
    "name": "ipython",
    "version": 3
   },
   "file_extension": ".py",
   "mimetype": "text/x-python",
   "name": "python",
   "nbconvert_exporter": "python",
   "pygments_lexer": "ipython3",
   "version": "3.11.5"
  }
 },
 "nbformat": 4,
 "nbformat_minor": 5
}
