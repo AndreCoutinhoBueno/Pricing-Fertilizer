{
 "cells": [
  {
   "cell_type": "code",
   "execution_count": 1,
   "id": "ba21f708-b103-4f9f-92d6-5d578e9f2d0f",
   "metadata": {},
   "outputs": [],
   "source": [
    "import requests\n",
    "from bs4 import BeautifulSoup\n",
    "\n",
    "# URL da página web que você quer extrair as imagens\n",
    "url = 'https://anda.org.br/pesquisa_setorial/'\n",
    "\n",
    "# Faz a requisição para obter o conteúdo da página\n",
    "response = requests.get(url)\n",
    "response.raise_for_status()  # Verifica se a requisição foi bem-sucedida\n",
    "\n",
    "# Analisa o conteúdo HTML da página\n",
    "soup = BeautifulSoup(response.text, 'html.parser')\n",
    "\n",
    "# Encontra todas as tags <img> na página\n",
    "imagens = soup.find_all('img')\n",
    "\n",
    "# Lista para armazenar os URLs das imagens\n",
    "urls_imagens = []\n",
    "\n",
    "# Itera sobre as tags <img> e salva os URLs em uma lista\n",
    "for img in imagens:\n",
    "    url_imagem = img.get('src')\n",
    "    if url_imagem:\n",
    "        urls_imagens.append(url_imagem)\n",
    "\n",
    "from datetime import datetime\n",
    "\n",
    "# Obtém o ano corrente\n",
    "ano_corrente = datetime.now().year\n",
    "\n",
    "for x in urls_imagens:\n",
    "    if str(ano_corrente) in x:\n",
    "        url=x"
   ]
  },
  {
   "cell_type": "code",
   "execution_count": 2,
   "id": "44ab1cac-f121-4650-87ad-795ac2200021",
   "metadata": {},
   "outputs": [],
   "source": [
    "from PIL import Image\n",
    "from io import BytesIO\n",
    "\n",
    "# Faz a requisição para obter a imagem\n",
    "response = requests.get(url)\n",
    "response.raise_for_status()  # Verifica se a requisição foi bem-sucedida\n",
    "\n",
    "# Carrega a imagem a partir dos bytes recebidos\n",
    "imagem = Image.open(BytesIO(response.content))"
   ]
  },
  {
   "cell_type": "code",
   "execution_count": 3,
   "id": "e1f50dd1-0723-48c3-a3fe-84a6dbf45fcf",
   "metadata": {},
   "outputs": [],
   "source": [
    "# Salva a imagem localmente (opcional)\n",
    "imagem.save('imagem_baixada.png')"
   ]
  }
 ],
 "metadata": {
  "kernelspec": {
   "display_name": "Python 3 (ipykernel)",
   "language": "python",
   "name": "python3"
  },
  "language_info": {
   "codemirror_mode": {
    "name": "ipython",
    "version": 3
   },
   "file_extension": ".py",
   "mimetype": "text/x-python",
   "name": "python",
   "nbconvert_exporter": "python",
   "pygments_lexer": "ipython3",
   "version": "3.11.2"
  }
 },
 "nbformat": 4,
 "nbformat_minor": 5
}
