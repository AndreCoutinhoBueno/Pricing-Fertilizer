{
 "cells": [
  {
   "cell_type": "code",
   "execution_count": null,
   "id": "ba5bcd20-188c-467e-acf7-4926e194d846",
   "metadata": {},
   "outputs": [],
   "source": [
    "import numpy as np\n",
    "import pandas as pd"
   ]
  },
  {
   "cell_type": "code",
   "execution_count": null,
   "id": "f0289bb3-9f8a-4e0d-b76d-c9f540f46e98",
   "metadata": {},
   "outputs": [],
   "source": [
    "# Matriz esparsa\n",
    "imp_fert.insert(0,'date',pd.to_datetime(imp_fert.CO_ANO.astype(str)+'-'+imp_fert.CO_MES.astype(str)+'-1'))\n",
    "date_ini=imp_fert.date.min()\n",
    "date_fim=imp_fert.date.max()\n",
    "ano_ini=imp_fert.CO_ANO.min()\n",
    "ano_fim=imp_fert.CO_ANO.max()\n",
    "anos=np.arange(ano_ini,ano_fim+1)\n",
    "anos=pd.DataFrame({'CO_ANO':anos,'key':0})\n",
    "meses=pd.DataFrame({'CO_MES':mes_sel,'key':0})\n",
    "datas=anos.merge(meses,how='outer').drop(columns='key')\n",
    "datas=datas.assign(date=pd.to_datetime(datas.CO_ANO.astype(str)+'/'+datas.CO_MES.astype(str)+'/1'))\n",
    "datas[(datas.date>=date_ini)&(datas.date<=date_fim)]\n",
    "ncms=pd.DataFrame({'CO_NCM':imp_fert.CO_NCM.unique(), 'key':0})\n",
    "ufs=pd.DataFrame({'SG_UF_NCM':imp_fert.SG_UF_NCM.unique(), 'key':0})\n",
    "\n",
    "imp_fert=datas.merge(ncms,how='outer').merge(ufs,how='outer').merge(imp_fert,how='outer').fillna(0)\n",
    "display(imp_fert)"
   ]
  }
 ],
 "metadata": {
  "kernelspec": {
   "display_name": "Python 3 (ipykernel)",
   "language": "python",
   "name": "python3"
  },
  "language_info": {
   "codemirror_mode": {
    "name": "ipython",
    "version": 3
   },
   "file_extension": ".py",
   "mimetype": "text/x-python",
   "name": "python",
   "nbconvert_exporter": "python",
   "pygments_lexer": "ipython3",
   "version": "3.11.2"
  }
 },
 "nbformat": 4,
 "nbformat_minor": 5
}
