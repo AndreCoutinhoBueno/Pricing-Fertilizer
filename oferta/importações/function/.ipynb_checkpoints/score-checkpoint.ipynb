{
 "cells": [
  {
   "cell_type": "code",
   "execution_count": 1,
   "id": "873779fb-8bed-4d1c-bf9f-4aa879f076bd",
   "metadata": {},
   "outputs": [
    {
     "name": "stdout",
     "output_type": "stream",
     "text": [
      "*** score(prev_result) function available ***\n"
     ]
    }
   ],
   "source": [
    "def score(prev_result):\n",
    "\n",
    "    import pandas as pd\n",
    "    from sklearn import metrics\n",
    "    \n",
    "    score_result=pd.DataFrame()\n",
    "    \n",
    "    for ncm in prev_result.CO_NCM.unique():\n",
    "        for uf in prev_result.SG_UF_NCM.unique():\n",
    "            for mes in prev_result.CO_MES.unique():\n",
    "                \n",
    "                prev_result_t=prev_result[(prev_result.CO_MES==mes)&(prev_result.CO_NCM==ncm)&(prev_result.SG_UF_NCM==uf)]\n",
    "        \n",
    "                prev_result_t=prev_result_t\\\n",
    "                .assign(accuracy =metrics.accuracy_score (prev_result_t.oc,prev_result_t.oc_pred))\\\n",
    "                .assign(precision=metrics.precision_score(prev_result_t.oc,prev_result_t.oc_pred))\\\n",
    "                .assign(recall   =metrics.recall_score   (prev_result_t.oc,prev_result_t.oc_pred, zero_division=0))\n",
    "                \n",
    "                prev_result_t2=prev_result_t[(prev_result_t.oc==1)&(prev_result_t.oc_pred==1)]\n",
    "                \n",
    "                if len(prev_result_t2)>1:\n",
    "                    prev_result_t2=prev_result_t2.assign(r2=metrics.r2_score(prev_result_t2.KG_LIQUIDO,prev_result_t2.kg_pred))\n",
    "                else:\n",
    "                    prev_result_t2=prev_result_t2.assign(r2=np.nan)\n",
    "    \n",
    "                prev_result_t=prev_result_t.merge(prev_result_t2)\n",
    "        \n",
    "                prev_result_t=prev_result_t[['CO_MES','CO_NCM','SG_UF_NCM','accuracy','precision','recall','r2']].drop_duplicates()\n",
    "                \n",
    "                score_result=pd.concat([score_result,prev_result_t])\n",
    "    \n",
    "    return score_result#.to_csv('~/git/BD/temp/temp_out.csv',index=False)\n",
    "\n",
    "print('*** score(prev_result) function available ***')"
   ]
  }
 ],
 "metadata": {
  "kernelspec": {
   "display_name": "Python 3 (ipykernel)",
   "language": "python",
   "name": "python3"
  },
  "language_info": {
   "codemirror_mode": {
    "name": "ipython",
    "version": 3
   },
   "file_extension": ".py",
   "mimetype": "text/x-python",
   "name": "python",
   "nbconvert_exporter": "python",
   "pygments_lexer": "ipython3",
   "version": "3.11.2"
  }
 },
 "nbformat": 4,
 "nbformat_minor": 5
}
