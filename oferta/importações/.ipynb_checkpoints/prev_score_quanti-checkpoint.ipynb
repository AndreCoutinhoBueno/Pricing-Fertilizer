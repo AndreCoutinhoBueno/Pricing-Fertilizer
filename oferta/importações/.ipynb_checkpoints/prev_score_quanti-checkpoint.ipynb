{
 "cells": [
  {
   "cell_type": "raw",
   "id": "5ea0e0f6-ce02-4167-8223-d508e6d7fb44",
   "metadata": {},
   "source": [
    "import time\n",
    "inicio=time.time()"
   ]
  },
  {
   "cell_type": "code",
   "execution_count": 2,
   "id": "0dfffd13-343c-48ce-8249-d893df94dff9",
   "metadata": {},
   "outputs": [],
   "source": [
    "import numpy as np\n",
    "import pandas as pd"
   ]
  },
  {
   "cell_type": "code",
   "execution_count": 3,
   "id": "74029b73-8e76-4adb-9113-2bd4ee6fa749",
   "metadata": {},
   "outputs": [
    {
     "data": {
      "text/html": [
       "<div>\n",
       "<style scoped>\n",
       "    .dataframe tbody tr th:only-of-type {\n",
       "        vertical-align: middle;\n",
       "    }\n",
       "\n",
       "    .dataframe tbody tr th {\n",
       "        vertical-align: top;\n",
       "    }\n",
       "\n",
       "    .dataframe thead th {\n",
       "        text-align: right;\n",
       "    }\n",
       "</style>\n",
       "<table border=\"1\" class=\"dataframe\">\n",
       "  <thead>\n",
       "    <tr style=\"text-align: right;\">\n",
       "      <th></th>\n",
       "      <th>sigla</th>\n",
       "      <th>CO_NCM</th>\n",
       "      <th>CO_ANO</th>\n",
       "      <th>CO_MES</th>\n",
       "      <th>SG_UF_NCM</th>\n",
       "      <th>CO_PAIS</th>\n",
       "      <th>CO_URF</th>\n",
       "      <th>KG_LIQUIDO</th>\n",
       "    </tr>\n",
       "  </thead>\n",
       "  <tbody>\n",
       "    <tr>\n",
       "      <th>0</th>\n",
       "      <td>MOP-hi</td>\n",
       "      <td>31042090-hi</td>\n",
       "      <td>1997</td>\n",
       "      <td>12</td>\n",
       "      <td>RS</td>\n",
       "      <td>23</td>\n",
       "      <td>9999999</td>\n",
       "      <td>7130535</td>\n",
       "    </tr>\n",
       "  </tbody>\n",
       "</table>\n",
       "</div>"
      ],
      "text/plain": [
       "    sigla       CO_NCM  CO_ANO  CO_MES SG_UF_NCM  CO_PAIS   CO_URF  KG_LIQUIDO\n",
       "0  MOP-hi  31042090-hi    1997      12        RS       23  9999999     7130535"
      ]
     },
     "execution_count": 3,
     "metadata": {},
     "output_type": "execute_result"
    }
   ],
   "source": [
    "imp_fert=pd.read_csv('~/git/BD/temp/imp_fert_quanti.csv')\n",
    "imp_fert=imp_fert.loc[:,:'KG_LIQUIDO']\n",
    "imp_fert.head(1)"
   ]
  },
  {
   "cell_type": "code",
   "execution_count": 4,
   "id": "e679cc90-121d-4eed-9002-efe8a80c4b61",
   "metadata": {},
   "outputs": [],
   "source": [
    "filt_ncm=imp_fert.groupby('CO_NCM').KG_LIQUIDO.sum().sort_values(ascending=False).head(2).reset_index().CO_NCM.values[:1]\n",
    "imp_fert=imp_fert[imp_fert.CO_NCM.isin(filt_ncm)]\n",
    "\n",
    "filt_uf=imp_fert.groupby('SG_UF_NCM').KG_LIQUIDO.sum().sort_values(ascending=False).head(2).reset_index().SG_UF_NCM.values[:1]\n",
    "imp_fert=imp_fert[imp_fert.SG_UF_NCM.isin(filt_uf)]"
   ]
  },
  {
   "cell_type": "code",
   "execution_count": 5,
   "id": "cfd92e84-8974-4349-a3d9-6727dd4c46ee",
   "metadata": {},
   "outputs": [
    {
     "name": "stdout",
     "output_type": "stream",
     "text": [
      "Disponível função prev_score(ano_mes_ncm_uf)\n"
     ]
    }
   ],
   "source": [
    "%run '~/git/prev_score_ncm_uf.py'"
   ]
  },
  {
   "cell_type": "code",
   "execution_count": 6,
   "id": "dc53eef7-6dec-4bb1-a824-a0c7e3366669",
   "metadata": {},
   "outputs": [],
   "source": [
    "q=prev_score(imp_fert)"
   ]
  },
  {
   "cell_type": "code",
   "execution_count": 7,
   "id": "d38acb9c-b24a-49b5-b1c1-1b0bd9511055",
   "metadata": {},
   "outputs": [],
   "source": [
    "q.to_csv('~/git/BD/temp/prev_score_quanti.csv',index=False)"
   ]
  },
  {
   "cell_type": "code",
   "execution_count": 8,
   "id": "461245db-28f1-45bc-8f3a-c54071c008cd",
   "metadata": {},
   "outputs": [
    {
     "name": "stdout",
     "output_type": "stream",
     "text": [
      "Duração:0 minutos.\n"
     ]
    }
   ],
   "source": [
    "fim=time.time()\n",
    "d=fim-inicio\n",
    "print(f'Duração:{round(d/60)} minutos.')"
   ]
  },
  {
   "cell_type": "code",
   "execution_count": 9,
   "id": "ea3ab270-7719-424b-8851-957ce5c37f20",
   "metadata": {},
   "outputs": [
    {
     "data": {
      "text/plain": [
       "accuracy     0.965909\n",
       "precision    0.965909\n",
       "recall       1.000000\n",
       "r2           0.348431\n",
       "dtype: float64"
      ]
     },
     "execution_count": 9,
     "metadata": {},
     "output_type": "execute_result"
    }
   ],
   "source": [
    "q[['accuracy','precision','recall','r2']].mean()"
   ]
  }
 ],
 "metadata": {
  "kernelspec": {
   "display_name": "Python 3 (ipykernel)",
   "language": "python",
   "name": "python3"
  },
  "language_info": {
   "codemirror_mode": {
    "name": "ipython",
    "version": 3
   },
   "file_extension": ".py",
   "mimetype": "text/x-python",
   "name": "python",
   "nbconvert_exporter": "python",
   "pygments_lexer": "ipython3",
   "version": "3.11.2"
  }
 },
 "nbformat": 4,
 "nbformat_minor": 5
}
