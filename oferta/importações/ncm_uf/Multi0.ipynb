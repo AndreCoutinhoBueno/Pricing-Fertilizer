{
 "cells": [
  {
   "cell_type": "code",
   "execution_count": 1,
   "id": "baa45dd8-874b-4a37-9a2d-47f5dd3fef6c",
   "metadata": {},
   "outputs": [],
   "source": [
    "import time\n",
    "inicio=time.time()"
   ]
  },
  {
   "cell_type": "code",
   "execution_count": 2,
   "id": "0dfffd13-343c-48ce-8249-d893df94dff9",
   "metadata": {},
   "outputs": [],
   "source": [
    "import numpy as np\n",
    "import pandas as pd"
   ]
  },
  {
   "cell_type": "code",
   "execution_count": 3,
   "id": "bedde138-26a5-4786-8623-cea689510046",
   "metadata": {},
   "outputs": [],
   "source": [
    "imp_fert=pd.read_csv('~/git/BD/temp/imp_fert_quanti_g_ncm_uf.csv').sort_values(by=['CO_ANO','CO_MES']).reset_index(drop=True)"
   ]
  },
  {
   "cell_type": "code",
   "execution_count": 4,
   "id": "648d03db-ad34-4833-ad14-788d309895de",
   "metadata": {},
   "outputs": [],
   "source": [
    "imp_fert=imp_fert.loc[:,:'VL_FOB']"
   ]
  },
  {
   "cell_type": "code",
   "execution_count": 5,
   "id": "c1e993e5-2fd5-4872-a670-6508bb914c02",
   "metadata": {},
   "outputs": [
    {
     "data": {
      "text/plain": [
       "array(['31042090-hi'], dtype=object)"
      ]
     },
     "execution_count": 5,
     "metadata": {},
     "output_type": "execute_result"
    }
   ],
   "source": [
    "filt_ncm=imp_fert.groupby('CO_NCM').KG_LIQUIDO.sum().sort_values(ascending=False).reset_index().CO_NCM.values[:1]\n",
    "filt_ncm"
   ]
  },
  {
   "cell_type": "code",
   "execution_count": 6,
   "id": "f175edf5-2fcb-4457-85df-8c5b3a6b4bde",
   "metadata": {},
   "outputs": [
    {
     "data": {
      "text/plain": [
       "array(['PR'], dtype=object)"
      ]
     },
     "execution_count": 6,
     "metadata": {},
     "output_type": "execute_result"
    }
   ],
   "source": [
    "filt_uf=imp_fert.groupby('SG_UF_NCM').KG_LIQUIDO.sum().sort_values(ascending=False).reset_index().SG_UF_NCM.values[:1]\n",
    "filt_uf"
   ]
  },
  {
   "cell_type": "code",
   "execution_count": 7,
   "id": "6f318cca-1243-426e-88cb-2c814bb9ee9f",
   "metadata": {},
   "outputs": [],
   "source": [
    "len_ncms=len(filt_ncm)"
   ]
  },
  {
   "cell_type": "code",
   "execution_count": 8,
   "id": "3d81a196-8303-41fc-aa9e-977abea76f91",
   "metadata": {},
   "outputs": [],
   "source": [
    "imp_fert=imp_fert[(imp_fert.SG_UF_NCM.isin(filt_uf))&(imp_fert.CO_NCM.isin(filt_ncm))]"
   ]
  },
  {
   "cell_type": "code",
   "execution_count": 9,
   "id": "d00f178c-f961-4407-9852-90bcb4caf529",
   "metadata": {},
   "outputs": [
    {
     "name": "stdout",
     "output_type": "stream",
     "text": [
      "*** sparse_matrix(imp_fert) available ***\n"
     ]
    }
   ],
   "source": [
    "%run '~/git/sparse_matrix.ipynb'\n",
    "imp_fert=sparse_matrix(imp_fert)"
   ]
  },
  {
   "cell_type": "code",
   "execution_count": 10,
   "id": "504cfdaa-4685-4326-a6fb-0943da37fd88",
   "metadata": {},
   "outputs": [
    {
     "name": "stdout",
     "output_type": "stream",
     "text": [
      "*** multi(imp_fert) function available ***\n"
     ]
    }
   ],
   "source": [
    "%run '~/git/multi.ipynb'\n",
    "imp_fert=multi(imp_fert)\n",
    "imp_fert=pd.concat([imp_fert.iloc[:,:7] , imp_fert.iloc[:,7:]],axis=1)"
   ]
  },
  {
   "cell_type": "code",
   "execution_count": 11,
   "id": "e0e38040-c9b6-4ba5-88fc-e9ddb66bf368",
   "metadata": {},
   "outputs": [],
   "source": [
    "cols_ad=imp_fert.iloc[:,7:].columns.tolist()"
   ]
  },
  {
   "cell_type": "code",
   "execution_count": 16,
   "id": "38459a33-c16e-45ff-aa23-ea095f6a1a27",
   "metadata": {},
   "outputs": [],
   "source": [
    "max_depth=5\n",
    "from sklearn.ensemble import RandomForestClassifier as RFC\n",
    "RFC=RFC(max_depth=max_depth)\n",
    "from sklearn.ensemble import RandomForestRegressor as RFR\n",
    "RFR=RFR(max_depth=max_depth)\n",
    "from sklearn.linear_model import LinearRegression as LR\n",
    "LR=LR()\n",
    "REG=RFR"
   ]
  },
  {
   "cell_type": "code",
   "execution_count": 17,
   "id": "a5a8648b-6201-4d1c-a139-66ea1b057083",
   "metadata": {},
   "outputs": [
    {
     "name": "stdout",
     "output_type": "stream",
     "text": [
      "*** prev(ano_mes_ncm_uf, REG) function available ***\n"
     ]
    }
   ],
   "source": [
    "%run '~/git/prev_ncm_uf.ipynb'\n",
    "prev=prev(imp_fert,REG)"
   ]
  },
  {
   "cell_type": "code",
   "execution_count": 18,
   "id": "74c044c0-1705-4c44-acfb-12e926bf53df",
   "metadata": {},
   "outputs": [
    {
     "name": "stdout",
     "output_type": "stream",
     "text": [
      "*** score(ano_mes_ncm_uf) function available ***\n"
     ]
    }
   ],
   "source": [
    "%run '~/git/score_ncm_uf.ipynb'\n",
    "score=score(prev)"
   ]
  },
  {
   "cell_type": "code",
   "execution_count": 20,
   "id": "bfbeeb38-8433-48a4-9eed-fcc545470e8d",
   "metadata": {},
   "outputs": [],
   "source": [
    "score=score.assign(len_ncms=len_ncms).assign(cols_ad=str(cols_ad)).assign(REG=str(REG))"
   ]
  },
  {
   "cell_type": "raw",
   "id": "028d4cab-c8f7-4a6a-b47b-b7e022c9f6ef",
   "metadata": {},
   "source": [
    "score_hist=pd.read_csv('~/git/BD/temp/score.csv')\n",
    "score=pd.concat([score,score_hist])"
   ]
  },
  {
   "cell_type": "code",
   "execution_count": 21,
   "id": "d38acb9c-b24a-49b5-b1c1-1b0bd9511055",
   "metadata": {},
   "outputs": [],
   "source": [
    "score.to_csv('~/git/BD/temp/score.csv',index=False)"
   ]
  },
  {
   "cell_type": "code",
   "execution_count": 22,
   "id": "2224c859-0c4b-422f-8b8a-543cc711e624",
   "metadata": {
    "scrolled": true
   },
   "outputs": [
    {
     "name": "stdout",
     "output_type": "stream",
     "text": [
      "\n",
      "Duração total:4.4 minutos.\n",
      "\n"
     ]
    }
   ],
   "source": [
    "fim=time.time()\n",
    "d=fim-inicio\n",
    "print(f'\\nDuração total:{round(d/60,1)} minutos.\\n')"
   ]
  },
  {
   "cell_type": "code",
   "execution_count": 23,
   "id": "174cc41d-59ae-40cc-b2b3-0ecc4084e758",
   "metadata": {},
   "outputs": [
    {
     "data": {
      "text/plain": [
       "accuracy     0.968795\n",
       "precision    0.979942\n",
       "recall       0.987698\n",
       "r2          -0.413262\n",
       "dtype: float64"
      ]
     },
     "execution_count": 23,
     "metadata": {},
     "output_type": "execute_result"
    }
   ],
   "source": [
    "score[['accuracy','precision','recall','r2']].mean()"
   ]
  },
  {
   "cell_type": "code",
   "execution_count": 24,
   "id": "2a1ca36d-d9ee-4408-a974-473913913af7",
   "metadata": {},
   "outputs": [
    {
     "data": {
      "text/html": [
       "<div>\n",
       "<style scoped>\n",
       "    .dataframe tbody tr th:only-of-type {\n",
       "        vertical-align: middle;\n",
       "    }\n",
       "\n",
       "    .dataframe tbody tr th {\n",
       "        vertical-align: top;\n",
       "    }\n",
       "\n",
       "    .dataframe thead th {\n",
       "        text-align: right;\n",
       "    }\n",
       "</style>\n",
       "<table border=\"1\" class=\"dataframe\">\n",
       "  <thead>\n",
       "    <tr style=\"text-align: right;\">\n",
       "      <th></th>\n",
       "      <th>CO_MES</th>\n",
       "      <th>CO_NCM</th>\n",
       "      <th>SG_UF_NCM</th>\n",
       "      <th>accuracy</th>\n",
       "      <th>precision</th>\n",
       "      <th>recall</th>\n",
       "      <th>r2</th>\n",
       "      <th>len_ncms</th>\n",
       "      <th>len_cols</th>\n",
       "      <th>REG</th>\n",
       "    </tr>\n",
       "  </thead>\n",
       "  <tbody>\n",
       "    <tr>\n",
       "      <th>0</th>\n",
       "      <td>3</td>\n",
       "      <td>31042090-hi</td>\n",
       "      <td>PR</td>\n",
       "      <td>0.954545</td>\n",
       "      <td>0.954545</td>\n",
       "      <td>1.000000</td>\n",
       "      <td>-0.191355</td>\n",
       "      <td>1</td>\n",
       "      <td>['31042090-hi~PR_kg_ad_1', '31042090-hi~PR_fob...</td>\n",
       "      <td>RandomForestRegressor(max_depth=5)</td>\n",
       "    </tr>\n",
       "    <tr>\n",
       "      <th>0</th>\n",
       "      <td>4</td>\n",
       "      <td>31042090-hi</td>\n",
       "      <td>PR</td>\n",
       "      <td>0.909091</td>\n",
       "      <td>0.952381</td>\n",
       "      <td>0.952381</td>\n",
       "      <td>-0.353283</td>\n",
       "      <td>1</td>\n",
       "      <td>['31042090-hi~PR_kg_ad_1', '31042090-hi~PR_fob...</td>\n",
       "      <td>RandomForestRegressor(max_depth=5)</td>\n",
       "    </tr>\n",
       "    <tr>\n",
       "      <th>0</th>\n",
       "      <td>5</td>\n",
       "      <td>31042090-hi</td>\n",
       "      <td>PR</td>\n",
       "      <td>0.904762</td>\n",
       "      <td>0.950000</td>\n",
       "      <td>0.950000</td>\n",
       "      <td>0.109188</td>\n",
       "      <td>1</td>\n",
       "      <td>['31042090-hi~PR_kg_ad_1', '31042090-hi~PR_fob...</td>\n",
       "      <td>RandomForestRegressor(max_depth=5)</td>\n",
       "    </tr>\n",
       "    <tr>\n",
       "      <th>0</th>\n",
       "      <td>6</td>\n",
       "      <td>31042090-hi</td>\n",
       "      <td>PR</td>\n",
       "      <td>0.904762</td>\n",
       "      <td>0.950000</td>\n",
       "      <td>0.950000</td>\n",
       "      <td>-0.731100</td>\n",
       "      <td>1</td>\n",
       "      <td>['31042090-hi~PR_kg_ad_1', '31042090-hi~PR_fob...</td>\n",
       "      <td>RandomForestRegressor(max_depth=5)</td>\n",
       "    </tr>\n",
       "    <tr>\n",
       "      <th>0</th>\n",
       "      <td>7</td>\n",
       "      <td>31042090-hi</td>\n",
       "      <td>PR</td>\n",
       "      <td>1.000000</td>\n",
       "      <td>1.000000</td>\n",
       "      <td>1.000000</td>\n",
       "      <td>-0.486820</td>\n",
       "      <td>1</td>\n",
       "      <td>['31042090-hi~PR_kg_ad_1', '31042090-hi~PR_fob...</td>\n",
       "      <td>RandomForestRegressor(max_depth=5)</td>\n",
       "    </tr>\n",
       "    <tr>\n",
       "      <th>0</th>\n",
       "      <td>8</td>\n",
       "      <td>31042090-hi</td>\n",
       "      <td>PR</td>\n",
       "      <td>1.000000</td>\n",
       "      <td>1.000000</td>\n",
       "      <td>1.000000</td>\n",
       "      <td>-0.339711</td>\n",
       "      <td>1</td>\n",
       "      <td>['31042090-hi~PR_kg_ad_1', '31042090-hi~PR_fob...</td>\n",
       "      <td>RandomForestRegressor(max_depth=5)</td>\n",
       "    </tr>\n",
       "    <tr>\n",
       "      <th>0</th>\n",
       "      <td>9</td>\n",
       "      <td>31042090-hi</td>\n",
       "      <td>PR</td>\n",
       "      <td>1.000000</td>\n",
       "      <td>1.000000</td>\n",
       "      <td>1.000000</td>\n",
       "      <td>-0.562522</td>\n",
       "      <td>1</td>\n",
       "      <td>['31042090-hi~PR_kg_ad_1', '31042090-hi~PR_fob...</td>\n",
       "      <td>RandomForestRegressor(max_depth=5)</td>\n",
       "    </tr>\n",
       "    <tr>\n",
       "      <th>0</th>\n",
       "      <td>10</td>\n",
       "      <td>31042090-hi</td>\n",
       "      <td>PR</td>\n",
       "      <td>1.000000</td>\n",
       "      <td>1.000000</td>\n",
       "      <td>1.000000</td>\n",
       "      <td>-0.763273</td>\n",
       "      <td>1</td>\n",
       "      <td>['31042090-hi~PR_kg_ad_1', '31042090-hi~PR_fob...</td>\n",
       "      <td>RandomForestRegressor(max_depth=5)</td>\n",
       "    </tr>\n",
       "    <tr>\n",
       "      <th>0</th>\n",
       "      <td>11</td>\n",
       "      <td>31042090-hi</td>\n",
       "      <td>PR</td>\n",
       "      <td>1.000000</td>\n",
       "      <td>1.000000</td>\n",
       "      <td>1.000000</td>\n",
       "      <td>-0.311933</td>\n",
       "      <td>1</td>\n",
       "      <td>['31042090-hi~PR_kg_ad_1', '31042090-hi~PR_fob...</td>\n",
       "      <td>RandomForestRegressor(max_depth=5)</td>\n",
       "    </tr>\n",
       "    <tr>\n",
       "      <th>0</th>\n",
       "      <td>12</td>\n",
       "      <td>31042090-hi</td>\n",
       "      <td>PR</td>\n",
       "      <td>1.000000</td>\n",
       "      <td>1.000000</td>\n",
       "      <td>1.000000</td>\n",
       "      <td>-0.154567</td>\n",
       "      <td>1</td>\n",
       "      <td>['31042090-hi~PR_kg_ad_1', '31042090-hi~PR_fob...</td>\n",
       "      <td>RandomForestRegressor(max_depth=5)</td>\n",
       "    </tr>\n",
       "    <tr>\n",
       "      <th>0</th>\n",
       "      <td>1</td>\n",
       "      <td>31042090-hi</td>\n",
       "      <td>PR</td>\n",
       "      <td>1.000000</td>\n",
       "      <td>1.000000</td>\n",
       "      <td>1.000000</td>\n",
       "      <td>-0.929486</td>\n",
       "      <td>1</td>\n",
       "      <td>['31042090-hi~PR_kg_ad_1', '31042090-hi~PR_fob...</td>\n",
       "      <td>RandomForestRegressor(max_depth=5)</td>\n",
       "    </tr>\n",
       "    <tr>\n",
       "      <th>0</th>\n",
       "      <td>2</td>\n",
       "      <td>31042090-hi</td>\n",
       "      <td>PR</td>\n",
       "      <td>0.952381</td>\n",
       "      <td>0.952381</td>\n",
       "      <td>1.000000</td>\n",
       "      <td>-0.244285</td>\n",
       "      <td>1</td>\n",
       "      <td>['31042090-hi~PR_kg_ad_1', '31042090-hi~PR_fob...</td>\n",
       "      <td>RandomForestRegressor(max_depth=5)</td>\n",
       "    </tr>\n",
       "  </tbody>\n",
       "</table>\n",
       "</div>"
      ],
      "text/plain": [
       "   CO_MES       CO_NCM SG_UF_NCM  accuracy  precision    recall        r2  \\\n",
       "0       3  31042090-hi        PR  0.954545   0.954545  1.000000 -0.191355   \n",
       "0       4  31042090-hi        PR  0.909091   0.952381  0.952381 -0.353283   \n",
       "0       5  31042090-hi        PR  0.904762   0.950000  0.950000  0.109188   \n",
       "0       6  31042090-hi        PR  0.904762   0.950000  0.950000 -0.731100   \n",
       "0       7  31042090-hi        PR  1.000000   1.000000  1.000000 -0.486820   \n",
       "0       8  31042090-hi        PR  1.000000   1.000000  1.000000 -0.339711   \n",
       "0       9  31042090-hi        PR  1.000000   1.000000  1.000000 -0.562522   \n",
       "0      10  31042090-hi        PR  1.000000   1.000000  1.000000 -0.763273   \n",
       "0      11  31042090-hi        PR  1.000000   1.000000  1.000000 -0.311933   \n",
       "0      12  31042090-hi        PR  1.000000   1.000000  1.000000 -0.154567   \n",
       "0       1  31042090-hi        PR  1.000000   1.000000  1.000000 -0.929486   \n",
       "0       2  31042090-hi        PR  0.952381   0.952381  1.000000 -0.244285   \n",
       "\n",
       "   len_ncms                                           len_cols  \\\n",
       "0         1  ['31042090-hi~PR_kg_ad_1', '31042090-hi~PR_fob...   \n",
       "0         1  ['31042090-hi~PR_kg_ad_1', '31042090-hi~PR_fob...   \n",
       "0         1  ['31042090-hi~PR_kg_ad_1', '31042090-hi~PR_fob...   \n",
       "0         1  ['31042090-hi~PR_kg_ad_1', '31042090-hi~PR_fob...   \n",
       "0         1  ['31042090-hi~PR_kg_ad_1', '31042090-hi~PR_fob...   \n",
       "0         1  ['31042090-hi~PR_kg_ad_1', '31042090-hi~PR_fob...   \n",
       "0         1  ['31042090-hi~PR_kg_ad_1', '31042090-hi~PR_fob...   \n",
       "0         1  ['31042090-hi~PR_kg_ad_1', '31042090-hi~PR_fob...   \n",
       "0         1  ['31042090-hi~PR_kg_ad_1', '31042090-hi~PR_fob...   \n",
       "0         1  ['31042090-hi~PR_kg_ad_1', '31042090-hi~PR_fob...   \n",
       "0         1  ['31042090-hi~PR_kg_ad_1', '31042090-hi~PR_fob...   \n",
       "0         1  ['31042090-hi~PR_kg_ad_1', '31042090-hi~PR_fob...   \n",
       "\n",
       "                                  REG  \n",
       "0  RandomForestRegressor(max_depth=5)  \n",
       "0  RandomForestRegressor(max_depth=5)  \n",
       "0  RandomForestRegressor(max_depth=5)  \n",
       "0  RandomForestRegressor(max_depth=5)  \n",
       "0  RandomForestRegressor(max_depth=5)  \n",
       "0  RandomForestRegressor(max_depth=5)  \n",
       "0  RandomForestRegressor(max_depth=5)  \n",
       "0  RandomForestRegressor(max_depth=5)  \n",
       "0  RandomForestRegressor(max_depth=5)  \n",
       "0  RandomForestRegressor(max_depth=5)  \n",
       "0  RandomForestRegressor(max_depth=5)  \n",
       "0  RandomForestRegressor(max_depth=5)  "
      ]
     },
     "execution_count": 24,
     "metadata": {},
     "output_type": "execute_result"
    }
   ],
   "source": [
    "score"
   ]
  },
  {
   "cell_type": "code",
   "execution_count": null,
   "id": "808e4db9-fce4-4b19-91e5-20cdf25cbc74",
   "metadata": {},
   "outputs": [],
   "source": []
  }
 ],
 "metadata": {
  "kernelspec": {
   "display_name": "Python 3 (ipykernel)",
   "language": "python",
   "name": "python3"
  },
  "language_info": {
   "codemirror_mode": {
    "name": "ipython",
    "version": 3
   },
   "file_extension": ".py",
   "mimetype": "text/x-python",
   "name": "python",
   "nbconvert_exporter": "python",
   "pygments_lexer": "ipython3",
   "version": "3.11.2"
  }
 },
 "nbformat": 4,
 "nbformat_minor": 5
}
