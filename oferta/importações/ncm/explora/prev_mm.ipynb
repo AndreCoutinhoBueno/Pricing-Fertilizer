{
 "cells": [
  {
   "cell_type": "code",
   "execution_count": 1,
   "id": "993b141f-e8c3-44fc-88a6-5be0eb7787e8",
   "metadata": {},
   "outputs": [],
   "source": [
    "import numpy as np\n",
    "import pandas as pd\n",
    "import matplotlib.pyplot as plt\n",
    "import seaborn as sns\n",
    "import warnings\n",
    "warnings.filterwarnings(\"ignore\")\n",
    "comex_df=pd.read_csv('/home/andre301267/git/BD/temp/imp_fert_ncm_quanti.csv').sort_values(by=['CO_ANO','CO_MES'])"
   ]
  },
  {
   "cell_type": "code",
   "execution_count": 2,
   "id": "6583f156-4703-49dc-b465-22b9e30e97eb",
   "metadata": {},
   "outputs": [
    {
     "data": {
      "text/plain": [
       "array(['MOP', 'MOP<60', 'NK', 'NPK', 'Nit.Sódio Potássico 15 15',\n",
       "       'Outros N', 'Outros nitratos de sódio', 'SAM', 'SOP<52', 'MAP',\n",
       "       'NAM', 'Nit.Sódio natural<16,3', 'Outros Nit.Sódio potássico',\n",
       "       'Outros potássicos', 'Superfosfatos<22', 'UREIA',\n",
       "       'DAP arsênio> 6 mg/kg', 'NCa', 'Outros SOP', 'PK',\n",
       "       'Superfosfato>45', 'Ureia, mesmo aquosa',\n",
       "       'Outros Nit.Sódio, naturais', 'NP', 'Nitratos e fosfatos',\n",
       "       'Superfosfatos>35', 'Outros superfosfatos'], dtype=object)"
      ]
     },
     "execution_count": 2,
     "metadata": {},
     "output_type": "execute_result"
    }
   ],
   "source": [
    "comex_df.nick.unique()"
   ]
  },
  {
   "cell_type": "code",
   "execution_count": 3,
   "id": "0fccb9bf-4af3-4cb2-87d2-af543f3b56d6",
   "metadata": {},
   "outputs": [],
   "source": [
    "uf='BA'\n",
    "nick='NK'\n",
    "comex_df=comex_df[(comex_df.UF==uf)&(comex_df.nick==nick)]\\\n",
    ".drop(columns=['UF','nick','CO_NCM','CO_PAIS','CO_URF','VL_SEGURO_orig','VL_FRETE_orig',\\\n",
    "               'VL_FOB_orig','VL_FRETE','VL_SEGURO'])"
   ]
  },
  {
   "cell_type": "code",
   "execution_count": 4,
   "id": "cd4dcb5f-979f-4b4f-9b35-6445893af632",
   "metadata": {},
   "outputs": [
    {
     "data": {
      "image/png": "[encoded data removed]",
      "text/plain": [
       "<Figure size 858.875x200 with 1 Axes>"
      ]
     },
     "metadata": {},
     "output_type": "display_data"
    }
   ],
   "source": [
    "sns.displot(data=comex_df,x='KG_LIQUIDO',hue='km', log_scale=True,height=2,aspect=4).fig.suptitle(f\"Importações de {nick} em {uf}\",y=1.1)\n",
    "plt.show()"
   ]
  },
  {
   "cell_type": "raw",
   "id": "28726bc8-583d-45a0-bfe4-65b967d260f9",
   "metadata": {},
   "source": [
    "km=1"
   ]
  },
  {
   "cell_type": "code",
   "execution_count": 5,
   "id": "afcd5532-3042-43ea-a88a-dd252b5be686",
   "metadata": {},
   "outputs": [
    {
     "name": "stdin",
     "output_type": "stream",
     "text": [
      "Escolha o cluster (km) desejado: 1\n"
     ]
    }
   ],
   "source": [
    "km=int(input('Escolha o cluster (km) desejado:'))"
   ]
  },
  {
   "cell_type": "code",
   "execution_count": 6,
   "id": "b9bf9e66-fc28-4e73-95f3-6747c919d9a8",
   "metadata": {},
   "outputs": [],
   "source": [
    "comex_df=comex_df[comex_df.km==km]\n",
    "comex_df.drop(columns='km',inplace=True)"
   ]
  },
  {
   "cell_type": "code",
   "execution_count": 7,
   "id": "be47a10b-b471-4421-9b66-3e75585c8645",
   "metadata": {},
   "outputs": [],
   "source": [
    "comex_df=comex_df.groupby(by=['CO_ANO','CO_MES'])[['KG_LIQUIDO','VL_FOB']].sum().reset_index()\\\n",
    ".astype(int)"
   ]
  },
  {
   "cell_type": "code",
   "execution_count": 8,
   "id": "d9b556bf-1c37-4b30-bf6e-cb80cc9474fb",
   "metadata": {},
   "outputs": [
    {
     "name": "stdout",
     "output_type": "stream",
     "text": [
      "** Função matriz_esparsa(comex_df, ct) disponível **\n"
     ]
    }
   ],
   "source": [
    "%run '/home/andre301267/git/BD/Comexstat/function/matriz_esparsa.ipynb'\n",
    "comex_df_sp=matriz_esparsa(comex_df)"
   ]
  },
  {
   "cell_type": "code",
   "execution_count": 9,
   "id": "43ba5b8a-30cd-45e3-b05a-71274db5a394",
   "metadata": {},
   "outputs": [
    {
     "name": "stdout",
     "output_type": "stream",
     "text": [
      "** Função escalona_tempo(comex_df) disponível **\n"
     ]
    }
   ],
   "source": [
    "%run '/home/andre301267/git/BD/Comexstat/function/escalona_tempo.ipynb'\n",
    "comex_df_sc=escalona_tempo(comex_df_sp)\n",
    "\n",
    "# Identifica a mês corrente\n",
    "mês_corrente=comex_df_sc[comex_df_sc.CO_ANO==comex_df_sc.CO_ANO.max()].CO_MES.max()\n",
    "# Completa escalonamento criano ano índice\n",
    "comex_df_sc['ano_i']=comex_df_sc.CO_ANO.shift(mês_corrente)"
   ]
  },
  {
   "cell_type": "code",
   "execution_count": 10,
   "id": "224f96bc-1f28-4c96-87f1-3e63fa938331",
   "metadata": {},
   "outputs": [],
   "source": [
    "# Corrige na\n",
    "k=comex_df_sc[comex_df_sc.ano_i.isna()]\n",
    "w=comex_df_sc[~comex_df_sc.ano_i.isna()]\n",
    "k=k.drop(columns='ano_i')\n",
    "z=np.array(w[w.index.isin(k.index+8)].ano_i-1)\n",
    "k['ano_i']=z\n",
    "comex_df_sc=pd.concat([k,w])"
   ]
  },
  {
   "cell_type": "code",
   "execution_count": 11,
   "id": "ec64d804-1023-47fe-b785-ce9e58a1b141",
   "metadata": {},
   "outputs": [],
   "source": [
    "# Corrige tipo\n",
    "comex_df_sc[comex_df_sc.select_dtypes('float').columns]=comex_df_sc[comex_df_sc.select_dtypes('float').columns].astype(int)"
   ]
  },
  {
   "cell_type": "code",
   "execution_count": 12,
   "id": "9f8e10eb-25e7-4937-9ce2-0892ef675a7d",
   "metadata": {},
   "outputs": [
    {
     "data": {
      "text/plain": [
       "Index(['mes_i', 'bim_i', 'trim_i', 'quadri_i', 'sem_i', 'ano_i'], dtype='object')"
      ]
     },
     "execution_count": 12,
     "metadata": {},
     "output_type": "execute_result"
    }
   ],
   "source": [
    "# Identifica escalas\n",
    "escalas=comex_df_sc.columns[-6:]\n",
    "escalas"
   ]
  },
  {
   "cell_type": "code",
   "execution_count": 13,
   "id": "96d4ede3-5057-4b7d-b22a-8c84789cdb2e",
   "metadata": {},
   "outputs": [
    {
     "data": {
      "text/plain": [
       "[(0, 'mes_i'),\n",
       " (1, 'bim_i'),\n",
       " (2, 'trim_i'),\n",
       " (3, 'quadri_i'),\n",
       " (4, 'sem_i'),\n",
       " (5, 'ano_i')]"
      ]
     },
     "execution_count": 13,
     "metadata": {},
     "output_type": "execute_result"
    }
   ],
   "source": [
    "list(enumerate(escalas))"
   ]
  },
  {
   "cell_type": "raw",
   "id": "73fe2c46-61c4-49bc-9c34-9ec0beaa34db",
   "metadata": {},
   "source": [
    "si=int(input('Indice da escala:'))"
   ]
  },
  {
   "cell_type": "code",
   "execution_count": 14,
   "id": "8a529b99-e9d7-468f-91d1-ece296fabc52",
   "metadata": {},
   "outputs": [],
   "source": [
    "si=1"
   ]
  },
  {
   "cell_type": "code",
   "execution_count": 15,
   "id": "1933e6a0-d821-4595-9732-9fb6ea429eb6",
   "metadata": {},
   "outputs": [],
   "source": [
    "sc=escalas[si]\n",
    "\n",
    "comex_df_sc_g=comex_df_sc.groupby(by=['ano_i',sc])[['KG_LIQUIDO','VL_FOB']].sum().reset_index().astype(int)\n",
    "\n",
    "tab=comex_df_sc[['date','ano_i',sc]]\n",
    "tab=tab.drop_duplicates(subset=['ano_i',sc])\n",
    "tab=tab[tab.ano_i!=tab.ano_i.min()]\n",
    "\n",
    "comex_df_sc_g=tab.merge(comex_df_sc_g)\n",
    "\n",
    "g_a_sc_dict={'mes_i':12, 'bim_i':6, 'trim_i':4, 'quadri_i':3, 'sem_i':2}\n",
    "\n",
    "g_i_sc_dict={'mes_i':1, 'bim_i':2, 'trim_i':3, 'quadri_i':4, 'sem_i':6}\n",
    "\n",
    "l=len(comex_df_sc_g.columns)"
   ]
  },
  {
   "cell_type": "code",
   "execution_count": 16,
   "id": "759750cb-2c95-4b99-acbb-8a4d52a86682",
   "metadata": {},
   "outputs": [
    {
     "data": {
      "text/plain": [
       "6"
      ]
     },
     "execution_count": 16,
     "metadata": {},
     "output_type": "execute_result"
    }
   ],
   "source": [
    "g_a_sc_dict[sc]"
   ]
  },
  {
   "cell_type": "code",
   "execution_count": 17,
   "id": "28e08bbe-ee19-4e92-967d-eda13eb9227d",
   "metadata": {},
   "outputs": [],
   "source": [
    "comex_df_sc_g\\\n",
    ".insert(l,'mm_fob_'+sc,comex_df_sc_g.VL_FOB.rolling(g_a_sc_dict[sc]).sum())"
   ]
  },
  {
   "cell_type": "code",
   "execution_count": 18,
   "id": "bdf8db0f-0d2f-42f4-8f80-13278d8302b4",
   "metadata": {},
   "outputs": [],
   "source": [
    "comex_df_sc_g\\\n",
    ".insert(l,'mm_kg_'+sc,comex_df_sc_g.KG_LIQUIDO.rolling(g_a_sc_dict[sc]).sum())\n",
    "\n",
    "comex_df_mm=comex_df_sc_g\n",
    "\n",
    "comex_df_mm=comex_df_mm.dropna()"
   ]
  },
  {
   "cell_type": "code",
   "execution_count": 19,
   "id": "3023e330-5fd1-402d-87c5-8910f332fde8",
   "metadata": {},
   "outputs": [],
   "source": [
    "comex_df_mm=comex_df_mm.assign(fob_kg=comex_df_mm.VL_FOB/comex_df_mm.KG_LIQUIDO)"
   ]
  },
  {
   "cell_type": "code",
   "execution_count": 20,
   "id": "e5a2f6e0-8a4a-4fba-85a6-084ef487bde8",
   "metadata": {},
   "outputs": [],
   "source": [
    "fob_kg_prev=comex_df_mm.fob_kg.tail(1).values[0]"
   ]
  },
  {
   "cell_type": "code",
   "execution_count": 21,
   "id": "8e826c9b-6da2-4070-b092-8e3ee4410beb",
   "metadata": {},
   "outputs": [],
   "source": [
    "comex_df_mm.fob_kg=comex_df_mm.fob_kg.shift(1)"
   ]
  },
  {
   "cell_type": "code",
   "execution_count": 22,
   "id": "3ebc1d3b-fbf4-48a7-9ccf-8d0be65ed0be",
   "metadata": {},
   "outputs": [
    {
     "data": {
      "text/html": [
       "<div>\n",
       "<style scoped>\n",
       "    .dataframe tbody tr th:only-of-type {\n",
       "        vertical-align: middle;\n",
       "    }\n",
       "\n",
       "    .dataframe tbody tr th {\n",
       "        vertical-align: top;\n",
       "    }\n",
       "\n",
       "    .dataframe thead th {\n",
       "        text-align: right;\n",
       "    }\n",
       "</style>\n",
       "<table border=\"1\" class=\"dataframe\">\n",
       "  <thead>\n",
       "    <tr style=\"text-align: right;\">\n",
       "      <th></th>\n",
       "      <th>date</th>\n",
       "      <th>ano_i</th>\n",
       "      <th>bim_i</th>\n",
       "      <th>KG_LIQUIDO</th>\n",
       "      <th>VL_FOB</th>\n",
       "      <th>mm_kg_bim_i</th>\n",
       "      <th>mm_fob_bim_i</th>\n",
       "      <th>fob_kg</th>\n",
       "    </tr>\n",
       "  </thead>\n",
       "  <tbody>\n",
       "    <tr>\n",
       "      <th>5</th>\n",
       "      <td>2001-11-01</td>\n",
       "      <td>2001</td>\n",
       "      <td>2</td>\n",
       "      <td>0</td>\n",
       "      <td>0</td>\n",
       "      <td>207000.0</td>\n",
       "      <td>112876.0</td>\n",
       "      <td>NaN</td>\n",
       "    </tr>\n",
       "  </tbody>\n",
       "</table>\n",
       "</div>"
      ],
      "text/plain": [
       "        date  ano_i  bim_i  KG_LIQUIDO  VL_FOB  mm_kg_bim_i  mm_fob_bim_i  \\\n",
       "5 2001-11-01   2001      2           0       0     207000.0      112876.0   \n",
       "\n",
       "   fob_kg  \n",
       "5     NaN  "
      ]
     },
     "execution_count": 22,
     "metadata": {},
     "output_type": "execute_result"
    }
   ],
   "source": [
    "comex_df_mm.head(1)"
   ]
  },
  {
   "cell_type": "raw",
   "id": "7e5b0e92-4eb3-481c-94fd-ebf810470a2b",
   "metadata": {},
   "source": [
    "comex_df_mm=comex_df_mm.dropna()"
   ]
  },
  {
   "cell_type": "code",
   "execution_count": 23,
   "id": "30fe86ed-f9bd-4689-b225-75c40e714586",
   "metadata": {},
   "outputs": [],
   "source": [
    "X_train=comex_df_mm[['date','fob_kg']]"
   ]
  },
  {
   "cell_type": "code",
   "execution_count": 24,
   "id": "7b915c2c-4dec-4cc4-a44d-9c5370df1f75",
   "metadata": {},
   "outputs": [],
   "source": [
    "X_train.date=X_train.date.astype(int)"
   ]
  },
  {
   "cell_type": "code",
   "execution_count": 25,
   "id": "c1cc08a7-35c9-4d32-80df-229224895537",
   "metadata": {},
   "outputs": [],
   "source": [
    "y_train=comex_df_mm[['mm_kg_'+sc,'mm_fob_'+sc]]"
   ]
  },
  {
   "cell_type": "code",
   "execution_count": 26,
   "id": "3befe8cd-abca-4a0c-a302-63e214284ccd",
   "metadata": {},
   "outputs": [],
   "source": [
    "from datetime import timedelta\n",
    "date_prev=comex_df_mm.date.iloc[-g_a_sc_dict[sc]] + timedelta(days=365+1)"
   ]
  },
  {
   "cell_type": "code",
   "execution_count": 27,
   "id": "4f7e7e76-356d-4246-ace6-2b555abc148a",
   "metadata": {},
   "outputs": [],
   "source": [
    "X_prev=pd.DataFrame({\n",
    "    'date':[date_prev],\n",
    "    'fob_kg':[fob_kg_prev]})\n",
    "\n",
    "X_prev.date=X_prev.date.astype(int)"
   ]
  },
  {
   "cell_type": "code",
   "execution_count": 28,
   "id": "4356f9dc-3508-4269-8151-d55dff941bad",
   "metadata": {},
   "outputs": [],
   "source": [
    "#from sklearn.linear_model import LinearRegression as REG\n",
    "from sklearn.ensemble import RandomForestRegressor as REG\n",
    "REG=REG()\n",
    "REG.fit(X_train,y_train)\n",
    "X_prev[['mm_kg_'+sc,'mm_fob_'+sc]]=REG.predict(X_prev)"
   ]
  },
  {
   "cell_type": "code",
   "execution_count": 29,
   "id": "a7db440c-04bf-41eb-902f-090437f10980",
   "metadata": {},
   "outputs": [],
   "source": [
    "X_prev=X_prev\\\n",
    ".assign(tipo=['prev'])\\\n",
    ".assign(ano_i=[comex_df.CO_ANO.max()])\\\n",
    ".assign(KG_LIQUIDO=X_prev['mm_kg_'+sc]-comex_df_mm['mm_kg_'+sc].iloc[-1]+comex_df_mm.iloc[-g_a_sc_dict[sc],3])\\\n",
    ".assign(VL_FOB=    X_prev['mm_fob_'+sc]-comex_df_mm['mm_fob_'+sc].iloc[-1]+comex_df_mm.iloc[-g_a_sc_dict[sc],4])\n",
    "X_prev.insert(0,str(sc),1)"
   ]
  },
  {
   "cell_type": "code",
   "execution_count": 30,
   "id": "12a0fa0d-1d09-467d-8dbe-de8f5f188270",
   "metadata": {},
   "outputs": [],
   "source": [
    "comex_df_mm=pd.concat([comex_df_mm.assign(tipo='real'),X_prev])"
   ]
  },
  {
   "cell_type": "code",
   "execution_count": 31,
   "id": "85db9512-5bbd-40e0-b26f-4a310927bbb3",
   "metadata": {},
   "outputs": [],
   "source": [
    "comex_df_mm.date=pd.to_datetime(comex_df_mm.date)"
   ]
  },
  {
   "cell_type": "code",
   "execution_count": 32,
   "id": "517ef108-7708-46f9-9ed3-e7cd5ab44e99",
   "metadata": {},
   "outputs": [],
   "source": [
    "comex_df_mm=comex_df_mm[comex_df_mm.date.dt.year>2019]"
   ]
  },
  {
   "cell_type": "code",
   "execution_count": 33,
   "id": "f88814e1-e1b8-49d6-a04f-6945cf0ca752",
   "metadata": {},
   "outputs": [],
   "source": [
    "comex_df_mm['fob_kg'].iloc[-1]=comex_df_mm['VL_FOB'].iloc[-1]/comex_df_mm['KG_LIQUIDO'].iloc[-1]"
   ]
  },
  {
   "cell_type": "code",
   "execution_count": 34,
   "id": "d384365f-0b78-405b-9311-dfe736b28a49",
   "metadata": {},
   "outputs": [
    {
     "data": {
      "text/html": [
       "<div>\n",
       "<style scoped>\n",
       "    .dataframe tbody tr th:only-of-type {\n",
       "        vertical-align: middle;\n",
       "    }\n",
       "\n",
       "    .dataframe tbody tr th {\n",
       "        vertical-align: top;\n",
       "    }\n",
       "\n",
       "    .dataframe thead th {\n",
       "        text-align: right;\n",
       "    }\n",
       "</style>\n",
       "<table border=\"1\" class=\"dataframe\">\n",
       "  <thead>\n",
       "    <tr style=\"text-align: right;\">\n",
       "      <th></th>\n",
       "      <th>date</th>\n",
       "      <th>ano_i</th>\n",
       "      <th>bim_i</th>\n",
       "      <th>KG_LIQUIDO</th>\n",
       "      <th>VL_FOB</th>\n",
       "      <th>mm_kg_bim_i</th>\n",
       "      <th>mm_fob_bim_i</th>\n",
       "      <th>fob_kg</th>\n",
       "      <th>tipo</th>\n",
       "    </tr>\n",
       "  </thead>\n",
       "  <tbody>\n",
       "    <tr>\n",
       "      <th>128</th>\n",
       "      <td>2022-05-01</td>\n",
       "      <td>2021</td>\n",
       "      <td>5</td>\n",
       "      <td>3988210.0</td>\n",
       "      <td>5842781.00</td>\n",
       "      <td>22132270.0</td>\n",
       "      <td>22780888.00</td>\n",
       "      <td>1.073607</td>\n",
       "      <td>real</td>\n",
       "    </tr>\n",
       "    <tr>\n",
       "      <th>129</th>\n",
       "      <td>2022-07-01</td>\n",
       "      <td>2021</td>\n",
       "      <td>6</td>\n",
       "      <td>4270350.0</td>\n",
       "      <td>6175497.00</td>\n",
       "      <td>26306620.0</td>\n",
       "      <td>28810333.00</td>\n",
       "      <td>1.465013</td>\n",
       "      <td>real</td>\n",
       "    </tr>\n",
       "    <tr>\n",
       "      <th>130</th>\n",
       "      <td>2022-09-01</td>\n",
       "      <td>2022</td>\n",
       "      <td>1</td>\n",
       "      <td>5699900.0</td>\n",
       "      <td>8135785.00</td>\n",
       "      <td>27705760.0</td>\n",
       "      <td>33585822.00</td>\n",
       "      <td>1.446134</td>\n",
       "      <td>real</td>\n",
       "    </tr>\n",
       "    <tr>\n",
       "      <th>131</th>\n",
       "      <td>2022-11-01</td>\n",
       "      <td>2022</td>\n",
       "      <td>2</td>\n",
       "      <td>169000.0</td>\n",
       "      <td>280768.00</td>\n",
       "      <td>23322760.0</td>\n",
       "      <td>30368988.00</td>\n",
       "      <td>1.427356</td>\n",
       "      <td>real</td>\n",
       "    </tr>\n",
       "    <tr>\n",
       "      <th>132</th>\n",
       "      <td>2023-01-01</td>\n",
       "      <td>2022</td>\n",
       "      <td>3</td>\n",
       "      <td>7758200.0</td>\n",
       "      <td>3275804.00</td>\n",
       "      <td>31069960.0</td>\n",
       "      <td>33570963.00</td>\n",
       "      <td>1.661349</td>\n",
       "      <td>real</td>\n",
       "    </tr>\n",
       "    <tr>\n",
       "      <th>133</th>\n",
       "      <td>2023-03-01</td>\n",
       "      <td>2022</td>\n",
       "      <td>4</td>\n",
       "      <td>3593000.0</td>\n",
       "      <td>4008627.00</td>\n",
       "      <td>25478660.0</td>\n",
       "      <td>27719262.00</td>\n",
       "      <td>0.422238</td>\n",
       "      <td>real</td>\n",
       "    </tr>\n",
       "    <tr>\n",
       "      <th>134</th>\n",
       "      <td>2023-05-01</td>\n",
       "      <td>2022</td>\n",
       "      <td>5</td>\n",
       "      <td>1210800.0</td>\n",
       "      <td>1195526.00</td>\n",
       "      <td>22701250.0</td>\n",
       "      <td>23072007.00</td>\n",
       "      <td>1.115677</td>\n",
       "      <td>real</td>\n",
       "    </tr>\n",
       "    <tr>\n",
       "      <th>135</th>\n",
       "      <td>2023-07-01</td>\n",
       "      <td>2022</td>\n",
       "      <td>6</td>\n",
       "      <td>3001600.0</td>\n",
       "      <td>2851295.00</td>\n",
       "      <td>21432500.0</td>\n",
       "      <td>19747805.00</td>\n",
       "      <td>0.987385</td>\n",
       "      <td>real</td>\n",
       "    </tr>\n",
       "    <tr>\n",
       "      <th>136</th>\n",
       "      <td>2023-09-01</td>\n",
       "      <td>2023</td>\n",
       "      <td>1</td>\n",
       "      <td>1644000.0</td>\n",
       "      <td>1455127.00</td>\n",
       "      <td>17376600.0</td>\n",
       "      <td>13067147.00</td>\n",
       "      <td>0.949925</td>\n",
       "      <td>real</td>\n",
       "    </tr>\n",
       "    <tr>\n",
       "      <th>137</th>\n",
       "      <td>2023-11-01</td>\n",
       "      <td>2023</td>\n",
       "      <td>2</td>\n",
       "      <td>2372000.0</td>\n",
       "      <td>2224004.00</td>\n",
       "      <td>19579600.0</td>\n",
       "      <td>15010383.00</td>\n",
       "      <td>0.885114</td>\n",
       "      <td>real</td>\n",
       "    </tr>\n",
       "    <tr>\n",
       "      <th>138</th>\n",
       "      <td>2024-01-01</td>\n",
       "      <td>2023</td>\n",
       "      <td>3</td>\n",
       "      <td>2876400.0</td>\n",
       "      <td>2509696.00</td>\n",
       "      <td>14697800.0</td>\n",
       "      <td>14244275.00</td>\n",
       "      <td>0.937607</td>\n",
       "      <td>real</td>\n",
       "    </tr>\n",
       "    <tr>\n",
       "      <th>139</th>\n",
       "      <td>2024-03-01</td>\n",
       "      <td>2023</td>\n",
       "      <td>4</td>\n",
       "      <td>7880400.0</td>\n",
       "      <td>6685628.00</td>\n",
       "      <td>18985200.0</td>\n",
       "      <td>16921276.00</td>\n",
       "      <td>0.872513</td>\n",
       "      <td>real</td>\n",
       "    </tr>\n",
       "    <tr>\n",
       "      <th>140</th>\n",
       "      <td>2024-05-01</td>\n",
       "      <td>2023</td>\n",
       "      <td>5</td>\n",
       "      <td>4554800.0</td>\n",
       "      <td>3948406.00</td>\n",
       "      <td>22329200.0</td>\n",
       "      <td>19674156.00</td>\n",
       "      <td>0.848387</td>\n",
       "      <td>real</td>\n",
       "    </tr>\n",
       "    <tr>\n",
       "      <th>141</th>\n",
       "      <td>2024-07-01</td>\n",
       "      <td>2023</td>\n",
       "      <td>6</td>\n",
       "      <td>7813700.0</td>\n",
       "      <td>6634727.00</td>\n",
       "      <td>27141300.0</td>\n",
       "      <td>23457588.00</td>\n",
       "      <td>0.866867</td>\n",
       "      <td>real</td>\n",
       "    </tr>\n",
       "    <tr>\n",
       "      <th>0</th>\n",
       "      <td>2024-09-01</td>\n",
       "      <td>2024</td>\n",
       "      <td>1</td>\n",
       "      <td>-879838.0</td>\n",
       "      <td>-537622.79</td>\n",
       "      <td>24617462.0</td>\n",
       "      <td>21464838.21</td>\n",
       "      <td>0.611047</td>\n",
       "      <td>prev</td>\n",
       "    </tr>\n",
       "  </tbody>\n",
       "</table>\n",
       "</div>"
      ],
      "text/plain": [
       "          date  ano_i  bim_i  KG_LIQUIDO      VL_FOB  mm_kg_bim_i  \\\n",
       "128 2022-05-01   2021      5   3988210.0  5842781.00   22132270.0   \n",
       "129 2022-07-01   2021      6   4270350.0  6175497.00   26306620.0   \n",
       "130 2022-09-01   2022      1   5699900.0  8135785.00   27705760.0   \n",
       "131 2022-11-01   2022      2    169000.0   280768.00   23322760.0   \n",
       "132 2023-01-01   2022      3   7758200.0  3275804.00   31069960.0   \n",
       "133 2023-03-01   2022      4   3593000.0  4008627.00   25478660.0   \n",
       "134 2023-05-01   2022      5   1210800.0  1195526.00   22701250.0   \n",
       "135 2023-07-01   2022      6   3001600.0  2851295.00   21432500.0   \n",
       "136 2023-09-01   2023      1   1644000.0  1455127.00   17376600.0   \n",
       "137 2023-11-01   2023      2   2372000.0  2224004.00   19579600.0   \n",
       "138 2024-01-01   2023      3   2876400.0  2509696.00   14697800.0   \n",
       "139 2024-03-01   2023      4   7880400.0  6685628.00   18985200.0   \n",
       "140 2024-05-01   2023      5   4554800.0  3948406.00   22329200.0   \n",
       "141 2024-07-01   2023      6   7813700.0  6634727.00   27141300.0   \n",
       "0   2024-09-01   2024      1   -879838.0  -537622.79   24617462.0   \n",
       "\n",
       "     mm_fob_bim_i    fob_kg  tipo  \n",
       "128   22780888.00  1.073607  real  \n",
       "129   28810333.00  1.465013  real  \n",
       "130   33585822.00  1.446134  real  \n",
       "131   30368988.00  1.427356  real  \n",
       "132   33570963.00  1.661349  real  \n",
       "133   27719262.00  0.422238  real  \n",
       "134   23072007.00  1.115677  real  \n",
       "135   19747805.00  0.987385  real  \n",
       "136   13067147.00  0.949925  real  \n",
       "137   15010383.00  0.885114  real  \n",
       "138   14244275.00  0.937607  real  \n",
       "139   16921276.00  0.872513  real  \n",
       "140   19674156.00  0.848387  real  \n",
       "141   23457588.00  0.866867  real  \n",
       "0     21464838.21  0.611047  prev  "
      ]
     },
     "execution_count": 34,
     "metadata": {},
     "output_type": "execute_result"
    }
   ],
   "source": [
    "comex_df_mm.tail(15)"
   ]
  },
  {
   "cell_type": "code",
   "execution_count": 35,
   "id": "72618ae3-62a2-402c-97c1-6924d91d6885",
   "metadata": {},
   "outputs": [
    {
     "data": {
      "image/png": "[encoded data removed]",
      "text/plain": [
       "<Figure size 681.125x200 with 1 Axes>"
      ]
     },
     "metadata": {},
     "output_type": "display_data"
    },
    {
     "data": {
      "image/png": "[encoded data removed]",
      "text/plain": [
       "<Figure size 681.125x200 with 1 Axes>"
      ]
     },
     "metadata": {},
     "output_type": "display_data"
    },
    {
     "data": {
      "image/png": "[encoded data removed]",
      "text/plain": [
       "<Figure size 681.125x200 with 1 Axes>"
      ]
     },
     "metadata": {},
     "output_type": "display_data"
    }
   ],
   "source": [
    "for cc in ['mm_kg_','mm_fob_','fob_kg']:\n",
    "    kt='tipo'\n",
    "    sct=sc\n",
    "    if cc == 'fob_kg':\n",
    "        sns.relplot(data=comex_df_mm,x='date',y=cc,height=2,aspect=3,hue='tipo')\\\n",
    "        .fig.suptitle(f\"Importações de {nick} \\n {uf} agrupados por {sc}.\", y=1.2)\n",
    "        plt.xticks(rotation=90)\n",
    "        plt.show()\n",
    "    else:\n",
    "        sns.relplot(data=comex_df_mm,x='date',y=cc+str(sct),height=2,aspect=3, hue=kt)\\\n",
    "        .fig.suptitle(f\"Importações de {nick} \\n {uf} agrupados por {sc}.\", y=1.1)\n",
    "        plt.xticks(rotation=30)\n",
    "        plt.show()"
   ]
  },
  {
   "cell_type": "code",
   "execution_count": null,
   "id": "b6676910-11ba-4d17-8aae-48a32c1341c3",
   "metadata": {},
   "outputs": [],
   "source": []
  },
  {
   "cell_type": "code",
   "execution_count": null,
   "id": "941c5753-2c19-4b92-9eea-49823f900485",
   "metadata": {},
   "outputs": [],
   "source": []
  },
  {
   "cell_type": "code",
   "execution_count": null,
   "id": "f4b46c9b-bc0a-410f-b7e2-8950299ac29a",
   "metadata": {},
   "outputs": [],
   "source": []
  },
  {
   "cell_type": "code",
   "execution_count": null,
   "id": "dabdbc34-3c79-417f-84ca-bbbc85e74245",
   "metadata": {},
   "outputs": [],
   "source": []
  },
  {
   "cell_type": "code",
   "execution_count": null,
   "id": "9b8621a0-6142-4bfd-a772-8b1ebc65ffac",
   "metadata": {},
   "outputs": [],
   "source": []
  },
  {
   "cell_type": "code",
   "execution_count": null,
   "id": "556d889d-3b27-4acc-8060-bde3e5191208",
   "metadata": {},
   "outputs": [],
   "source": []
  },
  {
   "cell_type": "code",
   "execution_count": null,
   "id": "c8b9c9d5-2413-42d5-9091-62ff09fb3588",
   "metadata": {},
   "outputs": [],
   "source": []
  },
  {
   "cell_type": "code",
   "execution_count": null,
   "id": "a5acdc5f-751d-476d-9ea4-2c90146e5d6a",
   "metadata": {},
   "outputs": [],
   "source": []
  },
  {
   "cell_type": "code",
   "execution_count": null,
   "id": "ef8e1310-7188-4728-9fc2-8b616f8c2374",
   "metadata": {},
   "outputs": [],
   "source": []
  }
 ],
 "metadata": {
  "kernelspec": {
   "display_name": "Python 3 (ipykernel)",
   "language": "python",
   "name": "python3"
  },
  "language_info": {
   "codemirror_mode": {
    "name": "ipython",
    "version": 3
   },
   "file_extension": ".py",
   "mimetype": "text/x-python",
   "name": "python",
   "nbconvert_exporter": "python",
   "pygments_lexer": "ipython3",
   "version": "3.11.2"
  }
 },
 "nbformat": 4,
 "nbformat_minor": 5
}
