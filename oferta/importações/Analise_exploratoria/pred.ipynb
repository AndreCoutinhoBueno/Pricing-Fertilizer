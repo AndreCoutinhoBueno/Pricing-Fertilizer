{
 "cells": [
  {
   "cell_type": "code",
   "execution_count": 1,
   "id": "492bf4aa-2159-4a30-a7de-90e9cd657892",
   "metadata": {},
   "outputs": [],
   "source": [
    "import time\n",
    "ini=time.time()\n",
    "import warnings\n",
    "warnings.filterwarnings(\"ignore\")\n",
    "import pandas as pd\n",
    "import numpy as np\n",
    "import seaborn as sns\n",
    "from sklearn import metrics\n",
    "import matplotlib.pyplot as plt"
   ]
  },
  {
   "cell_type": "code",
   "execution_count": 2,
   "id": "4bdff52c-09a2-46dc-932c-5151701e5ebc",
   "metadata": {},
   "outputs": [],
   "source": [
    "def un_dumm_sub(pred_dumm):\n",
    "    pred=pd.concat([pred_dumm.select_dtypes(exclude='bool'),pd.from_dummies(pred_dumm.select_dtypes(include='bool'),sep='~')],axis=1)\n",
    "    pred=pred[pred.columns[~pred.columns.str.contains('~')]]\n",
    "    return pred\n",
    "\n",
    "pred_c=un_dumm_sub(pd.read_csv('~/git/BD/temp/pred_c.csv'))\n",
    "\n",
    "pred_r=un_dumm_sub(pd.read_csv('~/git/BD/temp/pred_r.csv'))\n",
    "\n",
    "pred=pred_c.merge(pred_r,how='outer')\n",
    "\n",
    "pred.date=pred.date.astype('datetime64[ns]')\n",
    "\n",
    "pred['CO_ANO']=pred.date.dt.year"
   ]
  },
  {
   "cell_type": "code",
   "execution_count": 3,
   "id": "ce039cc2-ce55-47f6-92c2-ee67ebae3c4b",
   "metadata": {},
   "outputs": [],
   "source": [
    "pred_l=pd.concat([\n",
    "    pred.drop(columns='KG_LIQUIDO_pred').assign(tipo='real'),\n",
    "                 pred.drop(columns='KG_LIQUIDO').rename(columns={'KG_LIQUIDO_pred':'KG_LIQUIDO'}).assign(tipo='pred')\n",
    "                 ]).sort_values('date')"
   ]
  },
  {
   "cell_type": "code",
   "execution_count": 4,
   "id": "5c45915e-f7ed-4957-b5f5-d245f61f9684",
   "metadata": {},
   "outputs": [
    {
     "name": "stdout",
     "output_type": "stream",
     "text": [
      "<class 'pandas.core.frame.DataFrame'>\n",
      "Index: 424 entries, 0 to 211\n",
      "Data columns (total 14 columns):\n",
      " #   Column      Non-Null Count  Dtype         \n",
      "---  ------      --------------  -----         \n",
      " 0   oc          424 non-null    int64         \n",
      " 1   oc_pred     424 non-null    int64         \n",
      " 2   date        424 non-null    datetime64[ns]\n",
      " 3   md_c        424 non-null    int64         \n",
      " 4   l_min_y     424 non-null    int64         \n",
      " 5   indv        424 non-null    int64         \n",
      " 6   l_max_y     424 non-null    int64         \n",
      " 7   ad_col      424 non-null    int64         \n",
      " 8   CO_MES      424 non-null    int64         \n",
      " 9   nick        424 non-null    object        \n",
      " 10  KG_LIQUIDO  410 non-null    float64       \n",
      " 11  md_r        410 non-null    float64       \n",
      " 12  CO_ANO      424 non-null    int32         \n",
      " 13  tipo        424 non-null    object        \n",
      "dtypes: datetime64[ns](1), float64(2), int32(1), int64(8), object(2)\n",
      "memory usage: 48.0+ KB\n"
     ]
    }
   ],
   "source": [
    "pred_l.CO_MES=pred_l.CO_MES.astype(int)\n",
    "pred_l.info()"
   ]
  },
  {
   "cell_type": "code",
   "execution_count": 5,
   "id": "197a8d76-380b-4a1b-b1d5-6c24c72f651d",
   "metadata": {},
   "outputs": [
    {
     "data": {
      "text/html": [
       "<div>\n",
       "<style scoped>\n",
       "    .dataframe tbody tr th:only-of-type {\n",
       "        vertical-align: middle;\n",
       "    }\n",
       "\n",
       "    .dataframe tbody tr th {\n",
       "        vertical-align: top;\n",
       "    }\n",
       "\n",
       "    .dataframe thead th {\n",
       "        text-align: right;\n",
       "    }\n",
       "</style>\n",
       "<table border=\"1\" class=\"dataframe\">\n",
       "  <thead>\n",
       "    <tr style=\"text-align: right;\">\n",
       "      <th></th>\n",
       "      <th>CO_MES</th>\n",
       "      <th>nick</th>\n",
       "      <th>r2</th>\n",
       "    </tr>\n",
       "  </thead>\n",
       "  <tbody>\n",
       "    <tr>\n",
       "      <th>0</th>\n",
       "      <td>7</td>\n",
       "      <td>MAP_k</td>\n",
       "      <td>-0.054383</td>\n",
       "    </tr>\n",
       "    <tr>\n",
       "      <th>1</th>\n",
       "      <td>7</td>\n",
       "      <td>MOP_k</td>\n",
       "      <td>-0.427347</td>\n",
       "    </tr>\n",
       "    <tr>\n",
       "      <th>2</th>\n",
       "      <td>7</td>\n",
       "      <td>SAM_k</td>\n",
       "      <td>0.698097</td>\n",
       "    </tr>\n",
       "    <tr>\n",
       "      <th>3</th>\n",
       "      <td>7</td>\n",
       "      <td>UREIA_k</td>\n",
       "      <td>-1.137619</td>\n",
       "    </tr>\n",
       "  </tbody>\n",
       "</table>\n",
       "</div>"
      ],
      "text/plain": [
       "   CO_MES     nick        r2\n",
       "0       7    MAP_k -0.054383\n",
       "1       7    MOP_k -0.427347\n",
       "2       7    SAM_k  0.698097\n",
       "3       7  UREIA_k -1.137619"
      ]
     },
     "execution_count": 5,
     "metadata": {},
     "output_type": "execute_result"
    }
   ],
   "source": [
    "scores=pd.read_csv('~/git/BD/temp/score.csv')\n",
    "scores.head(1)\n",
    "\n",
    "r2_max=scores.groupby(by=['CO_MES','nick']).r2.max().reset_index()\n",
    "r2_max"
   ]
  },
  {
   "cell_type": "code",
   "execution_count": 6,
   "id": "c28258d1-0fed-4295-ac27-5560cc6270b9",
   "metadata": {},
   "outputs": [
    {
     "data": {
      "text/html": [
       "<div>\n",
       "<style scoped>\n",
       "    .dataframe tbody tr th:only-of-type {\n",
       "        vertical-align: middle;\n",
       "    }\n",
       "\n",
       "    .dataframe tbody tr th {\n",
       "        vertical-align: top;\n",
       "    }\n",
       "\n",
       "    .dataframe thead th {\n",
       "        text-align: right;\n",
       "    }\n",
       "</style>\n",
       "<table border=\"1\" class=\"dataframe\">\n",
       "  <thead>\n",
       "    <tr style=\"text-align: right;\">\n",
       "      <th></th>\n",
       "      <th>CO_MES</th>\n",
       "      <th>nick</th>\n",
       "      <th>md_c</th>\n",
       "      <th>md_r</th>\n",
       "      <th>accuracy</th>\n",
       "      <th>precision</th>\n",
       "      <th>recall</th>\n",
       "      <th>r2</th>\n",
       "      <th>ad_col</th>\n",
       "      <th>indv</th>\n",
       "    </tr>\n",
       "  </thead>\n",
       "  <tbody>\n",
       "    <tr>\n",
       "      <th>0</th>\n",
       "      <td>7</td>\n",
       "      <td>UREIA_k</td>\n",
       "      <td>1</td>\n",
       "      <td>1.0</td>\n",
       "      <td>1.0</td>\n",
       "      <td>1.0</td>\n",
       "      <td>1.0</td>\n",
       "      <td>-1.137619</td>\n",
       "      <td>1</td>\n",
       "      <td>0</td>\n",
       "    </tr>\n",
       "    <tr>\n",
       "      <th>1</th>\n",
       "      <td>7</td>\n",
       "      <td>SAM_k</td>\n",
       "      <td>1</td>\n",
       "      <td>13.0</td>\n",
       "      <td>1.0</td>\n",
       "      <td>1.0</td>\n",
       "      <td>1.0</td>\n",
       "      <td>0.698097</td>\n",
       "      <td>1</td>\n",
       "      <td>0</td>\n",
       "    </tr>\n",
       "    <tr>\n",
       "      <th>2</th>\n",
       "      <td>7</td>\n",
       "      <td>MOP_k</td>\n",
       "      <td>1</td>\n",
       "      <td>13.0</td>\n",
       "      <td>1.0</td>\n",
       "      <td>1.0</td>\n",
       "      <td>1.0</td>\n",
       "      <td>-0.427347</td>\n",
       "      <td>1</td>\n",
       "      <td>0</td>\n",
       "    </tr>\n",
       "    <tr>\n",
       "      <th>3</th>\n",
       "      <td>7</td>\n",
       "      <td>MAP_k</td>\n",
       "      <td>1</td>\n",
       "      <td>13.0</td>\n",
       "      <td>1.0</td>\n",
       "      <td>1.0</td>\n",
       "      <td>1.0</td>\n",
       "      <td>-0.054383</td>\n",
       "      <td>1</td>\n",
       "      <td>0</td>\n",
       "    </tr>\n",
       "  </tbody>\n",
       "</table>\n",
       "</div>"
      ],
      "text/plain": [
       "   CO_MES     nick  md_c  md_r  accuracy  precision  recall        r2  ad_col  \\\n",
       "0       7  UREIA_k     1   1.0       1.0        1.0     1.0 -1.137619       1   \n",
       "1       7    SAM_k     1  13.0       1.0        1.0     1.0  0.698097       1   \n",
       "2       7    MOP_k     1  13.0       1.0        1.0     1.0 -0.427347       1   \n",
       "3       7    MAP_k     1  13.0       1.0        1.0     1.0 -0.054383       1   \n",
       "\n",
       "   indv  \n",
       "0     0  \n",
       "1     0  \n",
       "2     0  \n",
       "3     0  "
      ]
     },
     "execution_count": 6,
     "metadata": {},
     "output_type": "execute_result"
    }
   ],
   "source": [
    "hyper_max=scores.merge(r2_max)\n",
    "hyper_max"
   ]
  },
  {
   "cell_type": "code",
   "execution_count": 7,
   "id": "d2448160-8913-4be8-b181-a1a7d5c15dac",
   "metadata": {},
   "outputs": [],
   "source": [
    "pred_l.head(1)\n",
    "\n",
    "hyper_max.ad_col.unique()\n",
    "\n",
    "pred_l.ad_col.unique()\n",
    "\n",
    "pred_l=pred_l.merge(hyper_max[['CO_MES','nick','md_c','md_r']])"
   ]
  },
  {
   "cell_type": "code",
   "execution_count": 8,
   "id": "dc9c421e-e034-4283-bccb-9b38086281a5",
   "metadata": {},
   "outputs": [],
   "source": [
    "i=pd.read_csv('~/git/BD/temp/imp_fert_quanti.csv').sort_values(by=['CO_ANO','CO_MES'])\n",
    "i=i[i.SG_UF_NCM=='BA']\n",
    "i=i[i.nick.isin(['UREIA_k','MAP_k','MOP_k','SAM_k'])]\n",
    "i=i.groupby(by=['CO_ANO','CO_MES','nick'],observed=True)[['KG_LIQUIDO','VL_FOB']].sum()\\\n",
    ".reset_index().sort_values(by=['CO_ANO','CO_MES','nick'])\n",
    "i['date']=pd.to_datetime(i.CO_ANO.astype(str)+'/'+i.CO_MES.astype(str)+'/1')"
   ]
  },
  {
   "cell_type": "code",
   "execution_count": 9,
   "id": "e563b825-be41-4e5e-961c-d6573b5ee3b9",
   "metadata": {},
   "outputs": [],
   "source": [
    "i=i[i.date<pred_l.date.min()].assign(tipo='real').assign(ad_col=0).assign(md_r=1).assign(indv=0)"
   ]
  },
  {
   "cell_type": "code",
   "execution_count": 10,
   "id": "f8975d21-6692-471a-9200-7d772be4d02e",
   "metadata": {},
   "outputs": [],
   "source": [
    "pred_l.CO_MES=pred_l.CO_MES.astype(int)"
   ]
  },
  {
   "cell_type": "code",
   "execution_count": 11,
   "id": "81f9ad0c-00bb-466f-923f-d3632b7c5d2b",
   "metadata": {},
   "outputs": [],
   "source": [
    "pred_l=pred_l[\n",
    "(pred_l.nick=='MOP_k')\n",
    "]\n",
    "pred_l=pred_l.dropna()"
   ]
  },
  {
   "cell_type": "code",
   "execution_count": 12,
   "id": "80b4504c-830a-4f9a-b6a9-0b74f5fd29d4",
   "metadata": {},
   "outputs": [],
   "source": [
    "i=i.merge(pred_l[['CO_MES','nick']].drop_duplicates())"
   ]
  },
  {
   "cell_type": "code",
   "execution_count": 13,
   "id": "f08c2c8e-1533-40e9-b277-8eefa321f13e",
   "metadata": {},
   "outputs": [],
   "source": [
    "pred_l.CO_ANO=pred_l.CO_ANO.astype(str)"
   ]
  },
  {
   "cell_type": "code",
   "execution_count": 14,
   "id": "de2facc5-76b9-42d5-b93b-388cbe956722",
   "metadata": {},
   "outputs": [],
   "source": [
    "i.CO_ANO=i.CO_ANO.astype(str)"
   ]
  },
  {
   "cell_type": "code",
   "execution_count": 15,
   "id": "24c0127d-fb3a-4250-b819-48b6fca8f1ca",
   "metadata": {},
   "outputs": [],
   "source": [
    "pred_l=pd.concat([i,pred_l])"
   ]
  },
  {
   "cell_type": "code",
   "execution_count": 16,
   "id": "f69008d1-6914-4e2c-a3f3-c7a1bac1fa89",
   "metadata": {},
   "outputs": [
    {
     "data": {
      "text/html": [
       "<div>\n",
       "<style scoped>\n",
       "    .dataframe tbody tr th:only-of-type {\n",
       "        vertical-align: middle;\n",
       "    }\n",
       "\n",
       "    .dataframe tbody tr th {\n",
       "        vertical-align: top;\n",
       "    }\n",
       "\n",
       "    .dataframe thead th {\n",
       "        text-align: right;\n",
       "    }\n",
       "</style>\n",
       "<table border=\"1\" class=\"dataframe\">\n",
       "  <thead>\n",
       "    <tr style=\"text-align: right;\">\n",
       "      <th></th>\n",
       "      <th>CO_ANO</th>\n",
       "      <th>CO_MES</th>\n",
       "      <th>nick</th>\n",
       "      <th>KG_LIQUIDO</th>\n",
       "      <th>VL_FOB</th>\n",
       "      <th>date</th>\n",
       "      <th>tipo</th>\n",
       "      <th>ad_col</th>\n",
       "      <th>md_r</th>\n",
       "      <th>indv</th>\n",
       "      <th>oc</th>\n",
       "      <th>oc_pred</th>\n",
       "      <th>md_c</th>\n",
       "      <th>l_min_y</th>\n",
       "      <th>l_max_y</th>\n",
       "    </tr>\n",
       "  </thead>\n",
       "  <tbody>\n",
       "    <tr>\n",
       "      <th>36</th>\n",
       "      <td>2018</td>\n",
       "      <td>7</td>\n",
       "      <td>MOP_k</td>\n",
       "      <td>9.452809e+07</td>\n",
       "      <td>NaN</td>\n",
       "      <td>2018-07-01</td>\n",
       "      <td>real</td>\n",
       "      <td>1</td>\n",
       "      <td>13.0</td>\n",
       "      <td>0</td>\n",
       "      <td>1.0</td>\n",
       "      <td>1.0</td>\n",
       "      <td>1.0</td>\n",
       "      <td>15.0</td>\n",
       "      <td>15.0</td>\n",
       "    </tr>\n",
       "    <tr>\n",
       "      <th>38</th>\n",
       "      <td>2018</td>\n",
       "      <td>7</td>\n",
       "      <td>MOP_k</td>\n",
       "      <td>5.429281e+07</td>\n",
       "      <td>NaN</td>\n",
       "      <td>2018-07-01</td>\n",
       "      <td>pred</td>\n",
       "      <td>1</td>\n",
       "      <td>13.0</td>\n",
       "      <td>0</td>\n",
       "      <td>1.0</td>\n",
       "      <td>1.0</td>\n",
       "      <td>1.0</td>\n",
       "      <td>15.0</td>\n",
       "      <td>15.0</td>\n",
       "    </tr>\n",
       "  </tbody>\n",
       "</table>\n",
       "</div>"
      ],
      "text/plain": [
       "   CO_ANO  CO_MES   nick    KG_LIQUIDO  VL_FOB       date  tipo  ad_col  md_r  \\\n",
       "36   2018       7  MOP_k  9.452809e+07     NaN 2018-07-01  real       1  13.0   \n",
       "38   2018       7  MOP_k  5.429281e+07     NaN 2018-07-01  pred       1  13.0   \n",
       "\n",
       "    indv   oc  oc_pred  md_c  l_min_y  l_max_y  \n",
       "36     0  1.0      1.0   1.0     15.0     15.0  \n",
       "38     0  1.0      1.0   1.0     15.0     15.0  "
      ]
     },
     "execution_count": 16,
     "metadata": {},
     "output_type": "execute_result"
    }
   ],
   "source": [
    "pred_l[pred_l.CO_ANO.astype(int)==2018]"
   ]
  },
  {
   "cell_type": "code",
   "execution_count": 17,
   "id": "7fced23d-aa66-4abf-a746-9c90981d1fd6",
   "metadata": {},
   "outputs": [
    {
     "data": {
      "text/plain": [
       "<seaborn.axisgrid.FacetGrid at 0x7f37e03189d0>"
      ]
     },
     "execution_count": 17,
     "metadata": {},
     "output_type": "execute_result"
    },
    {
     "data": {
      "image/png": "[encoded data removed]",
      "text/plain": [
       "<Figure size 1281.75x400 with 1 Axes>"
      ]
     },
     "metadata": {},
     "output_type": "display_data"
    }
   ],
   "source": [
    "sns.relplot(data=pred_l,x='CO_ANO',y='KG_LIQUIDO',hue='tipo',height=4,aspect=3)"
   ]
  },
  {
   "cell_type": "code",
   "execution_count": 18,
   "id": "d64e5037-8b3e-4597-85cb-33c6ad69748c",
   "metadata": {},
   "outputs": [
    {
     "data": {
      "text/html": [
       "<div>\n",
       "<style scoped>\n",
       "    .dataframe tbody tr th:only-of-type {\n",
       "        vertical-align: middle;\n",
       "    }\n",
       "\n",
       "    .dataframe tbody tr th {\n",
       "        vertical-align: top;\n",
       "    }\n",
       "\n",
       "    .dataframe thead th {\n",
       "        text-align: right;\n",
       "    }\n",
       "</style>\n",
       "<table border=\"1\" class=\"dataframe\">\n",
       "  <thead>\n",
       "    <tr style=\"text-align: right;\">\n",
       "      <th></th>\n",
       "      <th>CO_ANO</th>\n",
       "      <th>CO_MES</th>\n",
       "      <th>nick</th>\n",
       "      <th>KG_LIQUIDO</th>\n",
       "      <th>VL_FOB</th>\n",
       "      <th>date</th>\n",
       "      <th>tipo</th>\n",
       "      <th>ad_col</th>\n",
       "      <th>md_r</th>\n",
       "      <th>indv</th>\n",
       "      <th>oc</th>\n",
       "      <th>oc_pred</th>\n",
       "      <th>md_c</th>\n",
       "      <th>l_min_y</th>\n",
       "      <th>l_max_y</th>\n",
       "    </tr>\n",
       "  </thead>\n",
       "  <tbody>\n",
       "    <tr>\n",
       "      <th>11</th>\n",
       "      <td>2014</td>\n",
       "      <td>7</td>\n",
       "      <td>MOP_k</td>\n",
       "      <td>3.832044e+07</td>\n",
       "      <td>NaN</td>\n",
       "      <td>2014-07-01</td>\n",
       "      <td>pred</td>\n",
       "      <td>1</td>\n",
       "      <td>13.0</td>\n",
       "      <td>0</td>\n",
       "      <td>1.0</td>\n",
       "      <td>1.0</td>\n",
       "      <td>1.0</td>\n",
       "      <td>15.0</td>\n",
       "      <td>15.0</td>\n",
       "    </tr>\n",
       "  </tbody>\n",
       "</table>\n",
       "</div>"
      ],
      "text/plain": [
       "   CO_ANO  CO_MES   nick    KG_LIQUIDO  VL_FOB       date  tipo  ad_col  md_r  \\\n",
       "11   2014       7  MOP_k  3.832044e+07     NaN 2014-07-01  pred       1  13.0   \n",
       "\n",
       "    indv   oc  oc_pred  md_c  l_min_y  l_max_y  \n",
       "11     0  1.0      1.0   1.0     15.0     15.0  "
      ]
     },
     "execution_count": 18,
     "metadata": {},
     "output_type": "execute_result"
    }
   ],
   "source": [
    "w=pd.concat([i,pred_l])\n",
    "w[(w.CO_ANO.astype(int)==2014)&(w.tipo=='pred')]"
   ]
  },
  {
   "cell_type": "code",
   "execution_count": null,
   "id": "9f76fd08-a68e-44c2-95a7-09b22bf06bce",
   "metadata": {},
   "outputs": [],
   "source": []
  },
  {
   "cell_type": "code",
   "execution_count": null,
   "id": "5069eb38-9b53-4112-8f96-547575b5f78a",
   "metadata": {},
   "outputs": [],
   "source": []
  }
 ],
 "metadata": {
  "kernelspec": {
   "display_name": "Python 3 (ipykernel)",
   "language": "python",
   "name": "python3"
  },
  "language_info": {
   "codemirror_mode": {
    "name": "ipython",
    "version": 3
   },
   "file_extension": ".py",
   "mimetype": "text/x-python",
   "name": "python",
   "nbconvert_exporter": "python",
   "pygments_lexer": "ipython3",
   "version": "3.11.2"
  }
 },
 "nbformat": 4,
 "nbformat_minor": 5
}
