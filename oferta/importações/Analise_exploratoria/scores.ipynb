{
 "cells": [
  {
   "cell_type": "code",
   "execution_count": 1,
   "id": "492bf4aa-2159-4a30-a7de-90e9cd657892",
   "metadata": {},
   "outputs": [],
   "source": [
    "import time\n",
    "ini=time.time()\n",
    "import warnings\n",
    "warnings.filterwarnings(\"ignore\")\n",
    "import pandas as pd\n",
    "import numpy as np\n",
    "import seaborn as sns\n",
    "from sklearn import metrics\n",
    "import matplotlib.pyplot as plt"
   ]
  },
  {
   "cell_type": "code",
   "execution_count": 2,
   "id": "10430a88-2cd5-403f-a2d4-e4b16b8d5602",
   "metadata": {},
   "outputs": [],
   "source": [
    "def un_dumm(pred_dumm):\n",
    "    pred=pd.concat([pred_dumm.select_dtypes(exclude='bool'),pd.from_dummies(pred_dumm.select_dtypes(include='bool'),sep='~')],axis=1)\n",
    "    return pred"
   ]
  },
  {
   "cell_type": "code",
   "execution_count": 3,
   "id": "d7c7e10f-5dbe-40b5-9db0-ad682f1b614b",
   "metadata": {},
   "outputs": [
    {
     "data": {
      "text/html": [
       "<div>\n",
       "<style scoped>\n",
       "    .dataframe tbody tr th:only-of-type {\n",
       "        vertical-align: middle;\n",
       "    }\n",
       "\n",
       "    .dataframe tbody tr th {\n",
       "        vertical-align: top;\n",
       "    }\n",
       "\n",
       "    .dataframe thead th {\n",
       "        text-align: right;\n",
       "    }\n",
       "</style>\n",
       "<table border=\"1\" class=\"dataframe\">\n",
       "  <thead>\n",
       "    <tr style=\"text-align: right;\">\n",
       "      <th></th>\n",
       "      <th>oc</th>\n",
       "      <th>oc_pred</th>\n",
       "      <th>date</th>\n",
       "      <th>MAP_k~kg_ad</th>\n",
       "      <th>MAP_k~fob_ad</th>\n",
       "      <th>MOP_k~kg_ad</th>\n",
       "      <th>MOP_k~fob_ad</th>\n",
       "      <th>SAM_k~kg_ad</th>\n",
       "      <th>SAM_k~fob_ad</th>\n",
       "      <th>UREIA_k~kg_ad</th>\n",
       "      <th>UREIA_k~fob_ad</th>\n",
       "      <th>md_c</th>\n",
       "      <th>l_min_y</th>\n",
       "      <th>indv</th>\n",
       "      <th>l_max_y</th>\n",
       "      <th>ad_col</th>\n",
       "      <th>CO_MES</th>\n",
       "      <th>nick</th>\n",
       "    </tr>\n",
       "  </thead>\n",
       "  <tbody>\n",
       "    <tr>\n",
       "      <th>0</th>\n",
       "      <td>1</td>\n",
       "      <td>1</td>\n",
       "      <td>1491004800000000000</td>\n",
       "      <td>16605218.0</td>\n",
       "      <td>5946978.0</td>\n",
       "      <td>23312647.0</td>\n",
       "      <td>5091609.0</td>\n",
       "      <td>13094598.0</td>\n",
       "      <td>1601334.0</td>\n",
       "      <td>5002341.0</td>\n",
       "      <td>1511247.0</td>\n",
       "      <td>1</td>\n",
       "      <td>20</td>\n",
       "      <td>0</td>\n",
       "      <td>0</td>\n",
       "      <td>1</td>\n",
       "      <td>4</td>\n",
       "      <td>MAP_k</td>\n",
       "    </tr>\n",
       "  </tbody>\n",
       "</table>\n",
       "</div>"
      ],
      "text/plain": [
       "   oc  oc_pred                 date MAP_k~kg_ad MAP_k~fob_ad MOP_k~kg_ad  \\\n",
       "0   1        1  1491004800000000000  16605218.0    5946978.0  23312647.0   \n",
       "\n",
       "  MOP_k~fob_ad SAM_k~kg_ad SAM_k~fob_ad UREIA_k~kg_ad UREIA_k~fob_ad  md_c  \\\n",
       "0    5091609.0  13094598.0    1601334.0     5002341.0      1511247.0     1   \n",
       "\n",
       "   l_min_y  indv  l_max_y  ad_col CO_MES   nick  \n",
       "0       20     0        0       1      4  MAP_k  "
      ]
     },
     "execution_count": 3,
     "metadata": {},
     "output_type": "execute_result"
    }
   ],
   "source": [
    "pred_c=un_dumm(pd.read_csv('~/git/BD/temp/pred_c.csv'))\n",
    "pred_c.head(1)"
   ]
  },
  {
   "cell_type": "code",
   "execution_count": 4,
   "id": "53ea0ec0-fb4b-4114-a999-f05239913552",
   "metadata": {},
   "outputs": [
    {
     "data": {
      "text/html": [
       "<div>\n",
       "<style scoped>\n",
       "    .dataframe tbody tr th:only-of-type {\n",
       "        vertical-align: middle;\n",
       "    }\n",
       "\n",
       "    .dataframe tbody tr th {\n",
       "        vertical-align: top;\n",
       "    }\n",
       "\n",
       "    .dataframe thead th {\n",
       "        text-align: right;\n",
       "    }\n",
       "</style>\n",
       "<table border=\"1\" class=\"dataframe\">\n",
       "  <thead>\n",
       "    <tr style=\"text-align: right;\">\n",
       "      <th></th>\n",
       "      <th>KG_LIQUIDO</th>\n",
       "      <th>KG_LIQUIDO_pred</th>\n",
       "      <th>date</th>\n",
       "      <th>MAP_k~kg_ad</th>\n",
       "      <th>MAP_k~fob_ad</th>\n",
       "      <th>MOP_k~kg_ad</th>\n",
       "      <th>MOP_k~fob_ad</th>\n",
       "      <th>SAM_k~kg_ad</th>\n",
       "      <th>SAM_k~fob_ad</th>\n",
       "      <th>UREIA_k~kg_ad</th>\n",
       "      <th>UREIA_k~fob_ad</th>\n",
       "      <th>md_r</th>\n",
       "      <th>l_min_y</th>\n",
       "      <th>indv</th>\n",
       "      <th>l_max_y</th>\n",
       "      <th>ad_col</th>\n",
       "      <th>CO_MES</th>\n",
       "      <th>nick</th>\n",
       "    </tr>\n",
       "  </thead>\n",
       "  <tbody>\n",
       "    <tr>\n",
       "      <th>0</th>\n",
       "      <td>432000.0</td>\n",
       "      <td>1.801647e+07</td>\n",
       "      <td>1491004800000000000</td>\n",
       "      <td>16605218.0</td>\n",
       "      <td>5946978.0</td>\n",
       "      <td>23312647.0</td>\n",
       "      <td>5091609.0</td>\n",
       "      <td>13094598.0</td>\n",
       "      <td>1601334.0</td>\n",
       "      <td>5002341.0</td>\n",
       "      <td>1511247.0</td>\n",
       "      <td>34</td>\n",
       "      <td>20</td>\n",
       "      <td>0</td>\n",
       "      <td>0</td>\n",
       "      <td>1</td>\n",
       "      <td>4</td>\n",
       "      <td>MAP_k</td>\n",
       "    </tr>\n",
       "  </tbody>\n",
       "</table>\n",
       "</div>"
      ],
      "text/plain": [
       "   KG_LIQUIDO  KG_LIQUIDO_pred                 date MAP_k~kg_ad MAP_k~fob_ad  \\\n",
       "0    432000.0     1.801647e+07  1491004800000000000  16605218.0    5946978.0   \n",
       "\n",
       "  MOP_k~kg_ad MOP_k~fob_ad SAM_k~kg_ad SAM_k~fob_ad UREIA_k~kg_ad  \\\n",
       "0  23312647.0    5091609.0  13094598.0    1601334.0     5002341.0   \n",
       "\n",
       "  UREIA_k~fob_ad  md_r  l_min_y  indv  l_max_y  ad_col CO_MES   nick  \n",
       "0      1511247.0    34       20     0        0       1      4  MAP_k  "
      ]
     },
     "execution_count": 4,
     "metadata": {},
     "output_type": "execute_result"
    }
   ],
   "source": [
    "pred_r=un_dumm(pd.read_csv('~/git/BD/temp/pred_r.csv'))\n",
    "pred_r.head(1)"
   ]
  },
  {
   "cell_type": "code",
   "execution_count": 5,
   "id": "56fcdd37-2946-4054-9ab0-c874994376ea",
   "metadata": {},
   "outputs": [
    {
     "data": {
      "text/html": [
       "<div>\n",
       "<style scoped>\n",
       "    .dataframe tbody tr th:only-of-type {\n",
       "        vertical-align: middle;\n",
       "    }\n",
       "\n",
       "    .dataframe tbody tr th {\n",
       "        vertical-align: top;\n",
       "    }\n",
       "\n",
       "    .dataframe thead th {\n",
       "        text-align: right;\n",
       "    }\n",
       "</style>\n",
       "<table border=\"1\" class=\"dataframe\">\n",
       "  <thead>\n",
       "    <tr style=\"text-align: right;\">\n",
       "      <th></th>\n",
       "      <th>oc</th>\n",
       "      <th>oc_pred</th>\n",
       "      <th>date</th>\n",
       "      <th>MAP_k~kg_ad</th>\n",
       "      <th>MAP_k~fob_ad</th>\n",
       "      <th>MOP_k~kg_ad</th>\n",
       "      <th>MOP_k~fob_ad</th>\n",
       "      <th>SAM_k~kg_ad</th>\n",
       "      <th>SAM_k~fob_ad</th>\n",
       "      <th>UREIA_k~kg_ad</th>\n",
       "      <th>...</th>\n",
       "      <th>l_min_y</th>\n",
       "      <th>indv</th>\n",
       "      <th>l_max_y</th>\n",
       "      <th>ad_col</th>\n",
       "      <th>CO_MES</th>\n",
       "      <th>nick</th>\n",
       "      <th>KG_LIQUIDO</th>\n",
       "      <th>KG_LIQUIDO_pred</th>\n",
       "      <th>md_r</th>\n",
       "      <th>CO_ANO</th>\n",
       "    </tr>\n",
       "  </thead>\n",
       "  <tbody>\n",
       "    <tr>\n",
       "      <th>0</th>\n",
       "      <td>1</td>\n",
       "      <td>1</td>\n",
       "      <td>2017-04-01</td>\n",
       "      <td>16605218.0</td>\n",
       "      <td>5946978.0</td>\n",
       "      <td>23312647.0</td>\n",
       "      <td>5091609.0</td>\n",
       "      <td>13094598.0</td>\n",
       "      <td>1601334.0</td>\n",
       "      <td>5002341.0</td>\n",
       "      <td>...</td>\n",
       "      <td>20</td>\n",
       "      <td>0</td>\n",
       "      <td>0</td>\n",
       "      <td>1</td>\n",
       "      <td>4</td>\n",
       "      <td>MAP_k</td>\n",
       "      <td>432000.0</td>\n",
       "      <td>1.801647e+07</td>\n",
       "      <td>34.0</td>\n",
       "      <td>2017</td>\n",
       "    </tr>\n",
       "  </tbody>\n",
       "</table>\n",
       "<p>1 rows × 22 columns</p>\n",
       "</div>"
      ],
      "text/plain": [
       "   oc  oc_pred       date MAP_k~kg_ad MAP_k~fob_ad MOP_k~kg_ad MOP_k~fob_ad  \\\n",
       "0   1        1 2017-04-01  16605218.0    5946978.0  23312647.0    5091609.0   \n",
       "\n",
       "  SAM_k~kg_ad SAM_k~fob_ad UREIA_k~kg_ad  ... l_min_y  indv  l_max_y  ad_col  \\\n",
       "0  13094598.0    1601334.0     5002341.0  ...      20     0        0       1   \n",
       "\n",
       "   CO_MES   nick KG_LIQUIDO KG_LIQUIDO_pred  md_r  CO_ANO  \n",
       "0       4  MAP_k   432000.0    1.801647e+07  34.0    2017  \n",
       "\n",
       "[1 rows x 22 columns]"
      ]
     },
     "execution_count": 5,
     "metadata": {},
     "output_type": "execute_result"
    }
   ],
   "source": [
    "pred=pred_c.merge(pred_r,how='outer').fillna(0)\n",
    "\n",
    "pred.date=pred.date.astype('datetime64[ns]')\n",
    "\n",
    "pred['CO_ANO']=pred.date.dt.year\n",
    "\n",
    "pred.head(1)"
   ]
  },
  {
   "cell_type": "code",
   "execution_count": 6,
   "id": "b95293a3-501d-423d-a0ad-a17e8d92fd11",
   "metadata": {},
   "outputs": [],
   "source": [
    "scores=pd.DataFrame()\n",
    "for mes in pred.CO_MES.unique():\n",
    "    for n in pred.nick.unique():\n",
    "        for mdc in pred.md_c.unique():\n",
    "            for mdr in pred.md_r.unique():\n",
    "                for ad in pred.ad_col.unique():\n",
    "                    pred_t=pred[(pred.CO_MES==mes)&(pred.nick==n)&(pred.md_c==mdc)&(pred.md_r==mdr)&(pred.ad_col==ad)]\n",
    "                    ac=round(metrics.accuracy_score(pred_t.oc,pred_t.oc_pred),2)\n",
    "                    pr=round(metrics.precision_score(pred_t.oc,pred_t.oc_pred),2)\n",
    "                    rc=round(metrics.recall_score(pred_t.oc,pred_t.oc_pred),2)\n",
    "                    pred_t=pred_t[(pred_t.oc==1)&(pred_t.oc_pred==1)]\n",
    "                    if len(pred_t)>0:\n",
    "                        r2=metrics.r2_score(pred_t.KG_LIQUIDO,pred_t.KG_LIQUIDO_pred)\n",
    "                    else:\n",
    "                        r2=np.nan\n",
    "                    q=pd.DataFrame({'CO_MES':[mes],'nick':[n],'md_c':[mdc],'md_r':[mdr],'accuracy':[ac],\n",
    "                                    'precision':[pr],'recall':[rc],'r2':[r2],'ad_col':[ad]\n",
    "                                   })\n",
    "                    scores=pd.concat([q,scores])"
   ]
  },
  {
   "cell_type": "code",
   "execution_count": 7,
   "id": "df1448f2-f521-4d04-83d7-3dc091d76a51",
   "metadata": {},
   "outputs": [],
   "source": [
    "scores.CO_MES=scores.CO_MES.astype(int)"
   ]
  },
  {
   "cell_type": "code",
   "execution_count": 8,
   "id": "be1ebc7b-28ac-4f09-a590-04894a05c9ca",
   "metadata": {},
   "outputs": [
    {
     "data": {
      "text/plain": [
       "md_r\n",
       "1.0     11\n",
       "2.0      9\n",
       "13.0    12\n",
       "21.0     6\n",
       "34.0    10\n",
       "Name: CO_MES, dtype: int64"
      ]
     },
     "execution_count": 8,
     "metadata": {},
     "output_type": "execute_result"
    }
   ],
   "source": [
    "scores_g=scores.groupby(by=['CO_MES','nick']).r2.max().reset_index().merge(scores)\n",
    "scores_g.groupby('md_r').CO_MES.count()"
   ]
  },
  {
   "cell_type": "code",
   "execution_count": 9,
   "id": "27a8b3b2-4ac6-4792-883e-0c3404f4acf4",
   "metadata": {},
   "outputs": [
    {
     "data": {
      "text/html": [
       "<div>\n",
       "<style scoped>\n",
       "    .dataframe tbody tr th:only-of-type {\n",
       "        vertical-align: middle;\n",
       "    }\n",
       "\n",
       "    .dataframe tbody tr th {\n",
       "        vertical-align: top;\n",
       "    }\n",
       "\n",
       "    .dataframe thead th {\n",
       "        text-align: right;\n",
       "    }\n",
       "</style>\n",
       "<table border=\"1\" class=\"dataframe\">\n",
       "  <thead>\n",
       "    <tr style=\"text-align: right;\">\n",
       "      <th></th>\n",
       "      <th>CO_MES</th>\n",
       "      <th>nick</th>\n",
       "      <th>r2</th>\n",
       "      <th>md_c</th>\n",
       "      <th>md_r</th>\n",
       "      <th>accuracy</th>\n",
       "      <th>precision</th>\n",
       "      <th>recall</th>\n",
       "      <th>ad_col</th>\n",
       "      <th>mt_sum</th>\n",
       "    </tr>\n",
       "  </thead>\n",
       "  <tbody>\n",
       "    <tr>\n",
       "      <th>0</th>\n",
       "      <td>1</td>\n",
       "      <td>MAP_k</td>\n",
       "      <td>0.132413</td>\n",
       "      <td>1</td>\n",
       "      <td>13.0</td>\n",
       "      <td>1.0</td>\n",
       "      <td>1.0</td>\n",
       "      <td>1.0</td>\n",
       "      <td>1</td>\n",
       "      <td>3.25</td>\n",
       "    </tr>\n",
       "    <tr>\n",
       "      <th>1</th>\n",
       "      <td>1</td>\n",
       "      <td>MOP_k</td>\n",
       "      <td>0.021345</td>\n",
       "      <td>1</td>\n",
       "      <td>2.0</td>\n",
       "      <td>1.0</td>\n",
       "      <td>1.0</td>\n",
       "      <td>1.0</td>\n",
       "      <td>1</td>\n",
       "      <td>10.90</td>\n",
       "    </tr>\n",
       "    <tr>\n",
       "      <th>2</th>\n",
       "      <td>1</td>\n",
       "      <td>SAM_k</td>\n",
       "      <td>0.042862</td>\n",
       "      <td>1</td>\n",
       "      <td>13.0</td>\n",
       "      <td>1.0</td>\n",
       "      <td>1.0</td>\n",
       "      <td>1.0</td>\n",
       "      <td>1</td>\n",
       "      <td>5.67</td>\n",
       "    </tr>\n",
       "    <tr>\n",
       "      <th>3</th>\n",
       "      <td>1</td>\n",
       "      <td>UREIA_k</td>\n",
       "      <td>0.036772</td>\n",
       "      <td>1</td>\n",
       "      <td>34.0</td>\n",
       "      <td>1.0</td>\n",
       "      <td>1.0</td>\n",
       "      <td>1.0</td>\n",
       "      <td>1</td>\n",
       "      <td>8.41</td>\n",
       "    </tr>\n",
       "    <tr>\n",
       "      <th>4</th>\n",
       "      <td>2</td>\n",
       "      <td>MAP_k</td>\n",
       "      <td>-0.146718</td>\n",
       "      <td>1</td>\n",
       "      <td>1.0</td>\n",
       "      <td>1.0</td>\n",
       "      <td>1.0</td>\n",
       "      <td>1.0</td>\n",
       "      <td>0</td>\n",
       "      <td>3.21</td>\n",
       "    </tr>\n",
       "  </tbody>\n",
       "</table>\n",
       "</div>"
      ],
      "text/plain": [
       "   CO_MES     nick        r2  md_c  md_r  accuracy  precision  recall  ad_col  \\\n",
       "0       1    MAP_k  0.132413     1  13.0       1.0        1.0     1.0       1   \n",
       "1       1    MOP_k  0.021345     1   2.0       1.0        1.0     1.0       1   \n",
       "2       1    SAM_k  0.042862     1  13.0       1.0        1.0     1.0       1   \n",
       "3       1  UREIA_k  0.036772     1  34.0       1.0        1.0     1.0       1   \n",
       "4       2    MAP_k -0.146718     1   1.0       1.0        1.0     1.0       0   \n",
       "\n",
       "   mt_sum  \n",
       "0    3.25  \n",
       "1   10.90  \n",
       "2    5.67  \n",
       "3    8.41  \n",
       "4    3.21  "
      ]
     },
     "execution_count": 9,
     "metadata": {},
     "output_type": "execute_result"
    }
   ],
   "source": [
    "i=pd.read_csv('~/git/BD/temp/imp_fert_quanti.csv').sort_values(by=['CO_ANO','CO_MES'])\n",
    "i=round(((i.groupby(by=['CO_MES','nick']).KG_LIQUIDO.sum())/10**9),2).reset_index().rename(columns={'KG_LIQUIDO':'mt_sum'})\n",
    "scores_g_f=scores_g.merge(i)\n",
    "scores_g_f.head()"
   ]
  },
  {
   "cell_type": "code",
   "execution_count": 10,
   "id": "8512716b-1146-42c5-a41d-b3449c71b2f4",
   "metadata": {},
   "outputs": [],
   "source": [
    "scores_g_f.r2=round(scores_g_f.r2,2)\n",
    "\n",
    "r2_pos_class_pos=scores_g_f[(scores_g_f.r2>0)&(scores_g_f.accuracy>.95)&(scores_g_f.precision>.95)&(scores_g_f.recall>.95)].sort_values('mt_sum',ascending=False).reset_index(drop=True)\n",
    "\n",
    "r2_pos_class_out=scores_g_f[(scores_g_f.r2>0)&((scores_g_f.accuracy<=.95)|(scores_g_f.precision<=.95)|(scores_g_f.recall<=.95))].sort_values('mt_sum',ascending=False).reset_index(drop=True)\n",
    "\n",
    "r2_out_class_pos=scores_g_f[(scores_g_f.r2<=0)&(scores_g_f.accuracy>.95)&(scores_g_f.precision>.95)&(scores_g_f.recall>.95)].sort_values('mt_sum',ascending=False).reset_index(drop=True)\n",
    "\n",
    "r2_out_class_out=scores_g_f[(scores_g_f.r2<=0)&((scores_g_f.accuracy<=.95)|(scores_g_f.precision<=.95)|(scores_g_f.recall<=.95))].sort_values('mt_sum',ascending=False).reset_index(drop=True)"
   ]
  },
  {
   "cell_type": "code",
   "execution_count": 11,
   "id": "acf93286-51de-4996-bb14-6bcb61340bac",
   "metadata": {},
   "outputs": [
    {
     "data": {
      "text/plain": [
       "33"
      ]
     },
     "execution_count": 11,
     "metadata": {},
     "output_type": "execute_result"
    }
   ],
   "source": [
    "len(r2_pos_class_pos[['CO_MES','nick']].drop_duplicates())"
   ]
  },
  {
   "cell_type": "code",
   "execution_count": 12,
   "id": "cf9b9621-e7fa-4c2a-b666-395debb53916",
   "metadata": {},
   "outputs": [
    {
     "data": {
      "text/plain": [
       "0"
      ]
     },
     "execution_count": 12,
     "metadata": {},
     "output_type": "execute_result"
    }
   ],
   "source": [
    "len(r2_pos_class_out[['CO_MES','nick']].drop_duplicates())"
   ]
  },
  {
   "cell_type": "code",
   "execution_count": 13,
   "id": "a2e5e11b-20d4-4c1a-8ec2-389f87bf769b",
   "metadata": {},
   "outputs": [
    {
     "data": {
      "text/plain": [
       "15"
      ]
     },
     "execution_count": 13,
     "metadata": {},
     "output_type": "execute_result"
    }
   ],
   "source": [
    "len(r2_out_class_pos[['CO_MES','nick']].drop_duplicates())"
   ]
  },
  {
   "cell_type": "code",
   "execution_count": 14,
   "id": "fd209e09-ed7e-4e4b-801b-4130f2a2cb8c",
   "metadata": {},
   "outputs": [
    {
     "data": {
      "text/plain": [
       "0"
      ]
     },
     "execution_count": 14,
     "metadata": {},
     "output_type": "execute_result"
    }
   ],
   "source": [
    "len(r2_out_class_out[['CO_MES','nick']].drop_duplicates())"
   ]
  },
  {
   "cell_type": "code",
   "execution_count": null,
   "id": "0db52854-2276-4629-863b-3d4f676fa0cd",
   "metadata": {},
   "outputs": [],
   "source": []
  },
  {
   "cell_type": "code",
   "execution_count": null,
   "id": "7b62e343-2d6d-4612-99f9-be0e51430e6b",
   "metadata": {},
   "outputs": [],
   "source": []
  }
 ],
 "metadata": {
  "kernelspec": {
   "display_name": "Python 3 (ipykernel)",
   "language": "python",
   "name": "python3"
  },
  "language_info": {
   "codemirror_mode": {
    "name": "ipython",
    "version": 3
   },
   "file_extension": ".py",
   "mimetype": "text/x-python",
   "name": "python",
   "nbconvert_exporter": "python",
   "pygments_lexer": "ipython3",
   "version": "3.11.2"
  }
 },
 "nbformat": 4,
 "nbformat_minor": 5
}
