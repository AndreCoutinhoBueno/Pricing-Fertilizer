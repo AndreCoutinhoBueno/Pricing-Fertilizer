{
 "cells": [
  {
   "cell_type": "code",
   "execution_count": 1,
   "id": "492bf4aa-2159-4a30-a7de-90e9cd657892",
   "metadata": {},
   "outputs": [],
   "source": [
    "import time\n",
    "#ini=time.time()\n",
    "import warnings\n",
    "warnings.filterwarnings(\"ignore\")\n",
    "import pandas as pd\n",
    "import numpy as np\n",
    "import seaborn as sns\n",
    "from sklearn import metrics\n",
    "import matplotlib.pyplot as plt"
   ]
  },
  {
   "cell_type": "code",
   "execution_count": 2,
   "id": "6df30ff2-7c84-42d6-acd6-a9d113f23061",
   "metadata": {},
   "outputs": [
    {
     "data": {
      "text/html": [
       "<div>\n",
       "<style scoped>\n",
       "    .dataframe tbody tr th:only-of-type {\n",
       "        vertical-align: middle;\n",
       "    }\n",
       "\n",
       "    .dataframe tbody tr th {\n",
       "        vertical-align: top;\n",
       "    }\n",
       "\n",
       "    .dataframe thead th {\n",
       "        text-align: right;\n",
       "    }\n",
       "</style>\n",
       "<table border=\"1\" class=\"dataframe\">\n",
       "  <thead>\n",
       "    <tr style=\"text-align: right;\">\n",
       "      <th></th>\n",
       "      <th>oc</th>\n",
       "      <th>oc_test</th>\n",
       "      <th>date</th>\n",
       "      <th>md_c</th>\n",
       "      <th>l_min_y</th>\n",
       "      <th>indv</th>\n",
       "      <th>l_max_y</th>\n",
       "      <th>ad_col</th>\n",
       "      <th>CO_MES</th>\n",
       "      <th>nick</th>\n",
       "      <th>KG_LIQUIDO</th>\n",
       "      <th>KG_LIQUIDO_test</th>\n",
       "      <th>md_r</th>\n",
       "      <th>CO_ANO</th>\n",
       "    </tr>\n",
       "  </thead>\n",
       "  <tbody>\n",
       "    <tr>\n",
       "      <th>0</th>\n",
       "      <td>0</td>\n",
       "      <td>1</td>\n",
       "      <td>2012-07-01</td>\n",
       "      <td>1</td>\n",
       "      <td>15</td>\n",
       "      <td>0</td>\n",
       "      <td>15</td>\n",
       "      <td>0</td>\n",
       "      <td>7</td>\n",
       "      <td>MAP_k</td>\n",
       "      <td>NaN</td>\n",
       "      <td>NaN</td>\n",
       "      <td>NaN</td>\n",
       "      <td>2012</td>\n",
       "    </tr>\n",
       "  </tbody>\n",
       "</table>\n",
       "</div>"
      ],
      "text/plain": [
       "   oc  oc_test        date  md_c  l_min_y  indv  l_max_y  ad_col  CO_MES  \\\n",
       "0   0        1  2012-07-01     1       15     0       15       0       7   \n",
       "\n",
       "    nick  KG_LIQUIDO  KG_LIQUIDO_test  md_r  CO_ANO  \n",
       "0  MAP_k         NaN              NaN   NaN    2012  "
      ]
     },
     "execution_count": 2,
     "metadata": {},
     "output_type": "execute_result"
    }
   ],
   "source": [
    "test=pd.read_csv('~/git/BD/temp/test.csv')\n",
    "test.head(1)"
   ]
  },
  {
   "cell_type": "code",
   "execution_count": 3,
   "id": "9d337e48-6cfa-456d-9ff6-61ef7ded16d1",
   "metadata": {},
   "outputs": [
    {
     "data": {
      "text/html": [
       "<div>\n",
       "<style scoped>\n",
       "    .dataframe tbody tr th:only-of-type {\n",
       "        vertical-align: middle;\n",
       "    }\n",
       "\n",
       "    .dataframe tbody tr th {\n",
       "        vertical-align: top;\n",
       "    }\n",
       "\n",
       "    .dataframe thead th {\n",
       "        text-align: right;\n",
       "    }\n",
       "</style>\n",
       "<table border=\"1\" class=\"dataframe\">\n",
       "  <thead>\n",
       "    <tr style=\"text-align: right;\">\n",
       "      <th></th>\n",
       "      <th>CO_MES</th>\n",
       "      <th>nick</th>\n",
       "      <th>md_c</th>\n",
       "      <th>md_r</th>\n",
       "      <th>accuracy</th>\n",
       "      <th>precision</th>\n",
       "      <th>recall</th>\n",
       "      <th>r2</th>\n",
       "      <th>ad_col</th>\n",
       "      <th>indv</th>\n",
       "    </tr>\n",
       "  </thead>\n",
       "  <tbody>\n",
       "    <tr>\n",
       "      <th>0</th>\n",
       "      <td>7</td>\n",
       "      <td>UREIA_k</td>\n",
       "      <td>1</td>\n",
       "      <td>1.0</td>\n",
       "      <td>1.0</td>\n",
       "      <td>1.0</td>\n",
       "      <td>1.0</td>\n",
       "      <td>-1.094329</td>\n",
       "      <td>1</td>\n",
       "      <td>0</td>\n",
       "    </tr>\n",
       "    <tr>\n",
       "      <th>0</th>\n",
       "      <td>7</td>\n",
       "      <td>UREIA_k</td>\n",
       "      <td>1</td>\n",
       "      <td>1.0</td>\n",
       "      <td>1.0</td>\n",
       "      <td>1.0</td>\n",
       "      <td>1.0</td>\n",
       "      <td>-1.051423</td>\n",
       "      <td>0</td>\n",
       "      <td>0</td>\n",
       "    </tr>\n",
       "    <tr>\n",
       "      <th>0</th>\n",
       "      <td>7</td>\n",
       "      <td>UREIA_k</td>\n",
       "      <td>1</td>\n",
       "      <td>2.0</td>\n",
       "      <td>1.0</td>\n",
       "      <td>1.0</td>\n",
       "      <td>1.0</td>\n",
       "      <td>-2.445572</td>\n",
       "      <td>1</td>\n",
       "      <td>0</td>\n",
       "    </tr>\n",
       "    <tr>\n",
       "      <th>0</th>\n",
       "      <td>7</td>\n",
       "      <td>UREIA_k</td>\n",
       "      <td>1</td>\n",
       "      <td>2.0</td>\n",
       "      <td>1.0</td>\n",
       "      <td>1.0</td>\n",
       "      <td>1.0</td>\n",
       "      <td>-2.174748</td>\n",
       "      <td>0</td>\n",
       "      <td>0</td>\n",
       "    </tr>\n",
       "    <tr>\n",
       "      <th>0</th>\n",
       "      <td>7</td>\n",
       "      <td>UREIA_k</td>\n",
       "      <td>1</td>\n",
       "      <td>3.0</td>\n",
       "      <td>1.0</td>\n",
       "      <td>1.0</td>\n",
       "      <td>1.0</td>\n",
       "      <td>-3.132322</td>\n",
       "      <td>1</td>\n",
       "      <td>0</td>\n",
       "    </tr>\n",
       "  </tbody>\n",
       "</table>\n",
       "</div>"
      ],
      "text/plain": [
       "   CO_MES     nick  md_c  md_r  accuracy  precision  recall        r2  ad_col  \\\n",
       "0       7  UREIA_k     1   1.0       1.0        1.0     1.0 -1.094329       1   \n",
       "0       7  UREIA_k     1   1.0       1.0        1.0     1.0 -1.051423       0   \n",
       "0       7  UREIA_k     1   2.0       1.0        1.0     1.0 -2.445572       1   \n",
       "0       7  UREIA_k     1   2.0       1.0        1.0     1.0 -2.174748       0   \n",
       "0       7  UREIA_k     1   3.0       1.0        1.0     1.0 -3.132322       1   \n",
       "\n",
       "   indv  \n",
       "0     0  \n",
       "0     0  \n",
       "0     0  \n",
       "0     0  \n",
       "0     0  "
      ]
     },
     "execution_count": 3,
     "metadata": {},
     "output_type": "execute_result"
    }
   ],
   "source": [
    "scores=pd.DataFrame()\n",
    "for mes in test.CO_MES.unique():\n",
    "    for n in test.nick.unique():\n",
    "        for mdc in test.md_c.unique():\n",
    "            for mdr in test.md_r.unique():\n",
    "                for ad in test.ad_col.unique():\n",
    "                    for indv in test.indv.unique():\n",
    "                        test_t=test[\n",
    "                        (test.CO_MES==mes)&\n",
    "                        (test.nick==n)&\n",
    "                        (test.md_c==mdc)&\n",
    "                        (test.md_r==mdr)&\n",
    "                        (test.ad_col==ad)&\n",
    "                        (test.indv==indv)]\n",
    "                        ac=round(metrics.accuracy_score(test_t.oc,test_t.oc_test),2)\n",
    "                        pr=round(metrics.precision_score(test_t.oc,test_t.oc_test),2)\n",
    "                        rc=round(metrics.recall_score(test_t.oc,test_t.oc_test),2)\n",
    "                        test_t=test_t[(test_t.oc==1)&(test_t.oc_test==1)]\n",
    "                        if len(test_t)>0:\n",
    "                            r2=metrics.r2_score(test_t.KG_LIQUIDO,test_t.KG_LIQUIDO_test)\n",
    "                            mape=metrics.mean_absolute_percentage_error(test_t.KG_LIQUIDO,test_t.KG_LIQUIDO_test)\n",
    "                        else:\n",
    "                            r2=np.nan\n",
    "                        q=pd.DataFrame({'CO_MES':[mes],'nick':[n],'md_c':[mdc],'md_r':[mdr],'accuracy':[ac],\n",
    "                                        'precision':[pr],'recall':[rc],'r2':[r2],'ad_col':[ad],'indv':[indv]\n",
    "                                       })\n",
    "                        scores=pd.concat([q,scores])\n",
    "\n",
    "scores.CO_MES=scores.CO_MES.astype(int)\n",
    "scores=scores.sort_values(by=['CO_MES','nick'],ascending=False)\n",
    "scores.to_csv('~/git/BD/temp/score.csv',index=False)\n",
    "scores.head()"
   ]
  },
  {
   "cell_type": "code",
   "execution_count": 4,
   "id": "a97ed386-e7c8-4bfb-a43e-3305349a43c4",
   "metadata": {},
   "outputs": [
    {
     "data": {
      "text/html": [
       "<div>\n",
       "<style scoped>\n",
       "    .dataframe tbody tr th:only-of-type {\n",
       "        vertical-align: middle;\n",
       "    }\n",
       "\n",
       "    .dataframe tbody tr th {\n",
       "        vertical-align: top;\n",
       "    }\n",
       "\n",
       "    .dataframe thead th {\n",
       "        text-align: right;\n",
       "    }\n",
       "</style>\n",
       "<table border=\"1\" class=\"dataframe\">\n",
       "  <thead>\n",
       "    <tr style=\"text-align: right;\">\n",
       "      <th></th>\n",
       "      <th>CO_MES</th>\n",
       "      <th>nick</th>\n",
       "      <th>r2</th>\n",
       "      <th>md_c</th>\n",
       "      <th>md_r</th>\n",
       "      <th>accuracy</th>\n",
       "      <th>precision</th>\n",
       "      <th>recall</th>\n",
       "      <th>ad_col</th>\n",
       "      <th>indv</th>\n",
       "    </tr>\n",
       "  </thead>\n",
       "  <tbody>\n",
       "    <tr>\n",
       "      <th>0</th>\n",
       "      <td>7</td>\n",
       "      <td>MAP_k</td>\n",
       "      <td>-0.093928</td>\n",
       "      <td>1</td>\n",
       "      <td>13.0</td>\n",
       "      <td>1.0</td>\n",
       "      <td>1.0</td>\n",
       "      <td>1.0</td>\n",
       "      <td>1</td>\n",
       "      <td>0</td>\n",
       "    </tr>\n",
       "    <tr>\n",
       "      <th>1</th>\n",
       "      <td>7</td>\n",
       "      <td>MOP_k</td>\n",
       "      <td>-0.568927</td>\n",
       "      <td>1</td>\n",
       "      <td>13.0</td>\n",
       "      <td>1.0</td>\n",
       "      <td>1.0</td>\n",
       "      <td>1.0</td>\n",
       "      <td>1</td>\n",
       "      <td>0</td>\n",
       "    </tr>\n",
       "    <tr>\n",
       "      <th>2</th>\n",
       "      <td>7</td>\n",
       "      <td>SAM_k</td>\n",
       "      <td>0.652960</td>\n",
       "      <td>1</td>\n",
       "      <td>13.0</td>\n",
       "      <td>1.0</td>\n",
       "      <td>1.0</td>\n",
       "      <td>1.0</td>\n",
       "      <td>1</td>\n",
       "      <td>0</td>\n",
       "    </tr>\n",
       "    <tr>\n",
       "      <th>3</th>\n",
       "      <td>7</td>\n",
       "      <td>UREIA_k</td>\n",
       "      <td>-1.051423</td>\n",
       "      <td>1</td>\n",
       "      <td>1.0</td>\n",
       "      <td>1.0</td>\n",
       "      <td>1.0</td>\n",
       "      <td>1.0</td>\n",
       "      <td>0</td>\n",
       "      <td>0</td>\n",
       "    </tr>\n",
       "  </tbody>\n",
       "</table>\n",
       "</div>"
      ],
      "text/plain": [
       "   CO_MES     nick        r2  md_c  md_r  accuracy  precision  recall  ad_col  \\\n",
       "0       7    MAP_k -0.093928     1  13.0       1.0        1.0     1.0       1   \n",
       "1       7    MOP_k -0.568927     1  13.0       1.0        1.0     1.0       1   \n",
       "2       7    SAM_k  0.652960     1  13.0       1.0        1.0     1.0       1   \n",
       "3       7  UREIA_k -1.051423     1   1.0       1.0        1.0     1.0       0   \n",
       "\n",
       "   indv  \n",
       "0     0  \n",
       "1     0  \n",
       "2     0  \n",
       "3     0  "
      ]
     },
     "execution_count": 4,
     "metadata": {},
     "output_type": "execute_result"
    }
   ],
   "source": [
    "top_scores=scores.groupby(by=['CO_MES','nick']).r2.max().reset_index().merge(scores)\n",
    "top_scores.to_csv('~/git/BD/temp/top_scores.csv',index=False)\n",
    "top_scores"
   ]
  },
  {
   "cell_type": "code",
   "execution_count": 5,
   "id": "8512716b-1146-42c5-a41d-b3449c71b2f4",
   "metadata": {},
   "outputs": [],
   "source": [
    "r2_pos_class_pos=scores[(scores.r2>0)&(scores.accuracy>.95)&(scores.precision>.95)&(scores.recall>.95)].reset_index(drop=True)\n",
    "\n",
    "r2_pos_class_out=scores[(scores.r2>0)&((scores.accuracy<=.95)|(scores.precision<=.95)|(scores.recall<=.95))].reset_index(drop=True)\n",
    "\n",
    "r2_out_class_pos=scores[(scores.r2<=0)&(scores.accuracy>.95)&(scores.precision>.95)&(scores.recall>.95)].reset_index(drop=True)\n",
    "\n",
    "r2_out_class_out=scores[(scores.r2<=0)&((scores.accuracy<=.95)|(scores.precision<=.95)|(scores.recall<=.95))].reset_index(drop=True)"
   ]
  },
  {
   "cell_type": "code",
   "execution_count": 6,
   "id": "acf93286-51de-4996-bb14-6bcb61340bac",
   "metadata": {},
   "outputs": [
    {
     "name": "stdout",
     "output_type": "stream",
     "text": [
      "Aprovados:  1\n"
     ]
    }
   ],
   "source": [
    "print('Aprovados: ',len(r2_pos_class_pos[['CO_MES','nick']].drop_duplicates()))"
   ]
  },
  {
   "cell_type": "code",
   "execution_count": 7,
   "id": "de608521-457c-43da-a03b-5dd9c22a64e8",
   "metadata": {},
   "outputs": [
    {
     "data": {
      "text/html": [
       "<div>\n",
       "<style scoped>\n",
       "    .dataframe tbody tr th:only-of-type {\n",
       "        vertical-align: middle;\n",
       "    }\n",
       "\n",
       "    .dataframe tbody tr th {\n",
       "        vertical-align: top;\n",
       "    }\n",
       "\n",
       "    .dataframe thead th {\n",
       "        text-align: right;\n",
       "    }\n",
       "</style>\n",
       "<table border=\"1\" class=\"dataframe\">\n",
       "  <thead>\n",
       "    <tr style=\"text-align: right;\">\n",
       "      <th></th>\n",
       "      <th>CO_MES</th>\n",
       "      <th>nick</th>\n",
       "      <th>r2</th>\n",
       "      <th>md_c</th>\n",
       "      <th>md_r</th>\n",
       "      <th>accuracy</th>\n",
       "      <th>precision</th>\n",
       "      <th>recall</th>\n",
       "      <th>ad_col</th>\n",
       "      <th>indv</th>\n",
       "    </tr>\n",
       "  </thead>\n",
       "  <tbody>\n",
       "    <tr>\n",
       "      <th>0</th>\n",
       "      <td>7</td>\n",
       "      <td>SAM_k</td>\n",
       "      <td>0.65296</td>\n",
       "      <td>1</td>\n",
       "      <td>13.0</td>\n",
       "      <td>1.0</td>\n",
       "      <td>1.0</td>\n",
       "      <td>1.0</td>\n",
       "      <td>1</td>\n",
       "      <td>0</td>\n",
       "    </tr>\n",
       "  </tbody>\n",
       "</table>\n",
       "</div>"
      ],
      "text/plain": [
       "   CO_MES   nick       r2  md_c  md_r  accuracy  precision  recall  ad_col  \\\n",
       "0       7  SAM_k  0.65296     1  13.0       1.0        1.0     1.0       1   \n",
       "\n",
       "   indv  \n",
       "0     0  "
      ]
     },
     "execution_count": 7,
     "metadata": {},
     "output_type": "execute_result"
    }
   ],
   "source": [
    "aprovados=r2_pos_class_pos.groupby(by=['CO_MES','nick'])['r2'].max().reset_index().merge(r2_pos_class_pos)\n",
    "aprovados.to_csv('~/git/BD/temp/aprovados.csv',index=False)\n",
    "aprovados"
   ]
  },
  {
   "cell_type": "code",
   "execution_count": 8,
   "id": "cf9b9621-e7fa-4c2a-b666-395debb53916",
   "metadata": {},
   "outputs": [
    {
     "data": {
      "text/plain": [
       "0"
      ]
     },
     "execution_count": 8,
     "metadata": {},
     "output_type": "execute_result"
    }
   ],
   "source": [
    "len(r2_pos_class_out[['CO_MES','nick']].drop_duplicates())"
   ]
  },
  {
   "cell_type": "code",
   "execution_count": 9,
   "id": "a2e5e11b-20d4-4c1a-8ec2-389f87bf769b",
   "metadata": {},
   "outputs": [
    {
     "data": {
      "text/plain": [
       "3"
      ]
     },
     "execution_count": 9,
     "metadata": {},
     "output_type": "execute_result"
    }
   ],
   "source": [
    "len(r2_out_class_pos[['CO_MES','nick']].drop_duplicates())"
   ]
  },
  {
   "cell_type": "code",
   "execution_count": 10,
   "id": "fd209e09-ed7e-4e4b-801b-4130f2a2cb8c",
   "metadata": {},
   "outputs": [
    {
     "data": {
      "text/plain": [
       "0"
      ]
     },
     "execution_count": 10,
     "metadata": {},
     "output_type": "execute_result"
    }
   ],
   "source": [
    "len(r2_out_class_out[['CO_MES','nick']].drop_duplicates())"
   ]
  },
  {
   "cell_type": "code",
   "execution_count": null,
   "id": "d66c916d-1d99-48bc-930d-f54fd92312f7",
   "metadata": {},
   "outputs": [],
   "source": []
  },
  {
   "cell_type": "code",
   "execution_count": null,
   "id": "fe971b48-5f5c-41bf-869a-318084373d03",
   "metadata": {},
   "outputs": [],
   "source": []
  },
  {
   "cell_type": "code",
   "execution_count": null,
   "id": "16b1ba5d-452f-4ba8-a809-195aeda5eb97",
   "metadata": {},
   "outputs": [],
   "source": []
  },
  {
   "cell_type": "code",
   "execution_count": null,
   "id": "ad6228a2-ee0a-42b7-85a6-c06b2807ff8b",
   "metadata": {},
   "outputs": [],
   "source": []
  }
 ],
 "metadata": {
  "kernelspec": {
   "display_name": "Python 3 (ipykernel)",
   "language": "python",
   "name": "python3"
  },
  "language_info": {
   "codemirror_mode": {
    "name": "ipython",
    "version": 3
   },
   "file_extension": ".py",
   "mimetype": "text/x-python",
   "name": "python",
   "nbconvert_exporter": "python",
   "pygments_lexer": "ipython3",
   "version": "3.11.2"
  }
 },
 "nbformat": 4,
 "nbformat_minor": 5
}
