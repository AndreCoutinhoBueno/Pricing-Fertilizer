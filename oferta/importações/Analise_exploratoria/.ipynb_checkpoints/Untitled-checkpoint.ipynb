{
 "cells": [
  {
   "cell_type": "code",
   "execution_count": 1,
   "id": "492bf4aa-2159-4a30-a7de-90e9cd657892",
   "metadata": {},
   "outputs": [],
   "source": [
    "import time\n",
    "ini=time.time()\n",
    "import warnings\n",
    "warnings.filterwarnings(\"ignore\")\n",
    "import pandas as pd\n",
    "import numpy as np\n",
    "import seaborn as sns\n",
    "from sklearn import metrics\n",
    "import matplotlib.pyplot as plt"
   ]
  },
  {
   "cell_type": "code",
   "execution_count": 2,
   "id": "10430a88-2cd5-403f-a2d4-e4b16b8d5602",
   "metadata": {},
   "outputs": [],
   "source": [
    "def un_dumm(pred_dumm):\n",
    "    pred=pd.concat([pred_dumm.select_dtypes(exclude='bool'),pd.from_dummies(pred_dumm.select_dtypes(include='bool'),sep='~')],axis=1)\n",
    "    return pred"
   ]
  },
  {
   "cell_type": "code",
   "execution_count": 3,
   "id": "ca14d0f3-c225-4fd9-87ab-73345a0c36f1",
   "metadata": {},
   "outputs": [
    {
     "data": {
      "text/plain": [
       "0.7806372549019608"
      ]
     },
     "execution_count": 3,
     "metadata": {},
     "output_type": "execute_result"
    }
   ],
   "source": [
    "pred_c=un_dumm(pd.read_csv('~/git/BD/temp/pred_c.csv'))\n",
    "metrics.accuracy_score(pred_c.oc,pred_c.oc_pred)"
   ]
  },
  {
   "cell_type": "code",
   "execution_count": 4,
   "id": "326937f7-8a78-4cad-89c6-dbadb09bd547",
   "metadata": {},
   "outputs": [
    {
     "data": {
      "text/plain": [
       "np.float64(0.8681135225375626)"
      ]
     },
     "execution_count": 4,
     "metadata": {},
     "output_type": "execute_result"
    }
   ],
   "source": [
    "metrics.precision_score(pred_c.oc,pred_c.oc_pred)"
   ]
  },
  {
   "cell_type": "code",
   "execution_count": 5,
   "id": "e75c1e7b-cbc4-406c-a178-2012b01f5f4f",
   "metadata": {},
   "outputs": [
    {
     "data": {
      "text/plain": [
       "np.float64(0.8387096774193549)"
      ]
     },
     "execution_count": 5,
     "metadata": {},
     "output_type": "execute_result"
    }
   ],
   "source": [
    "metrics.recall_score(pred_c.oc,pred_c.oc_pred)"
   ]
  },
  {
   "cell_type": "code",
   "execution_count": 6,
   "id": "8c5376b2-55e5-427d-b052-c7765392fee0",
   "metadata": {},
   "outputs": [
    {
     "data": {
      "text/plain": [
       "0.0892078063173154"
      ]
     },
     "execution_count": 6,
     "metadata": {},
     "output_type": "execute_result"
    }
   ],
   "source": [
    "pred_r=un_dumm(pd.read_csv('~/git/BD/temp/pred_r.csv'))\n",
    "metrics.r2_score(pred_r.KG_LIQUIDO,pred_r.KG_LIQUIDO_pred)"
   ]
  },
  {
   "cell_type": "code",
   "execution_count": 7,
   "id": "6279ed13-ca47-4492-b4e3-279e49cb5371",
   "metadata": {},
   "outputs": [
    {
     "name": "stdout",
     "output_type": "stream",
     "text": [
      "\n",
      "\n",
      "md_c: nan mês 4 MAP_k accuracy 0.83\n",
      "md_c: nan mês 4 MOP_k accuracy 0.94\n",
      "md_c: nan mês 4 SAM_k accuracy 0.44\n",
      "md_c: nan mês 4 UREIA_k accuracy 0.83\n",
      "\n",
      "md_c: nan mês 4 MAP_k precision 0.94\n",
      "md_c: nan mês 4 MOP_k precision 1.0\n",
      "md_c: nan mês 4 SAM_k precision 0.58\n",
      "md_c: nan mês 4 UREIA_k precision 0.8\n",
      "\n",
      "md_c: nan mês 4 MAP_k recall 0.88\n",
      "md_c: nan mês 4 MOP_k recall 0.94\n",
      "md_c: nan mês 4 SAM_k recall 0.58\n",
      "md_c: nan mês 4 UREIA_k recall 0.67\n",
      "\n",
      "\n",
      "md_c: nan mês 5 MAP_k accuracy 1.0\n",
      "md_c: nan mês 5 MOP_k accuracy 0.89\n",
      "md_c: nan mês 5 SAM_k accuracy 0.67\n",
      "md_c: nan mês 5 UREIA_k accuracy 0.83\n",
      "\n",
      "md_c: nan mês 5 MAP_k precision 1.0\n",
      "md_c: nan mês 5 MOP_k precision 0.94\n",
      "md_c: nan mês 5 SAM_k precision 0.8\n",
      "md_c: nan mês 5 UREIA_k precision 0.75\n",
      "\n",
      "md_c: nan mês 5 MAP_k recall 1.0\n",
      "md_c: nan mês 5 MOP_k recall 0.94\n",
      "md_c: nan mês 5 SAM_k recall 0.8\n",
      "md_c: nan mês 5 UREIA_k recall 0.6\n",
      "\n",
      "\n",
      "md_c: nan mês 6 MAP_k accuracy 1.0\n",
      "md_c: nan mês 6 MOP_k accuracy 0.94\n",
      "md_c: nan mês 6 SAM_k accuracy 0.71\n",
      "md_c: nan mês 6 UREIA_k accuracy 0.82\n",
      "\n",
      "md_c: nan mês 6 MAP_k precision 1.0\n",
      "md_c: nan mês 6 MOP_k precision 1.0\n",
      "md_c: nan mês 6 SAM_k precision 0.79\n",
      "md_c: nan mês 6 UREIA_k precision 0.83\n",
      "\n",
      "md_c: nan mês 6 MAP_k recall 1.0\n",
      "md_c: nan mês 6 MOP_k recall 0.94\n",
      "md_c: nan mês 6 SAM_k recall 0.85\n",
      "md_c: nan mês 6 UREIA_k recall 0.71\n",
      "\n",
      "\n",
      "md_c: nan mês 7 MAP_k accuracy 0.88\n",
      "md_c: nan mês 7 MOP_k accuracy 0.88\n",
      "md_c: nan mês 7 SAM_k accuracy 0.65\n",
      "md_c: nan mês 7 UREIA_k accuracy 0.88\n",
      "\n",
      "md_c: nan mês 7 MAP_k precision 0.94\n",
      "md_c: nan mês 7 MOP_k precision 0.94\n",
      "md_c: nan mês 7 SAM_k precision 0.79\n",
      "md_c: nan mês 7 UREIA_k precision 1.0\n",
      "\n",
      "md_c: nan mês 7 MAP_k recall 0.94\n",
      "md_c: nan mês 7 MOP_k recall 0.94\n",
      "md_c: nan mês 7 SAM_k recall 0.79\n",
      "md_c: nan mês 7 UREIA_k recall 0.71\n",
      "\n",
      "\n",
      "md_c: nan mês 8 MAP_k accuracy 0.76\n",
      "md_c: nan mês 8 MOP_k accuracy 0.94\n",
      "md_c: nan mês 8 SAM_k accuracy 0.65\n",
      "md_c: nan mês 8 UREIA_k accuracy 0.71\n",
      "\n",
      "md_c: nan mês 8 MAP_k precision 0.87\n",
      "md_c: nan mês 8 MOP_k precision 1.0\n",
      "md_c: nan mês 8 SAM_k precision 0.79\n",
      "md_c: nan mês 8 UREIA_k precision 0.78\n",
      "\n",
      "md_c: nan mês 8 MAP_k recall 0.87\n",
      "md_c: nan mês 8 MOP_k recall 0.94\n",
      "md_c: nan mês 8 SAM_k recall 0.79\n",
      "md_c: nan mês 8 UREIA_k recall 0.7\n",
      "\n",
      "\n",
      "md_c: nan mês 9 MAP_k accuracy 0.88\n",
      "md_c: nan mês 9 MOP_k accuracy 0.94\n",
      "md_c: nan mês 9 SAM_k accuracy 0.47\n",
      "md_c: nan mês 9 UREIA_k accuracy 0.82\n",
      "\n",
      "md_c: nan mês 9 MAP_k precision 0.94\n",
      "md_c: nan mês 9 MOP_k precision 0.94\n",
      "md_c: nan mês 9 SAM_k precision 0.5\n",
      "md_c: nan mês 9 UREIA_k precision 0.89\n",
      "\n",
      "md_c: nan mês 9 MAP_k recall 0.94\n",
      "md_c: nan mês 9 MOP_k recall 1.0\n",
      "md_c: nan mês 9 SAM_k recall 0.56\n",
      "md_c: nan mês 9 UREIA_k recall 0.8\n",
      "\n",
      "\n",
      "md_c: nan mês 10 MAP_k accuracy 0.94\n",
      "md_c: nan mês 10 MOP_k accuracy 1.0\n",
      "md_c: nan mês 10 SAM_k accuracy 0.71\n",
      "md_c: nan mês 10 UREIA_k accuracy 0.59\n",
      "\n",
      "md_c: nan mês 10 MAP_k precision 1.0\n",
      "md_c: nan mês 10 MOP_k precision 1.0\n",
      "md_c: nan mês 10 SAM_k precision 0.83\n",
      "md_c: nan mês 10 UREIA_k precision 0.67\n",
      "\n",
      "md_c: nan mês 10 MAP_k recall 0.94\n",
      "md_c: nan mês 10 MOP_k recall 1.0\n",
      "md_c: nan mês 10 SAM_k recall 0.77\n",
      "md_c: nan mês 10 UREIA_k recall 0.6\n",
      "\n",
      "\n",
      "md_c: nan mês 11 MAP_k accuracy 0.88\n",
      "md_c: nan mês 11 MOP_k accuracy 0.69\n",
      "md_c: nan mês 11 SAM_k accuracy 0.44\n",
      "md_c: nan mês 11 UREIA_k accuracy 0.5\n",
      "\n",
      "md_c: nan mês 11 MAP_k precision 0.93\n",
      "md_c: nan mês 11 MOP_k precision 0.85\n",
      "md_c: nan mês 11 SAM_k precision 0.5\n",
      "md_c: nan mês 11 UREIA_k precision 0.62\n",
      "\n",
      "md_c: nan mês 11 MAP_k recall 0.93\n",
      "md_c: nan mês 11 MOP_k recall 0.79\n",
      "md_c: nan mês 11 SAM_k recall 0.44\n",
      "md_c: nan mês 11 UREIA_k recall 0.5\n",
      "\n",
      "\n",
      "md_c: nan mês 12 MAP_k accuracy 0.62\n",
      "md_c: nan mês 12 MOP_k accuracy 0.94\n",
      "md_c: nan mês 12 SAM_k accuracy 0.69\n",
      "md_c: nan mês 12 UREIA_k accuracy 0.69\n",
      "\n",
      "md_c: nan mês 12 MAP_k precision 0.73\n",
      "md_c: nan mês 12 MOP_k precision 1.0\n",
      "md_c: nan mês 12 SAM_k precision 0.85\n",
      "md_c: nan mês 12 UREIA_k precision 0.67\n",
      "\n",
      "md_c: nan mês 12 MAP_k recall 0.73\n",
      "md_c: nan mês 12 MOP_k recall 0.93\n",
      "md_c: nan mês 12 SAM_k recall 0.79\n",
      "md_c: nan mês 12 UREIA_k recall 0.75\n",
      "\n",
      "\n",
      "md_c: nan mês 1 MAP_k accuracy 0.94\n",
      "md_c: nan mês 1 MOP_k accuracy 0.71\n",
      "md_c: nan mês 1 SAM_k accuracy 0.59\n",
      "md_c: nan mês 1 UREIA_k accuracy 0.88\n",
      "\n",
      "md_c: nan mês 1 MAP_k precision 1.0\n",
      "md_c: nan mês 1 MOP_k precision 0.83\n",
      "md_c: nan mês 1 SAM_k precision 0.71\n",
      "md_c: nan mês 1 UREIA_k precision 1.0\n",
      "\n",
      "md_c: nan mês 1 MAP_k recall 0.94\n",
      "md_c: nan mês 1 MOP_k recall 0.77\n",
      "md_c: nan mês 1 SAM_k recall 0.77\n",
      "md_c: nan mês 1 UREIA_k recall 0.8\n",
      "\n",
      "\n",
      "md_c: nan mês 2 MAP_k accuracy 0.76\n",
      "md_c: nan mês 2 MOP_k accuracy 0.94\n",
      "md_c: nan mês 2 SAM_k accuracy 0.59\n",
      "md_c: nan mês 2 UREIA_k accuracy 0.76\n",
      "\n",
      "md_c: nan mês 2 MAP_k precision 0.82\n",
      "md_c: nan mês 2 MOP_k precision 1.0\n",
      "md_c: nan mês 2 SAM_k precision 0.71\n",
      "md_c: nan mês 2 UREIA_k precision 0.67\n",
      "\n",
      "md_c: nan mês 2 MAP_k recall 0.82\n",
      "md_c: nan mês 2 MOP_k recall 0.92\n",
      "md_c: nan mês 2 SAM_k recall 0.77\n",
      "md_c: nan mês 2 UREIA_k recall 0.67\n",
      "\n",
      "\n",
      "md_c: nan mês 3 MAP_k accuracy 0.88\n",
      "md_c: nan mês 3 MOP_k accuracy 0.82\n",
      "md_c: nan mês 3 SAM_k accuracy 0.65\n",
      "md_c: nan mês 3 UREIA_k accuracy 0.82\n",
      "\n",
      "md_c: nan mês 3 MAP_k precision 1.0\n",
      "md_c: nan mês 3 MOP_k precision 0.87\n",
      "md_c: nan mês 3 SAM_k precision 0.79\n",
      "md_c: nan mês 3 UREIA_k precision 0.83\n",
      "\n",
      "md_c: nan mês 3 MAP_k recall 0.88\n",
      "md_c: nan mês 3 MOP_k recall 0.93\n",
      "md_c: nan mês 3 SAM_k recall 0.79\n",
      "md_c: nan mês 3 UREIA_k recall 0.71\n"
     ]
    }
   ],
   "source": [
    "l=[metrics.accuracy_score,metrics.precision_score,metrics.recall_score]\n",
    "for mes in pred_c.CO_MES.unique():\n",
    "    print()\n",
    "    for score in l:\n",
    "        print()\n",
    "        for n in pred_c.nick.unique():\n",
    "            pt=pred_c[(pred_c.nick==n)&(pred_c.CO_MES==mes)]\n",
    "            print('md_c:',pt.md_c.unique()[0],'mês',mes,n,str(score).split('_')[0][10:], round(score(pt.oc,pt.oc_pred),2))"
   ]
  },
  {
   "cell_type": "code",
   "execution_count": 8,
   "id": "49f3f772-713f-4ccf-b307-80fb508b9a8e",
   "metadata": {
    "scrolled": true
   },
   "outputs": [
    {
     "name": "stdout",
     "output_type": "stream",
     "text": [
      "\n",
      "\n",
      "md_r: 1 mês 4 MOP_k r2 0.23\n",
      "md_r: 1 mês 4 SAM_k r2 0.06\n",
      "md_r: 1 mês 4 MAP_k r2 -0.19\n",
      "md_r: 1 mês 4 UREIA_k r2 -0.22\n",
      "\n",
      "\n",
      "md_r: 1 mês 5 MOP_k r2 -0.26\n",
      "md_r: 1 mês 5 SAM_k r2 0.29\n",
      "md_r: 1 mês 5 MAP_k r2 -0.26\n",
      "md_r: 1 mês 5 UREIA_k r2 -0.43\n",
      "\n",
      "\n",
      "md_r: 1 mês 6 MOP_k r2 -0.37\n",
      "md_r: 1 mês 6 SAM_k r2 0.1\n",
      "md_r: 1 mês 6 MAP_k r2 -0.29\n",
      "md_r: 1 mês 6 UREIA_k r2 -0.22\n",
      "\n",
      "\n",
      "md_r: 1 mês 7 MOP_k r2 -0.9\n",
      "md_r: 1 mês 7 SAM_k r2 0.1\n",
      "md_r: 1 mês 7 MAP_k r2 -0.77\n",
      "md_r: 1 mês 7 UREIA_k r2 -1.04\n",
      "\n",
      "\n",
      "md_r: 1 mês 8 MOP_k r2 -1.46\n",
      "md_r: 1 mês 8 SAM_k r2 -0.37\n",
      "md_r: 1 mês 8 MAP_k r2 -0.12\n",
      "md_r: 1 mês 8 UREIA_k r2 -0.05\n",
      "\n",
      "\n",
      "md_r: 1 mês 9 MOP_k r2 -0.93\n",
      "md_r: 1 mês 9 SAM_k r2 -1.1\n",
      "md_r: 1 mês 9 MAP_k r2 -0.6\n",
      "md_r: 1 mês 9 UREIA_k r2 -0.15\n",
      "\n",
      "\n",
      "md_r: 1 mês 10 MOP_k r2 -0.72\n",
      "md_r: 1 mês 10 SAM_k r2 -0.03\n",
      "md_r: 1 mês 10 MAP_k r2 0.1\n",
      "md_r: 1 mês 10 UREIA_k r2 -0.66\n",
      "\n",
      "\n",
      "md_r: 1 mês 11 MOP_k r2 -0.93\n",
      "md_r: 1 mês 11 SAM_k r2 -0.09\n",
      "md_r: 1 mês 11 MAP_k r2 -0.26\n",
      "md_r: 1 mês 11 UREIA_k r2 -0.3\n",
      "\n",
      "\n",
      "md_r: 1 mês 12 MOP_k r2 0.01\n",
      "md_r: 1 mês 12 SAM_k r2 0.14\n",
      "md_r: 1 mês 12 MAP_k r2 -0.13\n",
      "md_r: 1 mês 12 UREIA_k r2 -0.03\n",
      "\n",
      "\n",
      "md_r: 1 mês 1 MOP_k r2 -0.26\n",
      "md_r: 1 mês 1 SAM_k r2 0.21\n",
      "md_r: 1 mês 1 MAP_k r2 -0.01\n",
      "md_r: 1 mês 1 UREIA_k r2 -0.4\n",
      "\n",
      "\n",
      "md_r: 1 mês 2 MOP_k r2 0.04\n",
      "md_r: 1 mês 2 SAM_k r2 -10.29\n",
      "md_r: 1 mês 2 MAP_k r2 -0.51\n",
      "md_r: 1 mês 2 UREIA_k r2 -1.57\n",
      "\n",
      "\n",
      "md_r: 1 mês 3 MOP_k r2 0.18\n",
      "md_r: 1 mês 3 SAM_k r2 0.19\n",
      "md_r: 1 mês 3 MAP_k r2 -0.33\n",
      "md_r: 1 mês 3 UREIA_k r2 -0.19\n"
     ]
    }
   ],
   "source": [
    "l=[metrics.r2_score]\n",
    "for mes in pred_r.CO_MES.unique():\n",
    "    print()\n",
    "    for score in l:\n",
    "        print()\n",
    "        for n in pred_r.nick.unique():\n",
    "            pt=pred_r[(pred_r.nick==n)&(pred_r.CO_MES==mes)]\n",
    "            print('md_r:',pt.md_r.unique()[0],'mês',mes,n,str(score).split('_')[0][10:], round(score(pt.KG_LIQUIDO,pt.KG_LIQUIDO_pred),2))"
   ]
  }
 ],
 "metadata": {
  "kernelspec": {
   "display_name": "Python 3 (ipykernel)",
   "language": "python",
   "name": "python3"
  },
  "language_info": {
   "codemirror_mode": {
    "name": "ipython",
    "version": 3
   },
   "file_extension": ".py",
   "mimetype": "text/x-python",
   "name": "python",
   "nbconvert_exporter": "python",
   "pygments_lexer": "ipython3",
   "version": "3.11.2"
  }
 },
 "nbformat": 4,
 "nbformat_minor": 5
}
