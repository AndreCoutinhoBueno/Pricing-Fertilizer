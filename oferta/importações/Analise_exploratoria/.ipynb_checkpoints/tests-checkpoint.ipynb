{
 "cells": [
  {
   "cell_type": "code",
   "execution_count": 1,
   "id": "d82b2679-0dc5-4e14-b790-1268ef4a1021",
   "metadata": {},
   "outputs": [],
   "source": [
    "import time\n",
    "ini=time.time()\n",
    "import warnings\n",
    "warnings.filterwarnings(\"ignore\")\n",
    "import pandas as pd\n",
    "import numpy as np\n",
    "import seaborn as sns\n",
    "from sklearn.ensemble import RandomForestClassifier as RFC\n",
    "from sklearn.ensemble import RandomForestRegressor as RFR\n",
    "from sklearn import metrics\n",
    "import matplotlib.pyplot as plt"
   ]
  },
  {
   "cell_type": "code",
   "execution_count": 2,
   "id": "4424d09e-90ea-4862-8417-50b1b885cb1f",
   "metadata": {
    "jupyter": {
     "source_hidden": true
    }
   },
   "outputs": [],
   "source": [
    "def predict(i,RF,md,categories_list,target):\n",
    "    i.date=i.date.astype(int)\n",
    "    i[['CO_MES']+categories_list]=i[['CO_MES']+categories_list].astype('category')\n",
    "    i=pd.get_dummies(i,prefix_sep='~')\n",
    "    train=i[i.date<i.date.max()]\n",
    "    test=i[i.date==i.date.max()]\n",
    "    X_train=train.drop(columns=target)\n",
    "    \n",
    "    y_train=train[target]\n",
    "    X_test=test.drop(columns=target)\n",
    "    y_test=test[target]\n",
    "    RF_=RF(max_depth=md)\n",
    "    RF_.fit(X_train,y_train)\n",
    "    X_test.insert(0,str(target)+'_pred',RF_.predict(X_test))\n",
    "    X_test.insert(0,str(target),y_test)\n",
    "    pred=X_test\n",
    "    return pred"
   ]
  },
  {
   "cell_type": "code",
   "execution_count": 3,
   "id": "f0826399-40f3-4a91-81d3-cbc353957c07",
   "metadata": {
    "jupyter": {
     "source_hidden": true
    }
   },
   "outputs": [],
   "source": [
    "def fcp(i,categories_list):\n",
    "    global filtro\n",
    "    filtro=i[i.date==i.date.max()][['CO_MES']+categories_list].drop_duplicates()\n",
    "    i=i.merge(filtro)\n",
    "    return i"
   ]
  },
  {
   "cell_type": "code",
   "execution_count": 4,
   "id": "d0c5075f-2efc-48df-af2b-169c80293ce3",
   "metadata": {},
   "outputs": [],
   "source": [
    "i=pd.read_csv('~/git/BD/temp/imp_fert_quanti.csv').sort_values(by=['CO_ANO','CO_MES'])\n",
    "i=i[i.SG_UF_NCM=='BA']\n",
    "i=i[i.nick.isin(['UREIA_k','MAP_k','MOP_k','SAM_k'])]\n",
    "i=i.groupby(by=['CO_ANO','CO_MES','nick'],observed=True)[['KG_LIQUIDO','VL_FOB']].sum()\\\n",
    ".reset_index().sort_values(by=['CO_ANO','CO_MES','nick'])\n",
    "\n",
    "def sparse_matrix(i, categories_list):\n",
    "    '''Cria a matriz esparsa'''\n",
    "    i['date']=pd.to_datetime(i.CO_ANO.astype(str)+'/'+i.CO_MES.astype(str)+'/1')\n",
    "    i_date_min=i.date.min()\n",
    "    i_date_max=i.date.max()\n",
    "    year_range=pd.DataFrame({'CO_ANO':np.arange(i_date_min.year,i_date_max.year+1),'key':0})\n",
    "    month_range=pd.DataFrame({'CO_MES':np.arange(1,13),'key':0})\n",
    "    nick_range=pd.DataFrame({'nick':i.nick.unique(),'key':0})\n",
    "    matrix_range=year_range.merge(month_range).merge(nick_range)\n",
    "    matrix_range['date']=pd.to_datetime(matrix_range.CO_ANO.astype(str)+'/'+matrix_range.CO_MES.astype(str)+'/1')\n",
    "    matrix_range=matrix_range[(matrix_range.date>=i_date_min)&(matrix_range.date<=i_date_max)]\n",
    "    im=i.merge(matrix_range,how='outer').fillna(0).drop(columns='key')\n",
    "    \n",
    "    im=im.drop(columns='CO_ANO')\n",
    "    im['oc']=0\n",
    "    im.loc[im.KG_LIQUIDO>0,'oc']=1\n",
    "    return im"
   ]
  },
  {
   "cell_type": "code",
   "execution_count": 5,
   "id": "459d363a-a8f5-4185-ae44-7cf48a22dfdd",
   "metadata": {},
   "outputs": [
    {
     "data": {
      "text/plain": [
       "(911, 5)"
      ]
     },
     "execution_count": 5,
     "metadata": {},
     "output_type": "execute_result"
    }
   ],
   "source": [
    "i.shape"
   ]
  },
  {
   "cell_type": "code",
   "execution_count": 6,
   "id": "c01e1a57-3fde-4570-9b0a-9088f111d156",
   "metadata": {
    "scrolled": true
   },
   "outputs": [],
   "source": [
    "categories_list=['nick']\n",
    "i=sparse_matrix(i, categories_list)"
   ]
  },
  {
   "cell_type": "code",
   "execution_count": 7,
   "id": "465774f8-2904-4cbd-82d5-c808198f5145",
   "metadata": {
    "jupyter": {
     "source_hidden": true
    }
   },
   "outputs": [
    {
     "data": {
      "text/plain": [
       "(1312, 6)"
      ]
     },
     "execution_count": 7,
     "metadata": {},
     "output_type": "execute_result"
    }
   ],
   "source": [
    "i.shape"
   ]
  },
  {
   "cell_type": "code",
   "execution_count": 8,
   "id": "3cf5c557-050e-4ac8-8c57-75ab385d8315",
   "metadata": {},
   "outputs": [],
   "source": [
    "#def ad_val(i):\n",
    "w=pd.DataFrame()\n",
    "a=1\n",
    "for nick in i.nick.unique():\n",
    "    it=i[i.nick==nick][['date','KG_LIQUIDO','VL_FOB']].rename(columns={'KG_LIQUIDO':str(nick)+'~kg_ad','VL_FOB':str(nick)+'~fob_ad'})\n",
    "    if a==1:\n",
    "        w=it\n",
    "    else:\n",
    "        w=w.merge(it,how='outer').fillna(0)\n",
    "    a+=1\n",
    "\n",
    "w=w.set_index('date')\n",
    "w=w.shift(periods=1,freq='MS').reset_index()\n",
    "w.CO_ANO=w.date.dt.year\n",
    "w.CO_MES=w.date.dt.month"
   ]
  },
  {
   "cell_type": "code",
   "execution_count": 9,
   "id": "5773b637-c62a-43b7-bfc5-c49e40ffc6e3",
   "metadata": {},
   "outputs": [
    {
     "data": {
      "text/html": [
       "<div>\n",
       "<style scoped>\n",
       "    .dataframe tbody tr th:only-of-type {\n",
       "        vertical-align: middle;\n",
       "    }\n",
       "\n",
       "    .dataframe tbody tr th {\n",
       "        vertical-align: top;\n",
       "    }\n",
       "\n",
       "    .dataframe thead th {\n",
       "        text-align: right;\n",
       "    }\n",
       "</style>\n",
       "<table border=\"1\" class=\"dataframe\">\n",
       "  <thead>\n",
       "    <tr style=\"text-align: right;\">\n",
       "      <th></th>\n",
       "      <th>CO_MES</th>\n",
       "      <th>nick</th>\n",
       "      <th>KG_LIQUIDO</th>\n",
       "      <th>VL_FOB</th>\n",
       "      <th>date</th>\n",
       "      <th>oc</th>\n",
       "      <th>MAP_k~kg_ad</th>\n",
       "      <th>MAP_k~fob_ad</th>\n",
       "      <th>MOP_k~kg_ad</th>\n",
       "      <th>MOP_k~fob_ad</th>\n",
       "      <th>SAM_k~kg_ad</th>\n",
       "      <th>SAM_k~fob_ad</th>\n",
       "      <th>UREIA_k~kg_ad</th>\n",
       "      <th>UREIA_k~fob_ad</th>\n",
       "    </tr>\n",
       "  </thead>\n",
       "  <tbody>\n",
       "    <tr>\n",
       "      <th>0</th>\n",
       "      <td>4</td>\n",
       "      <td>MAP_k</td>\n",
       "      <td>3515344.0</td>\n",
       "      <td>784030.0</td>\n",
       "      <td>1997-04-01</td>\n",
       "      <td>1</td>\n",
       "      <td>0.0</td>\n",
       "      <td>0.0</td>\n",
       "      <td>0.0</td>\n",
       "      <td>0.0</td>\n",
       "      <td>6004584.0</td>\n",
       "      <td>579942.0</td>\n",
       "      <td>0.0</td>\n",
       "      <td>0.0</td>\n",
       "    </tr>\n",
       "  </tbody>\n",
       "</table>\n",
       "</div>"
      ],
      "text/plain": [
       "   CO_MES   nick  KG_LIQUIDO    VL_FOB       date  oc  MAP_k~kg_ad  \\\n",
       "0       4  MAP_k   3515344.0  784030.0 1997-04-01   1          0.0   \n",
       "\n",
       "   MAP_k~fob_ad  MOP_k~kg_ad  MOP_k~fob_ad  SAM_k~kg_ad  SAM_k~fob_ad  \\\n",
       "0           0.0          0.0           0.0    6004584.0      579942.0   \n",
       "\n",
       "   UREIA_k~kg_ad  UREIA_k~fob_ad  \n",
       "0            0.0             0.0  "
      ]
     },
     "execution_count": 9,
     "metadata": {},
     "output_type": "execute_result"
    }
   ],
   "source": [
    "i=i.merge(w)\n",
    "i.head(1)"
   ]
  },
  {
   "cell_type": "code",
   "execution_count": 10,
   "id": "035de212-7aa4-45ac-8e5e-433230cfe556",
   "metadata": {},
   "outputs": [],
   "source": [
    "def test(i,md_c,md_r,categories_list,RFC, RFR,l_min_y=10, indv_list=[0],l_max_y=0, ad_col=[0,1]):\n",
    "\n",
    "    pred_c=pd.DataFrame()\n",
    "    pred_r=pd.DataFrame()\n",
    "    for indv in indv_list:\n",
    "        for ad in ad_col:\n",
    "            it0=i.copy()\n",
    "            if ad==0:\n",
    "                it0=it0[it0.columns[~it0.columns.str.contains('~')]]\n",
    "                        \n",
    "            while (it0.date.max()-it0.date.min()).days/365.25>=l_min_y:\n",
    "\n",
    "                if it0[it0.date==it0.date.max()].date.dt.month.values[0]==7:\n",
    "                    \n",
    "                    it=it0.copy()\n",
    "            \n",
    "                    if l_max_y!=0:\n",
    "                        it=it[it.date>=it.date.max()-pd.DateOffset(years=l_max_y)]\n",
    "            \n",
    "                    if indv==1:\n",
    "                        it=fcp(it,categories_list)\n",
    "                    \n",
    "                    ic=it.drop(columns=['KG_LIQUIDO','VL_FOB'])\n",
    "                    \n",
    "                    q2=pd.DataFrame()\n",
    "                    \n",
    "                    for mdc in md_c:\n",
    "                        if indv==0:\n",
    "                            q1=predict(ic,RFC,mdc,categories_list,'oc').assign(md_c=mdc).assign(l_min_y=l_min_y)\\\n",
    "                            .assign(indv=indv).assign(l_max_y=l_max_y).assign(ad_col=ad).assign(indv=indv)\n",
    "                            q2=pd.concat([q1,q2])\n",
    "                        else:\n",
    "                            ic=fcp(ic,categories_list)\n",
    "                            for f in filtro.iterrows():\n",
    "                                ss=pd.DataFrame(ic.loc[f[0],['CO_MES','nick']]).transpose()\n",
    "                                ic_t=ic.merge(ss)\n",
    "                                q1=predict(ic_t,RFC,mdc,categories_list,'oc').assign(md_c=mdc).assign(l_min_y=l_min_y)\\\n",
    "                                .assign(indv=indv).assign(l_max_y=l_max_y).assign(ad_col=ad).assign(indv=indv)\n",
    "                                q2=pd.concat([q1,q2])\n",
    "                                \n",
    "                    pred_c=pd.concat([q2,pred_c]).fillna(False)\n",
    "                    \n",
    "                    ir=it[it.KG_LIQUIDO>0].drop(columns=['oc','VL_FOB'])\n",
    "                   \n",
    "                    q2=pd.DataFrame()\n",
    "                    for mdr in md_r:\n",
    "                        if indv==0:\n",
    "                            q1=predict(ir,RFR,mdr,categories_list,'KG_LIQUIDO').assign(md_r=mdr).assign(l_min_y=l_min_y)\\\n",
    "                            .assign(indv=indv).assign(l_max_y=l_max_y).assign(ad_col=ad).assign(indv=indv)\n",
    "                            q2=pd.concat([q1,q2])\n",
    "                        else:\n",
    "                            ir=fcp(ir,categories_list)\n",
    "                            for f in filtro.iterrows():\n",
    "                                ss=pd.DataFrame(ic.loc[f[0],['CO_MES','nick']]).transpose()\n",
    "                                ir_t=ir.merge(ss)\n",
    "                                if len(ir_t)>1:\n",
    "                                    q1=predict(ir_t,RFR,mdr,categories_list,'KG_LIQUIDO').assign(md_r=mdr).assign(l_min_y=l_min_y)\\\n",
    "                                    .assign(indv=indv).assign(l_max_y=l_max_y).assign(ad_col=ad).assign(indv=indv)\n",
    "                                    q2=pd.concat([q1,q2])\n",
    "                                else:\n",
    "                                    q2=pd.DataFrame()\n",
    "                    \n",
    "                    pred_r=pd.concat([q2,pred_r]).fillna(False)\n",
    "                \n",
    "                it0=it0[it0.date<it0.date.max()]\n",
    "\n",
    "    return pred_c,pred_r"
   ]
  },
  {
   "cell_type": "code",
   "execution_count": 11,
   "id": "177eaa5c-e3d2-46f9-a5b5-7e3fe578629f",
   "metadata": {
    "scrolled": true
   },
   "outputs": [],
   "source": [
    "md_c=[1]\n",
    "md_r=[1,2,3,5,13]\n",
    "categories_awlist=['nick']\n",
    "pred_c,pred_r=test(i,md_c,md_r,categories_list,RFC,RFR,indv_list=[0,1],l_min_y=15,l_max_y=15, ad_col=[0,1])"
   ]
  },
  {
   "cell_type": "code",
   "execution_count": 12,
   "id": "02a1b74a-8477-415c-8789-c6d21b3c9de1",
   "metadata": {
    "jupyter": {
     "source_hidden": true
    }
   },
   "outputs": [],
   "source": [
    "pred_c.to_csv('~/git/BD/temp/pred_c.csv',index=False)"
   ]
  },
  {
   "cell_type": "code",
   "execution_count": 13,
   "id": "9a39e302-1d72-42d1-af47-fdd4fb7c23ed",
   "metadata": {
    "jupyter": {
     "source_hidden": true
    }
   },
   "outputs": [],
   "source": [
    "pred_r.to_csv('~/git/BD/temp/pred_r.csv',index=False)"
   ]
  },
  {
   "cell_type": "code",
   "execution_count": 14,
   "id": "9cec853b-1e63-4d7f-8428-dfc3b6a90dea",
   "metadata": {
    "jupyter": {
     "source_hidden": true
    }
   },
   "outputs": [
    {
     "data": {
      "text/plain": [
       "0.8645833333333334"
      ]
     },
     "execution_count": 14,
     "metadata": {},
     "output_type": "execute_result"
    }
   ],
   "source": [
    "metrics.accuracy_score(pred_c.oc,pred_c.oc_pred)"
   ]
  },
  {
   "cell_type": "code",
   "execution_count": 15,
   "id": "36463978-bdfa-418b-8e42-9d0250558581",
   "metadata": {
    "jupyter": {
     "source_hidden": true
    }
   },
   "outputs": [
    {
     "data": {
      "text/plain": [
       "np.float64(0.9011627906976745)"
      ]
     },
     "execution_count": 15,
     "metadata": {},
     "output_type": "execute_result"
    }
   ],
   "source": [
    "metrics.precision_score(pred_c.oc,pred_c.oc_pred)"
   ]
  },
  {
   "cell_type": "code",
   "execution_count": 16,
   "id": "fcc4760e-6760-4810-858e-a3c9f87f44f4",
   "metadata": {
    "jupyter": {
     "source_hidden": true
    }
   },
   "outputs": [
    {
     "data": {
      "text/plain": [
       "np.float64(0.9451219512195121)"
      ]
     },
     "execution_count": 16,
     "metadata": {},
     "output_type": "execute_result"
    }
   ],
   "source": [
    "metrics.recall_score(pred_c.oc,pred_c.oc_pred)"
   ]
  },
  {
   "cell_type": "code",
   "execution_count": 17,
   "id": "26eae9fe-94e1-4104-bd4e-f916f5be2ab6",
   "metadata": {
    "jupyter": {
     "source_hidden": true
    }
   },
   "outputs": [
    {
     "data": {
      "text/plain": [
       "0.2425829942203359"
      ]
     },
     "execution_count": 17,
     "metadata": {},
     "output_type": "execute_result"
    }
   ],
   "source": [
    "metrics.r2_score(pred_r.KG_LIQUIDO,pred_r.KG_LIQUIDO_pred)"
   ]
  },
  {
   "cell_type": "raw",
   "id": "66ff4158-ff52-43a6-b9c7-858fa2df043a",
   "metadata": {},
   "source": [
    "%run 'scores.ipynb'"
   ]
  },
  {
   "cell_type": "code",
   "execution_count": 18,
   "id": "9eb9baa3-37d1-4f7e-869f-f4be746fec66",
   "metadata": {},
   "outputs": [
    {
     "name": "stdout",
     "output_type": "stream",
     "text": [
      "Duração: 2.5 minutos.\n"
     ]
    }
   ],
   "source": [
    "fim=time.time()\n",
    "print(f\"Duração: {round((fim-ini)/60,1)} minutos.\")"
   ]
  },
  {
   "cell_type": "code",
   "execution_count": null,
   "id": "7caacf9e-385f-4130-bad4-6d216ad72a7e",
   "metadata": {},
   "outputs": [],
   "source": []
  }
 ],
 "metadata": {
  "kernelspec": {
   "display_name": "Python 3 (ipykernel)",
   "language": "python",
   "name": "python3"
  },
  "language_info": {
   "codemirror_mode": {
    "name": "ipython",
    "version": 3
   },
   "file_extension": ".py",
   "mimetype": "text/x-python",
   "name": "python",
   "nbconvert_exporter": "python",
   "pygments_lexer": "ipython3",
   "version": "3.11.2"
  }
 },
 "nbformat": 4,
 "nbformat_minor": 5
}
