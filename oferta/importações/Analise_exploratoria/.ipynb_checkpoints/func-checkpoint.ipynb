{
 "cells": [
  {
   "cell_type": "code",
   "execution_count": 1,
   "id": "d82b2679-0dc5-4e14-b790-1268ef4a1021",
   "metadata": {},
   "outputs": [],
   "source": [
    "import time\n",
    "ini=time.time()\n",
    "import warnings\n",
    "warnings.filterwarnings(\"ignore\")\n",
    "import pandas as pd\n",
    "import numpy as np\n",
    "import seaborn as sns\n",
    "from sklearn.ensemble import RandomForestClassifier as RFC\n",
    "from sklearn.ensemble import RandomForestRegressor as RFR\n",
    "from sklearn import metrics\n",
    "import matplotlib.pyplot as plt"
   ]
  },
  {
   "cell_type": "code",
   "execution_count": 2,
   "id": "a9e32612-f9e3-4a39-a61d-c857d5027f53",
   "metadata": {},
   "outputs": [],
   "source": [
    "def sparse_matrix(i, categories_list):\n",
    "    '''Cria a matriz esparsa'''\n",
    "    i['date']=pd.to_datetime(i.CO_ANO.astype(str)+'/'+i.CO_MES.astype(str)+'/1')\n",
    "    i_date_min=i.date.min()\n",
    "    i_date_max=i.date.max()\n",
    "    \n",
    "    i[['CO_ANO','CO_MES']+categories_list]=i[['CO_ANO','CO_MES']+categories_list].astype('category')\n",
    "    i=i.groupby(by=(['CO_ANO','CO_MES']+categories_list),observed=False).KG_LIQUIDO.sum().reset_index()\n",
    "    i['date']=pd.to_datetime(i.CO_ANO.astype(str)+'/'+i.CO_MES.astype(str)+'/1')\n",
    "    i=i[(i.date>=i_date_min)&(i.date<=i_date_max)]\n",
    "    i=i.drop(columns='CO_ANO')\n",
    "    i['oc']=0\n",
    "    i.loc[i.KG_LIQUIDO>0,'oc']=1\n",
    "    return i"
   ]
  },
  {
   "cell_type": "code",
   "execution_count": 3,
   "id": "4424d09e-90ea-4862-8417-50b1b885cb1f",
   "metadata": {},
   "outputs": [],
   "source": [
    "def predict(i,RF,md,categories_list,target):\n",
    "    i.date=i.date.astype(int)\n",
    "    i[categories_list]=i[categories_list].astype('category')\n",
    "    i=pd.get_dummies(i,prefix_sep='~')\n",
    "    train=i[i.date<i.date.max()]\n",
    "    test=i[i.date==i.date.max()]\n",
    "    X_train=train.drop(columns=target)\n",
    "    y_train=train[target]\n",
    "    X_test=test.drop(columns=target)\n",
    "    y_test=test[target]\n",
    "    RF_=RF(max_depth=md)\n",
    "    RF_.fit(X_train,y_train)\n",
    "    X_test.insert(0,str(target)+'_pred',RF_.predict(X_test))\n",
    "    X_test.insert(0,str(target),y_test)\n",
    "    pred=X_test\n",
    "    return pred"
   ]
  },
  {
   "cell_type": "code",
   "execution_count": 4,
   "id": "f0826399-40f3-4a91-81d3-cbc353957c07",
   "metadata": {},
   "outputs": [],
   "source": [
    "def fcp(i,categories_list):\n",
    "    filtro=i[i.date==i.date.max()][['CO_MES']+categories_list]\n",
    "    i=i.merge(filtro)\n",
    "    return i"
   ]
  },
  {
   "cell_type": "code",
   "execution_count": 5,
   "id": "035de212-7aa4-45ac-8e5e-433230cfe556",
   "metadata": {},
   "outputs": [],
   "source": [
    "def test(i,md_c,md_r,categories_list, RFC, RFR,l=10):\n",
    "    \n",
    "    pred_c=pd.DataFrame()\n",
    "    pred_r=pd.DataFrame()\n",
    "    \n",
    "    while (i.date.max()-i.date.min()).days/365.25>=l:\n",
    "\n",
    "        # Falta limitar len do file\n",
    "        \n",
    "        it=i.copy()\n",
    "        \n",
    "        it=sparse_matrix(it,categories_list)\n",
    "        \n",
    "        ic=it.drop(columns='KG_LIQUIDO')\n",
    "        \n",
    "        q=predict(ic,RFC,md_c,categories_list,'oc')\n",
    "        \n",
    "        pred_c=pd.concat([q,pred_c]).assign(md_c=md_c)\n",
    "        \n",
    "        ir=it[it.KG_LIQUIDO>0].drop(columns='oc')\n",
    "        \n",
    "        q1=predict(ir,RFR,md_r,categories_list,'KG_LIQUIDO')\n",
    "        pred_r=pd.concat([q1,pred_r]).assign(md_r=md_r)\n",
    "        \n",
    "        i=i[i.date<i.date.max()]\n",
    "\n",
    "    return pred_c,pred_r"
   ]
  },
  {
   "cell_type": "code",
   "execution_count": 6,
   "id": "b59a4639-a2a7-451e-a77e-e423457faf83",
   "metadata": {},
   "outputs": [],
   "source": [
    "i=pd.read_csv('~/git/BD/temp/imp_fert_quanti.csv').sort_values(by=['CO_ANO','CO_MES'])"
   ]
  },
  {
   "cell_type": "code",
   "execution_count": 7,
   "id": "9571baab-c467-4212-b81b-373619a8ccba",
   "metadata": {},
   "outputs": [],
   "source": [
    "i=i[i.SG_UF_NCM=='BA']\n",
    "i=i[i.nick.isin(['UREIA_k','MAP_k','MOP_k','SAM_k'])]"
   ]
  },
  {
   "cell_type": "code",
   "execution_count": 8,
   "id": "fbf5faef-7974-4f5e-9ed7-39d09cd4fd31",
   "metadata": {},
   "outputs": [],
   "source": [
    "i=i.groupby(by=['CO_ANO','CO_MES','nick'],observed=True).KG_LIQUIDO.sum().reset_index().sort_values(by=['CO_ANO','CO_MES','nick'])\n",
    "i['date']=pd.to_datetime(i.CO_ANO.astype(str)+'/'+i.CO_MES.astype(str)+'/1')"
   ]
  },
  {
   "cell_type": "code",
   "execution_count": 9,
   "id": "177eaa5c-e3d2-46f9-a5b5-7e3fe578629f",
   "metadata": {},
   "outputs": [],
   "source": [
    "pred_c,pred_r=test(i,None,1,['nick'], RFC,RFR)"
   ]
  },
  {
   "cell_type": "code",
   "execution_count": 10,
   "id": "02a1b74a-8477-415c-8789-c6d21b3c9de1",
   "metadata": {},
   "outputs": [],
   "source": [
    "pred_c.to_csv('~/git/BD/temp/pred_c.csv',index=False)"
   ]
  },
  {
   "cell_type": "code",
   "execution_count": 11,
   "id": "9a39e302-1d72-42d1-af47-fdd4fb7c23ed",
   "metadata": {},
   "outputs": [],
   "source": [
    "pred_r.to_csv('~/git/BD/temp/pred_r.csv',index=False)"
   ]
  },
  {
   "cell_type": "code",
   "execution_count": 12,
   "id": "9eb9baa3-37d1-4f7e-869f-f4be746fec66",
   "metadata": {},
   "outputs": [
    {
     "name": "stdout",
     "output_type": "stream",
     "text": [
      "Duração: 1 minutos.\n"
     ]
    }
   ],
   "source": [
    "fim=time.time()\n",
    "print(f\"Duração: {round((fim-ini)/60)} minutos.\")"
   ]
  }
 ],
 "metadata": {
  "kernelspec": {
   "display_name": "Python 3 (ipykernel)",
   "language": "python",
   "name": "python3"
  },
  "language_info": {
   "codemirror_mode": {
    "name": "ipython",
    "version": 3
   },
   "file_extension": ".py",
   "mimetype": "text/x-python",
   "name": "python",
   "nbconvert_exporter": "python",
   "pygments_lexer": "ipython3",
   "version": "3.11.2"
  }
 },
 "nbformat": 4,
 "nbformat_minor": 5
}
