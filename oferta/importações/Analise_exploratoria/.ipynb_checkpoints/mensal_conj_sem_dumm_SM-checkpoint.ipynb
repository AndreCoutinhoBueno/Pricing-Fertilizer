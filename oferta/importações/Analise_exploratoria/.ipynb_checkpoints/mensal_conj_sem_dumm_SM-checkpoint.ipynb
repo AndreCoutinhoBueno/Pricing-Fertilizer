{
 "cells": [
  {
   "cell_type": "code",
   "execution_count": 1,
   "id": "27bfa742-783d-47a2-9287-bba2eb64cf28",
   "metadata": {},
   "outputs": [],
   "source": [
    "import warnings\n",
    "warnings.filterwarnings(\"ignore\")\n",
    "import pandas as pd\n",
    "import numpy as np\n",
    "import seaborn as sns\n",
    "from sklearn.ensemble import RandomForestRegressor as RFR\n",
    "RFR=RFR(max_depth=1)\n",
    "from sklearn.linear_model import LinearRegression as LR\n",
    "LR=LR()\n",
    "from sklearn import metrics\n",
    "import matplotlib.pyplot as plt\n",
    "l=11 # Comprimento do teste em anos\n",
    "\n",
    "i=pd.read_csv('~/git/BD/temp/imp_fert_quanti.csv').sort_values(by=['CO_ANO','CO_MES'])\n",
    "i=i[i.SG_UF_NCM=='BA']"
   ]
  },
  {
   "cell_type": "code",
   "execution_count": null,
   "id": "12d192a9-1c1a-4058-8ef8-f7c486f5121e",
   "metadata": {},
   "outputs": [],
   "source": [
    "i['date']=pd.to_datetime(i.CO_ANO.astype(str)+'/'+i.CO_MES.astype(str)+'/1')\n",
    "ini=i.date.min()\n",
    "fim=i.date.max()\n",
    "i[['CO_ANO', 'CO_MES']]=i[['CO_ANO', 'CO_MES']].astype('category')\n",
    "i=i.groupby(by=['CO_ANO','CO_MES'],observed=False).KG_LIQUIDO.sum().reset_index()\n",
    "i['date']=pd.to_datetime(i.CO_ANO.astype(str)+'/'+i.CO_MES.astype(str)+'/1')\n",
    "i=i[(i.date>=ini)&(i.date<=fim)]\n",
    "i=i.sort_values('date').drop(columns='CO_ANO')\n",
    "i['kg_acml']=i.KG_LIQUIDO.rolling(12).sum().shift(1)\n",
    "i=i[i.KG_LIQUIDO>0].dropna()"
   ]
  },
  {
   "cell_type": "code",
   "execution_count": 6,
   "id": "eecaddd4-3ca4-430c-8d42-16e219f1bb27",
   "metadata": {},
   "outputs": [
    {
     "data": {
      "text/plain": [
       "np.int64(5)"
      ]
     },
     "execution_count": 6,
     "metadata": {},
     "output_type": "execute_result"
    }
   ],
   "source": [
    "cat_pred=i[i.date==i.date.max()].CO_MES.values[0]\n",
    "cat_pred"
   ]
  },
  {
   "cell_type": "code",
   "execution_count": 7,
   "id": "a09ce205-1ffb-4b07-bb6a-de05cd79674b",
   "metadata": {},
   "outputs": [],
   "source": [
    "i=i[i.CO_MES==cat_pred]"
   ]
  },
  {
   "cell_type": "code",
   "execution_count": 8,
   "id": "4bfbaa47-b33f-4750-b99d-924446797cfb",
   "metadata": {},
   "outputs": [],
   "source": [
    "def predict(i_0):\n",
    "    i=i_0.copy()\n",
    "    \n",
    "    pred=pd.DataFrame()\n",
    "    \n",
    "    while (i.date.max()-i.date.min()).days/365.25>=l:\n",
    "\n",
    "        \n",
    "        # Limita comprimento em anos\n",
    "        j=i[i.date>i.date.max()-pd.DateOffset(years=l)]\n",
    "\n",
    "        # Tipifica a data para processamento ML\n",
    "        j.date=j.date.astype(int)\n",
    "\n",
    "        # Limita categorias do traino as categorias presentes no teste\n",
    "        #cat_pred=j[j.date==j.date.max()].CO_MES.values[0]\n",
    "        #j=j[j.CO_MES==cat_pred]\n",
    "        \n",
    "        # Codifica categorias\n",
    "        #j.CO_MES=j.CO_MES.astype('category')\n",
    "        #j=pd.get_dummies(j,prefix_sep='~')\n",
    "    \n",
    "        # Identifica as variáveis\n",
    "        train=j[j.date<j.date.max()]\n",
    "        test=j[j.date==j.date.max()]\n",
    "        X_train=train.drop(columns='KG_LIQUIDO')\n",
    "        y_train=train['KG_LIQUIDO']\n",
    "        X_test=test.drop(columns='KG_LIQUIDO')\n",
    "        y_test=test['KG_LIQUIDO']\n",
    "\n",
    "        # Prediz\n",
    "        RFR.fit(X_train,y_train)\n",
    "        q=X_test.assign(kg_pred=RFR.predict(X_test)).assign(KG_LIQUIDO=y_test)\n",
    "        pred=pd.concat([q,pred])\n",
    "        i=i[i.date<i.date.max()]\n",
    "    \n",
    "    return pred"
   ]
  },
  {
   "cell_type": "code",
   "execution_count": 9,
   "id": "2474356d-3ff8-4b92-ab57-bfb0e4a41f57",
   "metadata": {},
   "outputs": [],
   "source": [
    "pred=pd.DataFrame()\n",
    "for re in range(30):\n",
    "    q=predict(i)\n",
    "    r=round(metrics.r2_score(q.KG_LIQUIDO,q.kg_pred),2)\n",
    "    pred=pd.concat([pd.DataFrame({'score':[r]}),pred])"
   ]
  },
  {
   "cell_type": "code",
   "execution_count": 10,
   "id": "999c6162-a8f1-4911-b3ff-fefc160c632f",
   "metadata": {},
   "outputs": [
    {
     "data": {
      "text/plain": [
       "(np.float64(0.2), np.float64(0.03))"
      ]
     },
     "execution_count": 10,
     "metadata": {},
     "output_type": "execute_result"
    }
   ],
   "source": [
    "round(pred.score.mean(),2), round(pred.score.std(),2)"
   ]
  }
 ],
 "metadata": {
  "kernelspec": {
   "display_name": "Python 3 (ipykernel)",
   "language": "python",
   "name": "python3"
  },
  "language_info": {
   "codemirror_mode": {
    "name": "ipython",
    "version": 3
   },
   "file_extension": ".py",
   "mimetype": "text/x-python",
   "name": "python",
   "nbconvert_exporter": "python",
   "pygments_lexer": "ipython3",
   "version": "3.11.2"
  }
 },
 "nbformat": 4,
 "nbformat_minor": 5
}
