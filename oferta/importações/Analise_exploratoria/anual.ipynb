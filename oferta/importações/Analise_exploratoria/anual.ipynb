{
 "cells": [
  {
   "cell_type": "code",
   "execution_count": 1,
   "id": "8c96a495-6bee-44b2-b30e-48c8ac45844e",
   "metadata": {},
   "outputs": [],
   "source": [
    "import warnings\n",
    "warnings.filterwarnings(\"ignore\")\n",
    "import pandas as pd\n",
    "import numpy as np\n",
    "import seaborn as sns\n",
    "from sklearn.ensemble import RandomForestRegressor as RFR\n",
    "RFR=RFR()\n",
    "from sklearn.linear_model import LinearRegression as LR\n",
    "LR=LR()\n",
    "from sklearn import metrics\n",
    "import matplotlib.pyplot as plt\n",
    "l=4 # Comprimento do teste em meses\n",
    "\n",
    "i_0=pd.read_csv('~/git/BD/temp/imp_fert_quanti.csv').sort_values(by=['CO_ANO','CO_MES'])\n",
    "i_0=i_0[i_0.SG_UF_NCM=='BA']\n",
    "i_0['date']=pd.to_datetime(i_0.CO_ANO.astype(str)+'/'+i_0.CO_MES.astype(str)+'/1')\n",
    "i_0=i_0.groupby(by=['date','CO_ANO','CO_MES'])['KG_LIQUIDO'].sum().reset_index().sort_values('date')\n",
    "i_0=i_0.sort_values('date')"
   ]
  },
  {
   "cell_type": "code",
   "execution_count": 2,
   "id": "f833c257-e447-4695-ae08-125eb7db069c",
   "metadata": {},
   "outputs": [
    {
     "data": {
      "text/html": [
       "<div>\n",
       "<style scoped>\n",
       "    .dataframe tbody tr th:only-of-type {\n",
       "        vertical-align: middle;\n",
       "    }\n",
       "\n",
       "    .dataframe tbody tr th {\n",
       "        vertical-align: top;\n",
       "    }\n",
       "\n",
       "    .dataframe thead th {\n",
       "        text-align: right;\n",
       "    }\n",
       "</style>\n",
       "<table border=\"1\" class=\"dataframe\">\n",
       "  <thead>\n",
       "    <tr style=\"text-align: right;\">\n",
       "      <th></th>\n",
       "      <th>CO_ANO</th>\n",
       "      <th>CO_MES</th>\n",
       "    </tr>\n",
       "  </thead>\n",
       "  <tbody>\n",
       "    <tr>\n",
       "      <th>0</th>\n",
       "      <td>1997</td>\n",
       "      <td>10</td>\n",
       "    </tr>\n",
       "    <tr>\n",
       "      <th>1</th>\n",
       "      <td>1998</td>\n",
       "      <td>12</td>\n",
       "    </tr>\n",
       "    <tr>\n",
       "      <th>2</th>\n",
       "      <td>1999</td>\n",
       "      <td>10</td>\n",
       "    </tr>\n",
       "    <tr>\n",
       "      <th>3</th>\n",
       "      <td>2000</td>\n",
       "      <td>12</td>\n",
       "    </tr>\n",
       "    <tr>\n",
       "      <th>4</th>\n",
       "      <td>2001</td>\n",
       "      <td>10</td>\n",
       "    </tr>\n",
       "    <tr>\n",
       "      <th>5</th>\n",
       "      <td>2002</td>\n",
       "      <td>11</td>\n",
       "    </tr>\n",
       "    <tr>\n",
       "      <th>6</th>\n",
       "      <td>2003</td>\n",
       "      <td>11</td>\n",
       "    </tr>\n",
       "    <tr>\n",
       "      <th>7</th>\n",
       "      <td>2004</td>\n",
       "      <td>12</td>\n",
       "    </tr>\n",
       "    <tr>\n",
       "      <th>8</th>\n",
       "      <td>2005</td>\n",
       "      <td>11</td>\n",
       "    </tr>\n",
       "    <tr>\n",
       "      <th>9</th>\n",
       "      <td>2006</td>\n",
       "      <td>12</td>\n",
       "    </tr>\n",
       "    <tr>\n",
       "      <th>10</th>\n",
       "      <td>2007</td>\n",
       "      <td>12</td>\n",
       "    </tr>\n",
       "    <tr>\n",
       "      <th>11</th>\n",
       "      <td>2008</td>\n",
       "      <td>11</td>\n",
       "    </tr>\n",
       "    <tr>\n",
       "      <th>12</th>\n",
       "      <td>2009</td>\n",
       "      <td>12</td>\n",
       "    </tr>\n",
       "    <tr>\n",
       "      <th>13</th>\n",
       "      <td>2010</td>\n",
       "      <td>12</td>\n",
       "    </tr>\n",
       "    <tr>\n",
       "      <th>14</th>\n",
       "      <td>2011</td>\n",
       "      <td>12</td>\n",
       "    </tr>\n",
       "    <tr>\n",
       "      <th>15</th>\n",
       "      <td>2012</td>\n",
       "      <td>12</td>\n",
       "    </tr>\n",
       "    <tr>\n",
       "      <th>16</th>\n",
       "      <td>2013</td>\n",
       "      <td>12</td>\n",
       "    </tr>\n",
       "    <tr>\n",
       "      <th>17</th>\n",
       "      <td>2014</td>\n",
       "      <td>12</td>\n",
       "    </tr>\n",
       "    <tr>\n",
       "      <th>18</th>\n",
       "      <td>2015</td>\n",
       "      <td>12</td>\n",
       "    </tr>\n",
       "    <tr>\n",
       "      <th>19</th>\n",
       "      <td>2016</td>\n",
       "      <td>12</td>\n",
       "    </tr>\n",
       "    <tr>\n",
       "      <th>20</th>\n",
       "      <td>2017</td>\n",
       "      <td>12</td>\n",
       "    </tr>\n",
       "    <tr>\n",
       "      <th>21</th>\n",
       "      <td>2018</td>\n",
       "      <td>12</td>\n",
       "    </tr>\n",
       "    <tr>\n",
       "      <th>22</th>\n",
       "      <td>2019</td>\n",
       "      <td>12</td>\n",
       "    </tr>\n",
       "    <tr>\n",
       "      <th>23</th>\n",
       "      <td>2020</td>\n",
       "      <td>12</td>\n",
       "    </tr>\n",
       "    <tr>\n",
       "      <th>24</th>\n",
       "      <td>2021</td>\n",
       "      <td>12</td>\n",
       "    </tr>\n",
       "    <tr>\n",
       "      <th>25</th>\n",
       "      <td>2022</td>\n",
       "      <td>12</td>\n",
       "    </tr>\n",
       "    <tr>\n",
       "      <th>26</th>\n",
       "      <td>2023</td>\n",
       "      <td>12</td>\n",
       "    </tr>\n",
       "    <tr>\n",
       "      <th>27</th>\n",
       "      <td>2024</td>\n",
       "      <td>5</td>\n",
       "    </tr>\n",
       "  </tbody>\n",
       "</table>\n",
       "</div>"
      ],
      "text/plain": [
       "    CO_ANO  CO_MES\n",
       "0     1997      10\n",
       "1     1998      12\n",
       "2     1999      10\n",
       "3     2000      12\n",
       "4     2001      10\n",
       "5     2002      11\n",
       "6     2003      11\n",
       "7     2004      12\n",
       "8     2005      11\n",
       "9     2006      12\n",
       "10    2007      12\n",
       "11    2008      11\n",
       "12    2009      12\n",
       "13    2010      12\n",
       "14    2011      12\n",
       "15    2012      12\n",
       "16    2013      12\n",
       "17    2014      12\n",
       "18    2015      12\n",
       "19    2016      12\n",
       "20    2017      12\n",
       "21    2018      12\n",
       "22    2019      12\n",
       "23    2020      12\n",
       "24    2021      12\n",
       "25    2022      12\n",
       "26    2023      12\n",
       "27    2024       5"
      ]
     },
     "execution_count": 2,
     "metadata": {},
     "output_type": "execute_result"
    }
   ],
   "source": [
    "i_0.groupby(by=['CO_ANO']).CO_MES.count().reset_index()"
   ]
  },
  {
   "cell_type": "code",
   "execution_count": 3,
   "id": "ce3f4a71-7243-4f10-b916-5500aa67410e",
   "metadata": {},
   "outputs": [],
   "source": [
    "i_0=i_0[i_0.CO_ANO>2008]"
   ]
  },
  {
   "cell_type": "code",
   "execution_count": 4,
   "id": "618e48aa-e539-4e07-bc0c-2e24185c51de",
   "metadata": {},
   "outputs": [],
   "source": [
    "i_0['kg_acm']=i_0.KG_LIQUIDO.rolling(12).sum()"
   ]
  },
  {
   "cell_type": "code",
   "execution_count": 5,
   "id": "d59d8ff4-f931-41b8-800e-a8921f97a506",
   "metadata": {},
   "outputs": [],
   "source": [
    "i_0=i_0.dropna()"
   ]
  },
  {
   "cell_type": "code",
   "execution_count": 6,
   "id": "89ea6a3c-ba5e-451e-99ad-265073e216b3",
   "metadata": {},
   "outputs": [
    {
     "data": {
      "image/png": "[encoded data removed]",
      "text/plain": [
       "<Figure size 500x500 with 1 Axes>"
      ]
     },
     "metadata": {},
     "output_type": "display_data"
    }
   ],
   "source": [
    "sns.relplot(data=i_0,x='date',y='kg_acm').fig.suptitle('Importações\\n12 meses acumulados',y=1.1)\n",
    "plt.show()"
   ]
  },
  {
   "cell_type": "code",
   "execution_count": 7,
   "id": "eec4c730-719b-4888-9fcc-3e877341d163",
   "metadata": {},
   "outputs": [],
   "source": [
    "def predict(i, regressor,l):\n",
    "    \n",
    "    pred=pd.DataFrame()\n",
    "    \n",
    "    while (i.date.max()-i.date.min()).days/30>=l:\n",
    "\n",
    "        \n",
    "        # Limita comprimento em anos\n",
    "        j=i[i.date>i.date.max()-pd.DateOffset(months=l)]\n",
    "\n",
    "        \n",
    "        # Tipifica a data para processamento ML\n",
    "        j.date=j.date.astype(int)\n",
    "\n",
    "        # Limita categorias do traino as categorias presentes no teste\n",
    "        #cat_pred=j[j.date==j.date.max()].CO_MES.values[0]\n",
    "        #j=j[j.CO_MES==cat_pred]\n",
    "        \n",
    "        # Codifica categorias\n",
    "        #j.CO_MES=j.CO_MES.astype('category')\n",
    "        #j=pd.get_dummies(j,prefix_sep='~')\n",
    "    \n",
    "        # Identifica as variáveis\n",
    "        train=j[j.date<j.date.max()]\n",
    "        test=j[j.date==j.date.max()]\n",
    "        X_train=train[['date']]\n",
    "        y_train=train['kg_acm']\n",
    "        X_test=test[['date']]\n",
    "        y_test=test['kg_acm']\n",
    "\n",
    "        # Prediz\n",
    "        regressor.fit(X_train,y_train)\n",
    "        q=X_test.assign(kg_pred=regressor.predict(X_test)).assign(kg_acm=y_test)\n",
    "        pred=pd.concat([q,pred])\n",
    "        i=i[i.date<i.date.max()]\n",
    "    \n",
    "    return pred"
   ]
  },
  {
   "cell_type": "code",
   "execution_count": 20,
   "id": "1f7cdd65-2f84-401b-ad70-0ff8a657751d",
   "metadata": {},
   "outputs": [],
   "source": [
    "i=i_0.copy()"
   ]
  },
  {
   "cell_type": "code",
   "execution_count": 23,
   "id": "3370cd16-8f4b-4865-820b-e697d74a77cb",
   "metadata": {},
   "outputs": [],
   "source": [
    "pred=predict(i,LR,3)"
   ]
  },
  {
   "cell_type": "code",
   "execution_count": 24,
   "id": "7c2b209e-6ba0-4a5e-94cd-5c15346607b8",
   "metadata": {},
   "outputs": [
    {
     "data": {
      "text/plain": [
       "0.95"
      ]
     },
     "execution_count": 24,
     "metadata": {},
     "output_type": "execute_result"
    }
   ],
   "source": [
    "round(metrics.r2_score(pred['kg_acm'],pred.kg_pred),2)"
   ]
  },
  {
   "cell_type": "code",
   "execution_count": null,
   "id": "4fafe8eb-37d2-43fc-9866-fe1531c71d25",
   "metadata": {},
   "outputs": [],
   "source": []
  },
  {
   "cell_type": "code",
   "execution_count": 28,
   "id": "92fadbc5-95ea-4201-bc65-280650fc1178",
   "metadata": {},
   "outputs": [],
   "source": [
    "i=i_0.copy()"
   ]
  },
  {
   "cell_type": "code",
   "execution_count": 29,
   "id": "e582b47d-1945-4c3b-9457-a7cefadf0536",
   "metadata": {},
   "outputs": [],
   "source": [
    "pred=predict(i,RFR,3)"
   ]
  },
  {
   "cell_type": "code",
   "execution_count": 30,
   "id": "2ca04779-eaea-4c4c-a1e7-f5fe45bc7810",
   "metadata": {},
   "outputs": [
    {
     "data": {
      "text/plain": [
       "0.97"
      ]
     },
     "execution_count": 30,
     "metadata": {},
     "output_type": "execute_result"
    }
   ],
   "source": [
    "round(metrics.r2_score(pred['kg_acm'],pred.kg_pred),2)"
   ]
  }
 ],
 "metadata": {
  "kernelspec": {
   "display_name": "Python 3 (ipykernel)",
   "language": "python",
   "name": "python3"
  },
  "language_info": {
   "codemirror_mode": {
    "name": "ipython",
    "version": 3
   },
   "file_extension": ".py",
   "mimetype": "text/x-python",
   "name": "python",
   "nbconvert_exporter": "python",
   "pygments_lexer": "ipython3",
   "version": "3.11.2"
  }
 },
 "nbformat": 4,
 "nbformat_minor": 5
}
