{
 "cells": [
  {
   "cell_type": "code",
   "execution_count": 1,
   "id": "c89fa67b-ba0a-4faa-8c46-33a79eaa1c83",
   "metadata": {},
   "outputs": [
    {
     "name": "stdout",
     "output_type": "stream",
     "text": [
      "['UREIA_k', 'MOP_k', 'MAP_k', 'SAM_k']\n",
      "['UREIA_k']\n"
     ]
    }
   ],
   "source": [
    "import time\n",
    "ini_tempo=time.time()\n",
    "\n",
    "import datetime\n",
    "\n",
    "import warnings\n",
    "warnings.filterwarnings(\"ignore\")\n",
    "\n",
    "import pandas as pd\n",
    "import numpy as np\n",
    "import seaborn as sns\n",
    "\n",
    "from sklearn.ensemble import RandomForestClassifier as RFC_\n",
    "from sklearn.ensemble import RandomForestRegressor as RFR_\n",
    "from sklearn import metrics\n",
    "\n",
    "\n",
    "\n",
    "rept=100\n",
    "\n",
    "md_c=None\n",
    "md_r=30\n",
    "últimos_anos_eliminados=4\n",
    "y_active=5\n",
    "anos_min=5\n",
    "\n",
    "imp_fert=pd.read_csv('~/git/BD/temp/imp_fert_quanti.csv')\n",
    "\n",
    "# Seleciona UF e nick\n",
    "uf_list=['BA']\n",
    "nick_list_list=[['UREIA_k','MOP_k','MAP_k','SAM_k'],['UREIA_k']]\n",
    "\n",
    "# DF para receber score de cada loop\n",
    "s=pd.DataFrame()\n",
    "\n",
    "# Inicia loop sobre as listas de nick\n",
    "for nick_list in nick_list_list:\n",
    "\n",
    "    print(nick_list)\n",
    "    \n",
    "    # Filtra nick listados\n",
    "    imp_fert_t=imp_fert[(imp_fert.SG_UF_NCM.astype(str).isin(uf_list))&(imp_fert.nick.astype(str).isin(nick_list))]\n",
    "    \n",
    "    # Acerta as tipo das colunas categóricas\n",
    "    imp_fert_t[['CO_MES','nick','SG_UF_NCM','CO_PAIS','CO_URF']]=imp_fert_t[['CO_MES','nick','SG_UF_NCM','CO_PAIS','CO_URF']].astype('category')\n",
    "\n",
    "    # Inicia loop sobre as datas\n",
    "    imp_fert_t['date']=pd.to_datetime(imp_fert_t.CO_ANO.astype(str)+'/'+imp_fert_t.CO_MES.astype(str)+'/1')\n",
    "    date=(imp_fert_t.date.max()-datetime.timedelta(365.25*últimos_anos_eliminados)).floor('d')\n",
    "\n",
    "    \n",
    "    # Filtra deixando passar registros menores ou iguais a data do loop\n",
    "    imp_fert_t2=imp_fert_t[(imp_fert_t.date<=date)]\n",
    "    \n",
    "    # Filtra categorias ativas\n",
    "    imp_fert_t2['date']=pd.to_datetime(imp_fert_t2.CO_ANO.astype(str)+'/'+imp_fert_t2.CO_MES.astype(str)+'/1')\n",
    "    fim=imp_fert_t2.date.max()\n",
    "    ini=pd.date_range(end=fim,periods=12*y_active,freq='MS')[0]\n",
    "    filtra_atividade=imp_fert_t2[imp_fert_t2.date>=ini][imp_fert_t2.select_dtypes(include='category').columns.tolist()].drop_duplicates()\n",
    "    imp_fert_t2=filtra_atividade.merge(imp_fert_t2)\n",
    "    \n",
    "    '''# Limita comprimento do estudo em anos\n",
    "    ini=pd.date_range(end=fim,periods=12*anos_inclu,freq='MS')[0]\n",
    "    imp_fert_t2=imp_fert_t2[(imp_fert_t2.date>=ini)]\n",
    "    \n",
    "    print('\\n',ini,'\\n',(imp_fert_t2.date.max()-imp_fert_t2.date.min()).days/365.25)'''\n",
    "    \n",
    "    # Confere comprimento mínimo\n",
    "    if (imp_fert_t2.date.max()-imp_fert_t2.date.min()).days/365.25>anos_min:\n",
    "        \n",
    "        ################## Produz a Matriz Esparsa ###########\n",
    "        # salva datas de início e fim\n",
    "        ini=imp_fert_t2.date.min()\n",
    "        fim=imp_fert_t2.date.max()\n",
    "        # Cria conjunto de anos\n",
    "        anos_df=pd.DataFrame({'CO_ANO':np.arange(ini.year,fim.year+1)}).assign(key=0)\n",
    "        \n",
    "        # Funde anos e categorias (inclusive mês) criando nova tabela ms\n",
    "        # Note que aqui conjunto de carac que não ocorra em determinado mês não é criado com zero quant. para dar velocidade de processamento\n",
    "        imp_fert_t2_ms=anos_df.merge(\\\n",
    "            imp_fert_t2[imp_fert_t2.select_dtypes('category').columns.tolist()].assign(key=0).drop_duplicates(),how='outer'\n",
    "        ).drop(columns='key')\n",
    "            \n",
    "        # liminta matriz a datas reais existentes\n",
    "        imp_fert_t2_ms['date']=pd.to_datetime(imp_fert_t2_ms.CO_ANO.astype(str)+'/'+imp_fert_t2_ms.CO_MES.astype(str)+'/1')\n",
    "        imp_fert_t2_ms=imp_fert_t2_ms[(imp_fert_t2_ms.date>=ini)&(imp_fert_t2_ms.date<=fim)]\n",
    "        # funde ms e imp_fert\n",
    "        imp_fert_t2=imp_fert_t2_ms.merge(imp_fert_t2,how='outer')\n",
    "        imp_fert_t2['KG_LIQUIDO']=imp_fert_t2[['KG_LIQUIDO']].fillna(0)\n",
    "        \n",
    "        ###############################################################################################################\n",
    "        \n",
    "        # Diferencia ocorrências reais de não ocorrência\n",
    "        imp_fert_t2=imp_fert_t2.assign(oc=0)\n",
    "        imp_fert_t2.loc[imp_fert_t2.KG_LIQUIDO>0,'oc']=1\n",
    "        \n",
    "        # Parametriza os algoritmos\n",
    "        RFC=RFC_(max_depth=md_c)\n",
    "        RFR=RFR_(max_depth=md_r)\n",
    "        \n",
    "        # Adequa medidas de tempo para os algoritmos\n",
    "        imp_fert_t2.date=imp_fert_t2.date.astype(int)\n",
    "        imp_fert_t2.drop(columns='CO_ANO',inplace=True)\n",
    "\n",
    "        # Codifica categóricos\n",
    "        imp_fert_dumm=pd.get_dummies(imp_fert_t2,prefix_sep='~')\n",
    "\n",
    "        # Separa treino e teste\n",
    "        train=imp_fert_dumm[imp_fert_dumm.date< imp_fert_dumm.date.max()]\n",
    "        test =imp_fert_dumm[imp_fert_dumm.date==imp_fert_dumm.date.max()]\n",
    "       \n",
    "        \n",
    "\n",
    "        # Inicia df para coletar resultados de classificação e regressão do loop\n",
    "        q=pd.DataFrame()\n",
    "        r=pd.DataFrame()\n",
    "\n",
    "        # inicia loop de repetição (para teste de variação dos algorítmos randômicos)\n",
    "        for x in range(rept):\n",
    "\n",
    "            # Identifica X e y classifier\n",
    "            X_train=train.drop(columns=['KG_LIQUIDO','oc'])\n",
    "            y_train=train.oc\n",
    "            X_test =test.drop(columns=['KG_LIQUIDO','oc'])\n",
    "            y_test =test.oc\n",
    "        \n",
    "            # ******* CLASSIFCAÇÃO *******\n",
    "            \n",
    "            # Fit classifier\n",
    "            RFC.fit(X_train,y_train)\n",
    "            \n",
    "            # Predict classifier\n",
    "            test_pred=X_test.assign(oc_pred=RFC.predict(X_test)).assign(oc=y_test).assign(nick_list=str(nick_list)).assign(rept=x)\n",
    "            \n",
    "            # Armazena\n",
    "            q=pd.concat([q,test_pred])\n",
    "\n",
    "            \n",
    "            # ******* REGRESSÃO *******\n",
    "            \n",
    "            # Filtra deixando passar registros ocorridos\n",
    "            train=train[train.oc==1]\n",
    "            test=test[test.oc==1]\n",
    "            \n",
    "            # verifica o comprimento mínimo\n",
    "            if (len(train)>0)&(len(test)>0):\n",
    "                \n",
    "                # Identifica X e y\n",
    "                X_train=train.drop(columns=['KG_LIQUIDO','oc'])\n",
    "                y_train=train.KG_LIQUIDO\n",
    "                X_test =test.drop(columns=['KG_LIQUIDO','oc'])\n",
    "                y_test =test.KG_LIQUIDO\n",
    "                \n",
    "                # Fit regressor\n",
    "                RFR.fit(X_train,y_train)\n",
    "                \n",
    "                # Predict classifier\n",
    "                test_pred=X_test.assign(kg_pred=RFR.predict(X_test)).assign(KG_LIQUIDO=y_test).assign(nick_list=str(nick_list))\\\n",
    "                .assign(rept=x)\n",
    "                \n",
    "                # Armazena\n",
    "                r=pd.concat([r,test_pred])\n",
    "\n",
    "        def f_dumm(df_dumm):\n",
    "            '''Retorna dumm para original'''\n",
    "            a=pd.from_dummies(df_dumm.select_dtypes(include='bool'),sep='~')\n",
    "            b=df_dumm.select_dtypes(exclude='bool')\n",
    "            c=pd.concat([a,b],axis=1)\n",
    "            return c\n",
    "        \n",
    "        q=f_dumm(q)\n",
    "        r=f_dumm(r)\n",
    "    \n",
    "        score=q.merge(r,how='outer')\n",
    "\n",
    "        score=score.assign()\n",
    "\n",
    "        s=pd.concat([s,score]).assign(md_c=str(md_c)+'_')\\\n",
    "        .assign(md_r=str(md_r)+'_')\\\n",
    "        .assign(y_active=str(y_active))\\\n",
    "        .assign(anos_min=str(anos_min))\\\n",
    "        .assign(uf_list=str(uf_list))\n"
   ]
  },
  {
   "cell_type": "code",
   "execution_count": 2,
   "id": "45e89cb9-e696-4eb9-b48e-08613263a3f7",
   "metadata": {},
   "outputs": [],
   "source": [
    "sg=s.groupby(by=['date','nick','SG_UF_NCM','nick_list','rept'])[['oc','oc_pred','KG_LIQUIDO','kg_pred']].sum().reset_index()\n",
    "\n",
    "sg=sg[sg.nick=='UREIA_k']\n",
    "\n",
    "sg=sg.assign(p_pred_real=round(sg.kg_pred/sg.KG_LIQUIDO,2)).sort_values(by=['nick','nick_list','rept'])\n",
    "\n",
    "sg.loc[sg.oc>1,'oc']=1\n",
    "sg.loc[sg.oc_pred>1,'oc_pred']=1\n",
    "\n",
    "sg=sg[(sg.oc==1)&(sg.oc_pred==1)]"
   ]
  },
  {
   "cell_type": "code",
   "execution_count": 3,
   "id": "a9c7708b-2983-4656-955b-17665140e77d",
   "metadata": {},
   "outputs": [],
   "source": [
    "a=sg[sg.nick_list==sg.nick_list.unique()[0]][['p_pred_real']].rename(columns={'p_pred_real':str(sg.nick_list.unique()[0])}).reset_index(drop=True)\n",
    "b=sg[sg.nick_list==sg.nick_list.unique()[1]][['p_pred_real']].rename(columns={'p_pred_real':str(sg.nick_list.unique()[1])}).reset_index(drop=True)\n",
    "sg1=pd.concat([a,b],axis=1)"
   ]
  },
  {
   "cell_type": "code",
   "execution_count": 4,
   "id": "c7acc2a3-d22c-4c27-b117-f0f5624cbc9c",
   "metadata": {},
   "outputs": [],
   "source": [
    "sg2=sg1.assign(dif=sg1[sg1.columns[0]]-sg1[sg1.columns[1]])"
   ]
  },
  {
   "cell_type": "code",
   "execution_count": 5,
   "id": "d773a9f1-c47e-4c7d-9690-7c529ab7870c",
   "metadata": {},
   "outputs": [
    {
     "data": {
      "text/plain": [
       "\"['UREIA_k', 'MOP_k', 'MAP_k', 'SAM_k']\""
      ]
     },
     "execution_count": 5,
     "metadata": {},
     "output_type": "execute_result"
    }
   ],
   "source": [
    "sg1.columns[0]"
   ]
  },
  {
   "cell_type": "code",
   "execution_count": 6,
   "id": "daaf6ccb-d601-4cc3-9400-1b00ce802dfc",
   "metadata": {},
   "outputs": [
    {
     "data": {
      "text/plain": [
       "(-0.4337373737373737, 0.2378328424248626)"
      ]
     },
     "execution_count": 6,
     "metadata": {},
     "output_type": "execute_result"
    }
   ],
   "source": [
    "m=sg2.dif.mean()\n",
    "s=sg2.dif.std()\n",
    "m,s"
   ]
  },
  {
   "cell_type": "code",
   "execution_count": 7,
   "id": "528fadd2-8645-4008-b386-4a2bad04f99d",
   "metadata": {},
   "outputs": [
    {
     "data": {
      "text/plain": [
       "1.8237068073321383"
      ]
     },
     "execution_count": 7,
     "metadata": {},
     "output_type": "execute_result"
    }
   ],
   "source": [
    "# h1 maior que zero\n",
    "z_score=(0-m)/s\n",
    "z_score"
   ]
  },
  {
   "cell_type": "code",
   "execution_count": 8,
   "id": "947df1e4-1d6b-461d-bdd8-6392b4733e20",
   "metadata": {},
   "outputs": [
    {
     "name": "stdout",
     "output_type": "stream",
     "text": [
      "O p_value foi de 0.966.\n"
     ]
    }
   ],
   "source": [
    "from scipy.stats import norm\n",
    "p=round(norm.cdf(z_score,loc=0,scale=1),3)\n",
    "print(f\"O p_value foi de {p}.\")"
   ]
  },
  {
   "cell_type": "code",
   "execution_count": 9,
   "id": "2e36d1be-1a66-426c-a82b-67601375be62",
   "metadata": {},
   "outputs": [
    {
     "name": "stdout",
     "output_type": "stream",
     "text": [
      "\n",
      "\n",
      "Pelo método paramétrico, com significância de 0.05, \"fail to reject Ho\"\n",
      "\n",
      "    O tratamento NÃO FOI MELHOR do que a testemunha.\n"
     ]
    }
   ],
   "source": [
    "alpha=0.05\n",
    "if p<=alpha:\n",
    "    print(f'\\n\\nPelo método paramétrico, com significância de {alpha}, \"reject Ho\"\\n\\n\\\n",
    "    O tratamento FOI MELHOR do que a testemunha.')\n",
    "else:\n",
    "    print(f'\\n\\nPelo método paramétrico, com significância de {alpha}, \"fail to reject Ho\"\\n\\n\\\n",
    "    O tratamento NÃO FOI MELHOR do que a testemunha.')"
   ]
  },
  {
   "cell_type": "code",
   "execution_count": 10,
   "id": "bccac562-05b4-4f93-82b9-6a7d7fdbe617",
   "metadata": {},
   "outputs": [
    {
     "name": "stdout",
     "output_type": "stream",
     "text": [
      "\n",
      "\n",
      "Pelo método paramétrico, com significância de 0.05, \"reject Ho\"\n",
      "\n",
      "    O tratamento FOI PIOR do que a testemunha.\n"
     ]
    }
   ],
   "source": [
    "beta=1-0.05\n",
    "if p>=beta:\n",
    "    print(f'\\n\\nPelo método paramétrico, com significância de {alpha}, \"reject Ho\"\\n\\n\\\n",
    "    O tratamento FOI PIOR do que a testemunha.')\n",
    "else:\n",
    "    print(f'\\n\\nPelo método paramétrico, com significância de {alpha}, \"fail to reject Ho\"\\n\\n\\\n",
    "    O tratamento NÃO FOI PIOR do que a testemunha.')"
   ]
  },
  {
   "cell_type": "code",
   "execution_count": 11,
   "id": "1be89dfa-d370-4275-a465-59f8478e4603",
   "metadata": {},
   "outputs": [
    {
     "data": {
      "text/plain": [
       "<seaborn.axisgrid.FacetGrid at 0x7f41007bdb90>"
      ]
     },
     "execution_count": 11,
     "metadata": {},
     "output_type": "execute_result"
    },
    {
     "data": {
      "image/png": "[encoded data removed]",
      "text/plain": [
       "<Figure size 300x300 with 1 Axes>"
      ]
     },
     "metadata": {},
     "output_type": "display_data"
    }
   ],
   "source": [
    "sns.displot(data=sg2,x='dif',height=3,bins=5)"
   ]
  },
  {
   "cell_type": "code",
   "execution_count": 12,
   "id": "496377e1-2149-40d3-beee-5d7f4a6d06b3",
   "metadata": {},
   "outputs": [
    {
     "name": "stdout",
     "output_type": "stream",
     "text": [
      "\n",
      "\n",
      " 1.2  minutos\n",
      "\n",
      "\n"
     ]
    }
   ],
   "source": [
    "fim_tempo=time.time()\n",
    "print('\\n\\n',round((fim_tempo-ini_tempo)/60,1),' minutos\\n\\n')"
   ]
  },
  {
   "cell_type": "code",
   "execution_count": null,
   "id": "ec306859-b862-4f1c-9132-edef91fa219d",
   "metadata": {},
   "outputs": [],
   "source": []
  }
 ],
 "metadata": {
  "kernelspec": {
   "display_name": "Python 3 (ipykernel)",
   "language": "python",
   "name": "python3"
  },
  "language_info": {
   "codemirror_mode": {
    "name": "ipython",
    "version": 3
   },
   "file_extension": ".py",
   "mimetype": "text/x-python",
   "name": "python",
   "nbconvert_exporter": "python",
   "pygments_lexer": "ipython3",
   "version": "3.11.2"
  }
 },
 "nbformat": 4,
 "nbformat_minor": 5
}
