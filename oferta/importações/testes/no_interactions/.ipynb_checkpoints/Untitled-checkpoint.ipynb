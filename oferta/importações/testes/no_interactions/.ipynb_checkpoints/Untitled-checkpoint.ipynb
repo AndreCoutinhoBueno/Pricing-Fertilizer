{
 "cells": [
  {
   "cell_type": "code",
   "execution_count": 33,
   "id": "d7f715a2-7849-470d-9ad3-6d38a5c92740",
   "metadata": {},
   "outputs": [],
   "source": [
    "import time\n",
    "i=time.time()\n",
    "\n",
    "import warnings\n",
    "warnings.filterwarnings(\"ignore\")\n",
    "\n",
    "import pandas as pd\n",
    "import numpy as np\n",
    "import seaborn as sns\n",
    "md_c=None\n",
    "md_r=1\n",
    "\n",
    "from sklearn.ensemble import RandomForestClassifier as RFC\n",
    "RFC=RFC(max_depth=md_c)\n",
    "from sklearn.ensemble import RandomForestRegressor as RFR\n",
    "RFR=RFR(max_depth=md_r)\n",
    "from sklearn import metrics\n",
    "\n",
    "from pandas.tseries.offsets import DateOffset"
   ]
  },
  {
   "cell_type": "code",
   "execution_count": 45,
   "id": "f671f7f9-c8d1-4d61-8975-ee47e4210421",
   "metadata": {},
   "outputs": [
    {
     "data": {
      "text/plain": [
       "5"
      ]
     },
     "execution_count": 45,
     "metadata": {},
     "output_type": "execute_result"
    }
   ],
   "source": [
    "d=pd.DataFrame({'date':[pd.to_datetime('1/1/2024'),pd.to_datetime('1/6/2024')]})\n",
    "(d.date.max()-d.date.min()).days"
   ]
  },
  {
   "cell_type": "code",
   "execution_count": 35,
   "id": "d9256924-04e6-4982-bb5d-79ddc7005621",
   "metadata": {},
   "outputs": [
    {
     "data": {
      "text/plain": [
       "DatetimeIndex(['2022-12-31', '2023-12-31'], dtype='datetime64[ns]', freq='YE-DEC')"
      ]
     },
     "execution_count": 35,
     "metadata": {},
     "output_type": "execute_result"
    }
   ],
   "source": [
    "pd.date_range(end=d,periods=2,freq='y')"
   ]
  },
  {
   "cell_type": "code",
   "execution_count": 2,
   "id": "8805ee01-58b2-4882-a89e-9570fcc4869b",
   "metadata": {},
   "outputs": [
    {
     "data": {
      "text/plain": [
       "(39719, 7)"
      ]
     },
     "execution_count": 2,
     "metadata": {},
     "output_type": "execute_result"
    }
   ],
   "source": [
    "imp_fert=pd.read_csv('~/git/BD/temp/imp_fert_quanti.csv')\n",
    "imp_fert.shape"
   ]
  },
  {
   "cell_type": "code",
   "execution_count": 17,
   "id": "437f81de-ac82-48d2-9241-b591c3885559",
   "metadata": {},
   "outputs": [
    {
     "data": {
      "text/html": [
       "<div>\n",
       "<style scoped>\n",
       "    .dataframe tbody tr th:only-of-type {\n",
       "        vertical-align: middle;\n",
       "    }\n",
       "\n",
       "    .dataframe tbody tr th {\n",
       "        vertical-align: top;\n",
       "    }\n",
       "\n",
       "    .dataframe thead th {\n",
       "        text-align: right;\n",
       "    }\n",
       "</style>\n",
       "<table border=\"1\" class=\"dataframe\">\n",
       "  <thead>\n",
       "    <tr style=\"text-align: right;\">\n",
       "      <th></th>\n",
       "      <th>CO_ANO</th>\n",
       "      <th>CO_MES</th>\n",
       "      <th>CO_PAIS</th>\n",
       "      <th>CO_URF</th>\n",
       "      <th>KG_LIQUIDO</th>\n",
       "    </tr>\n",
       "  </thead>\n",
       "  <tbody>\n",
       "    <tr>\n",
       "      <th>0</th>\n",
       "      <td>1997</td>\n",
       "      <td>1</td>\n",
       "      <td>149</td>\n",
       "      <td>417600</td>\n",
       "      <td>6600000.0</td>\n",
       "    </tr>\n",
       "    <tr>\n",
       "      <th>1</th>\n",
       "      <td>1997</td>\n",
       "      <td>1</td>\n",
       "      <td>383</td>\n",
       "      <td>1015400</td>\n",
       "      <td>3856419.0</td>\n",
       "    </tr>\n",
       "    <tr>\n",
       "      <th>2</th>\n",
       "      <td>1997</td>\n",
       "      <td>1</td>\n",
       "      <td>23</td>\n",
       "      <td>817800</td>\n",
       "      <td>3700000.0</td>\n",
       "    </tr>\n",
       "    <tr>\n",
       "      <th>3</th>\n",
       "      <td>1997</td>\n",
       "      <td>1</td>\n",
       "      <td>999</td>\n",
       "      <td>817800</td>\n",
       "      <td>13100000.0</td>\n",
       "    </tr>\n",
       "    <tr>\n",
       "      <th>4</th>\n",
       "      <td>1997</td>\n",
       "      <td>1</td>\n",
       "      <td>23</td>\n",
       "      <td>817800</td>\n",
       "      <td>1900000.0</td>\n",
       "    </tr>\n",
       "    <tr>\n",
       "      <th>...</th>\n",
       "      <td>...</td>\n",
       "      <td>...</td>\n",
       "      <td>...</td>\n",
       "      <td>...</td>\n",
       "      <td>...</td>\n",
       "    </tr>\n",
       "    <tr>\n",
       "      <th>39714</th>\n",
       "      <td>2024</td>\n",
       "      <td>4</td>\n",
       "      <td>999</td>\n",
       "      <td>147600</td>\n",
       "      <td>8485000.0</td>\n",
       "    </tr>\n",
       "    <tr>\n",
       "      <th>39715</th>\n",
       "      <td>2024</td>\n",
       "      <td>4</td>\n",
       "      <td>999</td>\n",
       "      <td>210200</td>\n",
       "      <td>19751993.0</td>\n",
       "    </tr>\n",
       "    <tr>\n",
       "      <th>39716</th>\n",
       "      <td>2024</td>\n",
       "      <td>4</td>\n",
       "      <td>999</td>\n",
       "      <td>517800</td>\n",
       "      <td>3000000.0</td>\n",
       "    </tr>\n",
       "    <tr>\n",
       "      <th>39717</th>\n",
       "      <td>2024</td>\n",
       "      <td>4</td>\n",
       "      <td>999</td>\n",
       "      <td>727600</td>\n",
       "      <td>1500000.0</td>\n",
       "    </tr>\n",
       "    <tr>\n",
       "      <th>39718</th>\n",
       "      <td>2024</td>\n",
       "      <td>4</td>\n",
       "      <td>999</td>\n",
       "      <td>927700</td>\n",
       "      <td>24599966.0</td>\n",
       "    </tr>\n",
       "  </tbody>\n",
       "</table>\n",
       "<p>39719 rows × 5 columns</p>\n",
       "</div>"
      ],
      "text/plain": [
       "       CO_ANO  CO_MES  CO_PAIS   CO_URF  KG_LIQUIDO\n",
       "0        1997       1      149   417600   6600000.0\n",
       "1        1997       1      383  1015400   3856419.0\n",
       "2        1997       1       23   817800   3700000.0\n",
       "3        1997       1      999   817800  13100000.0\n",
       "4        1997       1       23   817800   1900000.0\n",
       "...       ...     ...      ...      ...         ...\n",
       "39714    2024       4      999   147600   8485000.0\n",
       "39715    2024       4      999   210200  19751993.0\n",
       "39716    2024       4      999   517800   3000000.0\n",
       "39717    2024       4      999   727600   1500000.0\n",
       "39718    2024       4      999   927700  24599966.0\n",
       "\n",
       "[39719 rows x 5 columns]"
      ]
     },
     "execution_count": 17,
     "metadata": {},
     "output_type": "execute_result"
    }
   ],
   "source": [
    "cols=['nick','SG_UF_NCM']\n",
    "imp_fert[[x for x in imp_fert.columns if x not in cols]]"
   ]
  },
  {
   "cell_type": "code",
   "execution_count": null,
   "id": "1d1ae359-3b62-42f1-9edf-0389f49ca717",
   "metadata": {},
   "outputs": [],
   "source": []
  }
 ],
 "metadata": {
  "kernelspec": {
   "display_name": "Python 3 (ipykernel)",
   "language": "python",
   "name": "python3"
  },
  "language_info": {
   "codemirror_mode": {
    "name": "ipython",
    "version": 3
   },
   "file_extension": ".py",
   "mimetype": "text/x-python",
   "name": "python",
   "nbconvert_exporter": "python",
   "pygments_lexer": "ipython3",
   "version": "3.11.2"
  }
 },
 "nbformat": 4,
 "nbformat_minor": 5
}
