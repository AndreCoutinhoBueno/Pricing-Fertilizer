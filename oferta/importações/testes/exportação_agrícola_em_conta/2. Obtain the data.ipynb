{
 "cells": [
  {
   "cell_type": "code",
   "execution_count": 11,
   "id": "9b6837ff-3391-4498-b22d-15c91aef281c",
   "metadata": {},
   "outputs": [
    {
     "data": {
      "text/plain": [
       "Index(['CO_NCM', 'CO_ANO', 'CO_MES', 'CO_PAIS', 'SG_UF_NCM', 'CO_URF',\n",
       "       'KG_LIQUIDO', 'VL_FOB_hist', 'VL_FRETE', 'VL_SEGURO', 'VL_FOB',\n",
       "       'log_kg', 'log_fob', 'fob_kg', 'frete_kg', 'log_fob_kg', 'log_kg_s',\n",
       "       'log_fob_s', 'fob_kg_s', 'frete_kg_s', 'km', 'CO_NCM_km', 'date'],\n",
       "      dtype='object')"
      ]
     },
     "execution_count": 11,
     "metadata": {},
     "output_type": "execute_result"
    }
   ],
   "source": [
    "# Importa as bibliotecas necessárias\n",
    "%run '~/git/Bibliotecas.ipynb'\n",
    "\n",
    "# Cria leitor do arquivo principal em pedaços\n",
    "imp_fert=pd.read_csv('~/git/BD/temp/imp_fert2.csv')\n",
    "imp_fert.columns"
   ]
  },
  {
   "cell_type": "code",
   "execution_count": 2,
   "id": "c091ac23-f0ed-495a-9d6c-f29f3e5b3d78",
   "metadata": {},
   "outputs": [],
   "source": [
    "col_padrão=['date','CO_ANO','CO_MES','CO_NCM_km','CO_NCM','SG_UF_NCM','CO_PAIS','CO_URF','KG_LIQUIDO','VL_FOB']\n",
    "\n",
    "imp_fert=imp_fert[col_padrão]\n",
    "\n",
    "# Cria leitor do arquivo principal em pedaços\n",
    "exp_agr=pd.read_csv('~/git/BD/temp/exp_agr2.csv')\n",
    "\n",
    "exp_agr=exp_agr[col_padrão]"
   ]
  },
  {
   "cell_type": "code",
   "execution_count": 3,
   "id": "908ff917-2496-477d-a5b1-5c0e34043c20",
   "metadata": {},
   "outputs": [],
   "source": [
    "comex=pd.concat([imp_fert,exp_agr]).sort_values(by=['CO_ANO','CO_MES'])"
   ]
  },
  {
   "cell_type": "code",
   "execution_count": 4,
   "id": "20d18d63-bfad-4c0c-917c-89f804ef796a",
   "metadata": {},
   "outputs": [
    {
     "data": {
      "text/plain": [
       "0        31022100\n",
       "1        31042090\n",
       "2        31022100\n",
       "3        31042090\n",
       "4        31022100\n",
       "           ...   \n",
       "40032    31054000\n",
       "40033    31042090\n",
       "40034    31054000\n",
       "40035    31021010\n",
       "40036    31042090\n",
       "Name: CO_NCM, Length: 157478, dtype: int64"
      ]
     },
     "execution_count": 4,
     "metadata": {},
     "output_type": "execute_result"
    }
   ],
   "source": [
    "comex.CO_NCM"
   ]
  },
  {
   "cell_type": "code",
   "execution_count": 5,
   "id": "85dbe434-1160-4e1d-8896-019272f92372",
   "metadata": {},
   "outputs": [],
   "source": [
    "comex=comex[comex.SG_UF_NCM=='BA']\n",
    "\n",
    "# Portos da Região da Capital\n",
    "urf=pd.read_csv('~/git/BD/Comexstat/tab_complementares/URF.csv',encoding='Latin-1',sep=';')\n",
    "list_urf_foco=urf[(urf.NO_URF.str.lower().str.contains('salvador'))|(urf.NO_URF.str.lower().str.contains('aratu'))]\n",
    "\n",
    "comex=comex[comex.CO_URF.isin(list_urf_foco.CO_URF)]\n",
    "\n",
    "ncm=pd.read_csv('~/git/BD/Comexstat/tab_complementares/NCM.csv',encoding='Latin-1',sep=';')"
   ]
  },
  {
   "cell_type": "code",
   "execution_count": 6,
   "id": "48484937-3af1-46a3-999c-b13c627a9dfe",
   "metadata": {},
   "outputs": [
    {
     "data": {
      "text/plain": [
       "53634     9011110\n",
       "54522     9011110\n",
       "55261     9011110\n",
       "55149     9011110\n",
       "55415     9011110\n",
       "           ...   \n",
       "39950    31054000\n",
       "39951    31042090\n",
       "39966    31021010\n",
       "39969    31021010\n",
       "40027    31021010\n",
       "Name: CO_NCM, Length: 4528, dtype: int64"
      ]
     },
     "execution_count": 6,
     "metadata": {},
     "output_type": "execute_result"
    }
   ],
   "source": [
    "comex.CO_NCM"
   ]
  },
  {
   "cell_type": "code",
   "execution_count": 7,
   "id": "ad366d49-6b12-4cb0-a134-0b9690e0575a",
   "metadata": {},
   "outputs": [
    {
     "data": {
      "text/html": [
       "<div>\n",
       "<style scoped>\n",
       "    .dataframe tbody tr th:only-of-type {\n",
       "        vertical-align: middle;\n",
       "    }\n",
       "\n",
       "    .dataframe tbody tr th {\n",
       "        vertical-align: top;\n",
       "    }\n",
       "\n",
       "    .dataframe thead th {\n",
       "        text-align: right;\n",
       "    }\n",
       "</style>\n",
       "<table border=\"1\" class=\"dataframe\">\n",
       "  <thead>\n",
       "    <tr style=\"text-align: right;\">\n",
       "      <th></th>\n",
       "      <th>CO_NCM</th>\n",
       "      <th>CO_UNID</th>\n",
       "      <th>CO_SH6</th>\n",
       "      <th>CO_PPE</th>\n",
       "      <th>CO_PPI</th>\n",
       "      <th>CO_FAT_AGREG</th>\n",
       "      <th>CO_CUCI_ITEM</th>\n",
       "      <th>CO_CGCE_N3</th>\n",
       "      <th>CO_SIIT</th>\n",
       "      <th>CO_ISIC_CLASSE</th>\n",
       "      <th>CO_EXP_SUBSET</th>\n",
       "      <th>NO_NCM_POR</th>\n",
       "      <th>NO_NCM_ESP</th>\n",
       "      <th>NO_NCM_ING</th>\n",
       "    </tr>\n",
       "  </thead>\n",
       "  <tbody>\n",
       "    <tr>\n",
       "      <th>0</th>\n",
       "      <td>38247200</td>\n",
       "      <td>10</td>\n",
       "      <td>382472</td>\n",
       "      <td>3990.0</td>\n",
       "      <td>3639.0</td>\n",
       "      <td>3.0</td>\n",
       "      <td>59899</td>\n",
       "      <td>240</td>\n",
       "      <td>2000.0</td>\n",
       "      <td>2029</td>\n",
       "      <td>1499.0</td>\n",
       "      <td>Outras misturas que contenham bromoclorodifluo...</td>\n",
       "      <td>Otras mezclas que contenga bromoclorodifluorom...</td>\n",
       "      <td>Other mix. cont. bromochlorodifluoromethane,br...</td>\n",
       "    </tr>\n",
       "  </tbody>\n",
       "</table>\n",
       "</div>"
      ],
      "text/plain": [
       "     CO_NCM  CO_UNID  CO_SH6  CO_PPE  CO_PPI  CO_FAT_AGREG CO_CUCI_ITEM  \\\n",
       "0  38247200       10  382472  3990.0  3639.0           3.0        59899   \n",
       "\n",
       "   CO_CGCE_N3  CO_SIIT  CO_ISIC_CLASSE  CO_EXP_SUBSET  \\\n",
       "0         240   2000.0            2029         1499.0   \n",
       "\n",
       "                                          NO_NCM_POR  \\\n",
       "0  Outras misturas que contenham bromoclorodifluo...   \n",
       "\n",
       "                                          NO_NCM_ESP  \\\n",
       "0  Otras mezclas que contenga bromoclorodifluorom...   \n",
       "\n",
       "                                          NO_NCM_ING  \n",
       "0  Other mix. cont. bromochlorodifluoromethane,br...  "
      ]
     },
     "execution_count": 7,
     "metadata": {},
     "output_type": "execute_result"
    }
   ],
   "source": [
    "ncm.head(1)"
   ]
  },
  {
   "cell_type": "code",
   "execution_count": 8,
   "id": "b057aa8c-64a6-4e65-ae22-60a73741ba07",
   "metadata": {},
   "outputs": [],
   "source": [
    "comex=comex.merge(ncm)\n",
    "\n",
    "comex=comex[(comex.NO_NCM_POR.str.lower().str.contains('soja'))|(comex.NO_NCM_POR.str.lower().str.contains('cloreto'))]\n",
    "\n",
    "# Salva o resultado\n",
    "comex.to_csv('~/git/BD/temp/comex.csv', index=False)"
   ]
  },
  {
   "cell_type": "code",
   "execution_count": 9,
   "id": "56068a50-d575-465f-aaf1-c49bd59b6858",
   "metadata": {},
   "outputs": [
    {
     "data": {
      "text/plain": [
       "Index(['date', 'CO_ANO', 'CO_MES', 'CO_NCM_km', 'CO_NCM', 'SG_UF_NCM',\n",
       "       'CO_PAIS', 'CO_URF', 'KG_LIQUIDO', 'VL_FOB', 'CO_UNID', 'CO_SH6',\n",
       "       'CO_PPE', 'CO_PPI', 'CO_FAT_AGREG', 'CO_CUCI_ITEM', 'CO_CGCE_N3',\n",
       "       'CO_SIIT', 'CO_ISIC_CLASSE', 'CO_EXP_SUBSET', 'NO_NCM_POR',\n",
       "       'NO_NCM_ESP', 'NO_NCM_ING'],\n",
       "      dtype='object')"
      ]
     },
     "execution_count": 9,
     "metadata": {},
     "output_type": "execute_result"
    }
   ],
   "source": [
    "comex.columns"
   ]
  },
  {
   "cell_type": "code",
   "execution_count": 10,
   "id": "d0156d23-f28f-4bf7-8368-897f7996d812",
   "metadata": {},
   "outputs": [
    {
     "data": {
      "image/png": "[encoded data removed]",
      "text/plain": [
       "<Figure size 720x200 with 2 Axes>"
      ]
     },
     "metadata": {},
     "output_type": "display_data"
    }
   ],
   "source": [
    "title='Comércio Exterior'\n",
    "\n",
    "sns.displot(height=2,aspect=1.2,data=comex,x='KG_LIQUIDO',log_scale=True, col='CO_NCM',col_wrap=3).fig.suptitle(title,y=1.1)\n",
    "plt.show()"
   ]
  },
  {
   "cell_type": "code",
   "execution_count": null,
   "id": "103ba672-a11f-44a0-ac81-d7ea483d0e68",
   "metadata": {},
   "outputs": [],
   "source": []
  }
 ],
 "metadata": {
  "kernelspec": {
   "display_name": "Python 3 (ipykernel)",
   "language": "python",
   "name": "python3"
  },
  "language_info": {
   "codemirror_mode": {
    "name": "ipython",
    "version": 3
   },
   "file_extension": ".py",
   "mimetype": "text/x-python",
   "name": "python",
   "nbconvert_exporter": "python",
   "pygments_lexer": "ipython3",
   "version": "3.11.2"
  }
 },
 "nbformat": 4,
 "nbformat_minor": 5
}
