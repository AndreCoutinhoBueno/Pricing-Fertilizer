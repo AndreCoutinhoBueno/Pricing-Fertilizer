{
 "cells": [
  {
   "cell_type": "code",
   "execution_count": 1,
   "id": "d8baccfb-20e8-4597-acc7-ba7dfb6e4ff8",
   "metadata": {},
   "outputs": [
    {
     "name": "stdout",
     "output_type": "stream",
     "text": [
      "\n",
      "\n",
      "Os dados sobre exportações agrícola podem aumentar a precisão das previsões de importação de fertilizantes?\n",
      "\n",
      "\n"
     ]
    }
   ],
   "source": [
    "print('\\n\\nOs dados sobre exportações agrícola podem aumentar a precisão das previsões de importação de fertilizantes?\\n\\n')"
   ]
  },
  {
   "cell_type": "code",
   "execution_count": 2,
   "id": "4b1a75a5-40bb-4a18-9535-c32b91eb2fad",
   "metadata": {},
   "outputs": [
    {
     "name": "stdout",
     "output_type": "stream",
     "text": [
      "\n",
      "\n",
      "Considerando que:\n",
      "\n",
      "\t*As exportações agrícolas podem alterar o preço dos fertilizantes\n",
      "\n",
      "\t*Uma variável adicional pode levar mais 'ruído' do que informação para o cálculo de previsão.\n",
      "\n",
      "Então, por precaução, antes de se adotar uma nova variável em cálculo de previsão, deve-se testa-lá,\n",
      "conferindo se ela traz mesmo o melhor desempenho ou a melhor precisão das previsões.\n",
      "\n"
     ]
    }
   ],
   "source": [
    "print(\"\\n\\nConsiderando que:\\n\\n\\\n",
    "\\t*As exportações agrícolas podem alterar o preço dos fertilizantes\\n\\n\\\n",
    "\\t*Uma variável adicional pode levar mais 'ruído' do que informação para o cálculo de previsão.\\n\\n\\\n",
    "Então, por precaução, antes de se adotar uma nova variável em cálculo de previsão, deve-se testa-lá,\\n\\\n",
    "conferindo se ela traz mesmo o melhor desempenho ou a melhor precisão das previsões.\\n\\\n",
    "\")"
   ]
  },
  {
   "cell_type": "code",
   "execution_count": 3,
   "id": "cea48850-72dd-4eca-bd23-624e54b6fd0f",
   "metadata": {},
   "outputs": [
    {
     "name": "stdout",
     "output_type": "stream",
     "text": [
      "\n",
      "Teste da Hipótese:\n",
      "\n",
      "\tTestemunha: Previsão com base somente no histórico de importação.\n",
      "\n",
      "\tTratamento: Previsão com base no histórico de importação e de volumes de exportações agrícolas\n",
      "\n",
      "\tTeste estatístico:\n",
      "\n",
      "\t\t* Diferença entre o erro (mae) da testemunha e do tratamento\n",
      "\n",
      "\t\t* mae_test - mae_tratamento\n",
      "\n",
      "\tHo: O teste estatístico é igual a zero\n",
      "\tHa: O teste estatístico é maior que zero (\"Left Tail Teste\")\n",
      "\n",
      "\tA significância estatística considerada será de 0.05\n",
      "\n",
      "\n",
      "\n",
      "\n"
     ]
    }
   ],
   "source": [
    "alpha=0.05\n",
    "print(f'\\\n",
    "\\nTeste da Hipótese:\\n\\n\\\n",
    "\\tTestemunha: Previsão com base somente no histórico de importação.\\n\\n\\\n",
    "\\tTratamento: Previsão com base no histórico de importação e de volumes de exportações agrícolas\\n\\n\\\n",
    "\\tTeste estatístico:\\n\\n\\\n",
    "\\t\\t* Diferença entre o erro (mae) da testemunha e do tratamento\\n\\n\\\n",
    "\\t\\t* mae_test - mae_tratamento\\n\\n\\\n",
    "\\tHo: O teste estatístico é igual a zero\\n\\\n",
    "\\tHa: O teste estatístico é maior que zero (\"Left Tail Teste\")\\n\\n\\\n",
    "\\tA significância estatística considerada será de {alpha}\\n\\n\\n\\n')"
   ]
  },
  {
   "cell_type": "code",
   "execution_count": null,
   "id": "3d174749-e83b-45ac-b67f-a99ec6190cdc",
   "metadata": {},
   "outputs": [],
   "source": []
  }
 ],
 "metadata": {
  "kernelspec": {
   "display_name": "Python 3 (ipykernel)",
   "language": "python",
   "name": "python3"
  },
  "language_info": {
   "codemirror_mode": {
    "name": "ipython",
    "version": 3
   },
   "file_extension": ".py",
   "mimetype": "text/x-python",
   "name": "python",
   "nbconvert_exporter": "python",
   "pygments_lexer": "ipython3",
   "version": "3.11.2"
  }
 },
 "nbformat": 4,
 "nbformat_minor": 5
}
