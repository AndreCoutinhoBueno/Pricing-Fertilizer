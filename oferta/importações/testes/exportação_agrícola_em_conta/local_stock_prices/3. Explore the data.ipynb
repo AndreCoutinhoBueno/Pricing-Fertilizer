{
 "cells": [
  {
   "cell_type": "code",
   "execution_count": 20,
   "id": "3794692a-4de3-4f25-ad33-e79f5d07b708",
   "metadata": {},
   "outputs": [],
   "source": [
    "# Importa as bibliotecas necessárias\n",
    "%run '~/git/Bibliotecas.ipynb'\n",
    "\n",
    "# Carrega a base de dados contendo os registros de importação de fertilizantes\n",
    "comex=pd.read_csv('~/git/BD/temp/comex.csv').sort_values(by=['CO_ANO','CO_MES'])"
   ]
  },
  {
   "cell_type": "code",
   "execution_count": 21,
   "id": "9cbf58c1-e1ca-4d8b-bbdd-cc4496d040ad",
   "metadata": {},
   "outputs": [
    {
     "data": {
      "text/plain": [
       "Index(['date', 'CO_ANO', 'CO_MES', 'CO_NCM_orig', 'CO_NCM_x', 'SG_UF_NCM',\n",
       "       'CO_PAIS', 'CO_URF', 'KG_LIQUIDO', 'VL_FOB', 'CO_NCM_y', 'CO_UNID',\n",
       "       'CO_SH6', 'CO_PPE', 'CO_PPI', 'CO_FAT_AGREG', 'CO_CUCI_ITEM',\n",
       "       'CO_CGCE_N3', 'CO_SIIT', 'CO_ISIC_CLASSE', 'CO_EXP_SUBSET',\n",
       "       'NO_NCM_POR', 'NO_NCM_ESP', 'NO_NCM_ING'],\n",
       "      dtype='object')"
      ]
     },
     "execution_count": 21,
     "metadata": {},
     "output_type": "execute_result"
    }
   ],
   "source": [
    "comex.columns"
   ]
  },
  {
   "cell_type": "code",
   "execution_count": null,
   "id": "fbe6e4dd-a3ab-45c3-b8dd-dcdc88ee6023",
   "metadata": {},
   "outputs": [],
   "source": [
    "title='Comércio Exterior'\n",
    "\n",
    "sns.displot(height=2,aspect=1.2,data=comex,x='KG_LIQUIDO',log_scale=True, col='CO_NCM',col_wrap=3).fig.suptitle(title,y=1.1)\n",
    "plt.show()"
   ]
  },
  {
   "cell_type": "code",
   "execution_count": 8,
   "id": "226c4505-1ee9-4be0-a612-76185abf4e84",
   "metadata": {},
   "outputs": [],
   "source": [
    "comex=comex[comex.CO_NCM!='10059010-0']"
   ]
  },
  {
   "cell_type": "code",
   "execution_count": 9,
   "id": "3c2083bc-364c-4682-9a43-605c8e4ec462",
   "metadata": {},
   "outputs": [],
   "source": [
    "comex.CO_MES=comex.CO_MES.map({1:1,2:1,3:1,4:2,5:2,6:2,7:3,8:3,9:3,10:4,11:4,12:4})"
   ]
  },
  {
   "cell_type": "code",
   "execution_count": 10,
   "id": "6fe07e35-248f-4bc2-8bed-e8c996452d45",
   "metadata": {},
   "outputs": [
    {
     "data": {
      "text/html": [
       "<div>\n",
       "<style scoped>\n",
       "    .dataframe tbody tr th:only-of-type {\n",
       "        vertical-align: middle;\n",
       "    }\n",
       "\n",
       "    .dataframe tbody tr th {\n",
       "        vertical-align: top;\n",
       "    }\n",
       "\n",
       "    .dataframe thead th {\n",
       "        text-align: right;\n",
       "    }\n",
       "</style>\n",
       "<table border=\"1\" class=\"dataframe\">\n",
       "  <thead>\n",
       "    <tr style=\"text-align: right;\">\n",
       "      <th></th>\n",
       "      <th>date</th>\n",
       "      <th>CO_ANO</th>\n",
       "      <th>CO_MES</th>\n",
       "      <th>CO_NCM</th>\n",
       "      <th>CO_PAIS</th>\n",
       "      <th>SG_UF_NCM</th>\n",
       "      <th>CO_URF</th>\n",
       "      <th>KG_LIQUIDO</th>\n",
       "      <th>VL_FOB</th>\n",
       "      <th>VL_FOB_hist</th>\n",
       "      <th>VL_FRETE</th>\n",
       "      <th>VL_SEGURO</th>\n",
       "    </tr>\n",
       "  </thead>\n",
       "  <tbody>\n",
       "    <tr>\n",
       "      <th>83324</th>\n",
       "      <td>2014-01-01</td>\n",
       "      <td>2014</td>\n",
       "      <td>1</td>\n",
       "      <td>31042090-0</td>\n",
       "      <td>149</td>\n",
       "      <td>BA</td>\n",
       "      <td>517602</td>\n",
       "      <td>11566045.0</td>\n",
       "      <td>5.209842e+06</td>\n",
       "      <td>3855283</td>\n",
       "      <td>346500.0</td>\n",
       "      <td>1230.0</td>\n",
       "    </tr>\n",
       "    <tr>\n",
       "      <th>83379</th>\n",
       "      <td>2014-01-01</td>\n",
       "      <td>2014</td>\n",
       "      <td>1</td>\n",
       "      <td>31042090-0</td>\n",
       "      <td>158</td>\n",
       "      <td>BA</td>\n",
       "      <td>517602</td>\n",
       "      <td>6000494.0</td>\n",
       "      <td>2.986208e+06</td>\n",
       "      <td>2209794</td>\n",
       "      <td>160500.0</td>\n",
       "      <td>251.0</td>\n",
       "    </tr>\n",
       "    <tr>\n",
       "      <th>83404</th>\n",
       "      <td>2014-01-01</td>\n",
       "      <td>2014</td>\n",
       "      <td>1</td>\n",
       "      <td>31054000-0</td>\n",
       "      <td>474</td>\n",
       "      <td>BA</td>\n",
       "      <td>517602</td>\n",
       "      <td>14314841.0</td>\n",
       "      <td>7.651216e+06</td>\n",
       "      <td>5661900</td>\n",
       "      <td>378994.0</td>\n",
       "      <td>1603.0</td>\n",
       "    </tr>\n",
       "    <tr>\n",
       "      <th>83412</th>\n",
       "      <td>2014-01-01</td>\n",
       "      <td>2014</td>\n",
       "      <td>1</td>\n",
       "      <td>31054000-0</td>\n",
       "      <td>676</td>\n",
       "      <td>BA</td>\n",
       "      <td>517602</td>\n",
       "      <td>4960757.0</td>\n",
       "      <td>3.009614e+06</td>\n",
       "      <td>2227114</td>\n",
       "      <td>178193.0</td>\n",
       "      <td>219.0</td>\n",
       "    </tr>\n",
       "    <tr>\n",
       "      <th>83438</th>\n",
       "      <td>2014-01-01</td>\n",
       "      <td>2014</td>\n",
       "      <td>1</td>\n",
       "      <td>9011110-0</td>\n",
       "      <td>249</td>\n",
       "      <td>BA</td>\n",
       "      <td>517600</td>\n",
       "      <td>297900.0</td>\n",
       "      <td>9.294662e+05</td>\n",
       "      <td>687805</td>\n",
       "      <td>NaN</td>\n",
       "      <td>NaN</td>\n",
       "    </tr>\n",
       "    <tr>\n",
       "      <th>...</th>\n",
       "      <td>...</td>\n",
       "      <td>...</td>\n",
       "      <td>...</td>\n",
       "      <td>...</td>\n",
       "      <td>...</td>\n",
       "      <td>...</td>\n",
       "      <td>...</td>\n",
       "      <td>...</td>\n",
       "      <td>...</td>\n",
       "      <td>...</td>\n",
       "      <td>...</td>\n",
       "      <td>...</td>\n",
       "    </tr>\n",
       "    <tr>\n",
       "      <th>165425</th>\n",
       "      <td>2024-03-01</td>\n",
       "      <td>2024</td>\n",
       "      <td>1</td>\n",
       "      <td>9011110-0</td>\n",
       "      <td>386</td>\n",
       "      <td>BA</td>\n",
       "      <td>517800</td>\n",
       "      <td>19200.0</td>\n",
       "      <td>6.080000e+04</td>\n",
       "      <td>60800</td>\n",
       "      <td>NaN</td>\n",
       "      <td>NaN</td>\n",
       "    </tr>\n",
       "    <tr>\n",
       "      <th>165426</th>\n",
       "      <td>2024-03-01</td>\n",
       "      <td>2024</td>\n",
       "      <td>1</td>\n",
       "      <td>9011110-0</td>\n",
       "      <td>386</td>\n",
       "      <td>BA</td>\n",
       "      <td>517800</td>\n",
       "      <td>19200.0</td>\n",
       "      <td>6.080000e+04</td>\n",
       "      <td>60800</td>\n",
       "      <td>NaN</td>\n",
       "      <td>NaN</td>\n",
       "    </tr>\n",
       "    <tr>\n",
       "      <th>165435</th>\n",
       "      <td>2024-03-01</td>\n",
       "      <td>2024</td>\n",
       "      <td>1</td>\n",
       "      <td>9011110-0</td>\n",
       "      <td>232</td>\n",
       "      <td>BA</td>\n",
       "      <td>517800</td>\n",
       "      <td>98400.0</td>\n",
       "      <td>5.162350e+05</td>\n",
       "      <td>516235</td>\n",
       "      <td>NaN</td>\n",
       "      <td>NaN</td>\n",
       "    </tr>\n",
       "    <tr>\n",
       "      <th>165458</th>\n",
       "      <td>2024-03-01</td>\n",
       "      <td>2024</td>\n",
       "      <td>1</td>\n",
       "      <td>9011110-0</td>\n",
       "      <td>245</td>\n",
       "      <td>BA</td>\n",
       "      <td>517800</td>\n",
       "      <td>58400.0</td>\n",
       "      <td>2.290810e+05</td>\n",
       "      <td>229081</td>\n",
       "      <td>NaN</td>\n",
       "      <td>NaN</td>\n",
       "    </tr>\n",
       "    <tr>\n",
       "      <th>165770</th>\n",
       "      <td>2024-03-01</td>\n",
       "      <td>2024</td>\n",
       "      <td>1</td>\n",
       "      <td>12019000-0</td>\n",
       "      <td>160</td>\n",
       "      <td>BA</td>\n",
       "      <td>517800</td>\n",
       "      <td>268921384.0</td>\n",
       "      <td>1.209117e+08</td>\n",
       "      <td>120911723</td>\n",
       "      <td>NaN</td>\n",
       "      <td>NaN</td>\n",
       "    </tr>\n",
       "  </tbody>\n",
       "</table>\n",
       "<p>2249 rows × 12 columns</p>\n",
       "</div>"
      ],
      "text/plain": [
       "              date  CO_ANO  CO_MES      CO_NCM  CO_PAIS SG_UF_NCM  CO_URF  \\\n",
       "83324   2014-01-01    2014       1  31042090-0      149        BA  517602   \n",
       "83379   2014-01-01    2014       1  31042090-0      158        BA  517602   \n",
       "83404   2014-01-01    2014       1  31054000-0      474        BA  517602   \n",
       "83412   2014-01-01    2014       1  31054000-0      676        BA  517602   \n",
       "83438   2014-01-01    2014       1   9011110-0      249        BA  517600   \n",
       "...            ...     ...     ...         ...      ...       ...     ...   \n",
       "165425  2024-03-01    2024       1   9011110-0      386        BA  517800   \n",
       "165426  2024-03-01    2024       1   9011110-0      386        BA  517800   \n",
       "165435  2024-03-01    2024       1   9011110-0      232        BA  517800   \n",
       "165458  2024-03-01    2024       1   9011110-0      245        BA  517800   \n",
       "165770  2024-03-01    2024       1  12019000-0      160        BA  517800   \n",
       "\n",
       "         KG_LIQUIDO        VL_FOB  VL_FOB_hist  VL_FRETE  VL_SEGURO  \n",
       "83324    11566045.0  5.209842e+06      3855283  346500.0     1230.0  \n",
       "83379     6000494.0  2.986208e+06      2209794  160500.0      251.0  \n",
       "83404    14314841.0  7.651216e+06      5661900  378994.0     1603.0  \n",
       "83412     4960757.0  3.009614e+06      2227114  178193.0      219.0  \n",
       "83438      297900.0  9.294662e+05       687805       NaN        NaN  \n",
       "...             ...           ...          ...       ...        ...  \n",
       "165425      19200.0  6.080000e+04        60800       NaN        NaN  \n",
       "165426      19200.0  6.080000e+04        60800       NaN        NaN  \n",
       "165435      98400.0  5.162350e+05       516235       NaN        NaN  \n",
       "165458      58400.0  2.290810e+05       229081       NaN        NaN  \n",
       "165770  268921384.0  1.209117e+08    120911723       NaN        NaN  \n",
       "\n",
       "[2249 rows x 12 columns]"
      ]
     },
     "execution_count": 10,
     "metadata": {},
     "output_type": "execute_result"
    }
   ],
   "source": [
    "comex"
   ]
  },
  {
   "cell_type": "raw",
   "id": "a6af5b03-d4c7-4499-b590-8c7189190ea9",
   "metadata": {},
   "source": [
    "comex=comex.sort_values(by=['CO_ANO','CO_MES'])"
   ]
  },
  {
   "cell_type": "raw",
   "id": "9a8ec940-00b1-4427-a0d9-a4e1b7019860",
   "metadata": {},
   "source": [
    "comex[['CO_ANO','CO_MES']]=comex[['CO_ANO','CO_MES']].astype('category')"
   ]
  },
  {
   "cell_type": "code",
   "execution_count": 11,
   "id": "25df06cb-6e51-4825-a774-a67ec9fc28dc",
   "metadata": {},
   "outputs": [],
   "source": [
    "comex_f=comex[comex.CO_NCM.str[:2]=='31']"
   ]
  },
  {
   "cell_type": "code",
   "execution_count": 12,
   "id": "aa3c2933-8d06-4c3d-90e2-89d5ed3899bc",
   "metadata": {},
   "outputs": [],
   "source": [
    "comex_a=comex[comex.CO_NCM.str[:2]!='31']"
   ]
  },
  {
   "cell_type": "code",
   "execution_count": 13,
   "id": "e4e874c2-743d-4850-9f53-bd96acfbe225",
   "metadata": {},
   "outputs": [
    {
     "name": "stdout",
     "output_type": "stream",
     "text": [
      "<class 'pandas.core.frame.DataFrame'>\n",
      "Index: 868 entries, 83324 to 163943\n",
      "Data columns (total 12 columns):\n",
      " #   Column       Non-Null Count  Dtype  \n",
      "---  ------       --------------  -----  \n",
      " 0   date         868 non-null    object \n",
      " 1   CO_ANO       868 non-null    int64  \n",
      " 2   CO_MES       868 non-null    int64  \n",
      " 3   CO_NCM       868 non-null    object \n",
      " 4   CO_PAIS      868 non-null    int64  \n",
      " 5   SG_UF_NCM    868 non-null    object \n",
      " 6   CO_URF       868 non-null    int64  \n",
      " 7   KG_LIQUIDO   868 non-null    float64\n",
      " 8   VL_FOB       868 non-null    float64\n",
      " 9   VL_FOB_hist  868 non-null    int64  \n",
      " 10  VL_FRETE     868 non-null    float64\n",
      " 11  VL_SEGURO    868 non-null    float64\n",
      "dtypes: float64(4), int64(5), object(3)\n",
      "memory usage: 88.2+ KB\n"
     ]
    }
   ],
   "source": [
    "comex_f.info()"
   ]
  },
  {
   "cell_type": "code",
   "execution_count": 14,
   "id": "4f72e234-a49f-46df-a6e5-538b36440372",
   "metadata": {},
   "outputs": [],
   "source": [
    "comex_f=comex_f.groupby(by=['CO_ANO','CO_MES'])[['KG_LIQUIDO','VL_FOB']].sum().reset_index()"
   ]
  },
  {
   "cell_type": "code",
   "execution_count": 15,
   "id": "fc9e5a60-d4ef-4e9c-bf65-46d0b74ab3a1",
   "metadata": {},
   "outputs": [],
   "source": [
    "comex_a=comex_a.groupby(by=['CO_ANO','CO_MES'])[['KG_LIQUIDO','VL_FOB']].sum().reset_index()"
   ]
  },
  {
   "cell_type": "code",
   "execution_count": 16,
   "id": "cdf3f845-ede0-4406-99de-603a82503404",
   "metadata": {},
   "outputs": [],
   "source": [
    "comex_f.insert(0,'date', pd.to_datetime(comex_f.CO_ANO.astype(str)+'/'+comex_f.CO_MES.astype(str)+'/1'))"
   ]
  },
  {
   "cell_type": "code",
   "execution_count": 17,
   "id": "d10d6922-d67a-4c77-b44f-dfe3bab83128",
   "metadata": {},
   "outputs": [],
   "source": [
    "comex_f=comex_f.assign(kg_tend=np.poly1d(np.polyfit(comex_f.date.astype(int),comex_f.KG_LIQUIDO,deg=2))(comex_f.date.astype(int)))"
   ]
  },
  {
   "cell_type": "code",
   "execution_count": 18,
   "id": "b56ffd11-a06b-41a2-b266-29fa18f4330a",
   "metadata": {},
   "outputs": [],
   "source": [
    "comex_f=comex_f.assign(kg_des_tend=comex_f.KG_LIQUIDO-comex_f.kg_tend)"
   ]
  },
  {
   "cell_type": "code",
   "execution_count": 19,
   "id": "57da2772-a259-46d9-b92e-ae6ac13a5caa",
   "metadata": {},
   "outputs": [],
   "source": [
    "comex_f=comex_f.assign(preço_f=comex_f.VL_FOB / comex_f.KG_LIQUIDO)"
   ]
  },
  {
   "cell_type": "code",
   "execution_count": 20,
   "id": "2b404f3b-6281-446a-ab9b-637f17655b9a",
   "metadata": {},
   "outputs": [],
   "source": [
    "comex_a=comex_a.assign(preço_a=comex_a.VL_FOB / comex_a.KG_LIQUIDO)"
   ]
  },
  {
   "cell_type": "code",
   "execution_count": 21,
   "id": "cd1bd4c0-5dd0-4da1-98fe-edbcd7f64ac5",
   "metadata": {},
   "outputs": [],
   "source": [
    "comex=comex_f.merge(comex_a[['CO_ANO','CO_MES','preço_a']])"
   ]
  },
  {
   "cell_type": "code",
   "execution_count": 22,
   "id": "3d0d4d9e-bc80-4544-a90b-18730a9dfaea",
   "metadata": {},
   "outputs": [],
   "source": [
    "comex=comex.assign(rel_preço=comex.preço_a / comex.preço_f)"
   ]
  },
  {
   "cell_type": "code",
   "execution_count": 23,
   "id": "213b6b64-81ca-492d-88d0-5864728fa855",
   "metadata": {},
   "outputs": [],
   "source": [
    "comex=comex.assign(rel_preço_tend=np.poly1d(np.polyfit(comex.date.astype(int),comex.rel_preço,deg=2))(comex.date.astype(int)))"
   ]
  },
  {
   "cell_type": "code",
   "execution_count": 24,
   "id": "2e4d88c7-2ac9-429b-ac3a-da402362bc21",
   "metadata": {},
   "outputs": [],
   "source": [
    "comex=comex.assign(rel_preço_des_tend=comex.rel_preço-comex.rel_preço_tend)"
   ]
  },
  {
   "cell_type": "code",
   "execution_count": 25,
   "id": "b4a33afd-72e9-470e-a3fc-71f5a365d91f",
   "metadata": {},
   "outputs": [],
   "source": [
    "from sklearn.preprocessing import MinMaxScaler as MMS\n",
    "MMS=MMS()"
   ]
  },
  {
   "cell_type": "code",
   "execution_count": 26,
   "id": "90bd427e-f536-4966-ac0c-df77e49c5b70",
   "metadata": {},
   "outputs": [],
   "source": [
    "comex=comex.assign(kg_des_tend_s=MMS.fit_transform(comex[['kg_des_tend']]))"
   ]
  },
  {
   "cell_type": "code",
   "execution_count": 27,
   "id": "1bf1237d-bb68-4eb4-af98-d9bbef558d67",
   "metadata": {},
   "outputs": [],
   "source": [
    "comex=comex.assign(rel_preço_des_tend_s=MMS.fit_transform(comex[['rel_preço_des_tend']]))"
   ]
  },
  {
   "cell_type": "code",
   "execution_count": 28,
   "id": "7f5f525f-a3f0-424c-a955-67854ff7cb2d",
   "metadata": {},
   "outputs": [
    {
     "data": {
      "text/plain": [
       "1.0"
      ]
     },
     "execution_count": 28,
     "metadata": {},
     "output_type": "execute_result"
    }
   ],
   "source": [
    "comex.rel_preço_des_tend_s.max()"
   ]
  },
  {
   "cell_type": "code",
   "execution_count": 29,
   "id": "6cce6aab-f5fe-4b94-90de-7b50f2d6351c",
   "metadata": {},
   "outputs": [
    {
     "data": {
      "text/plain": [
       "0.0"
      ]
     },
     "execution_count": 29,
     "metadata": {},
     "output_type": "execute_result"
    }
   ],
   "source": [
    "comex.rel_preço_des_tend_s.min()"
   ]
  },
  {
   "cell_type": "code",
   "execution_count": 30,
   "id": "e56d34ee-a221-4703-a358-b2e20e6b53aa",
   "metadata": {},
   "outputs": [],
   "source": [
    "comex=comex[['CO_ANO','CO_MES','kg_des_tend_s','rel_preço_des_tend_s']]"
   ]
  },
  {
   "cell_type": "code",
   "execution_count": 31,
   "id": "47c90cde-e360-41a2-8abd-9402e40c9fbe",
   "metadata": {},
   "outputs": [],
   "source": [
    "comex_f=comex[['CO_ANO','CO_MES','kg_des_tend_s']]"
   ]
  },
  {
   "cell_type": "code",
   "execution_count": 32,
   "id": "74c68fe5-cf41-4e3b-bb1e-fd4692871d03",
   "metadata": {},
   "outputs": [],
   "source": [
    "comex_r=comex[['CO_ANO','CO_MES','rel_preço_des_tend_s']]"
   ]
  },
  {
   "cell_type": "code",
   "execution_count": 33,
   "id": "978d14da-23f9-4289-85ca-ef739ebe68f5",
   "metadata": {},
   "outputs": [],
   "source": [
    "comex_r.CO_ANO=comex_r.CO_ANO+1"
   ]
  },
  {
   "cell_type": "code",
   "execution_count": 34,
   "id": "77ebfb98-652b-4440-addf-07c2a9f9210d",
   "metadata": {},
   "outputs": [],
   "source": [
    "comex_l=pd.concat([\n",
    "    comex_f.rename(columns={'kg_des_tend_s':'valor'}).assign(tipo='kg_des_tend_s'),\n",
    "    comex_r.rename(columns={'rel_preço_des_tend_s':'valor'}).assign(tipo='rel_preço_des_tend_s')\n",
    "    \n",
    "])"
   ]
  },
  {
   "cell_type": "code",
   "execution_count": 35,
   "id": "2ed3d4f2-c6b3-412b-835b-8cabd727f562",
   "metadata": {
    "scrolled": true
   },
   "outputs": [],
   "source": [
    "comex_l.insert(0,'date',pd.to_datetime(comex_l.CO_ANO.astype(str)+'/'+comex_l.CO_MES.astype(str)+'/1'))"
   ]
  },
  {
   "cell_type": "code",
   "execution_count": 36,
   "id": "80ab9295-30d3-4368-acbe-601e92bb3448",
   "metadata": {},
   "outputs": [
    {
     "data": {
      "text/plain": [
       "<seaborn.axisgrid.FacetGrid at 0x7fdca42d9c50>"
      ]
     },
     "execution_count": 36,
     "metadata": {},
     "output_type": "execute_result"
    },
    {
     "data": {
      "image/png": "[encoded data removed]",
      "text/plain": [
       "<Figure size 1198.12x200 with 1 Axes>"
      ]
     },
     "metadata": {},
     "output_type": "display_data"
    }
   ],
   "source": [
    "sns.relplot(data=comex_l[(comex_l.CO_ANO<2024)],x='date',y='valor',hue='tipo', kind='line',height=2,aspect=5)"
   ]
  },
  {
   "cell_type": "code",
   "execution_count": null,
   "id": "a06c1704-1416-45e4-b250-7c365c110edb",
   "metadata": {},
   "outputs": [],
   "source": []
  }
 ],
 "metadata": {
  "celltoolbar": "Raw Cell Format",
  "kernelspec": {
   "display_name": "Python 3 (ipykernel)",
   "language": "python",
   "name": "python3"
  },
  "language_info": {
   "codemirror_mode": {
    "name": "ipython",
    "version": 3
   },
   "file_extension": ".py",
   "mimetype": "text/x-python",
   "name": "python",
   "nbconvert_exporter": "python",
   "pygments_lexer": "ipython3",
   "version": "3.11.2"
  }
 },
 "nbformat": 4,
 "nbformat_minor": 5
}
