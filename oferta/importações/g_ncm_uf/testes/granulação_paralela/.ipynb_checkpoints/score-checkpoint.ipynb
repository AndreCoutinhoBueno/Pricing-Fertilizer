{
 "cells": [
  {
   "cell_type": "code",
   "execution_count": null,
   "id": "873779fb-8bed-4d1c-bf9f-4aa879f076bd",
   "metadata": {},
   "outputs": [],
   "source": [
    "def score(ano_mes_ncm_uf):\n",
    "    \n",
    "    import pandas as pd\n",
    "    \n",
    "    prev=pd.read_csv('~/git/BD/temp/temp_in.csv')\n",
    "    \n",
    "    from sklearn import metrics\n",
    "    \n",
    "    score=pd.DataFrame()\n",
    "    for ncm in prev.CO_NCM.unique():\n",
    "        for uf in prev.SG_UF_NCM.unique():\n",
    "            for mes in prev.CO_MES.unique():\n",
    "                \n",
    "                prev_t=prev[(prev.CO_MES==mes)&(prev.CO_NCM==ncm)&(prev.SG_UF_NCM==uf)]\n",
    "        \n",
    "                prev_t=prev_t\\\n",
    "                .assign(accuracy =metrics.accuracy_score (prev_t.oc,prev_t.oc_pred))\\\n",
    "                .assign(precision=metrics.precision_score(prev_t.oc,prev_t.oc_pred))\\\n",
    "                .assign(recall   =metrics.recall_score   (prev_t.oc,prev_t.oc_pred, zero_division=0))\n",
    "                \n",
    "                prev_t2=prev_t[(prev_t.oc==1)&(prev_t.oc_pred==1)]\n",
    "                \n",
    "                if len(prev_t2)>1:\n",
    "                    prev_t2=prev_t2.assign(r2=metrics.r2_score(prev_t2.KG_LIQUIDO,prev_t2.kg_pred))\n",
    "                else:\n",
    "                    prev_t2=prev_t2.assign(r2=np.nan)\n",
    "    \n",
    "                prev_t=prev_t.merge(prev_t2)\n",
    "        \n",
    "                prev_t=prev_t[['CO_MES','CO_NCM','SG_UF_NCM','accuracy','precision','recall','r2']].drop_duplicates()\n",
    "                \n",
    "                score=pd.concat([score,prev_t])\n",
    "    \n",
    "    return score\n",
    "\n",
    "print('*** score(ano_mes_ncm_uf) function available ***')"
   ]
  }
 ],
 "metadata": {
  "kernelspec": {
   "display_name": "Python 3 (ipykernel)",
   "language": "python",
   "name": "python3"
  },
  "language_info": {
   "codemirror_mode": {
    "name": "ipython",
    "version": 3
   },
   "file_extension": ".py",
   "mimetype": "text/x-python",
   "name": "python",
   "nbconvert_exporter": "python",
   "pygments_lexer": "ipython3",
   "version": "3.11.2"
  }
 },
 "nbformat": 4,
 "nbformat_minor": 5
}
