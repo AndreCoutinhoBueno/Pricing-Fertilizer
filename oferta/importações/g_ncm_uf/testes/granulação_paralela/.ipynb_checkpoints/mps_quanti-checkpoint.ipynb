{
 "cells": [
  {
   "cell_type": "code",
   "execution_count": 1,
   "id": "d1f45248-2941-46bf-8751-44bf8c12a993",
   "metadata": {},
   "outputs": [],
   "source": [
    "import numpy as np\n",
    "import pandas as pd\n",
    "import warnings\n",
    "warnings.filterwarnings(\"ignore\")\n",
    "\n",
    "imp_fert=pd.read_csv('~/git/BD/temp/imp_fert_quanti_g_ncm_uf.csv').sort_values(by=['CO_ANO','CO_MES']).reset_index(drop=True)"
   ]
  },
  {
   "cell_type": "code",
   "execution_count": 2,
   "id": "e2933551-e891-4635-ae34-6be0c12f52ed",
   "metadata": {},
   "outputs": [],
   "source": [
    "# Filtra mês\n",
    "mes_sel=imp_fert.groupby('CO_MES').KG_LIQUIDO.sum().sort_values().reset_index().CO_MES.tail(1).values\n",
    "imp_fert=imp_fert[imp_fert.CO_MES.isin(mes_sel)]\n",
    "\n",
    "# Filtra NCM\n",
    "ncm_sel=imp_fert.groupby('CO_NCM').KG_LIQUIDO.sum().sort_values().reset_index().CO_NCM.tail(1).values\n",
    "imp_fert=imp_fert[imp_fert.CO_NCM.isin(ncm_sel)]\n",
    "\n",
    "# Filtra UF\n",
    "uf_sel=imp_fert.groupby('SG_UF_NCM').KG_LIQUIDO.sum().sort_values().reset_index().SG_UF_NCM.tail(1).values\n",
    "imp_fert=imp_fert[imp_fert.SG_UF_NCM.isin(uf_sel)]"
   ]
  },
  {
   "cell_type": "code",
   "execution_count": null,
   "id": "c4d21d5a-a4eb-4a96-ada3-d7588d2db19b",
   "metadata": {},
   "outputs": [],
   "source": [
    "from sklearn.ensemble import RandomForestClassifier as RFC\n",
    "RFC=RFC(max_depth=max_depth)\n",
    "\n",
    "from sklearn.linear_model import LinearRegression as LR\n",
    "LR=LR()\n",
    "\n",
    "from sklearn.ensemble import RandomForestRegressor as RFR\n",
    "RFR=RFR(max_depth=max_depth)\n",
    "\n",
    "REG=RFR"
   ]
  },
  {
   "cell_type": "code",
   "execution_count": 5,
   "id": "b7225e76-104c-417a-b0fc-298b04f90f26",
   "metadata": {},
   "outputs": [
    {
     "ename": "NameError",
     "evalue": "name 'RFR' is not defined",
     "output_type": "error",
     "traceback": [
      "\u001b[0;31m---------------------------------------------------------------------------\u001b[0m",
      "\u001b[0;31mNameError\u001b[0m                                 Traceback (most recent call last)",
      "Cell \u001b[0;32mIn[5], line 6\u001b[0m\n\u001b[1;32m      4\u001b[0m select_mes\u001b[38;5;241m=\u001b[39m[\u001b[38;5;241m1\u001b[39m]\n\u001b[1;32m      5\u001b[0m \u001b[38;5;28;01mglobal\u001b[39;00m RFR\n\u001b[0;32m----> 6\u001b[0m REG\u001b[38;5;241m=\u001b[39m\u001b[43mRFR\u001b[49m\n",
      "\u001b[0;31mNameError\u001b[0m: name 'RFR' is not defined"
     ]
    }
   ],
   "source": [
    "# Hyperparametros\n",
    "ad=1\n",
    "n_cols_ad=0\n",
    "max_depth=5\n",
    "select_mes=[1]"
   ]
  },
  {
   "cell_type": "code",
   "execution_count": 3,
   "id": "a6df37ce-c15c-4f47-8411-b069d6add555",
   "metadata": {},
   "outputs": [],
   "source": [
    "import os\n",
    "\n",
    "try:\n",
    "    os.chdir('function')\n",
    "except:\n",
    "    None"
   ]
  },
  {
   "cell_type": "code",
   "execution_count": 4,
   "id": "581bd16e-6f09-4e8e-bbb1-daa4a0f2111b",
   "metadata": {},
   "outputs": [
    {
     "name": "stdout",
     "output_type": "stream",
     "text": [
      "*** multi_prev_score(imp_fert) *** function available\n"
     ]
    }
   ],
   "source": [
    "%run 'multi_prev_score.ipynb'"
   ]
  },
  {
   "cell_type": "code",
   "execution_count": null,
   "id": "ab601012-e786-4bf1-99c2-b0abb25e3416",
   "metadata": {},
   "outputs": [],
   "source": [
    "score_result=multi_prev_score(imp_fert)"
   ]
  },
  {
   "cell_type": "raw",
   "id": "48fe64f7-b50e-464a-bf62-3f396d054c3f",
   "metadata": {},
   "source": [
    "score_result.to_csv('~/git/BD/temp/score_result1.csv',index=False)"
   ]
  },
  {
   "cell_type": "code",
   "execution_count": null,
   "id": "5b0a2982-87a8-496f-b877-760ebe4dcfb0",
   "metadata": {},
   "outputs": [],
   "source": [
    "score_result_hist=pd.read_csv('~/git/BD/temp/score_result1.csv')"
   ]
  },
  {
   "cell_type": "code",
   "execution_count": null,
   "id": "73a82363-a34d-4060-995f-00bcbb27ecd4",
   "metadata": {},
   "outputs": [],
   "source": [
    "score_result=pd.concat([score_result_hist,score_result])"
   ]
  },
  {
   "cell_type": "code",
   "execution_count": null,
   "id": "9270faab-fbad-4718-928d-dc28186bda31",
   "metadata": {},
   "outputs": [],
   "source": [
    "score_result.to_csv('~/git/BD/temp/score_result1.csv',index=False)"
   ]
  },
  {
   "cell_type": "code",
   "execution_count": null,
   "id": "8ebcfac7-e8ee-4838-b049-d98ad0b88de2",
   "metadata": {},
   "outputs": [],
   "source": [
    "score_result.sort_values('r2', ascending=False)"
   ]
  }
 ],
 "metadata": {
  "kernelspec": {
   "display_name": "Python 3 (ipykernel)",
   "language": "python",
   "name": "python3"
  },
  "language_info": {
   "codemirror_mode": {
    "name": "ipython",
    "version": 3
   },
   "file_extension": ".py",
   "mimetype": "text/x-python",
   "name": "python",
   "nbconvert_exporter": "python",
   "pygments_lexer": "ipython3",
   "version": "3.11.2"
  }
 },
 "nbformat": 4,
 "nbformat_minor": 5
}
