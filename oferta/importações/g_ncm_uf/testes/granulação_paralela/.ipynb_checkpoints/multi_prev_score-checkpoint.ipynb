{
 "cells": [
  {
   "cell_type": "code",
   "execution_count": null,
   "id": "80f31bac-1e22-44dd-9879-4f5ba6cb5568",
   "metadata": {},
   "outputs": [],
   "source": [
    "import time\n",
    "inicio=time.time()\n",
    "\n",
    "import numpy as np\n",
    "import pandas as pd\n",
    "\n",
    "imp_fert=pd.read_csv('~/git/BD/temp/imp_fert_quanti_g_ncm_uf.csv').sort_values(by=['CO_ANO','CO_MES']).reset_index(drop=True)\n",
    "\n",
    "imp_fert=imp_fert.loc[:,:'VL_FOB']\n",
    "\n",
    "filt_ncm=imp_fert.groupby('CO_NCM').KG_LIQUIDO.sum().sort_values(ascending=False).reset_index().CO_NCM.values[:1]\n",
    "filt_ncm\n",
    "\n",
    "filt_uf=imp_fert.groupby('SG_UF_NCM').KG_LIQUIDO.sum().sort_values(ascending=False).reset_index().SG_UF_NCM.values[:1]\n",
    "\n",
    "\n",
    "len_ncms=len(filt_ncm)\n",
    "\n",
    "imp_fert=imp_fert[(imp_fert.SG_UF_NCM.isin(filt_uf))&(imp_fert.CO_NCM.isin(filt_ncm))]\n",
    "\n",
    "%run 'sparse_matrix.ipynb'\n",
    "imp_fert=sparse_matrix(imp_fert)\n",
    "\n",
    "%run 'multi.ipynb'\n",
    "imp_fert=multi(imp_fert)\n",
    "imp_fert=pd.concat([imp_fert.iloc[:,:7] , imp_fert.iloc[:,7:]],axis=1)\n",
    "\n",
    "cols_ad=imp_fert.iloc[:,7:].columns.tolist()\n",
    "\n",
    "max_depth=5\n",
    "from sklearn.ensemble import RandomForestClassifier as RFC\n",
    "RFC=RFC(max_depth=max_depth)\n",
    "from sklearn.ensemble import RandomForestRegressor as RFR\n",
    "RFR=RFR(max_depth=max_depth)\n",
    "from sklearn.linear_model import LinearRegression as LR\n",
    "LR=LR()\n",
    "REG=RFR\n",
    "\n",
    "%run 'prev.ipynb'\n",
    "prev=prev(imp_fert,REG)\n",
    "\n",
    "%run 'score.ipynb'\n",
    "score=score(prev)\n",
    "\n",
    "score=score.assign(len_ncms=len_ncms).assign(cols_ad=str(cols_ad)).assign(REG=str(REG))\n",
    "\n",
    "fim=time.time()\n",
    "d=fim-inicio\n",
    "print(f'\\nDuração total:{round(d/60,1)} minutos.\\n')\n",
    "\n",
    "round(score,1)"
   ]
  }
 ],
 "metadata": {
  "kernelspec": {
   "display_name": "Python 3 (ipykernel)",
   "language": "python",
   "name": "python3"
  },
  "language_info": {
   "codemirror_mode": {
    "name": "ipython",
    "version": 3
   },
   "file_extension": ".py",
   "mimetype": "text/x-python",
   "name": "python",
   "nbconvert_exporter": "python",
   "pygments_lexer": "ipython3",
   "version": "3.11.2"
  }
 },
 "nbformat": 4,
 "nbformat_minor": 5
}
