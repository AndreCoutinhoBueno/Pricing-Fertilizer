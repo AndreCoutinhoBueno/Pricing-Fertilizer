{
 "cells": [
  {
   "cell_type": "code",
   "execution_count": null,
   "id": "05e8aaf6-5341-42e2-a394-ed886cadab01",
   "metadata": {},
   "outputs": [],
   "source": [
    "def multi(imp_fert):\n",
    "    \n",
    "    q=pd.DataFrame()\n",
    "    \n",
    "    imp_fert.date=imp_fert.date.astype('datetime64[ns]')\n",
    "    \n",
    "    date_cols=['CO_ANO','CO_MES']\n",
    "    cat_cols=['CO_NCM','SG_UF_NCM']\n",
    "    quanti_cols=['KG_LIQUIDO','VL_FOB']\n",
    "    \n",
    "    # Cria colunas com valores adiantados\n",
    "    \n",
    "    \n",
    "    imp_fert_ad=imp_fert.set_index('date').shift(ad,freq='ME').shift(1,freq='D').reset_index()\n",
    "    \n",
    "    imp_fert_ad=imp_fert_ad.rename(columns={'KG_LIQUIDO':'kg_ad_'+str(ad),'VL_FOB':'fob_ad_'+str(ad)})\n",
    "    \n",
    "    \n",
    "    # Divide em duas tabelas\n",
    "    imp_fert_ad_kg =imp_fert_ad[['date']+cat_cols+['kg_ad_' +str(ad)]]\n",
    "    \n",
    "    \n",
    "    imp_fert_ad_fob=imp_fert_ad[['date']+cat_cols+['fob_ad_'+str(ad)]]\n",
    "    \n",
    "    # Unifica categorias\n",
    "    imp_fert_ad_kg.insert(0,'cat_cols',imp_fert_ad.CO_NCM+'~'+imp_fert_ad.SG_UF_NCM+'_kg_ad_'+str(ad))\n",
    "    imp_fert_ad_fob.insert(0,'cat_cols',imp_fert_ad.CO_NCM+'~'+imp_fert_ad.SG_UF_NCM+'_fob_ad_'+str(ad))\n",
    "    \n",
    "    # Descarta categorias antigas\n",
    "    imp_fert_ad_kg=imp_fert_ad_kg.drop(columns=cat_cols)\n",
    "    imp_fert_ad_fob=imp_fert_ad_fob.drop(columns=cat_cols)\n",
    "    \n",
    "    def func(tab_e):\n",
    "        tab_s=pd.DataFrame()\n",
    "        for date in tab_e.date.unique():\n",
    "            tab_e_t=tab_e[tab_e.date==date].drop(columns='date').set_index('cat_cols').transpose()\\\n",
    "            .assign(date=date).reset_index(drop=True)\n",
    "            tab_s=pd.concat([tab_s,tab_e_t])\n",
    "        return tab_s\n",
    "    \n",
    "    imp_fert_ad_kg_w=func(imp_fert_ad_kg)\n",
    "    \n",
    "    imp_fert_ad_fob_w=func(imp_fert_ad_fob)\n",
    "    \n",
    "    imp_fert_ad_w=imp_fert_ad_kg_w.merge(imp_fert_ad_fob_w)\n",
    "    \n",
    "    q=pd.concat([q,imp_fert_ad_w], axis=1)\n",
    "    \n",
    "    imp_fert=imp_fert.merge(q)\n",
    "    \n",
    "    return imp_fert"
   ]
  },
  {
   "cell_type": "code",
   "execution_count": null,
   "id": "93dfd2e6-7a13-4e0c-9ace-1c7eb651aed8",
   "metadata": {},
   "outputs": [],
   "source": [
    "print('*** multi(imp_fert) function available ***')"
   ]
  }
 ],
 "metadata": {
  "kernelspec": {
   "display_name": "Python 3 (ipykernel)",
   "language": "python",
   "name": "python3"
  },
  "language_info": {
   "codemirror_mode": {
    "name": "ipython",
    "version": 3
   },
   "file_extension": ".py",
   "mimetype": "text/x-python",
   "name": "python",
   "nbconvert_exporter": "python",
   "pygments_lexer": "ipython3",
   "version": "3.11.2"
  }
 },
 "nbformat": 4,
 "nbformat_minor": 5
}
