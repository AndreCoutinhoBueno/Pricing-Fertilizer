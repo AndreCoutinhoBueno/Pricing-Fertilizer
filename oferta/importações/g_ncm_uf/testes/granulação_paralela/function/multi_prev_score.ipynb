{
 "cells": [
  {
   "cell_type": "code",
   "execution_count": 1,
   "id": "80f31bac-1e22-44dd-9879-4f5ba6cb5568",
   "metadata": {},
   "outputs": [
    {
     "name": "stdout",
     "output_type": "stream",
     "text": [
      "*** multi_prev_score(imp_fert) *** function available\n"
     ]
    }
   ],
   "source": [
    "def multi_prev_score(imp_fert):\n",
    "    \n",
    "    import time\n",
    "    inicio=time.time()\n",
    "    \n",
    "    import numpy as np\n",
    "    import pandas as pd\n",
    "    \n",
    "    %run 'sparse_matrix.ipynb'\n",
    "    imp_fert=sparse_matrix(imp_fert)\n",
    "\n",
    "    %run 'multi.ipynb'\n",
    "    imp_fert=multi(imp_fert)\n",
    "\n",
    "    imp_fert=pd.concat([imp_fert.iloc[:,:7] , imp_fert.iloc[:,7:7+n_cols_ad]],axis=1)\n",
    "    \n",
    "    \n",
    "    cols_ad=imp_fert.iloc[:,7:].columns.tolist()\n",
    "\n",
    "\n",
    "    \n",
    "    imp_fert=imp_fert[imp_fert.CO_MES.isin(select_mes)]\n",
    "    \n",
    "    %run 'prev.ipynb'\n",
    "    prev_result=prev(imp_fert)\n",
    "    \n",
    "    \n",
    "    %run 'score.ipynb'\n",
    "    score_result=score(prev_result)\n",
    "    \n",
    "    fim=time.time()\n",
    "    d=round((fim-inicio)/60,1)\n",
    "    print(f'\\nDuração multi_prev_score:{d} minutos.\\n')\n",
    "\n",
    "    \n",
    "    score_result=score_result\\\n",
    "    .assign(adianta=ad)\\\n",
    "    .assign(cols_ad=str(cols_ad))\\\n",
    "    .assign(REG=str(REG))\\\n",
    "    .assign(minutos=d)\n",
    "    \n",
    "    \n",
    "    return round(score_result,1)\n",
    "\n",
    "print('*** multi_prev_score(imp_fert) *** function available')"
   ]
  }
 ],
 "metadata": {
  "kernelspec": {
   "display_name": "Python 3 (ipykernel)",
   "language": "python",
   "name": "python3"
  },
  "language_info": {
   "codemirror_mode": {
    "name": "ipython",
    "version": 3
   },
   "file_extension": ".py",
   "mimetype": "text/x-python",
   "name": "python",
   "nbconvert_exporter": "python",
   "pygments_lexer": "ipython3",
   "version": "3.11.2"
  }
 },
 "nbformat": 4,
 "nbformat_minor": 5
}
