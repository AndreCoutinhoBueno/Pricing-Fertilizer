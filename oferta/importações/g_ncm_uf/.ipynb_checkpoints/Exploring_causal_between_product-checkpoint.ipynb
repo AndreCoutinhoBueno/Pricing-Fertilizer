{
 "cells": [
  {
   "cell_type": "code",
   "execution_count": 9,
   "id": "12c00ca6-bbe5-492a-85d5-e6c635f7e5db",
   "metadata": {},
   "outputs": [
    {
     "data": {
      "text/html": [
       "<div>\n",
       "<style scoped>\n",
       "    .dataframe tbody tr th:only-of-type {\n",
       "        vertical-align: middle;\n",
       "    }\n",
       "\n",
       "    .dataframe tbody tr th {\n",
       "        vertical-align: top;\n",
       "    }\n",
       "\n",
       "    .dataframe thead th {\n",
       "        text-align: right;\n",
       "    }\n",
       "</style>\n",
       "<table border=\"1\" class=\"dataframe\">\n",
       "  <thead>\n",
       "    <tr style=\"text-align: right;\">\n",
       "      <th></th>\n",
       "      <th>sigla</th>\n",
       "      <th>CO_ANO</th>\n",
       "      <th>CO_MES</th>\n",
       "      <th>CO_NCM</th>\n",
       "      <th>SG_UF_NCM</th>\n",
       "      <th>KG_LIQUIDO</th>\n",
       "      <th>VL_FOB</th>\n",
       "      <th>VL_FRETE</th>\n",
       "    </tr>\n",
       "  </thead>\n",
       "  <tbody>\n",
       "    <tr>\n",
       "      <th>0</th>\n",
       "      <td>MOP-hi</td>\n",
       "      <td>1997</td>\n",
       "      <td>1</td>\n",
       "      <td>31042090-hi</td>\n",
       "      <td>RS</td>\n",
       "      <td>10456419</td>\n",
       "      <td>1373210</td>\n",
       "      <td>127200</td>\n",
       "    </tr>\n",
       "  </tbody>\n",
       "</table>\n",
       "</div>"
      ],
      "text/plain": [
       "    sigla  CO_ANO  CO_MES       CO_NCM SG_UF_NCM  KG_LIQUIDO   VL_FOB  \\\n",
       "0  MOP-hi    1997       1  31042090-hi        RS    10456419  1373210   \n",
       "\n",
       "   VL_FRETE  \n",
       "0    127200  "
      ]
     },
     "execution_count": 9,
     "metadata": {},
     "output_type": "execute_result"
    }
   ],
   "source": [
    "import numpy as np\n",
    "import pandas as pd\n",
    "from matplotlib import pyplot as  plt\n",
    "imp_fert=pd.read_csv('~/git/BD/temp/imp_fert_quanti_g_ncm_uf.csv').sort_values(by=['CO_ANO','CO_MES']).reset_index(drop=True)\n",
    "imp_fert.head(1)"
   ]
  },
  {
   "cell_type": "code",
   "execution_count": null,
   "id": "d55540c7-5839-47d5-9de2-93ea797202fc",
   "metadata": {},
   "outputs": [],
   "source": [
    "imp_fert=imp_fert[imp_fert.CO_ANO!=2024]\n",
    "\n",
    "imp_fert.KG_LIQUIDO.plot()"
   ]
  },
  {
   "cell_type": "code",
   "execution_count": null,
   "id": "dc648fd4-2b62-4382-9178-83dbecad7182",
   "metadata": {},
   "outputs": [],
   "source": []
  }
 ],
 "metadata": {
  "kernelspec": {
   "display_name": "Python 3 (ipykernel)",
   "language": "python",
   "name": "python3"
  },
  "language_info": {
   "codemirror_mode": {
    "name": "ipython",
    "version": 3
   },
   "file_extension": ".py",
   "mimetype": "text/x-python",
   "name": "python",
   "nbconvert_exporter": "python",
   "pygments_lexer": "ipython3",
   "version": "3.11.2"
  }
 },
 "nbformat": 4,
 "nbformat_minor": 5
}
