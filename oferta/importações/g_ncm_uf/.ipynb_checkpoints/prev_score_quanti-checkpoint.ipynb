{
 "cells": [
  {
   "cell_type": "code",
   "execution_count": 1,
   "id": "79d654b5-20a2-4403-a6cd-a6a962c8de65",
   "metadata": {},
   "outputs": [],
   "source": [
    "import time\n",
    "inicio=time.time()"
   ]
  },
  {
   "cell_type": "code",
   "execution_count": 2,
   "id": "0dfffd13-343c-48ce-8249-d893df94dff9",
   "metadata": {},
   "outputs": [],
   "source": [
    "import numpy as np\n",
    "import pandas as pd"
   ]
  },
  {
   "cell_type": "code",
   "execution_count": 3,
   "id": "ed6a9430-91fa-4aa3-9d01-3b8c77d42c48",
   "metadata": {},
   "outputs": [],
   "source": [
    "imp_fert=pd.read_csv('~/git/BD/temp/imp_fert_quanti_g_ncm_uf.csv')"
   ]
  },
  {
   "cell_type": "code",
   "execution_count": 4,
   "id": "c119a37d-51a8-4f6e-ada1-c61def5cd3bb",
   "metadata": {},
   "outputs": [],
   "source": [
    "imp_fert=imp_fert.loc[:,:'KG_LIQUIDO']"
   ]
  },
  {
   "cell_type": "code",
   "execution_count": 5,
   "id": "2fdfba1f-8f4f-4b8a-9dcb-7b6e94f3f99e",
   "metadata": {},
   "outputs": [],
   "source": [
    "filt_ncm=imp_fert.groupby('CO_NCM').KG_LIQUIDO.sum().sort_values(ascending=False).head(2).reset_index().CO_NCM.values[:1]\n",
    "imp_fert=imp_fert[imp_fert.CO_NCM.isin(filt_ncm)]\n",
    "\n",
    "filt_uf=imp_fert.groupby('SG_UF_NCM').KG_LIQUIDO.sum().sort_values(ascending=False).head(2).reset_index().SG_UF_NCM.values[:1]\n",
    "imp_fert=imp_fert[imp_fert.SG_UF_NCM.isin(filt_uf)]"
   ]
  },
  {
   "cell_type": "code",
   "execution_count": 6,
   "id": "cfd92e84-8974-4349-a3d9-6727dd4c46ee",
   "metadata": {},
   "outputs": [
    {
     "name": "stdout",
     "output_type": "stream",
     "text": [
      "Disponível função prev_score(ano_mes_ncm_uf)\n"
     ]
    }
   ],
   "source": [
    "%run '~/git/prev_score_ncm_uf.py'"
   ]
  },
  {
   "cell_type": "code",
   "execution_count": 7,
   "id": "2e72f914-dde4-4c54-ac15-16d9f8a98570",
   "metadata": {},
   "outputs": [
    {
     "data": {
      "text/html": [
       "<div>\n",
       "<style scoped>\n",
       "    .dataframe tbody tr th:only-of-type {\n",
       "        vertical-align: middle;\n",
       "    }\n",
       "\n",
       "    .dataframe tbody tr th {\n",
       "        vertical-align: top;\n",
       "    }\n",
       "\n",
       "    .dataframe thead th {\n",
       "        text-align: right;\n",
       "    }\n",
       "</style>\n",
       "<table border=\"1\" class=\"dataframe\">\n",
       "  <thead>\n",
       "    <tr style=\"text-align: right;\">\n",
       "      <th></th>\n",
       "      <th>sigla</th>\n",
       "      <th>CO_ANO</th>\n",
       "      <th>CO_MES</th>\n",
       "      <th>CO_NCM</th>\n",
       "      <th>SG_UF_NCM</th>\n",
       "      <th>KG_LIQUIDO</th>\n",
       "    </tr>\n",
       "  </thead>\n",
       "  <tbody>\n",
       "    <tr>\n",
       "      <th>2825</th>\n",
       "      <td>MOP-hi</td>\n",
       "      <td>1997</td>\n",
       "      <td>11</td>\n",
       "      <td>31042090-hi</td>\n",
       "      <td>MT</td>\n",
       "      <td>2978630</td>\n",
       "    </tr>\n",
       "  </tbody>\n",
       "</table>\n",
       "</div>"
      ],
      "text/plain": [
       "       sigla  CO_ANO  CO_MES       CO_NCM SG_UF_NCM  KG_LIQUIDO\n",
       "2825  MOP-hi    1997      11  31042090-hi        MT     2978630"
      ]
     },
     "execution_count": 7,
     "metadata": {},
     "output_type": "execute_result"
    }
   ],
   "source": [
    "imp_fert.head(1)"
   ]
  },
  {
   "cell_type": "code",
   "execution_count": 8,
   "id": "dc53eef7-6dec-4bb1-a824-a0c7e3366669",
   "metadata": {},
   "outputs": [],
   "source": [
    "q=prev_score(imp_fert)"
   ]
  },
  {
   "cell_type": "code",
   "execution_count": 9,
   "id": "d38acb9c-b24a-49b5-b1c1-1b0bd9511055",
   "metadata": {},
   "outputs": [],
   "source": [
    "q.to_csv('~/git/BD/temp/prev_score_quanti.csv',index=False)"
   ]
  },
  {
   "cell_type": "code",
   "execution_count": 10,
   "id": "461245db-28f1-45bc-8f3a-c54071c008cd",
   "metadata": {},
   "outputs": [
    {
     "name": "stdout",
     "output_type": "stream",
     "text": [
      "Duração:0 minutos.\n"
     ]
    }
   ],
   "source": [
    "fim=time.time()\n",
    "d=fim-inicio\n",
    "print(f'Duração:{round(d/60)} minutos.')"
   ]
  },
  {
   "cell_type": "code",
   "execution_count": 11,
   "id": "ea3ab270-7719-424b-8851-957ce5c37f20",
   "metadata": {},
   "outputs": [
    {
     "data": {
      "text/plain": [
       "accuracy     0.965909\n",
       "precision    0.965909\n",
       "recall       1.000000\n",
       "r2           0.348431\n",
       "dtype: float64"
      ]
     },
     "execution_count": 11,
     "metadata": {},
     "output_type": "execute_result"
    }
   ],
   "source": [
    "q[['accuracy','precision','recall','r2']].mean()"
   ]
  },
  {
   "cell_type": "code",
   "execution_count": 12,
   "id": "6034652b-1fda-4223-92e1-d2fa4e0afd21",
   "metadata": {},
   "outputs": [
    {
     "data": {
      "text/html": [
       "<div>\n",
       "<style scoped>\n",
       "    .dataframe tbody tr th:only-of-type {\n",
       "        vertical-align: middle;\n",
       "    }\n",
       "\n",
       "    .dataframe tbody tr th {\n",
       "        vertical-align: top;\n",
       "    }\n",
       "\n",
       "    .dataframe thead th {\n",
       "        text-align: right;\n",
       "    }\n",
       "</style>\n",
       "<table border=\"1\" class=\"dataframe\">\n",
       "  <thead>\n",
       "    <tr style=\"text-align: right;\">\n",
       "      <th></th>\n",
       "      <th>CO_MES</th>\n",
       "      <th>CO_NCM</th>\n",
       "      <th>SG_UF_NCM</th>\n",
       "      <th>accuracy</th>\n",
       "      <th>precision</th>\n",
       "      <th>recall</th>\n",
       "      <th>r2</th>\n",
       "    </tr>\n",
       "  </thead>\n",
       "  <tbody>\n",
       "    <tr>\n",
       "      <th>72</th>\n",
       "      <td>1</td>\n",
       "      <td>31042090-hi</td>\n",
       "      <td>MT</td>\n",
       "      <td>0.965909</td>\n",
       "      <td>0.965909</td>\n",
       "      <td>1.0</td>\n",
       "      <td>0.348431</td>\n",
       "    </tr>\n",
       "  </tbody>\n",
       "</table>\n",
       "</div>"
      ],
      "text/plain": [
       "   CO_MES       CO_NCM SG_UF_NCM  accuracy  precision  recall        r2\n",
       "72      1  31042090-hi        MT  0.965909   0.965909     1.0  0.348431"
      ]
     },
     "execution_count": 12,
     "metadata": {},
     "output_type": "execute_result"
    }
   ],
   "source": [
    "q.head(1)"
   ]
  },
  {
   "cell_type": "code",
   "execution_count": 13,
   "id": "bd191775-991b-426a-b8d6-640db9571599",
   "metadata": {},
   "outputs": [
    {
     "name": "stderr",
     "output_type": "stream",
     "text": [
      "/tmp/ipykernel_2399/2220920743.py:1: FutureWarning: The default of observed=False is deprecated and will be changed to True in a future version of pandas. Pass observed=False to retain current behavior or observed=True to adopt the future default and silence this warning.\n",
      "  round(q.groupby('CO_NCM')[q.columns[3:]].mean(),1)\n"
     ]
    },
    {
     "data": {
      "text/html": [
       "<div>\n",
       "<style scoped>\n",
       "    .dataframe tbody tr th:only-of-type {\n",
       "        vertical-align: middle;\n",
       "    }\n",
       "\n",
       "    .dataframe tbody tr th {\n",
       "        vertical-align: top;\n",
       "    }\n",
       "\n",
       "    .dataframe thead th {\n",
       "        text-align: right;\n",
       "    }\n",
       "</style>\n",
       "<table border=\"1\" class=\"dataframe\">\n",
       "  <thead>\n",
       "    <tr style=\"text-align: right;\">\n",
       "      <th></th>\n",
       "      <th>accuracy</th>\n",
       "      <th>precision</th>\n",
       "      <th>recall</th>\n",
       "      <th>r2</th>\n",
       "    </tr>\n",
       "    <tr>\n",
       "      <th>CO_NCM</th>\n",
       "      <th></th>\n",
       "      <th></th>\n",
       "      <th></th>\n",
       "      <th></th>\n",
       "    </tr>\n",
       "  </thead>\n",
       "  <tbody>\n",
       "    <tr>\n",
       "      <th>31042090-hi</th>\n",
       "      <td>1.0</td>\n",
       "      <td>1.0</td>\n",
       "      <td>1.0</td>\n",
       "      <td>0.3</td>\n",
       "    </tr>\n",
       "  </tbody>\n",
       "</table>\n",
       "</div>"
      ],
      "text/plain": [
       "             accuracy  precision  recall   r2\n",
       "CO_NCM                                       \n",
       "31042090-hi       1.0        1.0     1.0  0.3"
      ]
     },
     "execution_count": 13,
     "metadata": {},
     "output_type": "execute_result"
    }
   ],
   "source": [
    "round(q.groupby('CO_NCM')[q.columns[3:]].mean(),1)"
   ]
  },
  {
   "cell_type": "code",
   "execution_count": 14,
   "id": "d986c3d5-99a8-42f7-af68-7a7a0b165da5",
   "metadata": {},
   "outputs": [
    {
     "name": "stderr",
     "output_type": "stream",
     "text": [
      "/tmp/ipykernel_2399/92138848.py:1: FutureWarning: The default of observed=False is deprecated and will be changed to True in a future version of pandas. Pass observed=False to retain current behavior or observed=True to adopt the future default and silence this warning.\n",
      "  round(q.groupby('SG_UF_NCM')[q.columns[3:]].mean(),1)\n"
     ]
    },
    {
     "data": {
      "text/html": [
       "<div>\n",
       "<style scoped>\n",
       "    .dataframe tbody tr th:only-of-type {\n",
       "        vertical-align: middle;\n",
       "    }\n",
       "\n",
       "    .dataframe tbody tr th {\n",
       "        vertical-align: top;\n",
       "    }\n",
       "\n",
       "    .dataframe thead th {\n",
       "        text-align: right;\n",
       "    }\n",
       "</style>\n",
       "<table border=\"1\" class=\"dataframe\">\n",
       "  <thead>\n",
       "    <tr style=\"text-align: right;\">\n",
       "      <th></th>\n",
       "      <th>accuracy</th>\n",
       "      <th>precision</th>\n",
       "      <th>recall</th>\n",
       "      <th>r2</th>\n",
       "    </tr>\n",
       "    <tr>\n",
       "      <th>SG_UF_NCM</th>\n",
       "      <th></th>\n",
       "      <th></th>\n",
       "      <th></th>\n",
       "      <th></th>\n",
       "    </tr>\n",
       "  </thead>\n",
       "  <tbody>\n",
       "    <tr>\n",
       "      <th>MT</th>\n",
       "      <td>1.0</td>\n",
       "      <td>1.0</td>\n",
       "      <td>1.0</td>\n",
       "      <td>0.3</td>\n",
       "    </tr>\n",
       "  </tbody>\n",
       "</table>\n",
       "</div>"
      ],
      "text/plain": [
       "           accuracy  precision  recall   r2\n",
       "SG_UF_NCM                                  \n",
       "MT              1.0        1.0     1.0  0.3"
      ]
     },
     "execution_count": 14,
     "metadata": {},
     "output_type": "execute_result"
    }
   ],
   "source": [
    "round(q.groupby('SG_UF_NCM')[q.columns[3:]].mean(),1)"
   ]
  },
  {
   "cell_type": "code",
   "execution_count": 15,
   "id": "25a7036c-ab08-418c-9a2e-9727623b70aa",
   "metadata": {},
   "outputs": [
    {
     "name": "stderr",
     "output_type": "stream",
     "text": [
      "/tmp/ipykernel_2399/3954593838.py:1: FutureWarning: The default of observed=False is deprecated and will be changed to True in a future version of pandas. Pass observed=False to retain current behavior or observed=True to adopt the future default and silence this warning.\n",
      "  round(q.groupby('CO_MES')[q.columns[3:]].mean(),1)\n"
     ]
    },
    {
     "data": {
      "text/html": [
       "<div>\n",
       "<style scoped>\n",
       "    .dataframe tbody tr th:only-of-type {\n",
       "        vertical-align: middle;\n",
       "    }\n",
       "\n",
       "    .dataframe tbody tr th {\n",
       "        vertical-align: top;\n",
       "    }\n",
       "\n",
       "    .dataframe thead th {\n",
       "        text-align: right;\n",
       "    }\n",
       "</style>\n",
       "<table border=\"1\" class=\"dataframe\">\n",
       "  <thead>\n",
       "    <tr style=\"text-align: right;\">\n",
       "      <th></th>\n",
       "      <th>accuracy</th>\n",
       "      <th>precision</th>\n",
       "      <th>recall</th>\n",
       "      <th>r2</th>\n",
       "    </tr>\n",
       "    <tr>\n",
       "      <th>CO_MES</th>\n",
       "      <th></th>\n",
       "      <th></th>\n",
       "      <th></th>\n",
       "      <th></th>\n",
       "    </tr>\n",
       "  </thead>\n",
       "  <tbody>\n",
       "    <tr>\n",
       "      <th>1</th>\n",
       "      <td>1.0</td>\n",
       "      <td>1.0</td>\n",
       "      <td>1.0</td>\n",
       "      <td>0.3</td>\n",
       "    </tr>\n",
       "    <tr>\n",
       "      <th>2</th>\n",
       "      <td>1.0</td>\n",
       "      <td>1.0</td>\n",
       "      <td>1.0</td>\n",
       "      <td>0.3</td>\n",
       "    </tr>\n",
       "    <tr>\n",
       "      <th>3</th>\n",
       "      <td>1.0</td>\n",
       "      <td>1.0</td>\n",
       "      <td>1.0</td>\n",
       "      <td>0.3</td>\n",
       "    </tr>\n",
       "    <tr>\n",
       "      <th>4</th>\n",
       "      <td>1.0</td>\n",
       "      <td>1.0</td>\n",
       "      <td>1.0</td>\n",
       "      <td>0.3</td>\n",
       "    </tr>\n",
       "    <tr>\n",
       "      <th>5</th>\n",
       "      <td>1.0</td>\n",
       "      <td>1.0</td>\n",
       "      <td>1.0</td>\n",
       "      <td>0.3</td>\n",
       "    </tr>\n",
       "    <tr>\n",
       "      <th>6</th>\n",
       "      <td>1.0</td>\n",
       "      <td>1.0</td>\n",
       "      <td>1.0</td>\n",
       "      <td>0.3</td>\n",
       "    </tr>\n",
       "    <tr>\n",
       "      <th>7</th>\n",
       "      <td>1.0</td>\n",
       "      <td>1.0</td>\n",
       "      <td>1.0</td>\n",
       "      <td>0.3</td>\n",
       "    </tr>\n",
       "    <tr>\n",
       "      <th>8</th>\n",
       "      <td>1.0</td>\n",
       "      <td>1.0</td>\n",
       "      <td>1.0</td>\n",
       "      <td>0.3</td>\n",
       "    </tr>\n",
       "    <tr>\n",
       "      <th>9</th>\n",
       "      <td>1.0</td>\n",
       "      <td>1.0</td>\n",
       "      <td>1.0</td>\n",
       "      <td>0.3</td>\n",
       "    </tr>\n",
       "    <tr>\n",
       "      <th>10</th>\n",
       "      <td>1.0</td>\n",
       "      <td>1.0</td>\n",
       "      <td>1.0</td>\n",
       "      <td>0.3</td>\n",
       "    </tr>\n",
       "    <tr>\n",
       "      <th>11</th>\n",
       "      <td>1.0</td>\n",
       "      <td>1.0</td>\n",
       "      <td>1.0</td>\n",
       "      <td>0.3</td>\n",
       "    </tr>\n",
       "    <tr>\n",
       "      <th>12</th>\n",
       "      <td>1.0</td>\n",
       "      <td>1.0</td>\n",
       "      <td>1.0</td>\n",
       "      <td>0.3</td>\n",
       "    </tr>\n",
       "  </tbody>\n",
       "</table>\n",
       "</div>"
      ],
      "text/plain": [
       "        accuracy  precision  recall   r2\n",
       "CO_MES                                  \n",
       "1            1.0        1.0     1.0  0.3\n",
       "2            1.0        1.0     1.0  0.3\n",
       "3            1.0        1.0     1.0  0.3\n",
       "4            1.0        1.0     1.0  0.3\n",
       "5            1.0        1.0     1.0  0.3\n",
       "6            1.0        1.0     1.0  0.3\n",
       "7            1.0        1.0     1.0  0.3\n",
       "8            1.0        1.0     1.0  0.3\n",
       "9            1.0        1.0     1.0  0.3\n",
       "10           1.0        1.0     1.0  0.3\n",
       "11           1.0        1.0     1.0  0.3\n",
       "12           1.0        1.0     1.0  0.3"
      ]
     },
     "execution_count": 15,
     "metadata": {},
     "output_type": "execute_result"
    }
   ],
   "source": [
    "round(q.groupby('CO_MES')[q.columns[3:]].mean(),1)"
   ]
  },
  {
   "cell_type": "code",
   "execution_count": null,
   "id": "063d2e0c-5c9e-44f0-b85e-0a86d0f2ef68",
   "metadata": {},
   "outputs": [],
   "source": []
  }
 ],
 "metadata": {
  "kernelspec": {
   "display_name": "Python 3 (ipykernel)",
   "language": "python",
   "name": "python3"
  },
  "language_info": {
   "codemirror_mode": {
    "name": "ipython",
    "version": 3
   },
   "file_extension": ".py",
   "mimetype": "text/x-python",
   "name": "python",
   "nbconvert_exporter": "python",
   "pygments_lexer": "ipython3",
   "version": "3.11.2"
  }
 },
 "nbformat": 4,
 "nbformat_minor": 5
}
