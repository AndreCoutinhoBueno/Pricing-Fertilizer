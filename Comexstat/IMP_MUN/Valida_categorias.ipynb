{
 "cells": [
  {
   "cell_type": "code",
   "execution_count": 1,
   "id": "16b3e6e3-4653-4abe-929a-8b06e5dc01b2",
   "metadata": {},
   "outputs": [
    {
     "data": {
      "text/html": [
       "<div>\n",
       "<style scoped>\n",
       "    .dataframe tbody tr th:only-of-type {\n",
       "        vertical-align: middle;\n",
       "    }\n",
       "\n",
       "    .dataframe tbody tr th {\n",
       "        vertical-align: top;\n",
       "    }\n",
       "\n",
       "    .dataframe thead th {\n",
       "        text-align: right;\n",
       "    }\n",
       "</style>\n",
       "<table border=\"1\" class=\"dataframe\">\n",
       "  <thead>\n",
       "    <tr style=\"text-align: right;\">\n",
       "      <th></th>\n",
       "      <th>CO_ANO</th>\n",
       "      <th>CO_MES</th>\n",
       "      <th>CO_SH4</th>\n",
       "      <th>CO_PAIS</th>\n",
       "      <th>UF</th>\n",
       "      <th>CO_MUN</th>\n",
       "      <th>KG_LIQUIDO</th>\n",
       "      <th>VL_FOB</th>\n",
       "    </tr>\n",
       "  </thead>\n",
       "  <tbody>\n",
       "    <tr>\n",
       "      <th>0</th>\n",
       "      <td>1997</td>\n",
       "      <td>1</td>\n",
       "      <td>3101</td>\n",
       "      <td>386</td>\n",
       "      <td>SP</td>\n",
       "      <td>3456503</td>\n",
       "      <td>15222</td>\n",
       "      <td>34324</td>\n",
       "    </tr>\n",
       "  </tbody>\n",
       "</table>\n",
       "</div>"
      ],
      "text/plain": [
       "   CO_ANO  CO_MES  CO_SH4  CO_PAIS  UF   CO_MUN  KG_LIQUIDO  VL_FOB\n",
       "0    1997       1    3101      386  SP  3456503       15222   34324"
      ]
     },
     "execution_count": 1,
     "metadata": {},
     "output_type": "execute_result"
    }
   ],
   "source": [
    "import numpy as np\n",
    "import pandas as pd\n",
    "import matplotlib.pyplot as plt\n",
    "import seaborn as sns\n",
    "\n",
    "# Carrega a tabela imortação\n",
    "imp_fert=pd.read_csv('~/git/BD/temp/imp_fert_mun.csv')\n",
    "imp_fert.head(1)"
   ]
  },
  {
   "cell_type": "code",
   "execution_count": 2,
   "id": "90aa3fdf-fa8e-4cde-9ac2-391bcb2ee155",
   "metadata": {},
   "outputs": [
    {
     "data": {
      "text/plain": [
       "np.float64(0.566360039176)"
      ]
     },
     "execution_count": 2,
     "metadata": {},
     "output_type": "execute_result"
    }
   ],
   "source": [
    "imp_fert.KG_LIQUIDO.sum()/10**12"
   ]
  },
  {
   "cell_type": "markdown",
   "id": "17d5fb85-a757-4891-b246-7ee91df8e4e1",
   "metadata": {},
   "source": [
    "# Anos e meses"
   ]
  },
  {
   "cell_type": "code",
   "execution_count": 3,
   "id": "3260ddf1-a9dc-49f0-9dad-32c9d95b6a89",
   "metadata": {},
   "outputs": [
    {
     "name": "stdout",
     "output_type": "stream",
     "text": [
      "***Função \"verifica_continuidade_tempo(comexstat_tab)\" disponível***\n"
     ]
    }
   ],
   "source": [
    "%run '~/git/BD/Comexstat/function/Verifica_continuidade_tempo.ipynb'"
   ]
  },
  {
   "cell_type": "code",
   "execution_count": 4,
   "id": "bb3751cb-06f0-4110-8ec3-dd050683d67d",
   "metadata": {},
   "outputs": [
    {
     "name": "stdout",
     "output_type": "stream",
     "text": [
      "A tabela apresenta todos os anos entre 1997 e 2024.\n",
      "A tabela apresenta continuidade entre os meses.\n",
      "As datas vão de 1/1997 a 8/2024.\n"
     ]
    }
   ],
   "source": [
    "verifica_continuidade_tempo(imp_fert)"
   ]
  },
  {
   "cell_type": "markdown",
   "id": "9ff61544-c917-4ef7-be9a-d02f128a14a9",
   "metadata": {},
   "source": [
    "# Carrega tabelas auxiliares"
   ]
  },
  {
   "cell_type": "code",
   "execution_count": 5,
   "id": "dea6afbd-5f0f-4f39-bebf-e42cfe4636a7",
   "metadata": {},
   "outputs": [
    {
     "name": "stdout",
     "output_type": "stream",
     "text": [
      "Variáveis disponíveis: ncm, ncm_sh, pais,uf_mun,uf,via,urf\n"
     ]
    }
   ],
   "source": [
    "%run '/home/andre301267/git/BD/Comexstat/function/Extrai-tab_complementares.ipynb'"
   ]
  },
  {
   "cell_type": "code",
   "execution_count": 6,
   "id": "9d9e2781-fd0b-4781-aef5-fd806a858199",
   "metadata": {},
   "outputs": [],
   "source": [
    "imp_fert=imp_fert.rename(columns={'SG_UF_NCM':'UF'})\n",
    "\n",
    "uf=uf.rename(columns={'SG_UF':'UF'})"
   ]
  },
  {
   "cell_type": "code",
   "execution_count": 7,
   "id": "e88d26f6-2cd8-4443-a889-d9e77c269bb7",
   "metadata": {},
   "outputs": [
    {
     "data": {
      "text/plain": [
       "Index(['CO_VIA', 'NO_VIA'], dtype='object')"
      ]
     },
     "execution_count": 7,
     "metadata": {},
     "output_type": "execute_result"
    }
   ],
   "source": [
    "via.columns"
   ]
  },
  {
   "cell_type": "code",
   "execution_count": 8,
   "id": "df464a56-e04c-45a8-9a46-43ccf18ebf1b",
   "metadata": {},
   "outputs": [],
   "source": [
    "ncm_sh4=ncm_sh[['CO_SH4','NO_SH4_POR']].drop_duplicates()"
   ]
  },
  {
   "cell_type": "code",
   "execution_count": 9,
   "id": "ec7ecd58-280c-4121-93a5-1a4b13897821",
   "metadata": {},
   "outputs": [],
   "source": [
    "t=[ncm_sh4, pais, uf]\n",
    "for y in t:\n",
    "    imp_fert=imp_fert.merge(y)"
   ]
  },
  {
   "cell_type": "markdown",
   "id": "ddd58111-bb32-47e1-ad0f-5d4c4241aa75",
   "metadata": {},
   "source": [
    "# Descarta colunas sem interesse"
   ]
  },
  {
   "cell_type": "code",
   "execution_count": 10,
   "id": "759c530f-ffe6-4b6e-ba7c-a71f77640d91",
   "metadata": {},
   "outputs": [
    {
     "name": "stdout",
     "output_type": "stream",
     "text": [
      "Index(['CO_ANO', 'CO_MES', 'CO_SH4', 'CO_PAIS', 'UF', 'CO_MUN', 'KG_LIQUIDO',\n",
      "       'VL_FOB', 'NO_SH4_POR', 'CO_PAIS_ISOA3', 'NO_PAIS', 'CO_UF', 'NO_UF',\n",
      "       'NO_REGIAO'],\n",
      "      dtype='object')\n"
     ]
    }
   ],
   "source": [
    "# List of strings to check\n",
    "strings_to_exclude = ['ING','ESP','ESP','SEC','PPE','PPI','FAT','CICI','CGCE','SIIT','ISIC','EXP','ISON','SG_UNID']\n",
    "\n",
    "# Function to check if any of the strings are in the column name\n",
    "def should_exclude(column_name, strings):\n",
    "    return any(s in column_name for s in strings)\n",
    "\n",
    "# Exclude columns whose names contain any of the strings\n",
    "imp_fert = imp_fert.loc[:, ~imp_fert.columns.to_series().apply(lambda col_name: should_exclude(col_name, strings_to_exclude))]\n",
    "\n",
    "print(imp_fert.columns)\n"
   ]
  },
  {
   "cell_type": "markdown",
   "id": "d456929d-8581-4a65-9808-a85e532e0441",
   "metadata": {},
   "source": [
    "# Verifica SH4"
   ]
  },
  {
   "cell_type": "code",
   "execution_count": 11,
   "id": "46a4ea60-bb6b-4618-8756-3757351a6da5",
   "metadata": {
    "scrolled": true
   },
   "outputs": [
    {
     "data": {
      "text/html": [
       "<div>\n",
       "<style scoped>\n",
       "    .dataframe tbody tr th:only-of-type {\n",
       "        vertical-align: middle;\n",
       "    }\n",
       "\n",
       "    .dataframe tbody tr th {\n",
       "        vertical-align: top;\n",
       "    }\n",
       "\n",
       "    .dataframe thead th {\n",
       "        text-align: right;\n",
       "    }\n",
       "</style>\n",
       "<table border=\"1\" class=\"dataframe\">\n",
       "  <thead>\n",
       "    <tr style=\"text-align: right;\">\n",
       "      <th></th>\n",
       "      <th>CO_SH4</th>\n",
       "      <th>#</th>\n",
       "    </tr>\n",
       "  </thead>\n",
       "  <tbody>\n",
       "    <tr>\n",
       "      <th>1</th>\n",
       "      <td>3102</td>\n",
       "      <td>45543</td>\n",
       "    </tr>\n",
       "    <tr>\n",
       "      <th>4</th>\n",
       "      <td>3105</td>\n",
       "      <td>34412</td>\n",
       "    </tr>\n",
       "    <tr>\n",
       "      <th>3</th>\n",
       "      <td>3104</td>\n",
       "      <td>31747</td>\n",
       "    </tr>\n",
       "    <tr>\n",
       "      <th>2</th>\n",
       "      <td>3103</td>\n",
       "      <td>7369</td>\n",
       "    </tr>\n",
       "    <tr>\n",
       "      <th>0</th>\n",
       "      <td>3101</td>\n",
       "      <td>2703</td>\n",
       "    </tr>\n",
       "  </tbody>\n",
       "</table>\n",
       "</div>"
      ],
      "text/plain": [
       "   CO_SH4      #\n",
       "1    3102  45543\n",
       "4    3105  34412\n",
       "3    3104  31747\n",
       "2    3103   7369\n",
       "0    3101   2703"
      ]
     },
     "execution_count": 11,
     "metadata": {},
     "output_type": "execute_result"
    }
   ],
   "source": [
    "g=imp_fert.groupby('CO_SH4').KG_LIQUIDO.count().reset_index().rename(columns={'KG_LIQUIDO':'#'}).sort_values(by='#',ascending=False)\n",
    "g"
   ]
  },
  {
   "cell_type": "code",
   "execution_count": 12,
   "id": "f08554ff-e5dc-43b1-b687-559351149bc4",
   "metadata": {},
   "outputs": [],
   "source": [
    "import seaborn as sns"
   ]
  },
  {
   "cell_type": "code",
   "execution_count": 13,
   "id": "5a9c0c3f-4900-43c8-9ff2-c0e4c2e8da0f",
   "metadata": {},
   "outputs": [
    {
     "data": {
      "image/png": "[encoded data removed]",
      "text/plain": [
       "<Figure size 400x200 with 1 Axes>"
      ]
     },
     "metadata": {},
     "output_type": "display_data"
    }
   ],
   "source": [
    "sns.displot(data=g,x='#',log_scale=True,height=2,aspect=2).fig.suptitle('Número de SH4s por Contagem de Ocorrência',y=1.1)\n",
    "plt.show()"
   ]
  },
  {
   "cell_type": "markdown",
   "id": "a0c3407f-03f5-43b4-aad5-5168ab9b0c4b",
   "metadata": {},
   "source": [
    "# Filtra SH4"
   ]
  },
  {
   "cell_type": "code",
   "execution_count": 14,
   "id": "ee55ec63-a204-45f1-ac2b-7a41a81a7b5a",
   "metadata": {},
   "outputs": [
    {
     "data": {
      "text/html": [
       "<div>\n",
       "<style scoped>\n",
       "    .dataframe tbody tr th:only-of-type {\n",
       "        vertical-align: middle;\n",
       "    }\n",
       "\n",
       "    .dataframe tbody tr th {\n",
       "        vertical-align: top;\n",
       "    }\n",
       "\n",
       "    .dataframe thead th {\n",
       "        text-align: right;\n",
       "    }\n",
       "</style>\n",
       "<table border=\"1\" class=\"dataframe\">\n",
       "  <thead>\n",
       "    <tr style=\"text-align: right;\">\n",
       "      <th></th>\n",
       "      <th>CO_SH4</th>\n",
       "      <th>NO_SH4_POR</th>\n",
       "      <th>#registros</th>\n",
       "    </tr>\n",
       "  </thead>\n",
       "  <tbody>\n",
       "    <tr>\n",
       "      <th>1</th>\n",
       "      <td>3102</td>\n",
       "      <td>Adubos (fertilizantes) minerais ou químicos, a...</td>\n",
       "      <td>45543</td>\n",
       "    </tr>\n",
       "    <tr>\n",
       "      <th>4</th>\n",
       "      <td>3105</td>\n",
       "      <td>Adubos (fertilizantes) minerais ou químicos, c...</td>\n",
       "      <td>34412</td>\n",
       "    </tr>\n",
       "    <tr>\n",
       "      <th>3</th>\n",
       "      <td>3104</td>\n",
       "      <td>Adubos (fertilizantes) minerais ou químicos, p...</td>\n",
       "      <td>31747</td>\n",
       "    </tr>\n",
       "    <tr>\n",
       "      <th>2</th>\n",
       "      <td>3103</td>\n",
       "      <td>Adubos (fertilizantes) minerais ou químicos, f...</td>\n",
       "      <td>7369</td>\n",
       "    </tr>\n",
       "    <tr>\n",
       "      <th>0</th>\n",
       "      <td>3101</td>\n",
       "      <td>Adubos (fertilizantes) de origem animal ou veg...</td>\n",
       "      <td>2703</td>\n",
       "    </tr>\n",
       "  </tbody>\n",
       "</table>\n",
       "</div>"
      ],
      "text/plain": [
       "   CO_SH4                                         NO_SH4_POR  #registros\n",
       "1    3102  Adubos (fertilizantes) minerais ou químicos, a...       45543\n",
       "4    3105  Adubos (fertilizantes) minerais ou químicos, c...       34412\n",
       "3    3104  Adubos (fertilizantes) minerais ou químicos, p...       31747\n",
       "2    3103  Adubos (fertilizantes) minerais ou químicos, f...        7369\n",
       "0    3101  Adubos (fertilizantes) de origem animal ou veg...        2703"
      ]
     },
     "execution_count": 14,
     "metadata": {},
     "output_type": "execute_result"
    }
   ],
   "source": [
    "col_foco=['CO_SH4','NO_SH4_POR']\n",
    "tab_name_SH4=imp_fert.groupby(by=col_foco).KG_LIQUIDO.count()\\\n",
    ".reset_index().sort_values(by='KG_LIQUIDO', ascending=False).rename(columns={'KG_LIQUIDO':'#registros'})\n",
    "tab_name_SH4"
   ]
  },
  {
   "cell_type": "code",
   "execution_count": 15,
   "id": "72d37ada-afb9-427a-bcaf-2684e091effe",
   "metadata": {},
   "outputs": [],
   "source": [
    "tab_name_SH4=tab_name_SH4[tab_name_SH4.CO_SH4!=3101].sort_values('CO_SH4')"
   ]
  },
  {
   "cell_type": "markdown",
   "id": "fa4a2b29-3653-4535-a530-cf57bb1702a1",
   "metadata": {},
   "source": [
    "Cria Nick"
   ]
  },
  {
   "cell_type": "code",
   "execution_count": 16,
   "id": "58bc48e7-2ef4-42a1-9f29-b4f8b9ae702a",
   "metadata": {
    "scrolled": true
   },
   "outputs": [],
   "source": [
    "tab_name_SH4=pd.read_csv('~/git/BD/Comexstat/tab_nick_SH4.csv')"
   ]
  },
  {
   "cell_type": "code",
   "execution_count": 17,
   "id": "e6c4ad6a-6453-492d-b23a-7e00fbe4395d",
   "metadata": {
    "scrolled": true
   },
   "outputs": [],
   "source": [
    "pd.set_option('max_colwidth', 400)"
   ]
  },
  {
   "cell_type": "code",
   "execution_count": 18,
   "id": "1a09c9da-2ef1-4143-bc1d-a4c65d1ed7e0",
   "metadata": {
    "scrolled": true
   },
   "outputs": [
    {
     "data": {
      "text/html": [
       "<div>\n",
       "<style scoped>\n",
       "    .dataframe tbody tr th:only-of-type {\n",
       "        vertical-align: middle;\n",
       "    }\n",
       "\n",
       "    .dataframe tbody tr th {\n",
       "        vertical-align: top;\n",
       "    }\n",
       "\n",
       "    .dataframe thead th {\n",
       "        text-align: right;\n",
       "    }\n",
       "</style>\n",
       "<table border=\"1\" class=\"dataframe\">\n",
       "  <thead>\n",
       "    <tr style=\"text-align: right;\">\n",
       "      <th></th>\n",
       "      <th>CO_SH2</th>\n",
       "      <th>CO_SH4</th>\n",
       "      <th>NO_SH4_POR</th>\n",
       "      <th>#registros</th>\n",
       "      <th>nick_sh4</th>\n",
       "    </tr>\n",
       "  </thead>\n",
       "  <tbody>\n",
       "    <tr>\n",
       "      <th>0</th>\n",
       "      <td>31</td>\n",
       "      <td>3102</td>\n",
       "      <td>Adubos (fertilizantes) minerais ou químicos, azotados</td>\n",
       "      <td>455430</td>\n",
       "      <td>Nitrogenados</td>\n",
       "    </tr>\n",
       "    <tr>\n",
       "      <th>1</th>\n",
       "      <td>31</td>\n",
       "      <td>3103</td>\n",
       "      <td>Adubos (fertilizantes) minerais ou químicos, fosfatados</td>\n",
       "      <td>36845</td>\n",
       "      <td>Fosfatados</td>\n",
       "    </tr>\n",
       "    <tr>\n",
       "      <th>2</th>\n",
       "      <td>31</td>\n",
       "      <td>3104</td>\n",
       "      <td>Adubos (fertilizantes) minerais ou químicos, potássicos</td>\n",
       "      <td>126988</td>\n",
       "      <td>Potássicos</td>\n",
       "    </tr>\n",
       "    <tr>\n",
       "      <th>3</th>\n",
       "      <td>31</td>\n",
       "      <td>3105</td>\n",
       "      <td>Adubos (fertilizantes) minerais ou químicos, contendo dois ou três dos seguintes elementos fertilizantes: azoto (nitrogénio), fósforo e potássio; outros adubos (fertilizantes); produtos do presente capítulo apresentados em tabletes ou formas semelhantes,</td>\n",
       "      <td>275296</td>\n",
       "      <td>NP_NK_KP_NPK</td>\n",
       "    </tr>\n",
       "  </tbody>\n",
       "</table>\n",
       "</div>"
      ],
      "text/plain": [
       "   CO_SH2  CO_SH4  \\\n",
       "0      31    3102   \n",
       "1      31    3103   \n",
       "2      31    3104   \n",
       "3      31    3105   \n",
       "\n",
       "                                                                                                                                                                                                                                                        NO_SH4_POR  \\\n",
       "0                                                                                                                                                                                                            Adubos (fertilizantes) minerais ou químicos, azotados   \n",
       "1                                                                                                                                                                                                          Adubos (fertilizantes) minerais ou químicos, fosfatados   \n",
       "2                                                                                                                                                                                                          Adubos (fertilizantes) minerais ou químicos, potássicos   \n",
       "3  Adubos (fertilizantes) minerais ou químicos, contendo dois ou três dos seguintes elementos fertilizantes: azoto (nitrogénio), fósforo e potássio; outros adubos (fertilizantes); produtos do presente capítulo apresentados em tabletes ou formas semelhantes,    \n",
       "\n",
       "   #registros      nick_sh4  \n",
       "0      455430  Nitrogenados  \n",
       "1       36845    Fosfatados  \n",
       "2      126988    Potássicos  \n",
       "3      275296  NP_NK_KP_NPK  "
      ]
     },
     "execution_count": 18,
     "metadata": {},
     "output_type": "execute_result"
    }
   ],
   "source": [
    "tab_name_SH4"
   ]
  },
  {
   "cell_type": "code",
   "execution_count": 19,
   "id": "0ff58347-74c1-4187-99ed-251fd82f6b60",
   "metadata": {},
   "outputs": [],
   "source": [
    "imp_fert=imp_fert.merge(tab_name_SH4[['CO_SH4','nick_sh4']])"
   ]
  },
  {
   "cell_type": "code",
   "execution_count": 20,
   "id": "eda77ee4-18cc-4648-a79b-732538eeeec8",
   "metadata": {},
   "outputs": [
    {
     "data": {
      "text/plain": [
       "np.float64(0.566214816942)"
      ]
     },
     "execution_count": 20,
     "metadata": {},
     "output_type": "execute_result"
    }
   ],
   "source": [
    "imp_fert.KG_LIQUIDO.sum()/10**12"
   ]
  },
  {
   "cell_type": "markdown",
   "id": "012fd74c-a78b-4c7b-a637-00165d399a74",
   "metadata": {},
   "source": [
    "# UF"
   ]
  },
  {
   "cell_type": "code",
   "execution_count": 21,
   "id": "5bb0c7e7-9250-4934-ad02-8abd02a9716b",
   "metadata": {},
   "outputs": [
    {
     "data": {
      "text/html": [
       "<div>\n",
       "<style scoped>\n",
       "    .dataframe tbody tr th:only-of-type {\n",
       "        vertical-align: middle;\n",
       "    }\n",
       "\n",
       "    .dataframe tbody tr th {\n",
       "        vertical-align: top;\n",
       "    }\n",
       "\n",
       "    .dataframe thead th {\n",
       "        text-align: right;\n",
       "    }\n",
       "</style>\n",
       "<table border=\"1\" class=\"dataframe\">\n",
       "  <thead>\n",
       "    <tr style=\"text-align: right;\">\n",
       "      <th></th>\n",
       "      <th>UF</th>\n",
       "      <th>count_uf</th>\n",
       "    </tr>\n",
       "  </thead>\n",
       "  <tbody>\n",
       "    <tr>\n",
       "      <th>0</th>\n",
       "      <td>SP</td>\n",
       "      <td>30582</td>\n",
       "    </tr>\n",
       "    <tr>\n",
       "      <th>1</th>\n",
       "      <td>PR</td>\n",
       "      <td>14568</td>\n",
       "    </tr>\n",
       "    <tr>\n",
       "      <th>2</th>\n",
       "      <td>RS</td>\n",
       "      <td>13567</td>\n",
       "    </tr>\n",
       "    <tr>\n",
       "      <th>3</th>\n",
       "      <td>MG</td>\n",
       "      <td>13133</td>\n",
       "    </tr>\n",
       "    <tr>\n",
       "      <th>4</th>\n",
       "      <td>MT</td>\n",
       "      <td>8876</td>\n",
       "    </tr>\n",
       "    <tr>\n",
       "      <th>5</th>\n",
       "      <td>GO</td>\n",
       "      <td>8394</td>\n",
       "    </tr>\n",
       "    <tr>\n",
       "      <th>6</th>\n",
       "      <td>BA</td>\n",
       "      <td>5365</td>\n",
       "    </tr>\n",
       "    <tr>\n",
       "      <th>7</th>\n",
       "      <td>SC</td>\n",
       "      <td>4218</td>\n",
       "    </tr>\n",
       "    <tr>\n",
       "      <th>8</th>\n",
       "      <td>MS</td>\n",
       "      <td>3611</td>\n",
       "    </tr>\n",
       "    <tr>\n",
       "      <th>9</th>\n",
       "      <td>ES</td>\n",
       "      <td>3101</td>\n",
       "    </tr>\n",
       "    <tr>\n",
       "      <th>10</th>\n",
       "      <td>PE</td>\n",
       "      <td>2894</td>\n",
       "    </tr>\n",
       "    <tr>\n",
       "      <th>11</th>\n",
       "      <td>MA</td>\n",
       "      <td>2461</td>\n",
       "    </tr>\n",
       "    <tr>\n",
       "      <th>12</th>\n",
       "      <td>AL</td>\n",
       "      <td>1660</td>\n",
       "    </tr>\n",
       "    <tr>\n",
       "      <th>13</th>\n",
       "      <td>RJ</td>\n",
       "      <td>1334</td>\n",
       "    </tr>\n",
       "    <tr>\n",
       "      <th>14</th>\n",
       "      <td>CE</td>\n",
       "      <td>1051</td>\n",
       "    </tr>\n",
       "    <tr>\n",
       "      <th>15</th>\n",
       "      <td>PA</td>\n",
       "      <td>963</td>\n",
       "    </tr>\n",
       "    <tr>\n",
       "      <th>16</th>\n",
       "      <td>SE</td>\n",
       "      <td>773</td>\n",
       "    </tr>\n",
       "    <tr>\n",
       "      <th>17</th>\n",
       "      <td>RN</td>\n",
       "      <td>729</td>\n",
       "    </tr>\n",
       "    <tr>\n",
       "      <th>18</th>\n",
       "      <td>TO</td>\n",
       "      <td>586</td>\n",
       "    </tr>\n",
       "    <tr>\n",
       "      <th>19</th>\n",
       "      <td>RO</td>\n",
       "      <td>294</td>\n",
       "    </tr>\n",
       "    <tr>\n",
       "      <th>20</th>\n",
       "      <td>PI</td>\n",
       "      <td>284</td>\n",
       "    </tr>\n",
       "    <tr>\n",
       "      <th>21</th>\n",
       "      <td>RR</td>\n",
       "      <td>270</td>\n",
       "    </tr>\n",
       "    <tr>\n",
       "      <th>22</th>\n",
       "      <td>AM</td>\n",
       "      <td>189</td>\n",
       "    </tr>\n",
       "    <tr>\n",
       "      <th>23</th>\n",
       "      <td>DF</td>\n",
       "      <td>114</td>\n",
       "    </tr>\n",
       "    <tr>\n",
       "      <th>24</th>\n",
       "      <td>PB</td>\n",
       "      <td>39</td>\n",
       "    </tr>\n",
       "    <tr>\n",
       "      <th>25</th>\n",
       "      <td>AC</td>\n",
       "      <td>14</td>\n",
       "    </tr>\n",
       "    <tr>\n",
       "      <th>26</th>\n",
       "      <td>AP</td>\n",
       "      <td>1</td>\n",
       "    </tr>\n",
       "  </tbody>\n",
       "</table>\n",
       "</div>"
      ],
      "text/plain": [
       "    UF  count_uf\n",
       "0   SP     30582\n",
       "1   PR     14568\n",
       "2   RS     13567\n",
       "3   MG     13133\n",
       "4   MT      8876\n",
       "5   GO      8394\n",
       "6   BA      5365\n",
       "7   SC      4218\n",
       "8   MS      3611\n",
       "9   ES      3101\n",
       "10  PE      2894\n",
       "11  MA      2461\n",
       "12  AL      1660\n",
       "13  RJ      1334\n",
       "14  CE      1051\n",
       "15  PA       963\n",
       "16  SE       773\n",
       "17  RN       729\n",
       "18  TO       586\n",
       "19  RO       294\n",
       "20  PI       284\n",
       "21  RR       270\n",
       "22  AM       189\n",
       "23  DF       114\n",
       "24  PB        39\n",
       "25  AC        14\n",
       "26  AP         1"
      ]
     },
     "execution_count": 21,
     "metadata": {},
     "output_type": "execute_result"
    }
   ],
   "source": [
    "imp_fert_g=imp_fert.groupby('UF').KG_LIQUIDO.count().sort_values(ascending=False).reset_index().rename(columns={'KG_LIQUIDO':'count_uf'})\n",
    "imp_fert_g"
   ]
  },
  {
   "cell_type": "markdown",
   "id": "b1792b21-7a8f-4199-a30f-5f92177bae31",
   "metadata": {},
   "source": [
    "# CO_PAIS"
   ]
  },
  {
   "cell_type": "code",
   "execution_count": 22,
   "id": "19ed65c2-5988-4c80-be47-ae114053ebd7",
   "metadata": {},
   "outputs": [
    {
     "data": {
      "text/plain": [
       "Index(['CO_PAIS', 'CO_PAIS_ISON3', 'CO_PAIS_ISOA3', 'NO_PAIS', 'NO_PAIS_ING',\n",
       "       'NO_PAIS_ESP'],\n",
       "      dtype='object')"
      ]
     },
     "execution_count": 22,
     "metadata": {},
     "output_type": "execute_result"
    }
   ],
   "source": [
    "pais=pd.read_csv('~/git/BD/Comexstat/tab_complementares/PAIS.csv',encoding='Latin-1',sep=';')\n",
    "pais.columns"
   ]
  },
  {
   "cell_type": "code",
   "execution_count": 23,
   "id": "3e06ec62-f7e5-45e9-9972-413965e6ce48",
   "metadata": {},
   "outputs": [
    {
     "data": {
      "text/html": [
       "<div>\n",
       "<style scoped>\n",
       "    .dataframe tbody tr th:only-of-type {\n",
       "        vertical-align: middle;\n",
       "    }\n",
       "\n",
       "    .dataframe tbody tr th {\n",
       "        vertical-align: top;\n",
       "    }\n",
       "\n",
       "    .dataframe thead th {\n",
       "        text-align: right;\n",
       "    }\n",
       "</style>\n",
       "<table border=\"1\" class=\"dataframe\">\n",
       "  <thead>\n",
       "    <tr style=\"text-align: right;\">\n",
       "      <th></th>\n",
       "      <th># imp_2023</th>\n",
       "    </tr>\n",
       "    <tr>\n",
       "      <th>CO_PAIS_ISOA3</th>\n",
       "      <th></th>\n",
       "    </tr>\n",
       "  </thead>\n",
       "  <tbody>\n",
       "    <tr>\n",
       "      <th>RUS</th>\n",
       "      <td>1143</td>\n",
       "    </tr>\n",
       "    <tr>\n",
       "      <th>CHN</th>\n",
       "      <td>1109</td>\n",
       "    </tr>\n",
       "    <tr>\n",
       "      <th>CAN</th>\n",
       "      <td>307</td>\n",
       "    </tr>\n",
       "    <tr>\n",
       "      <th>DEU</th>\n",
       "      <td>273</td>\n",
       "    </tr>\n",
       "    <tr>\n",
       "      <th>ISR</th>\n",
       "      <td>264</td>\n",
       "    </tr>\n",
       "    <tr>\n",
       "      <th>ESP</th>\n",
       "      <td>262</td>\n",
       "    </tr>\n",
       "    <tr>\n",
       "      <th>USA</th>\n",
       "      <td>255</td>\n",
       "    </tr>\n",
       "    <tr>\n",
       "      <th>BOL</th>\n",
       "      <td>228</td>\n",
       "    </tr>\n",
       "    <tr>\n",
       "      <th>MAR</th>\n",
       "      <td>185</td>\n",
       "    </tr>\n",
       "    <tr>\n",
       "      <th>QAT</th>\n",
       "      <td>165</td>\n",
       "    </tr>\n",
       "  </tbody>\n",
       "</table>\n",
       "</div>"
      ],
      "text/plain": [
       "               # imp_2023\n",
       "CO_PAIS_ISOA3            \n",
       "RUS                  1143\n",
       "CHN                  1109\n",
       "CAN                   307\n",
       "DEU                   273\n",
       "ISR                   264\n",
       "ESP                   262\n",
       "USA                   255\n",
       "BOL                   228\n",
       "MAR                   185\n",
       "QAT                   165"
      ]
     },
     "execution_count": 23,
     "metadata": {},
     "output_type": "execute_result"
    }
   ],
   "source": [
    "imp_fert_g=imp_fert[imp_fert.CO_ANO==2023].groupby('CO_PAIS').KG_LIQUIDO.count()\\\n",
    ".sort_values(ascending=False).reset_index().rename(columns={'KG_LIQUIDO':'# imp_2023'})\n",
    "imp_fert_g.merge(pais[['CO_PAIS','CO_PAIS_ISOA3']]).head(10)[['CO_PAIS_ISOA3','# imp_2023']].set_index('CO_PAIS_ISOA3')"
   ]
  },
  {
   "cell_type": "code",
   "execution_count": 24,
   "id": "6e185253-ad18-4a1a-8376-a087ecc83d29",
   "metadata": {},
   "outputs": [
    {
     "data": {
      "text/plain": [
       "Index(['CO_ANO', 'CO_MES', 'CO_SH4', 'CO_PAIS', 'UF', 'CO_MUN', 'KG_LIQUIDO',\n",
       "       'VL_FOB', 'NO_SH4_POR', 'CO_PAIS_ISOA3', 'NO_PAIS', 'CO_UF', 'NO_UF',\n",
       "       'NO_REGIAO', 'nick_sh4'],\n",
       "      dtype='object')"
      ]
     },
     "execution_count": 24,
     "metadata": {},
     "output_type": "execute_result"
    }
   ],
   "source": [
    "imp_fert.columns"
   ]
  },
  {
   "cell_type": "code",
   "execution_count": 25,
   "id": "113609e9-8dae-4bb4-9125-844e88d2fadd",
   "metadata": {},
   "outputs": [
    {
     "data": {
      "text/plain": [
       "np.float64(0.566214816942)"
      ]
     },
     "execution_count": 25,
     "metadata": {},
     "output_type": "execute_result"
    }
   ],
   "source": [
    "imp_fert.KG_LIQUIDO.sum()/10**12"
   ]
  },
  {
   "cell_type": "code",
   "execution_count": 26,
   "id": "b1e3fe63-ef83-44d3-a3a4-fdb45f215e0c",
   "metadata": {},
   "outputs": [
    {
     "data": {
      "text/plain": [
       "Index(['CO_ANO', 'CO_MES', 'CO_SH4', 'CO_PAIS', 'UF', 'CO_MUN', 'KG_LIQUIDO',\n",
       "       'VL_FOB', 'NO_SH4_POR', 'CO_PAIS_ISOA3', 'NO_PAIS', 'CO_UF', 'NO_UF',\n",
       "       'NO_REGIAO', 'nick_sh4'],\n",
       "      dtype='object')"
      ]
     },
     "execution_count": 26,
     "metadata": {},
     "output_type": "execute_result"
    }
   ],
   "source": [
    "imp_fert.columns"
   ]
  },
  {
   "cell_type": "code",
   "execution_count": 27,
   "id": "a94c0a8d-1a67-4872-bfbd-35171c066c21",
   "metadata": {},
   "outputs": [],
   "source": [
    "imp_fert=imp_fert.sort_values(by=['CO_ANO','CO_MES','CO_SH4','UF','CO_PAIS']).reset_index(drop=True)"
   ]
  },
  {
   "cell_type": "code",
   "execution_count": 28,
   "id": "92a62a55-dfa9-42e2-9a93-398e5a7bf555",
   "metadata": {},
   "outputs": [],
   "source": [
    "imp_fert.to_csv('~/git/BD/temp/imp_fert_mun_cat.csv',index=False)"
   ]
  }
 ],
 "metadata": {
  "kernelspec": {
   "display_name": "Python 3 (ipykernel)",
   "language": "python",
   "name": "python3"
  },
  "language_info": {
   "codemirror_mode": {
    "name": "ipython",
    "version": 3
   },
   "file_extension": ".py",
   "mimetype": "text/x-python",
   "name": "python",
   "nbconvert_exporter": "python",
   "pygments_lexer": "ipython3",
   "version": "3.11.2"
  }
 },
 "nbformat": 4,
 "nbformat_minor": 5
}
