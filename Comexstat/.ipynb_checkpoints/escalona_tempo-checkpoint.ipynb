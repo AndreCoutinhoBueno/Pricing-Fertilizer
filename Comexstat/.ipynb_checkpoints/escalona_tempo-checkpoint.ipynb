{
 "cells": [
  {
   "cell_type": "code",
   "execution_count": 16,
   "id": "2a18bb7b-192f-4c90-9fb9-98de1e437754",
   "metadata": {},
   "outputs": [],
   "source": [
    "def escalona_tempo(comex_df):\n",
    "    \n",
    "    mes_at=comex_df[(comex_df.CO_ANO==comex_df.CO_ANO.max())].CO_MES.max()\n",
    "    \n",
    "    mes=pd.DataFrame({'CO_MES':np.arange(1,13)})\n",
    "    \n",
    "    mes_i=mes.copy().rename(columns={'CO_MES':'mes_i'})\n",
    "    \n",
    "    bim =pd.DataFrame({'CO_BIM':np.arange(1,7,.5).astype(int)})\n",
    "    \n",
    "    trim=pd.DataFrame({'CO_TRIM':np.arange(1,5,.34).astype(int)})\n",
    "    \n",
    "    quadri=pd.DataFrame({'CO_QUADRI':np.arange(1,4,.25).astype(int)})\n",
    "    \n",
    "    sem=pd.DataFrame({'CO_SEM':np.arange(1,3,1/6).astype(int)})\n",
    "    \n",
    "    escala=pd.concat([\n",
    "        mes,\n",
    "        pd.concat([\n",
    "            mes_i.shift(mes_at-12).iloc[:mes_at],\n",
    "            mes_i.shift(mes_at).dropna()\n",
    "        ]),\n",
    "        pd.concat([\n",
    "            bim.shift(mes_at-12).iloc[:mes_at],\n",
    "            bim.shift(mes_at).dropna()\n",
    "        ]),\n",
    "            pd.concat([\n",
    "            trim.shift(mes_at-12).iloc[:mes_at],\n",
    "            trim.shift(mes_at).dropna()\n",
    "        ]),\n",
    "            pd.concat([\n",
    "            quadri.shift(mes_at-12).iloc[:mes_at],\n",
    "            quadri.shift(mes_at).dropna()\n",
    "        ]),\n",
    "            pd.concat([\n",
    "            sem.shift(mes_at-12).iloc[:mes_at],\n",
    "            sem.shift(mes_at).dropna()\n",
    "        ])\n",
    "    ],axis=1).astype(int)\n",
    "    \n",
    "    comex_df=comex_df.merge(escala)\n",
    "    \n",
    "    return comex_df"
   ]
  },
  {
   "cell_type": "code",
   "execution_count": null,
   "id": "b4bb797b-0467-4be2-8edd-7a9890d44040",
   "metadata": {},
   "outputs": [],
   "source": [
    "print('** Funlção escalona_tempo(comex_df) disponível **')"
   ]
  }
 ],
 "metadata": {
  "kernelspec": {
   "display_name": "Python 3 (ipykernel)",
   "language": "python",
   "name": "python3"
  },
  "language_info": {
   "codemirror_mode": {
    "name": "ipython",
    "version": 3
   },
   "file_extension": ".py",
   "mimetype": "text/x-python",
   "name": "python",
   "nbconvert_exporter": "python",
   "pygments_lexer": "ipython3",
   "version": "3.11.2"
  }
 },
 "nbformat": 4,
 "nbformat_minor": 5
}
