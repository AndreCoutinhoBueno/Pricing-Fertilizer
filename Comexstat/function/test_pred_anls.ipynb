{
 "cells": [
  {
   "cell_type": "code",
   "execution_count": 7,
   "id": "cdbea4c8-8ded-4738-8a53-6c87b3e111c2",
   "metadata": {},
   "outputs": [],
   "source": [
    "import warnings \n",
    "warnings.filterwarnings('ignore')\n",
    "import pandas as pd\n",
    "import numpy as np\n",
    "from sklearn import metrics\n",
    "import seaborn as sns\n",
    "test_pred=pd.read_csv('test_pred.csv')\n",
    "\n",
    "test_pred.date=test_pred.date.astype('datetime64[ns]')\n",
    "\n",
    "test_pred[['KG_LIQUIDO','KG_LIQUIDO_pred']]=(test_pred[['KG_LIQUIDO','KG_LIQUIDO_pred']]/10**6).astype(int)\n",
    "test_pred=test_pred.rename(columns={'KG_LIQUIDO':'kt','KG_LIQUIDO_pred':'kt_pred'})"
   ]
  },
  {
   "cell_type": "code",
   "execution_count": 2,
   "id": "2bfecfa8-a605-47e3-af91-c498cd1dd127",
   "metadata": {},
   "outputs": [
    {
     "name": "stdout",
     "output_type": "stream",
     "text": [
      "test_pred\n",
      "accuracy_score  0.88\n",
      "precision_score 0.86\n",
      "recall_score    1.0\n",
      "test_pred_oc\n",
      "r2_score        0.27\n"
     ]
    }
   ],
   "source": [
    "print('\\ntest_pred')\n",
    "print('accuracy_score ',round(metrics.accuracy_score(test_pred.oc,test_pred.oc_pred),2))\n",
    "print('precision_score',round(metrics.precision_score(test_pred.oc,test_pred.oc_pred),2))\n",
    "print('recall_score   ',round(metrics.recall_score(test_pred.oc,test_pred.oc_pred),2))\n",
    "test_pred_oc=test_pred[(test_pred.oc==1)&(test_pred.oc_pred==1)]\n",
    "print('test_pred_oc')\n",
    "print('r2_score       ',round(metrics.r2_score(test_pred_oc.kt,test_pred_oc.kt_pred),2))"
   ]
  },
  {
   "cell_type": "code",
   "execution_count": 3,
   "id": "18853cfd-c356-4a60-9f92-70e952fd154a",
   "metadata": {},
   "outputs": [],
   "source": [
    "test_pred_g=test_pred.groupby(by=['CO_ANO','CO_MES','nick','SG_UF_NCM'])[['kt','kt_pred','oc','oc_pred']].sum().reset_index()\n",
    "test_pred_g.loc[test_pred_g.oc>1,'oc']=1\n",
    "test_pred_g.loc[test_pred_g.oc_pred>1,'oc_pred']=1"
   ]
  },
  {
   "cell_type": "code",
   "execution_count": 4,
   "id": "5e7ac5e0-4c38-46a0-bb07-baf6c248080b",
   "metadata": {},
   "outputs": [
    {
     "name": "stdout",
     "output_type": "stream",
     "text": [
      "test_pred_g\n",
      "accuracy_score  1.0\n",
      "precision_score 1.0\n",
      "recall_score    1.0\n",
      "test_pred_g_oc\n",
      "r2_score        0.31\n"
     ]
    }
   ],
   "source": [
    "print('\\ntest_pred_g')\n",
    "print('accuracy_score ',round(metrics.accuracy_score(test_pred_g.oc,test_pred_g.oc_pred),2))\n",
    "print('precision_score',round(metrics.precision_score(test_pred_g.oc,test_pred_g.oc_pred),2))\n",
    "print('recall_score   ',round(metrics.recall_score(test_pred_g.oc,test_pred_g.oc_pred),2))\n",
    "test_pred_g_oc=test_pred_g[(test_pred_g.oc==1)&(test_pred_g.oc_pred==1)]\n",
    "print('test_pred_g_oc')\n",
    "print('r2_score       ',round(metrics.r2_score(test_pred_g_oc.kt,test_pred_g_oc.kt_pred),2))"
   ]
  },
  {
   "cell_type": "raw",
   "id": "2e968443-4c1a-4cc6-9dcd-451df077950b",
   "metadata": {},
   "source": [
    "print('test_pred_g')\n",
    "display(test_pred_g)"
   ]
  },
  {
   "cell_type": "code",
   "execution_count": null,
   "id": "d55b337e-b39a-4807-8ff1-f8fbe759b5b4",
   "metadata": {},
   "outputs": [],
   "source": []
  }
 ],
 "metadata": {
  "kernelspec": {
   "display_name": "Python 3 (ipykernel)",
   "language": "python",
   "name": "python3"
  },
  "language_info": {
   "codemirror_mode": {
    "name": "ipython",
    "version": 3
   },
   "file_extension": ".py",
   "mimetype": "text/x-python",
   "name": "python",
   "nbconvert_exporter": "python",
   "pygments_lexer": "ipython3",
   "version": "3.11.2"
  }
 },
 "nbformat": 4,
 "nbformat_minor": 5
}
