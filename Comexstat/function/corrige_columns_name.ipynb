{
 "cells": [
  {
   "cell_type": "code",
   "execution_count": null,
   "id": "278e6fb0-e67c-4606-b570-6ff02e54cf79",
   "metadata": {},
   "outputs": [],
   "source": [
    "def corrige_columns_name(imp_fert):\n",
    "    imp_fert=imp_fert.rename(columns={'SG_UF_NCM':'UF'})\n",
    "    \n",
    "    return imp_fert\n",
    "\n",
    "print('** Função corrige_columns_name(imp_fert) disponível **')"
   ]
  }
 ],
 "metadata": {
  "kernelspec": {
   "display_name": "Python 3 (ipykernel)",
   "language": "python",
   "name": "python3"
  },
  "language_info": {
   "codemirror_mode": {
    "name": "ipython",
    "version": 3
   },
   "file_extension": ".py",
   "mimetype": "text/x-python",
   "name": "python",
   "nbconvert_exporter": "python",
   "pygments_lexer": "ipython3",
   "version": "3.11.2"
  }
 },
 "nbformat": 4,
 "nbformat_minor": 5
}
