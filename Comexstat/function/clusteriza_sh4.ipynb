{
 "cells": [
  {
   "cell_type": "code",
   "execution_count": null,
   "id": "df07cbd1-35a7-4d5f-a761-c9312a2cd7b5",
   "metadata": {},
   "outputs": [],
   "source": [
    "def clusteriza_sh4(imp_fert,n_cluster=4):\n",
    "    \n",
    "    imp_fert['log_kg']=np.log10(imp_fert.KG_LIQUIDO)\n",
    "    imp_fert['log_fob']=np.log10(imp_fert.VL_FOB)\n",
    "    \n",
    "    from sklearn.preprocessing import MinMaxScaler as MMS\n",
    "    MMS=MMS()\n",
    "    \n",
    "    imp_fert=imp_fert.assign(s_log_kg=MMS.fit_transform(imp_fert[['log_kg']]))\n",
    "    imp_fert=imp_fert.assign(s_log_fob=MMS.fit_transform(imp_fert[['log_fob']]))\n",
    "    \n",
    "    from sklearn.cluster import KMeans as KM\n",
    "    KM=KM(n_clusters=n_cluster)\n",
    "    \n",
    "    col_k_s=['s_log_kg','s_log_fob']\n",
    "    \n",
    "    q=pd.DataFrame()\n",
    "    for sh4 in imp_fert.CO_SH4.unique():\n",
    "        imp_fert_t=imp_fert[imp_fert.CO_SH4==sh4]\n",
    "        imp_fert_t=imp_fert_t.assign(km=KM.fit_predict(imp_fert_t[col_k_s]))\n",
    "        q=pd.concat([q,imp_fert_t])\n",
    "    \n",
    "    imp_fert=q.copy()\n",
    "    \n",
    "    # Renomeando os clusters de acordo com o rank entre eles\n",
    "    q=pd.DataFrame()\n",
    "    for sh4 in imp_fert.CO_SH4.unique():\n",
    "        t=imp_fert[imp_fert.CO_SH4==sh4]\n",
    "        t1=t.groupby(by=['CO_SH4','km']).KG_LIQUIDO.mean().reset_index().sort_values('KG_LIQUIDO')\n",
    "        t1=t1.assign(km2=np.arange(0,len(t1)))\n",
    "        q=pd.concat([q,t1])\n",
    "    q=q.drop(columns='KG_LIQUIDO')\n",
    "    imp_fert=imp_fert.merge(q)\n",
    "    \n",
    "    imp_fert=imp_fert.drop(columns='km').rename(columns={'km2':'km'})\n",
    "\n",
    "    imp_fert=imp_fert.sort_values('nick_sh4')\n",
    "    \n",
    "    plt.show()\n",
    "\n",
    "    return imp_fert\n",
    "\n",
    "print('** Função clusteriza_sh4(imp_fert,n_cluster=4) disponível **')"
   ]
  },
  {
   "cell_type": "code",
   "execution_count": null,
   "id": "cece0efa-8d2a-4b48-921e-f4ff64a29c42",
   "metadata": {},
   "outputs": [],
   "source": []
  }
 ],
 "metadata": {
  "kernelspec": {
   "display_name": "Python 3 (ipykernel)",
   "language": "python",
   "name": "python3"
  },
  "language_info": {
   "codemirror_mode": {
    "name": "ipython",
    "version": 3
   },
   "file_extension": ".py",
   "mimetype": "text/x-python",
   "name": "python",
   "nbconvert_exporter": "python",
   "pygments_lexer": "ipython3",
   "version": "3.11.2"
  }
 },
 "nbformat": 4,
 "nbformat_minor": 5
}
