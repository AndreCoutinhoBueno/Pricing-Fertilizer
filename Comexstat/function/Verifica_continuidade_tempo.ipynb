{
 "cells": [
  {
   "cell_type": "code",
   "execution_count": null,
   "id": "e5432e55-54c8-4d4d-92da-38adf2258494",
   "metadata": {},
   "outputs": [],
   "source": [
    "print('***Função \"verifica_continuidade_tempo(comexstat_tab)\" disponível***')"
   ]
  },
  {
   "cell_type": "code",
   "execution_count": null,
   "id": "102f52e6-c05e-48ee-9580-9a7510b16dc2",
   "metadata": {},
   "outputs": [],
   "source": [
    "def verifica_continuidade_tempo(comex_tab):\n",
    "    # Lista os anos\n",
    "    lista_anos = comex_tab.CO_ANO.unique().tolist()\n",
    "    \n",
    "    def verificar_anos(anos):\n",
    "        # Ordenar a lista de anos\n",
    "        anos_ordenados = sorted(anos)\n",
    "        \n",
    "        # Verificar se todos os anos no intervalo estão presentes na lista\n",
    "        for ano in range(anos_ordenados[0], anos_ordenados[-1] + 1):\n",
    "            if ano not in anos_ordenados:\n",
    "                return False\n",
    "        return True\n",
    "    \n",
    "    if verificar_anos(lista_anos):\n",
    "        print(f\"A tabela apresenta todos os anos entre {comex_tab.CO_ANO.min()} e {comex_tab.CO_ANO.max()}.\")\n",
    "    else:\n",
    "        print(\"A tabela não apresenta continuidade entre os anos.\")\n",
    "    \n",
    "    \n",
    "    def verificar_tabela_completa(tabela):\n",
    "        # Gerar todos os pares possíveis de CO_ANO e mês no intervalo da tabela\n",
    "        CO_ANOs = range(tabela['CO_ANO'].min(), tabela['CO_ANO'].max() + 1)\n",
    "        \n",
    "        # Encontrar o primeiro CO_ANO e o primeiro mês registrado\n",
    "        primeiro_CO_ANO = tabela['CO_ANO'].min()\n",
    "        primeiro_CO_MES = tabela[tabela['CO_ANO'] == primeiro_CO_ANO]['CO_MES'].min()\n",
    "        # Encontrar o último CO_ANO e o último mês registrado\n",
    "        ultimo_CO_ANO = tabela['CO_ANO'].max()\n",
    "        ultimo_CO_MES = tabela[tabela['CO_ANO'] == ultimo_CO_ANO]['CO_MES'].max()\n",
    "        \n",
    "        todos_pares = set()\n",
    "        for CO_ANO in CO_ANOs:\n",
    "            if CO_ANO == ultimo_CO_ANO:\n",
    "                CO_MESes = range(1, ultimo_CO_MES + 1)\n",
    "            else:\n",
    "                CO_MESes = range(1, 13)\n",
    "            todos_pares.update((CO_ANO, CO_MES) for CO_MES in CO_MESes)\n",
    "        \n",
    "        # Gerar os pares presentes na tabela\n",
    "        pares_presentes = set(zip(tabela['CO_ANO'], tabela['CO_MES']))\n",
    "        \n",
    "        # Verificar se todos os pares possíveis estão presentes na tabela\n",
    "        pares_faltando = todos_pares - pares_presentes\n",
    "        \n",
    "        if pares_faltando:\n",
    "            print(\"A tabela não apresenta continuidade nos seguintes momentos:\")\n",
    "            for par in sorted(pares_faltando):\n",
    "                print(par)\n",
    "            #return False\n",
    "        else:\n",
    "            print(\"A tabela apresenta continuidade entre os meses.\")\n",
    "            #return True\n",
    "        print(f\"As datas vão de {str(primeiro_CO_MES)+'/'+str(primeiro_CO_ANO)} a {str(ultimo_CO_MES)+'/'+str(ultimo_CO_ANO)}.\")\n",
    "    \n",
    "    verificar_tabela_completa(comex_tab)"
   ]
  }
 ],
 "metadata": {
  "kernelspec": {
   "display_name": "Python 3 (ipykernel)",
   "language": "python",
   "name": "python3"
  },
  "language_info": {
   "codemirror_mode": {
    "name": "ipython",
    "version": 3
   },
   "file_extension": ".py",
   "mimetype": "text/x-python",
   "name": "python",
   "nbconvert_exporter": "python",
   "pygments_lexer": "ipython3",
   "version": "3.11.2"
  }
 },
 "nbformat": 4,
 "nbformat_minor": 5
}
