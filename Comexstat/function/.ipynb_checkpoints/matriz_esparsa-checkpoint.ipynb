{
 "cells": [
  {
   "cell_type": "code",
   "execution_count": 4,
   "id": "f0289bb3-9f8a-4e0d-b76d-c9f540f46e98",
   "metadata": {},
   "outputs": [],
   "source": [
    "def matriz_esparsa(comex_df,col_cat):\n",
    "   \n",
    "    \n",
    "    comex_df=comex_df.drop(columns='date',errors='ignore')\n",
    "    \n",
    "    # Cria date para datas que ocorreram\n",
    "    comex_df.insert(0,'date',pd.to_datetime(comex_df.CO_ANO.astype(str)+'-'+comex_df.CO_MES.astype(str)+'-1'))\n",
    "    \n",
    "    # Salva date início e fim dos registros\n",
    "    date_ini=comex_df.date.min()\n",
    "    date_fim=comex_df.date.max()\n",
    "    \n",
    "    # Cria dates para todas as possíveis datas\n",
    "    \n",
    "    ano_ini=comex_df.CO_ANO.min()\n",
    "    ano_fim=comex_df.CO_ANO.max()\n",
    "    anos=np.arange(ano_ini,ano_fim+1)\n",
    "    anos=pd.DataFrame({'CO_ANO':anos,'key':0})\n",
    "    \n",
    "    mes=np.arange(1,13)\n",
    "    meses=pd.DataFrame({'CO_MES':mes,'key':0})\n",
    "    \n",
    "    # Constrói a calendário full\n",
    "    datas=anos.merge(meses,how='outer')\n",
    "    datas=datas.assign(date=pd.to_datetime(datas.CO_ANO.astype(str)+'/'+datas.CO_MES.astype(str)+'/1'))\n",
    "    \n",
    "    # Filtra calendário para início e fim real\n",
    "    datas=datas[(datas.date>=date_ini)&(datas.date<=date_fim)].assign(key=0)\n",
    "  \n",
    "    # Cria combinação de categorias\n",
    "    cat=comex_df[col_cat+col_quanti].assign(key=0).drop_duplicates()\n",
    "    \n",
    "    comex_df_sp=datas.merge(cat,how='outer').fillna(0).drop(columns='key')\n",
    "\n",
    "    # Corrige tipo\n",
    "    comex_df_sp[comex_df_sp.select_dtypes('float').columns]=comex_df_sp[comex_df_sp.select_dtypes('float').columns].astype(int)\n",
    "    \n",
    "    return comex_df_sp"
   ]
  },
  {
   "cell_type": "code",
   "execution_count": 3,
   "id": "b0bc4971-c8f2-40b8-b4c3-e7c8c8a08f70",
   "metadata": {},
   "outputs": [
    {
     "name": "stdout",
     "output_type": "stream",
     "text": [
      "** Função matriz_esparsa(comex_df) disponível **\n"
     ]
    }
   ],
   "source": [
    "print('** Função matriz_esparsa(comex_df,col_cat) disponível **')"
   ]
  },
  {
   "cell_type": "code",
   "execution_count": null,
   "id": "c1abeb46-f0b1-4217-b479-2c5ec0e26304",
   "metadata": {},
   "outputs": [],
   "source": []
  }
 ],
 "metadata": {
  "kernelspec": {
   "display_name": "Python 3 (ipykernel)",
   "language": "python",
   "name": "python3"
  },
  "language_info": {
   "codemirror_mode": {
    "name": "ipython",
    "version": 3
   },
   "file_extension": ".py",
   "mimetype": "text/x-python",
   "name": "python",
   "nbconvert_exporter": "python",
   "pygments_lexer": "ipython3",
   "version": "3.11.2"
  }
 },
 "nbformat": 4,
 "nbformat_minor": 5
}
