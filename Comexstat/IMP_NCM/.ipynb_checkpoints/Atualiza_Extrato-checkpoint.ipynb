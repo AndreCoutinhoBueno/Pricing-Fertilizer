{
 "cells": [
  {
   "cell_type": "code",
   "execution_count": 1,
   "id": "ce8c678b-1b4d-490b-87c3-669d8fb72bf9",
   "metadata": {},
   "outputs": [],
   "source": [
    "import numpy as np\n",
    "import pandas as pd"
   ]
  },
  {
   "cell_type": "code",
   "execution_count": 2,
   "id": "7c9cd56d-b847-4c0e-8c69-5a758d6f7803",
   "metadata": {},
   "outputs": [],
   "source": [
    "imp_fert_ncm=pd.read_csv('~/git/BD/temp/imp_fert_ncm.csv')"
   ]
  },
  {
   "cell_type": "code",
   "execution_count": 3,
   "id": "c407365e-2060-42e9-892a-d608a4b4b9b2",
   "metadata": {},
   "outputs": [],
   "source": [
    "a=imp_fert_ncm.CO_ANO.max()"
   ]
  },
  {
   "cell_type": "code",
   "execution_count": 4,
   "id": "972cf5a5-78f8-4a02-8dce-b29fb0b68a35",
   "metadata": {},
   "outputs": [],
   "source": [
    "m=imp_fert_ncm[imp_fert_ncm.CO_ANO==a].CO_MES.max()"
   ]
  },
  {
   "cell_type": "code",
   "execution_count": 5,
   "id": "1d6bdae3-1522-4bb8-858c-ddb9683c47d6",
   "metadata": {},
   "outputs": [],
   "source": [
    "if m==12:\n",
    "    a=a+1"
   ]
  },
  {
   "cell_type": "code",
   "execution_count": 6,
   "id": "db60853a-e66e-4c8f-8c5c-54eee39ac6a9",
   "metadata": {},
   "outputs": [],
   "source": [
    "ncm_filtro=imp_fert_ncm[['CO_NCM']].drop_duplicates()"
   ]
  },
  {
   "cell_type": "code",
   "execution_count": 7,
   "id": "d8c308f9-dae8-4e6d-b54d-b967d73a9c0f",
   "metadata": {},
   "outputs": [],
   "source": [
    "imp_fert_ncm=imp_fert_ncm[imp_fert_ncm.CO_ANO!=a]"
   ]
  },
  {
   "cell_type": "code",
   "execution_count": 8,
   "id": "e9ea934b-d478-4284-adca-714f90cd455f",
   "metadata": {},
   "outputs": [
    {
     "name": "stdout",
     "output_type": "stream",
     "text": [
      "   CO_ANO  CO_MES    CO_NCM  CO_UNID  CO_PAIS  UF  CO_VIA   CO_URF  QT_ESTAT  \\\n",
      "0    2024       8  31026000       10      538  ES       1   817800    360000   \n",
      "1    2024       3  31026000       10      160  SP       1   817800    431250   \n",
      "2    2024       7  31051000       10      149  RJ       4   817700         9   \n",
      "3    2024       7  31054000       10       53  RS       1  1017700  55655176   \n",
      "4    2024       2  31054000       10      676  PA       1   210200  11800242   \n",
      "\n",
      "   KG_LIQUIDO    VL_FOB  VL_FRETE  VL_SEGURO  \n",
      "0      360000     68890     12636         25  \n",
      "1      431250    113219     24752          0  \n",
      "2           9         9       124          0  \n",
      "3    55655176  31225934   1426482      11412  \n",
      "4    11800242   5970900    632100       5714  \n"
     ]
    }
   ],
   "source": [
    "import pandas as pd\n",
    "import ssl\n",
    "\n",
    "# Desativar a verificação do certificado SSL\n",
    "ssl._create_default_https_context = ssl._create_unverified_context\n",
    "\n",
    "# URL do arquivo CSV\n",
    "url = \"https://balanca.economia.gov.br/balanca/bd/comexstat-bd/ncm/IMP_\"+str(int(a))+\".csv\"\n",
    "\n",
    "# Ler o arquivo CSV diretamente da URL\n",
    "df = pd.read_csv(url, delimiter=';', encoding='ISO-8859-1')\n",
    "\n",
    "df=df.merge(ncm_filtro)\n",
    "\n",
    "df=df.rename(columns={'SG_UF_NCM':'UF'})\n",
    "\n",
    "# Exibir as primeiras linhas do DataFrame\n",
    "print(df.head())\n"
   ]
  },
  {
   "cell_type": "code",
   "execution_count": 9,
   "id": "0b4b1df2-d0e3-4487-aa1f-aed96163d641",
   "metadata": {},
   "outputs": [],
   "source": [
    "imp_fert_ncm_atlz=pd.concat([imp_fert_ncm,df]).sort_values(by=['CO_ANO','CO_MES','CO_NCM','CO_PAIS','CO_URF','UF'])\\\n",
    ".reset_index(drop=True)"
   ]
  },
  {
   "cell_type": "code",
   "execution_count": 10,
   "id": "d0b1c964-f865-4030-91b0-1683272d8e64",
   "metadata": {},
   "outputs": [],
   "source": [
    "imp_fert_ncm_atlz.to_csv('~/git/BD/temp/imp_fert_ncm.csv', index=False)"
   ]
  },
  {
   "cell_type": "code",
   "execution_count": null,
   "id": "7e939e22-adf2-4eca-9656-093b5a473930",
   "metadata": {},
   "outputs": [],
   "source": []
  },
  {
   "cell_type": "code",
   "execution_count": null,
   "id": "b3048835-0264-43bc-bef3-050d3c3c99d9",
   "metadata": {},
   "outputs": [],
   "source": []
  }
 ],
 "metadata": {
  "kernelspec": {
   "display_name": "Python 3 (ipykernel)",
   "language": "python",
   "name": "python3"
  },
  "language_info": {
   "codemirror_mode": {
    "name": "ipython",
    "version": 3
   },
   "file_extension": ".py",
   "mimetype": "text/x-python",
   "name": "python",
   "nbconvert_exporter": "python",
   "pygments_lexer": "ipython3",
   "version": "3.11.2"
  }
 },
 "nbformat": 4,
 "nbformat_minor": 5
}
