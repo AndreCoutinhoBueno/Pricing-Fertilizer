{
 "cells": [
  {
   "cell_type": "code",
   "execution_count": 1,
   "id": "f3d7f312-64ae-4d3f-8ec6-23df4d2ee369",
   "metadata": {},
   "outputs": [],
   "source": [
    "import numpy as np\n",
    "import pandas as pd\n",
    "import matplotlib.pyplot as plt\n",
    "import seaborn as sns\n",
    "import requests\n",
    "import urllib3\n",
    "import ssl\n",
    "\n",
    "# Suprimir avisos de InsecureRequestWarning\n",
    "urllib3.disable_warnings(urllib3.exceptions.InsecureRequestWarning)"
   ]
  },
  {
   "cell_type": "code",
   "execution_count": 2,
   "id": "c3ab2e57-34d4-460a-842b-bb0859fdc423",
   "metadata": {},
   "outputs": [],
   "source": [
    "l=[]\n",
    "tabelas=['NCM','NCM_SH','PAIS','UF_MUN','UF','VIA','URF']\n",
    "for tab in tabelas:\n",
    "    ssl._create_default_https_context = ssl._create_unverified_context\n",
    "    url = 'https://balanca.economia.gov.br/balanca/bd/tabelas/'+tab+'.csv'\n",
    "    l.append(pd.read_csv(url,encoding='Latin-1',sep=';'))\n",
    "tz=dict(zip(tabelas,l))"
   ]
  },
  {
   "cell_type": "code",
   "execution_count": 3,
   "id": "1ad6ce2a-5d45-4f17-98df-6b0b0d8ad571",
   "metadata": {},
   "outputs": [],
   "source": [
    "ncm=tz['NCM']"
   ]
  },
  {
   "cell_type": "code",
   "execution_count": 4,
   "id": "17306343-d58c-4628-92a0-7ea5809fed5d",
   "metadata": {},
   "outputs": [],
   "source": [
    "ncm_sh=tz['NCM_SH']"
   ]
  },
  {
   "cell_type": "code",
   "execution_count": 5,
   "id": "eee920c0-8a01-436f-9774-7f09bbcc3f99",
   "metadata": {},
   "outputs": [],
   "source": [
    "pais=tz['PAIS']"
   ]
  },
  {
   "cell_type": "code",
   "execution_count": 6,
   "id": "83a7c94d-4736-4180-a766-a81a7a4df72d",
   "metadata": {},
   "outputs": [],
   "source": [
    "uf_mun=tz['UF_MUN']"
   ]
  },
  {
   "cell_type": "code",
   "execution_count": 7,
   "id": "7c0e8e21-2f41-4268-8eca-046cb544d7df",
   "metadata": {},
   "outputs": [],
   "source": [
    "uf=tz['UF']"
   ]
  },
  {
   "cell_type": "code",
   "execution_count": 8,
   "id": "b6c930be-b80e-4f31-824c-0fc639c72488",
   "metadata": {},
   "outputs": [],
   "source": [
    "via=tz['VIA']"
   ]
  },
  {
   "cell_type": "code",
   "execution_count": 9,
   "id": "b2dad7e6-2428-435c-acff-31c85d50d7b3",
   "metadata": {},
   "outputs": [],
   "source": [
    "urf=tz['URF']"
   ]
  },
  {
   "cell_type": "code",
   "execution_count": 10,
   "id": "abb21f39-9222-4e8b-9492-be1d277020cb",
   "metadata": {},
   "outputs": [
    {
     "name": "stdout",
     "output_type": "stream",
     "text": [
      "Variáveis disponíveis: ncm, ncm_sh, pais,uf_mun,uf,via,urf\n"
     ]
    }
   ],
   "source": [
    "print('Variáveis disponíveis: ncm, ncm_sh, pais,uf_mun,uf,via,urf')"
   ]
  }
 ],
 "metadata": {
  "kernelspec": {
   "display_name": "Python 3 (ipykernel)",
   "language": "python",
   "name": "python3"
  },
  "language_info": {
   "codemirror_mode": {
    "name": "ipython",
    "version": 3
   },
   "file_extension": ".py",
   "mimetype": "text/x-python",
   "name": "python",
   "nbconvert_exporter": "python",
   "pygments_lexer": "ipython3",
   "version": "3.11.2"
  }
 },
 "nbformat": 4,
 "nbformat_minor": 5
}
