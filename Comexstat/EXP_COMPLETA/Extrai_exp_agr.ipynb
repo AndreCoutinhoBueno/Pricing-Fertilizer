{
 "cells": [
  {
   "cell_type": "code",
   "execution_count": 1,
   "id": "ce8c678b-1b4d-490b-87c3-669d8fb72bf9",
   "metadata": {},
   "outputs": [],
   "source": [
    "import numpy as np\n",
    "import pandas as pd\n",
    "import matplotlib.pyplot as plt\n",
    "import seaborn as sns"
   ]
  },
  {
   "cell_type": "code",
   "execution_count": 2,
   "id": "edbb7baf-a8df-403a-9561-416b1c3dbbc8",
<<<<<<< HEAD
   "metadata": {},
=======
   "metadata": {
    "jupyter": {
     "source_hidden": true
    }
   },
>>>>>>> 3e1ee36 (Initial commit)
   "outputs": [
    {
     "name": "stdout",
     "output_type": "stream",
     "text": [
      "\n",
      "\n",
      "Fonte: Comexstat(http://comexstat.mdic.gov.br/pt/geral), portal para acesso gratuito às estatísticas de\n",
      "comércio exterior do Brasil, com os dados utilizados para construção da balança comercial brasileira, detalhados\n",
      "por NCM ou por Municípios do importador/importador.\n",
      "\n",
      "\n"
     ]
    }
   ],
   "source": [
    "print('\\n\\nFonte: Comexstat(http://comexstat.mdic.gov.br/pt/geral), portal para acesso gratuito às estatísticas de\\n\\\n",
    "comércio exterior do Brasil, com os dados utilizados para construção da balança comercial brasileira, detalhados\\n\\\n",
    "por NCM ou por Municípios do importador/importador.\\n\\n')"
   ]
  },
  {
   "cell_type": "raw",
   "id": "a6795879-a58c-4b4b-9c7e-53c5c279d5e1",
   "metadata": {},
   "source": [
    "O site informa que os dados estão disponíveis em arquivos compactados que contém arquivos CSV, utilizando como separador o ponto e vírgula (;), e com os nomes das colunas na primeira linha. \n",
    "\n",
    "Para esse projeto, o interesse esta sobre a base de dados denominada EXP_COMPLETA.zip, que contém histórico mensal das importações detalhadas por produto (código NCM), Unidade Federativa importadora, ano, mês, país de origem, quilograma líquido, valor dólar FOB (US$) e outras.\n",
    "\n",
    "Para aproveitamento completo dos arquivos de dados, será necessário baixar e utilizar as Tabelas Auxiliares contendo a \"Correlações de Códigos e Classificações\". \n",
    "\n",
    "O arquivo principal e as tabelas auxiliares foram baixadas e salvas localmente na pasta '~/git/BD/Comexstat/'.\n",
    "\n",
    "A classificação de produto mais abrangente disponível é a SH2 (Sistema Harmonizado) e no nome dela se buscará identificar palavras como \"fertilizantes\" ou \"adubo\"."
   ]
  },
  {
   "cell_type": "code",
   "execution_count": 3,
<<<<<<< HEAD
   "id": "d8d6558b-45cd-4700-abb6-818aab7dee32",
   "metadata": {},
   "outputs": [
    {
     "name": "stdout",
     "output_type": "stream",
     "text": [
      "<class 'pandas.core.frame.DataFrame'>\n",
      "RangeIndex: 6609 entries, 0 to 6608\n",
      "Data columns (total 16 columns):\n",
      " #   Column         Non-Null Count  Dtype \n",
      "---  ------         --------------  ----- \n",
      " 0   CO_SH6         6609 non-null   int64 \n",
      " 1   NO_SH6_POR     6609 non-null   object\n",
      " 2   NO_SH6_ESP     6609 non-null   object\n",
      " 3   NO_SH6_ING     6609 non-null   object\n",
      " 4   CO_SH4         6609 non-null   int64 \n",
      " 5   NO_SH4_POR     6609 non-null   object\n",
      " 6   NO_SH4_ESP     6609 non-null   object\n",
      " 7   NO_SH4_ING     6609 non-null   object\n",
      " 8   CO_SH2         6609 non-null   int64 \n",
      " 9   NO_SH2_POR     6609 non-null   object\n",
      " 10  NO_SH2_ESP     6609 non-null   object\n",
      " 11  NO_SH2_ING     6609 non-null   object\n",
      " 12  CO_NCM_SECROM  6609 non-null   object\n",
      " 13  NO_SEC_POR     6609 non-null   object\n",
      " 14  NO_SEC_ESP     6609 non-null   object\n",
      " 15  NO_SEC_ING     6609 non-null   object\n",
      "dtypes: int64(3), object(13)\n",
      "memory usage: 826.3+ KB\n"
     ]
    }
   ],
   "source": [
    "ncm_sh=pd.read_csv('~/git/BD/Comexstat/tab_complementares/NCM_SH.csv',encoding='Latin-1',sep=';')\n",
    "ncm_sh.info()"
=======
   "id": "c44fa0f5-7a39-49db-a982-a3db21f3234e",
   "metadata": {},
   "outputs": [],
   "source": [
    "ncm_sh=pd.read_csv('~/git/BD/Comexstat/tab_complementares/NCM_SH.csv',encoding='Latin-1',sep=';')"
>>>>>>> 3e1ee36 (Initial commit)
   ]
  },
  {
   "cell_type": "markdown",
   "id": "aecb7c95-becc-4336-ac89-bc3a20936ac5",
   "metadata": {},
   "source": [
    "1-Reconhecer os códigos mais abrangentes dos produtos de interesse no sistema internacional SH:"
   ]
  },
  {
   "cell_type": "code",
   "execution_count": 4,
<<<<<<< HEAD
   "id": "d4b97620-8d24-47aa-9bca-646614ef6547",
   "metadata": {
    "scrolled": true
   },
   "outputs": [
    {
     "data": {
      "text/html": [
       "<div>\n",
       "<style scoped>\n",
       "    .dataframe tbody tr th:only-of-type {\n",
       "        vertical-align: middle;\n",
       "    }\n",
       "\n",
       "    .dataframe tbody tr th {\n",
       "        vertical-align: top;\n",
       "    }\n",
       "\n",
       "    .dataframe thead th {\n",
       "        text-align: right;\n",
       "    }\n",
       "</style>\n",
       "<table border=\"1\" class=\"dataframe\">\n",
       "  <thead>\n",
       "    <tr style=\"text-align: right;\">\n",
       "      <th></th>\n",
       "      <th>CO_SH2</th>\n",
       "      <th>NO_SH2_POR</th>\n",
       "    </tr>\n",
       "  </thead>\n",
       "  <tbody>\n",
       "  </tbody>\n",
       "</table>\n",
       "</div>"
      ],
      "text/plain": [
       "Empty DataFrame\n",
       "Columns: [CO_SH2, NO_SH2_POR]\n",
       "Index: []"
      ]
     },
     "execution_count": 4,
     "metadata": {},
     "output_type": "execute_result"
    }
   ],
   "source": [
    "co_sh2_soja=ncm_sh[ncm_sh.NO_SH2_POR.str.lower().str.contains('soja')][['CO_SH2','NO_SH2_POR']].drop_duplicates()\n",
    "co_sh2_soja"
   ]
  },
  {
   "cell_type": "code",
   "execution_count": 5,
   "id": "60a912c1-af22-4639-9c04-56dd5ac1f958",
   "metadata": {
    "scrolled": true
   },
   "outputs": [
    {
     "data": {
      "text/html": [
       "<div>\n",
       "<style scoped>\n",
       "    .dataframe tbody tr th:only-of-type {\n",
       "        vertical-align: middle;\n",
       "    }\n",
       "\n",
       "    .dataframe tbody tr th {\n",
       "        vertical-align: top;\n",
       "    }\n",
       "\n",
       "    .dataframe thead th {\n",
       "        text-align: right;\n",
       "    }\n",
       "</style>\n",
       "<table border=\"1\" class=\"dataframe\">\n",
       "  <thead>\n",
       "    <tr style=\"text-align: right;\">\n",
       "      <th></th>\n",
       "      <th>CO_SH4</th>\n",
       "      <th>NO_SH4_POR</th>\n",
       "    </tr>\n",
       "  </thead>\n",
       "  <tbody>\n",
       "    <tr>\n",
       "      <th>751</th>\n",
       "      <td>1201</td>\n",
       "      <td>Soja, mesmo triturada</td>\n",
       "    </tr>\n",
       "    <tr>\n",
       "      <th>853</th>\n",
       "      <td>1507</td>\n",
       "      <td>Óleo de soja e respectivas fracções, mesmo ref...</td>\n",
       "    </tr>\n",
       "    <tr>\n",
       "      <th>1107</th>\n",
       "      <td>2304</td>\n",
       "      <td>Tortas e outros resíduos sólidos da extração d...</td>\n",
       "    </tr>\n",
       "  </tbody>\n",
       "</table>\n",
       "</div>"
      ],
      "text/plain": [
       "      CO_SH4                                         NO_SH4_POR\n",
       "751     1201                              Soja, mesmo triturada\n",
       "853     1507  Óleo de soja e respectivas fracções, mesmo ref...\n",
       "1107    2304  Tortas e outros resíduos sólidos da extração d..."
      ]
     },
     "execution_count": 5,
     "metadata": {},
     "output_type": "execute_result"
    }
   ],
   "source": [
    "co_sh4_soja=ncm_sh[ncm_sh.NO_SH4_POR.str.lower().str.contains('soja')][['CO_SH4','NO_SH4_POR']].drop_duplicates()\n",
    "co_sh4_soja"
   ]
  },
  {
   "cell_type": "code",
   "execution_count": 6,
   "id": "b41b03b7-4c84-4162-8d6b-8642f9ac970f",
   "metadata": {},
   "outputs": [],
   "source": [
    "co_sh4_soja=co_sh4_soja[co_sh4_soja.index==751]"
   ]
  },
  {
   "cell_type": "code",
   "execution_count": 7,
   "id": "e932d593-e73e-4d49-ae6b-cf862ba8c1ea",
   "metadata": {
    "scrolled": true
   },
   "outputs": [
    {
     "data": {
      "text/html": [
       "<div>\n",
       "<style scoped>\n",
       "    .dataframe tbody tr th:only-of-type {\n",
       "        vertical-align: middle;\n",
       "    }\n",
       "\n",
       "    .dataframe tbody tr th {\n",
       "        vertical-align: top;\n",
       "    }\n",
       "\n",
       "    .dataframe thead th {\n",
       "        text-align: right;\n",
       "    }\n",
       "</style>\n",
       "<table border=\"1\" class=\"dataframe\">\n",
       "  <thead>\n",
       "    <tr style=\"text-align: right;\">\n",
       "      <th></th>\n",
       "      <th>CO_SH2</th>\n",
       "      <th>NO_SH2_POR</th>\n",
       "    </tr>\n",
       "  </thead>\n",
       "  <tbody>\n",
       "    <tr>\n",
       "      <th>629</th>\n",
       "      <td>9</td>\n",
       "      <td>Café, chá, mate e especiarias</td>\n",
       "    </tr>\n",
       "  </tbody>\n",
       "</table>\n",
       "</div>"
      ],
      "text/plain": [
       "     CO_SH2                     NO_SH2_POR\n",
       "629       9  Café, chá, mate e especiarias"
      ]
     },
     "execution_count": 7,
     "metadata": {},
     "output_type": "execute_result"
    }
   ],
   "source": [
    "co_sh2_café=ncm_sh[ncm_sh.NO_SH2_POR.str.lower().str.contains('café')][['CO_SH2','NO_SH2_POR']].drop_duplicates()\n",
    "co_sh2_café"
   ]
  },
  {
   "cell_type": "code",
   "execution_count": 8,
   "id": "e1864f54-44ed-41da-88d0-23b7c423849d",
   "metadata": {
    "scrolled": true
   },
   "outputs": [
    {
     "data": {
      "text/html": [
       "<div>\n",
       "<style scoped>\n",
       "    .dataframe tbody tr th:only-of-type {\n",
       "        vertical-align: middle;\n",
       "    }\n",
       "\n",
       "    .dataframe tbody tr th {\n",
       "        vertical-align: top;\n",
       "    }\n",
       "\n",
       "    .dataframe thead th {\n",
       "        text-align: right;\n",
       "    }\n",
       "</style>\n",
       "<table border=\"1\" class=\"dataframe\">\n",
       "  <thead>\n",
       "    <tr style=\"text-align: right;\">\n",
       "      <th></th>\n",
       "      <th>CO_SH4</th>\n",
       "      <th>NO_SH4_POR</th>\n",
       "    </tr>\n",
       "  </thead>\n",
       "  <tbody>\n",
       "    <tr>\n",
       "      <th>629</th>\n",
       "      <td>901</td>\n",
       "      <td>Café, mesmo torrado ou descafeinado; cascas e ...</td>\n",
       "    </tr>\n",
       "    <tr>\n",
       "      <th>1056</th>\n",
       "      <td>2101</td>\n",
       "      <td>Extractos, essências e concentrados de café, c...</td>\n",
       "    </tr>\n",
       "  </tbody>\n",
       "</table>\n",
       "</div>"
      ],
      "text/plain": [
       "      CO_SH4                                         NO_SH4_POR\n",
       "629      901  Café, mesmo torrado ou descafeinado; cascas e ...\n",
       "1056    2101  Extractos, essências e concentrados de café, c..."
      ]
     },
     "execution_count": 8,
     "metadata": {},
     "output_type": "execute_result"
    }
   ],
   "source": [
    "co_sh4_café=ncm_sh[ncm_sh.NO_SH4_POR.str.lower().str.contains('café')][['CO_SH4','NO_SH4_POR']].drop_duplicates()\n",
    "co_sh4_café"
   ]
  },
  {
   "cell_type": "code",
   "execution_count": 9,
   "id": "92e1282a-cf60-4fe1-8ddd-05a92530303e",
   "metadata": {},
   "outputs": [],
   "source": [
    "co_sh4_café=co_sh4_café[co_sh4_café.index==629]"
   ]
  },
  {
   "cell_type": "code",
   "execution_count": 10,
   "id": "37ed0cb5-75bd-4991-9d05-309fff470e00",
   "metadata": {
    "scrolled": true
   },
   "outputs": [
    {
     "data": {
      "text/html": [
       "<div>\n",
       "<style scoped>\n",
       "    .dataframe tbody tr th:only-of-type {\n",
       "        vertical-align: middle;\n",
       "    }\n",
       "\n",
       "    .dataframe tbody tr th {\n",
       "        vertical-align: top;\n",
       "    }\n",
       "\n",
       "    .dataframe thead th {\n",
       "        text-align: right;\n",
       "    }\n",
       "</style>\n",
       "<table border=\"1\" class=\"dataframe\">\n",
       "  <thead>\n",
       "    <tr style=\"text-align: right;\">\n",
       "      <th></th>\n",
       "      <th>CO_SH2</th>\n",
       "      <th>NO_SH2_POR</th>\n",
       "    </tr>\n",
       "  </thead>\n",
       "  <tbody>\n",
       "  </tbody>\n",
       "</table>\n",
       "</div>"
      ],
      "text/plain": [
       "Empty DataFrame\n",
       "Columns: [CO_SH2, NO_SH2_POR]\n",
       "Index: []"
      ]
     },
     "execution_count": 10,
     "metadata": {},
     "output_type": "execute_result"
    }
   ],
   "source": [
    "co_sh2_milho=ncm_sh[ncm_sh.NO_SH2_POR.str.lower().str.contains('milho')][['CO_SH2','NO_SH2_POR']].drop_duplicates()\n",
    "co_sh2_milho"
   ]
  },
  {
   "cell_type": "code",
   "execution_count": 11,
   "id": "85c7acc5-1f9c-4590-b73b-2a8569e4c1c4",
   "metadata": {
    "scrolled": true
   },
   "outputs": [
    {
     "data": {
      "text/html": [
       "<div>\n",
       "<style scoped>\n",
       "    .dataframe tbody tr th:only-of-type {\n",
       "        vertical-align: middle;\n",
       "    }\n",
       "\n",
       "    .dataframe tbody tr th {\n",
       "        vertical-align: top;\n",
       "    }\n",
       "\n",
       "    .dataframe thead th {\n",
       "        text-align: right;\n",
       "    }\n",
       "</style>\n",
       "<table border=\"1\" class=\"dataframe\">\n",
       "  <thead>\n",
       "    <tr style=\"text-align: right;\">\n",
       "      <th></th>\n",
       "      <th>CO_SH4</th>\n",
       "      <th>NO_SH4_POR</th>\n",
       "    </tr>\n",
       "  </thead>\n",
       "  <tbody>\n",
       "    <tr>\n",
       "      <th>674</th>\n",
       "      <td>910</td>\n",
       "      <td>Gengibre, açafrão, curcuma, tomilho, louro, ca...</td>\n",
       "    </tr>\n",
       "    <tr>\n",
       "      <th>698</th>\n",
       "      <td>1005</td>\n",
       "      <td>Milho</td>\n",
       "    </tr>\n",
       "    <tr>\n",
       "      <th>983</th>\n",
       "      <td>1904</td>\n",
       "      <td>Produtos à base de cereais, obtidos por expans...</td>\n",
       "    </tr>\n",
       "  </tbody>\n",
       "</table>\n",
       "</div>"
      ],
      "text/plain": [
       "     CO_SH4                                         NO_SH4_POR\n",
       "674     910  Gengibre, açafrão, curcuma, tomilho, louro, ca...\n",
       "698    1005                                              Milho\n",
       "983    1904  Produtos à base de cereais, obtidos por expans..."
      ]
     },
     "execution_count": 11,
     "metadata": {},
     "output_type": "execute_result"
    }
   ],
   "source": [
    "co_sh4_milho=ncm_sh[ncm_sh.NO_SH4_POR.str.lower().str.contains('milho')][['CO_SH4','NO_SH4_POR']].drop_duplicates()\n",
    "co_sh4_milho"
   ]
  },
  {
   "cell_type": "code",
   "execution_count": 12,
   "id": "e5084809-795a-4ec1-9f01-89037ac89f51",
   "metadata": {},
   "outputs": [],
   "source": [
    "co_sh4_milho=co_sh4_milho[co_sh4_milho.index==698]"
   ]
  },
  {
   "cell_type": "code",
   "execution_count": 13,
   "id": "413b5a8d-aef0-4bd0-bd9c-c79e96a417db",
   "metadata": {},
   "outputs": [
    {
     "data": {
      "text/html": [
       "<div>\n",
       "<style scoped>\n",
       "    .dataframe tbody tr th:only-of-type {\n",
       "        vertical-align: middle;\n",
       "    }\n",
       "\n",
       "    .dataframe tbody tr th {\n",
       "        vertical-align: top;\n",
       "    }\n",
       "\n",
       "    .dataframe thead th {\n",
       "        text-align: right;\n",
       "    }\n",
       "</style>\n",
       "<table border=\"1\" class=\"dataframe\">\n",
       "  <thead>\n",
       "    <tr style=\"text-align: right;\">\n",
       "      <th></th>\n",
       "      <th>CO_SH4</th>\n",
       "      <th>NO_SH4_POR</th>\n",
       "    </tr>\n",
       "  </thead>\n",
       "  <tbody>\n",
       "    <tr>\n",
       "      <th>751</th>\n",
       "      <td>1201</td>\n",
       "      <td>Soja, mesmo triturada</td>\n",
       "    </tr>\n",
       "    <tr>\n",
       "      <th>629</th>\n",
       "      <td>901</td>\n",
       "      <td>Café, mesmo torrado ou descafeinado; cascas e ...</td>\n",
       "    </tr>\n",
       "    <tr>\n",
       "      <th>698</th>\n",
       "      <td>1005</td>\n",
       "      <td>Milho</td>\n",
       "    </tr>\n",
       "  </tbody>\n",
       "</table>\n",
       "</div>"
      ],
      "text/plain": [
       "     CO_SH4                                         NO_SH4_POR\n",
       "751    1201                              Soja, mesmo triturada\n",
       "629     901  Café, mesmo torrado ou descafeinado; cascas e ...\n",
       "698    1005                                              Milho"
      ]
     },
     "execution_count": 13,
     "metadata": {},
     "output_type": "execute_result"
    }
   ],
   "source": [
    "co_sh4=pd.concat([co_sh4_soja,co_sh4_café,co_sh4_milho])\n",
    "co_sh4"
   ]
  },
  {
   "cell_type": "code",
   "execution_count": 14,
   "id": "c20d9ba8-220c-4759-b73a-ae5afd06ed4e",
   "metadata": {},
   "outputs": [
    {
     "data": {
      "text/plain": [
       "array([ 90111,  90112,  90121,  90122,  90190, 100510, 100590, 120100,\n",
       "       120110, 120190])"
      ]
     },
     "execution_count": 14,
     "metadata": {},
     "output_type": "execute_result"
    }
   ],
   "source": [
    "ncm_sh_list=ncm_sh[ncm_sh.CO_SH4.isin(co_sh4.CO_SH4)]['CO_SH6'].unique()\n",
    "ncm_sh_list"
=======
   "id": "4abc68c5-df08-4ec1-a6ef-53b6ecefcd51",
   "metadata": {
    "scrolled": true
   },
   "outputs": [],
   "source": [
    "co_sh2_soja=ncm_sh[ncm_sh.NO_SH2_POR.str.lower().str.contains('soja')][['CO_SH2','NO_SH2_POR']].drop_duplicates()\n",
    "\n",
    "co_sh4_soja=ncm_sh[ncm_sh.NO_SH4_POR.str.lower().str.contains('soja')][['CO_SH4','NO_SH4_POR']].drop_duplicates()\n",
    "\n",
    "co_sh4_soja=co_sh4_soja[co_sh4_soja.index==751]\n",
    "\n",
    "co_sh2_café=ncm_sh[ncm_sh.NO_SH2_POR.str.lower().str.contains('café')][['CO_SH2','NO_SH2_POR']].drop_duplicates()\n",
    "\n",
    "co_sh4_café=ncm_sh[ncm_sh.NO_SH4_POR.str.lower().str.contains('café')][['CO_SH4','NO_SH4_POR']].drop_duplicates()\n",
    "\n",
    "co_sh4_café=co_sh4_café[co_sh4_café.index==629]\n",
    "\n",
    "co_sh2_milho=ncm_sh[ncm_sh.NO_SH2_POR.str.lower().str.contains('milho')][['CO_SH2','NO_SH2_POR']].drop_duplicates()\n",
    "\n",
    "co_sh4_milho=ncm_sh[ncm_sh.NO_SH4_POR.str.lower().str.contains('milho')][['CO_SH4','NO_SH4_POR']].drop_duplicates()\n",
    "\n",
    "co_sh4_milho=co_sh4_milho[co_sh4_milho.index==698]\n",
    "\n",
    "co_sh4=pd.concat([co_sh4_soja,co_sh4_café,co_sh4_milho])\n",
    "\n",
    "ncm_sh_list=ncm_sh[ncm_sh.CO_SH4.isin(co_sh4.CO_SH4)]['CO_SH6'].unique()"
>>>>>>> 3e1ee36 (Initial commit)
   ]
  },
  {
   "cell_type": "markdown",
   "id": "64b7bd7d-85c6-4750-acd6-31ae280ee409",
   "metadata": {},
   "source": [
    "Lê tabela com código comum ao Mercosul, que é o de maior especificação de produto."
   ]
  },
  {
   "cell_type": "code",
<<<<<<< HEAD
   "execution_count": 15,
   "id": "40059b6c-1334-47a8-97c2-df0bebea3212",
   "metadata": {},
   "outputs": [
    {
     "name": "stdout",
     "output_type": "stream",
     "text": [
      "<class 'pandas.core.frame.DataFrame'>\n",
      "RangeIndex: 13654 entries, 0 to 13653\n",
      "Data columns (total 14 columns):\n",
      " #   Column          Non-Null Count  Dtype  \n",
      "---  ------          --------------  -----  \n",
      " 0   CO_NCM          13654 non-null  int64  \n",
      " 1   CO_UNID         13654 non-null  int64  \n",
      " 2   CO_SH6          13654 non-null  int64  \n",
      " 3   CO_PPE          13361 non-null  float64\n",
      " 4   CO_PPI          13361 non-null  float64\n",
      " 5   CO_FAT_AGREG    13634 non-null  float64\n",
      " 6   CO_CUCI_ITEM    13654 non-null  object \n",
      " 7   CO_CGCE_N3      13654 non-null  int64  \n",
      " 8   CO_SIIT         13361 non-null  float64\n",
      " 9   CO_ISIC_CLASSE  13654 non-null  int64  \n",
      " 10  CO_EXP_SUBSET   13360 non-null  float64\n",
      " 11  NO_NCM_POR      13654 non-null  object \n",
      " 12  NO_NCM_ESP      13654 non-null  object \n",
      " 13  NO_NCM_ING      13654 non-null  object \n",
      "dtypes: float64(5), int64(5), object(4)\n",
      "memory usage: 1.5+ MB\n"
     ]
    }
   ],
   "source": [
    "ncm=pd.read_csv('~/git/BD/Comexstat/tab_complementares/NCM.csv',encoding='Latin-1',sep=';')\n",
    "ncm.info()"
=======
   "execution_count": 5,
   "id": "85b98a6a-bd74-40e8-8d84-6ff6dbed71c5",
   "metadata": {},
   "outputs": [],
   "source": [
    "ncm=pd.read_csv('~/git/BD/Comexstat/tab_complementares/NCM.csv',encoding='Latin-1',sep=';')"
>>>>>>> 3e1ee36 (Initial commit)
   ]
  },
  {
   "cell_type": "markdown",
   "id": "ba581b4f-111c-49a3-91a6-1f6878adf24f",
   "metadata": {},
   "source": [
    "Na última tabela de NCM, localizamos os códigos NCM que se relacionam aos SH6 de fertilizantes."
   ]
  },
  {
   "cell_type": "code",
<<<<<<< HEAD
   "execution_count": 16,
   "id": "5a4f98ba-8836-480f-b874-03d86280da12",
   "metadata": {},
   "outputs": [
    {
     "data": {
      "text/plain": [
       "array([ 9011110,  9011190,  9011200,  9012100,  9012200,  9019000,\n",
       "       10051000, 10059010, 10059090, 12010010, 12010090, 12011000,\n",
       "       12019000])"
      ]
     },
     "execution_count": 16,
     "metadata": {},
     "output_type": "execute_result"
    }
   ],
   "source": [
    "list_ncm_exp_agr=ncm[ncm.CO_SH6.isin(ncm_sh_list)].CO_NCM.unique()\n",
    "list_ncm_exp_agr"
=======
   "execution_count": 6,
   "id": "28108314-2c54-4fa6-b62a-23ebb5df96a5",
   "metadata": {},
   "outputs": [],
   "source": [
    "list_ncm_exp_agr=ncm[ncm.CO_SH6.isin(ncm_sh_list)].CO_NCM.unique()"
>>>>>>> 3e1ee36 (Initial commit)
   ]
  },
  {
   "cell_type": "raw",
   "id": "ec327a28-c6eb-47df-9f8e-cfba5337efbb",
   "metadata": {},
   "source": [
    "Identificando o interior do arquivo EXP_COMPLETA.zip"
   ]
  },
  {
   "cell_type": "code",
<<<<<<< HEAD
   "execution_count": 17,
=======
   "execution_count": 7,
   "id": "c096c7f6-138e-47e1-bced-239a614e976b",
   "metadata": {},
   "outputs": [
    {
     "name": "stdout",
     "output_type": "stream",
     "text": [
      "Verificando se o arquivo existe: /home/andre301267/git/BD/temp/EXP_COMPLETA.zip\n",
      "Arquivo existe: True\n"
     ]
    }
   ],
   "source": [
    "import os\n",
    "\n",
    "caminho_arquivo_zip = os.path.expanduser('~/git/BD/temp/EXP_COMPLETA.zip')\n",
    "print(f\"Verificando se o arquivo existe: {caminho_arquivo_zip}\")\n",
    "print(f\"Arquivo existe: {os.path.exists(caminho_arquivo_zip)}\")\n"
   ]
  },
  {
   "cell_type": "code",
   "execution_count": 10,
>>>>>>> 3e1ee36 (Initial commit)
   "id": "c0cebd6d-4b9e-473e-8fac-a9243ac2ecdd",
   "metadata": {},
   "outputs": [
    {
     "name": "stdout",
     "output_type": "stream",
     "text": [
      "EXP_COMPLETA.csv\n"
     ]
    }
   ],
   "source": [
    "import zipfile\n",
    "\n",
<<<<<<< HEAD
    "# Caminho para o arquivo ZIP\n",
    "caminho_arquivo_zip = 'EXP_COMPLETA.zip'\n",
    "\n",
=======
    "#caminho_arquivo_zip ='Meus arquivos/Arquivos do Linux/git/BD/temp/EXP_COMPLETA.zip'\n",
>>>>>>> 3e1ee36 (Initial commit)
    "# Abre o arquivo ZIP em modo leitura\n",
    "with zipfile.ZipFile(caminho_arquivo_zip, 'r') as zip_ref:\n",
    "    # Lista o conteúdo do arquivo ZIP\n",
    "    for info in zip_ref.infolist():\n",
    "        print(info.filename)\n"
   ]
  },
  {
   "cell_type": "raw",
   "id": "d1a5988a-12a7-461d-a4a8-ec934fd4c54d",
   "metadata": {},
   "source": [
    "Identificando as primeiras linhas do arquivo EXP_COMPLETA.csv"
   ]
  },
  {
   "cell_type": "code",
<<<<<<< HEAD
   "execution_count": 18,
=======
   "execution_count": 12,
>>>>>>> 3e1ee36 (Initial commit)
   "id": "2e850eed-3afd-454d-b299-45ba31f8df39",
   "metadata": {},
   "outputs": [
    {
     "data": {
      "text/html": [
       "<div>\n",
       "<style scoped>\n",
       "    .dataframe tbody tr th:only-of-type {\n",
       "        vertical-align: middle;\n",
       "    }\n",
       "\n",
       "    .dataframe tbody tr th {\n",
       "        vertical-align: top;\n",
       "    }\n",
       "\n",
       "    .dataframe thead th {\n",
       "        text-align: right;\n",
       "    }\n",
       "</style>\n",
       "<table border=\"1\" class=\"dataframe\">\n",
       "  <thead>\n",
       "    <tr style=\"text-align: right;\">\n",
       "      <th></th>\n",
       "      <th>CO_ANO</th>\n",
       "      <th>CO_MES</th>\n",
       "      <th>CO_NCM</th>\n",
       "      <th>CO_UNID</th>\n",
       "      <th>CO_PAIS</th>\n",
       "      <th>SG_UF_NCM</th>\n",
       "      <th>CO_VIA</th>\n",
       "      <th>CO_URF</th>\n",
       "      <th>QT_ESTAT</th>\n",
       "      <th>KG_LIQUIDO</th>\n",
       "      <th>VL_FOB</th>\n",
       "    </tr>\n",
       "  </thead>\n",
       "  <tbody>\n",
       "    <tr>\n",
       "      <th>0</th>\n",
       "      <td>1997</td>\n",
       "      <td>11</td>\n",
<<<<<<< HEAD
       "      <td>74122000</td>\n",
       "      <td>10</td>\n",
       "      <td>249</td>\n",
       "      <td>SP</td>\n",
       "      <td>4</td>\n",
       "      <td>817600</td>\n",
       "      <td>0</td>\n",
       "      <td>0</td>\n",
       "      <td>3</td>\n",
=======
       "      <td>20079990</td>\n",
       "      <td>10</td>\n",
       "      <td>158</td>\n",
       "      <td>RJ</td>\n",
       "      <td>4</td>\n",
       "      <td>717700</td>\n",
       "      <td>0</td>\n",
       "      <td>200</td>\n",
       "      <td>540</td>\n",
>>>>>>> 3e1ee36 (Initial commit)
       "    </tr>\n",
       "    <tr>\n",
       "      <th>1</th>\n",
       "      <td>1997</td>\n",
       "      <td>11</td>\n",
<<<<<<< HEAD
       "      <td>73082000</td>\n",
       "      <td>10</td>\n",
       "      <td>97</td>\n",
       "      <td>MG</td>\n",
       "      <td>7</td>\n",
       "      <td>130151</td>\n",
       "      <td>0</td>\n",
       "      <td>4292</td>\n",
       "      <td>6442</td>\n",
=======
       "      <td>48064000</td>\n",
       "      <td>10</td>\n",
       "      <td>63</td>\n",
       "      <td>SP</td>\n",
       "      <td>7</td>\n",
       "      <td>1010900</td>\n",
       "      <td>0</td>\n",
       "      <td>58792</td>\n",
       "      <td>90186</td>\n",
>>>>>>> 3e1ee36 (Initial commit)
       "    </tr>\n",
       "    <tr>\n",
       "      <th>2</th>\n",
       "      <td>1997</td>\n",
       "      <td>11</td>\n",
<<<<<<< HEAD
       "      <td>84248119</td>\n",
       "      <td>11</td>\n",
       "      <td>196</td>\n",
       "      <td>SP</td>\n",
       "      <td>1</td>\n",
       "      <td>817800</td>\n",
       "      <td>32</td>\n",
       "      <td>3468</td>\n",
       "      <td>31510</td>\n",
=======
       "      <td>2071300</td>\n",
       "      <td>10</td>\n",
       "      <td>351</td>\n",
       "      <td>SC</td>\n",
       "      <td>1</td>\n",
       "      <td>925100</td>\n",
       "      <td>0</td>\n",
       "      <td>57165</td>\n",
       "      <td>20767</td>\n",
>>>>>>> 3e1ee36 (Initial commit)
       "    </tr>\n",
       "    <tr>\n",
       "      <th>3</th>\n",
       "      <td>1997</td>\n",
       "      <td>11</td>\n",
<<<<<<< HEAD
       "      <td>48239090</td>\n",
       "      <td>10</td>\n",
       "      <td>586</td>\n",
       "      <td>MN</td>\n",
       "      <td>9</td>\n",
       "      <td>910600</td>\n",
       "      <td>0</td>\n",
       "      <td>0</td>\n",
       "      <td>1</td>\n",
=======
       "      <td>19021100</td>\n",
       "      <td>10</td>\n",
       "      <td>586</td>\n",
       "      <td>MS</td>\n",
       "      <td>9</td>\n",
       "      <td>910600</td>\n",
       "      <td>0</td>\n",
       "      <td>12</td>\n",
       "      <td>9</td>\n",
>>>>>>> 3e1ee36 (Initial commit)
       "    </tr>\n",
       "    <tr>\n",
       "      <th>4</th>\n",
       "      <td>1997</td>\n",
       "      <td>11</td>\n",
<<<<<<< HEAD
       "      <td>72112910</td>\n",
       "      <td>10</td>\n",
       "      <td>850</td>\n",
       "      <td>SP</td>\n",
       "      <td>1</td>\n",
       "      <td>817800</td>\n",
       "      <td>118</td>\n",
       "      <td>117505</td>\n",
       "      <td>103866</td>\n",
=======
       "      <td>90319090</td>\n",
       "      <td>10</td>\n",
       "      <td>40</td>\n",
       "      <td>ND</td>\n",
       "      <td>4</td>\n",
       "      <td>717700</td>\n",
       "      <td>0</td>\n",
       "      <td>6</td>\n",
       "      <td>250</td>\n",
>>>>>>> 3e1ee36 (Initial commit)
       "    </tr>\n",
       "  </tbody>\n",
       "</table>\n",
       "</div>"
      ],
      "text/plain": [
<<<<<<< HEAD
       "   CO_ANO  CO_MES    CO_NCM  CO_UNID  CO_PAIS SG_UF_NCM  CO_VIA  CO_URF  \\\n",
       "0    1997      11  74122000       10      249        SP       4  817600   \n",
       "1    1997      11  73082000       10       97        MG       7  130151   \n",
       "2    1997      11  84248119       11      196        SP       1  817800   \n",
       "3    1997      11  48239090       10      586        MN       9  910600   \n",
       "4    1997      11  72112910       10      850        SP       1  817800   \n",
       "\n",
       "   QT_ESTAT  KG_LIQUIDO  VL_FOB  \n",
       "0         0           0       3  \n",
       "1         0        4292    6442  \n",
       "2        32        3468   31510  \n",
       "3         0           0       1  \n",
       "4       118      117505  103866  "
=======
       "   CO_ANO  CO_MES    CO_NCM  CO_UNID  CO_PAIS SG_UF_NCM  CO_VIA   CO_URF  \\\n",
       "0    1997      11  20079990       10      158        RJ       4   717700   \n",
       "1    1997      11  48064000       10       63        SP       7  1010900   \n",
       "2    1997      11   2071300       10      351        SC       1   925100   \n",
       "3    1997      11  19021100       10      586        MS       9   910600   \n",
       "4    1997      11  90319090       10       40        ND       4   717700   \n",
       "\n",
       "   QT_ESTAT  KG_LIQUIDO  VL_FOB  \n",
       "0         0         200     540  \n",
       "1         0       58792   90186  \n",
       "2         0       57165   20767  \n",
       "3         0          12       9  \n",
       "4         0           6     250  "
>>>>>>> 3e1ee36 (Initial commit)
      ]
     },
     "metadata": {},
     "output_type": "display_data"
    }
   ],
   "source": [
<<<<<<< HEAD
    "import zipfile\n",
    "import pandas as pd\n",
    "import os\n",
    "\n",
    "# Caminho para o arquivo ZIP\n",
    "caminho_arquivo_zip = '~/git/BD/Comexstat/EXP_COMPLETA/EXP_COMPLETA.zip'\n",
    "\n",
    "# Expandir o caminho com ~ para o diretório raiz do usuário\n",
    "caminho_completo = os.path.expanduser(caminho_arquivo_zip)\n",
    "\n",
=======
    "import os\n",
    "\n",
>>>>>>> 3e1ee36 (Initial commit)
    "# Número de linhas a serem lidas\n",
    "num_linhas = 5  # Defina o número de linhas que deseja exibir\n",
    "\n",
    "# Abrir o arquivo ZIP em modo leitura\n",
<<<<<<< HEAD
    "with zipfile.ZipFile(caminho_completo, 'r') as zip_ref:\n",
=======
    "with zipfile.ZipFile(caminho_arquivo_zip, 'r') as zip_ref:\n",
>>>>>>> 3e1ee36 (Initial commit)
    "    # Extrair o arquivo CSV temporariamente\n",
    "    with zip_ref.open('EXP_COMPLETA.csv') as csv_file:\n",
    "        # Ler as primeiras linhas do arquivo CSV\n",
    "        df = pd.read_csv(csv_file, nrows=num_linhas, encoding='Latin-1',sep=';')\n",
    "        # Exibir as primeiras linhas em formato de tabela\n",
    "        display(df)\n"
   ]
  },
  {
   "cell_type": "code",
<<<<<<< HEAD
   "execution_count": 19,
=======
   "execution_count": 14,
   "id": "f64b0163-e6f8-48b3-8c2f-57be58a6631d",
   "metadata": {},
   "outputs": [
    {
     "name": "stdout",
     "output_type": "stream",
     "text": [
      "Verificando se o arquivo existe: /home/andre301267/git/BD/temp/EXP_COMPLETA.zip\n",
      "Arquivo existe: True\n"
     ]
    }
   ],
   "source": [
    "import os\n",
    "\n",
    "caminho_arquivo_zip = os.path.expanduser('~/git/BD/temp/EXP_COMPLETA.zip')\n",
    "print(f\"Verificando se o arquivo existe: {caminho_arquivo_zip}\")\n",
    "print(f\"Arquivo existe: {os.path.exists(caminho_arquivo_zip)}\")\n"
   ]
  },
  {
   "cell_type": "code",
   "execution_count": 15,
>>>>>>> 3e1ee36 (Initial commit)
   "id": "bc2add2c-4fac-4b20-acc0-fc997ea2301b",
   "metadata": {},
   "outputs": [
    {
     "data": {
      "text/html": [
       "<div>\n",
       "<style scoped>\n",
       "    .dataframe tbody tr th:only-of-type {\n",
       "        vertical-align: middle;\n",
       "    }\n",
       "\n",
       "    .dataframe tbody tr th {\n",
       "        vertical-align: top;\n",
       "    }\n",
       "\n",
       "    .dataframe thead th {\n",
       "        text-align: right;\n",
       "    }\n",
       "</style>\n",
       "<table border=\"1\" class=\"dataframe\">\n",
       "  <thead>\n",
       "    <tr style=\"text-align: right;\">\n",
       "      <th></th>\n",
       "      <th>CO_ANO</th>\n",
       "      <th>CO_MES</th>\n",
       "      <th>CO_NCM</th>\n",
       "      <th>CO_UNID</th>\n",
       "      <th>CO_PAIS</th>\n",
       "      <th>SG_UF_NCM</th>\n",
       "      <th>CO_VIA</th>\n",
       "      <th>CO_URF</th>\n",
       "      <th>QT_ESTAT</th>\n",
       "      <th>KG_LIQUIDO</th>\n",
       "      <th>VL_FOB</th>\n",
       "    </tr>\n",
       "  </thead>\n",
       "  <tbody>\n",
       "    <tr>\n",
<<<<<<< HEAD
       "      <th>156</th>\n",
=======
       "      <th>86</th>\n",
>>>>>>> 3e1ee36 (Initial commit)
       "      <td>1997</td>\n",
       "      <td>3</td>\n",
       "      <td>12010090</td>\n",
       "      <td>21</td>\n",
       "      <td>573</td>\n",
       "      <td>PR</td>\n",
       "      <td>1</td>\n",
       "      <td>915100</td>\n",
       "      <td>211741</td>\n",
       "      <td>211741810</td>\n",
       "      <td>59211521</td>\n",
       "    </tr>\n",
       "    <tr>\n",
<<<<<<< HEAD
       "      <th>221</th>\n",
=======
       "      <th>296</th>\n",
>>>>>>> 3e1ee36 (Initial commit)
       "      <td>1997</td>\n",
       "      <td>3</td>\n",
       "      <td>9011110</td>\n",
       "      <td>21</td>\n",
<<<<<<< HEAD
       "      <td>628</td>\n",
       "      <td>SP</td>\n",
       "      <td>1</td>\n",
       "      <td>817800</td>\n",
       "      <td>144</td>\n",
       "      <td>144600</td>\n",
       "      <td>514399</td>\n",
       "    </tr>\n",
       "    <tr>\n",
       "      <th>301</th>\n",
       "      <td>1997</td>\n",
       "      <td>11</td>\n",
       "      <td>9011110</td>\n",
       "      <td>21</td>\n",
       "      <td>249</td>\n",
       "      <td>SP</td>\n",
       "      <td>1</td>\n",
       "      <td>817800</td>\n",
       "      <td>1623</td>\n",
       "      <td>1625460</td>\n",
       "      <td>5633996</td>\n",
       "    </tr>\n",
       "    <tr>\n",
       "      <th>959</th>\n",
       "      <td>1997</td>\n",
       "      <td>7</td>\n",
       "      <td>12010090</td>\n",
       "      <td>21</td>\n",
       "      <td>573</td>\n",
       "      <td>MT</td>\n",
       "      <td>1</td>\n",
       "      <td>220100</td>\n",
       "      <td>124837</td>\n",
       "      <td>124836678</td>\n",
       "      <td>36792693</td>\n",
       "    </tr>\n",
       "    <tr>\n",
       "      <th>1026</th>\n",
=======
       "      <td>301</td>\n",
       "      <td>MG</td>\n",
       "      <td>1</td>\n",
       "      <td>727600</td>\n",
       "      <td>537</td>\n",
       "      <td>537600</td>\n",
       "      <td>1604127</td>\n",
       "    </tr>\n",
       "    <tr>\n",
       "      <th>355</th>\n",
>>>>>>> 3e1ee36 (Initial commit)
       "      <td>1997</td>\n",
       "      <td>8</td>\n",
       "      <td>9011110</td>\n",
       "      <td>21</td>\n",
<<<<<<< HEAD
       "      <td>87</td>\n",
       "      <td>MG</td>\n",
       "      <td>1</td>\n",
       "      <td>817800</td>\n",
       "      <td>1845</td>\n",
       "      <td>1847400</td>\n",
       "      <td>6755979</td>\n",
=======
       "      <td>355</td>\n",
       "      <td>ES</td>\n",
       "      <td>1</td>\n",
       "      <td>727600</td>\n",
       "      <td>270</td>\n",
       "      <td>268800</td>\n",
       "      <td>695994</td>\n",
       "    </tr>\n",
       "    <tr>\n",
       "      <th>512</th>\n",
       "      <td>1997</td>\n",
       "      <td>4</td>\n",
       "      <td>9011110</td>\n",
       "      <td>21</td>\n",
       "      <td>190</td>\n",
       "      <td>ND</td>\n",
       "      <td>1</td>\n",
       "      <td>817800</td>\n",
       "      <td>168</td>\n",
       "      <td>168000</td>\n",
       "      <td>609282</td>\n",
       "    </tr>\n",
       "    <tr>\n",
       "      <th>875</th>\n",
       "      <td>1997</td>\n",
       "      <td>7</td>\n",
       "      <td>9011110</td>\n",
       "      <td>21</td>\n",
       "      <td>275</td>\n",
       "      <td>MG</td>\n",
       "      <td>1</td>\n",
       "      <td>817800</td>\n",
       "      <td>1515</td>\n",
       "      <td>1520340</td>\n",
       "      <td>5668036</td>\n",
>>>>>>> 3e1ee36 (Initial commit)
       "    </tr>\n",
       "    <tr>\n",
       "      <th>...</th>\n",
       "      <td>...</td>\n",
       "      <td>...</td>\n",
       "      <td>...</td>\n",
       "      <td>...</td>\n",
       "      <td>...</td>\n",
       "      <td>...</td>\n",
       "      <td>...</td>\n",
       "      <td>...</td>\n",
       "      <td>...</td>\n",
       "      <td>...</td>\n",
       "      <td>...</td>\n",
       "    </tr>\n",
       "    <tr>\n",
<<<<<<< HEAD
       "      <th>27807337</th>\n",
       "      <td>2024</td>\n",
       "      <td>2</td>\n",
       "      <td>9011110</td>\n",
       "      <td>21</td>\n",
       "      <td>245</td>\n",
       "      <td>BA</td>\n",
       "      <td>1</td>\n",
       "      <td>717600</td>\n",
       "      <td>38</td>\n",
       "      <td>38268</td>\n",
       "      <td>114356</td>\n",
       "    </tr>\n",
       "    <tr>\n",
       "      <th>27807601</th>\n",
       "      <td>2024</td>\n",
       "      <td>1</td>\n",
       "      <td>9012100</td>\n",
       "      <td>10</td>\n",
       "      <td>434</td>\n",
       "      <td>AL</td>\n",
       "      <td>1</td>\n",
       "      <td>440151</td>\n",
       "      <td>5</td>\n",
       "      <td>5</td>\n",
       "      <td>115</td>\n",
       "    </tr>\n",
       "    <tr>\n",
       "      <th>27808086</th>\n",
       "      <td>2024</td>\n",
       "      <td>2</td>\n",
       "      <td>9011110</td>\n",
       "      <td>21</td>\n",
       "      <td>573</td>\n",
       "      <td>MG</td>\n",
       "      <td>4</td>\n",
       "      <td>817700</td>\n",
       "      <td>0</td>\n",
       "      <td>1</td>\n",
       "      <td>2</td>\n",
       "    </tr>\n",
       "    <tr>\n",
       "      <th>27808129</th>\n",
       "      <td>2024</td>\n",
       "      <td>3</td>\n",
       "      <td>9012100</td>\n",
       "      <td>10</td>\n",
       "      <td>245</td>\n",
       "      <td>SP</td>\n",
       "      <td>4</td>\n",
       "      <td>817600</td>\n",
       "      <td>8</td>\n",
       "      <td>8</td>\n",
       "      <td>882</td>\n",
       "    </tr>\n",
       "    <tr>\n",
       "      <th>27808227</th>\n",
       "      <td>2024</td>\n",
       "      <td>3</td>\n",
       "      <td>12019000</td>\n",
       "      <td>21</td>\n",
       "      <td>628</td>\n",
       "      <td>BA</td>\n",
       "      <td>1</td>\n",
       "      <td>317903</td>\n",
       "      <td>3000</td>\n",
       "      <td>3000000</td>\n",
       "      <td>1147350</td>\n",
       "    </tr>\n",
       "  </tbody>\n",
       "</table>\n",
       "<p>157657 rows × 11 columns</p>\n",
=======
       "      <th>28207152</th>\n",
       "      <td>2024</td>\n",
       "      <td>6</td>\n",
       "      <td>9011110</td>\n",
       "      <td>21</td>\n",
       "      <td>245</td>\n",
       "      <td>PR</td>\n",
       "      <td>1</td>\n",
       "      <td>817800</td>\n",
       "      <td>126</td>\n",
       "      <td>126000</td>\n",
       "      <td>479898</td>\n",
       "    </tr>\n",
       "    <tr>\n",
       "      <th>28207161</th>\n",
       "      <td>2024</td>\n",
       "      <td>3</td>\n",
       "      <td>9011190</td>\n",
       "      <td>10</td>\n",
       "      <td>351</td>\n",
       "      <td>ES</td>\n",
       "      <td>1</td>\n",
       "      <td>727600</td>\n",
       "      <td>5</td>\n",
       "      <td>5</td>\n",
       "      <td>34</td>\n",
       "    </tr>\n",
       "    <tr>\n",
       "      <th>28207257</th>\n",
       "      <td>2024</td>\n",
       "      <td>6</td>\n",
       "      <td>10059090</td>\n",
       "      <td>10</td>\n",
       "      <td>476</td>\n",
       "      <td>MA</td>\n",
       "      <td>1</td>\n",
       "      <td>317903</td>\n",
       "      <td>10</td>\n",
       "      <td>10</td>\n",
       "      <td>27</td>\n",
       "    </tr>\n",
       "    <tr>\n",
       "      <th>28207398</th>\n",
       "      <td>2024</td>\n",
       "      <td>5</td>\n",
       "      <td>10059090</td>\n",
       "      <td>10</td>\n",
       "      <td>249</td>\n",
       "      <td>PR</td>\n",
       "      <td>1</td>\n",
       "      <td>817800</td>\n",
       "      <td>96</td>\n",
       "      <td>96</td>\n",
       "      <td>161</td>\n",
       "    </tr>\n",
       "    <tr>\n",
       "      <th>28207462</th>\n",
       "      <td>2024</td>\n",
       "      <td>2</td>\n",
       "      <td>10059010</td>\n",
       "      <td>10</td>\n",
       "      <td>105</td>\n",
       "      <td>RS</td>\n",
       "      <td>1</td>\n",
       "      <td>1017700</td>\n",
       "      <td>10</td>\n",
       "      <td>10</td>\n",
       "      <td>13</td>\n",
       "    </tr>\n",
       "  </tbody>\n",
       "</table>\n",
       "<p>160581 rows × 11 columns</p>\n",
>>>>>>> 3e1ee36 (Initial commit)
       "</div>"
      ],
      "text/plain": [
       "          CO_ANO  CO_MES    CO_NCM  CO_UNID  CO_PAIS SG_UF_NCM  CO_VIA  \\\n",
<<<<<<< HEAD
       "156         1997       3  12010090       21      573        PR       1   \n",
       "221         1997       3   9011110       21      628        SP       1   \n",
       "301         1997      11   9011110       21      249        SP       1   \n",
       "959         1997       7  12010090       21      573        MT       1   \n",
       "1026        1997       8   9011110       21       87        MG       1   \n",
       "...          ...     ...       ...      ...      ...       ...     ...   \n",
       "27807337    2024       2   9011110       21      245        BA       1   \n",
       "27807601    2024       1   9012100       10      434        AL       1   \n",
       "27808086    2024       2   9011110       21      573        MG       4   \n",
       "27808129    2024       3   9012100       10      245        SP       4   \n",
       "27808227    2024       3  12019000       21      628        BA       1   \n",
       "\n",
       "          CO_URF  QT_ESTAT  KG_LIQUIDO    VL_FOB  \n",
       "156       915100    211741   211741810  59211521  \n",
       "221       817800       144      144600    514399  \n",
       "301       817800      1623     1625460   5633996  \n",
       "959       220100    124837   124836678  36792693  \n",
       "1026      817800      1845     1847400   6755979  \n",
       "...          ...       ...         ...       ...  \n",
       "27807337  717600        38       38268    114356  \n",
       "27807601  440151         5           5       115  \n",
       "27808086  817700         0           1         2  \n",
       "27808129  817600         8           8       882  \n",
       "27808227  317903      3000     3000000   1147350  \n",
       "\n",
       "[157657 rows x 11 columns]"
=======
       "86          1997       3  12010090       21      573        PR       1   \n",
       "296         1997       3   9011110       21      301        MG       1   \n",
       "355         1997       8   9011110       21      355        ES       1   \n",
       "512         1997       4   9011110       21      190        ND       1   \n",
       "875         1997       7   9011110       21      275        MG       1   \n",
       "...          ...     ...       ...      ...      ...       ...     ...   \n",
       "28207152    2024       6   9011110       21      245        PR       1   \n",
       "28207161    2024       3   9011190       10      351        ES       1   \n",
       "28207257    2024       6  10059090       10      476        MA       1   \n",
       "28207398    2024       5  10059090       10      249        PR       1   \n",
       "28207462    2024       2  10059010       10      105        RS       1   \n",
       "\n",
       "           CO_URF  QT_ESTAT  KG_LIQUIDO    VL_FOB  \n",
       "86         915100    211741   211741810  59211521  \n",
       "296        727600       537      537600   1604127  \n",
       "355        727600       270      268800    695994  \n",
       "512        817800       168      168000    609282  \n",
       "875        817800      1515     1520340   5668036  \n",
       "...           ...       ...         ...       ...  \n",
       "28207152   817800       126      126000    479898  \n",
       "28207161   727600         5           5        34  \n",
       "28207257   317903        10          10        27  \n",
       "28207398   817800        96          96       161  \n",
       "28207462  1017700        10          10        13  \n",
       "\n",
       "[160581 rows x 11 columns]"
>>>>>>> 3e1ee36 (Initial commit)
      ]
     },
     "metadata": {},
     "output_type": "display_data"
    }
   ],
   "source": [
<<<<<<< HEAD
    "import zipfile\n",
    "import pandas as pd\n",
    "\n",
    "# Caminho para o arquivo ZIP\n",
    "caminho_arquivo_zip = 'EXP_COMPLETA.zip'\n",
    "\n",
=======
>>>>>>> 3e1ee36 (Initial commit)
    "# Função para filtrar as linhas do DataFrame com base na coluna 'CO_NCM'\n",
    "def filtrar_chunk(chunk):\n",
    "    return chunk[chunk['CO_NCM'].isin(list_ncm_exp_agr)]\n",
    "\n",
    "# Tamanho do chunk\n",
    "chunk_size = 10000  # Defina o tamanho do chunk conforme necessário\n",
    "\n",
    "exp_agr=pd.DataFrame()\n",
    "\n",
    "# Abrir o arquivo ZIP em modo leitura\n",
    "with zipfile.ZipFile(caminho_arquivo_zip, 'r') as zip_ref:\n",
    "    # Extrair o arquivo CSV temporariamente\n",
    "    with zip_ref.open('EXP_COMPLETA.csv') as csv_file:\n",
    "        # Ler o arquivo CSV em chunks\n",
    "        chunks = pd.read_csv(csv_file, chunksize=chunk_size, encoding='Latin-1', sep=';')\n",
    "        \n",
    "        # Iterar sobre os chunks\n",
    "        for chunk in chunks:\n",
    "            # Filtrar o chunk\n",
    "            chunk_filtrado = filtrar_chunk(chunk)\n",
    "            \n",
    "            # Exibir o chunk filtrado (ou realizar outra ação, como processamento adicional)\n",
    "            exp_agr=pd.concat([exp_agr,chunk_filtrado])\n",
    "\n",
    "\n",
    "display(exp_agr)"
   ]
  },
  {
   "cell_type": "code",
<<<<<<< HEAD
   "execution_count": 20,
   "id": "de0bf7a0-0cdc-4680-ba4b-efadd6eb164a",
   "metadata": {},
   "outputs": [
    {
     "data": {
      "text/plain": [
       "'/home/andre301267/git/BD/Comexstat/EXP_COMPLETA'"
      ]
     },
     "execution_count": 20,
     "metadata": {},
     "output_type": "execute_result"
    }
   ],
   "source": [
    "import os\n",
    "os.getcwd()"
   ]
  },
  {
   "cell_type": "code",
   "execution_count": 21,
=======
   "execution_count": 16,
>>>>>>> 3e1ee36 (Initial commit)
   "id": "4365be19-9cd1-4ca1-8a6f-c147725884ba",
   "metadata": {},
   "outputs": [],
   "source": [
    "exp_agr.to_csv('~/git/BD/temp/exp_agr1.csv', index=False)"
   ]
<<<<<<< HEAD
=======
  },
  {
   "cell_type": "code",
   "execution_count": null,
   "id": "ee2b2eff-c769-4d21-88cc-4fdc37e23570",
   "metadata": {},
   "outputs": [],
   "source": []
>>>>>>> 3e1ee36 (Initial commit)
  }
 ],
 "metadata": {
  "kernelspec": {
   "display_name": "Python 3 (ipykernel)",
   "language": "python",
   "name": "python3"
  },
  "language_info": {
   "codemirror_mode": {
    "name": "ipython",
    "version": 3
   },
   "file_extension": ".py",
   "mimetype": "text/x-python",
   "name": "python",
   "nbconvert_exporter": "python",
   "pygments_lexer": "ipython3",
   "version": "3.11.2"
  }
 },
 "nbformat": 4,
 "nbformat_minor": 5
}
