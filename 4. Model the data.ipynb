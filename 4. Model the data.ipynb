{
 "cells": [
  {
   "cell_type": "code",
   "execution_count": 1,
   "id": "112f055f-d41d-4397-bc14-edf2c20c95e0",
   "metadata": {},
   "outputs": [],
   "source": [
    "# Importa as bibliotecas necessárias\n",
    "%run '~/git/Bibliotecas.ipynb'"
   ]
  },
  {
   "cell_type": "markdown",
   "id": "19e6a37b-9dc8-443f-bb5e-b97f9daafb6c",
   "metadata": {},
   "source": [
    "### Importação"
   ]
  },
  {
   "cell_type": "code",
   "execution_count": 2,
   "id": "2fff9990-c5eb-4ea1-b72a-83ccd0b974e1",
   "metadata": {},
   "outputs": [
    {
     "data": {
      "text/html": [
       "<div>\n",
       "<style scoped>\n",
       "    .dataframe tbody tr th:only-of-type {\n",
       "        vertical-align: middle;\n",
       "    }\n",
       "\n",
       "    .dataframe tbody tr th {\n",
       "        vertical-align: top;\n",
       "    }\n",
       "\n",
       "    .dataframe thead th {\n",
       "        text-align: right;\n",
       "    }\n",
       "</style>\n",
       "<table border=\"1\" class=\"dataframe\">\n",
       "  <thead>\n",
       "    <tr style=\"text-align: right;\">\n",
       "      <th></th>\n",
       "      <th>CO_ANO</th>\n",
       "      <th>CO_MES</th>\n",
       "      <th>kton</th>\n",
       "    </tr>\n",
       "  </thead>\n",
       "  <tbody>\n",
       "    <tr>\n",
       "      <th>0</th>\n",
       "      <td>1997</td>\n",
       "      <td>3</td>\n",
       "      <td>7.505776</td>\n",
       "    </tr>\n",
       "  </tbody>\n",
       "</table>\n",
       "</div>"
      ],
      "text/plain": [
       "   CO_ANO  CO_MES      kton\n",
       "0    1997       3  7.505776"
      ]
     },
     "execution_count": 2,
     "metadata": {},
     "output_type": "execute_result"
    }
   ],
   "source": [
    "# Carrega a base de dados contendo os registros de importação de fertilizantes\n",
    "im=pd.read_csv('~/git/Pricing-Fertilizer-take-Rains-into-account/temp/i.csv').drop(columns='date')\n",
    "\n",
    "# Elimina ano incompleto\n",
    "im=im[im.CO_ANO!=2024]\n",
    "\n",
    "im=im[im.KG_LIQUIDO>0]\n",
    "\n",
    "# Modifica unidade de peso\n",
    "im.KG_LIQUIDO=im.KG_LIQUIDO/10**6\n",
    "im=im.rename(columns={'KG_LIQUIDO':'kton'})\n",
    "im.head(1)"
   ]
  },
  {
   "cell_type": "markdown",
   "id": "cf478a0a-9d37-48ef-8d7c-dd847d423199",
   "metadata": {},
   "source": [
    "### Chuvas"
   ]
  },
  {
   "cell_type": "code",
   "execution_count": 3,
   "id": "96514361-8661-4b8a-980f-8da91e7ddf58",
   "metadata": {},
   "outputs": [
    {
     "data": {
      "text/html": [
       "<div>\n",
       "<style scoped>\n",
       "    .dataframe tbody tr th:only-of-type {\n",
       "        vertical-align: middle;\n",
       "    }\n",
       "\n",
       "    .dataframe tbody tr th {\n",
       "        vertical-align: top;\n",
       "    }\n",
       "\n",
       "    .dataframe thead th {\n",
       "        text-align: right;\n",
       "    }\n",
       "</style>\n",
       "<table border=\"1\" class=\"dataframe\">\n",
       "  <thead>\n",
       "    <tr style=\"text-align: right;\">\n",
       "      <th></th>\n",
       "      <th>CO_ANO</th>\n",
       "      <th>CO_MES</th>\n",
       "      <th>mm</th>\n",
       "    </tr>\n",
       "  </thead>\n",
       "  <tbody>\n",
       "    <tr>\n",
       "      <th>264</th>\n",
       "      <td>2023</td>\n",
       "      <td>12</td>\n",
       "      <td>78.6</td>\n",
       "    </tr>\n",
       "  </tbody>\n",
       "</table>\n",
       "</div>"
      ],
      "text/plain": [
       "     CO_ANO  CO_MES    mm\n",
       "264    2023      12  78.6"
      ]
     },
     "execution_count": 3,
     "metadata": {},
     "output_type": "execute_result"
    }
   ],
   "source": [
    "ch=pd.read_csv('~/git/Pricing-Fertilizer-take-Rains-into-account/temp/c.csv').drop(columns='date')\n",
    "ch.tail(1)"
   ]
  },
  {
   "cell_type": "markdown",
   "id": "b0eb9ad9-af18-4d6c-9ecc-3aca5c609142",
   "metadata": {},
   "source": [
    "### Funde as tabelas de fertilizantes e chuvas"
   ]
  },
  {
   "cell_type": "code",
   "execution_count": 4,
   "id": "0f83c3ad-207c-499b-8114-2e5f40e25d8c",
   "metadata": {},
   "outputs": [
    {
     "data": {
      "text/html": [
       "<div>\n",
       "<style scoped>\n",
       "    .dataframe tbody tr th:only-of-type {\n",
       "        vertical-align: middle;\n",
       "    }\n",
       "\n",
       "    .dataframe tbody tr th {\n",
       "        vertical-align: top;\n",
       "    }\n",
       "\n",
       "    .dataframe thead th {\n",
       "        text-align: right;\n",
       "    }\n",
       "</style>\n",
       "<table border=\"1\" class=\"dataframe\">\n",
       "  <thead>\n",
       "    <tr style=\"text-align: right;\">\n",
       "      <th></th>\n",
       "      <th>CO_ANO</th>\n",
       "      <th>CO_MES</th>\n",
       "      <th>kton</th>\n",
       "      <th>mm</th>\n",
       "    </tr>\n",
       "  </thead>\n",
       "  <tbody>\n",
       "    <tr>\n",
       "      <th>0</th>\n",
       "      <td>2002</td>\n",
       "      <td>7</td>\n",
       "      <td>83.032266</td>\n",
       "      <td>23.2</td>\n",
       "    </tr>\n",
       "    <tr>\n",
       "      <th>1</th>\n",
       "      <td>2002</td>\n",
       "      <td>8</td>\n",
       "      <td>78.232067</td>\n",
       "      <td>0.0</td>\n",
       "    </tr>\n",
       "    <tr>\n",
       "      <th>2</th>\n",
       "      <td>2002</td>\n",
       "      <td>9</td>\n",
       "      <td>8.362661</td>\n",
       "      <td>0.0</td>\n",
       "    </tr>\n",
       "    <tr>\n",
       "      <th>3</th>\n",
       "      <td>2002</td>\n",
       "      <td>10</td>\n",
       "      <td>46.987128</td>\n",
       "      <td>28.0</td>\n",
       "    </tr>\n",
       "    <tr>\n",
       "      <th>4</th>\n",
       "      <td>2002</td>\n",
       "      <td>11</td>\n",
       "      <td>92.415166</td>\n",
       "      <td>17.8</td>\n",
       "    </tr>\n",
       "    <tr>\n",
       "      <th>...</th>\n",
       "      <td>...</td>\n",
       "      <td>...</td>\n",
       "      <td>...</td>\n",
       "      <td>...</td>\n",
       "    </tr>\n",
       "    <tr>\n",
       "      <th>252</th>\n",
       "      <td>2023</td>\n",
       "      <td>8</td>\n",
       "      <td>96.753794</td>\n",
       "      <td>202.1</td>\n",
       "    </tr>\n",
       "    <tr>\n",
       "      <th>253</th>\n",
       "      <td>2023</td>\n",
       "      <td>9</td>\n",
       "      <td>172.570477</td>\n",
       "      <td>19.9</td>\n",
       "    </tr>\n",
       "    <tr>\n",
       "      <th>254</th>\n",
       "      <td>2023</td>\n",
       "      <td>10</td>\n",
       "      <td>240.914358</td>\n",
       "      <td>83.2</td>\n",
       "    </tr>\n",
       "    <tr>\n",
       "      <th>255</th>\n",
       "      <td>2023</td>\n",
       "      <td>11</td>\n",
       "      <td>90.119779</td>\n",
       "      <td>50.5</td>\n",
       "    </tr>\n",
       "    <tr>\n",
       "      <th>256</th>\n",
       "      <td>2023</td>\n",
       "      <td>12</td>\n",
       "      <td>128.496690</td>\n",
       "      <td>11.6</td>\n",
       "    </tr>\n",
       "  </tbody>\n",
       "</table>\n",
       "<p>257 rows × 4 columns</p>\n",
       "</div>"
      ],
      "text/plain": [
       "     CO_ANO  CO_MES        kton     mm\n",
       "0      2002       7   83.032266   23.2\n",
       "1      2002       8   78.232067    0.0\n",
       "2      2002       9    8.362661    0.0\n",
       "3      2002      10   46.987128   28.0\n",
       "4      2002      11   92.415166   17.8\n",
       "..      ...     ...         ...    ...\n",
       "252    2023       8   96.753794  202.1\n",
       "253    2023       9  172.570477   19.9\n",
       "254    2023      10  240.914358   83.2\n",
       "255    2023      11   90.119779   50.5\n",
       "256    2023      12  128.496690   11.6\n",
       "\n",
       "[257 rows x 4 columns]"
      ]
     },
     "execution_count": 4,
     "metadata": {},
     "output_type": "execute_result"
    }
   ],
   "source": [
    "q=pd.DataFrame()\n",
    "#q=pd.read_csv('~/git/Pricing-Fertilizer-take-Rains-into-account/temp/q.csv')\n",
    "\n",
    "from sklearn.ensemble import RandomForestRegressor as RFR\n",
    "# Define hiperparametro\n",
    "md=1\n",
    "# Instância o regresssor\n",
    "RFR=RFR(max_depth=md, random_state=1)\n",
    "\n",
    "i=im.copy()\n",
    "c=ch.copy()\n",
    "\n",
    "# Determina que o adiantamento dos meses em relação as importações seja igual ao adinatamento de máximo efeito, \n",
    "# como determinado no capítulo anterior\n",
    "ad=7\n",
    "\n",
    "# Adianta os meses\n",
    "c.CO_MES=c.CO_MES+ad\n",
    "\n",
    "# Corriges meses fora da faixa\n",
    "for adi in range(1,ad+1):\n",
    "    c.loc[c.CO_MES==12+adi,'CO_ANO']=c.loc[c.CO_MES==12+adi]['CO_ANO']+1\n",
    "    c.loc[c.CO_MES==12+adi,'CO_MES']=adi\n",
    "\n",
    "# Funde chuvas com importações\n",
    "i=i.merge(c)\n",
    "i.head(2)"
   ]
  },
  {
   "cell_type": "code",
   "execution_count": 5,
   "id": "a611bf24-8496-4a8e-9fc7-ec5dc72ed401",
   "metadata": {},
   "outputs": [
    {
     "data": {
      "text/html": [
       "<div>\n",
       "<style scoped>\n",
       "    .dataframe tbody tr th:only-of-type {\n",
       "        vertical-align: middle;\n",
       "    }\n",
       "\n",
       "    .dataframe tbody tr th {\n",
       "        vertical-align: top;\n",
       "    }\n",
       "\n",
       "    .dataframe thead th {\n",
       "        text-align: right;\n",
       "    }\n",
       "</style>\n",
       "<table border=\"1\" class=\"dataframe\">\n",
       "  <thead>\n",
       "    <tr style=\"text-align: right;\">\n",
       "      <th></th>\n",
       "      <th>CO_ANO</th>\n",
       "      <th>CO_MES</th>\n",
       "      <th>kton</th>\n",
       "      <th>mm</th>\n",
       "    </tr>\n",
       "  </thead>\n",
       "  <tbody>\n",
       "  </tbody>\n",
       "</table>\n",
       "</div>"
      ],
      "text/plain": [
       "Empty DataFrame\n",
       "Columns: [CO_ANO, CO_MES, kton, mm]\n",
       "Index: []"
      ]
     },
     "execution_count": 5,
     "metadata": {},
     "output_type": "execute_result"
    }
   ],
   "source": [
    "# Verifica existencia de registros sem quantidade\n",
    "i[i.kton==0]"
   ]
  },
  {
   "cell_type": "code",
   "execution_count": 6,
   "id": "2fbfb1d7-2dfb-406e-802c-280428c7bcfe",
   "metadata": {},
   "outputs": [],
   "source": [
    "# Descarta registros sem quantidade\n",
    "i=i[i.kton!=0]"
   ]
  },
  {
   "cell_type": "markdown",
   "id": "8b1a7e99-aa57-4fb8-9598-cd7d84e3c18d",
   "metadata": {},
   "source": [
    "Executa os testes"
   ]
  },
  {
   "cell_type": "code",
   "execution_count": 7,
   "id": "4a3b075b-3a55-4156-9b4c-91f723a8df81",
   "metadata": {},
   "outputs": [
    {
     "name": "stdout",
     "output_type": "stream",
     "text": [
      "\n",
      "Erro Absoluto Médio do Tratamento 39.0\n",
      "\n",
      "Erro Absoluto Médio da Testemunha 43.9\n"
     ]
    }
   ],
   "source": [
    "# Recria coluna de data\n",
    "i['date']=pd.to_datetime(i.CO_ANO.astype(str)+'/'+i.CO_MES.astype(str)+'/1').astype(int)\n",
    "\n",
    "# Descarta coluna Ano, substituida por data\n",
    "i=i.drop(columns='CO_ANO')\n",
    "\n",
    "# Formata mês como informação categórica\n",
    "i.CO_MES=i.CO_MES.astype('category')\n",
    "\n",
    "i=pd.get_dummies(i, prefix_sep='~')\n",
    "\n",
    "\n",
    "for a in range(1,len(i)):\n",
    "\n",
    "    for train_size_mes in [10*12]:\n",
    "\n",
    "        train=i.iloc[:a,:].tail(train_size_mes)\n",
    "        \n",
    "        if len(train)>=train_size_mes:\n",
    "\n",
    "            test=i.iloc[a:a+1,:]\n",
    "                        \n",
    "            # Train\n",
    "            X_train_tratamento=train.drop(columns='kton')\n",
    "            X_train_testemunha=train.drop(columns=['kton','mm'])\n",
    "            y_train=train.kton\n",
    "    \n",
    "            # Test\n",
    "            X_test_tratamento  =test.drop(columns='kton')\n",
    "            X_test_testemunha=test.drop(columns=['kton','mm'])\n",
    "            y_test=test.kton\n",
    "                \n",
    "            RFR.fit(X_train_tratamento,y_train)\n",
    "            \n",
    "            test_pred=test     .assign(kton_pred_tratamento  =RFR.predict(X_test_tratamento  ).astype(int))\n",
    "            \n",
    "            RFR.fit(X_train_testemunha,y_train)\n",
    "            \n",
    "            test_pred=test_pred.assign(kton_pred_testemunha=RFR.predict(X_test_testemunha).astype(int))\n",
    "\n",
    "            test_pred=test_pred.assign(ad=ad,train_size_anos=train_size_mes/12,md=md)\n",
    "            \n",
    "            q=pd.concat([q,test_pred])\n",
    "\n",
    "q['erro_tratamento']=np.abs(q.kton-q.kton_pred_tratamento)\n",
    "q['erro_testemunha']=np.abs(q.kton-q.kton_pred_testemunha)\n",
    "\n",
    "print('\\nErro Absoluto Médio do Tratamento',round(q.erro_tratamento.mean(),1))\n",
    "print('\\nErro Absoluto Médio da Testemunha',round(q.erro_testemunha.mean(),1))"
   ]
  },
  {
   "cell_type": "markdown",
   "id": "2629ff19-8bea-4a86-a05c-44badf6d11bc",
   "metadata": {},
   "source": [
    "Acima vemos que o tratamento resultou em menor erro absoluto médio.\n",
    "\n",
    "> Será que essa superioridade do erro da tratamento em realação a testemunha é estatisticamente significante?\n",
    ">\n",
    "> No próximo e último capítulo responderemos a essa pergunta."
   ]
  },
  {
   "cell_type": "code",
   "execution_count": 8,
   "id": "e9fd768c-5cc9-40a2-a3ca-0268e732f02b",
   "metadata": {},
   "outputs": [],
   "source": [
    "# retorna para o formato original\n",
    "q=pd.concat([q[[x for x in q.columns if x not in q.columns[3:15]]],pd.from_dummies(q[q.columns[3:15]],sep='~')],axis=1)"
   ]
  },
  {
   "cell_type": "markdown",
   "id": "19ba847d-bf44-4ff7-b11a-c90da7cd10a6",
   "metadata": {},
   "source": [
    "Salva o resultado dos testes"
   ]
  },
  {
   "cell_type": "code",
   "execution_count": 9,
   "id": "dee85f57-0352-45bc-ae6b-ed2d7b17792d",
   "metadata": {},
   "outputs": [],
   "source": [
    "q.to_csv('~/git/Pricing-Fertilizer-take-Rains-into-account/temp/q.csv', index=False)"
   ]
  }
 ],
 "metadata": {
  "kernelspec": {
   "display_name": "Python 3 (ipykernel)",
   "language": "python",
   "name": "python3"
  },
  "language_info": {
   "codemirror_mode": {
    "name": "ipython",
    "version": 3
   },
   "file_extension": ".py",
   "mimetype": "text/x-python",
   "name": "python",
   "nbconvert_exporter": "python",
   "pygments_lexer": "ipython3",
   "version": "3.11.2"
  }
 },
 "nbformat": 4,
 "nbformat_minor": 5
}
