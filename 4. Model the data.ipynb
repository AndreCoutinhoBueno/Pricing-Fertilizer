{
 "cells": [
  {
   "cell_type": "raw",
   "id": "1a001b7f-ed32-4289-891c-de0be34957e6",
   "metadata": {},
   "source": [
    "teste 3"
   ]
  },
  {
   "cell_type": "code",
   "execution_count": 1,
   "id": "112f055f-d41d-4397-bc14-edf2c20c95e0",
   "metadata": {},
   "outputs": [],
   "source": [
    "# Importa as bibliotecas necessárias\n",
    "%run '~/git/Bibliotecas.ipynb'"
   ]
  },
  {
   "cell_type": "markdown",
   "id": "19e6a37b-9dc8-443f-bb5e-b97f9daafb6c",
   "metadata": {},
   "source": [
    "### Importação"
   ]
  },
  {
   "cell_type": "code",
   "execution_count": 2,
   "id": "ea292064-6c4e-41ef-9fcc-96ceba4e6db4",
   "metadata": {},
   "outputs": [
    {
     "data": {
      "text/html": [
       "<div>\n",
       "<style scoped>\n",
       "    .dataframe tbody tr th:only-of-type {\n",
       "        vertical-align: middle;\n",
       "    }\n",
       "\n",
       "    .dataframe tbody tr th {\n",
       "        vertical-align: top;\n",
       "    }\n",
       "\n",
       "    .dataframe thead th {\n",
       "        text-align: right;\n",
       "    }\n",
       "</style>\n",
       "<table border=\"1\" class=\"dataframe\">\n",
       "  <thead>\n",
       "    <tr style=\"text-align: right;\">\n",
       "      <th></th>\n",
       "      <th>CO_ANO</th>\n",
       "      <th>CO_MES</th>\n",
       "      <th>kton</th>\n",
       "    </tr>\n",
       "  </thead>\n",
       "  <tbody>\n",
       "    <tr>\n",
       "      <th>0</th>\n",
       "      <td>2002</td>\n",
       "      <td>2</td>\n",
       "      <td>16.173993</td>\n",
       "    </tr>\n",
       "  </tbody>\n",
       "</table>\n",
       "</div>"
      ],
      "text/plain": [
       "   CO_ANO  CO_MES       kton\n",
       "0    2002       2  16.173993"
      ]
     },
     "execution_count": 2,
     "metadata": {},
     "output_type": "execute_result"
    }
   ],
   "source": [
    "# Carrega a base de dados contendo os registros de importação de fertilizantes\n",
    "im=pd.read_csv('~/git/Pricing-Fertilizer-take-Rains-into-account/temp/i.csv').drop(columns='date')\n",
    "\n",
    "# Modifica unidade de peso\n",
    "im.KG_LIQUIDO=im.KG_LIQUIDO/10**6\n",
    "im=im.rename(columns={'KG_LIQUIDO':'kton'})\n",
    "im.head(1)"
   ]
  },
  {
   "cell_type": "code",
   "execution_count": 3,
   "id": "af622772-094f-4b27-9a93-4d6f913118fa",
   "metadata": {},
   "outputs": [
    {
     "data": {
      "text/html": [
       "<div>\n",
       "<style scoped>\n",
       "    .dataframe tbody tr th:only-of-type {\n",
       "        vertical-align: middle;\n",
       "    }\n",
       "\n",
       "    .dataframe tbody tr th {\n",
       "        vertical-align: top;\n",
       "    }\n",
       "\n",
       "    .dataframe thead th {\n",
       "        text-align: right;\n",
       "    }\n",
       "</style>\n",
       "<table border=\"1\" class=\"dataframe\">\n",
       "  <thead>\n",
       "    <tr style=\"text-align: right;\">\n",
       "      <th></th>\n",
       "      <th>CO_ANO</th>\n",
       "      <th>CO_MES</th>\n",
       "      <th>kton</th>\n",
       "    </tr>\n",
       "  </thead>\n",
       "  <tbody>\n",
       "    <tr>\n",
       "      <th>263</th>\n",
       "      <td>2024</td>\n",
       "      <td>1</td>\n",
       "      <td>121.651414</td>\n",
       "    </tr>\n",
       "  </tbody>\n",
       "</table>\n",
       "</div>"
      ],
      "text/plain": [
       "     CO_ANO  CO_MES        kton\n",
       "263    2024       1  121.651414"
      ]
     },
     "execution_count": 3,
     "metadata": {},
     "output_type": "execute_result"
    }
   ],
   "source": [
    "im.tail(1)"
   ]
  },
  {
   "cell_type": "markdown",
   "id": "cf478a0a-9d37-48ef-8d7c-dd847d423199",
   "metadata": {},
   "source": [
    "### Chuvas"
   ]
  },
  {
   "cell_type": "code",
   "execution_count": 4,
   "id": "da0605c8-2546-4e47-bbb2-418216bd8202",
   "metadata": {},
   "outputs": [
    {
     "data": {
      "text/html": [
       "<div>\n",
       "<style scoped>\n",
       "    .dataframe tbody tr th:only-of-type {\n",
       "        vertical-align: middle;\n",
       "    }\n",
       "\n",
       "    .dataframe tbody tr th {\n",
       "        vertical-align: top;\n",
       "    }\n",
       "\n",
       "    .dataframe thead th {\n",
       "        text-align: right;\n",
       "    }\n",
       "</style>\n",
       "<table border=\"1\" class=\"dataframe\">\n",
       "  <thead>\n",
       "    <tr style=\"text-align: right;\">\n",
       "      <th></th>\n",
       "      <th>CO_ANO</th>\n",
       "      <th>CO_MES</th>\n",
       "      <th>mm</th>\n",
       "    </tr>\n",
       "  </thead>\n",
       "  <tbody>\n",
       "    <tr>\n",
       "      <th>0</th>\n",
       "      <td>2001</td>\n",
       "      <td>12</td>\n",
       "      <td>23.2</td>\n",
       "    </tr>\n",
       "  </tbody>\n",
       "</table>\n",
       "</div>"
      ],
      "text/plain": [
       "   CO_ANO  CO_MES    mm\n",
       "0    2001      12  23.2"
      ]
     },
     "execution_count": 4,
     "metadata": {},
     "output_type": "execute_result"
    }
   ],
   "source": [
    "ch=pd.read_csv('~/git/Pricing-Fertilizer-take-Rains-into-account/temp/c.csv').drop(columns='date')\n",
    "ch.head(1)"
   ]
  },
  {
   "cell_type": "code",
   "execution_count": 5,
   "id": "acb85270-5866-4ad4-b194-857cea8668c0",
   "metadata": {},
   "outputs": [
    {
     "data": {
      "text/html": [
       "<div>\n",
       "<style scoped>\n",
       "    .dataframe tbody tr th:only-of-type {\n",
       "        vertical-align: middle;\n",
       "    }\n",
       "\n",
       "    .dataframe tbody tr th {\n",
       "        vertical-align: top;\n",
       "    }\n",
       "\n",
       "    .dataframe thead th {\n",
       "        text-align: right;\n",
       "    }\n",
       "</style>\n",
       "<table border=\"1\" class=\"dataframe\">\n",
       "  <thead>\n",
       "    <tr style=\"text-align: right;\">\n",
       "      <th></th>\n",
       "      <th>CO_ANO</th>\n",
       "      <th>CO_MES</th>\n",
       "      <th>mm</th>\n",
       "    </tr>\n",
       "  </thead>\n",
       "  <tbody>\n",
       "    <tr>\n",
       "      <th>264</th>\n",
       "      <td>2023</td>\n",
       "      <td>12</td>\n",
       "      <td>328.0</td>\n",
       "    </tr>\n",
       "  </tbody>\n",
       "</table>\n",
       "</div>"
      ],
      "text/plain": [
       "     CO_ANO  CO_MES     mm\n",
       "264    2023      12  328.0"
      ]
     },
     "execution_count": 5,
     "metadata": {},
     "output_type": "execute_result"
    }
   ],
   "source": [
    "ch.tail(1)"
   ]
  },
  {
   "cell_type": "code",
   "execution_count": 6,
   "id": "43d32c1c-6930-47ae-be22-900f01e05035",
   "metadata": {},
   "outputs": [
    {
     "name": "stdout",
     "output_type": "stream",
     "text": [
      "\n",
      "As importações foram fundidas com as chuvas adiantadas em 7 meses.\n"
     ]
    }
   ],
   "source": [
    "print('\\\n",
    "\\nAs importações foram fundidas com as chuvas adiantadas em 7 meses.')"
   ]
  },
  {
   "cell_type": "markdown",
   "id": "b0eb9ad9-af18-4d6c-9ecc-3aca5c609142",
   "metadata": {},
   "source": [
    "### Funde as tabelas de fertilizantes e chuvas"
   ]
  },
  {
   "cell_type": "code",
   "execution_count": 7,
   "id": "0f83c3ad-207c-499b-8114-2e5f40e25d8c",
   "metadata": {},
   "outputs": [
    {
     "data": {
      "text/html": [
       "<div>\n",
       "<style scoped>\n",
       "    .dataframe tbody tr th:only-of-type {\n",
       "        vertical-align: middle;\n",
       "    }\n",
       "\n",
       "    .dataframe tbody tr th {\n",
       "        vertical-align: top;\n",
       "    }\n",
       "\n",
       "    .dataframe thead th {\n",
       "        text-align: right;\n",
       "    }\n",
       "</style>\n",
       "<table border=\"1\" class=\"dataframe\">\n",
       "  <thead>\n",
       "    <tr style=\"text-align: right;\">\n",
       "      <th></th>\n",
       "      <th>CO_ANO</th>\n",
       "      <th>CO_MES</th>\n",
       "      <th>kton</th>\n",
       "      <th>mm</th>\n",
       "    </tr>\n",
       "  </thead>\n",
       "  <tbody>\n",
       "    <tr>\n",
       "      <th>0</th>\n",
       "      <td>2002</td>\n",
       "      <td>7</td>\n",
       "      <td>84.782666</td>\n",
       "      <td>23.2</td>\n",
       "    </tr>\n",
       "    <tr>\n",
       "      <th>1</th>\n",
       "      <td>2002</td>\n",
       "      <td>8</td>\n",
       "      <td>78.232067</td>\n",
       "      <td>0.0</td>\n",
       "    </tr>\n",
       "  </tbody>\n",
       "</table>\n",
       "</div>"
      ],
      "text/plain": [
       "   CO_ANO  CO_MES       kton    mm\n",
       "0    2002       7  84.782666  23.2\n",
       "1    2002       8  78.232067   0.0"
      ]
     },
     "execution_count": 7,
     "metadata": {},
     "output_type": "execute_result"
    }
   ],
   "source": [
    "q=pd.DataFrame()\n",
    "#q=pd.read_csv('~/git/Pricing-Fertilizer-take-Rains-into-account/temp/q.csv')\n",
    "\n",
    "from sklearn.ensemble import RandomForestRegressor as RFR\n",
    "# Define hiperparametro\n",
    "md=1\n",
    "# Instância o regresssor\n",
    "RFR=RFR(max_depth=md, random_state=1)\n",
    "\n",
    "i=im.copy()\n",
    "c=ch.copy()\n",
    "\n",
    "# Determina que o adiantamento dos meses em relação as importações seja igual ao adinatamento de máximo efeito, \n",
    "# como determinado no capítulo anterior\n",
    "ad=7\n",
    "\n",
    "# Adianta os meses\n",
    "c.CO_MES=c.CO_MES+ad\n",
    "\n",
    "# Corriges meses fora da faixa\n",
    "for adi in range(1,ad+1):\n",
    "    c.loc[c.CO_MES==12+adi,'CO_ANO']=c.loc[c.CO_MES==12+adi]['CO_ANO']+1\n",
    "    c.loc[c.CO_MES==12+adi,'CO_MES']=adi\n",
    "\n",
    "# Funde chuvas com importações\n",
    "i=i.merge(c)\n",
    "i.head(2)"
   ]
  },
  {
   "cell_type": "code",
   "execution_count": 8,
   "id": "4466bfcd-31ce-4536-b6c6-1451e0d5e11f",
   "metadata": {},
   "outputs": [
    {
     "name": "stdout",
     "output_type": "stream",
     "text": [
      "\n",
      "Testes de previsão serão executados considerando o tempo de treino de 10 anos.\n",
      "\n",
      "Cada mês, devido a sazonalidade, será considerado um tratamento, e por isso, a repetição dos testes serão os anos.\n",
      "\n",
      "Temos 21.6 anos de registros para processamento e o tempo de treino vai utilizar 10 anos, restam\n",
      "11.6 anos para repetição dos testes. Ou seja, algununs meses terão 11, outros 12 repetições.\n",
      "\n",
      "A previsão será obtida por regressão de floresta randômica.\n",
      "\n"
     ]
    }
   ],
   "source": [
    "print(f'\\\n",
    "\\nTestes de previsão serão executados considerando o tempo de treino de 10 anos.\\n\\n\\\n",
    "Cada mês, devido a sazonalidade, será considerado um tratamento, e por isso, a repetição dos testes serão os anos.\\n\\n\\\n",
    "Temos {round(len(i)/12,1)} anos de registros para processamento e o tempo de treino vai utilizar 10 anos, restam\\n\\\n",
    "{round(len(i)/12 - 10,1)} anos para repetição dos testes. Ou seja, algununs meses terão 11, outros 12 repetições.\\n\\n\\\n",
    "A previsão será obtida por regressão de floresta randômica.\\n\\\n",
    "')"
   ]
  },
  {
   "cell_type": "markdown",
   "id": "8b1a7e99-aa57-4fb8-9598-cd7d84e3c18d",
   "metadata": {},
   "source": [
    "Executa os testes"
   ]
  },
  {
   "cell_type": "code",
   "execution_count": 9,
   "id": "cca9ac85-6dab-4713-8d70-4abcbed9982b",
   "metadata": {},
   "outputs": [],
   "source": [
    "# Recria coluna de data\n",
    "i['date']=pd.to_datetime(i.CO_ANO.astype(str)+'/'+i.CO_MES.astype(str)+'/1').astype(int)\n",
    "\n",
    "# Descarta coluna Ano, substituida por data\n",
    "i=i.drop(columns='CO_ANO')\n",
    "\n",
    "# Formata mês como informação categórica\n",
    "i.CO_MES=i.CO_MES.astype('category')\n",
    "\n",
    "i=pd.get_dummies(i, prefix_sep='~')\n",
    "\n",
    "\n",
    "for a in range(1,len(i)):\n",
    "\n",
    "    for train_size_mes in [10*12]:\n",
    "\n",
    "        train=i.iloc[:a,:].tail(train_size_mes)\n",
    "        \n",
    "        if len(train)>=train_size_mes:\n",
    "\n",
    "            test=i.iloc[a:a+1,:]\n",
    "                        \n",
    "            # Train\n",
    "            X_train_tratamento=train.drop(columns='kton')\n",
    "            X_train_testemunha=train.drop(columns=['kton','mm'])\n",
    "            y_train=train.kton\n",
    "    \n",
    "            # Test\n",
    "            X_test_tratamento  =test.drop(columns='kton')\n",
    "            X_test_testemunha=test.drop(columns=['kton','mm'])\n",
    "            y_test=test.kton\n",
    "                \n",
    "            RFR.fit(X_train_tratamento,y_train)\n",
    "            \n",
    "            test_pred=test     .assign(kton_pred_tratamento  =RFR.predict(X_test_tratamento  ).astype(int))\n",
    "            \n",
    "            RFR.fit(X_train_testemunha,y_train)\n",
    "            \n",
    "            test_pred=test_pred.assign(kton_pred_testemunha=RFR.predict(X_test_testemunha).astype(int))\n",
    "\n",
    "            test_pred=test_pred.assign(ad=ad,train_size_anos=train_size_mes/12,md=md)\n",
    "            \n",
    "            q=pd.concat([q,test_pred])\n",
    "\n",
    "q['erro_tratamento']=np.abs(q.kton-q.kton_pred_tratamento)\n",
    "q['erro_testemunha']=np.abs(q.kton-q.kton_pred_testemunha)"
   ]
  },
  {
   "cell_type": "code",
   "execution_count": 10,
   "id": "e9fd768c-5cc9-40a2-a3ca-0268e732f02b",
   "metadata": {},
   "outputs": [],
   "source": [
    "# retorna para o formato original\n",
    "q=pd.concat([q[[x for x in q.columns if x not in q.columns[3:15]]],pd.from_dummies(q[q.columns[3:15]],sep='~')],axis=1)"
   ]
  },
  {
   "cell_type": "code",
   "execution_count": 11,
   "id": "3bba43b8-6a27-406a-9a07-1284be8e92f1",
   "metadata": {},
   "outputs": [
    {
     "name": "stdout",
     "output_type": "stream",
     "text": [
      "\n",
      "\n",
      "Como chegamos numa fase de análise visual dos números, a unidade de medida foi alterada para quilotonelada ou kton.\n",
      "\n",
      "\n"
     ]
    },
    {
     "data": {
      "text/html": [
       "<div>\n",
       "<style scoped>\n",
       "    .dataframe tbody tr th:only-of-type {\n",
       "        vertical-align: middle;\n",
       "    }\n",
       "\n",
       "    .dataframe tbody tr th {\n",
       "        vertical-align: top;\n",
       "    }\n",
       "\n",
       "    .dataframe thead th {\n",
       "        text-align: right;\n",
       "    }\n",
       "</style>\n",
       "<table border=\"1\" class=\"dataframe\">\n",
       "  <thead>\n",
       "    <tr style=\"text-align: right;\">\n",
       "      <th></th>\n",
       "      <th>kton</th>\n",
       "      <th>kton_pred_tratamento</th>\n",
       "      <th>kton_pred_testemunha</th>\n",
       "      <th>erro_tratamento</th>\n",
       "      <th>erro_testemunha</th>\n",
       "    </tr>\n",
       "  </thead>\n",
       "  <tbody>\n",
       "    <tr>\n",
       "      <th>120</th>\n",
       "      <td>91</td>\n",
       "      <td>82</td>\n",
       "      <td>83</td>\n",
       "      <td>9</td>\n",
       "      <td>8</td>\n",
       "    </tr>\n",
       "    <tr>\n",
       "      <th>121</th>\n",
       "      <td>22</td>\n",
       "      <td>80</td>\n",
       "      <td>83</td>\n",
       "      <td>57</td>\n",
       "      <td>60</td>\n",
       "    </tr>\n",
       "    <tr>\n",
       "      <th>122</th>\n",
       "      <td>46</td>\n",
       "      <td>58</td>\n",
       "      <td>74</td>\n",
       "      <td>11</td>\n",
       "      <td>27</td>\n",
       "    </tr>\n",
       "    <tr>\n",
       "      <th>123</th>\n",
       "      <td>94</td>\n",
       "      <td>75</td>\n",
       "      <td>53</td>\n",
       "      <td>19</td>\n",
       "      <td>41</td>\n",
       "    </tr>\n",
       "    <tr>\n",
       "      <th>124</th>\n",
       "      <td>100</td>\n",
       "      <td>41</td>\n",
       "      <td>55</td>\n",
       "      <td>59</td>\n",
       "      <td>45</td>\n",
       "    </tr>\n",
       "  </tbody>\n",
       "</table>\n",
       "</div>"
      ],
      "text/plain": [
       "     kton  kton_pred_tratamento  kton_pred_testemunha  erro_tratamento  \\\n",
       "120    91                    82                    83                9   \n",
       "121    22                    80                    83               57   \n",
       "122    46                    58                    74               11   \n",
       "123    94                    75                    53               19   \n",
       "124   100                    41                    55               59   \n",
       "\n",
       "     erro_testemunha  \n",
       "120                8  \n",
       "121               60  \n",
       "122               27  \n",
       "123               41  \n",
       "124               45  "
      ]
     },
     "metadata": {},
     "output_type": "display_data"
    }
   ],
   "source": [
    "print('\\n\\nComo chegamos numa fase de análise visual dos números, a unidade de medida foi alterada para quilotonelada ou kton.\\n\\n')\n",
    "display(q[['kton','kton_pred_tratamento','kton_pred_testemunha','erro_tratamento','erro_testemunha']].astype(int).head())"
   ]
  },
  {
   "cell_type": "code",
   "execution_count": 12,
   "id": "9c27b296-bab5-47c8-9043-c4831c6794fd",
   "metadata": {},
   "outputs": [
    {
     "name": "stdout",
     "output_type": "stream",
     "text": [
      "\n",
      "\n",
      "Os resultado dos testes foram salvos e no próximo capítulo poderemos análisar estatísticamente se há diferença\n",
      "entre utilizar ou não as chuvas como variável adicional no cálculo de previsão de importação de fertilizantes.\n",
      "\n",
      "\n"
     ]
    }
   ],
   "source": [
    "print('\\n\\nOs resultado dos testes foram salvos e no próximo capítulo poderemos análisar estatísticamente se há diferença\\n\\\n",
    "entre utilizar ou não as chuvas como variável adicional no cálculo de previsão de importação de fertilizantes.\\n\\n')"
   ]
  },
  {
   "cell_type": "code",
   "execution_count": 13,
   "id": "dee85f57-0352-45bc-ae6b-ed2d7b17792d",
   "metadata": {},
   "outputs": [],
   "source": [
    "q.to_csv('~/git/Pricing-Fertilizer-take-Rains-into-account/temp/q.csv', index=False)"
   ]
  }
 ],
 "metadata": {
  "kernelspec": {
   "display_name": "Python 3 (ipykernel)",
   "language": "python",
   "name": "python3"
  },
  "language_info": {
   "codemirror_mode": {
    "name": "ipython",
    "version": 3
   },
   "file_extension": ".py",
   "mimetype": "text/x-python",
   "name": "python",
   "nbconvert_exporter": "python",
   "pygments_lexer": "ipython3",
   "version": "3.11.2"
  }
 },
 "nbformat": 4,
 "nbformat_minor": 5
}
