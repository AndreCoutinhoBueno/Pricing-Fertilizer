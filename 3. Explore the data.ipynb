{
 "cells": [
  {
   "cell_type": "code",
   "execution_count": 1,
   "id": "8f7e5ef8-37df-4849-83ae-05b0eb35ee0f",
   "metadata": {},
   "outputs": [],
   "source": [
    "# Importa as bibliotecas necessárias\n",
    "%run '~/git/Bibliotecas.ipynb'"
   ]
  },
  {
   "cell_type": "code",
   "execution_count": 2,
   "id": "b797ef41-f0d2-496b-8d0c-a43b6d52fa71",
   "metadata": {},
   "outputs": [
    {
     "name": "stdout",
     "output_type": "stream",
     "text": [
      "\n",
      "\n",
      "3.1 Fertilizantes\n",
      "\n",
      "\n"
     ]
    }
   ],
   "source": [
    "print('\\n\\n3.1 Fertilizantes\\n\\n')"
   ]
  },
  {
   "cell_type": "code",
   "execution_count": 3,
   "id": "d8fab9db-59a7-4f53-8a83-e22c0b869ff3",
   "metadata": {},
   "outputs": [
    {
     "name": "stdout",
     "output_type": "stream",
     "text": [
      "\n",
      "Primeiras linhas da tabela\n",
      "\n"
     ]
    },
    {
     "data": {
      "text/html": [
       "<div>\n",
       "<style scoped>\n",
       "    .dataframe tbody tr th:only-of-type {\n",
       "        vertical-align: middle;\n",
       "    }\n",
       "\n",
       "    .dataframe tbody tr th {\n",
       "        vertical-align: top;\n",
       "    }\n",
       "\n",
       "    .dataframe thead th {\n",
       "        text-align: right;\n",
       "    }\n",
       "</style>\n",
       "<table border=\"1\" class=\"dataframe\">\n",
       "  <thead>\n",
       "    <tr style=\"text-align: right;\">\n",
       "      <th></th>\n",
       "      <th>CO_ANO</th>\n",
       "      <th>CO_MES</th>\n",
       "      <th>CO_NCM</th>\n",
       "      <th>CO_UNID</th>\n",
       "      <th>CO_PAIS</th>\n",
       "      <th>SG_UF_NCM</th>\n",
       "      <th>CO_VIA</th>\n",
       "      <th>CO_URF</th>\n",
       "      <th>QT_ESTAT</th>\n",
       "      <th>KG_LIQUIDO</th>\n",
       "      <th>VL_FOB</th>\n",
       "      <th>VL_FRETE</th>\n",
       "      <th>VL_SEGURO</th>\n",
       "    </tr>\n",
       "  </thead>\n",
       "  <tbody>\n",
       "    <tr>\n",
       "      <th>0</th>\n",
       "      <td>1997</td>\n",
       "      <td>1</td>\n",
       "      <td>31042090</td>\n",
       "      <td>10</td>\n",
       "      <td>23</td>\n",
       "      <td>BA</td>\n",
       "      <td>1</td>\n",
       "      <td>517600</td>\n",
       "      <td>59</td>\n",
       "      <td>59400</td>\n",
       "      <td>10128</td>\n",
       "      <td>5824</td>\n",
       "      <td>41</td>\n",
       "    </tr>\n",
       "    <tr>\n",
       "      <th>1</th>\n",
       "      <td>1997</td>\n",
       "      <td>2</td>\n",
       "      <td>31043010</td>\n",
       "      <td>10</td>\n",
       "      <td>383</td>\n",
       "      <td>BA</td>\n",
       "      <td>1</td>\n",
       "      <td>517600</td>\n",
       "      <td>63</td>\n",
       "      <td>62950</td>\n",
       "      <td>25180</td>\n",
       "      <td>4950</td>\n",
       "      <td>0</td>\n",
       "    </tr>\n",
       "  </tbody>\n",
       "</table>\n",
       "</div>"
      ],
      "text/plain": [
       "   CO_ANO  CO_MES    CO_NCM  CO_UNID  CO_PAIS SG_UF_NCM  CO_VIA  CO_URF  \\\n",
       "0    1997       1  31042090       10       23        BA       1  517600   \n",
       "1    1997       2  31043010       10      383        BA       1  517600   \n",
       "\n",
       "   QT_ESTAT  KG_LIQUIDO  VL_FOB  VL_FRETE  VL_SEGURO  \n",
       "0        59       59400   10128      5824         41  \n",
       "1        63       62950   25180      4950          0  "
      ]
     },
     "metadata": {},
     "output_type": "display_data"
    }
   ],
   "source": [
    "# Carrega a base de dados contendo os registros de importação de fertilizantes\n",
    "i=pd.read_csv('~/git/Pricing-Fertilizer-take-Rains-into-account/temp/imp1.csv').sort_values(by=['CO_ANO','CO_MES'])\n",
    "print('\\nPrimeiras linhas da tabela\\n')\n",
    "display(i.head(2))"
   ]
  },
  {
   "cell_type": "raw",
   "id": "ef170598-1d9d-40d6-9f68-78d03fa2c6ca",
   "metadata": {},
   "source": [
    "Visualizando a tabela podemos intuir:  \n",
    "\n",
    "* Colunas ordinais:\n",
    "    * CO_ANO: ano do regitro\n",
    "    * CO_MES: mês do registro\n",
    "\n",
    "* Colunas categóricas:\n",
    "    * CO_ANO e CO_MES: além do valor ordinal, essas colunas representam também valor categórico, ligados ao clima do momento indicaddo.\n",
    "    * CO_NCM: NCM-Nomenclatura Comum do Mercosul, que identifica o produto com base no Sistema Internacional (SH) da Organização Mundial do Comércio, acrescido de mais dois digitos extras, que especificam ainda mais as características das mercadorias importadas.\n",
    "    * CO_UNID: unidade monetária de valor utilizada no registro, que é identificada textualmente em tabela auxiliar.\n",
    "    * CO_PAIS: país de origem, que é identificado textualmente em tabela auxiliar.\n",
    "    * CO_VIA:  via física de transporte, que é identificada textualmente em tabela auxiliar.\n",
    "    * CO_URF:  Unidade da Receita Federal, que é ligada ao um porto de desembarque, que é identificada textualmente em tabela auxiliar.\n",
    "    * SG_UF_NCM: contém a sigla unidade federativa de destino da importação, que é identificada textualmente em tabela auxiliar.\n",
    "\n",
    "  \n",
    "* Colunas quantitativas:\n",
    "    * QT_ESTAT: contém a quantidade de produto importado em unidade tipicamente utilizada no país de origem, que pode ser diferente do padrão principal, que é o quilograma.\n",
    "    * KG_LIQUIDO contém o peso da importação em quilograma\n",
    "    * VL_FOB quantifica o valor monetário da mercadoria na modalidade [FOB](https://pt.wikipedia.org/wiki/Free_on_Board#:~:text=Na%20modalidade%20FOB%2C%20o%20remetente,do%20seguro%20a%20partir%20da%C3%AD.)\n",
    "    * VL_FRETE quantifica o valor do transporte da quantidade importada, do país de origem até o Brasil.\n",
    "    * VL_SEGURO quantifica o valor do seguro sobre a mercadoria durante o transporte do país de origem até o Brasil."
   ]
  },
  {
   "cell_type": "code",
   "execution_count": 4,
   "id": "06bcf85b-f03c-473d-8fb2-3432af699222",
   "metadata": {},
   "outputs": [
    {
     "name": "stdout",
     "output_type": "stream",
     "text": [
      "\n",
      "Verifica-se que em cada linha da tabela é apresentada uma importação segmentada por fatores. O interesse deste projeto\n",
      "é somente o peso desembarcado a cada mês na Bahia e por isso todos os demais fatores serão descartados e a tabela sera\n",
      "agrupada em ano, mês e as quantidades de peso. Antes disso, porém, será procedida uma busca por erros, duplicatas e valores nulos\n",
      "\n"
     ]
    }
   ],
   "source": [
    "print('\\n\\\n",
    "Verifica-se que em cada linha da tabela é apresentada uma importação segmentada por fatores. O interesse deste projeto\\n\\\n",
    "é somente o peso desembarcado a cada mês na Bahia e por isso todos os demais fatores serão descartados e a tabela sera\\n\\\n",
    "agrupada em ano, mês e as quantidades de peso. Antes disso, porém, será procedida uma busca por erros, duplicatas e valores nulos\\n')"
   ]
  },
  {
   "cell_type": "code",
   "execution_count": 5,
   "id": "4bcaa890-0631-4f7a-9741-7fb76edcba8f",
   "metadata": {},
   "outputs": [
    {
     "data": {
      "text/plain": [
       "0"
      ]
     },
     "execution_count": 5,
     "metadata": {},
     "output_type": "execute_result"
    }
   ],
   "source": [
    "i.isna().sum().sum()"
   ]
  },
  {
   "cell_type": "code",
   "execution_count": 6,
   "id": "1ece5c08-f2f2-4bc1-9e5c-5180e7bef9a8",
   "metadata": {},
   "outputs": [
    {
     "name": "stdout",
     "output_type": "stream",
     "text": [
      "\n",
      "Não há valores nulos na tabela\n",
      "\n"
     ]
    }
   ],
   "source": [
    "print('\\nNão há valores nulos na tabela\\n')"
   ]
  },
  {
   "cell_type": "code",
   "execution_count": 7,
   "id": "c248a921-6f99-4af6-a0c8-30acdfdb9b11",
   "metadata": {},
   "outputs": [
    {
     "data": {
      "text/plain": [
       "0"
      ]
     },
     "execution_count": 7,
     "metadata": {},
     "output_type": "execute_result"
    }
   ],
   "source": [
    "i.duplicated().sum()"
   ]
  },
  {
   "cell_type": "code",
   "execution_count": 8,
   "id": "d90be0e9-978b-40f4-84af-21e9079a8e84",
   "metadata": {},
   "outputs": [
    {
     "data": {
      "text/plain": [
       "0"
      ]
     },
     "execution_count": 8,
     "metadata": {},
     "output_type": "execute_result"
    }
   ],
   "source": [
    "i.duplicated(subset=['CO_ANO','CO_MES','CO_NCM','CO_PAIS','CO_URF','SG_UF_NCM','CO_VIA']).sum()"
   ]
  },
  {
   "cell_type": "markdown",
   "id": "2ce1dad1-686d-40af-b503-a2e79b39b585",
   "metadata": {},
   "source": [
    "Não há linhas duplicadas na tabela."
   ]
  },
  {
   "cell_type": "code",
   "execution_count": 9,
   "id": "7e8cc24f-c0c9-400f-8a11-00d544e1bf15",
   "metadata": {},
   "outputs": [
    {
     "data": {
      "text/html": [
       "<div>\n",
       "<style scoped>\n",
       "    .dataframe tbody tr th:only-of-type {\n",
       "        vertical-align: middle;\n",
       "    }\n",
       "\n",
       "    .dataframe tbody tr th {\n",
       "        vertical-align: top;\n",
       "    }\n",
       "\n",
       "    .dataframe thead th {\n",
       "        text-align: right;\n",
       "    }\n",
       "</style>\n",
       "<table border=\"1\" class=\"dataframe\">\n",
       "  <thead>\n",
       "    <tr style=\"text-align: right;\">\n",
       "      <th></th>\n",
       "      <th>CO_ANO</th>\n",
       "      <th>CO_MES</th>\n",
       "      <th>CO_NCM</th>\n",
       "      <th>CO_UNID</th>\n",
       "      <th>CO_PAIS</th>\n",
       "      <th>SG_UF_NCM</th>\n",
       "      <th>CO_VIA</th>\n",
       "      <th>CO_URF</th>\n",
       "      <th>QT_ESTAT</th>\n",
       "      <th>KG_LIQUIDO</th>\n",
       "      <th>VL_FOB</th>\n",
       "      <th>VL_FRETE</th>\n",
       "      <th>VL_SEGURO</th>\n",
       "    </tr>\n",
       "  </thead>\n",
       "  <tbody>\n",
       "    <tr>\n",
       "      <th>118</th>\n",
       "      <td>1998</td>\n",
       "      <td>6</td>\n",
       "      <td>31021090</td>\n",
       "      <td>10</td>\n",
       "      <td>249</td>\n",
       "      <td>BA</td>\n",
       "      <td>4</td>\n",
       "      <td>117600</td>\n",
       "      <td>0</td>\n",
       "      <td>0</td>\n",
       "      <td>1320</td>\n",
       "      <td>140</td>\n",
       "      <td>0</td>\n",
       "    </tr>\n",
       "    <tr>\n",
       "      <th>149</th>\n",
       "      <td>1998</td>\n",
       "      <td>10</td>\n",
       "      <td>31042090</td>\n",
       "      <td>10</td>\n",
       "      <td>249</td>\n",
       "      <td>BA</td>\n",
       "      <td>4</td>\n",
       "      <td>517601</td>\n",
       "      <td>0</td>\n",
       "      <td>0</td>\n",
       "      <td>20</td>\n",
       "      <td>1</td>\n",
       "      <td>0</td>\n",
       "    </tr>\n",
       "    <tr>\n",
       "      <th>435</th>\n",
       "      <td>2001</td>\n",
       "      <td>9</td>\n",
       "      <td>31025090</td>\n",
       "      <td>10</td>\n",
       "      <td>249</td>\n",
       "      <td>BA</td>\n",
       "      <td>4</td>\n",
       "      <td>517601</td>\n",
       "      <td>0</td>\n",
       "      <td>0</td>\n",
       "      <td>43</td>\n",
       "      <td>1</td>\n",
       "      <td>0</td>\n",
       "    </tr>\n",
       "    <tr>\n",
       "      <th>483</th>\n",
       "      <td>2002</td>\n",
       "      <td>4</td>\n",
       "      <td>31042090</td>\n",
       "      <td>10</td>\n",
       "      <td>767</td>\n",
       "      <td>BA</td>\n",
       "      <td>1</td>\n",
       "      <td>517600</td>\n",
       "      <td>0</td>\n",
       "      <td>0</td>\n",
       "      <td>70</td>\n",
       "      <td>0</td>\n",
       "      <td>0</td>\n",
       "    </tr>\n",
       "    <tr>\n",
       "      <th>723</th>\n",
       "      <td>2004</td>\n",
       "      <td>5</td>\n",
       "      <td>31042090</td>\n",
       "      <td>10</td>\n",
       "      <td>249</td>\n",
       "      <td>BA</td>\n",
       "      <td>4</td>\n",
       "      <td>517700</td>\n",
       "      <td>0</td>\n",
       "      <td>0</td>\n",
       "      <td>230</td>\n",
       "      <td>8</td>\n",
       "      <td>0</td>\n",
       "    </tr>\n",
       "  </tbody>\n",
       "</table>\n",
       "</div>"
      ],
      "text/plain": [
       "     CO_ANO  CO_MES    CO_NCM  CO_UNID  CO_PAIS SG_UF_NCM  CO_VIA  CO_URF  \\\n",
       "118    1998       6  31021090       10      249        BA       4  117600   \n",
       "149    1998      10  31042090       10      249        BA       4  517601   \n",
       "435    2001       9  31025090       10      249        BA       4  517601   \n",
       "483    2002       4  31042090       10      767        BA       1  517600   \n",
       "723    2004       5  31042090       10      249        BA       4  517700   \n",
       "\n",
       "     QT_ESTAT  KG_LIQUIDO  VL_FOB  VL_FRETE  VL_SEGURO  \n",
       "118         0           0    1320       140          0  \n",
       "149         0           0      20         1          0  \n",
       "435         0           0      43         1          0  \n",
       "483         0           0      70         0          0  \n",
       "723         0           0     230         8          0  "
      ]
     },
     "execution_count": 9,
     "metadata": {},
     "output_type": "execute_result"
    }
   ],
   "source": [
    "i[i.KG_LIQUIDO==0]"
   ]
  },
  {
   "cell_type": "markdown",
   "id": "191858ad-d7e6-4eb3-81e3-186da7c84e62",
   "metadata": {},
   "source": [
    "As importações com peso zero também possuem valores próximos de zero e por isso serão todos eliminados."
   ]
  },
  {
   "cell_type": "code",
   "execution_count": 10,
   "id": "b9f7b4a7-d046-4d05-a828-c34b3a2885c3",
   "metadata": {},
   "outputs": [],
   "source": [
    "i=i[i.KG_LIQUIDO!=0]"
   ]
  },
  {
   "cell_type": "code",
   "execution_count": 11,
   "id": "a8380945-7be9-476f-a4f4-e4defd721212",
   "metadata": {},
   "outputs": [
    {
     "data": {
      "text/html": [
       "<div>\n",
       "<style scoped>\n",
       "    .dataframe tbody tr th:only-of-type {\n",
       "        vertical-align: middle;\n",
       "    }\n",
       "\n",
       "    .dataframe tbody tr th {\n",
       "        vertical-align: top;\n",
       "    }\n",
       "\n",
       "    .dataframe thead th {\n",
       "        text-align: right;\n",
       "    }\n",
       "</style>\n",
       "<table border=\"1\" class=\"dataframe\">\n",
       "  <thead>\n",
       "    <tr style=\"text-align: right;\">\n",
       "      <th></th>\n",
       "      <th>CO_ANO</th>\n",
       "      <th>CO_MES</th>\n",
       "      <th>CO_NCM</th>\n",
       "      <th>CO_UNID</th>\n",
       "      <th>CO_PAIS</th>\n",
       "      <th>SG_UF_NCM</th>\n",
       "      <th>CO_VIA</th>\n",
       "      <th>CO_URF</th>\n",
       "      <th>QT_ESTAT</th>\n",
       "      <th>KG_LIQUIDO</th>\n",
       "      <th>VL_FOB</th>\n",
       "      <th>VL_FRETE</th>\n",
       "      <th>VL_SEGURO</th>\n",
       "    </tr>\n",
       "  </thead>\n",
       "  <tbody>\n",
       "  </tbody>\n",
       "</table>\n",
       "</div>"
      ],
      "text/plain": [
       "Empty DataFrame\n",
       "Columns: [CO_ANO, CO_MES, CO_NCM, CO_UNID, CO_PAIS, SG_UF_NCM, CO_VIA, CO_URF, QT_ESTAT, KG_LIQUIDO, VL_FOB, VL_FRETE, VL_SEGURO]\n",
       "Index: []"
      ]
     },
     "execution_count": 11,
     "metadata": {},
     "output_type": "execute_result"
    }
   ],
   "source": [
    "i[i.VL_FOB==0]"
   ]
  },
  {
   "cell_type": "raw",
   "id": "bb9da910-0b3a-4f22-a65e-0eabec506586",
   "metadata": {},
   "source": [
    "Não houve registro com valor FOB igual a zero."
   ]
  },
  {
   "cell_type": "raw",
   "id": "f8724743-c092-4901-929b-505d44ae9318",
   "metadata": {},
   "source": [
    "### Filtragem de caracteríticas exigidas no projeto:  \n",
    "\n",
    "Considerando que todos os registros são importações de fertilizantes, as características de interesse são:  \n",
    "* desembarques ocorridos através dos portos de Salvador e Aratú, no Estado da Bahia\n",
    "* importações executadas por empresas sediadas no Estado da Bahia\n",
    "\n",
    "Para identificar essas características listadas acima, serão filtrados registros onde:  \n",
    "\n",
    "* as Unidades da Receita Federal brasileira, receptoras da importação,  contenham em seu nome alusão aos nomes dos portos, no caso, Aratu e Salvador.\n",
    "* as Unidades Federativas da empresa importadora contenham a sigla do Estado da Bahia, BA."
   ]
  },
  {
   "cell_type": "raw",
   "id": "a2568f47-ce0f-4e43-b704-746a448de265",
   "metadata": {},
   "source": [
    "### Seleciona as colunas de interesse desta fase do projeto:"
   ]
  },
  {
   "cell_type": "markdown",
   "id": "3d0eaac3-c9f6-48e5-ae06-9e3fb959f06a",
   "metadata": {},
   "source": [
    "As colunas de ano e mês são de interesse e serão mantidas."
   ]
  },
  {
   "cell_type": "markdown",
   "id": "42ee1761-1bc3-43a5-9d47-99d830b891db",
   "metadata": {},
   "source": [
    "As colunas utilizadas nas filtragens acima, CO_URF e SG_NCM_UF, tiveram a lista de seus possíveis valores reduzida, ficando estas colunas sem importância e por isso serão ambas descartadas."
   ]
  },
  {
   "cell_type": "code",
   "execution_count": 12,
   "id": "cb1a63c7-343f-46ce-be0a-528ec1bff387",
   "metadata": {},
   "outputs": [],
   "source": [
    "i.drop(columns=['CO_URF','SG_UF_NCM'],inplace=True)"
   ]
  },
  {
   "cell_type": "markdown",
   "id": "afc1c210-5c90-4429-8dc5-f8ff721183ed",
   "metadata": {},
   "source": [
    "Nessa primeira tentativa do projeto, em nome da simplicidade, não serão diferenciados os fertilizantes por NCM, sendo todos considerados um único produto simplesmente denominado \"fertilizante\". Assim, a coluna referente ao código NCM perde importância e não será mantida."
   ]
  },
  {
   "cell_type": "code",
   "execution_count": 13,
   "id": "9faebd6d-14e6-4750-a067-1705e99ff5f5",
   "metadata": {},
   "outputs": [],
   "source": [
    "i.drop(columns='CO_NCM',inplace=True)"
   ]
  },
  {
   "cell_type": "markdown",
   "id": "817f1884-e1fe-43ad-869c-8302e817a3aa",
   "metadata": {},
   "source": [
    "O projeto não tem plano de utilizar os dados sobre o país de origem e essa coluna será descartada."
   ]
  },
  {
   "cell_type": "code",
   "execution_count": 14,
   "id": "1605dacf-6f61-45dd-8d8f-0ba87a8df81b",
   "metadata": {},
   "outputs": [],
   "source": [
    "i.drop(columns='CO_PAIS',inplace=True)"
   ]
  },
  {
   "cell_type": "markdown",
   "id": "8283da87-feca-4819-906b-14fa9dd1bfda",
   "metadata": {},
   "source": [
    "A coluna sobre a via de transporte apresenta praticamente todos os valores ligados a via de código \"1\". Assim, somente registros ligados a essa via serão mantidos e a coluna será descartada."
   ]
  },
  {
   "cell_type": "code",
   "execution_count": 15,
   "id": "9533b650-32a0-4cbf-a657-d6e0b9e946ec",
   "metadata": {},
   "outputs": [
    {
     "data": {
      "text/plain": [
       "CO_VIA\n",
       "4           1204\n",
       "7          16900\n",
       "1    23175956049\n",
       "Name: KG_LIQUIDO, dtype: int64"
      ]
     },
     "execution_count": 15,
     "metadata": {},
     "output_type": "execute_result"
    }
   ],
   "source": [
    "i.groupby('CO_VIA')['KG_LIQUIDO'].sum().sort_values()"
   ]
  },
  {
   "cell_type": "code",
   "execution_count": 16,
   "id": "26a97cfc-35d8-4176-b648-a50725e16bf1",
   "metadata": {},
   "outputs": [],
   "source": [
    "i=i[i.CO_VIA==1]"
   ]
  },
  {
   "cell_type": "markdown",
   "id": "d8c42546-61c7-43de-9578-9b84c5d69fa0",
   "metadata": {},
   "source": [
    "Antes de descarta a coluna referente a via de transporte internacional, será feita uma conferência em relação a essa via ser igual ao conhecimento geral, que atribui a essa via ser marítima. Para isso será utilizada a tabela auxiliar que permite identificar nominalmente a via 1."
   ]
  },
  {
   "cell_type": "code",
   "execution_count": 17,
   "id": "485b6510-4b87-4261-8e10-efd9d455e154",
   "metadata": {},
   "outputs": [
    {
     "data": {
      "text/html": [
       "<div>\n",
       "<style scoped>\n",
       "    .dataframe tbody tr th:only-of-type {\n",
       "        vertical-align: middle;\n",
       "    }\n",
       "\n",
       "    .dataframe tbody tr th {\n",
       "        vertical-align: top;\n",
       "    }\n",
       "\n",
       "    .dataframe thead th {\n",
       "        text-align: right;\n",
       "    }\n",
       "</style>\n",
       "<table border=\"1\" class=\"dataframe\">\n",
       "  <thead>\n",
       "    <tr style=\"text-align: right;\">\n",
       "      <th></th>\n",
       "      <th>CO_VIA</th>\n",
       "      <th>NO_VIA</th>\n",
       "    </tr>\n",
       "  </thead>\n",
       "  <tbody>\n",
       "    <tr>\n",
       "      <th>0</th>\n",
       "      <td>10</td>\n",
       "      <td>ENTRADA/SAIDA FICTA</td>\n",
       "    </tr>\n",
       "  </tbody>\n",
       "</table>\n",
       "</div>"
      ],
      "text/plain": [
       "   CO_VIA               NO_VIA\n",
       "0      10  ENTRADA/SAIDA FICTA"
      ]
     },
     "execution_count": 17,
     "metadata": {},
     "output_type": "execute_result"
    }
   ],
   "source": [
    "via=pd.read_csv('~/git/BD/Comexstat/VIA.csv', encoding='Latin-1',sep=';')\n",
    "via.head(1)"
   ]
  },
  {
   "cell_type": "raw",
   "id": "fd91f38c-8269-4e92-8ca7-c75b79544b1d",
   "metadata": {},
   "source": [
    "print(f'É \"{via[via.CO_VIA==1].NO_VIA.str.contains(\"MARITIMA\").values[0]}\" que a via de código \"1\" é marítima.')"
   ]
  },
  {
   "cell_type": "code",
   "execution_count": 18,
   "id": "d0c2ecb1-ae87-49d1-be25-96931d1cd5d9",
   "metadata": {},
   "outputs": [],
   "source": [
    "i.drop(columns='CO_VIA',inplace=True)"
   ]
  },
  {
   "cell_type": "markdown",
   "id": "7c5001f7-b02e-4ee4-a817-bcd48d613313",
   "metadata": {},
   "source": [
    "Abaixo podemos constatar que todos os registros de importação utilizam a unidade quantitativa de código 10. Assim a coluna fica sem utilidade e será descartada. Porém , antes do descarte, confirmaremos que a unidade de valor é expressa e quilograma, como acreditamos ser."
   ]
  },
  {
   "cell_type": "code",
   "execution_count": 19,
   "id": "5d427ace-9919-44ac-bde5-11cbfb567041",
   "metadata": {},
   "outputs": [
    {
     "data": {
      "text/plain": [
       "CO_UNID\n",
       "10    23175956049\n",
       "Name: KG_LIQUIDO, dtype: int64"
      ]
     },
     "execution_count": 19,
     "metadata": {},
     "output_type": "execute_result"
    }
   ],
   "source": [
    "i.groupby('CO_UNID')['KG_LIQUIDO'].sum().sort_values()"
   ]
  },
  {
   "cell_type": "code",
   "execution_count": 20,
   "id": "3df3406a-c469-4936-9258-573cbed60588",
   "metadata": {},
   "outputs": [
    {
     "data": {
      "text/html": [
       "<div>\n",
       "<style scoped>\n",
       "    .dataframe tbody tr th:only-of-type {\n",
       "        vertical-align: middle;\n",
       "    }\n",
       "\n",
       "    .dataframe tbody tr th {\n",
       "        vertical-align: top;\n",
       "    }\n",
       "\n",
       "    .dataframe thead th {\n",
       "        text-align: right;\n",
       "    }\n",
       "</style>\n",
       "<table border=\"1\" class=\"dataframe\">\n",
       "  <thead>\n",
       "    <tr style=\"text-align: right;\">\n",
       "      <th></th>\n",
       "      <th>CO_UNID</th>\n",
       "      <th>NO_UNID</th>\n",
       "      <th>SG_UNID</th>\n",
       "    </tr>\n",
       "  </thead>\n",
       "  <tbody>\n",
       "    <tr>\n",
       "      <th>0</th>\n",
       "      <td>10</td>\n",
       "      <td>QUILOGRAMA LIQUIDO</td>\n",
       "      <td>KGL</td>\n",
       "    </tr>\n",
       "  </tbody>\n",
       "</table>\n",
       "</div>"
      ],
      "text/plain": [
       "   CO_UNID             NO_UNID SG_UNID\n",
       "0       10  QUILOGRAMA LIQUIDO   KGL  "
      ]
     },
     "execution_count": 20,
     "metadata": {},
     "output_type": "execute_result"
    }
   ],
   "source": [
    "unid=pd.read_csv('~/git/BD/Comexstat/NCM_UNIDADE.csv', encoding='Latin-1',sep=';')\n",
    "unid.head(1)"
   ]
  },
  {
   "cell_type": "raw",
   "id": "63b42dda-23ea-4393-8a87-817f8afecd2a",
   "metadata": {},
   "source": [
    "print(f'É \"{unid[unid.CO_UNID==10].NO_UNID.str.contains(\"QUILOGRAMA\").values[0]}\" que a unidade de código \"10\" é quilograma.')"
   ]
  },
  {
   "cell_type": "code",
   "execution_count": 21,
   "id": "01b73138-05d2-4842-8e3a-6e7893baa740",
   "metadata": {},
   "outputs": [],
   "source": [
    "i.drop(columns='CO_UNID',inplace=True)"
   ]
  },
  {
   "cell_type": "markdown",
   "id": "7724f9ee-0072-4a42-9574-85367095c6c3",
   "metadata": {},
   "source": [
    "A coluna 'QT_STAT' representa a quantidade importada expressa em unidades utilizadas no país de origem, que podem ser diferentes de quilograma. Isso não é de interesse do projeto e a coluna também será descartada."
   ]
  },
  {
   "cell_type": "code",
   "execution_count": 22,
   "id": "d19bdf6f-2275-475c-a442-85971057c312",
   "metadata": {},
   "outputs": [],
   "source": [
    "i.drop(columns='QT_ESTAT', inplace=True)"
   ]
  },
  {
   "cell_type": "raw",
   "id": "a481ddad-c08a-4cf6-ad82-8e98c0e3eb68",
   "metadata": {},
   "source": [
    "As colunas com valores monetários não são do interesse deste projeto e serã todas descartadas."
   ]
  },
  {
   "cell_type": "code",
   "execution_count": 23,
   "id": "066788c0-c6a9-4750-a9cf-8bdf40ced5d7",
   "metadata": {},
   "outputs": [],
   "source": [
    "i.drop(columns=['VL_FOB','VL_FRETE','VL_SEGURO'],inplace=True)"
   ]
  },
  {
   "cell_type": "raw",
   "id": "ee140bdf-7ff6-425f-8c37-5ebf1547db4d",
   "metadata": {},
   "source": [
    "### Validação dos pesos declarados"
   ]
  },
  {
   "cell_type": "raw",
   "id": "a18f98a3-c27c-4fed-a897-b33e0ddca0fa",
   "metadata": {},
   "source": [
    "Os pesos em quilograma são todos maiores do que zero."
   ]
  },
  {
   "cell_type": "code",
   "execution_count": 24,
   "id": "59bcde77-3f8b-4255-ad6f-308fe446e610",
   "metadata": {},
   "outputs": [
    {
     "data": {
      "text/html": [
       "<div>\n",
       "<style scoped>\n",
       "    .dataframe tbody tr th:only-of-type {\n",
       "        vertical-align: middle;\n",
       "    }\n",
       "\n",
       "    .dataframe tbody tr th {\n",
       "        vertical-align: top;\n",
       "    }\n",
       "\n",
       "    .dataframe thead th {\n",
       "        text-align: right;\n",
       "    }\n",
       "</style>\n",
       "<table border=\"1\" class=\"dataframe\">\n",
       "  <thead>\n",
       "    <tr style=\"text-align: right;\">\n",
       "      <th></th>\n",
       "      <th>CO_ANO</th>\n",
       "      <th>CO_MES</th>\n",
       "      <th>KG_LIQUIDO</th>\n",
       "    </tr>\n",
       "  </thead>\n",
       "  <tbody>\n",
       "  </tbody>\n",
       "</table>\n",
       "</div>"
      ],
      "text/plain": [
       "Empty DataFrame\n",
       "Columns: [CO_ANO, CO_MES, KG_LIQUIDO]\n",
       "Index: []"
      ]
     },
     "execution_count": 24,
     "metadata": {},
     "output_type": "execute_result"
    }
   ],
   "source": [
    "i[i.KG_LIQUIDO<=0]"
   ]
  },
  {
   "cell_type": "code",
   "execution_count": 25,
   "id": "30d89755-4629-4125-99f8-81e817ce49df",
   "metadata": {},
   "outputs": [
    {
     "name": "stdout",
     "output_type": "stream",
     "text": [
      "\n",
      "\n",
      "Análise Visual de Normalidade:\n",
      "Será executada utilizando-se apenas \"5 bins\", sendo de conhecimento do autor que muito mais limpezas poderiam fazer.\n",
      "É bom lembrar que o objetivo do trabalho não é fazer a precisão mais precisa possível e sim comparar previsão com e sem chuva.\n",
      "\n",
      "\n"
     ]
    }
   ],
   "source": [
    "print('\\n\\nAnálise Visual de Normalidade:\\n\\\n",
    "Será executada utilizando-se apenas \"5 bins\", sendo de conhecimento do autor que muito mais limpezas poderiam fazer.\\n\\\n",
    "É bom lembrar que o objetivo do trabalho não é fazer a precisão mais precisa possível e sim comparar previsão com e sem chuva.\\n\\n')"
   ]
  },
  {
   "cell_type": "raw",
   "id": "b923806c-c1fb-4622-895e-336fe3ae04d6",
   "metadata": {
    "scrolled": true
   },
   "source": [
    "sns.displot(height=2, aspect=1.618,data=i,x='KG_LIQUIDO', bins=5, log_scale=True).fig.suptitle('Importação de Fertilizantes na Bahia',y=1.1)"
   ]
  },
  {
   "cell_type": "raw",
   "id": "b710891a-7b7e-4d71-bd10-5b7640005af3",
   "metadata": {},
   "source": [
    "Um registro apresenta peso muito acima da normalidade, próximo de 10**9 KG_LIQUIDO."
   ]
  },
  {
   "cell_type": "code",
   "execution_count": 26,
   "id": "a780ac76-6e35-43c3-b016-43179127c087",
   "metadata": {},
   "outputs": [
    {
     "data": {
      "text/html": [
       "<div>\n",
       "<style scoped>\n",
       "    .dataframe tbody tr th:only-of-type {\n",
       "        vertical-align: middle;\n",
       "    }\n",
       "\n",
       "    .dataframe tbody tr th {\n",
       "        vertical-align: top;\n",
       "    }\n",
       "\n",
       "    .dataframe thead th {\n",
       "        text-align: right;\n",
       "    }\n",
       "</style>\n",
       "<table border=\"1\" class=\"dataframe\">\n",
       "  <thead>\n",
       "    <tr style=\"text-align: right;\">\n",
       "      <th></th>\n",
       "      <th>CO_ANO</th>\n",
       "      <th>CO_MES</th>\n",
       "      <th>KG_LIQUIDO</th>\n",
       "    </tr>\n",
       "  </thead>\n",
       "  <tbody>\n",
       "    <tr>\n",
       "      <th>627</th>\n",
       "      <td>2003</td>\n",
       "      <td>8</td>\n",
       "      <td>1418071545</td>\n",
       "    </tr>\n",
       "  </tbody>\n",
       "</table>\n",
       "</div>"
      ],
      "text/plain": [
       "     CO_ANO  CO_MES  KG_LIQUIDO\n",
       "627    2003       8  1418071545"
      ]
     },
     "execution_count": 26,
     "metadata": {},
     "output_type": "execute_result"
    }
   ],
   "source": [
    "i[i.KG_LIQUIDO==i.KG_LIQUIDO.max()]"
   ]
  },
  {
   "cell_type": "raw",
   "id": "f1c898ff-b242-4048-bc5d-26db17891546",
   "metadata": {},
   "source": [
    "Ele será substituido por interpolação dos valores do mesmo mês porém do ano anterior e do ano posterior."
   ]
  },
  {
   "cell_type": "code",
   "execution_count": 27,
   "id": "e5b5139b-541f-4b00-ae83-70440f152053",
   "metadata": {},
   "outputs": [],
   "source": [
    "CO_ANO_erro=i[i.KG_LIQUIDO==i.KG_LIQUIDO.max()].CO_ANO.values[0]\n",
    "CO_ANO_corr_anterior=i[i.CO_ANO==CO_ANO_erro+1].CO_ANO.values[0]\n",
    "CO_ANO_corr_posterior=i[i.CO_ANO==CO_ANO_erro-1].CO_ANO.values[0]\n",
    "mes_erro=i[i.KG_LIQUIDO==i.KG_LIQUIDO.max()].CO_MES.values[0]\n",
    "val_corr=i[i.CO_ANO.isin([CO_ANO_corr_anterior,CO_ANO_corr_posterior])].KG_LIQUIDO.mean()\n",
    "i.loc[i.KG_LIQUIDO==i.KG_LIQUIDO.max(),'KG_LIQUIDO']=val_corr"
   ]
  },
  {
   "cell_type": "code",
   "execution_count": 28,
   "id": "dad284b0-0b09-4aa2-a68b-19d6d6140bf4",
   "metadata": {},
   "outputs": [
    {
     "data": {
      "image/png": "[encoded data removed]",
      "text/plain": [
       "<Figure size 323.6x200 with 1 Axes>"
      ]
     },
     "metadata": {},
     "output_type": "display_data"
    }
   ],
   "source": [
    "g=sns.displot(height=2, aspect=1.618,data=i,x='KG_LIQUIDO', bins=5, log_scale=True)\n",
    "g.fig.suptitle('Importação de Fertilizantes na Bahia',y=1.1)\n",
    "plt.show()"
   ]
  },
  {
   "cell_type": "code",
   "execution_count": 29,
   "id": "7f583a8d-8d26-4c7a-867b-dcd6e70cc33c",
   "metadata": {},
   "outputs": [],
   "source": [
    "# Cria luna com a data completa e no formato apropriado\n",
    "i['date']=pd.to_datetime(i.CO_ANO.astype(str)+'/'+i.CO_MES.astype(str)+'/1')"
   ]
  },
  {
   "cell_type": "code",
   "execution_count": 30,
   "id": "4202887b-e600-4174-a08f-b2a8ca86c245",
   "metadata": {},
   "outputs": [
    {
     "data": {
      "text/html": [
       "<div>\n",
       "<style scoped>\n",
       "    .dataframe tbody tr th:only-of-type {\n",
       "        vertical-align: middle;\n",
       "    }\n",
       "\n",
       "    .dataframe tbody tr th {\n",
       "        vertical-align: top;\n",
       "    }\n",
       "\n",
       "    .dataframe thead th {\n",
       "        text-align: right;\n",
       "    }\n",
       "</style>\n",
       "<table border=\"1\" class=\"dataframe\">\n",
       "  <thead>\n",
       "    <tr style=\"text-align: right;\">\n",
       "      <th></th>\n",
       "      <th>ANO</th>\n",
       "      <th>MES</th>\n",
       "      <th>num_itens_lista</th>\n",
       "    </tr>\n",
       "  </thead>\n",
       "  <tbody>\n",
       "    <tr>\n",
       "      <th>0</th>\n",
       "      <td>1997</td>\n",
       "      <td>[1, 2, 3, 4, 5, 6, 7, 8, 9, 10, 11, 12]</td>\n",
       "      <td>12</td>\n",
       "    </tr>\n",
       "    <tr>\n",
       "      <th>1</th>\n",
       "      <td>1998</td>\n",
       "      <td>[1, 2, 3, 4, 5, 6, 7, 8, 9, 10, 11, 12]</td>\n",
       "      <td>12</td>\n",
       "    </tr>\n",
       "    <tr>\n",
       "      <th>2</th>\n",
       "      <td>1999</td>\n",
       "      <td>[1, 2, 3, 4, 5, 6, 7, 8, 9, 10, 11, 12]</td>\n",
       "      <td>12</td>\n",
       "    </tr>\n",
       "    <tr>\n",
       "      <th>3</th>\n",
       "      <td>2000</td>\n",
       "      <td>[1, 2, 3, 4, 5, 6, 7, 8, 9, 10, 11, 12]</td>\n",
       "      <td>12</td>\n",
       "    </tr>\n",
       "    <tr>\n",
       "      <th>4</th>\n",
       "      <td>2001</td>\n",
       "      <td>[1, 2, 3, 4, 5, 6, 7, 8, 9, 10, 11, 12]</td>\n",
       "      <td>12</td>\n",
       "    </tr>\n",
       "    <tr>\n",
       "      <th>5</th>\n",
       "      <td>2002</td>\n",
       "      <td>[2, 3, 4, 5, 6, 7, 8, 9, 10, 11, 12]</td>\n",
       "      <td>11</td>\n",
       "    </tr>\n",
       "    <tr>\n",
       "      <th>6</th>\n",
       "      <td>2003</td>\n",
       "      <td>[1, 2, 3, 4, 5, 6, 7, 8, 9, 10, 11, 12]</td>\n",
       "      <td>12</td>\n",
       "    </tr>\n",
       "    <tr>\n",
       "      <th>7</th>\n",
       "      <td>2004</td>\n",
       "      <td>[1, 2, 3, 4, 5, 6, 7, 8, 9, 10, 11, 12]</td>\n",
       "      <td>12</td>\n",
       "    </tr>\n",
       "    <tr>\n",
       "      <th>8</th>\n",
       "      <td>2005</td>\n",
       "      <td>[1, 2, 3, 4, 5, 6, 7, 8, 9, 10, 11, 12]</td>\n",
       "      <td>12</td>\n",
       "    </tr>\n",
       "    <tr>\n",
       "      <th>9</th>\n",
       "      <td>2006</td>\n",
       "      <td>[1, 2, 3, 4, 5, 6, 7, 8, 9, 10, 11, 12]</td>\n",
       "      <td>12</td>\n",
       "    </tr>\n",
       "    <tr>\n",
       "      <th>10</th>\n",
       "      <td>2007</td>\n",
       "      <td>[1, 2, 3, 4, 5, 6, 7, 8, 9, 10, 11, 12]</td>\n",
       "      <td>12</td>\n",
       "    </tr>\n",
       "    <tr>\n",
       "      <th>11</th>\n",
       "      <td>2008</td>\n",
       "      <td>[1, 2, 3, 4, 5, 6, 7, 8, 9, 10, 11, 12]</td>\n",
       "      <td>12</td>\n",
       "    </tr>\n",
       "    <tr>\n",
       "      <th>12</th>\n",
       "      <td>2009</td>\n",
       "      <td>[1, 2, 3, 4, 5, 6, 7, 8, 9, 10, 11, 12]</td>\n",
       "      <td>12</td>\n",
       "    </tr>\n",
       "    <tr>\n",
       "      <th>13</th>\n",
       "      <td>2010</td>\n",
       "      <td>[1, 2, 3, 4, 5, 6, 7, 8, 9, 10, 11, 12]</td>\n",
       "      <td>12</td>\n",
       "    </tr>\n",
       "    <tr>\n",
       "      <th>14</th>\n",
       "      <td>2011</td>\n",
       "      <td>[1, 2, 3, 4, 5, 6, 7, 8, 9, 10, 11, 12]</td>\n",
       "      <td>12</td>\n",
       "    </tr>\n",
       "    <tr>\n",
       "      <th>15</th>\n",
       "      <td>2012</td>\n",
       "      <td>[1, 2, 3, 4, 5, 6, 7, 8, 9, 10, 11, 12]</td>\n",
       "      <td>12</td>\n",
       "    </tr>\n",
       "    <tr>\n",
       "      <th>16</th>\n",
       "      <td>2013</td>\n",
       "      <td>[1, 2, 3, 4, 5, 6, 7, 8, 9, 10, 11, 12]</td>\n",
       "      <td>12</td>\n",
       "    </tr>\n",
       "    <tr>\n",
       "      <th>17</th>\n",
       "      <td>2014</td>\n",
       "      <td>[1, 2, 3, 4, 5, 6, 7, 8, 9, 10, 11, 12]</td>\n",
       "      <td>12</td>\n",
       "    </tr>\n",
       "    <tr>\n",
       "      <th>18</th>\n",
       "      <td>2015</td>\n",
       "      <td>[1, 2, 3, 4, 5, 6, 7, 8, 9, 10, 11, 12]</td>\n",
       "      <td>12</td>\n",
       "    </tr>\n",
       "    <tr>\n",
       "      <th>19</th>\n",
       "      <td>2016</td>\n",
       "      <td>[1, 2, 3, 4, 5, 6, 7, 8, 9, 10, 11, 12]</td>\n",
       "      <td>12</td>\n",
       "    </tr>\n",
       "    <tr>\n",
       "      <th>20</th>\n",
       "      <td>2017</td>\n",
       "      <td>[1, 2, 3, 4, 5, 6, 7, 8, 9, 10, 11, 12]</td>\n",
       "      <td>12</td>\n",
       "    </tr>\n",
       "    <tr>\n",
       "      <th>21</th>\n",
       "      <td>2018</td>\n",
       "      <td>[1, 2, 3, 4, 5, 6, 7, 8, 9, 10, 11, 12]</td>\n",
       "      <td>12</td>\n",
       "    </tr>\n",
       "    <tr>\n",
       "      <th>22</th>\n",
       "      <td>2019</td>\n",
       "      <td>[1, 2, 3, 4, 5, 6, 7, 8, 9, 10, 11, 12]</td>\n",
       "      <td>12</td>\n",
       "    </tr>\n",
       "    <tr>\n",
       "      <th>23</th>\n",
       "      <td>2020</td>\n",
       "      <td>[1, 2, 3, 4, 5, 6, 7, 8, 9, 10, 11, 12]</td>\n",
       "      <td>12</td>\n",
       "    </tr>\n",
       "    <tr>\n",
       "      <th>24</th>\n",
       "      <td>2021</td>\n",
       "      <td>[1, 2, 3, 4, 5, 6, 7, 8, 9, 10, 11, 12]</td>\n",
       "      <td>12</td>\n",
       "    </tr>\n",
       "    <tr>\n",
       "      <th>25</th>\n",
       "      <td>2022</td>\n",
       "      <td>[1, 2, 3, 4, 5, 6, 7, 8, 9, 10, 11, 12]</td>\n",
       "      <td>12</td>\n",
       "    </tr>\n",
       "    <tr>\n",
       "      <th>26</th>\n",
       "      <td>2023</td>\n",
       "      <td>[1, 2, 3, 4, 5, 6, 7, 8, 9, 10, 11, 12]</td>\n",
       "      <td>12</td>\n",
       "    </tr>\n",
       "    <tr>\n",
       "      <th>27</th>\n",
       "      <td>2024</td>\n",
       "      <td>[1]</td>\n",
       "      <td>1</td>\n",
       "    </tr>\n",
       "  </tbody>\n",
       "</table>\n",
       "</div>"
      ],
      "text/plain": [
       "     ANO                                      MES  num_itens_lista\n",
       "0   1997  [1, 2, 3, 4, 5, 6, 7, 8, 9, 10, 11, 12]               12\n",
       "1   1998  [1, 2, 3, 4, 5, 6, 7, 8, 9, 10, 11, 12]               12\n",
       "2   1999  [1, 2, 3, 4, 5, 6, 7, 8, 9, 10, 11, 12]               12\n",
       "3   2000  [1, 2, 3, 4, 5, 6, 7, 8, 9, 10, 11, 12]               12\n",
       "4   2001  [1, 2, 3, 4, 5, 6, 7, 8, 9, 10, 11, 12]               12\n",
       "5   2002     [2, 3, 4, 5, 6, 7, 8, 9, 10, 11, 12]               11\n",
       "6   2003  [1, 2, 3, 4, 5, 6, 7, 8, 9, 10, 11, 12]               12\n",
       "7   2004  [1, 2, 3, 4, 5, 6, 7, 8, 9, 10, 11, 12]               12\n",
       "8   2005  [1, 2, 3, 4, 5, 6, 7, 8, 9, 10, 11, 12]               12\n",
       "9   2006  [1, 2, 3, 4, 5, 6, 7, 8, 9, 10, 11, 12]               12\n",
       "10  2007  [1, 2, 3, 4, 5, 6, 7, 8, 9, 10, 11, 12]               12\n",
       "11  2008  [1, 2, 3, 4, 5, 6, 7, 8, 9, 10, 11, 12]               12\n",
       "12  2009  [1, 2, 3, 4, 5, 6, 7, 8, 9, 10, 11, 12]               12\n",
       "13  2010  [1, 2, 3, 4, 5, 6, 7, 8, 9, 10, 11, 12]               12\n",
       "14  2011  [1, 2, 3, 4, 5, 6, 7, 8, 9, 10, 11, 12]               12\n",
       "15  2012  [1, 2, 3, 4, 5, 6, 7, 8, 9, 10, 11, 12]               12\n",
       "16  2013  [1, 2, 3, 4, 5, 6, 7, 8, 9, 10, 11, 12]               12\n",
       "17  2014  [1, 2, 3, 4, 5, 6, 7, 8, 9, 10, 11, 12]               12\n",
       "18  2015  [1, 2, 3, 4, 5, 6, 7, 8, 9, 10, 11, 12]               12\n",
       "19  2016  [1, 2, 3, 4, 5, 6, 7, 8, 9, 10, 11, 12]               12\n",
       "20  2017  [1, 2, 3, 4, 5, 6, 7, 8, 9, 10, 11, 12]               12\n",
       "21  2018  [1, 2, 3, 4, 5, 6, 7, 8, 9, 10, 11, 12]               12\n",
       "22  2019  [1, 2, 3, 4, 5, 6, 7, 8, 9, 10, 11, 12]               12\n",
       "23  2020  [1, 2, 3, 4, 5, 6, 7, 8, 9, 10, 11, 12]               12\n",
       "24  2021  [1, 2, 3, 4, 5, 6, 7, 8, 9, 10, 11, 12]               12\n",
       "25  2022  [1, 2, 3, 4, 5, 6, 7, 8, 9, 10, 11, 12]               12\n",
       "26  2023  [1, 2, 3, 4, 5, 6, 7, 8, 9, 10, 11, 12]               12\n",
       "27  2024                                      [1]                1"
      ]
     },
     "execution_count": 30,
     "metadata": {},
     "output_type": "execute_result"
    }
   ],
   "source": [
    "k=i.groupby('CO_ANO').CO_MES.unique().reset_index()[['CO_ANO','CO_MES']].values\n",
    "\n",
    "df=pd.DataFrame(k,columns=['ANO','MES'])\n",
    "\n",
    "# Função para obter o número de itens em uma lista\n",
    "def contar_itens(lista):\n",
    "    return len(lista)\n",
    "\n",
    "# Aplicar a função à coluna e armazenar o resultado na nova coluna\n",
    "df['num_itens_lista'] = df['MES'].apply(contar_itens)\n",
    "\n",
    "df"
   ]
  },
  {
   "cell_type": "markdown",
   "id": "63937267-75e1-4af0-abab-b42d265f0729",
   "metadata": {},
   "source": [
    "Para utilizar um processamento simples, não pode ser aceito mês sem importação no conjunto de dados.\n",
    "\n",
    "A último mês onde não houve importação foi 01/2002. Portanto, todos as datas, inclusive esta, serão descartadas do projeto."
   ]
  },
  {
   "cell_type": "code",
   "execution_count": 31,
   "id": "1e7dd874-2f4d-44a2-a695-ede0cda002df",
   "metadata": {},
   "outputs": [],
   "source": [
    "i=i[i.CO_ANO>=2002]"
   ]
  },
  {
   "cell_type": "markdown",
   "id": "271b785b-2329-4ebd-ae6a-2203bed99591",
   "metadata": {},
   "source": [
    "A tabela e transformada para o formato de martiz esparsa, o que permitirá ela ser fundida adiante com a tabela de chuvas, que passará pelo mesmo processo, evitando a perda de registros."
   ]
  },
  {
   "cell_type": "code",
   "execution_count": 32,
   "id": "e1ece6a7-244e-4bf5-89b1-38b3bc68aacc",
   "metadata": {},
   "outputs": [],
   "source": [
    "# Martiz Esparsa\n",
    "i_ini=i.date.min()\n",
    "i_fim=i.date.max()\n",
    "i[['CO_ANO','CO_MES']]=i[['CO_ANO','CO_MES']].astype('category')\n",
    "i=i.groupby(by=['CO_ANO','CO_MES']).KG_LIQUIDO.sum().reset_index()\n",
    "i['date']=pd.to_datetime(i.CO_ANO.astype(str)+'/'+i.CO_MES.astype(str)+'/1')\n",
    "i=i[(i.date>=i_ini)&(i.date<=i_fim)]"
   ]
  },
  {
   "cell_type": "code",
   "execution_count": 33,
   "id": "414823c0-e65a-4f8b-91da-9e3fdba6e9b9",
   "metadata": {},
   "outputs": [],
   "source": [
    "i.to_csv('~/git/Pricing-Fertilizer-take-Rains-into-account/temp/i.csv',index=False)"
   ]
  },
  {
   "cell_type": "code",
   "execution_count": null,
   "id": "e86e3cf7-826e-4e2c-93d2-92e88a1a431e",
   "metadata": {},
   "outputs": [],
   "source": []
  },
  {
   "cell_type": "code",
   "execution_count": null,
   "id": "e89d602c-5371-49ff-9a82-7ae1128d291d",
   "metadata": {},
   "outputs": [],
   "source": []
  },
  {
   "cell_type": "code",
   "execution_count": null,
   "id": "dfaf6870-76de-44b2-974e-24d138686158",
   "metadata": {},
   "outputs": [],
   "source": []
  },
  {
   "cell_type": "code",
   "execution_count": 34,
   "id": "c524bbf2-c9b4-429a-991a-fe358c983cb9",
   "metadata": {},
   "outputs": [
    {
     "name": "stdout",
     "output_type": "stream",
     "text": [
      "\n",
      "\n",
      "3.2 Chuvas\n",
      "\n",
      "\n"
     ]
    }
   ],
   "source": [
    "print('\\n\\n3.2 Chuvas\\n\\n')"
   ]
  },
  {
   "cell_type": "code",
   "execution_count": 35,
   "id": "8ec330a5-5a63-42eb-bb10-bd5f5ff844d1",
   "metadata": {},
   "outputs": [],
   "source": [
    "# Importa as bibliotecas necessárias\n",
    "%run '~/git/Bibliotecas.ipynb'"
   ]
  },
  {
   "cell_type": "code",
   "execution_count": 36,
   "id": "285238ad-d66b-4a3d-8aaa-23c7a4f7912e",
   "metadata": {},
   "outputs": [
    {
     "ename": "KeyError",
     "evalue": "'date'",
     "output_type": "error",
     "traceback": [
      "\u001b[0;31m---------------------------------------------------------------------------\u001b[0m",
      "\u001b[0;31mKeyError\u001b[0m                                  Traceback (most recent call last)",
      "\u001b[0;32m/tmp/ipykernel_5052/1522031683.py\u001b[0m in \u001b[0;36m?\u001b[0;34m()\u001b[0m\n\u001b[1;32m      1\u001b[0m \u001b[0;31m# Carrega a tabela com histórico das chuvas no oeste baiano\u001b[0m\u001b[0;34m\u001b[0m\u001b[0;34m\u001b[0m\u001b[0m\n\u001b[1;32m      2\u001b[0m \u001b[0mc\u001b[0m\u001b[0;34m=\u001b[0m\u001b[0mpd\u001b[0m\u001b[0;34m.\u001b[0m\u001b[0mread_csv\u001b[0m\u001b[0;34m(\u001b[0m\u001b[0;34m'/home/andre301267/git/Pricing-Fertilizer-take-Rains-into-account/temp/chuvas1.csv'\u001b[0m\u001b[0;34m)\u001b[0m\u001b[0;34m\u001b[0m\u001b[0;34m\u001b[0m\u001b[0m\n\u001b[0;32m----> 3\u001b[0;31m \u001b[0mc\u001b[0m\u001b[0;34m.\u001b[0m\u001b[0msort_values\u001b[0m\u001b[0;34m(\u001b[0m\u001b[0;34m'date'\u001b[0m\u001b[0;34m)\u001b[0m\u001b[0;34m.\u001b[0m\u001b[0mhead\u001b[0m\u001b[0;34m(\u001b[0m\u001b[0;36m1\u001b[0m\u001b[0;34m)\u001b[0m\u001b[0;34m\u001b[0m\u001b[0;34m\u001b[0m\u001b[0m\n\u001b[0m",
      "\u001b[0;32m~/git/ambiente1/lib/python3.11/site-packages/pandas/core/frame.py\u001b[0m in \u001b[0;36m?\u001b[0;34m(self, by, axis, ascending, inplace, kind, na_position, ignore_index, key)\u001b[0m\n\u001b[1;32m   7185\u001b[0m             )\n\u001b[1;32m   7186\u001b[0m         \u001b[0;32melif\u001b[0m \u001b[0mlen\u001b[0m\u001b[0;34m(\u001b[0m\u001b[0mby\u001b[0m\u001b[0;34m)\u001b[0m\u001b[0;34m:\u001b[0m\u001b[0;34m\u001b[0m\u001b[0;34m\u001b[0m\u001b[0m\n\u001b[1;32m   7187\u001b[0m             \u001b[0;31m# len(by) == 1\u001b[0m\u001b[0;34m\u001b[0m\u001b[0;34m\u001b[0m\u001b[0m\n\u001b[1;32m   7188\u001b[0m \u001b[0;34m\u001b[0m\u001b[0m\n\u001b[0;32m-> 7189\u001b[0;31m             \u001b[0mk\u001b[0m \u001b[0;34m=\u001b[0m \u001b[0mself\u001b[0m\u001b[0;34m.\u001b[0m\u001b[0m_get_label_or_level_values\u001b[0m\u001b[0;34m(\u001b[0m\u001b[0mby\u001b[0m\u001b[0;34m[\u001b[0m\u001b[0;36m0\u001b[0m\u001b[0;34m]\u001b[0m\u001b[0;34m,\u001b[0m \u001b[0maxis\u001b[0m\u001b[0;34m=\u001b[0m\u001b[0maxis\u001b[0m\u001b[0;34m)\u001b[0m\u001b[0;34m\u001b[0m\u001b[0;34m\u001b[0m\u001b[0m\n\u001b[0m\u001b[1;32m   7190\u001b[0m \u001b[0;34m\u001b[0m\u001b[0m\n\u001b[1;32m   7191\u001b[0m             \u001b[0;31m# need to rewrap column in Series to apply key function\u001b[0m\u001b[0;34m\u001b[0m\u001b[0;34m\u001b[0m\u001b[0m\n\u001b[1;32m   7192\u001b[0m             \u001b[0;32mif\u001b[0m \u001b[0mkey\u001b[0m \u001b[0;32mis\u001b[0m \u001b[0;32mnot\u001b[0m \u001b[0;32mNone\u001b[0m\u001b[0;34m:\u001b[0m\u001b[0;34m\u001b[0m\u001b[0;34m\u001b[0m\u001b[0m\n",
      "\u001b[0;32m~/git/ambiente1/lib/python3.11/site-packages/pandas/core/generic.py\u001b[0m in \u001b[0;36m?\u001b[0;34m(self, key, axis)\u001b[0m\n\u001b[1;32m   1907\u001b[0m             \u001b[0mvalues\u001b[0m \u001b[0;34m=\u001b[0m \u001b[0mself\u001b[0m\u001b[0;34m.\u001b[0m\u001b[0mxs\u001b[0m\u001b[0;34m(\u001b[0m\u001b[0mkey\u001b[0m\u001b[0;34m,\u001b[0m \u001b[0maxis\u001b[0m\u001b[0;34m=\u001b[0m\u001b[0mother_axes\u001b[0m\u001b[0;34m[\u001b[0m\u001b[0;36m0\u001b[0m\u001b[0;34m]\u001b[0m\u001b[0;34m)\u001b[0m\u001b[0;34m.\u001b[0m\u001b[0m_values\u001b[0m\u001b[0;34m\u001b[0m\u001b[0;34m\u001b[0m\u001b[0m\n\u001b[1;32m   1908\u001b[0m         \u001b[0;32melif\u001b[0m \u001b[0mself\u001b[0m\u001b[0;34m.\u001b[0m\u001b[0m_is_level_reference\u001b[0m\u001b[0;34m(\u001b[0m\u001b[0mkey\u001b[0m\u001b[0;34m,\u001b[0m \u001b[0maxis\u001b[0m\u001b[0;34m=\u001b[0m\u001b[0maxis\u001b[0m\u001b[0;34m)\u001b[0m\u001b[0;34m:\u001b[0m\u001b[0;34m\u001b[0m\u001b[0;34m\u001b[0m\u001b[0m\n\u001b[1;32m   1909\u001b[0m             \u001b[0mvalues\u001b[0m \u001b[0;34m=\u001b[0m \u001b[0mself\u001b[0m\u001b[0;34m.\u001b[0m\u001b[0maxes\u001b[0m\u001b[0;34m[\u001b[0m\u001b[0maxis\u001b[0m\u001b[0;34m]\u001b[0m\u001b[0;34m.\u001b[0m\u001b[0mget_level_values\u001b[0m\u001b[0;34m(\u001b[0m\u001b[0mkey\u001b[0m\u001b[0;34m)\u001b[0m\u001b[0;34m.\u001b[0m\u001b[0m_values\u001b[0m\u001b[0;34m\u001b[0m\u001b[0;34m\u001b[0m\u001b[0m\n\u001b[1;32m   1910\u001b[0m         \u001b[0;32melse\u001b[0m\u001b[0;34m:\u001b[0m\u001b[0;34m\u001b[0m\u001b[0;34m\u001b[0m\u001b[0m\n\u001b[0;32m-> 1911\u001b[0;31m             \u001b[0;32mraise\u001b[0m \u001b[0mKeyError\u001b[0m\u001b[0;34m(\u001b[0m\u001b[0mkey\u001b[0m\u001b[0;34m)\u001b[0m\u001b[0;34m\u001b[0m\u001b[0;34m\u001b[0m\u001b[0m\n\u001b[0m\u001b[1;32m   1912\u001b[0m \u001b[0;34m\u001b[0m\u001b[0m\n\u001b[1;32m   1913\u001b[0m         \u001b[0;31m# Check for duplicates\u001b[0m\u001b[0;34m\u001b[0m\u001b[0;34m\u001b[0m\u001b[0m\n\u001b[1;32m   1914\u001b[0m         \u001b[0;32mif\u001b[0m \u001b[0mvalues\u001b[0m\u001b[0;34m.\u001b[0m\u001b[0mndim\u001b[0m \u001b[0;34m>\u001b[0m \u001b[0;36m1\u001b[0m\u001b[0;34m:\u001b[0m\u001b[0;34m\u001b[0m\u001b[0;34m\u001b[0m\u001b[0m\n",
      "\u001b[0;31mKeyError\u001b[0m: 'date'"
     ]
    }
   ],
   "source": [
    "# Carrega a tabela com histórico das chuvas no oeste baiano\n",
    "c=pd.read_csv('/home/andre301267/git/Pricing-Fertilizer-take-Rains-into-account/temp/chuvas1.csv')\n",
    "c.sort_values('date').head(1)"
   ]
  },
  {
   "cell_type": "markdown",
   "id": "20d954c4-63bf-48a6-8359-4f17fa42c16d",
   "metadata": {},
   "source": [
    "Seleciona colunas de interesse e unifica colunas que estão em duplicidade."
   ]
  },
  {
   "cell_type": "code",
   "execution_count": null,
   "id": "788558ab-1d42-4292-9535-758c9dee83d5",
   "metadata": {},
   "outputs": [],
   "source": [
    "c=c[c.columns[[20,0,21,1,22,2]]]\n",
    "c.columns=['Estação','date1','date2','hora1','hora2','mm']\n",
    "c.date1=pd.to_datetime(c.date1+'-'+c.hora1)\n",
    "c.date2=pd.to_datetime(c.date2+'-'+c.hora2)\n",
    "c['date']=pd.to_datetime(pd.concat([c.date1.dropna(),c.date2.dropna()]), utc=True)\n",
    "c['CO_ANO']=c.date.dt.year\n",
    "c['CO_MES']=c.date.dt.month\n",
    "c['Dia']=c.date.dt.day\n",
    "c['Hora']=c.date.dt.hour\n",
    "c=c[c.columns[[0,6,7,8,9,10,5]]].sort_values(by='date')"
   ]
  },
  {
   "cell_type": "code",
   "execution_count": null,
   "id": "e3f2dfe8-e1e5-4301-af2e-81641f269614",
   "metadata": {},
   "outputs": [],
   "source": [
    "print('A tabela Chuvas:')\n",
    "display(c.head(3))"
   ]
  },
  {
   "cell_type": "code",
   "execution_count": null,
   "id": "4efbeb16-7264-482e-ad46-93b6b16c68c5",
   "metadata": {},
   "outputs": [],
   "source": [
    "c.Estação=c.Estação.str.capitalize()"
   ]
  },
  {
   "cell_type": "code",
   "execution_count": null,
   "id": "3ad4f54f-1528-401a-8915-aeed0e4ffe3d",
   "metadata": {},
   "outputs": [],
   "source": [
    "print(f\"\\\n",
    "\\nApós as limpezas e correções necessárias, com base em \\\n",
    "{len(c.Estação.unique().tolist())} estações meteorológicas\\n\\\n",
    ",{','.join(c.Estação.unique())}, através de medianas,\\n\\\n",
    "se definirá uma única sequência de registros de chuva que representará a região do oeste baiano.\\n\\n\\\n",
    "Os registros estão originalmente executados por hora mas deverão ser expressos no mesmo formato de tempo\\n\\\n",
    "usado pela tabela de importação, que expressa tempo em mês.\\n\\n\")"
   ]
  },
  {
   "cell_type": "raw",
   "id": "91049dad-082c-4cfa-8070-6835344e8af3",
   "metadata": {},
   "source": [
    "Substitui valores inválidos, transforma formatação numérica para o formato desejado."
   ]
  },
  {
   "cell_type": "code",
   "execution_count": null,
   "id": "1a49fe2a-5fee-4230-863c-ab82e6c5ff6f",
   "metadata": {},
   "outputs": [],
   "source": [
    "c.loc[c.mm=='-9999','mm']=np.nan\n",
    "c.mm=c.mm.str.replace(',','.')\n",
    "c.mm=c.mm.astype('float')"
   ]
  },
  {
   "cell_type": "raw",
   "id": "06e0ef92-dde8-4d5e-8373-2855d72b8b25",
   "metadata": {},
   "source": [
    "Não há valores duplicados."
   ]
  },
  {
   "cell_type": "code",
   "execution_count": null,
   "id": "3cfe254a-c0ad-4b62-a8f9-206b4165d4e5",
   "metadata": {},
   "outputs": [],
   "source": [
    "c.duplicated().sum()"
   ]
  },
  {
   "cell_type": "raw",
   "id": "b29bd7a5-749d-4617-b674-ed3f91d97829",
   "metadata": {},
   "source": [
    "Há aproximadamente cem mil falhas nos registros de chuvas por hora."
   ]
  },
  {
   "cell_type": "code",
   "execution_count": null,
   "id": "d3c4b8d5-668b-4125-b36f-309f0155a413",
   "metadata": {},
   "outputs": [],
   "source": [
    "c.isna().sum()"
   ]
  },
  {
   "cell_type": "raw",
   "id": "64d2c9e7-772d-4a42-99dd-ce4dc5740210",
   "metadata": {},
   "source": [
    "Os registros com falha e sem falhas são separados em tabelas próprias."
   ]
  },
  {
   "cell_type": "code",
   "execution_count": null,
   "id": "4f7b452f-b89b-4a53-adf8-f48053017911",
   "metadata": {},
   "outputs": [],
   "source": [
    "c_na=c[(c.mm.isna())]\n",
    "c_not_na=c[~(c.mm.isna())]"
   ]
  },
  {
   "cell_type": "raw",
   "id": "968f671a-c3e4-40af-b2e3-370a39b52689",
   "metadata": {},
   "source": [
    "print(f\"\\n\\nAs falhas no registro de chuvas correspondem a {round(100*len(c_na)/len(c))} % do total de registros.\\n\\n\")"
   ]
  },
  {
   "cell_type": "markdown",
   "id": "8fda24d0-b5dd-46b8-866d-3e8a67101f33",
   "metadata": {},
   "source": [
    "A seguir se modifica a tabela com falhas no registro de forma a permitir a análise gráfica da distribuição das falhas ao longo das categorias existentes, com objetivo de verificar se há algum relacionamento lógico para as ocorrências."
   ]
  },
  {
   "cell_type": "raw",
   "id": "561e0c79-1f34-4e06-80bd-2e478479c027",
   "metadata": {},
   "source": [
    "w=pd.concat([\\\n",
    "c_na.groupby('CO_ANO' ).CO_MES.count().reset_index().rename(columns={'CO_MES':'count','CO_ANO':' '}).assign(tipo='CO_ANO' ),\n",
    "c_na.groupby('CO_MES' ).CO_ANO.count().reset_index().rename(columns={'CO_ANO':'count','CO_MES':' '}).assign(tipo='CO_MES' ),\n",
    "c_na.groupby('Dia'    ).CO_ANO.count().reset_index().rename(columns={'CO_ANO':'count','Dia':' '}).assign(tipo='Dia'    ),\n",
    "c_na.groupby('Hora'   ).CO_ANO.count().reset_index().rename(columns={'CO_ANO':'count','Hora':' '}).assign(tipo='Hora'   ),\n",
    "c_na.groupby('Estação').CO_ANO.count().reset_index().rename(columns={'CO_ANO':'count','Estação':' '}).assign(tipo='Estação')])\n",
    "\n",
    "for t in w.tipo.unique():\n",
    "    w_t=w[w.tipo==t]\n",
    "    sns.catplot(height=1,aspect=4*1.6,data=w_t,x=' ',y='count',kind='bar').fig.suptitle(t,y=1.1)\n",
    "    plt.xticks(rotation=90)\n",
    "    if t =='Estação':\n",
    "        plt.xticks(rotation=22.5)\n",
    "    elif t=='CO_MES':\n",
    "        plt.xticks(rotation=0)"
   ]
  },
  {
   "cell_type": "raw",
   "id": "aa3af6cc-a7b3-4e0c-b637-9e69342b8dd2",
   "metadata": {},
   "source": [
    "print(f\"\\n\\nApenas {round(100*len(c_not_na[c_not_na.mm!=0])/len(c_not_na))} % apresentam ocorrência de chuva. Os demais registros apresentam ausência de chuva.\\n\\\n",
    "Esse fato faz com que a mediana seja sempre igual a zero, impedindo o uso dela para substituir as centenas de milhares de valores nulos\\n\\\n",
    "encontrados na tabela.\")"
   ]
  },
  {
   "cell_type": "raw",
   "id": "c22b34a5-18bb-4ceb-a51f-a864623f2309",
   "metadata": {},
   "source": [
    "print('\\n\\n\\n\\n                  Horas com Falha no Registro de Chuvas\\n\\n\\n')\n",
    "plt.show()"
   ]
  },
  {
   "cell_type": "raw",
   "id": "2395b5ba-dea9-47c1-ae2e-97fd9adcbe3e",
   "metadata": {},
   "source": [
    "print('\\nConclsão: As falhas no registro de chuva aparentam estar normalmente distribuidas entre as categorias,\\\n",
    "\\nnão sendo identificado relação entre elas.\\n\\n\\n\\n')"
   ]
  },
  {
   "cell_type": "markdown",
   "id": "3402deb1-613e-474c-bff2-e1b51cdaec54",
   "metadata": {},
   "source": [
    "A seguir analizaremos a normalidade da distribuição dos registros de chuva. A cada aprovação de normalidade, se elimina a menor subdivisão de tempo, reagrupando, até chegar na subdvisão de tempo por mês, que é a medida de tempo foco deste projeto."
   ]
  },
  {
   "cell_type": "code",
   "execution_count": null,
   "id": "60d325a0-d4a4-41d3-a34c-bf0bfc8f3949",
   "metadata": {},
   "outputs": [],
   "source": [
    "# Cria nova coluna com volume de chuva em unidade logarítmica\n",
    "c_not_na['mm_hora_log']=np.log10(c_not_na.mm)"
   ]
  },
  {
   "cell_type": "raw",
   "id": "64df68fa-cf2b-4324-bfbe-5ea4f71694d6",
   "metadata": {},
   "source": [
    "# Plota volumes logarítmos de chuva por hora em gráfico com escala logarítmica (duplo logaritmo)\n",
    "sns.displot(height=2, aspect=1.618,data=c_not_na[c_not_na.mm_hora_log!=0],x='mm_hora_log',log_scale=True, bins=4).fig.suptitle('Chuvas no Oeste Baiano',y=1.1)\n",
    "plt.show()"
   ]
  },
  {
   "cell_type": "raw",
   "id": "7fb874e7-c16a-4b58-b113-cf67a7d131ed",
   "metadata": {},
   "source": [
    "A distribuição de dos volumes de chuva por hora foram considerados normais.\n",
    "A seguir se agrupam-se os valores por dia."
   ]
  },
  {
   "cell_type": "code",
   "execution_count": null,
   "id": "3e314ab2-e974-4c38-bd2c-4d016d63e121",
   "metadata": {},
   "outputs": [],
   "source": [
    "c_dia=c_not_na.groupby(by=c_not_na.columns[[0,1,2,3,4]].tolist())[['mm']].sum().reset_index()\n",
    "c_dia.head(1)"
   ]
  },
  {
   "cell_type": "raw",
   "id": "eaca4f2a-f3ed-4bf5-a9e5-41aea8b8455d",
   "metadata": {},
   "source": [
    "Recria-se a coluna com volume de chuva logarítmico."
   ]
  },
  {
   "cell_type": "code",
   "execution_count": null,
   "id": "2bd179ea-6761-48c6-a8b6-514268d705d7",
   "metadata": {},
   "outputs": [],
   "source": [
    "c_dia['mm_dia_log']=np.log10(c_dia.mm)"
   ]
  },
  {
   "cell_type": "raw",
   "id": "c39cd060-e99b-492b-9588-c3fc81a4787f",
   "metadata": {
    "scrolled": true
   },
   "source": [
    "# Plota-se novamente os volumes logarítmicos de chuva em gráfico com escala logarítmica\n",
    "sns.displot(height=2, aspect=1.618,data=c_dia[c_dia.mm_dia_log!=0],x='mm_dia_log',log_scale=True, bins=4).fig.suptitle('Chuvas no Oeste Baiano',y=1.1)\n",
    "plt.show()"
   ]
  },
  {
   "cell_type": "markdown",
   "id": "f54fddd1-1222-43d0-bdf3-78a86a4fffc6",
   "metadata": {},
   "source": [
    "Nos dois gráficos apresentados acima podemos notar:  \n",
    "\n",
    "> Devido a grande amplitude nos volumes de chuvas registrados, para possibilitar a visualização da curva normal, foi necessário aplicar duas vezes seguidas a transformação logarítmica aos volumes de chuva:\n",
    "> * primeiro: transformando diretamente o valor medido para logarítmo\n",
    "> * segundo: utilizando no gráfico a escala logarítmica"
   ]
  },
  {
   "cell_type": "markdown",
   "id": "9da959a1-80fd-4288-b9f1-3f6fd6b68fdb",
   "metadata": {},
   "source": [
    "Agrupa-se a tabela por mês"
   ]
  },
  {
   "cell_type": "code",
   "execution_count": null,
   "id": "edfbafa0-ca2f-4207-9143-01ff5fff68f0",
   "metadata": {},
   "outputs": [],
   "source": [
    "c_mes=c_dia.groupby(by=['Estação','CO_ANO','CO_MES']).mm.sum().reset_index().rename(columns={'mm':'mm_mes'})"
   ]
  },
  {
   "cell_type": "markdown",
   "id": "46eb9ada-fdc4-468a-ae40-6a4015600cdd",
   "metadata": {},
   "source": [
    "Com os agrupamentos até aqui procedidos, não é mais necessário a dupla transofrmação logaritmica, mas ainda é necessário a escala logarítmica no gráfico, para se visualizar a curva normal d distribuição de chuvas por mês."
   ]
  },
  {
   "cell_type": "code",
   "execution_count": null,
   "id": "2a815cb0-f287-48cc-93fb-1f5f766140d0",
   "metadata": {},
   "outputs": [],
   "source": [
    "sns.displot(height=2, aspect=1.618,data=c_mes[c_mes.mm_mes!=0],x='mm_mes',log_scale=True, bins=4).fig.suptitle('Chuvas no Oeste Baiano',y=1.1)\n",
    "plt.show()"
   ]
  },
  {
   "cell_type": "markdown",
   "id": "cf926ab3-82f7-4f86-8d9a-bf19614ca615",
   "metadata": {},
   "source": [
    "Para simplificar, levaremos em conta apenas um linha do tempo de registros de chuva, sendo a seguir eleiminada a subdivisão referente as estações meteorológicas e agrupando os dados utilizando os valores medianos entre as estações."
   ]
  },
  {
   "cell_type": "raw",
   "id": "d86c2bfb-cd58-4b98-831c-fdbfd70789b8",
   "metadata": {},
   "source": [
    "print(f\"\\nApós realizar todos os agrupamentos, {round(100*len(c_mes[c_mes.mm_mes!=0])/len(c_mes))} % apresentam ocorrência de chuva e os demais registros apresentam ausência de chuva.\\n\\\n",
    "Esse fato faz com que a mediana seja em sua maioria maior que zero, permitindo o uso dela para a conjunção dos dados entre estações.\\n\\n\")"
   ]
  },
  {
   "cell_type": "markdown",
   "id": "07f848e2-f424-4799-863d-c8cb53a0d8bc",
   "metadata": {},
   "source": [
    "Após realizar todos os agrupamentos necessários até alcançar a unidade de tempo desejada, por fim, os dados são considerados normais."
   ]
  },
  {
   "cell_type": "code",
   "execution_count": null,
   "id": "445ae306-2391-4f45-a9a9-37c5cae27dd0",
   "metadata": {
    "scrolled": true
   },
   "outputs": [],
   "source": [
    "# Cria coluna com data completa e no formato adequado\n",
    "c['date']=pd.to_datetime(c.CO_ANO.astype(str)+'/'+c.CO_MES.astype(str)+'/1')"
   ]
  },
  {
   "cell_type": "code",
   "execution_count": null,
   "id": "7c38c77f-cdde-4144-b662-bdbf00a69ad3",
   "metadata": {},
   "outputs": [],
   "source": [
    "# Cria matriz esparsa, com o mesmo objetivo do que foi feito com a tabela de imortações\n",
    "c_ini=c.date.iloc[0]\n",
    "c_fim=c.date.iloc[-1]\n",
    "c[['CO_ANO','CO_MES']]=c[['CO_ANO','CO_MES']].astype('category')\n",
    "c=c.groupby(by=['CO_ANO','CO_MES']).mm.sum().reset_index()\n",
    "c[['CO_ANO','CO_MES']]=c[['CO_ANO','CO_MES']].astype('int')\n",
    "c['date']=pd.to_datetime(c.CO_ANO.astype(str)+'/'+c.CO_MES.astype(str)+'/1')\n",
    "c=c[(c.date>=c_ini)&(c.date<=c_fim)]\n",
    "c=c.sort_values(by=['date'])\n",
    "c"
   ]
  },
  {
   "cell_type": "markdown",
   "id": "f2bcc7be-06e8-4a8e-bfcc-24cbaf4328d8",
   "metadata": {},
   "source": [
    "Análise de tendência de longo prazo nos volumes de chuva"
   ]
  },
  {
   "cell_type": "raw",
   "id": "5bf3f6e4-f456-4fc8-8d4a-657be2446c93",
   "metadata": {},
   "source": [
    "sns.relplot(data=c,x='CO_ANO',y='mm',height=2,aspect=1.6).fig.suptitle('Chuvas no Oeste Baiano', y=1.1)\n",
    "plt.show()"
   ]
  },
  {
   "cell_type": "markdown",
   "id": "a86d3d97-1fb1-4681-9c1e-e3df94f1570e",
   "metadata": {},
   "source": [
    "Visualmente as chuvas não apresentam tendência de longo prazo."
   ]
  },
  {
   "cell_type": "code",
   "execution_count": null,
   "id": "bb96c29f-6728-4f87-9c72-f5d3529e737e",
   "metadata": {},
   "outputs": [],
   "source": [
    "c.to_csv('~/git/Pricing-Fertilizer-take-Rains-into-account/temp/c.csv',index=False)"
   ]
  },
  {
   "cell_type": "code",
   "execution_count": null,
   "id": "18ee60ef-1d70-48e7-90f1-328fd8db7eb7",
   "metadata": {},
   "outputs": [],
   "source": [
    "print('\\n\\n 3.3 União de Importações e Chuvas\\n\\n')"
   ]
  },
  {
   "cell_type": "code",
   "execution_count": null,
   "id": "32d196b2-a548-42a6-8d76-d56e3d00096d",
   "metadata": {},
   "outputs": [],
   "source": [
    "# Importa as bibliotecas necessárias\n",
    "%run '~/git/Bibliotecas.ipynb'\n",
    "from sklearn.preprocessing import MinMaxScaler as mms\n",
    "mms=mms()\n",
    "from sklearn import metrics"
   ]
  },
  {
   "cell_type": "code",
   "execution_count": null,
   "id": "46a1a9fb-93b0-40bc-ab7d-47e01da1ab9a",
   "metadata": {},
   "outputs": [],
   "source": [
    "# Carrega as tabelas\n",
    "i=pd.read_csv('~/git/Pricing-Fertilizer-take-Rains-into-account/temp/i.csv')\n",
    "c=pd.read_csv('~/git/Pricing-Fertilizer-take-Rains-into-account/temp/c.csv')\n",
    "\n",
    "# Funde as tabelas\n",
    "i_c=i.merge(c)\n",
    "\n",
    "# Seleciona e ordena as colunas\n",
    "i_c=i_c[i_c.columns[[3,0,1,2,4]]]\n",
    "i_c.date=pd.to_datetime(i_c.date)\n",
    "i_c.head(1)"
   ]
  },
  {
   "cell_type": "raw",
   "id": "acc35b52-76cc-4a3a-9959-384e6e211d2a",
   "metadata": {},
   "source": [
    "1ª Tentativa: Simplesmente plotando os valores reais"
   ]
  },
  {
   "cell_type": "code",
   "execution_count": null,
   "id": "8252ca68-4a44-42ab-9d11-084c7f916c85",
   "metadata": {},
   "outputs": [],
   "source": [
    "icl=pd.concat([\n",
    "    i_c[['date','KG_LIQUIDO']].rename(columns={'KG_LIQUIDO':'valor'}).assign(tipo='fert_import'),\n",
    "    i_c[['date','mm'        ]].rename(columns={'mm'        :'valor'}).assign(tipo='chuva')\n",
    "])                         \n",
    "sns.relplot(data=icl,x='date',y='valor',hue='tipo', kind='line',height=2,aspect=3*1.6).fig.suptitle(f'1ª Tentaiva: Simplesmente plotando os valores reais')\n",
    "plt.show()"
   ]
  },
  {
   "cell_type": "code",
   "execution_count": null,
   "id": "1459fc15-f79d-4726-b689-c1512f2f0d02",
   "metadata": {},
   "outputs": [],
   "source": [
    "print('\\nImpraticável visualização\\n')"
   ]
  },
  {
   "cell_type": "markdown",
   "id": "f3fff254-1def-49fd-ad76-c486c041ec4e",
   "metadata": {},
   "source": [
    "Quando simplesmente comparamos as chuvas com as importações, como nessa primeira tentativa, percebemos que os dados e chuva ficam achatados na parte inferior do gráfico, sem possibilitar visualizar as variações. Isso ocorre em função da diferença de escala, que será resolvida a seguir, com o reescalonamento dos valores para uma faixa de 0 a 1, com zero sendo o menor e 1 o maior valor de cada fonte de dado.  \n",
    "\n",
    "Outra diferença entre os valores é que as importações apresentam uma tendência visual de crescimento ao longo dos anos, fato que não ocorre com as chuvas, já que o clima é mais constante do que a economia no longo prazo. Isso também será resolvido calculando-se a tendência central dos fertilizantes, que é a regressão linear, e extraindo-se ela dos valores."
   ]
  },
  {
   "cell_type": "code",
   "execution_count": null,
   "id": "252c46e4-5bb0-4d96-a6e4-7e99055cbbb3",
   "metadata": {},
   "outputs": [],
   "source": [
    "print('\\n\\n2ª Tentaiva: Extrai a tendência anual dos fertilizantes e rescalona os valores\\n\\n\\\n",
    "Devido ao vetores da economia, as importações apresentam tendência ao longo dos anos. As chuvas, não.\\n\\n')"
   ]
  },
  {
   "cell_type": "code",
   "execution_count": null,
   "id": "5cdc7e85-3673-4599-82a1-2672b352c91f",
   "metadata": {},
   "outputs": [],
   "source": [
    "i_c['kg_tend']=np.poly1d(np.polyfit(i_c.date.astype(int),i_c.KG_LIQUIDO, deg=1))(i_c.date.astype(int))"
   ]
  },
  {
   "cell_type": "code",
   "execution_count": null,
   "id": "f4e59364-1fda-4930-89ab-3554a53e2ea1",
   "metadata": {},
   "outputs": [],
   "source": [
    "i_c_l=pd.concat([\n",
    "    i_c[['date','KG_LIQUIDO']].assign(tipo='real').rename(columns={'KG_LIQUIDO':'KG'}),\n",
    "    i_c[['date','kg_tend']].assign(tipo='tendência').rename(columns={'kg_tend':'KG'})\n",
    "])\n",
    "\n",
    "sns.relplot(data=i_c_l,y='KG',x='date',height=2,aspect=1.6,hue='tipo').fig.suptitle('Importação de Fertilizantes',y=1.1)\n",
    "plt.show()"
   ]
  },
  {
   "cell_type": "code",
   "execution_count": null,
   "id": "f35bb22b-a158-4ea6-b750-2dd4d2c3c6ee",
   "metadata": {},
   "outputs": [],
   "source": [
    "i_c['kg_flat']=i_c.KG_LIQUIDO/i_c.kg_tend*i_c.kg_tend.min()"
   ]
  },
  {
   "cell_type": "code",
   "execution_count": null,
   "id": "e080ae0a-3ba9-4b32-bb9d-ae2521a1667a",
   "metadata": {},
   "outputs": [],
   "source": [
    "i_c[['import_flat_scaled','chuva_scaled']]=mms.fit_transform(i_c[['kg_flat','mm']])"
   ]
  },
  {
   "cell_type": "code",
   "execution_count": null,
   "id": "5b73eef0-55af-4ec4-aaf3-a6fffef2443c",
   "metadata": {},
   "outputs": [],
   "source": [
    "print('\\n\\nVisualizando os valores transformados\\n\\n')"
   ]
  },
  {
   "cell_type": "code",
   "execution_count": null,
   "id": "8e7b1073-6da7-4cb1-a34d-eb18d287f073",
   "metadata": {},
   "outputs": [],
   "source": [
    "i_c"
   ]
  },
  {
   "cell_type": "code",
   "execution_count": null,
   "id": "4c1f3a27-c889-4439-8256-293ab7a7d5ea",
   "metadata": {
    "scrolled": true
   },
   "outputs": [],
   "source": [
    "icl=pd.concat([\n",
    "    i_c[['date','import_flat_scaled']].rename(columns={'import_flat_scaled':'valor'}).assign(tipo='import_flat_scaled'),\n",
    "    i_c[['date','chuva_scaled'      ]].rename(columns={'chuva_scaled':'valor'      }).assign(tipo='chuva_scaled'      )\n",
    "              ]) \n",
    "score=round(metrics.mean_absolute_error(i_c.import_flat_scaled,i_c.chuva_scaled),2)\n",
    "\n",
    "sns.relplot(data=icl,x='date',y='valor',hue='tipo', kind='line',height=2,aspect=3*1.6).fig.suptitle(f'Média do Erro Absoluto (mae_score) = {score}')\n",
    "plt.show()"
   ]
  },
  {
   "cell_type": "code",
   "execution_count": null,
   "id": "f45124a9-1416-42c6-b146-2a00dd96a7aa",
   "metadata": {},
   "outputs": [],
   "source": [
    "print('\\n\\n\\\n",
    "Conforme dito, as chuvas não podem afetar as importações no mesmo mês em que elas precipitaram, já que o produto\\n\\\n",
    "a caminho não pode voltar. Então é necessário ainda testar o impacto da chuva em relação a meses posteriores.\\n\\n\\\n",
    "É bom observar que o erro absoluto médio nesta situação para em seguida comparamos com os erros calculados com as\\n\\\n",
    "datas das chuvas adiantadas.\\n\\n')"
   ]
  },
  {
   "cell_type": "markdown",
   "id": "346ddcd6-c716-41f8-b455-b0d44a6010d8",
   "metadata": {},
   "source": [
    "Nesta tentativa acima podemos ver as variações de chuvas e fertilizantes numa mesma escala e já podemos notar semelhança no formato delas, o que indica que estamos \"no caminho certo\". A distância vertical média entre os registros de chuva e importação ou, a média do erro absoluto (mae_score) foi determinada, e será base de comparação numérica com as tentaivas a seguir.\n",
    "\n",
    "Esse projeto se propõe, de certa forma, a responder se as curvas das chuvas acima induzem ou não as curvas de importação, numa relação de causa e efeito. Um fato que causa o outro deve acontecer antes do outro, além de ter magnitude proporcional. Então, para comparar a chuva com as importações, a seguir, repetidamente, os registros de chuva terão sua data alterada, somando-se a ela 1 mês a cada avaliação, buscando sobrepor as curvas o tanto quanto possível. Quando essa sobreposição for máxima, a média de erro entre uma curva e outra alcançará o seu menor valor.\n",
    "\n",
    "3ª tentaiva: Adiantando as chuvas nos meses até antes completar 1 ano de avanço"
   ]
  },
  {
   "cell_type": "code",
   "execution_count": null,
   "id": "f4c98a51-e4ed-4cc1-82da-f5646763b822",
   "metadata": {},
   "outputs": [],
   "source": [
    "q=pd.DataFrame()\n",
    "\n",
    "def ad_plot(df):\n",
    "    '''Plota os valores escalonados'''\n",
    "\n",
    "    global q\n",
    "    \n",
    "    global i_c\n",
    "    \n",
    "    i_c=ad(df)\n",
    "    \n",
    "    score=round(metrics.mean_absolute_error(i_c.import_flat_scaled,i_c.chuva_scaled),2)\n",
    "\n",
    "    r=pd.DataFrame({'Antecedência da chuva em\\nrelação a importação (meses)':[adi],'mae_fertiliz_chuva':[score]})\n",
    "\n",
    "    q=pd.concat([q,r])\n",
    "    \n",
    "    icl=pd.concat([df[['date','import_flat_scaled']].rename(columns={'import_flat_scaled':'valor'}).assign(tipo='import_flat_scaled'),\n",
    "                   df[['date','chuva_scaled']].rename(columns={'chuva_scaled':'valor'}).assign(tipo='chuva_scaled')]) \n",
    "    \n",
    "    sns.relplot(data=icl,x='date',y='valor',hue='tipo', kind='line',height=2,aspect=3*1.6)\\\n",
    "    .fig.suptitle(f'Bahia - Registro de Chuva Adiantado em {adi} mês, mae_score={score}')\n",
    "    \n",
    "    plt.show()"
   ]
  },
  {
   "cell_type": "code",
   "execution_count": null,
   "id": "76be1878-d8b2-4df1-bf35-d939d839fc12",
   "metadata": {},
   "outputs": [],
   "source": [
    "def ad(df):\n",
    "    '''Adianta 1 mês os registros de chuva'''\n",
    "    ic_f=df.drop(columns=['mm','chuva_scaled'])\n",
    "    ic_c=df.drop(columns=['KG_LIQUIDO','kg_tend','kg_flat','import_flat_scaled'])\n",
    "    ic_c.CO_MES=df.CO_MES+1\n",
    "    ic_c.loc[ic_c.CO_MES==13,'CO_ANO']=ic_c[ic_c.CO_MES==13].CO_ANO+1\n",
    "    ic_c.loc[ic_c.CO_MES==13,'CO_MES']=1\n",
    "    ic_c.date=pd.to_datetime(ic_c.CO_ANO.astype(str)+'/'+ic_c.CO_MES.astype(str)+'/1')\n",
    "    df=ic_c.merge(ic_f)\n",
    "    return df"
   ]
  },
  {
   "cell_type": "code",
   "execution_count": null,
   "id": "a824aadc-10a9-41b8-bff0-666d5516c7bf",
   "metadata": {},
   "outputs": [],
   "source": [
    "for adi in range(1,14):\n",
    "    ad_plot(i_c)\n",
    "sns.relplot(data=q,x='Antecedência da chuva em\\nrelação a importação (meses)',y='mae_fertiliz_chuva',kind='line', height=2,aspect=2*1.6)\\\n",
    ".fig.suptitle('Influência das Chuvas sobre as Importações',y=1.1)\n",
    "plt.show()"
   ]
  },
  {
   "cell_type": "code",
   "execution_count": 1,
   "id": "fdb53e67-802f-4523-8718-060ad12dfa15",
   "metadata": {},
   "outputs": [
    {
     "name": "stdout",
     "output_type": "stream",
     "text": [
      "\n",
      "\n",
      "Conclusão:\n",
      "Visualmente os volumes de chuvas parecem induzir variações nas importações de fertilizantes.\n",
      "O menor erro absoluto calculado ocorreu aos 7 meses após sua incidência das chuvas.\n",
      "\n",
      "A suavidade dos movimentos da linha traçada no último gráfico acima faz crer não representar um movimento aleatório.\n",
      "\n",
      "No próximo capítulo montaremos um teste para saber se podemos afirmar isso com confiança estatística.\n",
      "\n",
      "\n"
     ]
    }
   ],
   "source": [
    "print('\\n\\n\\\n",
    "Conclusão:\\n\\\n",
    "Visualmente os volumes de chuvas parecem induzir variações nas importações de fertilizantes.\\n\\\n",
    "O menor erro absoluto calculado ocorreu aos 7 meses após sua incidência das chuvas.\\n\\n\\\n",
    "A suavidade dos movimentos da linha traçada no último gráfico acima faz crer não representar um movimento aleatório.\\n\\n\\\n",
    "No próximo capítulo montaremos um teste para saber se podemos afirmar isso com confiança estatística.\\n\\n')"
   ]
  }
 ],
 "metadata": {
  "celltoolbar": "Raw Cell Format",
  "kernelspec": {
   "display_name": "Python 3 (ipykernel)",
   "language": "python",
   "name": "python3"
  },
  "language_info": {
   "codemirror_mode": {
    "name": "ipython",
    "version": 3
   },
   "file_extension": ".py",
   "mimetype": "text/x-python",
   "name": "python",
   "nbconvert_exporter": "python",
   "pygments_lexer": "ipython3",
   "version": "3.11.2"
  }
 },
 "nbformat": 4,
 "nbformat_minor": 5
}
