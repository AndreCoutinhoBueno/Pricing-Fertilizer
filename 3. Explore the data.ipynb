{
 "cells": [
  {
   "cell_type": "code",
   "execution_count": 1,
   "id": "14ae284c",
   "metadata": {},
   "outputs": [],
   "source": [
    "# Importa as bibliotecas necessárias\n",
    "%run '~/git/Bibliotecas.ipynb'"
   ]
  },
  {
   "cell_type": "markdown",
   "id": "69c6c067-458d-443f-9a5c-bd2d5e5bda43",
   "metadata": {},
   "source": [
    "### 1.Fertilizantes  "
   ]
  },
  {
   "cell_type": "code",
   "execution_count": 2,
   "id": "d8fab9db-59a7-4f53-8a83-e22c0b869ff3",
   "metadata": {
    "scrolled": true
   },
   "outputs": [
    {
     "data": {
      "text/html": [
       "<div>\n",
       "<style scoped>\n",
       "    .dataframe tbody tr th:only-of-type {\n",
       "        vertical-align: middle;\n",
       "    }\n",
       "\n",
       "    .dataframe tbody tr th {\n",
       "        vertical-align: top;\n",
       "    }\n",
       "\n",
       "    .dataframe thead th {\n",
       "        text-align: right;\n",
       "    }\n",
       "</style>\n",
       "<table border=\"1\" class=\"dataframe\">\n",
       "  <thead>\n",
       "    <tr style=\"text-align: right;\">\n",
       "      <th></th>\n",
       "      <th>CO_ANO</th>\n",
       "      <th>CO_MES</th>\n",
       "      <th>CO_NCM</th>\n",
       "      <th>CO_UNID</th>\n",
       "      <th>CO_PAIS</th>\n",
       "      <th>SG_UF_NCM</th>\n",
       "      <th>CO_VIA</th>\n",
       "      <th>CO_URF</th>\n",
       "      <th>QT_ESTAT</th>\n",
       "      <th>KG_LIQUIDO</th>\n",
       "      <th>VL_FOB</th>\n",
       "      <th>VL_FRETE</th>\n",
       "      <th>VL_SEGURO</th>\n",
       "    </tr>\n",
       "  </thead>\n",
       "  <tbody>\n",
       "    <tr>\n",
       "      <th>0</th>\n",
       "      <td>1997</td>\n",
       "      <td>1</td>\n",
       "      <td>31010000</td>\n",
       "      <td>10</td>\n",
       "      <td>386</td>\n",
       "      <td>SP</td>\n",
       "      <td>1</td>\n",
       "      <td>817800</td>\n",
       "      <td>15222</td>\n",
       "      <td>15222</td>\n",
       "      <td>34324</td>\n",
       "      <td>1323</td>\n",
       "      <td>177</td>\n",
       "    </tr>\n",
       "    <tr>\n",
       "      <th>1</th>\n",
       "      <td>1997</td>\n",
       "      <td>1</td>\n",
       "      <td>31010000</td>\n",
       "      <td>10</td>\n",
       "      <td>573</td>\n",
       "      <td>SP</td>\n",
       "      <td>1</td>\n",
       "      <td>817800</td>\n",
       "      <td>1800</td>\n",
       "      <td>20000</td>\n",
       "      <td>7169</td>\n",
       "      <td>2638</td>\n",
       "      <td>0</td>\n",
       "    </tr>\n",
       "    <tr>\n",
       "      <th>2</th>\n",
       "      <td>1997</td>\n",
       "      <td>1</td>\n",
       "      <td>31021010</td>\n",
       "      <td>10</td>\n",
       "      <td>850</td>\n",
       "      <td>RR</td>\n",
       "      <td>7</td>\n",
       "      <td>260151</td>\n",
       "      <td>640</td>\n",
       "      <td>32000</td>\n",
       "      <td>7360</td>\n",
       "      <td>1120</td>\n",
       "      <td>0</td>\n",
       "    </tr>\n",
       "    <tr>\n",
       "      <th>3</th>\n",
       "      <td>1997</td>\n",
       "      <td>1</td>\n",
       "      <td>31021090</td>\n",
       "      <td>10</td>\n",
       "      <td>850</td>\n",
       "      <td>RR</td>\n",
       "      <td>7</td>\n",
       "      <td>260151</td>\n",
       "      <td>96000</td>\n",
       "      <td>96000</td>\n",
       "      <td>22080</td>\n",
       "      <td>3360</td>\n",
       "      <td>0</td>\n",
       "    </tr>\n",
       "    <tr>\n",
       "      <th>4</th>\n",
       "      <td>1997</td>\n",
       "      <td>1</td>\n",
       "      <td>31022100</td>\n",
       "      <td>10</td>\n",
       "      <td>23</td>\n",
       "      <td>GO</td>\n",
       "      <td>1</td>\n",
       "      <td>817800</td>\n",
       "      <td>1900000</td>\n",
       "      <td>1900000</td>\n",
       "      <td>184300</td>\n",
       "      <td>19000</td>\n",
       "      <td>0</td>\n",
       "    </tr>\n",
       "  </tbody>\n",
       "</table>\n",
       "</div>"
      ],
      "text/plain": [
       "   CO_ANO  CO_MES    CO_NCM  CO_UNID  CO_PAIS SG_UF_NCM  CO_VIA  CO_URF  \\\n",
       "0    1997       1  31010000       10      386        SP       1  817800   \n",
       "1    1997       1  31010000       10      573        SP       1  817800   \n",
       "2    1997       1  31021010       10      850        RR       7  260151   \n",
       "3    1997       1  31021090       10      850        RR       7  260151   \n",
       "4    1997       1  31022100       10       23        GO       1  817800   \n",
       "\n",
       "   QT_ESTAT  KG_LIQUIDO  VL_FOB  VL_FRETE  VL_SEGURO  \n",
       "0     15222       15222   34324      1323        177  \n",
       "1      1800       20000    7169      2638          0  \n",
       "2       640       32000    7360      1120          0  \n",
       "3     96000       96000   22080      3360          0  \n",
       "4   1900000     1900000  184300     19000          0  "
      ]
     },
     "execution_count": 2,
     "metadata": {},
     "output_type": "execute_result"
    }
   ],
   "source": [
    "# Carrega a base de dados contendo os registros de importação de fertilizantes\n",
    "i=pd.read_csv('~/git/Pricing-Fertilizer-take-Rains-into-account/temp/imp1.csv').sort_values(by=['CO_ANO','CO_MES'])\n",
    "i.head()"
   ]
  },
  {
   "cell_type": "markdown",
   "id": "9629cfac-d0d3-4fcc-833c-ca65fd064da0",
   "metadata": {},
   "source": [
    "Visualizando a tabela podemos intuir:  \n",
    "\n",
    "* Colunas ordinais:\n",
    "    * CO_ANO: ano do regitro\n",
    "    * CO_MES: mês do registro\n",
    "\n",
    "* Colunas categóricas:\n",
    "    * CO_ANO e CO_MES: além do valor ordinal, essas colunas representam também valor categórico, ligados ao clima do momento indicaddo.\n",
    "    * CO_NCM: NCM-Nomenclatura Comum do Mercosul, que identifica o produto com base no Sistema Internacional (SH) da Organização Mundial do Comércio, acrescido de mais dois digitos extras, que especificam ainda mais as características das mercadorias importadas.\n",
    "    * CO_UNID: unidade monetária de valor utilizada no registro, que é identificada textualmente em tabela auxiliar.\n",
    "    * CO_PAIS: país de origem, que é identificado textualmente em tabela auxiliar.\n",
    "    * CO_VIA:  via física de transporte, que é identificada textualmente em tabela auxiliar.\n",
    "    * CO_URF:  Unidade da Receita Federal, que é ligada ao um porto de desembarque, que é identificada textualmente em tabela auxiliar.\n",
    "    * SG_UF_NCM: contém a sigla unidade federativa de destino da importação, que é identificada textualmente em tabela auxiliar.\n",
    "\n",
    "  \n",
    "* Colunas quantitativas:\n",
    "    * QT_ESTAT: contém a quantidade de produto importado em unidade tipicamente utilizada no país de origem, que pode ser diferente do padrão principal, que é o quilograma.\n",
    "    * KG_LIQUIDO contém o peso da importação em quilograma\n",
    "    * VL_FOB quantifica o valor monetário da mercadoria na modalidade [FOB](https://pt.wikipedia.org/wiki/Free_on_Board#:~:text=Na%20modalidade%20FOB%2C%20o%20remetente,do%20seguro%20a%20partir%20da%C3%AD.)\n",
    "    * VL_FRETE quantifica o valor do transporte da quantidade importada, do país de origem até o Brasil.\n",
    "    * VL_SEGURO quantifica o valor do seguro sobre a mercadoria durante o transporte do país de origem até o Brasil."
   ]
  },
  {
   "cell_type": "code",
   "execution_count": 3,
   "id": "e46e1708-19a4-4dcc-91d5-60c7726f6f1c",
   "metadata": {},
   "outputs": [
    {
     "name": "stdout",
     "output_type": "stream",
     "text": [
      "<class 'pandas.core.frame.DataFrame'>\n",
      "RangeIndex: 100430 entries, 0 to 100429\n",
      "Data columns (total 13 columns):\n",
      " #   Column      Non-Null Count   Dtype \n",
      "---  ------      --------------   ----- \n",
      " 0   CO_ANO      100430 non-null  int64 \n",
      " 1   CO_MES      100430 non-null  int64 \n",
      " 2   CO_NCM      100430 non-null  int64 \n",
      " 3   CO_UNID     100430 non-null  int64 \n",
      " 4   CO_PAIS     100430 non-null  int64 \n",
      " 5   SG_UF_NCM   100430 non-null  object\n",
      " 6   CO_VIA      100430 non-null  int64 \n",
      " 7   CO_URF      100430 non-null  int64 \n",
      " 8   QT_ESTAT    100430 non-null  int64 \n",
      " 9   KG_LIQUIDO  100430 non-null  int64 \n",
      " 10  VL_FOB      100430 non-null  int64 \n",
      " 11  VL_FRETE    100430 non-null  int64 \n",
      " 12  VL_SEGURO   100430 non-null  int64 \n",
      "dtypes: int64(12), object(1)\n",
      "memory usage: 10.0+ MB\n"
     ]
    }
   ],
   "source": [
    "i.info()"
   ]
  },
  {
   "cell_type": "code",
   "execution_count": 4,
   "id": "e893917e-b509-49f7-be71-b7099e24df62",
   "metadata": {},
   "outputs": [
    {
     "ename": "NameError",
     "evalue": "name 'l' is not defined",
     "output_type": "error",
     "traceback": [
      "\u001b[0;31m---------------------------------------------------------------------------\u001b[0m",
      "\u001b[0;31mNameError\u001b[0m                                 Traceback (most recent call last)",
      "Cell \u001b[0;32mIn[4], line 1\u001b[0m\n\u001b[0;32m----> 1\u001b[0m \u001b[38;5;28mprint\u001b[39m(\u001b[38;5;124mf\u001b[39m\u001b[38;5;124m'\u001b[39m\u001b[38;5;124mÉ \u001b[39m\u001b[38;5;132;01m{\u001b[39;00mnp\u001b[38;5;241m.\u001b[39mmin(l)\u001b[38;5;241m+\u001b[39m\u001b[38;5;28mlen\u001b[39m(l)\u001b[38;5;241m-\u001b[39m\u001b[38;5;241m1\u001b[39m\u001b[38;5;241m==\u001b[39mnp\u001b[38;5;241m.\u001b[39mmax(l)\u001b[38;5;132;01m}\u001b[39;00m\u001b[38;5;124m que os anos estão contínuos\u001b[39m\u001b[38;5;124m'\u001b[39m)\n",
      "\u001b[0;31mNameError\u001b[0m: name 'l' is not defined"
     ]
    }
   ],
   "source": [
    "print(f'É {np.min(l)+len(l)-1==np.max(l)} que os anos estão contínuos')"
   ]
  },
  {
   "cell_type": "code",
   "execution_count": null,
   "id": "2ae30bf9-60a1-4691-b6f7-cd9e145d6a9f",
   "metadata": {},
   "outputs": [],
   "source": [
    "k=list(i.groupby('CO_ANO').CO_MES.unique().reset_index().CO_MES.values)\n",
    "\n",
    "for K in range(len(k)):\n",
    "    w=sorted(list(k.pop()),reverse=False)\n",
    "    print(w)"
   ]
  },
  {
   "cell_type": "markdown",
   "id": "35875fbb-5d7c-406b-b541-a903bed05e3e",
   "metadata": {},
   "source": [
    "Os meses estão corretos e contínuos."
   ]
  },
  {
   "cell_type": "code",
   "execution_count": null,
   "id": "c248a921-6f99-4af6-a0c8-30acdfdb9b11",
   "metadata": {},
   "outputs": [],
   "source": [
    "i.duplicated().sum()"
   ]
  },
  {
   "cell_type": "markdown",
   "id": "782b2e9a-236d-4e68-91a2-11c9c689b04e",
   "metadata": {},
   "source": [
    "Não há valores duplicados."
   ]
  },
  {
   "cell_type": "code",
   "execution_count": null,
   "id": "d90be0e9-978b-40f4-84af-21e9079a8e84",
   "metadata": {},
   "outputs": [],
   "source": [
    "i.duplicated(subset=['CO_ANO','CO_MES','CO_NCM','CO_PAIS','CO_URF','SG_UF_NCM','CO_VIA']).sum()"
   ]
  },
  {
   "cell_type": "markdown",
   "id": "ae48ba97-7dd8-44a1-ade7-1565c450a9d0",
   "metadata": {},
   "source": [
    "Não há valores duplicados no subconjunto de categorias, e se pode concluir com isso que cada linha da tabela representa uma importação única."
   ]
  },
  {
   "cell_type": "markdown",
   "id": "83f29281-a1c7-45b0-b84d-763f24e20db2",
   "metadata": {},
   "source": [
    "### Filtragem de caracteríticas exigidas no projeto:  \n",
    "\n",
    "Considerando que todos os registros são importações de fertilizantes, as características de interesse são:  \n",
    "* desembarques ocorridos através dos portos de Salvador e Aratú, no Estado da Bahia\n",
    "* importações executadas por empresas sediadas no Estado da Bahia\n",
    "\n",
    "Para identificar essas características listadas acima, serão filtrados registros onde:  \n",
    "\n",
    "* as Unidades da Receita Federal brasileira, receptoras da importação,  contenham em seu nome alusão aos nomes dos portos, no caso, Aratu e Salvador.\n",
    "* as Unidades Federativas da empresa importadora contenham a sigla do Estado da Bahia, BA."
   ]
  },
  {
   "cell_type": "code",
   "execution_count": null,
   "id": "70633d82-49ca-4746-91ee-500f3ff060ef",
   "metadata": {},
   "outputs": [],
   "source": [
    "# Carrega tabela auxiliar com o nome das URF\n",
    "urf=pd.read_csv('~/git/BD/Comexstat/URF.csv',encoding='Latin-1',sep=';')\n",
    "\n",
    "# Identifica as URF que contenham no nome os nomes dos portos desejados, Aratu e Salvador.\n",
    "urf_salvador_aratu=urf[(urf.NO_URF.str.contains('ARATU'))|(urf.NO_URF.str.contains('SALVADOR'))].CO_URF\n",
    "\n",
    "# Filtra importações ligadas as URF identificadas e destinadas ao estado da Bahia\n",
    "i=i[(i.CO_URF.isin(urf_salvador_aratu))&(i.SG_UF_NCM=='BA')]"
   ]
  },
  {
   "cell_type": "markdown",
   "id": "8d68da77-4728-429d-8019-925b4b47c122",
   "metadata": {},
   "source": [
    "### Seleciona as colunas de interesse desta fase do projeto:"
   ]
  },
  {
   "cell_type": "markdown",
   "id": "3d0eaac3-c9f6-48e5-ae06-9e3fb959f06a",
   "metadata": {},
   "source": [
    "As colunas de ano e mês são de interesse e serão mantidas."
   ]
  },
  {
   "cell_type": "markdown",
   "id": "42ee1761-1bc3-43a5-9d47-99d830b891db",
   "metadata": {},
   "source": [
    "As colunas utilizadas nas filtragens acima, CO_URF e SG_NCM_UF, tiveram a lista de seus possíveis valores reduzida, ficando estas colunas sem importância e por isso serão ambas descartadas."
   ]
  },
  {
   "cell_type": "code",
   "execution_count": null,
   "id": "cb1a63c7-343f-46ce-be0a-528ec1bff387",
   "metadata": {},
   "outputs": [],
   "source": [
    "i.drop(columns=['CO_URF','SG_UF_NCM'],inplace=True)"
   ]
  },
  {
   "cell_type": "markdown",
   "id": "afc1c210-5c90-4429-8dc5-f8ff721183ed",
   "metadata": {},
   "source": [
    "Nessa primeira tentativa do projeto, em nome da simplicidade, não serão diferenciados os fertilizantes por NCM, sendo todos considerados um único produto simplesmente denominado \"fertilizante\". Assim, a coluna referente ao código NCM perde importância e não será mantida."
   ]
  },
  {
   "cell_type": "code",
   "execution_count": null,
   "id": "9faebd6d-14e6-4750-a067-1705e99ff5f5",
   "metadata": {},
   "outputs": [],
   "source": [
    "i.drop(columns='CO_NCM',inplace=True)"
   ]
  },
  {
   "cell_type": "markdown",
   "id": "817f1884-e1fe-43ad-869c-8302e817a3aa",
   "metadata": {},
   "source": [
    "O projeto não tem plano de utilizar os dados sobre o país de origem e essa coluna será descartada."
   ]
  },
  {
   "cell_type": "code",
   "execution_count": null,
   "id": "1605dacf-6f61-45dd-8d8f-0ba87a8df81b",
   "metadata": {},
   "outputs": [],
   "source": [
    "i.drop(columns='CO_PAIS',inplace=True)"
   ]
  },
  {
   "cell_type": "markdown",
   "id": "8283da87-feca-4819-906b-14fa9dd1bfda",
   "metadata": {},
   "source": [
    "A coluna sobre a via de transporte apresenta praticamente todos os valores ligados a via de código \"1\". Assim, somente registros ligados a essa via serão mantidos e a coluna será descartada."
   ]
  },
  {
   "cell_type": "code",
   "execution_count": null,
   "id": "9533b650-32a0-4cbf-a657-d6e0b9e946ec",
   "metadata": {},
   "outputs": [],
   "source": [
    "i.groupby('CO_VIA')['KG_LIQUIDO'].sum().sort_values()"
   ]
  },
  {
   "cell_type": "code",
   "execution_count": null,
   "id": "26a97cfc-35d8-4176-b648-a50725e16bf1",
   "metadata": {},
   "outputs": [],
   "source": [
    "i=i[i.CO_VIA==1]"
   ]
  },
  {
   "cell_type": "markdown",
   "id": "d8c42546-61c7-43de-9578-9b84c5d69fa0",
   "metadata": {},
   "source": [
    "Antes de descarta a coluna referente a via de transporte internacional, será feita uma conferência em relação a essa via ser igual ao conhecimento geral, que atribui a essa via ser marítima. Para isso será utilizada a tabela auxiliar que permite identificar nominalmente a via 1."
   ]
  },
  {
   "cell_type": "code",
   "execution_count": null,
   "id": "485b6510-4b87-4261-8e10-efd9d455e154",
   "metadata": {},
   "outputs": [],
   "source": [
    "via=pd.read_csv('~/git/BD/Comexstat/VIA.csv', encoding='Latin-1',sep=';')\n",
    "via.head(1)"
   ]
  },
  {
   "cell_type": "code",
   "execution_count": null,
   "id": "618497a3-6bdf-47a6-ac2a-852b9717ccf8",
   "metadata": {},
   "outputs": [],
   "source": [
    "print(f'É \"{via[via.CO_VIA==1].NO_VIA.str.contains(\"MARITIMA\").values[0]}\" que a via de código \"1\" é marítima.')"
   ]
  },
  {
   "cell_type": "code",
   "execution_count": null,
   "id": "d0c2ecb1-ae87-49d1-be25-96931d1cd5d9",
   "metadata": {},
   "outputs": [],
   "source": [
    "i.drop(columns='CO_VIA',inplace=True)"
   ]
  },
  {
   "cell_type": "markdown",
   "id": "7c5001f7-b02e-4ee4-a817-bcd48d613313",
   "metadata": {},
   "source": [
    "Abaixo podemos constatar que todos os registros de importação utilizam a unidade quantitativa de código 10. Assim a coluna fica sem utilidade e será descartada. Porém , antes do descarte, confirmaremos que a unidade de valor é expressa e quilograma, como acreditamos ser."
   ]
  },
  {
   "cell_type": "code",
   "execution_count": null,
   "id": "5d427ace-9919-44ac-bde5-11cbfb567041",
   "metadata": {},
   "outputs": [],
   "source": [
    "i.groupby('CO_UNID')['KG_LIQUIDO'].sum().sort_values()"
   ]
  },
  {
   "cell_type": "code",
   "execution_count": null,
   "id": "3df3406a-c469-4936-9258-573cbed60588",
   "metadata": {},
   "outputs": [],
   "source": [
    "unid=pd.read_csv('~/git/BD/Comexstat/NCM_UNIDADE.csv', encoding='Latin-1',sep=';')\n",
    "unid.head(1)"
   ]
  },
  {
   "cell_type": "code",
   "execution_count": null,
   "id": "a0b32878-a643-4391-8be1-5da4dd7e9725",
   "metadata": {},
   "outputs": [],
   "source": [
    "print(f'É \"{unid[unid.CO_UNID==10].NO_UNID.str.contains(\"QUILOGRAMA\").values[0]}\" que a unidade de código \"10\" é quilograma.')"
   ]
  },
  {
   "cell_type": "code",
   "execution_count": null,
   "id": "01b73138-05d2-4842-8e3a-6e7893baa740",
   "metadata": {},
   "outputs": [],
   "source": [
    "i.drop(columns='CO_UNID',inplace=True)"
   ]
  },
  {
   "cell_type": "markdown",
   "id": "7724f9ee-0072-4a42-9574-85367095c6c3",
   "metadata": {},
   "source": [
    "A coluna 'QT_STAT' representa a quantidade importada expressa em unidades utilizadas no país de origem, que podem ser diferentes de quilograma. Isso não é de interesse do projeto e a coluna também será descartada."
   ]
  },
  {
   "cell_type": "code",
   "execution_count": null,
   "id": "d19bdf6f-2275-475c-a442-85971057c312",
   "metadata": {},
   "outputs": [],
   "source": [
    "i.drop(columns='QT_ESTAT', inplace=True)"
   ]
  },
  {
   "cell_type": "markdown",
   "id": "1d2a10f5-f564-4f61-8a1d-5a0dd40b9530",
   "metadata": {},
   "source": [
    "As colunas com valores monetários não são do interesse deste projeto e serã todas descartadas."
   ]
  },
  {
   "cell_type": "code",
   "execution_count": null,
   "id": "066788c0-c6a9-4750-a9cf-8bdf40ced5d7",
   "metadata": {},
   "outputs": [],
   "source": [
    "i.drop(columns=['VL_FOB','VL_FRETE','VL_SEGURO'],inplace=True)"
   ]
  },
  {
   "cell_type": "markdown",
   "id": "031d8028-d75a-458a-a124-b1853619db50",
   "metadata": {},
   "source": [
    "Após eliminações de tantas colunas categóricas  a tabela restante perde diferenciação entre registros e passa a apresentar duplicatas:"
   ]
  },
  {
   "cell_type": "code",
   "execution_count": null,
   "id": "c1b23288-2ed6-4788-98fb-15bec186ac81",
   "metadata": {},
   "outputs": [],
   "source": [
    "i.duplicated(subset=['CO_ANO','CO_MES']).sum()"
   ]
  },
  {
   "cell_type": "markdown",
   "id": "fd14c075-6545-4f1c-8bfe-02cfde1ae65a",
   "metadata": {},
   "source": [
    "Procederemos o agrupamento nas categorias remanecentes, passando os registros a indicar a importação total de fertilizantes em um único mês de cada ano."
   ]
  },
  {
   "cell_type": "code",
   "execution_count": null,
   "id": "4984cd38-b007-4f33-8f46-23d4dbc9066c",
   "metadata": {},
   "outputs": [],
   "source": [
    "i=i.groupby(by=['CO_ANO','CO_MES']).KG_LIQUIDO.sum().reset_index()\n",
    "print(f\"O número de duplicatas após o reagrupamento é de {i.duplicated(subset=['CO_ANO','CO_MES']).sum()}.\")"
   ]
  },
  {
   "cell_type": "markdown",
   "id": "30abc214-0677-4809-a85e-5d1122fa15d5",
   "metadata": {},
   "source": [
    "### Validação dos pesos declarados"
   ]
  },
  {
   "cell_type": "markdown",
   "id": "fe919621-2349-4150-bc70-b10732e7dfd5",
   "metadata": {},
   "source": [
    "Os pesos em quilograma são todos maiores do que zero."
   ]
  },
  {
   "cell_type": "code",
   "execution_count": null,
   "id": "59bcde77-3f8b-4255-ad6f-308fe446e610",
   "metadata": {},
   "outputs": [],
   "source": [
    "i[i.KG_LIQUIDO<=0]"
   ]
  },
  {
   "cell_type": "markdown",
   "id": "5cd94bee-34c5-43cd-94af-4da6fa829bb0",
   "metadata": {},
   "source": [
    "Vejamos a normalidade da distribuição dos pesos em quilograma registrados:"
   ]
  },
  {
   "cell_type": "code",
   "execution_count": null,
   "id": "14a1654b-59b6-44b8-92b9-4e3a8d7ca2d5",
   "metadata": {
    "scrolled": true
   },
   "outputs": [],
   "source": [
    "g=sns.displot(height=2, aspect=1.618,data=i,x='KG_LIQUIDO',log_scale=True)\n",
    "g.fig.suptitle('Importação de Fertilizantes na Bahia',y=1.1)\n",
    "plt.show()"
   ]
  },
  {
   "cell_type": "markdown",
   "id": "34ad08c4-8534-4818-a331-5c3740dfe334",
   "metadata": {},
   "source": [
    "Os valores menores do que 10**6.3 são considerados anormais e serão descartados."
   ]
  },
  {
   "cell_type": "code",
   "execution_count": null,
   "id": "7e6ee54a-615e-45ee-bd1b-b1b0c209bb9f",
   "metadata": {},
   "outputs": [],
   "source": [
    "i=i[i.KG_LIQUIDO>10**6.3]"
   ]
  },
  {
   "cell_type": "markdown",
   "id": "fe8d05db-0097-405f-8c12-3dad053426e2",
   "metadata": {},
   "source": [
    "Um registro apresenta peso muito acima da normalidade, próximo de 10**9 KG_LIQUIDO."
   ]
  },
  {
   "cell_type": "code",
   "execution_count": null,
   "id": "a780ac76-6e35-43c3-b016-43179127c087",
   "metadata": {},
   "outputs": [],
   "source": [
    "i[i.KG_LIQUIDO==i.KG_LIQUIDO.max()]"
   ]
  },
  {
   "cell_type": "markdown",
   "id": "cb1439ac-bd9d-4e4f-9440-1adb380e2f65",
   "metadata": {},
   "source": [
    "Ele será substituido por interpolação dos valores do mesmo mês porém do ano anterior e do ano posterior."
   ]
  },
  {
   "cell_type": "code",
   "execution_count": null,
   "id": "e5b5139b-541f-4b00-ae83-70440f152053",
   "metadata": {},
   "outputs": [],
   "source": [
    "CO_ANO_erro=i[i.KG_LIQUIDO==i.KG_LIQUIDO.max()].CO_ANO.values[0]\n",
    "CO_ANO_corr_anterior=i[i.CO_ANO==CO_ANO_erro+1].CO_ANO.values[0]\n",
    "CO_ANO_corr_posterior=i[i.CO_ANO==CO_ANO_erro-1].CO_ANO.values[0]\n",
    "mes_erro=i[i.KG_LIQUIDO==i.KG_LIQUIDO.max()].CO_MES.values[0]\n",
    "val_corr=i[i.CO_ANO.isin([CO_ANO_corr_anterior,CO_ANO_corr_posterior])].KG_LIQUIDO.mean()\n",
    "i.loc[i.KG_LIQUIDO==i.KG_LIQUIDO.max(),'KG_LIQUIDO']=val_corr"
   ]
  },
  {
   "cell_type": "markdown",
   "id": "8ca0b64d-31c8-4a9b-8251-b4974d9c8875",
   "metadata": {},
   "source": [
    "A distribição dos pesos registrados ficou como a seguir e foi considerada normal."
   ]
  },
  {
   "cell_type": "code",
   "execution_count": null,
   "id": "46176358-ba7c-4755-b337-14f3272d5081",
   "metadata": {},
   "outputs": [],
   "source": [
    "sns.displot(height=2, aspect=1.618,data=i,x='KG_LIQUIDO',log_scale=True, bins=6).fig.suptitle('Importação de Fertilizantes na Bahia',y=1.1)\n",
    "plt.show()"
   ]
  },
  {
   "cell_type": "code",
   "execution_count": null,
   "id": "7f583a8d-8d26-4c7a-867b-dcd6e70cc33c",
   "metadata": {},
   "outputs": [],
   "source": [
    "# Cria luna com a data completa e no formato apropriado\n",
    "i['date']=pd.to_datetime(i.CO_ANO.astype(str)+'/'+i.CO_MES.astype(str)+'/1')"
   ]
  },
  {
   "cell_type": "markdown",
   "id": "62f32033-8522-4563-8417-ba4eb75379a3",
   "metadata": {},
   "source": [
    "Para conferência ampla, a seguir podemos ver as ocorrências por mês ao longo dos anos."
   ]
  },
  {
   "cell_type": "code",
   "execution_count": null,
   "id": "9b5f9d7e-84ce-484b-83f4-a79fa88b1766",
   "metadata": {},
   "outputs": [],
   "source": [
    "g=sns.relplot(height=2, aspect=1.618,data=i,x='date',y='KG_LIQUIDO',col='CO_MES',col_wrap=6)\n",
    "g.fig.suptitle('Importação de Fertilizantes na Bahia',y=1.1)\n",
    "#g.set_xticklabels(rotation=90)\n",
    "plt.tight_layout()"
   ]
  },
  {
   "cell_type": "markdown",
   "id": "271b785b-2329-4ebd-ae6a-2203bed99591",
   "metadata": {},
   "source": [
    "A tabela e transformada para o formato de martiz esparsa, o que permitirá ela ser fundida adiante com a tabela de chuvas, que passará pelo mesmo processo, evitando a perda de registros."
   ]
  },
  {
   "cell_type": "code",
   "execution_count": null,
   "id": "e1ece6a7-244e-4bf5-89b1-38b3bc68aacc",
   "metadata": {},
   "outputs": [],
   "source": [
    "# Martiz Esparsa\n",
    "i_ini=i.date.min()\n",
    "i_fim=i.date.max()\n",
    "i[['CO_ANO','CO_MES']]=i[['CO_ANO','CO_MES']].astype('category')\n",
    "i2=i.groupby(by=['CO_ANO','CO_MES']).KG_LIQUIDO.sum().reset_index()\n",
    "i2['date']=pd.to_datetime(i2.CO_ANO.astype(str)+'/'+i2.CO_MES.astype(str)+'/1')\n",
    "i2=i2[(i2.date>=i_ini)&(i2.date<=i_fim)]"
   ]
  },
  {
   "cell_type": "code",
   "execution_count": null,
   "id": "18869c72-052c-4264-985d-4d3279e211e0",
   "metadata": {},
   "outputs": [],
   "source": [
    "i=i2"
   ]
  },
  {
   "cell_type": "code",
   "execution_count": null,
   "id": "414823c0-e65a-4f8b-91da-9e3fdba6e9b9",
   "metadata": {},
   "outputs": [],
   "source": [
    "i.to_csv('~/git/Pricing-Fertilizer-take-Rains-into-account/temp/i.csv',index=False)"
   ]
  },
  {
   "cell_type": "code",
   "execution_count": null,
   "id": "a64c927e-1f1e-458d-94e4-4415ccdad2b7",
   "metadata": {},
   "outputs": [],
   "source": []
  },
  {
   "cell_type": "code",
   "execution_count": null,
   "id": "f54e9696-19c8-4a7a-9396-a4df8546b86b",
   "metadata": {},
   "outputs": [],
   "source": []
  },
  {
   "cell_type": "code",
   "execution_count": null,
   "id": "f681ea48-a301-4b4a-9a8a-95c61fb241c4",
   "metadata": {},
   "outputs": [],
   "source": []
  },
  {
   "cell_type": "code",
   "execution_count": null,
   "id": "41d88847-ed0d-4394-8829-ccc141fc3d38",
   "metadata": {},
   "outputs": [],
   "source": []
  },
  {
   "cell_type": "code",
   "execution_count": null,
   "id": "5f560efe-8739-4fe4-9085-c35f095eec44",
   "metadata": {},
   "outputs": [],
   "source": []
  },
  {
   "cell_type": "code",
   "execution_count": null,
   "id": "9e11b1e9-604b-4ca0-b60e-8547a1e70730",
   "metadata": {},
   "outputs": [],
   "source": []
  },
  {
   "cell_type": "markdown",
   "id": "7e08e2ed-1378-4d8f-94e7-119fa04ae407",
   "metadata": {},
   "source": [
    "### 2.Chuvas"
   ]
  },
  {
   "cell_type": "code",
   "execution_count": null,
   "id": "8ec330a5-5a63-42eb-bb10-bd5f5ff844d1",
   "metadata": {},
   "outputs": [],
   "source": [
    "# Importa as bibliotecas necessárias\n",
    "%run '~/git/Bibliotecas.ipynb'"
   ]
  },
  {
   "cell_type": "code",
   "execution_count": null,
   "id": "285238ad-d66b-4a3d-8aaa-23c7a4f7912e",
   "metadata": {},
   "outputs": [],
   "source": [
    "# Carrega a tabela com histórico das chuvas no oeste baiano\n",
    "c=pd.read_csv('/home/andre301267/git/Pricing-Fertilizer-take-Rains-into-account/temp/chuvas1.csv')"
   ]
  },
  {
   "cell_type": "markdown",
   "id": "20d954c4-63bf-48a6-8359-4f17fa42c16d",
   "metadata": {},
   "source": [
    "Seleciona colunas de interesse e unifica colunas que estão em duplicidade."
   ]
  },
  {
   "cell_type": "code",
   "execution_count": null,
   "id": "b722e131-5a23-453e-808f-2ce23383b456",
   "metadata": {},
   "outputs": [],
   "source": [
    "c=c[c.columns[[20,0,21,1,22,2]]]\n",
    "c.columns=['Estação','date1','date2','hora1','hora2','mm']\n",
    "c.date1=pd.to_datetime(c.date1+'-'+c.hora1)\n",
    "c.date2=pd.to_datetime(c.date2+'-'+c.hora2)\n",
    "c['date']=pd.to_datetime(pd.concat([c.date1.dropna(),c.date2.dropna()]), utc=True)\n",
    "c['CO_ANO']=c.date.dt.year\n",
    "c['CO_MES']=c.date.dt.month\n",
    "c['Dia']=c.date.dt.day\n",
    "c['Hora']=c.date.dt.hour\n",
    "c=c[c.columns[[0,6,7,8,9,10,5]]]\n",
    "c.head(1)"
   ]
  },
  {
   "cell_type": "markdown",
   "id": "6eeadff2-0a48-4bf3-9886-48728e488300",
   "metadata": {},
   "source": [
    "Substitui valores inválidos, transforma formatação numérica para o formato desejado."
   ]
  },
  {
   "cell_type": "code",
   "execution_count": null,
   "id": "1a49fe2a-5fee-4230-863c-ab82e6c5ff6f",
   "metadata": {},
   "outputs": [],
   "source": [
    "c.loc[c.mm=='-9999','mm']=np.nan\n",
    "c.mm=c.mm.str.replace(',','.')\n",
    "c.mm=c.mm.astype('float')"
   ]
  },
  {
   "cell_type": "markdown",
   "id": "82667a21-11a0-457f-84dc-4a60877f7333",
   "metadata": {},
   "source": [
    "Não há valores duplicados."
   ]
  },
  {
   "cell_type": "code",
   "execution_count": null,
   "id": "3cfe254a-c0ad-4b62-a8f9-206b4165d4e5",
   "metadata": {},
   "outputs": [],
   "source": [
    "c.duplicated().sum()"
   ]
  },
  {
   "cell_type": "markdown",
   "id": "9f3f0229-bf34-4ec1-a7f4-35361db3fdfb",
   "metadata": {},
   "source": [
    "Há aproximadamente cem mil falhas nos registros de chuvas por hora."
   ]
  },
  {
   "cell_type": "code",
   "execution_count": null,
   "id": "d3c4b8d5-668b-4125-b36f-309f0155a413",
   "metadata": {},
   "outputs": [],
   "source": [
    "c.isna().sum()"
   ]
  },
  {
   "cell_type": "markdown",
   "id": "90d9ab21-a7e8-4d01-8799-ddc270add491",
   "metadata": {},
   "source": [
    "Os registros com falha e sem falhas são separados em tabelas próprias."
   ]
  },
  {
   "cell_type": "code",
   "execution_count": null,
   "id": "3b2a84c0-5a83-4ca0-a330-c6836e7d77c4",
   "metadata": {},
   "outputs": [],
   "source": [
    "c_na=c[(c.mm.isna())]\n",
    "c_not_na=c[~(c.mm.isna())]"
   ]
  },
  {
   "cell_type": "code",
   "execution_count": null,
   "id": "70dcc4b7-b6b5-4a4a-a15e-c51240959c9c",
   "metadata": {},
   "outputs": [],
   "source": [
    "print(f\"As importações com falha no registro de chuvas correspondem a {round(100*len(c_na)/len(c))} % do total\")"
   ]
  },
  {
   "cell_type": "markdown",
   "id": "8fda24d0-b5dd-46b8-866d-3e8a67101f33",
   "metadata": {},
   "source": [
    "A seguir se modifica a tabela com falhas no registro de forma a permitir a análise gráfica da distribuição das falhas ao longo das categorias existentes, com objetivo de verificar se há algum relacionamento lógico para as ocorrências."
   ]
  },
  {
   "cell_type": "code",
   "execution_count": null,
   "id": "8bc7b291-92b5-4adf-9078-ae08d966d893",
   "metadata": {},
   "outputs": [],
   "source": [
    "w=pd.concat([\\\n",
    "c_na.groupby('CO_ANO' ).CO_MES.count().reset_index().rename(columns={'CO_MES':'count','CO_ANO':' '}).assign(tipo='CO_ANO' ),\n",
    "c_na.groupby('CO_MES' ).CO_ANO.count().reset_index().rename(columns={'CO_ANO':'count','CO_MES':' '}).assign(tipo='CO_MES' ),\n",
    "c_na.groupby('Dia'    ).CO_ANO.count().reset_index().rename(columns={'CO_ANO':'count','Dia':' '}).assign(tipo='Dia'    ),\n",
    "c_na.groupby('Hora'   ).CO_ANO.count().reset_index().rename(columns={'CO_ANO':'count','Hora':' '}).assign(tipo='Hora'   ),\n",
    "c_na.groupby('Estação').CO_ANO.count().reset_index().rename(columns={'CO_ANO':'count','Estação':' '}).assign(tipo='Estação')])\n",
    "\n",
    "for t in w.tipo.unique():\n",
    "    w_t=w[w.tipo==t]\n",
    "    sns.catplot(height=1,aspect=4*1.6,data=w_t,x=' ',y='count',kind='bar').fig.suptitle(t,y=1.1)\n",
    "    plt.xticks(rotation=90)\n",
    "    if t =='Estação':\n",
    "        plt.xticks(rotation=22.5)\n",
    "    elif t=='CO_MES':\n",
    "        plt.xticks(rotation=0)\n",
    "print(f\"\\n\\nApenas {round(100*len(c_not_na[c_not_na.mm!=0])/len(c_not_na))} % apresentam ocorrência de chuva. Os demais registros apresentam ausência de chuva.\\n\\\n",
    "Esse fato faz com que a mediana seja sempre igual a zero, impedindo o uso dela para substituir as centenas de milhares de valores nulos\\n\\\n",
    "encontrados na tabela.\")\n",
    "\n",
    "print('\\n\\n\\n\\n                  Horas com Falha no Registro de Chuvas\\n\\n\\n')\n",
    "plt.show()\n",
    "\n",
    "print('\\nConclsão: As falhas no registro de chuva aparentam estar normalmente distribuidas entre as categorias,\\\n",
    "\\nnão sendo identificado relação entre elas.\\n\\n\\n\\n')"
   ]
  },
  {
   "cell_type": "markdown",
   "id": "3402deb1-613e-474c-bff2-e1b51cdaec54",
   "metadata": {},
   "source": [
    "A seguir analizaremos a normalidade da distribuição dos registros de chuva. A cada aprovação de normalidade, se elimina a menor subdivisão de tempo, reagrupando, até chegar na subdvisão de tempo por mês, que é a medida de tempo foco deste projeto."
   ]
  },
  {
   "cell_type": "code",
   "execution_count": null,
   "id": "60d325a0-d4a4-41d3-a34c-bf0bfc8f3949",
   "metadata": {},
   "outputs": [],
   "source": [
    "# Cria nova coluna com volume de chuva em unidade logarítmica\n",
    "c_not_na['mm_hora_log']=np.log10(c_not_na.mm)"
   ]
  },
  {
   "cell_type": "code",
   "execution_count": null,
   "id": "63cdff80-88e8-41cc-844c-ad567b64d9c3",
   "metadata": {},
   "outputs": [],
   "source": [
    "# Plota volumes logarítmos de chuva por hora em gráfico com escala logarítmica (duplo logaritmo)\n",
    "sns.displot(height=2, aspect=1.618,data=c_not_na[c_not_na.mm_hora_log!=0],x='mm_hora_log',log_scale=True, bins=4).fig.suptitle('Chuvas no Oeste Baiano',y=1.1)\n",
    "plt.show()"
   ]
  },
  {
   "cell_type": "markdown",
   "id": "4f3db128-8278-4c81-812c-8645c8f0050a",
   "metadata": {},
   "source": [
    "A distribuição de dos volumes de chuva por hora foram considerados normais.\n",
    "A seguir se agrupam-se os valores por dia."
   ]
  },
  {
   "cell_type": "code",
   "execution_count": null,
   "id": "3e314ab2-e974-4c38-bd2c-4d016d63e121",
   "metadata": {},
   "outputs": [],
   "source": [
    "c_dia=c_not_na.groupby(by=c_not_na.columns[[0,1,2,3,4]].tolist())[['mm']].sum().reset_index()\n",
    "c_dia.head(1)"
   ]
  },
  {
   "cell_type": "markdown",
   "id": "9488dbf6-44c2-4da1-95fa-60cfad604580",
   "metadata": {},
   "source": [
    "Recria-se a coluna com volume de chuva logarítmico."
   ]
  },
  {
   "cell_type": "code",
   "execution_count": null,
   "id": "2bd179ea-6761-48c6-a8b6-514268d705d7",
   "metadata": {},
   "outputs": [],
   "source": [
    "c_dia['mm_dia_log']=np.log10(c_dia.mm)"
   ]
  },
  {
   "cell_type": "code",
   "execution_count": null,
   "id": "536357be-1052-44be-b7a6-e97e06f13d5a",
   "metadata": {
    "scrolled": true
   },
   "outputs": [],
   "source": [
    "# Plota-se novamente os volumes logarítmicos de chuva em gráfico com escala logarítmica\n",
    "sns.displot(height=2, aspect=1.618,data=c_dia[c_dia.mm_dia_log!=0],x='mm_dia_log',log_scale=True, bins=4).fig.suptitle('Chuvas no Oeste Baiano',y=1.1)\n",
    "plt.show()"
   ]
  },
  {
   "cell_type": "markdown",
   "id": "f54fddd1-1222-43d0-bdf3-78a86a4fffc6",
   "metadata": {},
   "source": [
    "Nos dois gráficos apresentados acima podemos notar:  \n",
    "\n",
    "> Devido a grande amplitude nos volumes de chuvas registrados, para possibilitar a visualização da curva normal, foi necessário aplicar duas vezes seguidas a transformação logarítmica aos volumes de chuva:\n",
    "> * primeiro: transformando diretamente o valor medido para logarítmo\n",
    "> * segundo: utilizando no gráfico a escala logarítmica"
   ]
  },
  {
   "cell_type": "markdown",
   "id": "9da959a1-80fd-4288-b9f1-3f6fd6b68fdb",
   "metadata": {},
   "source": [
    "Agrupa-se a tabela por mês"
   ]
  },
  {
   "cell_type": "code",
   "execution_count": null,
   "id": "edfbafa0-ca2f-4207-9143-01ff5fff68f0",
   "metadata": {},
   "outputs": [],
   "source": [
    "c_mes=c_dia.groupby(by=['Estação','CO_ANO','CO_MES']).mm.sum().reset_index().rename(columns={'mm':'mm_mes'})"
   ]
  },
  {
   "cell_type": "markdown",
   "id": "46eb9ada-fdc4-468a-ae40-6a4015600cdd",
   "metadata": {},
   "source": [
    "Com os agrupamentos até aqui procedidos, não é mais necessário a dupla transofrmação logaritmica, mas ainda é necessário a escala logarítmica no gráfico, para se visualizar a curva normal d distribuição de chuvas por mês."
   ]
  },
  {
   "cell_type": "code",
   "execution_count": null,
   "id": "2a815cb0-f287-48cc-93fb-1f5f766140d0",
   "metadata": {},
   "outputs": [],
   "source": [
    "sns.displot(height=2, aspect=1.618,data=c_mes[c_mes.mm_mes!=0],x='mm_mes',log_scale=True, bins=4).fig.suptitle('Chuvas no Oeste Baiano',y=1.1)\n",
    "plt.show()"
   ]
  },
  {
   "cell_type": "markdown",
   "id": "cf926ab3-82f7-4f86-8d9a-bf19614ca615",
   "metadata": {},
   "source": [
    "Para simplificar, levaremos em conta apenas um linha do tempo de registros de chuva, sendo a seguir eleiminada a subdivisão referente as estações meteorológicas e agrupando os dados utilizando os valores medianos entre as estações."
   ]
  },
  {
   "cell_type": "code",
   "execution_count": null,
   "id": "36294c24-627d-4947-8ca1-c8365e3a29e7",
   "metadata": {},
   "outputs": [],
   "source": [
    "print(f\"\\nApós realizar todos os agrupamentos, {round(100*len(c_mes[c_mes.mm_mes!=0])/len(c_mes))} % apresentam ocorrência de chuva e os demais registros apresentam ausência de chuva.\\n\\\n",
    "Esse fato faz com que a mediana seja em sua maioria maior que zero, permitindo o uso dela para a conjunção dos dados entre estações.\\n\\n\")"
   ]
  },
  {
   "cell_type": "code",
   "execution_count": null,
   "id": "e7a350f1-6335-4ff4-b453-6fc36f2375ae",
   "metadata": {},
   "outputs": [],
   "source": [
    "c=c_mes.groupby(by=['CO_ANO','CO_MES']).mm_mes.median().reset_index()"
   ]
  },
  {
   "cell_type": "code",
   "execution_count": null,
   "id": "50f38cbd-d981-460a-a322-ee4f8ce25419",
   "metadata": {},
   "outputs": [],
   "source": [
    "sns.displot(height=2, aspect=1.618,data=c[c.mm_mes!=0],x='mm_mes',log_scale=True,bins=4).fig.suptitle('Falhas no Registro de Chuvas',y=1.1)\n",
    "plt.show()"
   ]
  },
  {
   "cell_type": "markdown",
   "id": "07f848e2-f424-4799-863d-c8cb53a0d8bc",
   "metadata": {},
   "source": [
    "Após realizar todos os agrupamentos necessários até alcançar a unidade de tempo desejada, por fim, os dados são considerados normais."
   ]
  },
  {
   "cell_type": "code",
   "execution_count": null,
   "id": "445ae306-2391-4f45-a9a9-37c5cae27dd0",
   "metadata": {
    "scrolled": true
   },
   "outputs": [],
   "source": [
    "# Cria coluna com data completa e no formato adequado\n",
    "c['date']=pd.to_datetime(c.CO_ANO.astype(str)+'/'+c.CO_MES.astype(str)+'/1')"
   ]
  },
  {
   "cell_type": "code",
   "execution_count": null,
   "id": "7c38c77f-cdde-4144-b662-bdbf00a69ad3",
   "metadata": {},
   "outputs": [],
   "source": [
    "# Cria matriz esparsa, com o mesmo objetivo do que foi feito com a tabela de imortações\n",
    "c_ini=c.date.iloc[0]\n",
    "c_fim=c.date.iloc[-1]\n",
    "c[['CO_ANO','CO_MES']]=c[['CO_ANO','CO_MES']].astype('category')\n",
    "c=c.groupby(by=['CO_ANO','CO_MES']).mm_mes.sum().reset_index()\n",
    "c[['CO_ANO','CO_MES']]=c[['CO_ANO','CO_MES']].astype('int')\n",
    "c['date']=pd.to_datetime(c.CO_ANO.astype(str)+'/'+c.CO_MES.astype(str)+'/1')\n",
    "c=c[(c.date>=c_ini)&(c.date<=c_fim)]\n",
    "c=c.rename(columns={'mm_mes':'mm'})\n",
    "c=c.sort_values(by=['date'])\n",
    "c"
   ]
  },
  {
   "cell_type": "markdown",
   "id": "f2bcc7be-06e8-4a8e-bfcc-24cbaf4328d8",
   "metadata": {},
   "source": [
    "Análise de tendência delongo prazo nos volums de chuva"
   ]
  },
  {
   "cell_type": "code",
   "execution_count": null,
   "id": "d554cb8f-f13f-4dc0-a562-30a9e1427774",
   "metadata": {},
   "outputs": [],
   "source": [
    "sns.lmplot(data=c,x='CO_ANO',y='mm')"
   ]
  },
  {
   "cell_type": "markdown",
   "id": "a86d3d97-1fb1-4681-9c1e-e3df94f1570e",
   "metadata": {},
   "source": [
    "Considerando o intervalo de confiança se pode dizer que não há alta confiança para se afirmar que há tendência de longo prazo diferente de zero. Assim, essa etapa não será executada para as chuvas."
   ]
  },
  {
   "cell_type": "code",
   "execution_count": null,
   "id": "bb96c29f-6728-4f87-9c72-f5d3529e737e",
   "metadata": {},
   "outputs": [],
   "source": [
    "c.to_csv('~/git/Pricing-Fertilizer-take-Rains-into-account/temp/c.csv',index=False)"
   ]
  },
  {
   "cell_type": "code",
   "execution_count": null,
   "id": "0163f537-fa2d-46dc-b391-0a71134c5d61",
   "metadata": {},
   "outputs": [],
   "source": []
  },
  {
   "cell_type": "code",
   "execution_count": null,
   "id": "34e6eb7e-2171-45bc-925f-ab80e49d61ee",
   "metadata": {},
   "outputs": [],
   "source": []
  },
  {
   "cell_type": "code",
   "execution_count": null,
   "id": "40fcea15-9b60-4977-8e86-02801a897cd4",
   "metadata": {},
   "outputs": [],
   "source": []
  },
  {
   "cell_type": "code",
   "execution_count": null,
   "id": "6ec88b3c-134a-44ae-b1f1-029027a6eb90",
   "metadata": {},
   "outputs": [],
   "source": []
  },
  {
   "cell_type": "code",
   "execution_count": null,
   "id": "c1385a02-bba0-4d90-9f08-97a3885a1a94",
   "metadata": {},
   "outputs": [],
   "source": []
  },
  {
   "cell_type": "code",
   "execution_count": null,
   "id": "11078158-b0d0-4205-8dae-25962890475a",
   "metadata": {},
   "outputs": [],
   "source": []
  },
  {
   "cell_type": "code",
   "execution_count": null,
   "id": "ccf32a8f-1243-4d39-9e8d-b49b4a7bbfca",
   "metadata": {},
   "outputs": [],
   "source": []
  },
  {
   "cell_type": "markdown",
   "id": "2a37e7d7-fb47-48b3-9f0f-e49c5fa57148",
   "metadata": {},
   "source": [
    "### 3. Relação entre Importações e Chuvas - Visualização e Cálculo"
   ]
  },
  {
   "cell_type": "code",
   "execution_count": null,
   "id": "32d196b2-a548-42a6-8d76-d56e3d00096d",
   "metadata": {},
   "outputs": [],
   "source": [
    "# Importa as bibliotecas necessárias\n",
    "%run '~/git/Bibliotecas.ipynb'\n",
    "from sklearn.preprocessing import MinMaxScaler as mms\n",
    "mms=mms()\n",
    "from sklearn import metrics"
   ]
  },
  {
   "cell_type": "code",
   "execution_count": null,
   "id": "46a1a9fb-93b0-40bc-ab7d-47e01da1ab9a",
   "metadata": {},
   "outputs": [],
   "source": [
    "# Carrega as tabelas\n",
    "i=pd.read_csv('~/git/Pricing-Fertilizer-take-Rains-into-account/temp/i.csv')\n",
    "c=pd.read_csv('~/git/Pricing-Fertilizer-take-Rains-into-account/temp/c.csv')\n",
    "\n",
    "# Funde as tabelas\n",
    "i_c=i.merge(c)\n",
    "\n",
    "# Seleciona e ordena as colunas\n",
    "i_c=i_c[i_c.columns[[3,0,1,2,4]]]\n",
    "i_c.date=pd.to_datetime(i_c.date)\n",
    "i_c.head(1)"
   ]
  },
  {
   "cell_type": "markdown",
   "id": "9617c75a-5689-4e1a-8cf2-a899550a4586",
   "metadata": {},
   "source": [
    "1ª Tentaiva: Simplesmente plotandoos valores reais"
   ]
  },
  {
   "cell_type": "code",
   "execution_count": null,
   "id": "5712b672-88bc-4c2d-aafc-529bacacc737",
   "metadata": {},
   "outputs": [],
   "source": [
    "icl=pd.concat([\n",
    "    i_c[['date','KG_LIQUIDO']].rename(columns={'KG_LIQUIDO':'valor'}).assign(tipo='fert_import'),\n",
    "    i_c[['date','mm'        ]].rename(columns={'mm'        :'valor'}).assign(tipo='chuva')\n",
    "])                         \n",
    "sns.relplot(data=icl,x='date',y='valor',hue='tipo', kind='line',height=2,aspect=3*1.6).fig.suptitle('Bahia')\n",
    "plt.show()"
   ]
  },
  {
   "cell_type": "markdown",
   "id": "a8ab0806-148b-4f88-b3f0-f6f67894a0b4",
   "metadata": {},
   "source": [
    "Quando simplesmente comparamos as chuvas com as importações, como nessa primeira tentativa, percebemos que os dados e chuva ficam achatados na parte inferior do gráfico, sem possibilitar visualizar as variações. Isso ocorre em função da diferença de escala, que será resolvida a seguir, com o reescalonamento dos valores para uma faixa de 0 a 1, com zero sendo o menor e 1 o maior valor de cada fonte de dado.  \n",
    "\n",
    "Outra diferença entre os valores é que as importações apresentam uma tendência visual de crescimento ao longo dos anos, fato que não ocorre com as chuvas, já que o clima é mais constante do que a economia no longo prazo. Isso também será resolvido calculando-se a tendência central dos fertilizantes, que é a regressão linear, e extraindo-se ela dos valores.\n",
    "\n",
    "2ª Tentaiva: Extraindo tendência dos fertilizantes e rescalonando todosos valores"
   ]
  },
  {
   "cell_type": "code",
   "execution_count": null,
   "id": "2d37b961-9f34-445e-a2aa-f405eff6fe87",
   "metadata": {},
   "outputs": [],
   "source": [
    "i_c['kg_tend']=np.poly1d(np.polyfit(i_c.date.astype(int),i_c.KG_LIQUIDO, deg=2))(i_c.date.astype(int))\n",
    "i_c['kg_flat']=i_c.KG_LIQUIDO/i_c.kg_tend*i_c.kg_tend.min()"
   ]
  },
  {
   "cell_type": "code",
   "execution_count": null,
   "id": "e080ae0a-3ba9-4b32-bb9d-ae2521a1667a",
   "metadata": {},
   "outputs": [],
   "source": [
    "i_c[['fert_import_scaled','chuva_scaled']]=mms.fit_transform(i_c[['kg_flat','mm']])"
   ]
  },
  {
   "cell_type": "code",
   "execution_count": null,
   "id": "4c1f3a27-c889-4439-8256-293ab7a7d5ea",
   "metadata": {
    "scrolled": true
   },
   "outputs": [],
   "source": [
    "icl=pd.concat([\n",
    "    i_c[['date','fert_import_scaled']].rename(columns={'fert_import_scaled':'valor'}).assign(tipo='fert_import_scaled'),\n",
    "    i_c[['date','chuva_scaled'      ]].rename(columns={'chuva_scaled':'valor'      }).assign(tipo='chuva_scaled'      )\n",
    "              ]) \n",
    "score=round(metrics.mean_absolute_error(i_c.fert_import_scaled,i_c.chuva_scaled),2)\n",
    "\n",
    "sns.relplot(data=icl,x='date',y='valor',hue='tipo', kind='line',height=2,aspect=3*1.6).fig.suptitle(f'Bahia - chuva sem adiantamento, mae_score={score}.')\n",
    "plt.show()"
   ]
  },
  {
   "cell_type": "markdown",
   "id": "346ddcd6-c716-41f8-b455-b0d44a6010d8",
   "metadata": {},
   "source": [
    "Nesta tentativa acima podemos ver as variações de chuvas e fertilizantes numa mesma escala e já podemos notar semelhança no formato delas, o que indica que estamos \"no caminho certo\". A distância vertical média entre os registros de chuva e importação ou, a média do erro absoluto (mae_score) foi determinada, e será base de comparação numérica com as tentaivas a seguir.\n",
    "\n",
    "Esse projeto se propõe, de certa forma, a responder se as curvas das chuvas acima induzem ou não as curvas de importação, numa relação de causa e efeito. Um fato que causa o outro deve acontecer antes do outro, além de ter magnitude proporcional. Então, para comparar a chuva com as importações, a seguir, repetidamente, os registros de chuva terão sua data alterada, somando-se a ela 1 mês a cada avaliação, buscando sobrepor as curvas o tanto quanto possível. Quando essa sobreposição for máxima, a média de erro entre uma curva e outra alcançará o seu menor valor.\n",
    "\n",
    "3ª tentaiva: Adiantando as chuvas nos meses até antes completar 1 ano de avanço"
   ]
  },
  {
   "cell_type": "code",
   "execution_count": null,
   "id": "f4c98a51-e4ed-4cc1-82da-f5646763b822",
   "metadata": {},
   "outputs": [],
   "source": [
    "q=pd.DataFrame()\n",
    "\n",
    "def ad_plot(df):\n",
    "\n",
    "    global q\n",
    "    \n",
    "    global i_c\n",
    "    \n",
    "    i_c=ad(df)\n",
    "    \n",
    "    score=round(metrics.mean_absolute_error(i_c.fert_import_scaled,i_c.chuva_scaled),2)\n",
    "\n",
    "    r=pd.DataFrame({'Meses de Antecedência das Chuvas':[adi],'mae_score entre fertilizante e chuva':[score]})\n",
    "\n",
    "    q=pd.concat([q,r])\n",
    "    \n",
    "    icl=pd.concat([df[['date','fert_import_scaled']].rename(columns={'fert_import_scaled':'valor'}).assign(tipo='fert_import_scaled'),\n",
    "                   df[['date','chuva_scaled']].rename(columns={'chuva_scaled':'valor'}).assign(tipo='chuva_scaled')]) \n",
    "    \n",
    "    sns.relplot(data=icl,x='date',y='valor',hue='tipo', kind='line',height=2,aspect=3*1.6)\\\n",
    "    .fig.suptitle(f'Bahia - Registro de Chuva Adiantado em {adi} mês, mae_score={score}')\n",
    "    \n",
    "    plt.show()"
   ]
  },
  {
   "cell_type": "code",
   "execution_count": null,
   "id": "76be1878-d8b2-4df1-bf35-d939d839fc12",
   "metadata": {},
   "outputs": [],
   "source": [
    "def ad(df):\n",
    "    ic_f=df.drop(columns=['mm','chuva_scaled'])\n",
    "    ic_c=df.drop(columns=['KG_LIQUIDO','kg_tend','kg_flat','fert_import_scaled'])\n",
    "    ic_c.CO_MES=df.CO_MES+1\n",
    "    ic_c.loc[ic_c.CO_MES==13,'CO_ANO']=ic_c[ic_c.CO_MES==13].CO_ANO+1\n",
    "    ic_c.loc[ic_c.CO_MES==13,'CO_MES']=1\n",
    "    ic_c.date=pd.to_datetime(ic_c.CO_ANO.astype(str)+'/'+ic_c.CO_MES.astype(str)+'/1')\n",
    "    df=ic_c.merge(ic_f)\n",
    "    return df"
   ]
  },
  {
   "cell_type": "code",
   "execution_count": null,
   "id": "a824aadc-10a9-41b8-bff0-666d5516c7bf",
   "metadata": {},
   "outputs": [],
   "source": [
    "for adi in range(1,11):\n",
    "    ad_plot(i_c)\n",
    "sns.relplot(data=q,x='Meses de Antecedência das Chuvas',y='mae_score entre fertilizante e chuva',kind='line', height=2,aspect=1.6)\\\n",
    ".fig.suptitle('Chuvas e Desembarque de Fertilizantes na Bahia',y=1.1)\n",
    "plt.show()"
   ]
  },
  {
   "cell_type": "markdown",
   "id": "fbc3bc59-bbfa-4c5e-b560-9e41b34b2590",
   "metadata": {},
   "source": [
    "Pode-se comparar visualmente nos gráficos acima que a melhor sobreposição das curvas foi com 7 meses de avanço dos registros de chuva. Ainda , pode-se ver que o erro foi sendo reduzido gradativamente desde o 1º mẽs de avanço das chuvas.  \n",
    "\n",
    "Em outras palavras, parece que as chuvas já são capazes de induzir movimentos de importação mesmo após poucos meses de ocorridas, e vão aumentando o poder de indução cada vez mais, até o 7º mês após sua ocorrência, quando a partir dai começa a declinar esse poder."
   ]
  },
  {
   "cell_type": "markdown",
   "id": "8aa1d706-240b-4656-bf76-039f6bb01774",
   "metadata": {},
   "source": [
    "### Conclusão  \n",
    "\n",
    "O volume de chuva induz parcialmente a chegada de importações de fertilizantes, atingindo máxima indução aos 7 meses após a precipitação."
   ]
  }
 ],
 "metadata": {
  "celltoolbar": "Raw Cell Format",
  "kernelspec": {
   "display_name": "Python 3 (ipykernel)",
   "language": "python",
   "name": "python3"
  },
  "language_info": {
   "codemirror_mode": {
    "name": "ipython",
    "version": 3
   },
   "file_extension": ".py",
   "mimetype": "text/x-python",
   "name": "python",
   "nbconvert_exporter": "python",
   "pygments_lexer": "ipython3",
   "version": "3.11.5"
  }
 },
 "nbformat": 4,
 "nbformat_minor": 5
}
