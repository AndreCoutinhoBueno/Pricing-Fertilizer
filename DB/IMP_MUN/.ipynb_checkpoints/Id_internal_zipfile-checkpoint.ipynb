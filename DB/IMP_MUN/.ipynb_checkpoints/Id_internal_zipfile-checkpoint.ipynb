{
 "cells": [
  {
   "cell_type": "markdown",
   "id": "34f644b2-8ce4-4749-ad51-b32d0dcadb45",
   "metadata": {},
   "source": [
    "Identificando os nomes dos arquivos no interior do IMP_COMPLETA.zip"
   ]
  },
  {
   "cell_type": "code",
   "execution_count": null,
   "id": "f9cb7da2-c729-418b-9aa1-6a230bcaf683",
   "metadata": {},
   "outputs": [],
   "source": [
    "import zipfile, os\n",
    "\n",
    "def id_internal_zipfile(local_filename):\n",
    "    \n",
    "    # Abre o arquivo ZIP em modo leitura\n",
    "    with zipfile.ZipFile(local_filename, 'r') as zip_ref:\n",
    "        # Lista o conteúdo do arquivo ZIP\n",
    "        for info in zip_ref.infolist():\n",
    "            print(info.filename)\n",
    "    \n",
    "    \n",
    "    internal_zipfile=info.filename\n",
    "\n",
    "print('** Função id_internal_zipfile(local_filename)disponível **')"
   ]
  }
 ],
 "metadata": {
  "kernelspec": {
   "display_name": "Python 3 (ipykernel)",
   "language": "python",
   "name": "python3"
  },
  "language_info": {
   "codemirror_mode": {
    "name": "ipython",
    "version": 3
   },
   "file_extension": ".py",
   "mimetype": "text/x-python",
   "name": "python",
   "nbconvert_exporter": "python",
   "pygments_lexer": "ipython3",
   "version": "3.11.2"
  }
 },
 "nbformat": 4,
 "nbformat_minor": 5
}
