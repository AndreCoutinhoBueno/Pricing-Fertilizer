{
 "cells": [
  {
   "cell_type": "code",
   "execution_count": null,
   "id": "df07cbd1-35a7-4d5f-a761-c9312a2cd7b5",
   "metadata": {},
   "outputs": [],
   "source": [
    "def clusteriza_ncm(imp_fert, n_clusters=4, cols_base=['log_kg','log_fob']):\n",
    "    \n",
    "    from sklearn.preprocessing import MinMaxScaler as MMS\n",
    "    MMS=MMS()\n",
    "\n",
    "    a=0\n",
    "    for c in cols_base:\n",
    "        imp_fert.insert(0,'s_'+str(c),MMS.fit_transform(imp_fert[[c]]))\n",
    "        a+=1\n",
    "    \n",
    "    \n",
    "    from sklearn.cluster import KMeans as KM\n",
    "    KM=KM(n_clusters=n_clusters)\n",
    "    \n",
    "    col_k_s=imp_fert.columns[:a]\n",
    "    \n",
    "    q=pd.DataFrame()\n",
    "    for ncm in imp_fert.CO_NCM.unique():\n",
    "        imp_fert_t=imp_fert[imp_fert.CO_NCM==ncm]\n",
    "        imp_fert_t=imp_fert_t.assign(km=KM.fit_predict(imp_fert_t[col_k_s]))\n",
    "        q=pd.concat([q,imp_fert_t])\n",
    "    \n",
    "    imp_fert=q.copy()\n",
    "    \n",
    "    # Renomeando os clusters de acordo com o rank entre eles\n",
    "    q=pd.DataFrame()\n",
    "    for ncm in imp_fert.CO_NCM.unique():\n",
    "        t=imp_fert[imp_fert.CO_NCM==ncm]\n",
    "        t1=t.groupby(by=['CO_NCM','km']).KG_LIQUIDO.mean().reset_index().sort_values('KG_LIQUIDO')\n",
    "        t1=t1.assign(km2=np.arange(0,len(t1)))\n",
    "        q=pd.concat([q,t1])\n",
    "    q=q.drop(columns='KG_LIQUIDO')\n",
    "    imp_fert=imp_fert.merge(q)\n",
    "    \n",
    "    imp_fert=imp_fert.drop(columns='km').rename(columns={'km2':'km'})\n",
    "\n",
    "    imp_fert=imp_fert.sort_values('nick')\n",
    "    \n",
    "    plt.show()\n",
    "\n",
    "    return imp_fert\n",
    "\n",
    "print(\"** Função clusteriza_ncm(imp_fert, n_clusters=4, cols_base=['s_log_kg','s_log_fob']) disponível **\")"
   ]
  },
  {
   "cell_type": "code",
   "execution_count": null,
   "id": "cece0efa-8d2a-4b48-921e-f4ff64a29c42",
   "metadata": {},
   "outputs": [],
   "source": []
  }
 ],
 "metadata": {
  "kernelspec": {
   "display_name": "Python 3 (ipykernel)",
   "language": "python",
   "name": "python3"
  },
  "language_info": {
   "codemirror_mode": {
    "name": "ipython",
    "version": 3
   },
   "file_extension": ".py",
   "mimetype": "text/x-python",
   "name": "python",
   "nbconvert_exporter": "python",
   "pygments_lexer": "ipython3",
   "version": "3.11.2"
  }
 },
 "nbformat": 4,
 "nbformat_minor": 5
}
