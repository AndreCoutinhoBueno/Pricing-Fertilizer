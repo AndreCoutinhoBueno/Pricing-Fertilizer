{
 "cells": [
  {
   "cell_type": "code",
   "execution_count": null,
   "id": "c46bef6b-6a1f-4ae3-aa45-7c19360b9020",
   "metadata": {},
   "outputs": [],
   "source": [
    "import pandas as pd\n",
    "import numpy as np\n",
    "\n",
    "def corrige_inflação_dólar(df_ano_mes_valor,col_vl_name):\n",
    "    # Corrige inflação monetária do dólar, do ano de 1997 até 2024\n",
    "\n",
    "    # Cria manualmente a tabela de correção do dólar\n",
    "    infl_dolar=pd.DataFrame({\n",
    "    'CO_ANO':np.arange(1997,2025),\n",
    "    'fator_ano':[0.50,0.50,0.51,0.53,0.55,0.56,0.57,0.59,0.61,\\\n",
    "    0.63,0.64,0.67,0.67,0.68,0.70,0.72,0.73,0.74,\\\n",
    "    0.74,0.75,0.77,0.78,0.80,0.81,0.85,0.92,0.96,1.00],\n",
    "    'key':0})\n",
    "    \n",
    "    meses=pd.DataFrame({'CO_MES':np.arange(1,13),'key':0})\n",
    "    infl_dolar=infl_dolar.merge(meses).drop(columns='key')\n",
    "    infl_dolar=infl_dolar.assign(fator_mês=infl_dolar.fator_ano.rolling(12,1,True).mean())\n",
    "    \n",
    "    df_ano_mes_valor=df_ano_mes_valor.merge(infl_dolar)\n",
    "    \n",
    "    # Atualiza valor monetário\n",
    "    df_ano_mes_valor[col_vl_name]=(df_ano_mes_valor[col_vl_name]/df_ano_mes_valor['fator_mês']).astype(int)\n",
    "    \n",
    "    df_ano_mes_valor=df_ano_mes_valor.drop(columns=['fator_ano','fator_mês'])\n",
    "    \n",
    "    return df_ano_mes_valor\n",
    "\n",
    "print('\\nFunção ***corrige_inflação_dólar(df_ano_mes_valor,col_vl_name)*** disponível.\\n')"
   ]
  }
 ],
 "metadata": {
  "kernelspec": {
   "display_name": "Python 3 (ipykernel)",
   "language": "python",
   "name": "python3"
  },
  "language_info": {
   "codemirror_mode": {
    "name": "ipython",
    "version": 3
   },
   "file_extension": ".py",
   "mimetype": "text/x-python",
   "name": "python",
   "nbconvert_exporter": "python",
   "pygments_lexer": "ipython3",
   "version": "3.11.2"
  }
 },
 "nbformat": 4,
 "nbformat_minor": 5
}
