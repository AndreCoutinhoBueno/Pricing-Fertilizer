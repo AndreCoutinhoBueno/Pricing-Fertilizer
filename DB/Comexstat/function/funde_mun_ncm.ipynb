{
 "cells": [
  {
   "cell_type": "markdown",
   "id": "c9d5a997-b6d1-4779-ab2a-e99fabae6bb2",
   "metadata": {},
   "source": [
    "# Combina as Importações por Município e por NCM"
   ]
  },
  {
   "cell_type": "code",
   "execution_count": 1,
   "id": "5e14783b-6f40-4d5b-a55e-d18dd187b249",
   "metadata": {},
   "outputs": [],
   "source": [
    "import numpy as np\n",
    "import pandas as pd\n",
    "import matplotlib.pyplot as plt\n",
    "import seaborn as sns\n",
    "import warnings\n",
    "warnings.filterwarnings(\"ignore\")"
   ]
  },
  {
   "cell_type": "code",
   "execution_count": 2,
   "id": "850cce7e-5dfb-42e4-96ff-0d859aa9de5e",
   "metadata": {},
   "outputs": [
    {
     "data": {
      "text/plain": [
       "(121774, 8)"
      ]
     },
     "execution_count": 2,
     "metadata": {},
     "output_type": "execute_result"
    }
   ],
   "source": [
    "m=imp_fert_mun=pd.read_csv('~/git/BD/temp/imp_fert_mun.csv').rename(columns={'SH4':'CO_SH4','SG_UF_MUN':'UF'})\n",
    "m.shape"
   ]
  },
  {
   "cell_type": "code",
   "execution_count": 3,
   "id": "f24a8ba9-acd8-4053-895f-1606e92a9ca4",
   "metadata": {},
   "outputs": [
    {
     "data": {
      "text/plain": [
       "(89339, 9)"
      ]
     },
     "execution_count": 3,
     "metadata": {},
     "output_type": "execute_result"
    }
   ],
   "source": [
    "n=imp_fert_ncm=pd.read_csv('~/git/BD/temp/imp_fert_ncm.csv').rename(columns={'SG_UF_NCM':'UF'})\n",
    "n=n.groupby(by=['CO_ANO','CO_MES','CO_NCM','CO_PAIS','UF'])[['KG_LIQUIDO','VL_FOB','VL_FRETE','VL_SEGURO']].sum().reset_index()\n",
    "n.shape"
   ]
  },
  {
   "cell_type": "code",
   "execution_count": null,
   "id": "f040d609-2516-4a4a-9f3d-6dbd6b1c1442",
   "metadata": {},
   "outputs": [],
   "source": []
  },
  {
   "cell_type": "code",
   "execution_count": 4,
   "id": "9581d344-9ae0-4e9d-ad4e-8ebbff3f62b8",
   "metadata": {},
   "outputs": [
    {
     "data": {
      "text/html": [
       "<div>\n",
       "<style scoped>\n",
       "    .dataframe tbody tr th:only-of-type {\n",
       "        vertical-align: middle;\n",
       "    }\n",
       "\n",
       "    .dataframe tbody tr th {\n",
       "        vertical-align: top;\n",
       "    }\n",
       "\n",
       "    .dataframe thead th {\n",
       "        text-align: right;\n",
       "    }\n",
       "</style>\n",
       "<table border=\"1\" class=\"dataframe\">\n",
       "  <thead>\n",
       "    <tr style=\"text-align: right;\">\n",
       "      <th></th>\n",
       "      <th>CO_ANO</th>\n",
       "      <th>CO_MES</th>\n",
       "      <th>CO_SH4</th>\n",
       "      <th>CO_PAIS</th>\n",
       "      <th>UF</th>\n",
       "      <th>CO_MUN</th>\n",
       "      <th>KG_LIQUIDO</th>\n",
       "      <th>VL_FOB</th>\n",
       "    </tr>\n",
       "  </thead>\n",
       "  <tbody>\n",
       "    <tr>\n",
       "      <th>0</th>\n",
       "      <td>1997</td>\n",
       "      <td>1</td>\n",
       "      <td>3101</td>\n",
       "      <td>386</td>\n",
       "      <td>SP</td>\n",
       "      <td>3456503</td>\n",
       "      <td>15222</td>\n",
       "      <td>34324</td>\n",
       "    </tr>\n",
       "    <tr>\n",
       "      <th>1</th>\n",
       "      <td>1997</td>\n",
       "      <td>1</td>\n",
       "      <td>3101</td>\n",
       "      <td>573</td>\n",
       "      <td>SP</td>\n",
       "      <td>3419055</td>\n",
       "      <td>20000</td>\n",
       "      <td>7169</td>\n",
       "    </tr>\n",
       "    <tr>\n",
       "      <th>2</th>\n",
       "      <td>1997</td>\n",
       "      <td>1</td>\n",
       "      <td>3102</td>\n",
       "      <td>23</td>\n",
       "      <td>GO</td>\n",
       "      <td>5301108</td>\n",
       "      <td>1900000</td>\n",
       "      <td>184300</td>\n",
       "    </tr>\n",
       "    <tr>\n",
       "      <th>3</th>\n",
       "      <td>1997</td>\n",
       "      <td>1</td>\n",
       "      <td>3102</td>\n",
       "      <td>23</td>\n",
       "      <td>MG</td>\n",
       "      <td>3148004</td>\n",
       "      <td>1400000</td>\n",
       "      <td>128800</td>\n",
       "    </tr>\n",
       "    <tr>\n",
       "      <th>4</th>\n",
       "      <td>1997</td>\n",
       "      <td>1</td>\n",
       "      <td>3102</td>\n",
       "      <td>23</td>\n",
       "      <td>MG</td>\n",
       "      <td>3128709</td>\n",
       "      <td>1415000</td>\n",
       "      <td>137255</td>\n",
       "    </tr>\n",
       "    <tr>\n",
       "      <th>...</th>\n",
       "      <td>...</td>\n",
       "      <td>...</td>\n",
       "      <td>...</td>\n",
       "      <td>...</td>\n",
       "      <td>...</td>\n",
       "      <td>...</td>\n",
       "      <td>...</td>\n",
       "      <td>...</td>\n",
       "    </tr>\n",
       "    <tr>\n",
       "      <th>121769</th>\n",
       "      <td>2024</td>\n",
       "      <td>8</td>\n",
       "      <td>3105</td>\n",
       "      <td>741</td>\n",
       "      <td>SP</td>\n",
       "      <td>3450308</td>\n",
       "      <td>330</td>\n",
       "      <td>2918</td>\n",
       "    </tr>\n",
       "    <tr>\n",
       "      <th>121770</th>\n",
       "      <td>2024</td>\n",
       "      <td>8</td>\n",
       "      <td>3105</td>\n",
       "      <td>756</td>\n",
       "      <td>SP</td>\n",
       "      <td>3426704</td>\n",
       "      <td>35075</td>\n",
       "      <td>45157</td>\n",
       "    </tr>\n",
       "    <tr>\n",
       "      <th>121771</th>\n",
       "      <td>2024</td>\n",
       "      <td>8</td>\n",
       "      <td>3105</td>\n",
       "      <td>767</td>\n",
       "      <td>SP</td>\n",
       "      <td>3413009</td>\n",
       "      <td>0</td>\n",
       "      <td>104</td>\n",
       "    </tr>\n",
       "    <tr>\n",
       "      <th>121772</th>\n",
       "      <td>2024</td>\n",
       "      <td>8</td>\n",
       "      <td>3105</td>\n",
       "      <td>827</td>\n",
       "      <td>BA</td>\n",
       "      <td>2906501</td>\n",
       "      <td>105000</td>\n",
       "      <td>86565</td>\n",
       "    </tr>\n",
       "    <tr>\n",
       "      <th>121773</th>\n",
       "      <td>2024</td>\n",
       "      <td>8</td>\n",
       "      <td>3105</td>\n",
       "      <td>827</td>\n",
       "      <td>SP</td>\n",
       "      <td>3426902</td>\n",
       "      <td>36873</td>\n",
       "      <td>131340</td>\n",
       "    </tr>\n",
       "  </tbody>\n",
       "</table>\n",
       "<p>121774 rows × 8 columns</p>\n",
       "</div>"
      ],
      "text/plain": [
       "        CO_ANO  CO_MES  CO_SH4  CO_PAIS  UF   CO_MUN  KG_LIQUIDO  VL_FOB\n",
       "0         1997       1    3101      386  SP  3456503       15222   34324\n",
       "1         1997       1    3101      573  SP  3419055       20000    7169\n",
       "2         1997       1    3102       23  GO  5301108     1900000  184300\n",
       "3         1997       1    3102       23  MG  3148004     1400000  128800\n",
       "4         1997       1    3102       23  MG  3128709     1415000  137255\n",
       "...        ...     ...     ...      ...  ..      ...         ...     ...\n",
       "121769    2024       8    3105      741  SP  3450308         330    2918\n",
       "121770    2024       8    3105      756  SP  3426704       35075   45157\n",
       "121771    2024       8    3105      767  SP  3413009           0     104\n",
       "121772    2024       8    3105      827  BA  2906501      105000   86565\n",
       "121773    2024       8    3105      827  SP  3426902       36873  131340\n",
       "\n",
       "[121774 rows x 8 columns]"
      ]
     },
     "execution_count": 4,
     "metadata": {},
     "output_type": "execute_result"
    }
   ],
   "source": [
    "m"
   ]
  },
  {
   "cell_type": "code",
   "execution_count": 5,
   "id": "f1f552e6-a7ee-428c-a420-33efad43298e",
   "metadata": {},
   "outputs": [
    {
     "data": {
      "text/html": [
       "<div>\n",
       "<style scoped>\n",
       "    .dataframe tbody tr th:only-of-type {\n",
       "        vertical-align: middle;\n",
       "    }\n",
       "\n",
       "    .dataframe tbody tr th {\n",
       "        vertical-align: top;\n",
       "    }\n",
       "\n",
       "    .dataframe thead th {\n",
       "        text-align: right;\n",
       "    }\n",
       "</style>\n",
       "<table border=\"1\" class=\"dataframe\">\n",
       "  <thead>\n",
       "    <tr style=\"text-align: right;\">\n",
       "      <th></th>\n",
       "      <th>CO_ANO</th>\n",
       "      <th>CO_MES</th>\n",
       "      <th>CO_NCM</th>\n",
       "      <th>CO_PAIS</th>\n",
       "      <th>UF</th>\n",
       "      <th>KG_LIQUIDO</th>\n",
       "      <th>VL_FOB</th>\n",
       "      <th>VL_FRETE</th>\n",
       "      <th>VL_SEGURO</th>\n",
       "    </tr>\n",
       "  </thead>\n",
       "  <tbody>\n",
       "    <tr>\n",
       "      <th>0</th>\n",
       "      <td>1997</td>\n",
       "      <td>1</td>\n",
       "      <td>31010000</td>\n",
       "      <td>386</td>\n",
       "      <td>SP</td>\n",
       "      <td>15222</td>\n",
       "      <td>34324</td>\n",
       "      <td>1323</td>\n",
       "      <td>177</td>\n",
       "    </tr>\n",
       "    <tr>\n",
       "      <th>1</th>\n",
       "      <td>1997</td>\n",
       "      <td>1</td>\n",
       "      <td>31010000</td>\n",
       "      <td>573</td>\n",
       "      <td>SP</td>\n",
       "      <td>20000</td>\n",
       "      <td>7169</td>\n",
       "      <td>2638</td>\n",
       "      <td>0</td>\n",
       "    </tr>\n",
       "    <tr>\n",
       "      <th>2</th>\n",
       "      <td>1997</td>\n",
       "      <td>1</td>\n",
       "      <td>31021010</td>\n",
       "      <td>850</td>\n",
       "      <td>RR</td>\n",
       "      <td>32000</td>\n",
       "      <td>7360</td>\n",
       "      <td>1120</td>\n",
       "      <td>0</td>\n",
       "    </tr>\n",
       "    <tr>\n",
       "      <th>3</th>\n",
       "      <td>1997</td>\n",
       "      <td>1</td>\n",
       "      <td>31021090</td>\n",
       "      <td>850</td>\n",
       "      <td>RR</td>\n",
       "      <td>96000</td>\n",
       "      <td>22080</td>\n",
       "      <td>3360</td>\n",
       "      <td>0</td>\n",
       "    </tr>\n",
       "    <tr>\n",
       "      <th>4</th>\n",
       "      <td>1997</td>\n",
       "      <td>1</td>\n",
       "      <td>31022100</td>\n",
       "      <td>23</td>\n",
       "      <td>GO</td>\n",
       "      <td>1900000</td>\n",
       "      <td>184300</td>\n",
       "      <td>19000</td>\n",
       "      <td>0</td>\n",
       "    </tr>\n",
       "    <tr>\n",
       "      <th>...</th>\n",
       "      <td>...</td>\n",
       "      <td>...</td>\n",
       "      <td>...</td>\n",
       "      <td>...</td>\n",
       "      <td>...</td>\n",
       "      <td>...</td>\n",
       "      <td>...</td>\n",
       "      <td>...</td>\n",
       "      <td>...</td>\n",
       "    </tr>\n",
       "    <tr>\n",
       "      <th>89334</th>\n",
       "      <td>2024</td>\n",
       "      <td>8</td>\n",
       "      <td>31059090</td>\n",
       "      <td>628</td>\n",
       "      <td>SP</td>\n",
       "      <td>16980</td>\n",
       "      <td>74880</td>\n",
       "      <td>675</td>\n",
       "      <td>49</td>\n",
       "    </tr>\n",
       "    <tr>\n",
       "      <th>89335</th>\n",
       "      <td>2024</td>\n",
       "      <td>8</td>\n",
       "      <td>31059090</td>\n",
       "      <td>676</td>\n",
       "      <td>MG</td>\n",
       "      <td>27000</td>\n",
       "      <td>21420</td>\n",
       "      <td>4500</td>\n",
       "      <td>12</td>\n",
       "    </tr>\n",
       "    <tr>\n",
       "      <th>89336</th>\n",
       "      <td>2024</td>\n",
       "      <td>8</td>\n",
       "      <td>31059090</td>\n",
       "      <td>741</td>\n",
       "      <td>SP</td>\n",
       "      <td>330</td>\n",
       "      <td>2918</td>\n",
       "      <td>86</td>\n",
       "      <td>0</td>\n",
       "    </tr>\n",
       "    <tr>\n",
       "      <th>89337</th>\n",
       "      <td>2024</td>\n",
       "      <td>8</td>\n",
       "      <td>31059090</td>\n",
       "      <td>827</td>\n",
       "      <td>BA</td>\n",
       "      <td>105000</td>\n",
       "      <td>86565</td>\n",
       "      <td>3075</td>\n",
       "      <td>58</td>\n",
       "    </tr>\n",
       "    <tr>\n",
       "      <th>89338</th>\n",
       "      <td>2024</td>\n",
       "      <td>8</td>\n",
       "      <td>31059090</td>\n",
       "      <td>827</td>\n",
       "      <td>SP</td>\n",
       "      <td>6106</td>\n",
       "      <td>16740</td>\n",
       "      <td>397</td>\n",
       "      <td>15</td>\n",
       "    </tr>\n",
       "  </tbody>\n",
       "</table>\n",
       "<p>89339 rows × 9 columns</p>\n",
       "</div>"
      ],
      "text/plain": [
       "       CO_ANO  CO_MES    CO_NCM  CO_PAIS  UF  KG_LIQUIDO  VL_FOB  VL_FRETE  \\\n",
       "0        1997       1  31010000      386  SP       15222   34324      1323   \n",
       "1        1997       1  31010000      573  SP       20000    7169      2638   \n",
       "2        1997       1  31021010      850  RR       32000    7360      1120   \n",
       "3        1997       1  31021090      850  RR       96000   22080      3360   \n",
       "4        1997       1  31022100       23  GO     1900000  184300     19000   \n",
       "...       ...     ...       ...      ...  ..         ...     ...       ...   \n",
       "89334    2024       8  31059090      628  SP       16980   74880       675   \n",
       "89335    2024       8  31059090      676  MG       27000   21420      4500   \n",
       "89336    2024       8  31059090      741  SP         330    2918        86   \n",
       "89337    2024       8  31059090      827  BA      105000   86565      3075   \n",
       "89338    2024       8  31059090      827  SP        6106   16740       397   \n",
       "\n",
       "       VL_SEGURO  \n",
       "0            177  \n",
       "1              0  \n",
       "2              0  \n",
       "3              0  \n",
       "4              0  \n",
       "...          ...  \n",
       "89334         49  \n",
       "89335         12  \n",
       "89336          0  \n",
       "89337         58  \n",
       "89338         15  \n",
       "\n",
       "[89339 rows x 9 columns]"
      ]
     },
     "execution_count": 5,
     "metadata": {},
     "output_type": "execute_result"
    }
   ],
   "source": [
    "n"
   ]
  },
  {
   "cell_type": "code",
   "execution_count": 6,
   "id": "41c92a85-812c-445d-8c7e-198af70b8f63",
   "metadata": {},
   "outputs": [],
   "source": [
    "n['CO_SH4']=n.CO_NCM.astype(str).str[:4].astype(int)"
   ]
  },
  {
   "cell_type": "code",
   "execution_count": 7,
   "id": "2282010d-a734-417b-b3cd-95a3736571b5",
   "metadata": {},
   "outputs": [
    {
     "data": {
      "text/html": [
       "<div>\n",
       "<style scoped>\n",
       "    .dataframe tbody tr th:only-of-type {\n",
       "        vertical-align: middle;\n",
       "    }\n",
       "\n",
       "    .dataframe tbody tr th {\n",
       "        vertical-align: top;\n",
       "    }\n",
       "\n",
       "    .dataframe thead th {\n",
       "        text-align: right;\n",
       "    }\n",
       "</style>\n",
       "<table border=\"1\" class=\"dataframe\">\n",
       "  <thead>\n",
       "    <tr style=\"text-align: right;\">\n",
       "      <th></th>\n",
       "      <th>CO_ANO</th>\n",
       "      <th>CO_MES</th>\n",
       "      <th>CO_SH4</th>\n",
       "      <th>CO_PAIS</th>\n",
       "      <th>UF</th>\n",
       "      <th>CO_MUN</th>\n",
       "      <th>KG_LIQUIDO</th>\n",
       "      <th>VL_FOB</th>\n",
       "      <th>CO_NCM</th>\n",
       "      <th>VL_FRETE</th>\n",
       "      <th>VL_SEGURO</th>\n",
       "    </tr>\n",
       "  </thead>\n",
       "  <tbody>\n",
       "    <tr>\n",
       "      <th>0</th>\n",
       "      <td>1997</td>\n",
       "      <td>1</td>\n",
       "      <td>3102</td>\n",
       "      <td>23</td>\n",
       "      <td>GO</td>\n",
       "      <td>5301108.0</td>\n",
       "      <td>1900000</td>\n",
       "      <td>184300</td>\n",
       "      <td>31022100.0</td>\n",
       "      <td>19000.0</td>\n",
       "      <td>0.0</td>\n",
       "    </tr>\n",
       "    <tr>\n",
       "      <th>1</th>\n",
       "      <td>1997</td>\n",
       "      <td>1</td>\n",
       "      <td>3102</td>\n",
       "      <td>23</td>\n",
       "      <td>MG</td>\n",
       "      <td>3148004.0</td>\n",
       "      <td>1400000</td>\n",
       "      <td>128800</td>\n",
       "      <td>NaN</td>\n",
       "      <td>NaN</td>\n",
       "      <td>NaN</td>\n",
       "    </tr>\n",
       "    <tr>\n",
       "      <th>2</th>\n",
       "      <td>1997</td>\n",
       "      <td>1</td>\n",
       "      <td>3102</td>\n",
       "      <td>23</td>\n",
       "      <td>MG</td>\n",
       "      <td>3128709.0</td>\n",
       "      <td>1415000</td>\n",
       "      <td>137255</td>\n",
       "      <td>NaN</td>\n",
       "      <td>NaN</td>\n",
       "      <td>NaN</td>\n",
       "    </tr>\n",
       "    <tr>\n",
       "      <th>3</th>\n",
       "      <td>1997</td>\n",
       "      <td>1</td>\n",
       "      <td>3102</td>\n",
       "      <td>23</td>\n",
       "      <td>MG</td>\n",
       "      <td>NaN</td>\n",
       "      <td>2815000</td>\n",
       "      <td>266055</td>\n",
       "      <td>31022100.0</td>\n",
       "      <td>28150.0</td>\n",
       "      <td>1004.0</td>\n",
       "    </tr>\n",
       "    <tr>\n",
       "      <th>4</th>\n",
       "      <td>1997</td>\n",
       "      <td>1</td>\n",
       "      <td>3102</td>\n",
       "      <td>23</td>\n",
       "      <td>SP</td>\n",
       "      <td>3436703.0</td>\n",
       "      <td>385000</td>\n",
       "      <td>37345</td>\n",
       "      <td>NaN</td>\n",
       "      <td>NaN</td>\n",
       "      <td>NaN</td>\n",
       "    </tr>\n",
       "    <tr>\n",
       "      <th>...</th>\n",
       "      <td>...</td>\n",
       "      <td>...</td>\n",
       "      <td>...</td>\n",
       "      <td>...</td>\n",
       "      <td>...</td>\n",
       "      <td>...</td>\n",
       "      <td>...</td>\n",
       "      <td>...</td>\n",
       "      <td>...</td>\n",
       "      <td>...</td>\n",
       "      <td>...</td>\n",
       "    </tr>\n",
       "    <tr>\n",
       "      <th>162313</th>\n",
       "      <td>2024</td>\n",
       "      <td>8</td>\n",
       "      <td>3104</td>\n",
       "      <td>847</td>\n",
       "      <td>RS</td>\n",
       "      <td>4315602.0</td>\n",
       "      <td>21393752</td>\n",
       "      <td>6503701</td>\n",
       "      <td>31042090.0</td>\n",
       "      <td>235331.0</td>\n",
       "      <td>0.0</td>\n",
       "    </tr>\n",
       "    <tr>\n",
       "      <th>162314</th>\n",
       "      <td>2024</td>\n",
       "      <td>8</td>\n",
       "      <td>3104</td>\n",
       "      <td>847</td>\n",
       "      <td>SC</td>\n",
       "      <td>4216206.0</td>\n",
       "      <td>25062880</td>\n",
       "      <td>6714857</td>\n",
       "      <td>31042090.0</td>\n",
       "      <td>778692.0</td>\n",
       "      <td>4590.0</td>\n",
       "    </tr>\n",
       "    <tr>\n",
       "      <th>162315</th>\n",
       "      <td>2024</td>\n",
       "      <td>8</td>\n",
       "      <td>3104</td>\n",
       "      <td>847</td>\n",
       "      <td>SE</td>\n",
       "      <td>2806107.0</td>\n",
       "      <td>351000</td>\n",
       "      <td>223322</td>\n",
       "      <td>31043010.0</td>\n",
       "      <td>12670.0</td>\n",
       "      <td>153.0</td>\n",
       "    </tr>\n",
       "    <tr>\n",
       "      <th>162316</th>\n",
       "      <td>2024</td>\n",
       "      <td>8</td>\n",
       "      <td>3104</td>\n",
       "      <td>847</td>\n",
       "      <td>SP</td>\n",
       "      <td>3404008.0</td>\n",
       "      <td>19257863</td>\n",
       "      <td>5854390</td>\n",
       "      <td>31042090.0</td>\n",
       "      <td>211837.0</td>\n",
       "      <td>0.0</td>\n",
       "    </tr>\n",
       "    <tr>\n",
       "      <th>162317</th>\n",
       "      <td>2024</td>\n",
       "      <td>8</td>\n",
       "      <td>3102</td>\n",
       "      <td>850</td>\n",
       "      <td>CE</td>\n",
       "      <td>2312403.0</td>\n",
       "      <td>7047520</td>\n",
       "      <td>2242352</td>\n",
       "      <td>31021010.0</td>\n",
       "      <td>294756.0</td>\n",
       "      <td>0.0</td>\n",
       "    </tr>\n",
       "  </tbody>\n",
       "</table>\n",
       "<p>162318 rows × 11 columns</p>\n",
       "</div>"
      ],
      "text/plain": [
       "        CO_ANO  CO_MES  CO_SH4  CO_PAIS  UF     CO_MUN  KG_LIQUIDO   VL_FOB  \\\n",
       "0         1997       1    3102       23  GO  5301108.0     1900000   184300   \n",
       "1         1997       1    3102       23  MG  3148004.0     1400000   128800   \n",
       "2         1997       1    3102       23  MG  3128709.0     1415000   137255   \n",
       "3         1997       1    3102       23  MG        NaN     2815000   266055   \n",
       "4         1997       1    3102       23  SP  3436703.0      385000    37345   \n",
       "...        ...     ...     ...      ...  ..        ...         ...      ...   \n",
       "162313    2024       8    3104      847  RS  4315602.0    21393752  6503701   \n",
       "162314    2024       8    3104      847  SC  4216206.0    25062880  6714857   \n",
       "162315    2024       8    3104      847  SE  2806107.0      351000   223322   \n",
       "162316    2024       8    3104      847  SP  3404008.0    19257863  5854390   \n",
       "162317    2024       8    3102      850  CE  2312403.0     7047520  2242352   \n",
       "\n",
       "            CO_NCM  VL_FRETE  VL_SEGURO  \n",
       "0       31022100.0   19000.0        0.0  \n",
       "1              NaN       NaN        NaN  \n",
       "2              NaN       NaN        NaN  \n",
       "3       31022100.0   28150.0     1004.0  \n",
       "4              NaN       NaN        NaN  \n",
       "...            ...       ...        ...  \n",
       "162313  31042090.0  235331.0        0.0  \n",
       "162314  31042090.0  778692.0     4590.0  \n",
       "162315  31043010.0   12670.0      153.0  \n",
       "162316  31042090.0  211837.0        0.0  \n",
       "162317  31021010.0  294756.0        0.0  \n",
       "\n",
       "[162318 rows x 11 columns]"
      ]
     },
     "execution_count": 7,
     "metadata": {},
     "output_type": "execute_result"
    }
   ],
   "source": [
    "mn=m.merge(n, on=['CO_ANO','CO_MES','CO_PAIS','CO_SH4','UF','KG_LIQUIDO','VL_FOB'],how='outer')\n",
    "mn"
   ]
  },
  {
   "cell_type": "code",
   "execution_count": 8,
   "id": "3328caaa-9876-4660-998c-246f1a46feb5",
   "metadata": {},
   "outputs": [
    {
     "data": {
      "text/plain": [
       "CO_MUN    40544\n",
       "CO_NCM    72979\n",
       "dtype: int64"
      ]
     },
     "execution_count": 8,
     "metadata": {},
     "output_type": "execute_result"
    }
   ],
   "source": [
    "mn[['CO_MUN','CO_NCM']].isna().sum()"
   ]
  },
  {
   "cell_type": "code",
   "execution_count": 9,
   "id": "e81583d5-00e0-4162-94f6-9b8ce2b36af4",
   "metadata": {},
   "outputs": [
    {
     "data": {
      "text/plain": [
       "(162318, 11)"
      ]
     },
     "execution_count": 9,
     "metadata": {},
     "output_type": "execute_result"
    }
   ],
   "source": [
    "mn.shape"
   ]
  },
  {
   "cell_type": "code",
   "execution_count": 10,
   "id": "75a00d46-62b8-4c0d-b20d-2cb453091d7b",
   "metadata": {},
   "outputs": [],
   "source": [
    "mn_o=mn.dropna()"
   ]
  },
  {
   "cell_type": "code",
   "execution_count": 11,
   "id": "2fd26321-7e87-4ed8-ab8f-aab1118502e6",
   "metadata": {},
   "outputs": [],
   "source": [
    "mn_o['kg_orig']=mn_o.KG_LIQUIDO"
   ]
  },
  {
   "cell_type": "code",
   "execution_count": 12,
   "id": "6379d42b-e4b2-4dfe-bba2-f9654727816c",
   "metadata": {},
   "outputs": [],
   "source": [
    "mn_o['fob_orig']=mn_o.VL_FOB"
   ]
  },
  {
   "cell_type": "code",
   "execution_count": 13,
   "id": "c0b2fec3-a6e7-4db4-8ece-a6f412a5b79f",
   "metadata": {},
   "outputs": [
    {
     "data": {
      "text/plain": [
       "(48795, 13)"
      ]
     },
     "execution_count": 13,
     "metadata": {},
     "output_type": "execute_result"
    }
   ],
   "source": [
    "mn_o.shape"
   ]
  },
  {
   "cell_type": "code",
   "execution_count": 14,
   "id": "0b5f1a01-701b-48ad-a235-8fb3f87ceea6",
   "metadata": {},
   "outputs": [],
   "source": [
    "mn_x=mn[~mn.index.isin(mn_o.index)]"
   ]
  },
  {
   "cell_type": "code",
   "execution_count": 15,
   "id": "4cc2aa0b-8971-4fb9-b315-d178cf98662d",
   "metadata": {},
   "outputs": [
    {
     "data": {
      "text/html": [
       "<div>\n",
       "<style scoped>\n",
       "    .dataframe tbody tr th:only-of-type {\n",
       "        vertical-align: middle;\n",
       "    }\n",
       "\n",
       "    .dataframe tbody tr th {\n",
       "        vertical-align: top;\n",
       "    }\n",
       "\n",
       "    .dataframe thead th {\n",
       "        text-align: right;\n",
       "    }\n",
       "</style>\n",
       "<table border=\"1\" class=\"dataframe\">\n",
       "  <thead>\n",
       "    <tr style=\"text-align: right;\">\n",
       "      <th></th>\n",
       "      <th>CO_ANO</th>\n",
       "      <th>CO_MES</th>\n",
       "      <th>CO_PAIS</th>\n",
       "      <th>CO_SH4</th>\n",
       "      <th>UF</th>\n",
       "      <th>CO_MUN</th>\n",
       "      <th>CO_NCM</th>\n",
       "    </tr>\n",
       "  </thead>\n",
       "  <tbody>\n",
       "    <tr>\n",
       "      <th>0</th>\n",
       "      <td>1997</td>\n",
       "      <td>1</td>\n",
       "      <td>23</td>\n",
       "      <td>3102</td>\n",
       "      <td>MG</td>\n",
       "      <td>2</td>\n",
       "      <td>1</td>\n",
       "    </tr>\n",
       "    <tr>\n",
       "      <th>1</th>\n",
       "      <td>1997</td>\n",
       "      <td>1</td>\n",
       "      <td>23</td>\n",
       "      <td>3102</td>\n",
       "      <td>SP</td>\n",
       "      <td>4</td>\n",
       "      <td>1</td>\n",
       "    </tr>\n",
       "    <tr>\n",
       "      <th>2</th>\n",
       "      <td>1997</td>\n",
       "      <td>1</td>\n",
       "      <td>23</td>\n",
       "      <td>3104</td>\n",
       "      <td>RS</td>\n",
       "      <td>2</td>\n",
       "      <td>1</td>\n",
       "    </tr>\n",
       "    <tr>\n",
       "      <th>3</th>\n",
       "      <td>1997</td>\n",
       "      <td>1</td>\n",
       "      <td>23</td>\n",
       "      <td>3104</td>\n",
       "      <td>SP</td>\n",
       "      <td>2</td>\n",
       "      <td>1</td>\n",
       "    </tr>\n",
       "    <tr>\n",
       "      <th>4</th>\n",
       "      <td>1997</td>\n",
       "      <td>1</td>\n",
       "      <td>87</td>\n",
       "      <td>3104</td>\n",
       "      <td>RS</td>\n",
       "      <td>2</td>\n",
       "      <td>1</td>\n",
       "    </tr>\n",
       "    <tr>\n",
       "      <th>...</th>\n",
       "      <td>...</td>\n",
       "      <td>...</td>\n",
       "      <td>...</td>\n",
       "      <td>...</td>\n",
       "      <td>...</td>\n",
       "      <td>...</td>\n",
       "      <td>...</td>\n",
       "    </tr>\n",
       "    <tr>\n",
       "      <th>26707</th>\n",
       "      <td>2024</td>\n",
       "      <td>8</td>\n",
       "      <td>676</td>\n",
       "      <td>3105</td>\n",
       "      <td>SP</td>\n",
       "      <td>7</td>\n",
       "      <td>2</td>\n",
       "    </tr>\n",
       "    <tr>\n",
       "      <th>26708</th>\n",
       "      <td>2024</td>\n",
       "      <td>8</td>\n",
       "      <td>827</td>\n",
       "      <td>3105</td>\n",
       "      <td>SP</td>\n",
       "      <td>1</td>\n",
       "      <td>2</td>\n",
       "    </tr>\n",
       "    <tr>\n",
       "      <th>26709</th>\n",
       "      <td>2024</td>\n",
       "      <td>8</td>\n",
       "      <td>847</td>\n",
       "      <td>3104</td>\n",
       "      <td>BA</td>\n",
       "      <td>2</td>\n",
       "      <td>1</td>\n",
       "    </tr>\n",
       "    <tr>\n",
       "      <th>26710</th>\n",
       "      <td>2024</td>\n",
       "      <td>8</td>\n",
       "      <td>847</td>\n",
       "      <td>3104</td>\n",
       "      <td>GO</td>\n",
       "      <td>2</td>\n",
       "      <td>1</td>\n",
       "    </tr>\n",
       "    <tr>\n",
       "      <th>26711</th>\n",
       "      <td>2024</td>\n",
       "      <td>8</td>\n",
       "      <td>847</td>\n",
       "      <td>3104</td>\n",
       "      <td>MG</td>\n",
       "      <td>2</td>\n",
       "      <td>1</td>\n",
       "    </tr>\n",
       "  </tbody>\n",
       "</table>\n",
       "<p>26712 rows × 7 columns</p>\n",
       "</div>"
      ],
      "text/plain": [
       "       CO_ANO  CO_MES  CO_PAIS  CO_SH4  UF  CO_MUN  CO_NCM\n",
       "0        1997       1       23    3102  MG       2       1\n",
       "1        1997       1       23    3102  SP       4       1\n",
       "2        1997       1       23    3104  RS       2       1\n",
       "3        1997       1       23    3104  SP       2       1\n",
       "4        1997       1       87    3104  RS       2       1\n",
       "...       ...     ...      ...     ...  ..     ...     ...\n",
       "26707    2024       8      676    3105  SP       7       2\n",
       "26708    2024       8      827    3105  SP       1       2\n",
       "26709    2024       8      847    3104  BA       2       1\n",
       "26710    2024       8      847    3104  GO       2       1\n",
       "26711    2024       8      847    3104  MG       2       1\n",
       "\n",
       "[26712 rows x 7 columns]"
      ]
     },
     "execution_count": 15,
     "metadata": {},
     "output_type": "execute_result"
    }
   ],
   "source": [
    "g=mn_x.groupby(by=['CO_ANO','CO_MES','CO_PAIS','CO_SH4','UF'])[['CO_MUN','CO_NCM']].count().reset_index()\n",
    "g"
   ]
  },
  {
   "cell_type": "code",
   "execution_count": 16,
   "id": "ee013a8b-5bdd-45e9-b7ef-34adb7e65424",
   "metadata": {},
   "outputs": [],
   "source": [
    "mn_11=g[(g.CO_MUN==1)&(g.CO_NCM==1)][['CO_ANO','CO_MES','CO_PAIS','CO_SH4','UF']].merge(mn_x)"
   ]
  },
  {
   "cell_type": "code",
   "execution_count": 17,
   "id": "ecc196c6-1429-4ff4-b553-ad0270adbfa5",
   "metadata": {},
   "outputs": [],
   "source": [
    "mn_w1=g[(g.CO_MUN!=1)&(g.CO_NCM==1)][['CO_ANO','CO_MES','CO_PAIS','CO_SH4','UF']].merge(mn_x)"
   ]
  },
  {
   "cell_type": "code",
   "execution_count": 18,
   "id": "f92754fa-a874-4983-8ee6-3220cc8a086e",
   "metadata": {},
   "outputs": [],
   "source": [
    "mn_1w=g[(g.CO_MUN==1)&(g.CO_NCM!=1)][['CO_ANO','CO_MES','CO_PAIS','CO_SH4','UF']].merge(mn_x)"
   ]
  },
  {
   "cell_type": "code",
   "execution_count": 19,
   "id": "1521d888-bb0c-46d4-aff1-319d13e7380b",
   "metadata": {},
   "outputs": [],
   "source": [
    "mn_ww=g[(g.CO_MUN!=1)&(g.CO_NCM!=1)][['CO_ANO','CO_MES','CO_PAIS','CO_SH4','UF']].merge(mn_x)"
   ]
  },
  {
   "cell_type": "code",
   "execution_count": null,
   "id": "aa3db70b-7306-4d0d-829c-4eabc7a4dc69",
   "metadata": {},
   "outputs": [],
   "source": []
  },
  {
   "cell_type": "code",
   "execution_count": 20,
   "id": "896b6265-7d20-40a5-9242-907f6d934b8b",
   "metadata": {},
   "outputs": [],
   "source": [
    "mn_11['kg_orig']=mn_11.KG_LIQUIDO\n",
    "mn_11['fob_orig']=mn_11.VL_FOB "
   ]
  },
  {
   "cell_type": "code",
   "execution_count": 21,
   "id": "0a37a4e9-599d-4118-9ea3-bd20a8738a85",
   "metadata": {},
   "outputs": [
    {
     "data": {
      "text/plain": [
       "(0, 13)"
      ]
     },
     "execution_count": 21,
     "metadata": {},
     "output_type": "execute_result"
    }
   ],
   "source": [
    "mn_11.shape"
   ]
  },
  {
   "cell_type": "code",
   "execution_count": 22,
   "id": "e55cdd13-9ee6-4515-80c0-2b9b2841ec21",
   "metadata": {},
   "outputs": [],
   "source": [
    "mn_w1_ncm=mn_w1[mn_w1.CO_MUN.isna()].rename(columns={'KG_LIQUIDO':'kg_orig','VL_FOB':'fob_orig'}).drop(columns='CO_MUN')\n",
    "mn_w1_mun=mn_w1[mn_w1.CO_NCM.isna()].drop(columns='CO_NCM').loc[:,:'VL_FOB']\n",
    "mn_w1=mn_w1_mun.merge(mn_w1_ncm,on=['CO_ANO','CO_MES','CO_PAIS','CO_SH4','UF'])"
   ]
  },
  {
   "cell_type": "code",
   "execution_count": null,
   "id": "ead4d8c4-a299-4bb7-9825-cfde5d5cebf6",
   "metadata": {},
   "outputs": [],
   "source": []
  },
  {
   "cell_type": "code",
   "execution_count": 23,
   "id": "e1a0711e-ce1e-493f-89a7-cee9f27a41f0",
   "metadata": {},
   "outputs": [],
   "source": [
    "mn_1w_mun=mn_1w[mn_1w.CO_NCM.isna()].rename(columns={'KG_LIQUIDO':'kg_orig','VL_FOB':'fob_orig'}).drop(columns='CO_NCM').loc[:,:'fob_orig']\n",
    "mn_1w_ncm=mn_1w[mn_1w.CO_MUN.isna()].drop(columns='CO_MUN')\n",
    "mn_1w=mn_1w_mun.merge(mn_1w_ncm,on=['CO_ANO','CO_MES','CO_PAIS','CO_SH4','UF'])"
   ]
  },
  {
   "cell_type": "code",
   "execution_count": null,
   "id": "64d87178-2ef8-4426-a85c-60b1f673d7cf",
   "metadata": {},
   "outputs": [],
   "source": []
  },
  {
   "cell_type": "code",
   "execution_count": 24,
   "id": "812ed50f-d516-4f79-ad1a-461fd4b39b22",
   "metadata": {},
   "outputs": [
    {
     "data": {
      "text/html": [
       "<div>\n",
       "<style scoped>\n",
       "    .dataframe tbody tr th:only-of-type {\n",
       "        vertical-align: middle;\n",
       "    }\n",
       "\n",
       "    .dataframe tbody tr th {\n",
       "        vertical-align: top;\n",
       "    }\n",
       "\n",
       "    .dataframe thead th {\n",
       "        text-align: right;\n",
       "    }\n",
       "</style>\n",
       "<table border=\"1\" class=\"dataframe\">\n",
       "  <thead>\n",
       "    <tr style=\"text-align: right;\">\n",
       "      <th></th>\n",
       "      <th>CO_ANO</th>\n",
       "      <th>CO_MES</th>\n",
       "      <th>CO_PAIS</th>\n",
       "      <th>CO_SH4</th>\n",
       "      <th>UF</th>\n",
       "      <th>CO_MUN</th>\n",
       "      <th>KG_LIQUIDO</th>\n",
       "      <th>VL_FOB</th>\n",
       "      <th>CO_NCM</th>\n",
       "      <th>VL_FRETE</th>\n",
       "      <th>VL_SEGURO</th>\n",
       "    </tr>\n",
       "  </thead>\n",
       "  <tbody>\n",
       "    <tr>\n",
       "      <th>0</th>\n",
       "      <td>1997</td>\n",
       "      <td>2</td>\n",
       "      <td>23</td>\n",
       "      <td>3104</td>\n",
       "      <td>SP</td>\n",
       "      <td>3422307.0</td>\n",
       "      <td>1500000</td>\n",
       "      <td>216000</td>\n",
       "      <td>NaN</td>\n",
       "      <td>NaN</td>\n",
       "      <td>NaN</td>\n",
       "    </tr>\n",
       "    <tr>\n",
       "      <th>1</th>\n",
       "      <td>1997</td>\n",
       "      <td>2</td>\n",
       "      <td>23</td>\n",
       "      <td>3104</td>\n",
       "      <td>SP</td>\n",
       "      <td>NaN</td>\n",
       "      <td>3000000</td>\n",
       "      <td>427500</td>\n",
       "      <td>31042090.0</td>\n",
       "      <td>36000.0</td>\n",
       "      <td>1806.0</td>\n",
       "    </tr>\n",
       "    <tr>\n",
       "      <th>2</th>\n",
       "      <td>1997</td>\n",
       "      <td>2</td>\n",
       "      <td>23</td>\n",
       "      <td>3104</td>\n",
       "      <td>SP</td>\n",
       "      <td>NaN</td>\n",
       "      <td>4500000</td>\n",
       "      <td>990500</td>\n",
       "      <td>31043010.0</td>\n",
       "      <td>67500.0</td>\n",
       "      <td>6139.0</td>\n",
       "    </tr>\n",
       "    <tr>\n",
       "      <th>3</th>\n",
       "      <td>1997</td>\n",
       "      <td>2</td>\n",
       "      <td>23</td>\n",
       "      <td>3104</td>\n",
       "      <td>SP</td>\n",
       "      <td>3413504.0</td>\n",
       "      <td>6000000</td>\n",
       "      <td>1202000</td>\n",
       "      <td>NaN</td>\n",
       "      <td>NaN</td>\n",
       "      <td>NaN</td>\n",
       "    </tr>\n",
       "    <tr>\n",
       "      <th>4</th>\n",
       "      <td>1997</td>\n",
       "      <td>2</td>\n",
       "      <td>573</td>\n",
       "      <td>3102</td>\n",
       "      <td>RS</td>\n",
       "      <td>NaN</td>\n",
       "      <td>19440</td>\n",
       "      <td>9459</td>\n",
       "      <td>31029000.0</td>\n",
       "      <td>1039.0</td>\n",
       "      <td>12.0</td>\n",
       "    </tr>\n",
       "    <tr>\n",
       "      <th>5</th>\n",
       "      <td>1997</td>\n",
       "      <td>2</td>\n",
       "      <td>573</td>\n",
       "      <td>3102</td>\n",
       "      <td>RS</td>\n",
       "      <td>4312401.0</td>\n",
       "      <td>314910</td>\n",
       "      <td>30546</td>\n",
       "      <td>NaN</td>\n",
       "      <td>NaN</td>\n",
       "      <td>NaN</td>\n",
       "    </tr>\n",
       "    <tr>\n",
       "      <th>6</th>\n",
       "      <td>1997</td>\n",
       "      <td>2</td>\n",
       "      <td>573</td>\n",
       "      <td>3102</td>\n",
       "      <td>RS</td>\n",
       "      <td>4309308.0</td>\n",
       "      <td>450000</td>\n",
       "      <td>50400</td>\n",
       "      <td>NaN</td>\n",
       "      <td>NaN</td>\n",
       "      <td>NaN</td>\n",
       "    </tr>\n",
       "    <tr>\n",
       "      <th>7</th>\n",
       "      <td>1997</td>\n",
       "      <td>2</td>\n",
       "      <td>573</td>\n",
       "      <td>3102</td>\n",
       "      <td>RS</td>\n",
       "      <td>4314407.0</td>\n",
       "      <td>575287</td>\n",
       "      <td>59708</td>\n",
       "      <td>NaN</td>\n",
       "      <td>NaN</td>\n",
       "      <td>NaN</td>\n",
       "    </tr>\n",
       "    <tr>\n",
       "      <th>8</th>\n",
       "      <td>1997</td>\n",
       "      <td>2</td>\n",
       "      <td>573</td>\n",
       "      <td>3102</td>\n",
       "      <td>RS</td>\n",
       "      <td>4316907.0</td>\n",
       "      <td>676980</td>\n",
       "      <td>75822</td>\n",
       "      <td>NaN</td>\n",
       "      <td>NaN</td>\n",
       "      <td>NaN</td>\n",
       "    </tr>\n",
       "    <tr>\n",
       "      <th>9</th>\n",
       "      <td>1997</td>\n",
       "      <td>2</td>\n",
       "      <td>573</td>\n",
       "      <td>3102</td>\n",
       "      <td>RS</td>\n",
       "      <td>4315602.0</td>\n",
       "      <td>989432</td>\n",
       "      <td>110816</td>\n",
       "      <td>NaN</td>\n",
       "      <td>NaN</td>\n",
       "      <td>NaN</td>\n",
       "    </tr>\n",
       "  </tbody>\n",
       "</table>\n",
       "</div>"
      ],
      "text/plain": [
       "   CO_ANO  CO_MES  CO_PAIS  CO_SH4  UF     CO_MUN  KG_LIQUIDO   VL_FOB  \\\n",
       "0    1997       2       23    3104  SP  3422307.0     1500000   216000   \n",
       "1    1997       2       23    3104  SP        NaN     3000000   427500   \n",
       "2    1997       2       23    3104  SP        NaN     4500000   990500   \n",
       "3    1997       2       23    3104  SP  3413504.0     6000000  1202000   \n",
       "4    1997       2      573    3102  RS        NaN       19440     9459   \n",
       "5    1997       2      573    3102  RS  4312401.0      314910    30546   \n",
       "6    1997       2      573    3102  RS  4309308.0      450000    50400   \n",
       "7    1997       2      573    3102  RS  4314407.0      575287    59708   \n",
       "8    1997       2      573    3102  RS  4316907.0      676980    75822   \n",
       "9    1997       2      573    3102  RS  4315602.0      989432   110816   \n",
       "\n",
       "       CO_NCM  VL_FRETE  VL_SEGURO  \n",
       "0         NaN       NaN        NaN  \n",
       "1  31042090.0   36000.0     1806.0  \n",
       "2  31043010.0   67500.0     6139.0  \n",
       "3         NaN       NaN        NaN  \n",
       "4  31029000.0    1039.0       12.0  \n",
       "5         NaN       NaN        NaN  \n",
       "6         NaN       NaN        NaN  \n",
       "7         NaN       NaN        NaN  \n",
       "8         NaN       NaN        NaN  \n",
       "9         NaN       NaN        NaN  "
      ]
     },
     "execution_count": 24,
     "metadata": {},
     "output_type": "execute_result"
    }
   ],
   "source": [
    "mn_ww.head(10)"
   ]
  },
  {
   "cell_type": "code",
   "execution_count": 25,
   "id": "32fb07f0-c1e1-44d0-a7be-af768415b6f7",
   "metadata": {},
   "outputs": [
    {
     "data": {
      "text/plain": [
       "np.float64(0.4185987010929043)"
      ]
     },
     "execution_count": 25,
     "metadata": {},
     "output_type": "execute_result"
    }
   ],
   "source": [
    "mn_ww.KG_LIQUIDO.sum()/n.KG_LIQUIDO.sum()"
   ]
  },
  {
   "cell_type": "code",
   "execution_count": null,
   "id": "092786e1-1747-4cf7-a37f-26e6136104ab",
   "metadata": {},
   "outputs": [],
   "source": []
  },
  {
   "cell_type": "code",
   "execution_count": 26,
   "id": "6bda3de2-ad0a-4ed8-8acf-4a8bdfff200c",
   "metadata": {},
   "outputs": [],
   "source": [
    "mn_poly=pd.concat([mn_o,mn_11,mn_1w,mn_w1])"
   ]
  },
  {
   "cell_type": "code",
   "execution_count": null,
   "id": "ec73322f-7849-44eb-a5c2-4cd0586a3bfd",
   "metadata": {},
   "outputs": [],
   "source": []
  },
  {
   "cell_type": "code",
   "execution_count": 27,
   "id": "f5db3f56-e48e-4b57-a7b1-618ab206fb71",
   "metadata": {},
   "outputs": [
    {
     "data": {
      "text/html": [
       "<div>\n",
       "<style scoped>\n",
       "    .dataframe tbody tr th:only-of-type {\n",
       "        vertical-align: middle;\n",
       "    }\n",
       "\n",
       "    .dataframe tbody tr th {\n",
       "        vertical-align: top;\n",
       "    }\n",
       "\n",
       "    .dataframe thead th {\n",
       "        text-align: right;\n",
       "    }\n",
       "</style>\n",
       "<table border=\"1\" class=\"dataframe\">\n",
       "  <thead>\n",
       "    <tr style=\"text-align: right;\">\n",
       "      <th></th>\n",
       "      <th>CO_ANO</th>\n",
       "      <th>CO_MES</th>\n",
       "      <th>CO_SH4</th>\n",
       "      <th>CO_PAIS</th>\n",
       "      <th>UF</th>\n",
       "      <th>CO_MUN</th>\n",
       "      <th>KG_LIQUIDO</th>\n",
       "      <th>VL_FOB</th>\n",
       "      <th>CO_NCM</th>\n",
       "      <th>VL_FRETE</th>\n",
       "      <th>VL_SEGURO</th>\n",
       "      <th>kg_orig</th>\n",
       "      <th>fob_orig</th>\n",
       "    </tr>\n",
       "  </thead>\n",
       "  <tbody>\n",
       "    <tr>\n",
       "      <th>0</th>\n",
       "      <td>1997</td>\n",
       "      <td>1</td>\n",
       "      <td>3102</td>\n",
       "      <td>23</td>\n",
       "      <td>GO</td>\n",
       "      <td>5301108.0</td>\n",
       "      <td>1900000</td>\n",
       "      <td>184300</td>\n",
       "      <td>31022100.0</td>\n",
       "      <td>19000.0</td>\n",
       "      <td>0.0</td>\n",
       "      <td>1900000</td>\n",
       "      <td>184300</td>\n",
       "    </tr>\n",
       "    <tr>\n",
       "      <th>9</th>\n",
       "      <td>1997</td>\n",
       "      <td>1</td>\n",
       "      <td>3104</td>\n",
       "      <td>23</td>\n",
       "      <td>BA</td>\n",
       "      <td>2905701.0</td>\n",
       "      <td>59400</td>\n",
       "      <td>10128</td>\n",
       "      <td>31042090.0</td>\n",
       "      <td>5824.0</td>\n",
       "      <td>41.0</td>\n",
       "      <td>59400</td>\n",
       "      <td>10128</td>\n",
       "    </tr>\n",
       "    <tr>\n",
       "      <th>10</th>\n",
       "      <td>1997</td>\n",
       "      <td>1</td>\n",
       "      <td>3104</td>\n",
       "      <td>23</td>\n",
       "      <td>MG</td>\n",
       "      <td>3170701.0</td>\n",
       "      <td>300000</td>\n",
       "      <td>37800</td>\n",
       "      <td>31042090.0</td>\n",
       "      <td>3600.0</td>\n",
       "      <td>60.0</td>\n",
       "      <td>300000</td>\n",
       "      <td>37800</td>\n",
       "    </tr>\n",
       "    <tr>\n",
       "      <th>17</th>\n",
       "      <td>1997</td>\n",
       "      <td>1</td>\n",
       "      <td>3102</td>\n",
       "      <td>87</td>\n",
       "      <td>MG</td>\n",
       "      <td>3170107.0</td>\n",
       "      <td>3000000</td>\n",
       "      <td>291000</td>\n",
       "      <td>31022100.0</td>\n",
       "      <td>54000.0</td>\n",
       "      <td>900.0</td>\n",
       "      <td>3000000</td>\n",
       "      <td>291000</td>\n",
       "    </tr>\n",
       "    <tr>\n",
       "      <th>18</th>\n",
       "      <td>1997</td>\n",
       "      <td>1</td>\n",
       "      <td>3102</td>\n",
       "      <td>87</td>\n",
       "      <td>SP</td>\n",
       "      <td>3429401.0</td>\n",
       "      <td>3000000</td>\n",
       "      <td>291000</td>\n",
       "      <td>31022100.0</td>\n",
       "      <td>54000.0</td>\n",
       "      <td>2392.0</td>\n",
       "      <td>3000000</td>\n",
       "      <td>291000</td>\n",
       "    </tr>\n",
       "    <tr>\n",
       "      <th>...</th>\n",
       "      <td>...</td>\n",
       "      <td>...</td>\n",
       "      <td>...</td>\n",
       "      <td>...</td>\n",
       "      <td>...</td>\n",
       "      <td>...</td>\n",
       "      <td>...</td>\n",
       "      <td>...</td>\n",
       "      <td>...</td>\n",
       "      <td>...</td>\n",
       "      <td>...</td>\n",
       "      <td>...</td>\n",
       "      <td>...</td>\n",
       "    </tr>\n",
       "    <tr>\n",
       "      <th>47655</th>\n",
       "      <td>2024</td>\n",
       "      <td>8</td>\n",
       "      <td>3104</td>\n",
       "      <td>847</td>\n",
       "      <td>BA</td>\n",
       "      <td>2908507.0</td>\n",
       "      <td>10000000</td>\n",
       "      <td>2655000</td>\n",
       "      <td>31042090.0</td>\n",
       "      <td>516614.0</td>\n",
       "      <td>2306.0</td>\n",
       "      <td>14974320</td>\n",
       "      <td>3975682</td>\n",
       "    </tr>\n",
       "    <tr>\n",
       "      <th>47656</th>\n",
       "      <td>2024</td>\n",
       "      <td>8</td>\n",
       "      <td>3104</td>\n",
       "      <td>847</td>\n",
       "      <td>GO</td>\n",
       "      <td>5305109.0</td>\n",
       "      <td>2000000</td>\n",
       "      <td>535000</td>\n",
       "      <td>31042090.0</td>\n",
       "      <td>155460.0</td>\n",
       "      <td>1342.0</td>\n",
       "      <td>4200000</td>\n",
       "      <td>1194362</td>\n",
       "    </tr>\n",
       "    <tr>\n",
       "      <th>47657</th>\n",
       "      <td>2024</td>\n",
       "      <td>8</td>\n",
       "      <td>3104</td>\n",
       "      <td>847</td>\n",
       "      <td>GO</td>\n",
       "      <td>5303500.0</td>\n",
       "      <td>2200000</td>\n",
       "      <td>659362</td>\n",
       "      <td>31042090.0</td>\n",
       "      <td>155460.0</td>\n",
       "      <td>1342.0</td>\n",
       "      <td>4200000</td>\n",
       "      <td>1194362</td>\n",
       "    </tr>\n",
       "    <tr>\n",
       "      <th>47658</th>\n",
       "      <td>2024</td>\n",
       "      <td>8</td>\n",
       "      <td>3104</td>\n",
       "      <td>847</td>\n",
       "      <td>MG</td>\n",
       "      <td>3117900.0</td>\n",
       "      <td>330000</td>\n",
       "      <td>86031</td>\n",
       "      <td>31042090.0</td>\n",
       "      <td>700422.0</td>\n",
       "      <td>178.0</td>\n",
       "      <td>62925066</td>\n",
       "      <td>19116024</td>\n",
       "    </tr>\n",
       "    <tr>\n",
       "      <th>47659</th>\n",
       "      <td>2024</td>\n",
       "      <td>8</td>\n",
       "      <td>3104</td>\n",
       "      <td>847</td>\n",
       "      <td>MG</td>\n",
       "      <td>3170701.0</td>\n",
       "      <td>62595066</td>\n",
       "      <td>19029993</td>\n",
       "      <td>31042090.0</td>\n",
       "      <td>700422.0</td>\n",
       "      <td>178.0</td>\n",
       "      <td>62925066</td>\n",
       "      <td>19116024</td>\n",
       "    </tr>\n",
       "  </tbody>\n",
       "</table>\n",
       "<p>105939 rows × 13 columns</p>\n",
       "</div>"
      ],
      "text/plain": [
       "       CO_ANO  CO_MES  CO_SH4  CO_PAIS  UF     CO_MUN  KG_LIQUIDO    VL_FOB  \\\n",
       "0        1997       1    3102       23  GO  5301108.0     1900000    184300   \n",
       "9        1997       1    3104       23  BA  2905701.0       59400     10128   \n",
       "10       1997       1    3104       23  MG  3170701.0      300000     37800   \n",
       "17       1997       1    3102       87  MG  3170107.0     3000000    291000   \n",
       "18       1997       1    3102       87  SP  3429401.0     3000000    291000   \n",
       "...       ...     ...     ...      ...  ..        ...         ...       ...   \n",
       "47655    2024       8    3104      847  BA  2908507.0    10000000   2655000   \n",
       "47656    2024       8    3104      847  GO  5305109.0     2000000    535000   \n",
       "47657    2024       8    3104      847  GO  5303500.0     2200000    659362   \n",
       "47658    2024       8    3104      847  MG  3117900.0      330000     86031   \n",
       "47659    2024       8    3104      847  MG  3170701.0    62595066  19029993   \n",
       "\n",
       "           CO_NCM  VL_FRETE  VL_SEGURO   kg_orig  fob_orig  \n",
       "0      31022100.0   19000.0        0.0   1900000    184300  \n",
       "9      31042090.0    5824.0       41.0     59400     10128  \n",
       "10     31042090.0    3600.0       60.0    300000     37800  \n",
       "17     31022100.0   54000.0      900.0   3000000    291000  \n",
       "18     31022100.0   54000.0     2392.0   3000000    291000  \n",
       "...           ...       ...        ...       ...       ...  \n",
       "47655  31042090.0  516614.0     2306.0  14974320   3975682  \n",
       "47656  31042090.0  155460.0     1342.0   4200000   1194362  \n",
       "47657  31042090.0  155460.0     1342.0   4200000   1194362  \n",
       "47658  31042090.0  700422.0      178.0  62925066  19116024  \n",
       "47659  31042090.0  700422.0      178.0  62925066  19116024  \n",
       "\n",
       "[105939 rows x 13 columns]"
      ]
     },
     "execution_count": 27,
     "metadata": {},
     "output_type": "execute_result"
    }
   ],
   "source": [
    "mn_poly"
   ]
  },
  {
   "cell_type": "code",
   "execution_count": null,
   "id": "ae955cef-5879-42c6-b5e4-4029d5356f80",
   "metadata": {},
   "outputs": [],
   "source": []
  },
  {
   "cell_type": "code",
   "execution_count": null,
   "id": "a87157ea-1bba-4792-ae07-03b1845e3268",
   "metadata": {},
   "outputs": [],
   "source": []
  },
  {
   "cell_type": "code",
   "execution_count": 28,
   "id": "a45d6eef-6bdf-42ef-85ed-375be7875019",
   "metadata": {},
   "outputs": [
    {
     "data": {
      "text/plain": [
       "np.float64(0.29823486829287166)"
      ]
     },
     "execution_count": 28,
     "metadata": {},
     "output_type": "execute_result"
    }
   ],
   "source": [
    "mn_o.KG_LIQUIDO.sum()/m.KG_LIQUIDO.sum()"
   ]
  },
  {
   "cell_type": "code",
   "execution_count": 29,
   "id": "306fd6ba-61b5-4e8b-84a5-95418097a030",
   "metadata": {},
   "outputs": [
    {
     "data": {
      "text/plain": [
       "np.float64(0.29823486829287166)"
      ]
     },
     "execution_count": 29,
     "metadata": {},
     "output_type": "execute_result"
    }
   ],
   "source": [
    "mn_o.KG_LIQUIDO.sum()/m.KG_LIQUIDO.sum()"
   ]
  },
  {
   "cell_type": "code",
   "execution_count": 30,
   "id": "1027f443-d21c-4bba-be2f-1f6847e9e2ad",
   "metadata": {},
   "outputs": [
    {
     "data": {
      "text/plain": [
       "np.float64(0.0)"
      ]
     },
     "execution_count": 30,
     "metadata": {},
     "output_type": "execute_result"
    }
   ],
   "source": [
    "mn_11.KG_LIQUIDO.sum()/n.KG_LIQUIDO.sum()"
   ]
  },
  {
   "cell_type": "code",
   "execution_count": 31,
   "id": "4eacbe09-8a5a-4bfc-9f90-7176387af582",
   "metadata": {},
   "outputs": [
    {
     "data": {
      "text/plain": [
       "np.float64(0.0)"
      ]
     },
     "execution_count": 31,
     "metadata": {},
     "output_type": "execute_result"
    }
   ],
   "source": [
    "mn_11.KG_LIQUIDO.sum()/n.KG_LIQUIDO.sum()"
   ]
  },
  {
   "cell_type": "code",
   "execution_count": 32,
   "id": "b78e48ac-36da-4e24-b2b1-7e215409cce1",
   "metadata": {},
   "outputs": [
    {
     "data": {
      "text/plain": [
       "np.float64(0.4447216765247962)"
      ]
     },
     "execution_count": 32,
     "metadata": {},
     "output_type": "execute_result"
    }
   ],
   "source": [
    "mn_w1.KG_LIQUIDO.sum()/m.KG_LIQUIDO.sum()"
   ]
  },
  {
   "cell_type": "code",
   "execution_count": 33,
   "id": "5ec6ea24-faab-4946-a61b-52053481e765",
   "metadata": {},
   "outputs": [
    {
     "data": {
      "text/plain": [
       "np.float64(0.4447216765247962)"
      ]
     },
     "execution_count": 33,
     "metadata": {},
     "output_type": "execute_result"
    }
   ],
   "source": [
    "mn_w1.KG_LIQUIDO.sum()/n.KG_LIQUIDO.sum()"
   ]
  },
  {
   "cell_type": "code",
   "execution_count": 34,
   "id": "fde81a4a-5c7d-462e-a49b-d670e97d6161",
   "metadata": {},
   "outputs": [
    {
     "data": {
      "text/plain": [
       "np.float64(0.04774410463587993)"
      ]
     },
     "execution_count": 34,
     "metadata": {},
     "output_type": "execute_result"
    }
   ],
   "source": [
    "mn_1w.KG_LIQUIDO.sum()/m.KG_LIQUIDO.sum()"
   ]
  },
  {
   "cell_type": "code",
   "execution_count": 35,
   "id": "173a55e6-8b59-4443-b14f-bac77b3c7aca",
   "metadata": {},
   "outputs": [
    {
     "data": {
      "text/plain": [
       "np.float64(0.04774410463587993)"
      ]
     },
     "execution_count": 35,
     "metadata": {},
     "output_type": "execute_result"
    }
   ],
   "source": [
    "mn_1w.KG_LIQUIDO.sum()/n.KG_LIQUIDO.sum()"
   ]
  },
  {
   "cell_type": "code",
   "execution_count": 36,
   "id": "c9ec12ef-a2f3-44d2-82fc-1632eb3ba554",
   "metadata": {},
   "outputs": [
    {
     "data": {
      "text/plain": [
       "np.float64(0.7907006494535479)"
      ]
     },
     "execution_count": 36,
     "metadata": {},
     "output_type": "execute_result"
    }
   ],
   "source": [
    "mn_poly.KG_LIQUIDO.sum()/m.KG_LIQUIDO.sum()"
   ]
  },
  {
   "cell_type": "code",
   "execution_count": 37,
   "id": "7badc3b8-3c51-48c2-a0ef-fbfa4367ec13",
   "metadata": {},
   "outputs": [
    {
     "data": {
      "text/plain": [
       "np.float64(0.7907006494535479)"
      ]
     },
     "execution_count": 37,
     "metadata": {},
     "output_type": "execute_result"
    }
   ],
   "source": [
    "mn_poly.KG_LIQUIDO.sum()/n.KG_LIQUIDO.sum()"
   ]
  },
  {
   "cell_type": "code",
   "execution_count": 38,
   "id": "c4d802f8-e448-47d2-acf9-8fe1baa40fad",
   "metadata": {},
   "outputs": [
    {
     "data": {
      "text/plain": [
       "np.float64(0.7907006494535479)"
      ]
     },
     "execution_count": 38,
     "metadata": {},
     "output_type": "execute_result"
    }
   ],
   "source": [
    "mn_poly.KG_LIQUIDO.sum()/m.KG_LIQUIDO.sum()"
   ]
  },
  {
   "cell_type": "code",
   "execution_count": 39,
   "id": "e1eb4f25-34f2-4217-9e89-a889d97291b4",
   "metadata": {},
   "outputs": [
    {
     "data": {
      "text/plain": [
       "np.float64(0.7907006494535479)"
      ]
     },
     "execution_count": 39,
     "metadata": {},
     "output_type": "execute_result"
    }
   ],
   "source": [
    "mn_poly.KG_LIQUIDO.sum()/n.KG_LIQUIDO.sum()"
   ]
  },
  {
   "cell_type": "code",
   "execution_count": null,
   "id": "be3063ab-fc3e-4c15-9469-5d7243807e43",
   "metadata": {},
   "outputs": [],
   "source": []
  },
  {
   "cell_type": "code",
   "execution_count": 40,
   "id": "55ae16ea-74cc-4f0e-8928-14a16692a11f",
   "metadata": {},
   "outputs": [],
   "source": [
    "mn_poly.to_csv('~/git/BD/temp/mn_poly.csv',index=False)"
   ]
  }
 ],
 "metadata": {
  "kernelspec": {
   "display_name": "Python 3 (ipykernel)",
   "language": "python",
   "name": "python3"
  },
  "language_info": {
   "codemirror_mode": {
    "name": "ipython",
    "version": 3
   },
   "file_extension": ".py",
   "mimetype": "text/x-python",
   "name": "python",
   "nbconvert_exporter": "python",
   "pygments_lexer": "ipython3",
   "version": "3.11.2"
  }
 },
 "nbformat": 4,
 "nbformat_minor": 5
}
