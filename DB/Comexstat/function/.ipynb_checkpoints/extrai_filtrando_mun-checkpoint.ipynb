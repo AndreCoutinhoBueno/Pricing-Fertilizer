{
 "cells": [
  {
   "cell_type": "markdown",
   "id": "45b942d0-f20e-411f-ad8b-6520d478a01a",
   "metadata": {},
   "source": [
    "# Extrai filtrando NCM"
   ]
  },
  {
   "cell_type": "code",
   "execution_count": null,
   "id": "72ee9a92-c423-46cb-ab23-c5be0c245423",
   "metadata": {},
   "outputs": [],
   "source": [
    "# import zipfile\n",
    "import pandas as pd\n",
    "import zipfile, os\n",
    "\n",
    "def extrai_filtrando_mun(local_filename,internal_zipfile):\n",
    "    \n",
    "    # Função para filtrar as linhas do DataFrame com base na coluna 'CO_NCM'\n",
    "    def filtrar_chunk(chunk):\n",
    "        return chunk[chunk['SH4'].isin(sh4_fert)]\n",
    "    \n",
    "    # Tamanho do chunk\n",
    "    chunk_size = 10000  # Defina o tamanho do chunk conforme necessário\n",
    "    \n",
    "    imp_fert=pd.DataFrame()\n",
    "    \n",
    "    # Abrir o arquivo ZIP em modo leitura\n",
    "    with zipfile.ZipFile(local_filename, 'r') as zip_ref:\n",
    "        # Extrair o arquivo CSV temporariamente\n",
    "        with zip_ref.open(internal_zipfile) as csv_file:\n",
    "            # Ler o arquivo CSV em chunks\n",
    "            chunks = pd.read_csv(csv_file, chunksize=chunk_size, encoding='Latin-1', sep=';')\n",
    "            \n",
    "            # Iterar sobre os chunks\n",
    "            for chunk in chunks:\n",
    "                # Filtrar o chunk\n",
    "                chunk_filtrado = filtrar_chunk(chunk)\n",
    "                \n",
    "                # Exibir o chunk filtrado (ou realizar outra ação, como processamento adicional)\n",
    "                imp_fert=pd.concat([imp_fert,chunk_filtrado])#.rename(columns={'SH4':'CO_SH4'})\n",
    "    \n",
    "    print('df imp_fert disponível')\n",
    "    return imp_fert\n",
    "\n",
    "print('** Função extrai_filtrando_mun(local_filename,internal_zipfile) disponível **')"
   ]
  }
 ],
 "metadata": {
  "kernelspec": {
   "display_name": "Python 3 (ipykernel)",
   "language": "python",
   "name": "python3"
  },
  "language_info": {
   "codemirror_mode": {
    "name": "ipython",
    "version": 3
   },
   "file_extension": ".py",
   "mimetype": "text/x-python",
   "name": "python",
   "nbconvert_exporter": "python",
   "pygments_lexer": "ipython3",
   "version": "3.11.2"
  }
 },
 "nbformat": 4,
 "nbformat_minor": 5
}
