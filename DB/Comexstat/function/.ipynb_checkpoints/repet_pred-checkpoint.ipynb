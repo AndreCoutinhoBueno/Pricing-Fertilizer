{
 "cells": [
  {
   "cell_type": "code",
   "execution_count": 1,
   "id": "2c6c3c3f-3f7e-46c0-8fc9-9e982c434a3c",
   "metadata": {},
   "outputs": [
    {
     "name": "stdout",
     "output_type": "stream",
     "text": [
      "prev_comex_ncm(comex_ncm,cat_cols,target_cols,md_c,md_r)\n",
      "RandomForestClassifier as RFC_\n",
      "RandomForestRegressor as RFR_\n"
     ]
    }
   ],
   "source": [
    "import warnings\n",
    "warnings.filterwarnings(\"ignore\")\n",
    "\n",
    "import pandas as pd\n",
    "import numpy as np\n",
    "import seaborn as sns\n",
    "from sklearn import metrics\n",
    "%run 'func_prev_comex_ncm.ipynb'"
   ]
  },
  {
   "cell_type": "code",
   "execution_count": 2,
   "id": "31123efd-18ea-4a3e-a004-39c18c2a9710",
   "metadata": {},
   "outputs": [],
   "source": [
    "comex_ncm=pd.read_csv('~/git/BD/temp/imp_fert_quanti.csv').sort_values(by=['CO_ANO','CO_MES'])\n",
    "\n",
    "# Filtra top\n",
    "top_nick=comex_ncm.groupby('nick').KG_LIQUIDO.sum().sort_values().index[-2:]\n",
    "top_uf=comex_ncm.groupby('SG_UF_NCM').KG_LIQUIDO.sum().sort_values().index[-2:]\n",
    "top_pais=comex_ncm.groupby('CO_PAIS').KG_LIQUIDO.sum().sort_values().index[-2:]\n",
    "top_urf=comex_ncm.groupby('CO_URF').KG_LIQUIDO.sum().sort_values().index[-2:]\n",
    "comex_ncm=comex_ncm[comex_ncm.SG_UF_NCM.isin(top_uf)]\n",
    "comex_ncm=comex_ncm[(comex_ncm.nick.isin(top_nick))]\n",
    "comex_ncm=comex_ncm[comex_ncm.CO_URF.isin(top_urf)]\n",
    "comex_ncm=comex_ncm[comex_ncm.CO_PAIS.isin(top_pais)]"
   ]
  },
  {
   "cell_type": "code",
   "execution_count": 3,
   "id": "4858ba5f-5af5-4ec4-8723-99285b8723c1",
   "metadata": {},
   "outputs": [],
   "source": [
    "comex_ncm['date']=pd.to_datetime(comex_ncm.CO_ANO.astype(str)+'/'+comex_ncm.CO_MES.astype(str)+'/1')"
   ]
  },
  {
   "cell_type": "code",
   "execution_count": 4,
   "id": "ee443b7a-59e5-4bc8-83d5-dc1a7782b13e",
   "metadata": {},
   "outputs": [],
   "source": [
    "#sns.relplot(data=comex_ncm,x='date',y='KG_LIQUIDO',col='nick').fig.suptitle('Importacoes Selecionadas')"
   ]
  },
  {
   "cell_type": "markdown",
   "id": "8ad6c6c2-4066-4520-bb43-91b9fa4cc049",
   "metadata": {},
   "source": [
    "# ATENCAO"
   ]
  },
  {
   "cell_type": "code",
   "execution_count": 5,
   "id": "18041d99-0e90-4d69-bda3-ea9c793c0b65",
   "metadata": {},
   "outputs": [],
   "source": [
    "comex_ncm=comex_ncm[comex_ncm.CO_ANO>2008]"
   ]
  },
  {
   "cell_type": "code",
   "execution_count": 6,
   "id": "2d316512-4459-4d37-b6f1-555d2576d709",
   "metadata": {},
   "outputs": [],
   "source": [
    "# Define parametros\n",
    "cat_cols=['CO_MES','nick','SG_UF_NCM','CO_PAIS','CO_URF']\n",
    "l=15\n",
    "target_cols=['oc','KG_LIQUIDO']\n",
    "md_c=15\n",
    "md_r=1"
   ]
  },
  {
   "cell_type": "code",
   "execution_count": 7,
   "id": "6cfedc56-339e-4b64-bddc-29e61b53e9f3",
   "metadata": {},
   "outputs": [
    {
     "data": {
      "text/plain": [
       "True"
      ]
     },
     "execution_count": 7,
     "metadata": {},
     "output_type": "execute_result"
    }
   ],
   "source": [
    "comex_ncm.date=comex_ncm.date.dt.floor('D')\n",
    "\n",
    "# Confere comprimento em anos\n",
    "comex_ncm=comex_ncm[comex_ncm.date>comex_ncm.date.max() - pd.DateOffset(years=l)]\n",
    "(comex_ncm.date.max()-comex_ncm.date.min()).days/365 +1>l"
   ]
  },
  {
   "cell_type": "code",
   "execution_count": 8,
   "id": "0052bc62-4a2a-4cbf-9fd2-fcb691081514",
   "metadata": {},
   "outputs": [],
   "source": [
    "repetitions=pd.DataFrame()\n",
    "for rept in range(5):\n",
    "    # Preve\n",
    "    test_pred=prev_comex_ncm(comex_ncm,cat_cols=cat_cols,target_cols=target_cols,md_c=md_c,md_r=md_r)\n",
    "    \n",
    "    test_pred=test_pred.assign(cat_cols=str(cat_cols)).assign(target_cols=str(target_cols)).assign(md_c=md_c)\\\n",
    "    .assign(md_r=md_r).assign(rept=rept)\n",
    "\n",
    "    repetitions=pd.concat([repetitions,test_pred])\n",
    "    \n"
   ]
  },
  {
   "cell_type": "code",
   "execution_count": 13,
   "id": "726368ee-0a26-40d1-9b4e-295389568365",
   "metadata": {},
   "outputs": [
    {
     "data": {
      "text/html": [
       "<div>\n",
       "<style scoped>\n",
       "    .dataframe tbody tr th:only-of-type {\n",
       "        vertical-align: middle;\n",
       "    }\n",
       "\n",
       "    .dataframe tbody tr th {\n",
       "        vertical-align: top;\n",
       "    }\n",
       "\n",
       "    .dataframe thead th {\n",
       "        text-align: right;\n",
       "    }\n",
       "</style>\n",
       "<table border=\"1\" class=\"dataframe\">\n",
       "  <thead>\n",
       "    <tr style=\"text-align: right;\">\n",
       "      <th></th>\n",
       "      <th>accuracy_score</th>\n",
       "      <th>precision_score</th>\n",
       "      <th>recall_score</th>\n",
       "      <th>CO_ANO</th>\n",
       "      <th>CO_MES</th>\n",
       "      <th>nick</th>\n",
       "      <th>SG_UF_NCM</th>\n",
       "      <th>CO_PAIS</th>\n",
       "      <th>CO_URF</th>\n",
       "    </tr>\n",
       "  </thead>\n",
       "  <tbody>\n",
       "    <tr>\n",
       "      <th>0</th>\n",
       "      <td>1.0</td>\n",
       "      <td>1.0</td>\n",
       "      <td>1.0</td>\n",
       "      <td>2024</td>\n",
       "      <td>4</td>\n",
       "      <td>MOP_k</td>\n",
       "      <td>PR</td>\n",
       "      <td>676</td>\n",
       "      <td>917800</td>\n",
       "    </tr>\n",
       "    <tr>\n",
       "      <th>0</th>\n",
       "      <td>1.0</td>\n",
       "      <td>1.0</td>\n",
       "      <td>1.0</td>\n",
       "      <td>2024</td>\n",
       "      <td>4</td>\n",
       "      <td>MOP_k</td>\n",
       "      <td>PR</td>\n",
       "      <td>999</td>\n",
       "      <td>917800</td>\n",
       "    </tr>\n",
       "    <tr>\n",
       "      <th>0</th>\n",
       "      <td>1.0</td>\n",
       "      <td>1.0</td>\n",
       "      <td>1.0</td>\n",
       "      <td>2024</td>\n",
       "      <td>4</td>\n",
       "      <td>UREIA_k</td>\n",
       "      <td>PR</td>\n",
       "      <td>676</td>\n",
       "      <td>917800</td>\n",
       "    </tr>\n",
       "    <tr>\n",
       "      <th>0</th>\n",
       "      <td>0.6</td>\n",
       "      <td>0.0</td>\n",
       "      <td>0.0</td>\n",
       "      <td>2024</td>\n",
       "      <td>4</td>\n",
       "      <td>UREIA_k</td>\n",
       "      <td>PR</td>\n",
       "      <td>676</td>\n",
       "      <td>817800</td>\n",
       "    </tr>\n",
       "    <tr>\n",
       "      <th>0</th>\n",
       "      <td>1.0</td>\n",
       "      <td>1.0</td>\n",
       "      <td>1.0</td>\n",
       "      <td>2024</td>\n",
       "      <td>4</td>\n",
       "      <td>UREIA_k</td>\n",
       "      <td>PR</td>\n",
       "      <td>999</td>\n",
       "      <td>917800</td>\n",
       "    </tr>\n",
       "    <tr>\n",
       "      <th>0</th>\n",
       "      <td>0.0</td>\n",
       "      <td>0.0</td>\n",
       "      <td>0.0</td>\n",
       "      <td>2024</td>\n",
       "      <td>4</td>\n",
       "      <td>UREIA_k</td>\n",
       "      <td>RS</td>\n",
       "      <td>676</td>\n",
       "      <td>917800</td>\n",
       "    </tr>\n",
       "    <tr>\n",
       "      <th>0</th>\n",
       "      <td>1.0</td>\n",
       "      <td>1.0</td>\n",
       "      <td>1.0</td>\n",
       "      <td>2024</td>\n",
       "      <td>4</td>\n",
       "      <td>UREIA_k</td>\n",
       "      <td>RS</td>\n",
       "      <td>999</td>\n",
       "      <td>917800</td>\n",
       "    </tr>\n",
       "    <tr>\n",
       "      <th>0</th>\n",
       "      <td>1.0</td>\n",
       "      <td>1.0</td>\n",
       "      <td>1.0</td>\n",
       "      <td>2009</td>\n",
       "      <td>5</td>\n",
       "      <td>UREIA_k</td>\n",
       "      <td>PR</td>\n",
       "      <td>676</td>\n",
       "      <td>917800</td>\n",
       "    </tr>\n",
       "  </tbody>\n",
       "</table>\n",
       "</div>"
      ],
      "text/plain": [
       "   accuracy_score  precision_score  recall_score  CO_ANO CO_MES     nick  \\\n",
       "0             1.0              1.0           1.0    2024      4    MOP_k   \n",
       "0             1.0              1.0           1.0    2024      4    MOP_k   \n",
       "0             1.0              1.0           1.0    2024      4  UREIA_k   \n",
       "0             0.6              0.0           0.0    2024      4  UREIA_k   \n",
       "0             1.0              1.0           1.0    2024      4  UREIA_k   \n",
       "0             0.0              0.0           0.0    2024      4  UREIA_k   \n",
       "0             1.0              1.0           1.0    2024      4  UREIA_k   \n",
       "0             1.0              1.0           1.0    2009      5  UREIA_k   \n",
       "\n",
       "  SG_UF_NCM CO_PAIS  CO_URF  \n",
       "0        PR     676  917800  \n",
       "0        PR     999  917800  \n",
       "0        PR     676  917800  \n",
       "0        PR     676  817800  \n",
       "0        PR     999  917800  \n",
       "0        RS     676  917800  \n",
       "0        RS     999  917800  \n",
       "0        PR     676  917800  "
      ]
     },
     "execution_count": 13,
     "metadata": {},
     "output_type": "execute_result"
    }
   ],
   "source": [
    "scores=pd.DataFrame()\n",
    "for ano in repetitions.CO_ANO.unique():\n",
    "    for mes in repetitions.CO_MES.unique():\n",
    "        for nick in repetitions.nick.unique():\n",
    "            for uf in repetitions.SG_UF_NCM.unique():\n",
    "                for pais in repetitions.CO_PAIS.unique():\n",
    "                    for urf in repetitions.CO_URF.unique():\n",
    "                        repetitions_t=repetitions[\n",
    "                        (repetitions.CO_ANO==ano)&\n",
    "                        (repetitions.CO_MES==mes)&\n",
    "                        (repetitions.nick==nick)&\n",
    "                        (repetitions.SG_UF_NCM==uf)&\n",
    "                        (repetitions.CO_PAIS==pais)&\n",
    "                        (repetitions.CO_URF==urf)\n",
    "                        ]\n",
    "                        \n",
    "                        q=pd.DataFrame({\n",
    "                            'accuracy_score':[metrics.accuracy_score(repetitions_t.oc,repetitions_t.oc_pred)],\n",
    "                            'precision_score':[metrics.precision_score(repetitions_t.oc,repetitions_t.oc_pred)],\n",
    "                            'recall_score':[metrics.recall_score(repetitions_t.oc,repetitions_t.oc_pred)],\n",
    "                            \n",
    "                        })\n",
    "                        \n",
    "                        q=q.assign(CO_ANO=ano).assign(CO_MES=mes).assign(nick=nick).assign(SG_UF_NCM=uf).assign(CO_PAIS=pais)\\\n",
    "                        .assign(CO_URF=urf)\n",
    "                        \n",
    "                        scores=pd.concat([scores,q])\n",
    "                        \n",
    "scores.dropna()"
   ]
  },
  {
   "cell_type": "raw",
   "id": "b845182b-9d0e-4b31-af3f-803d4cbdb3c7",
   "metadata": {},
   "source": [
    "for rept in repetitions.rept.unique():\n",
    "    repetitions_t=repetitions[repetitions.rept==rept]\n",
    "    repetitions_t.to_csv('test_pred.csv',index=False)\n",
    "    print('\\n\\n\\nrept',rept)\n",
    "    %run 'test_pred_anls.ipynb'"
   ]
  },
  {
   "cell_type": "code",
   "execution_count": null,
   "id": "698a13ba-d658-4ae9-a991-ad3fafdf024b",
   "metadata": {},
   "outputs": [],
   "source": []
  }
 ],
 "metadata": {
  "kernelspec": {
   "display_name": "Python 3 (ipykernel)",
   "language": "python",
   "name": "python3"
  },
  "language_info": {
   "codemirror_mode": {
    "name": "ipython",
    "version": 3
   },
   "file_extension": ".py",
   "mimetype": "text/x-python",
   "name": "python",
   "nbconvert_exporter": "python",
   "pygments_lexer": "ipython3",
   "version": "3.11.2"
  }
 },
 "nbformat": 4,
 "nbformat_minor": 5
}
