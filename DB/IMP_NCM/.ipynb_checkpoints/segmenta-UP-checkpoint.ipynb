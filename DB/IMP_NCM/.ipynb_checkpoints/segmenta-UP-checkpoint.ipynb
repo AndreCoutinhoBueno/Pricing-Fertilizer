{
 "cells": [
  {
   "cell_type": "code",
   "execution_count": 1,
   "id": "16b3e6e3-4653-4abe-929a-8b06e5dc01b2",
   "metadata": {},
   "outputs": [
    {
     "name": "stdout",
     "output_type": "stream",
     "text": [
      "<class 'pandas.core.frame.DataFrame'>\n",
      "RangeIndex: 63801 entries, 0 to 63800\n",
      "Data columns (total 11 columns):\n",
      " #   Column      Non-Null Count  Dtype \n",
      "---  ------      --------------  ----- \n",
      " 0   CO_ANO      63801 non-null  int64 \n",
      " 1   CO_MES      63801 non-null  int64 \n",
      " 2   CO_NCM      63801 non-null  int64 \n",
      " 3   nick        63801 non-null  object\n",
      " 4   SG_UF_NCM   63801 non-null  object\n",
      " 5   CO_PAIS     63801 non-null  int64 \n",
      " 6   CO_URF      63801 non-null  int64 \n",
      " 7   KG_LIQUIDO  63801 non-null  int64 \n",
      " 8   VL_FOB      63801 non-null  int64 \n",
      " 9   VL_FRETE    63801 non-null  int64 \n",
      " 10  VL_SEGURO   63801 non-null  int64 \n",
      "dtypes: int64(9), object(2)\n",
      "memory usage: 5.4+ MB\n"
     ]
    }
   ],
   "source": [
    "import numpy as np\n",
    "import pandas as pd\n",
    "import matplotlib.pyplot as plt\n",
    "import seaborn as sns\n",
    "import warnings\n",
    "warnings.filterwarnings(\"ignore\")\n",
    "\n",
    "# Carrega a tabela imortação\n",
    "imp_fert=pd.read_csv('~/git/BD/temp/imp_fert_ncm_cat.csv').reset_index(drop=True)\n",
    "imp_fert.info()"
   ]
  },
  {
   "cell_type": "markdown",
   "id": "855625fa-8ec8-43ba-9dc1-dc26e3c40355",
   "metadata": {},
   "source": [
    "# Valores iguais a zero"
   ]
  },
  {
   "cell_type": "code",
   "execution_count": 2,
   "id": "e2f8d7d3-5222-4329-aae9-9a0c99d4160b",
   "metadata": {},
   "outputs": [
    {
     "name": "stdout",
     "output_type": "stream",
     "text": [
      "Registros com valor igual a zero:\n",
      "KG_LIQUIDO:32\n",
      "VL_FOB:0\n",
      "VL_FRETE:120\n",
      "VL_SEGURO:12304\n"
     ]
    }
   ],
   "source": [
    "print('Registros com valor igual a zero:')\n",
    "for quanti in imp_fert.columns[7:]:\n",
    "    print(f\"{quanti}:{imp_fert[imp_fert[quanti]==0].shape[0]}\")"
   ]
  },
  {
   "cell_type": "code",
   "execution_count": 3,
   "id": "f34048b6-1bc5-40f3-a15b-eed6c8995bc0",
   "metadata": {},
   "outputs": [],
   "source": [
    "imp_fert=imp_fert.drop(columns='VL_SEGURO')"
   ]
  },
  {
   "cell_type": "raw",
   "id": "45f0b862-e63d-408b-8229-f5d3dc712006",
   "metadata": {},
   "source": [
    "imp_fert[imp_fert.KG_LIQUIDO<=0]"
   ]
  },
  {
   "cell_type": "code",
   "execution_count": 4,
   "id": "a46fcd93-3e63-4652-a33f-ac1fdfdec25d",
   "metadata": {},
   "outputs": [],
   "source": [
    "imp_fert=imp_fert[imp_fert.KG_LIQUIDO>0]"
   ]
  },
  {
   "cell_type": "code",
   "execution_count": 5,
   "id": "430b9d83-cdc1-41d1-aea9-bf4d98b3b52c",
   "metadata": {},
   "outputs": [
    {
     "data": {
      "text/html": [
       "<div>\n",
       "<style scoped>\n",
       "    .dataframe tbody tr th:only-of-type {\n",
       "        vertical-align: middle;\n",
       "    }\n",
       "\n",
       "    .dataframe tbody tr th {\n",
       "        vertical-align: top;\n",
       "    }\n",
       "\n",
       "    .dataframe thead th {\n",
       "        text-align: right;\n",
       "    }\n",
       "</style>\n",
       "<table border=\"1\" class=\"dataframe\">\n",
       "  <thead>\n",
       "    <tr style=\"text-align: right;\">\n",
       "      <th></th>\n",
       "      <th>CO_ANO</th>\n",
       "      <th>CO_MES</th>\n",
       "      <th>CO_NCM</th>\n",
       "      <th>nick</th>\n",
       "      <th>SG_UF_NCM</th>\n",
       "      <th>CO_PAIS</th>\n",
       "      <th>CO_URF</th>\n",
       "      <th>KG_LIQUIDO</th>\n",
       "      <th>VL_FOB</th>\n",
       "      <th>VL_FRETE</th>\n",
       "    </tr>\n",
       "  </thead>\n",
       "  <tbody>\n",
       "  </tbody>\n",
       "</table>\n",
       "</div>"
      ],
      "text/plain": [
       "Empty DataFrame\n",
       "Columns: [CO_ANO, CO_MES, CO_NCM, nick, SG_UF_NCM, CO_PAIS, CO_URF, KG_LIQUIDO, VL_FOB, VL_FRETE]\n",
       "Index: []"
      ]
     },
     "execution_count": 5,
     "metadata": {},
     "output_type": "execute_result"
    }
   ],
   "source": [
    "imp_fert[imp_fert.VL_FOB==0]"
   ]
  },
  {
   "cell_type": "code",
   "execution_count": 6,
   "id": "4536a3f2-0816-42b3-9ebf-099db58c4207",
   "metadata": {},
   "outputs": [],
   "source": [
    "imp_fert=imp_fert[imp_fert.VL_FOB>0]"
   ]
  },
  {
   "cell_type": "code",
   "execution_count": 7,
   "id": "c6e5405b-c021-4f88-adbb-427b8d1fc3ff",
   "metadata": {},
   "outputs": [
    {
     "data": {
      "text/html": [
       "<div>\n",
       "<style scoped>\n",
       "    .dataframe tbody tr th:only-of-type {\n",
       "        vertical-align: middle;\n",
       "    }\n",
       "\n",
       "    .dataframe tbody tr th {\n",
       "        vertical-align: top;\n",
       "    }\n",
       "\n",
       "    .dataframe thead th {\n",
       "        text-align: right;\n",
       "    }\n",
       "</style>\n",
       "<table border=\"1\" class=\"dataframe\">\n",
       "  <thead>\n",
       "    <tr style=\"text-align: right;\">\n",
       "      <th></th>\n",
       "      <th>CO_ANO</th>\n",
       "      <th>CO_MES</th>\n",
       "      <th>CO_NCM</th>\n",
       "      <th>nick</th>\n",
       "      <th>SG_UF_NCM</th>\n",
       "      <th>CO_PAIS</th>\n",
       "      <th>CO_URF</th>\n",
       "      <th>KG_LIQUIDO</th>\n",
       "      <th>VL_FOB</th>\n",
       "      <th>VL_FRETE</th>\n",
       "    </tr>\n",
       "  </thead>\n",
       "  <tbody>\n",
       "    <tr>\n",
       "      <th>1290</th>\n",
       "      <td>1998</td>\n",
       "      <td>4</td>\n",
       "      <td>31042090</td>\n",
       "      <td>MOP</td>\n",
       "      <td>RJ</td>\n",
       "      <td>23</td>\n",
       "      <td>717600</td>\n",
       "      <td>1</td>\n",
       "      <td>33</td>\n",
       "      <td>0</td>\n",
       "    </tr>\n",
       "    <tr>\n",
       "      <th>2723</th>\n",
       "      <td>1999</td>\n",
       "      <td>7</td>\n",
       "      <td>31055900</td>\n",
       "      <td>NP</td>\n",
       "      <td>RJ</td>\n",
       "      <td>23</td>\n",
       "      <td>717600</td>\n",
       "      <td>1</td>\n",
       "      <td>31</td>\n",
       "      <td>0</td>\n",
       "    </tr>\n",
       "    <tr>\n",
       "      <th>5043</th>\n",
       "      <td>2001</td>\n",
       "      <td>3</td>\n",
       "      <td>31022100</td>\n",
       "      <td>SAM</td>\n",
       "      <td>RJ</td>\n",
       "      <td>23</td>\n",
       "      <td>717600</td>\n",
       "      <td>1</td>\n",
       "      <td>27</td>\n",
       "      <td>0</td>\n",
       "    </tr>\n",
       "    <tr>\n",
       "      <th>5008</th>\n",
       "      <td>2001</td>\n",
       "      <td>2</td>\n",
       "      <td>31059090</td>\n",
       "      <td>NK</td>\n",
       "      <td>PR</td>\n",
       "      <td>573</td>\n",
       "      <td>917600</td>\n",
       "      <td>1</td>\n",
       "      <td>5403</td>\n",
       "      <td>0</td>\n",
       "    </tr>\n",
       "    <tr>\n",
       "      <th>5651</th>\n",
       "      <td>2001</td>\n",
       "      <td>8</td>\n",
       "      <td>31059090</td>\n",
       "      <td>NK</td>\n",
       "      <td>PR</td>\n",
       "      <td>573</td>\n",
       "      <td>917600</td>\n",
       "      <td>1</td>\n",
       "      <td>6268</td>\n",
       "      <td>0</td>\n",
       "    </tr>\n",
       "    <tr>\n",
       "      <th>...</th>\n",
       "      <td>...</td>\n",
       "      <td>...</td>\n",
       "      <td>...</td>\n",
       "      <td>...</td>\n",
       "      <td>...</td>\n",
       "      <td>...</td>\n",
       "      <td>...</td>\n",
       "      <td>...</td>\n",
       "      <td>...</td>\n",
       "      <td>...</td>\n",
       "    </tr>\n",
       "    <tr>\n",
       "      <th>45621</th>\n",
       "      <td>2019</td>\n",
       "      <td>7</td>\n",
       "      <td>31054000</td>\n",
       "      <td>MAP</td>\n",
       "      <td>GO</td>\n",
       "      <td>493</td>\n",
       "      <td>927800</td>\n",
       "      <td>11</td>\n",
       "      <td>268</td>\n",
       "      <td>0</td>\n",
       "    </tr>\n",
       "    <tr>\n",
       "      <th>46389</th>\n",
       "      <td>2019</td>\n",
       "      <td>10</td>\n",
       "      <td>31042090</td>\n",
       "      <td>MOP</td>\n",
       "      <td>GO</td>\n",
       "      <td>361</td>\n",
       "      <td>927800</td>\n",
       "      <td>14</td>\n",
       "      <td>446</td>\n",
       "      <td>0</td>\n",
       "    </tr>\n",
       "    <tr>\n",
       "      <th>62927</th>\n",
       "      <td>2024</td>\n",
       "      <td>4</td>\n",
       "      <td>31059090</td>\n",
       "      <td>NK</td>\n",
       "      <td>SP</td>\n",
       "      <td>160</td>\n",
       "      <td>817800</td>\n",
       "      <td>27000</td>\n",
       "      <td>72630</td>\n",
       "      <td>0</td>\n",
       "    </tr>\n",
       "    <tr>\n",
       "      <th>2418</th>\n",
       "      <td>1999</td>\n",
       "      <td>3</td>\n",
       "      <td>31042090</td>\n",
       "      <td>MOP</td>\n",
       "      <td>GO</td>\n",
       "      <td>149</td>\n",
       "      <td>1010500</td>\n",
       "      <td>209867</td>\n",
       "      <td>27702</td>\n",
       "      <td>0</td>\n",
       "    </tr>\n",
       "    <tr>\n",
       "      <th>2261</th>\n",
       "      <td>1999</td>\n",
       "      <td>1</td>\n",
       "      <td>31042090</td>\n",
       "      <td>MOP</td>\n",
       "      <td>MG</td>\n",
       "      <td>149</td>\n",
       "      <td>1010500</td>\n",
       "      <td>362201</td>\n",
       "      <td>52881</td>\n",
       "      <td>0</td>\n",
       "    </tr>\n",
       "  </tbody>\n",
       "</table>\n",
       "<p>89 rows × 10 columns</p>\n",
       "</div>"
      ],
      "text/plain": [
       "       CO_ANO  CO_MES    CO_NCM nick SG_UF_NCM  CO_PAIS   CO_URF  KG_LIQUIDO  \\\n",
       "1290     1998       4  31042090  MOP        RJ       23   717600           1   \n",
       "2723     1999       7  31055900   NP        RJ       23   717600           1   \n",
       "5043     2001       3  31022100  SAM        RJ       23   717600           1   \n",
       "5008     2001       2  31059090   NK        PR      573   917600           1   \n",
       "5651     2001       8  31059090   NK        PR      573   917600           1   \n",
       "...       ...     ...       ...  ...       ...      ...      ...         ...   \n",
       "45621    2019       7  31054000  MAP        GO      493   927800          11   \n",
       "46389    2019      10  31042090  MOP        GO      361   927800          14   \n",
       "62927    2024       4  31059090   NK        SP      160   817800       27000   \n",
       "2418     1999       3  31042090  MOP        GO      149  1010500      209867   \n",
       "2261     1999       1  31042090  MOP        MG      149  1010500      362201   \n",
       "\n",
       "       VL_FOB  VL_FRETE  \n",
       "1290       33         0  \n",
       "2723       31         0  \n",
       "5043       27         0  \n",
       "5008     5403         0  \n",
       "5651     6268         0  \n",
       "...       ...       ...  \n",
       "45621     268         0  \n",
       "46389     446         0  \n",
       "62927   72630         0  \n",
       "2418    27702         0  \n",
       "2261    52881         0  \n",
       "\n",
       "[89 rows x 10 columns]"
      ]
     },
     "execution_count": 7,
     "metadata": {},
     "output_type": "execute_result"
    }
   ],
   "source": [
    "imp_fert[imp_fert.VL_FRETE==0].sort_values('KG_LIQUIDO')"
   ]
  },
  {
   "cell_type": "code",
   "execution_count": 8,
   "id": "70b95c41-1cf6-4db3-9cc5-f53244849cfc",
   "metadata": {},
   "outputs": [],
   "source": [
    "imp_fert=imp_fert[imp_fert.VL_FRETE!=0]"
   ]
  },
  {
   "cell_type": "markdown",
   "id": "8eae87e7-5f76-4c05-b897-56084985ac7b",
   "metadata": {},
   "source": [
    "# Corrige inflação"
   ]
  },
  {
   "cell_type": "code",
   "execution_count": 9,
   "id": "c9dc5d24-cfaf-4f9b-9924-ece24db232fe",
   "metadata": {},
   "outputs": [
    {
     "name": "stdout",
     "output_type": "stream",
     "text": [
      "\n",
      "Função ***corrige_inflação_dólar(df_ano_mes_valor,col_vl_name)*** disponível.\n",
      "\n"
     ]
    }
   ],
   "source": [
    "%run '~/git/BD/Comexstat/function/corrige_inflação_dólar.ipynb'"
   ]
  },
  {
   "cell_type": "code",
   "execution_count": 10,
   "id": "180eb270-9a57-4613-9b16-66452cd76e94",
   "metadata": {},
   "outputs": [],
   "source": [
    "for VL_COL in ['VL_FOB','VL_FRETE']:\n",
    "    imp_fert=corrige_inflação_dólar(imp_fert,VL_COL)\n"
   ]
  },
  {
   "cell_type": "markdown",
   "id": "1e582f97-474c-4a4a-996e-8b1146ef90a2",
   "metadata": {},
   "source": [
    "# Normalidade"
   ]
  },
  {
   "cell_type": "code",
   "execution_count": 11,
   "id": "435c4eb6-7320-46c2-8184-19113d6a4f34",
   "metadata": {},
   "outputs": [],
   "source": [
    "imp_fert=imp_fert.assign(preço_cif=(imp_fert.VL_FOB+imp_fert.VL_FRETE)/imp_fert.KG_LIQUIDO)"
   ]
  },
  {
   "cell_type": "code",
   "execution_count": 12,
   "id": "06c995d4-b24e-4e69-a587-ce88745b1c5f",
   "metadata": {
    "scrolled": true
   },
   "outputs": [],
   "source": [
    "imp_fert=imp_fert.assign(log_kg=np.log(imp_fert.KG_LIQUIDO))\n",
    "\n",
    "imp_fert=imp_fert.assign(log_fob=np.log(imp_fert.VL_FOB))\n",
    "\n",
    "imp_fert=imp_fert.assign(log_frete=np.log(imp_fert.VL_FRETE))"
   ]
  },
  {
   "cell_type": "code",
   "execution_count": 13,
   "id": "2dd76257-3b82-4bc9-8145-3eebc4fd6922",
   "metadata": {},
   "outputs": [
    {
     "data": {
      "image/png": "[encoded data removed]",
      "text/plain": [
       "<Figure size 1400x200 with 7 Axes>"
      ]
     },
     "metadata": {},
     "output_type": "display_data"
    },
    {
     "data": {
      "image/png": "[encoded data removed]",
      "text/plain": [
       "<Figure size 1400x200 with 7 Axes>"
      ]
     },
     "metadata": {},
     "output_type": "display_data"
    },
    {
     "data": {
      "image/png": "[encoded data removed]",
      "text/plain": [
       "<Figure size 1400x200 with 7 Axes>"
      ]
     },
     "metadata": {},
     "output_type": "display_data"
    },
    {
     "data": {
      "image/png": "[encoded data removed]",
      "text/plain": [
       "<Figure size 1400x200 with 7 Axes>"
      ]
     },
     "metadata": {},
     "output_type": "display_data"
    }
   ],
   "source": [
    "for col in ['KG_LIQUIDO','VL_FOB','VL_FRETE','preço_cif']:\n",
    "    sns.displot(kind='kde',data=imp_fert,x=col,col='nick', facet_kws=dict(sharey=False),height=2,log_scale=True)\n",
    "plt.show()"
   ]
  },
  {
   "cell_type": "code",
   "execution_count": 15,
   "id": "35741ba2-1983-4950-832f-507390d6b99a",
   "metadata": {},
   "outputs": [],
   "source": [
    "from sklearn.preprocessing import MinMaxScaler as MMS\n",
    "MMS=MMS()\n",
    "\n",
    "\n",
    "from sklearn.cluster import KMeans as KM\n",
    "KM=KM(n_clusters=4)\n",
    "\n",
    "q=pd.DataFrame()\n",
    "\n",
    "for ncm in imp_fert.CO_NCM.unique():\n",
    "    imp_fert_t=imp_fert[imp_fert.CO_NCM==ncm]\n",
    "    imp_fert_t=pd.concat([imp_fert_t.reset_index(drop=True),\\\n",
    "                     pd.DataFrame(MMS.fit_transform(imp_fert_t[['log_kg','log_fob','log_frete','preço_cif']]),\\\n",
    "                                  columns=['log_kg_s','log_fob_s','log_frete_s','preço_cif_s'])]\\\n",
    "                    ,axis=1)\n",
    "    \n",
    "    imp_fert_t=imp_fert_t.assign(km=KM.fit_predict(imp_fert_t[['log_kg_s','log_fob_s','log_frete_s']]))\n",
    "    q=pd.concat([q,imp_fert_t])"
   ]
  },
  {
   "cell_type": "code",
   "execution_count": 16,
   "id": "79da210e-57dd-486b-a1b8-87e50c0507a8",
   "metadata": {},
   "outputs": [],
   "source": [
    "imp_fert=q.copy()"
   ]
  },
  {
   "cell_type": "code",
   "execution_count": 17,
   "id": "f3d5b232-f0c3-4e0f-8ab0-1bb8237336ac",
   "metadata": {},
   "outputs": [],
   "source": [
    "q=pd.DataFrame()\n",
    "for ncm in imp_fert.CO_NCM.unique():\n",
    "    t=imp_fert[imp_fert.CO_NCM==ncm]\n",
    "    t1=t.groupby(by=['CO_NCM','km']).KG_LIQUIDO.mean().reset_index().sort_values('KG_LIQUIDO')\n",
    "    t1=t1.assign(km2=np.arange(0,len(t1)))\n",
    "    q=pd.concat([q,t1])\n",
    "q=q.drop(columns='KG_LIQUIDO')\n",
    "imp_fert=imp_fert.merge(q)"
   ]
  },
  {
   "cell_type": "code",
   "execution_count": 18,
   "id": "f71ba66d-dd89-4c9c-9151-3940b50ed3e3",
   "metadata": {},
   "outputs": [],
   "source": [
    "imp_fert=imp_fert.drop(columns='km').rename(columns={'km2':'km'})"
   ]
  },
  {
   "cell_type": "code",
   "execution_count": 19,
   "id": "2130c20a-85b3-4075-979a-f3de4ca06898",
   "metadata": {},
   "outputs": [],
   "source": [
    "imp_fert=imp_fert[imp_fert.km!=0]"
   ]
  },
  {
   "cell_type": "code",
   "execution_count": 20,
   "id": "985f766c-c869-42a6-9738-490983426274",
   "metadata": {},
   "outputs": [
    {
     "data": {
      "image/png": "[encoded data removed]",
      "text/plain": [
       "<Figure size 1258.88x600 with 7 Axes>"
      ]
     },
     "metadata": {},
     "output_type": "display_data"
    }
   ],
   "source": [
    "sns.displot(kind='kde',data=imp_fert,x='KG_LIQUIDO',col='nick', hue='km',col_wrap=3,height=2,aspect=2, log_scale=True)\n",
    "plt.show()"
   ]
  },
  {
   "cell_type": "code",
   "execution_count": 21,
   "id": "1811b125-f8cb-4ec1-bcd3-411fb89d4e5b",
   "metadata": {},
   "outputs": [],
   "source": [
    "imp_fert=imp_fert.assign(preço_fob=imp_fert.VL_FOB/imp_fert.KG_LIQUIDO)"
   ]
  },
  {
   "cell_type": "code",
   "execution_count": 22,
   "id": "ca69da91-b9d0-4233-8696-a9d55cf49212",
   "metadata": {},
   "outputs": [],
   "source": [
    "imp_fert=imp_fert.assign(preço_frete=imp_fert.VL_FRETE/imp_fert.KG_LIQUIDO)"
   ]
  },
  {
   "cell_type": "code",
   "execution_count": 23,
   "id": "f794db98-f270-428d-a71f-ec71d0ae6989",
   "metadata": {},
   "outputs": [],
   "source": [
    "pais=pd.read_csv('~/git/BD/Comexstat/tab_complementares/PAIS.csv',encoding='Latin-1',sep=';')"
   ]
  },
  {
   "cell_type": "code",
   "execution_count": 24,
   "id": "0cf87a27-dc2e-47de-b589-5b6d663f418f",
   "metadata": {},
   "outputs": [],
   "source": [
    "imp_fert=imp_fert.merge(pais)"
   ]
  },
  {
   "cell_type": "code",
   "execution_count": 25,
   "id": "c7750983-63b3-4b39-984b-1fee87051971",
   "metadata": {},
   "outputs": [
    {
     "data": {
      "text/html": [
       "<div>\n",
       "<style scoped>\n",
       "    .dataframe tbody tr th:only-of-type {\n",
       "        vertical-align: middle;\n",
       "    }\n",
       "\n",
       "    .dataframe tbody tr th {\n",
       "        vertical-align: top;\n",
       "    }\n",
       "\n",
       "    .dataframe thead th {\n",
       "        text-align: right;\n",
       "    }\n",
       "</style>\n",
       "<table border=\"1\" class=\"dataframe\">\n",
       "  <thead>\n",
       "    <tr style=\"text-align: right;\">\n",
       "      <th></th>\n",
       "      <th>nick</th>\n",
       "      <th>km</th>\n",
       "      <th>KG_LIQUIDO</th>\n",
       "      <th>preço_cif</th>\n",
       "      <th>preço_fob</th>\n",
       "      <th>preço_frete</th>\n",
       "    </tr>\n",
       "  </thead>\n",
       "  <tbody>\n",
       "    <tr>\n",
       "      <th>0</th>\n",
       "      <td>MAP</td>\n",
       "      <td>1</td>\n",
       "      <td>1.623085e+05</td>\n",
       "      <td>1.226705</td>\n",
       "      <td>1.167482</td>\n",
       "      <td>0.059223</td>\n",
       "    </tr>\n",
       "    <tr>\n",
       "      <th>1</th>\n",
       "      <td>MAP</td>\n",
       "      <td>2</td>\n",
       "      <td>1.789653e+06</td>\n",
       "      <td>0.811384</td>\n",
       "      <td>0.764116</td>\n",
       "      <td>0.047268</td>\n",
       "    </tr>\n",
       "    <tr>\n",
       "      <th>2</th>\n",
       "      <td>MAP</td>\n",
       "      <td>3</td>\n",
       "      <td>1.567831e+07</td>\n",
       "      <td>0.599121</td>\n",
       "      <td>0.560749</td>\n",
       "      <td>0.038372</td>\n",
       "    </tr>\n",
       "    <tr>\n",
       "      <th>3</th>\n",
       "      <td>MOP</td>\n",
       "      <td>1</td>\n",
       "      <td>5.073276e+05</td>\n",
       "      <td>0.833885</td>\n",
       "      <td>0.781802</td>\n",
       "      <td>0.052083</td>\n",
       "    </tr>\n",
       "    <tr>\n",
       "      <th>4</th>\n",
       "      <td>MOP</td>\n",
       "      <td>2</td>\n",
       "      <td>4.780554e+06</td>\n",
       "      <td>0.430185</td>\n",
       "      <td>0.389884</td>\n",
       "      <td>0.040301</td>\n",
       "    </tr>\n",
       "    <tr>\n",
       "      <th>5</th>\n",
       "      <td>MOP</td>\n",
       "      <td>3</td>\n",
       "      <td>2.743077e+07</td>\n",
       "      <td>0.439253</td>\n",
       "      <td>0.397433</td>\n",
       "      <td>0.041819</td>\n",
       "    </tr>\n",
       "    <tr>\n",
       "      <th>6</th>\n",
       "      <td>NK</td>\n",
       "      <td>1</td>\n",
       "      <td>1.488609e+04</td>\n",
       "      <td>3.747611</td>\n",
       "      <td>3.620161</td>\n",
       "      <td>0.127450</td>\n",
       "    </tr>\n",
       "    <tr>\n",
       "      <th>7</th>\n",
       "      <td>NK</td>\n",
       "      <td>2</td>\n",
       "      <td>7.819499e+04</td>\n",
       "      <td>3.583574</td>\n",
       "      <td>3.476741</td>\n",
       "      <td>0.106833</td>\n",
       "    </tr>\n",
       "    <tr>\n",
       "      <th>8</th>\n",
       "      <td>NK</td>\n",
       "      <td>3</td>\n",
       "      <td>1.421649e+06</td>\n",
       "      <td>1.821758</td>\n",
       "      <td>1.738779</td>\n",
       "      <td>0.082979</td>\n",
       "    </tr>\n",
       "    <tr>\n",
       "      <th>9</th>\n",
       "      <td>NP</td>\n",
       "      <td>1</td>\n",
       "      <td>5.786050e+05</td>\n",
       "      <td>0.837373</td>\n",
       "      <td>0.792247</td>\n",
       "      <td>0.045126</td>\n",
       "    </tr>\n",
       "    <tr>\n",
       "      <th>10</th>\n",
       "      <td>NP</td>\n",
       "      <td>2</td>\n",
       "      <td>4.481575e+06</td>\n",
       "      <td>0.491437</td>\n",
       "      <td>0.463013</td>\n",
       "      <td>0.028424</td>\n",
       "    </tr>\n",
       "    <tr>\n",
       "      <th>11</th>\n",
       "      <td>NP</td>\n",
       "      <td>3</td>\n",
       "      <td>1.961221e+07</td>\n",
       "      <td>0.502722</td>\n",
       "      <td>0.474450</td>\n",
       "      <td>0.028272</td>\n",
       "    </tr>\n",
       "    <tr>\n",
       "      <th>12</th>\n",
       "      <td>NPK</td>\n",
       "      <td>1</td>\n",
       "      <td>3.603827e+04</td>\n",
       "      <td>2.338411</td>\n",
       "      <td>2.254506</td>\n",
       "      <td>0.083905</td>\n",
       "    </tr>\n",
       "    <tr>\n",
       "      <th>13</th>\n",
       "      <td>NPK</td>\n",
       "      <td>2</td>\n",
       "      <td>4.600713e+05</td>\n",
       "      <td>1.345032</td>\n",
       "      <td>1.288743</td>\n",
       "      <td>0.056288</td>\n",
       "    </tr>\n",
       "    <tr>\n",
       "      <th>14</th>\n",
       "      <td>NPK</td>\n",
       "      <td>3</td>\n",
       "      <td>7.633134e+06</td>\n",
       "      <td>0.416402</td>\n",
       "      <td>0.372294</td>\n",
       "      <td>0.044108</td>\n",
       "    </tr>\n",
       "    <tr>\n",
       "      <th>15</th>\n",
       "      <td>SAM</td>\n",
       "      <td>1</td>\n",
       "      <td>7.968626e+04</td>\n",
       "      <td>0.630883</td>\n",
       "      <td>0.529390</td>\n",
       "      <td>0.101493</td>\n",
       "    </tr>\n",
       "    <tr>\n",
       "      <th>16</th>\n",
       "      <td>SAM</td>\n",
       "      <td>2</td>\n",
       "      <td>2.056181e+06</td>\n",
       "      <td>0.241953</td>\n",
       "      <td>0.208744</td>\n",
       "      <td>0.033209</td>\n",
       "    </tr>\n",
       "    <tr>\n",
       "      <th>17</th>\n",
       "      <td>SAM</td>\n",
       "      <td>3</td>\n",
       "      <td>2.536332e+07</td>\n",
       "      <td>0.223388</td>\n",
       "      <td>0.195464</td>\n",
       "      <td>0.027925</td>\n",
       "    </tr>\n",
       "    <tr>\n",
       "      <th>18</th>\n",
       "      <td>UREIA</td>\n",
       "      <td>1</td>\n",
       "      <td>3.990542e+05</td>\n",
       "      <td>0.573739</td>\n",
       "      <td>0.511636</td>\n",
       "      <td>0.062103</td>\n",
       "    </tr>\n",
       "    <tr>\n",
       "      <th>19</th>\n",
       "      <td>UREIA</td>\n",
       "      <td>2</td>\n",
       "      <td>3.341812e+06</td>\n",
       "      <td>0.429438</td>\n",
       "      <td>0.394951</td>\n",
       "      <td>0.034487</td>\n",
       "    </tr>\n",
       "    <tr>\n",
       "      <th>20</th>\n",
       "      <td>UREIA</td>\n",
       "      <td>3</td>\n",
       "      <td>1.919941e+07</td>\n",
       "      <td>0.413308</td>\n",
       "      <td>0.380788</td>\n",
       "      <td>0.032519</td>\n",
       "    </tr>\n",
       "  </tbody>\n",
       "</table>\n",
       "</div>"
      ],
      "text/plain": [
       "     nick  km    KG_LIQUIDO  preço_cif  preço_fob  preço_frete\n",
       "0     MAP   1  1.623085e+05   1.226705   1.167482     0.059223\n",
       "1     MAP   2  1.789653e+06   0.811384   0.764116     0.047268\n",
       "2     MAP   3  1.567831e+07   0.599121   0.560749     0.038372\n",
       "3     MOP   1  5.073276e+05   0.833885   0.781802     0.052083\n",
       "4     MOP   2  4.780554e+06   0.430185   0.389884     0.040301\n",
       "5     MOP   3  2.743077e+07   0.439253   0.397433     0.041819\n",
       "6      NK   1  1.488609e+04   3.747611   3.620161     0.127450\n",
       "7      NK   2  7.819499e+04   3.583574   3.476741     0.106833\n",
       "8      NK   3  1.421649e+06   1.821758   1.738779     0.082979\n",
       "9      NP   1  5.786050e+05   0.837373   0.792247     0.045126\n",
       "10     NP   2  4.481575e+06   0.491437   0.463013     0.028424\n",
       "11     NP   3  1.961221e+07   0.502722   0.474450     0.028272\n",
       "12    NPK   1  3.603827e+04   2.338411   2.254506     0.083905\n",
       "13    NPK   2  4.600713e+05   1.345032   1.288743     0.056288\n",
       "14    NPK   3  7.633134e+06   0.416402   0.372294     0.044108\n",
       "15    SAM   1  7.968626e+04   0.630883   0.529390     0.101493\n",
       "16    SAM   2  2.056181e+06   0.241953   0.208744     0.033209\n",
       "17    SAM   3  2.536332e+07   0.223388   0.195464     0.027925\n",
       "18  UREIA   1  3.990542e+05   0.573739   0.511636     0.062103\n",
       "19  UREIA   2  3.341812e+06   0.429438   0.394951     0.034487\n",
       "20  UREIA   3  1.919941e+07   0.413308   0.380788     0.032519"
      ]
     },
     "execution_count": 25,
     "metadata": {},
     "output_type": "execute_result"
    }
   ],
   "source": [
    "rank=imp_fert[imp_fert.CO_ANO==2023].groupby(by=['nick','km'])[['KG_LIQUIDO','preço_cif','preço_fob','preço_frete']].mean().reset_index()\\\n",
    ".sort_values(by=['nick','km'])\n",
    "rank"
   ]
  },
  {
   "cell_type": "code",
   "execution_count": 54,
   "id": "e728c2e2-689b-43ee-b26d-860068889485",
   "metadata": {},
   "outputs": [],
   "source": [
    "w=imp_fert[(imp_fert.km==imp_fert.km.min())&(imp_fert.nick=='NP')].groupby(by=['CO_ANO','NO_PAIS']).KG_LIQUIDO.sum().reset_index().sort_values('KG_LIQUIDO')"
   ]
  },
  {
   "cell_type": "code",
   "execution_count": 55,
   "id": "5bbe4410-1307-4705-8046-eb526017c375",
   "metadata": {},
   "outputs": [],
   "source": [
    "l=w.groupby('NO_PAIS').KG_LIQUIDO.sum().reset_index().sort_values('KG_LIQUIDO').tail(5).NO_PAIS.values"
   ]
  },
  {
   "cell_type": "code",
   "execution_count": 56,
   "id": "84a5d1c0-05e8-4daf-ad9f-a3cda25bb71c",
   "metadata": {},
   "outputs": [],
   "source": [
    "w.loc[~w.NO_PAIS.isin(l),'NO_PAIS']='outros'"
   ]
  },
  {
   "cell_type": "code",
   "execution_count": 57,
   "id": "87dc7b1b-a882-41cb-8241-8276363b589b",
   "metadata": {},
   "outputs": [
    {
     "data": {
      "text/plain": [
       "<seaborn.axisgrid.FacetGrid at 0x7fb7841a8e50>"
      ]
     },
     "execution_count": 57,
     "metadata": {},
     "output_type": "execute_result"
    },
    {
     "data": {
      "image/png": "[encoded data removed]",
      "text/plain": [
       "<Figure size 656.125x500 with 1 Axes>"
      ]
     },
     "metadata": {},
     "output_type": "display_data"
    }
   ],
   "source": [
    "sns.relplot(data=w,x='CO_ANO',y='KG_LIQUIDO',hue='NO_PAIS')"
   ]
  },
  {
   "cell_type": "code",
   "execution_count": 39,
   "id": "36e8dbad-3b35-4413-9b2f-e8ba05d8cad0",
   "metadata": {},
   "outputs": [
    {
     "data": {
      "text/html": [
       "<div>\n",
       "<style scoped>\n",
       "    .dataframe tbody tr th:only-of-type {\n",
       "        vertical-align: middle;\n",
       "    }\n",
       "\n",
       "    .dataframe tbody tr th {\n",
       "        vertical-align: top;\n",
       "    }\n",
       "\n",
       "    .dataframe thead th {\n",
       "        text-align: right;\n",
       "    }\n",
       "</style>\n",
       "<table border=\"1\" class=\"dataframe\">\n",
       "  <thead>\n",
       "    <tr style=\"text-align: right;\">\n",
       "      <th></th>\n",
       "      <th>NO_PAIS</th>\n",
       "      <th>KG_LIQUIDO</th>\n",
       "    </tr>\n",
       "  </thead>\n",
       "  <tbody>\n",
       "    <tr>\n",
       "      <th>2</th>\n",
       "      <td>Espanha</td>\n",
       "      <td>27092460</td>\n",
       "    </tr>\n",
       "    <tr>\n",
       "      <th>5</th>\n",
       "      <td>Rússia</td>\n",
       "      <td>43168885</td>\n",
       "    </tr>\n",
       "    <tr>\n",
       "      <th>0</th>\n",
       "      <td>Cazaquistão</td>\n",
       "      <td>50580500</td>\n",
       "    </tr>\n",
       "    <tr>\n",
       "      <th>4</th>\n",
       "      <td>Marrocos</td>\n",
       "      <td>67957549</td>\n",
       "    </tr>\n",
       "    <tr>\n",
       "      <th>1</th>\n",
       "      <td>China</td>\n",
       "      <td>355432498</td>\n",
       "    </tr>\n",
       "    <tr>\n",
       "      <th>3</th>\n",
       "      <td>Estados Unidos</td>\n",
       "      <td>408054899</td>\n",
       "    </tr>\n",
       "  </tbody>\n",
       "</table>\n",
       "</div>"
      ],
      "text/plain": [
       "          NO_PAIS  KG_LIQUIDO\n",
       "2         Espanha    27092460\n",
       "5          Rússia    43168885\n",
       "0     Cazaquistão    50580500\n",
       "4        Marrocos    67957549\n",
       "1           China   355432498\n",
       "3  Estados Unidos   408054899"
      ]
     },
     "execution_count": 39,
     "metadata": {},
     "output_type": "execute_result"
    }
   ],
   "source": [
    "imp_fert[(imp_fert.km==imp_fert.km.max())&(imp_fert.nick=='NP')&(imp_fert.CO_ANO==2024)].groupby('NO_PAIS').KG_LIQUIDO.sum().reset_index().sort_values('KG_LIQUIDO')"
   ]
  },
  {
   "cell_type": "code",
   "execution_count": 28,
   "id": "c7ebc2e6-55de-4340-a42b-bc2bae82032a",
   "metadata": {},
   "outputs": [],
   "source": [
    "k=imp_fert[(imp_fert.nick=='NP')&(imp_fert.km==1)].groupby(by=['CO_ANO','CO_MES','NO_PAIS','SG_UF_NCM'])[['KG_LIQUIDO','preço_cif']].mean().reset_index()"
   ]
  },
  {
   "cell_type": "code",
   "execution_count": 29,
   "id": "b7ec0b8b-ffb6-427a-820e-768f4fbcb2c7",
   "metadata": {},
   "outputs": [],
   "source": [
    "k['date']=pd.to_datetime(k.CO_ANO.astype(str)+'/'+k.CO_MES.astype(str)+'/1')"
   ]
  },
  {
   "cell_type": "code",
   "execution_count": 30,
   "id": "18071f56-4f0b-4402-a40b-37f7ec1040b5",
   "metadata": {},
   "outputs": [],
   "source": [
    "k=k[k.SG_UF_NCM.isin(['RN','CE'])]"
   ]
  },
  {
   "cell_type": "code",
   "execution_count": 31,
   "id": "e955edf0-cbc3-4ed8-b187-adeb4f40532a",
   "metadata": {},
   "outputs": [
    {
     "data": {
      "image/png": "[encoded data removed]",
      "text/plain": [
       "<Figure size 915.986x200 with 2 Axes>"
      ]
     },
     "metadata": {},
     "output_type": "display_data"
    }
   ],
   "source": [
    "sns.relplot(data=k[k.NO_PAIS=='China']\\\n",
    "            .rename(columns={'SG_UF_NCM':'Estado','NO_PAIS':'País de Origem'}),\\\n",
    "            x='date',y='KG_LIQUIDO',hue='País de Origem',col='Estado',height=2,aspect=2)\\\n",
    ".fig.suptitle('Estimativa de Importações de UP',y=1.1)\n",
    "plt.show()"
   ]
  },
  {
   "cell_type": "code",
   "execution_count": 32,
   "id": "46d9ced9-b873-490e-a377-ce2981604f1f",
   "metadata": {},
   "outputs": [
    {
     "data": {
      "image/png": "[encoded data removed]",
      "text/plain": [
       "<Figure size 915.986x200 with 2 Axes>"
      ]
     },
     "metadata": {},
     "output_type": "display_data"
    }
   ],
   "source": [
    "sns.relplot(data=k[k.NO_PAIS=='China'].rename(columns={'SG_UF_NCM':'Estado','NO_PAIS':'País de Origem','preço_cif':'US$_CIF_KG'}),x='date',y='US$_CIF_KG',hue='País de Origem',col='Estado',height=2,aspect=2).fig.suptitle('Estimativa de Importações de UP',y=1.1)\n",
    "plt.show()"
   ]
  },
  {
   "cell_type": "code",
   "execution_count": 33,
   "id": "1828485a-bd9d-44ed-8b87-d67e936f11b6",
   "metadata": {},
   "outputs": [],
   "source": [
    " k['ton']=round(k.KG_LIQUIDO/10**3).astype(int)"
   ]
  },
  {
   "cell_type": "code",
   "execution_count": 34,
   "id": "1a32b241-fa0b-4f9f-aec3-29558da5c00e",
   "metadata": {},
   "outputs": [],
   "source": [
    "k=k.rename(columns={'preço_cif':'preço_cif_ton','SG_UF_NCM':'UF'})"
   ]
  },
  {
   "cell_type": "code",
   "execution_count": 35,
   "id": "9ae7d5e8-5bf8-4db6-9070-85fab8adc131",
   "metadata": {},
   "outputs": [],
   "source": [
    "k.preço_cif_ton=round(k.preço_cif_ton*10**3).astype(int)"
   ]
  },
  {
   "cell_type": "code",
   "execution_count": 36,
   "id": "9531d9da-df7d-4ed7-8329-ddade010c11e",
   "metadata": {},
   "outputs": [],
   "source": [
    "k.drop(columns=['date','KG_LIQUIDO'],inplace=True)"
   ]
  },
  {
   "cell_type": "code",
   "execution_count": 37,
   "id": "b74160da-8321-470a-8f74-f3995a2b75e3",
   "metadata": {},
   "outputs": [
    {
     "data": {
      "text/html": [
       "<div>\n",
       "<style scoped>\n",
       "    .dataframe tbody tr th:only-of-type {\n",
       "        vertical-align: middle;\n",
       "    }\n",
       "\n",
       "    .dataframe tbody tr th {\n",
       "        vertical-align: top;\n",
       "    }\n",
       "\n",
       "    .dataframe thead th {\n",
       "        text-align: right;\n",
       "    }\n",
       "</style>\n",
       "<table border=\"1\" class=\"dataframe\">\n",
       "  <thead>\n",
       "    <tr style=\"text-align: right;\">\n",
       "      <th></th>\n",
       "      <th>CO_ANO</th>\n",
       "      <th>CO_MES</th>\n",
       "      <th>NO_PAIS</th>\n",
       "      <th>UF</th>\n",
       "      <th>preço_cif_ton</th>\n",
       "      <th>ton</th>\n",
       "    </tr>\n",
       "  </thead>\n",
       "  <tbody>\n",
       "    <tr>\n",
       "      <th>434</th>\n",
       "      <td>2017</td>\n",
       "      <td>10</td>\n",
       "      <td>China</td>\n",
       "      <td>CE</td>\n",
       "      <td>1045</td>\n",
       "      <td>125</td>\n",
       "    </tr>\n",
       "    <tr>\n",
       "      <th>438</th>\n",
       "      <td>2017</td>\n",
       "      <td>10</td>\n",
       "      <td>Venezuela</td>\n",
       "      <td>CE</td>\n",
       "      <td>927</td>\n",
       "      <td>576</td>\n",
       "    </tr>\n",
       "    <tr>\n",
       "      <th>440</th>\n",
       "      <td>2017</td>\n",
       "      <td>12</td>\n",
       "      <td>China</td>\n",
       "      <td>CE</td>\n",
       "      <td>1013</td>\n",
       "      <td>125</td>\n",
       "    </tr>\n",
       "    <tr>\n",
       "      <th>442</th>\n",
       "      <td>2018</td>\n",
       "      <td>1</td>\n",
       "      <td>China</td>\n",
       "      <td>RN</td>\n",
       "      <td>1026</td>\n",
       "      <td>300</td>\n",
       "    </tr>\n",
       "    <tr>\n",
       "      <th>450</th>\n",
       "      <td>2018</td>\n",
       "      <td>7</td>\n",
       "      <td>China</td>\n",
       "      <td>RN</td>\n",
       "      <td>987</td>\n",
       "      <td>216</td>\n",
       "    </tr>\n",
       "    <tr>\n",
       "      <th>460</th>\n",
       "      <td>2018</td>\n",
       "      <td>9</td>\n",
       "      <td>China</td>\n",
       "      <td>CE</td>\n",
       "      <td>1011</td>\n",
       "      <td>398</td>\n",
       "    </tr>\n",
       "    <tr>\n",
       "      <th>461</th>\n",
       "      <td>2018</td>\n",
       "      <td>9</td>\n",
       "      <td>China</td>\n",
       "      <td>RN</td>\n",
       "      <td>1053</td>\n",
       "      <td>236</td>\n",
       "    </tr>\n",
       "    <tr>\n",
       "      <th>465</th>\n",
       "      <td>2018</td>\n",
       "      <td>10</td>\n",
       "      <td>China</td>\n",
       "      <td>CE</td>\n",
       "      <td>1052</td>\n",
       "      <td>324</td>\n",
       "    </tr>\n",
       "    <tr>\n",
       "      <th>470</th>\n",
       "      <td>2018</td>\n",
       "      <td>11</td>\n",
       "      <td>China</td>\n",
       "      <td>CE</td>\n",
       "      <td>1050</td>\n",
       "      <td>324</td>\n",
       "    </tr>\n",
       "    <tr>\n",
       "      <th>471</th>\n",
       "      <td>2018</td>\n",
       "      <td>11</td>\n",
       "      <td>China</td>\n",
       "      <td>RN</td>\n",
       "      <td>1072</td>\n",
       "      <td>500</td>\n",
       "    </tr>\n",
       "    <tr>\n",
       "      <th>474</th>\n",
       "      <td>2018</td>\n",
       "      <td>12</td>\n",
       "      <td>China</td>\n",
       "      <td>CE</td>\n",
       "      <td>1048</td>\n",
       "      <td>351</td>\n",
       "    </tr>\n",
       "    <tr>\n",
       "      <th>496</th>\n",
       "      <td>2019</td>\n",
       "      <td>10</td>\n",
       "      <td>China</td>\n",
       "      <td>RN</td>\n",
       "      <td>893</td>\n",
       "      <td>270</td>\n",
       "    </tr>\n",
       "    <tr>\n",
       "      <th>501</th>\n",
       "      <td>2019</td>\n",
       "      <td>12</td>\n",
       "      <td>China</td>\n",
       "      <td>CE</td>\n",
       "      <td>1024</td>\n",
       "      <td>250</td>\n",
       "    </tr>\n",
       "    <tr>\n",
       "      <th>504</th>\n",
       "      <td>2020</td>\n",
       "      <td>1</td>\n",
       "      <td>China</td>\n",
       "      <td>CE</td>\n",
       "      <td>1032</td>\n",
       "      <td>250</td>\n",
       "    </tr>\n",
       "    <tr>\n",
       "      <th>506</th>\n",
       "      <td>2020</td>\n",
       "      <td>1</td>\n",
       "      <td>China</td>\n",
       "      <td>RN</td>\n",
       "      <td>921</td>\n",
       "      <td>200</td>\n",
       "    </tr>\n",
       "    <tr>\n",
       "      <th>528</th>\n",
       "      <td>2020</td>\n",
       "      <td>9</td>\n",
       "      <td>China</td>\n",
       "      <td>CE</td>\n",
       "      <td>344</td>\n",
       "      <td>500</td>\n",
       "    </tr>\n",
       "    <tr>\n",
       "      <th>535</th>\n",
       "      <td>2020</td>\n",
       "      <td>11</td>\n",
       "      <td>China</td>\n",
       "      <td>RN</td>\n",
       "      <td>838</td>\n",
       "      <td>202</td>\n",
       "    </tr>\n",
       "    <tr>\n",
       "      <th>544</th>\n",
       "      <td>2021</td>\n",
       "      <td>1</td>\n",
       "      <td>China</td>\n",
       "      <td>RN</td>\n",
       "      <td>817</td>\n",
       "      <td>403</td>\n",
       "    </tr>\n",
       "    <tr>\n",
       "      <th>596</th>\n",
       "      <td>2022</td>\n",
       "      <td>5</td>\n",
       "      <td>China</td>\n",
       "      <td>RN</td>\n",
       "      <td>800</td>\n",
       "      <td>450</td>\n",
       "    </tr>\n",
       "    <tr>\n",
       "      <th>604</th>\n",
       "      <td>2022</td>\n",
       "      <td>9</td>\n",
       "      <td>China</td>\n",
       "      <td>CE</td>\n",
       "      <td>1516</td>\n",
       "      <td>400</td>\n",
       "    </tr>\n",
       "  </tbody>\n",
       "</table>\n",
       "</div>"
      ],
      "text/plain": [
       "     CO_ANO  CO_MES    NO_PAIS  UF  preço_cif_ton  ton\n",
       "434    2017      10      China  CE           1045  125\n",
       "438    2017      10  Venezuela  CE            927  576\n",
       "440    2017      12      China  CE           1013  125\n",
       "442    2018       1      China  RN           1026  300\n",
       "450    2018       7      China  RN            987  216\n",
       "460    2018       9      China  CE           1011  398\n",
       "461    2018       9      China  RN           1053  236\n",
       "465    2018      10      China  CE           1052  324\n",
       "470    2018      11      China  CE           1050  324\n",
       "471    2018      11      China  RN           1072  500\n",
       "474    2018      12      China  CE           1048  351\n",
       "496    2019      10      China  RN            893  270\n",
       "501    2019      12      China  CE           1024  250\n",
       "504    2020       1      China  CE           1032  250\n",
       "506    2020       1      China  RN            921  200\n",
       "528    2020       9      China  CE            344  500\n",
       "535    2020      11      China  RN            838  202\n",
       "544    2021       1      China  RN            817  403\n",
       "596    2022       5      China  RN            800  450\n",
       "604    2022       9      China  CE           1516  400"
      ]
     },
     "execution_count": 37,
     "metadata": {},
     "output_type": "execute_result"
    }
   ],
   "source": [
    "k.tail(20)"
   ]
  },
  {
   "cell_type": "code",
   "execution_count": 38,
   "id": "13024e77-6294-4e8a-a787-84d8e2a4715c",
   "metadata": {},
   "outputs": [
    {
     "data": {
      "text/html": [
       "<div>\n",
       "<style scoped>\n",
       "    .dataframe tbody tr th:only-of-type {\n",
       "        vertical-align: middle;\n",
       "    }\n",
       "\n",
       "    .dataframe tbody tr th {\n",
       "        vertical-align: top;\n",
       "    }\n",
       "\n",
       "    .dataframe thead th {\n",
       "        text-align: right;\n",
       "    }\n",
       "</style>\n",
       "<table border=\"1\" class=\"dataframe\">\n",
       "  <thead>\n",
       "    <tr style=\"text-align: right;\">\n",
       "      <th></th>\n",
       "      <th>SG_UF_NCM</th>\n",
       "      <th>KG_LIQUIDO</th>\n",
       "    </tr>\n",
       "  </thead>\n",
       "  <tbody>\n",
       "    <tr>\n",
       "      <th>7</th>\n",
       "      <td>MA</td>\n",
       "      <td>144000</td>\n",
       "    </tr>\n",
       "    <tr>\n",
       "      <th>0</th>\n",
       "      <td>AL</td>\n",
       "      <td>533000</td>\n",
       "    </tr>\n",
       "    <tr>\n",
       "      <th>11</th>\n",
       "      <td>PA</td>\n",
       "      <td>1000000</td>\n",
       "    </tr>\n",
       "    <tr>\n",
       "      <th>5</th>\n",
       "      <td>ES</td>\n",
       "      <td>1100000</td>\n",
       "    </tr>\n",
       "    <tr>\n",
       "      <th>13</th>\n",
       "      <td>PI</td>\n",
       "      <td>1225000</td>\n",
       "    </tr>\n",
       "    <tr>\n",
       "      <th>4</th>\n",
       "      <td>DF</td>\n",
       "      <td>1429153</td>\n",
       "    </tr>\n",
       "    <tr>\n",
       "      <th>16</th>\n",
       "      <td>RO</td>\n",
       "      <td>2122000</td>\n",
       "    </tr>\n",
       "    <tr>\n",
       "      <th>19</th>\n",
       "      <td>SE</td>\n",
       "      <td>2553358</td>\n",
       "    </tr>\n",
       "    <tr>\n",
       "      <th>1</th>\n",
       "      <td>AM</td>\n",
       "      <td>3872490</td>\n",
       "    </tr>\n",
       "    <tr>\n",
       "      <th>21</th>\n",
       "      <td>TO</td>\n",
       "      <td>4119210</td>\n",
       "    </tr>\n",
       "    <tr>\n",
       "      <th>15</th>\n",
       "      <td>RN</td>\n",
       "      <td>5920830</td>\n",
       "    </tr>\n",
       "    <tr>\n",
       "      <th>17</th>\n",
       "      <td>RS</td>\n",
       "      <td>6503181</td>\n",
       "    </tr>\n",
       "    <tr>\n",
       "      <th>12</th>\n",
       "      <td>PE</td>\n",
       "      <td>6864280</td>\n",
       "    </tr>\n",
       "    <tr>\n",
       "      <th>2</th>\n",
       "      <td>BA</td>\n",
       "      <td>12292894</td>\n",
       "    </tr>\n",
       "    <tr>\n",
       "      <th>3</th>\n",
       "      <td>CE</td>\n",
       "      <td>14368200</td>\n",
       "    </tr>\n",
       "    <tr>\n",
       "      <th>18</th>\n",
       "      <td>SC</td>\n",
       "      <td>23119207</td>\n",
       "    </tr>\n",
       "    <tr>\n",
       "      <th>9</th>\n",
       "      <td>MS</td>\n",
       "      <td>31128069</td>\n",
       "    </tr>\n",
       "    <tr>\n",
       "      <th>6</th>\n",
       "      <td>GO</td>\n",
       "      <td>32302135</td>\n",
       "    </tr>\n",
       "    <tr>\n",
       "      <th>14</th>\n",
       "      <td>PR</td>\n",
       "      <td>36699790</td>\n",
       "    </tr>\n",
       "    <tr>\n",
       "      <th>8</th>\n",
       "      <td>MG</td>\n",
       "      <td>43468436</td>\n",
       "    </tr>\n",
       "    <tr>\n",
       "      <th>20</th>\n",
       "      <td>SP</td>\n",
       "      <td>48292603</td>\n",
       "    </tr>\n",
       "    <tr>\n",
       "      <th>10</th>\n",
       "      <td>MT</td>\n",
       "      <td>50985731</td>\n",
       "    </tr>\n",
       "  </tbody>\n",
       "</table>\n",
       "</div>"
      ],
      "text/plain": [
       "   SG_UF_NCM  KG_LIQUIDO\n",
       "7         MA      144000\n",
       "0         AL      533000\n",
       "11        PA     1000000\n",
       "5         ES     1100000\n",
       "13        PI     1225000\n",
       "4         DF     1429153\n",
       "16        RO     2122000\n",
       "19        SE     2553358\n",
       "1         AM     3872490\n",
       "21        TO     4119210\n",
       "15        RN     5920830\n",
       "17        RS     6503181\n",
       "12        PE     6864280\n",
       "2         BA    12292894\n",
       "3         CE    14368200\n",
       "18        SC    23119207\n",
       "9         MS    31128069\n",
       "6         GO    32302135\n",
       "14        PR    36699790\n",
       "8         MG    43468436\n",
       "20        SP    48292603\n",
       "10        MT    50985731"
      ]
     },
     "execution_count": 38,
     "metadata": {},
     "output_type": "execute_result"
    }
   ],
   "source": [
    "imp_fert[(imp_fert.km==1)&(imp_fert.nick=='NP')].groupby('SG_UF_NCM').KG_LIQUIDO.sum().reset_index().sort_values('KG_LIQUIDO') "
   ]
  },
  {
   "cell_type": "code",
   "execution_count": null,
   "id": "147af5e5-98e4-41f8-ab9d-02e59849c35c",
   "metadata": {},
   "outputs": [],
   "source": [
    "imp_fert[(imp_fert.km==1)&(imp_fert.nick=='NP')].groupby('CO_ANO').KG_LIQUIDO.sum().reset_index().sort_values('CO_ANO')/10**6"
   ]
  },
  {
   "cell_type": "code",
   "execution_count": null,
   "id": "6fdd95bb-8a41-4d53-893c-e4c5fef1ef6d",
   "metadata": {},
   "outputs": [],
   "source": [
    "q=pd.DataFrame()\n",
    "for nick in rank.nick.unique():\n",
    "    rank_t=rank[rank.nick==nick]\n",
    "    rank_t=rank_t.assign(rank_=rank_t['log_kg'].rank(ascending=False))\n",
    "    q=pd.concat([q,rank_t])\n",
    "q"
   ]
  },
  {
   "cell_type": "code",
   "execution_count": null,
   "id": "e872d05f-7595-49c6-a555-9eac1847dd9f",
   "metadata": {},
   "outputs": [],
   "source": [
    "r=pd.DataFrame()\n",
    "for k,v in filtro.items():\n",
    "    q_t=q[(q.nick==k)*(q.rank_<=v)]\n",
    "    r=pd.concat([r,q_t])\n",
    "r"
   ]
  },
  {
   "cell_type": "code",
   "execution_count": null,
   "id": "83fad5b4-9098-4f0a-ac64-78859c1e73ee",
   "metadata": {},
   "outputs": [],
   "source": [
    "imp_fert=imp_fert.merge(r[['nick','km']])"
   ]
  },
  {
   "cell_type": "code",
   "execution_count": null,
   "id": "795509dd-10fc-4994-b93d-769961c109f0",
   "metadata": {},
   "outputs": [],
   "source": [
    "imp_fert.CO_NCM=imp_fert.CO_NCM.astype(str)\n",
    "imp_fert.CO_NCM=imp_fert.CO_NCM+'_k'\n",
    "imp_fert.nick=imp_fert.nick+'_k'"
   ]
  },
  {
   "cell_type": "code",
   "execution_count": null,
   "id": "d8efd091-9457-4e8f-8873-29e759f84698",
   "metadata": {},
   "outputs": [],
   "source": [
    "imp_fert.info()"
   ]
  },
  {
   "cell_type": "code",
   "execution_count": null,
   "id": "f9e79091-4eb2-4b8c-8d1b-6c54e2fe1216",
   "metadata": {},
   "outputs": [],
   "source": [
    "imp_fert=imp_fert[imp_fert.columns[:14]]"
   ]
  },
  {
   "cell_type": "code",
   "execution_count": null,
   "id": "c90d877d-bd9a-489f-a6e6-154381cdb9f9",
   "metadata": {},
   "outputs": [],
   "source": [
    "sns.displot(kind='kde',data=imp_fert,x='log_kg',col='nick', facet_kws=dict(sharex=False))\n",
    "plt.show()"
   ]
  },
  {
   "cell_type": "code",
   "execution_count": null,
   "id": "387d8ebd-9910-49b8-90ae-8eb1029b6d08",
   "metadata": {},
   "outputs": [],
   "source": [
    "sns.catplot(kind='box',data=imp_fert,x='log_kg',col='nick')\n",
    "plt.show()"
   ]
  },
  {
   "cell_type": "code",
   "execution_count": null,
   "id": "b2f213fe-74fd-4f84-8b95-73f0c7d9c040",
   "metadata": {},
   "outputs": [],
   "source": [
    "round(np.exp(12)/10**6),round(np.exp(15)/10**6),round(np.exp(16)/10**6)"
   ]
  },
  {
   "cell_type": "code",
   "execution_count": null,
   "id": "0210c087-6e98-4f62-9c0b-344dc153bac4",
   "metadata": {},
   "outputs": [],
   "source": [
    "imp_fert.shape"
   ]
  },
  {
   "cell_type": "markdown",
   "id": "e4e44943-2c9e-4739-9ac5-b667641350a5",
   "metadata": {},
   "source": [
    "# Comparando Outliers entre colunas quantitativas"
   ]
  },
  {
   "cell_type": "code",
   "execution_count": null,
   "id": "816d7ef3-64f4-408e-a56e-d4900108c4f2",
   "metadata": {},
   "outputs": [],
   "source": [
    "def marca_out(df,quanti_col,name):\n",
    "    \n",
    "    q_25=np.quantile(df[quanti_col],.25)\n",
    "    \n",
    "    q_75=np.quantile(df[quanti_col],.75)\n",
    "    \n",
    "    iqr=q_75-q_25\n",
    "    \n",
    "    out_i=q_25-1.5*iqr\n",
    "    \n",
    "    out_s=q_75+1.5*iqr\n",
    "\n",
    "    col_name='out_'+str(name)\n",
    "    \n",
    "    df[col_name]='norm'\n",
    "    \n",
    "    df.loc[df[quanti_col]<=out_i,col_name]='out_'+name\n",
    "    \n",
    "    df.loc[df[quanti_col]>=out_s,col_name]='out_'+name\n",
    "\n",
    "    return df"
   ]
  },
  {
   "cell_type": "code",
   "execution_count": null,
   "id": "8c2814b5-6213-4c90-9b6b-d2edc44b3f73",
   "metadata": {},
   "outputs": [],
   "source": [
    "q=pd.DataFrame()\n",
    "for ncm in imp_fert.CO_NCM.unique():\n",
    "    imp_fert_t=imp_fert[imp_fert.CO_NCM==ncm]\n",
    "    \n",
    "    for quanti_col,name in [('log_kg','kg'),('log_fob','fob'),('log_frete','frete')]:\n",
    "        imp_fert_t=marca_out(imp_fert_t,quanti_col,name)\n",
    "    \n",
    "    q=pd.concat([q,imp_fert_t])\n",
    "\n",
    "imp_fert=q"
   ]
  },
  {
   "cell_type": "raw",
   "id": "4528fa2a-abb4-444f-a064-9aab760b07ae",
   "metadata": {},
   "source": [
    "imp_fert=imp_fert.assign(date=pd.to_datetime(imp_fert.CO_ANO.astype(str)+'/'+imp_fert.CO_MES.astype(str)+'/1'))"
   ]
  },
  {
   "cell_type": "code",
   "execution_count": null,
   "id": "621fb93e-688c-4e84-8697-b47b5519758f",
   "metadata": {
    "scrolled": true
   },
   "outputs": [],
   "source": [
    "imp_fert.head(1)"
   ]
  },
  {
   "cell_type": "code",
   "execution_count": null,
   "id": "0054006b-3045-4375-b754-9cbf97f29a71",
   "metadata": {},
   "outputs": [],
   "source": [
    "imp_fert.shape"
   ]
  },
  {
   "cell_type": "code",
   "execution_count": null,
   "id": "74aac37d-7263-4bc8-82fc-a68eff351286",
   "metadata": {},
   "outputs": [],
   "source": [
    "def filtra_norm(df,out_kg,out_fob,out_frete):\n",
    "    mask=(df.out_kg==out_kg)&(df.out_fob==out_fob)&(df.out_frete==out_frete)\n",
    "    return df.loc[mask]"
   ]
  },
  {
   "cell_type": "code",
   "execution_count": null,
   "id": "87dfe3b0-828f-4cd2-b432-b1b29290d274",
   "metadata": {},
   "outputs": [],
   "source": [
    "imp_fert_norm=filtra_norm(imp_fert,'norm','norm','norm')"
   ]
  },
  {
   "cell_type": "code",
   "execution_count": null,
   "id": "b3fa0f25-7505-43eb-a165-6fdb3795c7ff",
   "metadata": {},
   "outputs": [],
   "source": [
    "imp_fert_norm.shape"
   ]
  },
  {
   "cell_type": "code",
   "execution_count": null,
   "id": "af0d2633-90cc-45a1-9976-3eccc11706ae",
   "metadata": {},
   "outputs": [],
   "source": [
    "tab_preço_ano=imp_fert_norm.groupby(by=['CO_ANO','CO_NCM']).preço_cif.mean().reset_index()"
   ]
  },
  {
   "cell_type": "code",
   "execution_count": null,
   "id": "7e92554b-e45c-41e9-87e0-579596c2e98a",
   "metadata": {},
   "outputs": [],
   "source": []
  },
  {
   "cell_type": "code",
   "execution_count": null,
   "id": "c050037b-46c8-46dc-bad2-884d1ed8cfc4",
   "metadata": {},
   "outputs": [],
   "source": [
    "imp_fert_out_kg=filtra_norm(imp_fert,'out_kg','norm','norm')"
   ]
  },
  {
   "cell_type": "code",
   "execution_count": null,
   "id": "46323f9e-ffc9-44d6-a9d4-45efa558cd26",
   "metadata": {},
   "outputs": [],
   "source": [
    "imp_fert_out_kg=imp_fert_out_kg.drop(columns='preço_cif')"
   ]
  },
  {
   "cell_type": "code",
   "execution_count": null,
   "id": "7d74544e-c7e8-4840-8c09-e004f620c60f",
   "metadata": {},
   "outputs": [],
   "source": [
    "imp_fert_out_kg=imp_fert_out_kg.merge(tab_preço_ano)"
   ]
  },
  {
   "cell_type": "code",
   "execution_count": null,
   "id": "83d375b4-8a34-4768-a6cc-f9f368a58791",
   "metadata": {},
   "outputs": [],
   "source": [
    "imp_fert_out_kg.KG_LIQUIDO=(imp_fert_out_kg.VL_FOB+imp_fert_out_kg.VL_FRETE)/imp_fert_out_kg.preço_cif"
   ]
  },
  {
   "cell_type": "code",
   "execution_count": null,
   "id": "492f5d18-9e53-4840-a5f1-bb573a0fd197",
   "metadata": {},
   "outputs": [],
   "source": [
    "imp_fert_corr_kg=imp_fert_out_kg"
   ]
  },
  {
   "cell_type": "code",
   "execution_count": null,
   "id": "ba52dc4f-b3d1-4fa2-ba28-429bc9e93f60",
   "metadata": {},
   "outputs": [],
   "source": [
    "imp_fert_corr_kg.shape"
   ]
  },
  {
   "cell_type": "code",
   "execution_count": null,
   "id": "9b28f136-fa4e-4df3-bbaa-677e1b93c82a",
   "metadata": {},
   "outputs": [],
   "source": []
  },
  {
   "cell_type": "code",
   "execution_count": null,
   "id": "28adb7cb-a604-4e00-9177-333621ac46d3",
   "metadata": {},
   "outputs": [],
   "source": []
  },
  {
   "cell_type": "code",
   "execution_count": null,
   "id": "d180ed72-a8a4-4601-9b7c-2ca51b93984f",
   "metadata": {},
   "outputs": [],
   "source": [
    "imp_fert_out_fob=filtra_norm(imp_fert,'norm','out_fob','norm')"
   ]
  },
  {
   "cell_type": "code",
   "execution_count": null,
   "id": "53ee32af-cfc9-43af-9ff5-f1bd5b4dc1f7",
   "metadata": {},
   "outputs": [],
   "source": [
    "imp_fert_out_fob=imp_fert_out_fob.drop(columns='preço_cif')"
   ]
  },
  {
   "cell_type": "code",
   "execution_count": null,
   "id": "3a8c3ace-6daa-47ab-8e2d-4383106c244f",
   "metadata": {},
   "outputs": [],
   "source": [
    "imp_fert_out_fob=imp_fert_out_fob.merge(tab_preço_ano)"
   ]
  },
  {
   "cell_type": "code",
   "execution_count": null,
   "id": "2bbbb16f-0958-4b65-981b-fc0b88f1a76b",
   "metadata": {},
   "outputs": [],
   "source": [
    "imp_fert_out_fob.VL_FOB=imp_fert_out_fob.preço_cif*imp_fert_out_fob.KG_LIQUIDO-imp_fert_out_fob.VL_FRETE"
   ]
  },
  {
   "cell_type": "code",
   "execution_count": null,
   "id": "abd590dc-e450-4c48-b018-3ff73375ed18",
   "metadata": {},
   "outputs": [],
   "source": [
    "imp_fert_corr_fob=imp_fert_out_fob"
   ]
  },
  {
   "cell_type": "code",
   "execution_count": null,
   "id": "69b88fdd-ffab-49d1-96e3-67b88a04487a",
   "metadata": {},
   "outputs": [],
   "source": [
    "imp_fert_corr_fob.shape"
   ]
  },
  {
   "cell_type": "code",
   "execution_count": null,
   "id": "26286cc1-0a8b-4710-a6c1-f29186870e6a",
   "metadata": {},
   "outputs": [],
   "source": []
  },
  {
   "cell_type": "code",
   "execution_count": null,
   "id": "ec81166c-4b94-4044-b2cd-d1fef61e18b9",
   "metadata": {},
   "outputs": [],
   "source": []
  },
  {
   "cell_type": "code",
   "execution_count": null,
   "id": "5b14533d-659e-40e9-9e39-112eda58bb55",
   "metadata": {},
   "outputs": [],
   "source": [
    "imp_fert_out_frete=filtra_norm(imp_fert,'norm','norm','out_frete')"
   ]
  },
  {
   "cell_type": "code",
   "execution_count": null,
   "id": "5d87496b-51c1-4e50-97ac-a88c5cd56ea2",
   "metadata": {},
   "outputs": [],
   "source": [
    "imp_fert_out_frete=imp_fert_out_frete.drop(columns='preço_cif')"
   ]
  },
  {
   "cell_type": "code",
   "execution_count": null,
   "id": "078cfd5f-d04c-4f12-bcf0-28b56f517ad3",
   "metadata": {},
   "outputs": [],
   "source": [
    "imp_fert_out_frete=imp_fert_out_frete.merge(tab_preço_ano)"
   ]
  },
  {
   "cell_type": "code",
   "execution_count": null,
   "id": "a18bccf8-3ea1-4b95-b422-cadf20ac03b6",
   "metadata": {},
   "outputs": [],
   "source": [
    "imp_fert_out_frete.VL_FRETE=imp_fert_out_frete.preço_cif*imp_fert_out_frete.KG_LIQUIDO-imp_fert_out_frete.VL_FOB"
   ]
  },
  {
   "cell_type": "code",
   "execution_count": null,
   "id": "faf2d2e7-74f1-472f-b568-e48b9f943dc6",
   "metadata": {},
   "outputs": [],
   "source": [
    "imp_fert_corr_frete=imp_fert_out_frete"
   ]
  },
  {
   "cell_type": "code",
   "execution_count": null,
   "id": "997c1e24-b361-4941-92b0-bf5d736e91fc",
   "metadata": {},
   "outputs": [],
   "source": [
    "imp_fert_corr_frete.shape"
   ]
  },
  {
   "cell_type": "code",
   "execution_count": null,
   "id": "aace2f84-6917-4ec9-b0ca-336a3b1aaef0",
   "metadata": {},
   "outputs": [],
   "source": []
  },
  {
   "cell_type": "code",
   "execution_count": null,
   "id": "69b2dd50-7482-4fc6-b2ce-e60c5ff786a7",
   "metadata": {},
   "outputs": [],
   "source": []
  },
  {
   "cell_type": "code",
   "execution_count": null,
   "id": "d57cd642-a5ae-4a2b-8a11-bfadcf62f470",
   "metadata": {},
   "outputs": [],
   "source": [
    "imp_fert_out_kg_fob=filtra_norm(imp_fert,'out_kg','out_fob','norm')"
   ]
  },
  {
   "cell_type": "code",
   "execution_count": null,
   "id": "87c934ea-eafc-4073-b649-52186e196ec2",
   "metadata": {},
   "outputs": [],
   "source": [
    "imp_fert_out_kg_frete=filtra_norm(imp_fert,'out_kg','norm','out_frete')"
   ]
  },
  {
   "cell_type": "code",
   "execution_count": null,
   "id": "f766f4d0-abef-4381-89d2-fb94f8589a05",
   "metadata": {},
   "outputs": [],
   "source": [
    "imp_fert_out_fob_frete=filtra_norm(imp_fert,'norm','out_fob','out_frete')"
   ]
  },
  {
   "cell_type": "code",
   "execution_count": null,
   "id": "36d6d79a-70c6-4191-809b-9c30b1cd8160",
   "metadata": {},
   "outputs": [],
   "source": [
    "imp_fert_out_geral=filtra_norm(imp_fert,'out_kg','out_fob','out_frete')"
   ]
  },
  {
   "cell_type": "code",
   "execution_count": null,
   "id": "0a5af563-8244-472a-be24-820d0e463a67",
   "metadata": {},
   "outputs": [],
   "source": []
  },
  {
   "cell_type": "code",
   "execution_count": null,
   "id": "a42425d7-d8ef-458c-a114-36bb28c86843",
   "metadata": {},
   "outputs": [],
   "source": [
    "imp_fert=pd.concat([\n",
    "    imp_fert_norm,\n",
    "    imp_fert_corr_kg,\n",
    "    imp_fert_corr_fob,\n",
    "    imp_fert_corr_frete,\n",
    "    imp_fert_out_kg_fob,\n",
    "    imp_fert_out_kg_frete,\n",
    "    imp_fert_out_fob_frete,\n",
    "    imp_fert_out_geral    \n",
    "]).sort_values(by=['CO_ANO','CO_MES']).reset_index(drop=True)"
   ]
  },
  {
   "cell_type": "code",
   "execution_count": null,
   "id": "52feffff-0ab3-45d5-ba78-f5de1e7796e6",
   "metadata": {},
   "outputs": [],
   "source": [
    "imp_fert.head(1)"
   ]
  },
  {
   "cell_type": "code",
   "execution_count": null,
   "id": "ba3e26ea-dbbf-4a42-a5cb-ca19c14fe6db",
   "metadata": {},
   "outputs": [],
   "source": [
    "imp_fert.shape"
   ]
  },
  {
   "cell_type": "code",
   "execution_count": null,
   "id": "b0be70f7-6856-4d04-ac30-a4d9218b83e5",
   "metadata": {},
   "outputs": [],
   "source": [
    "imp_fert.info()"
   ]
  },
  {
   "cell_type": "code",
   "execution_count": null,
   "id": "60e8b9df-3450-4e45-a0f7-8a0d1facd184",
   "metadata": {},
   "outputs": [],
   "source": [
    "imp_fert=imp_fert[imp_fert.columns[:10]]"
   ]
  },
  {
   "cell_type": "code",
   "execution_count": null,
   "id": "29ed9510-c243-4917-8b6e-76eae7b4c692",
   "metadata": {},
   "outputs": [],
   "source": [
    "imp_fert=imp_fert.assign(log_kg=np.log(imp_fert.KG_LIQUIDO))"
   ]
  },
  {
   "cell_type": "code",
   "execution_count": null,
   "id": "1f92970f-84d4-418d-993d-21833d0cba8f",
   "metadata": {},
   "outputs": [],
   "source": [
    "imp_fert=imp_fert.assign(log_fob=np.log(imp_fert.VL_FOB))"
   ]
  },
  {
   "cell_type": "code",
   "execution_count": null,
   "id": "113ef83a-1adb-414c-b0ce-004541618403",
   "metadata": {},
   "outputs": [],
   "source": [
    "imp_fert=imp_fert.assign(log_frete=np.log(imp_fert.VL_FRETE))"
   ]
  },
  {
   "cell_type": "code",
   "execution_count": null,
   "id": "2c14c9e9-4b29-4045-818b-a8145941b821",
   "metadata": {},
   "outputs": [],
   "source": [
    "sns.displot(kind='kde',data=imp_fert,x='log_kg',col='nick',facet_kws=dict(sharex=False))\n",
    "plt.show()"
   ]
  },
  {
   "cell_type": "code",
   "execution_count": null,
   "id": "a9c1701b-c16e-46c4-9086-a5382943a113",
   "metadata": {},
   "outputs": [],
   "source": [
    "sns.catplot(kind='box',data=imp_fert,x='log_kg',col='nick')\n",
    "plt.show()"
   ]
  },
  {
   "cell_type": "code",
   "execution_count": null,
   "id": "d8bea7db-5b06-4946-8829-cef5a7d607a4",
   "metadata": {},
   "outputs": [],
   "source": [
    "imp_fert"
   ]
  },
  {
   "cell_type": "code",
   "execution_count": null,
   "id": "7f26f385-632d-4dbb-9a4e-d5f1a4174ea1",
   "metadata": {},
   "outputs": [],
   "source": [
    "sns.relplot(data=imp_fert,x=imp_fert.index,y='log_kg',col='nick',col_wrap=3)"
   ]
  },
  {
   "cell_type": "code",
   "execution_count": null,
   "id": "65c99059-46fb-4686-b0ab-8dd6fbd899fd",
   "metadata": {},
   "outputs": [],
   "source": [
    "imp_fert_g=imp_fert.groupby(by=['CO_ANO','CO_MES','nick','SG_UF_NCM','CO_PAIS','CO_URF'])[['KG_LIQUIDO','VL_FOB']].sum().reset_index()"
   ]
  },
  {
   "cell_type": "code",
   "execution_count": null,
   "id": "f53aaaac-796a-47aa-9d25-4a2fb1185b5f",
   "metadata": {},
   "outputs": [],
   "source": [
    "# Salva a tabela importação\n",
    "imp_fert_g.to_csv('~/git/BD/temp/imp_fert_quanti.csv',index=False)"
   ]
  },
  {
   "cell_type": "markdown",
   "id": "d87ee0e7-13f8-44d5-9213-20f2a6ac5996",
   "metadata": {},
   "source": [
    "Cria tabela hi_imp_clusters com características dos clusters criados, que servirão para identificar novos dados a serem divulgados."
   ]
  },
  {
   "cell_type": "code",
   "execution_count": null,
   "id": "c9d306fa-610b-4279-a64b-98abb54515b9",
   "metadata": {},
   "outputs": [],
   "source": [
    "imp_fert_g"
   ]
  },
  {
   "cell_type": "code",
   "execution_count": null,
   "id": "52cff8dd-dd4e-4aa5-8b74-9a2f155806e6",
   "metadata": {},
   "outputs": [],
   "source": [
    "imp_fert_g=imp_fert.groupby(by=['CO_NCM','nick'])"
   ]
  },
  {
   "cell_type": "code",
   "execution_count": null,
   "id": "a898b378-e437-4a29-b7ac-69f9e40be94d",
   "metadata": {},
   "outputs": [],
   "source": [
    "imp_fert_log_kg_mean=imp_fert_g.log_kg.mean().reset_index().rename(columns={'log_kg':'log_kg_mean'})\n",
    "\n",
    "imp_fert_log_fob_mean=imp_fert_g.log_fob.mean().reset_index().rename(columns={'log_fob':'log_fob_mean'})\n",
    "\n",
    "imp_fert_log_frete_mean=imp_fert_g.log_frete.mean().reset_index().rename(columns={'log_frete':'log_frete_mean'})\n",
    "\n",
    "imp_fert_log_kg_std=imp_fert_g.log_kg.std().reset_index().rename(columns={'log_kg':'log_kg_std'})\n",
    "\n",
    "imp_fert_log_fob_std=imp_fert_g.log_fob.std().reset_index().rename(columns={'log_fob':'log_fob_std'})\n",
    "\n",
    "imp_fert_log_frete_std=imp_fert_g.log_frete.std().reset_index().rename(columns={'log_frete':'log_frete_std'})"
   ]
  },
  {
   "cell_type": "code",
   "execution_count": null,
   "id": "fde9e22c-f07a-437c-8f13-2a25cec93bfb",
   "metadata": {},
   "outputs": [],
   "source": [
    "hi_imp_clusters=imp_fert_log_kg_mean.merge(imp_fert_log_fob_mean).merge(imp_fert_log_frete_mean).merge(imp_fert_log_kg_std).merge(imp_fert_log_fob_std).merge(imp_fert_log_frete_std)"
   ]
  },
  {
   "cell_type": "code",
   "execution_count": null,
   "id": "1a05c375-e065-4cce-a399-d885c0a468f4",
   "metadata": {},
   "outputs": [],
   "source": [
    "hi_imp_clusters"
   ]
  },
  {
   "cell_type": "code",
   "execution_count": null,
   "id": "125c4cdc-0814-451c-a6f6-160b2f8714a2",
   "metadata": {},
   "outputs": [],
   "source": [
    "# Salva a tabela hi_imp_clusters\n",
    "hi_imp_clusters.to_csv('~/git/BD/temp/hi_imp_clusters.csv',index=False)"
   ]
  },
  {
   "cell_type": "code",
   "execution_count": null,
   "id": "730de46e-fecc-4b50-aa61-3ab9c8afc5a5",
   "metadata": {},
   "outputs": [],
   "source": []
  }
 ],
 "metadata": {
  "kernelspec": {
   "display_name": "Python 3 (ipykernel)",
   "language": "python",
   "name": "python3"
  },
  "language_info": {
   "codemirror_mode": {
    "name": "ipython",
    "version": 3
   },
   "file_extension": ".py",
   "mimetype": "text/x-python",
   "name": "python",
   "nbconvert_exporter": "python",
   "pygments_lexer": "ipython3",
   "version": "3.11.2"
  }
 },
 "nbformat": 4,
 "nbformat_minor": 5
}
