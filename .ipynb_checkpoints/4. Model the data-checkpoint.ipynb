{
 "cells": [
  {
   "cell_type": "code",
   "execution_count": 1,
   "id": "112f055f-d41d-4397-bc14-edf2c20c95e0",
   "metadata": {
    "jupyter": {
     "source_hidden": true
    }
   },
   "outputs": [],
   "source": [
    "# Importa as bibliotecas necessárias\n",
    "%run '~/git/Bibliotecas.ipynb'"
   ]
  },
  {
   "cell_type": "markdown",
   "id": "19e6a37b-9dc8-443f-bb5e-b97f9daafb6c",
   "metadata": {},
   "source": [
    "# Importação"
   ]
  },
  {
   "cell_type": "code",
   "execution_count": 2,
   "id": "2fff9990-c5eb-4ea1-b72a-83ccd0b974e1",
   "metadata": {
    "jupyter": {
     "source_hidden": true
    }
   },
   "outputs": [
    {
     "data": {
      "text/html": [
       "<div>\n",
       "<style scoped>\n",
       "    .dataframe tbody tr th:only-of-type {\n",
       "        vertical-align: middle;\n",
       "    }\n",
       "\n",
       "    .dataframe tbody tr th {\n",
       "        vertical-align: top;\n",
       "    }\n",
       "\n",
       "    .dataframe thead th {\n",
       "        text-align: right;\n",
       "    }\n",
       "</style>\n",
       "<table border=\"1\" class=\"dataframe\">\n",
       "  <thead>\n",
       "    <tr style=\"text-align: right;\">\n",
       "      <th></th>\n",
       "      <th>CO_ANO</th>\n",
       "      <th>CO_MES</th>\n",
       "      <th>kton</th>\n",
       "    </tr>\n",
       "  </thead>\n",
       "  <tbody>\n",
       "    <tr>\n",
       "      <th>0</th>\n",
       "      <td>1997</td>\n",
       "      <td>3</td>\n",
       "      <td>7.505776</td>\n",
       "    </tr>\n",
       "  </tbody>\n",
       "</table>\n",
       "</div>"
      ],
      "text/plain": [
       "   CO_ANO  CO_MES      kton\n",
       "0    1997       3  7.505776"
      ]
     },
     "execution_count": 2,
     "metadata": {},
     "output_type": "execute_result"
    }
   ],
   "source": [
    "# Carrega a base de dados contendo os registros de importação de fertilizantes\n",
    "im=pd.read_csv('~/git/Pricing-Fertilizer-take-Rains-into-account/temp/i.csv').drop(columns='date')\n",
    "\n",
    "# Elimina ano incompleto\n",
    "im=im[im.CO_ANO!=2024]\n",
    "\n",
    "im=im[im.KG_LIQUIDO>0]\n",
    "\n",
    "# Modifica unidade de peso\n",
    "im.KG_LIQUIDO=im.KG_LIQUIDO/10**6\n",
    "im=im.rename(columns={'KG_LIQUIDO':'kton'})\n",
    "im.head(1)"
   ]
  },
  {
   "cell_type": "markdown",
   "id": "cf478a0a-9d37-48ef-8d7c-dd847d423199",
   "metadata": {},
   "source": [
    "# Chuvas"
   ]
  },
  {
   "cell_type": "code",
   "execution_count": 3,
   "id": "96514361-8661-4b8a-980f-8da91e7ddf58",
   "metadata": {
    "jupyter": {
     "source_hidden": true
    }
   },
   "outputs": [
    {
     "data": {
      "text/html": [
       "<div>\n",
       "<style scoped>\n",
       "    .dataframe tbody tr th:only-of-type {\n",
       "        vertical-align: middle;\n",
       "    }\n",
       "\n",
       "    .dataframe tbody tr th {\n",
       "        vertical-align: top;\n",
       "    }\n",
       "\n",
       "    .dataframe thead th {\n",
       "        text-align: right;\n",
       "    }\n",
       "</style>\n",
       "<table border=\"1\" class=\"dataframe\">\n",
       "  <thead>\n",
       "    <tr style=\"text-align: right;\">\n",
       "      <th></th>\n",
       "      <th>CO_ANO</th>\n",
       "      <th>CO_MES</th>\n",
       "      <th>mm</th>\n",
       "    </tr>\n",
       "  </thead>\n",
       "  <tbody>\n",
       "    <tr>\n",
       "      <th>264</th>\n",
       "      <td>2023</td>\n",
       "      <td>12</td>\n",
       "      <td>78.6</td>\n",
       "    </tr>\n",
       "  </tbody>\n",
       "</table>\n",
       "</div>"
      ],
      "text/plain": [
       "     CO_ANO  CO_MES    mm\n",
       "264    2023      12  78.6"
      ]
     },
     "execution_count": 3,
     "metadata": {},
     "output_type": "execute_result"
    }
   ],
   "source": [
    "ch=pd.read_csv('~/git/Pricing-Fertilizer-take-Rains-into-account/temp/c.csv').drop(columns='date')\n",
    "ch=ch[ch.CO_ANO!=2001]\n",
    "ch.tail(1)"
   ]
  },
  {
   "cell_type": "markdown",
   "id": "12fa8fe0-a6f9-47b4-9759-c49400fedd60",
   "metadata": {},
   "source": [
    "Modelo Preditivo  \n",
    "\n",
    "Random Forest Regressor  \n",
    "\n",
    "Variável Target: Previsão de importação de fertilizantes em kton/mês\n",
    "\n",
    "Variáveis independentes:\n",
    "* Testemunha: Ano e mês\n",
    "* Tratamento: Ano, mês e volume de chuvas\n",
    "\n",
    "Hipóteses sobre o tratamento e a testemunha: \n",
    "\n",
    "* Ho    = \"O tratamento não tem efeito, manténdo o mesmo o erro médio absoluto entre testemunha e tratamento\"\n",
    "\n",
    "* H_pos = \"O tratamento tem efeito positivo, reduzindo o erro médio absoluto em relação a testemnha\"\n",
    "    * \n",
    "\n",
    "* H_neg = \"O tratamento tem efeito negativo, aumentando o erro médio absoluto em relação a testemnha\""
   ]
  },
  {
   "cell_type": "markdown",
   "id": "3be5c04f-1c41-42af-9964-9e568d74a04b",
   "metadata": {},
   "source": [
    "Executa os testes"
   ]
  },
  {
   "cell_type": "code",
   "execution_count": 4,
   "id": "0f83c3ad-207c-499b-8114-2e5f40e25d8c",
   "metadata": {},
   "outputs": [],
   "source": [
    "q=pd.DataFrame()\n",
    "#q=pd.read_csv('~/git/Pricing-Fertilizer-take-Rains-into-account/temp/q.csv')\n",
    "\n",
    "from sklearn.ensemble import RandomForestRegressor as RFR\n",
    "# Define hiperparametro\n",
    "md=1\n",
    "# Instância o regresssor\n",
    "RFR=RFR(max_depth=md, random_state=1)\n",
    "\n",
    "i=im.copy()\n",
    "c=ch.copy()\n",
    "\n",
    "# Determina que o adiantamento dos meses em relação as importações seja igual ao adinatamento de máximo efeito, \n",
    "# como determinado no capítulo anterior\n",
    "ad=7\n",
    "\n",
    "# Adianta os meses\n",
    "c.CO_MES=c.CO_MES+ad\n",
    "\n",
    "# Corriges meses fora da faixa\n",
    "for adi in range(1,ad+1):\n",
    "    c.loc[c.CO_MES==12+adi,'CO_ANO']=c.loc[c.CO_MES==12+adi]['CO_ANO']+1\n",
    "    c.loc[c.CO_MES==12+adi,'CO_MES']=adi\n",
    "\n",
    "# Funde chuvas com importações\n",
    "i=i.merge(c)"
   ]
  },
  {
   "cell_type": "code",
   "execution_count": 5,
   "id": "a611bf24-8496-4a8e-9fc7-ec5dc72ed401",
   "metadata": {
    "jupyter": {
     "source_hidden": true
    }
   },
   "outputs": [
    {
     "data": {
      "text/html": [
       "<div>\n",
       "<style scoped>\n",
       "    .dataframe tbody tr th:only-of-type {\n",
       "        vertical-align: middle;\n",
       "    }\n",
       "\n",
       "    .dataframe tbody tr th {\n",
       "        vertical-align: top;\n",
       "    }\n",
       "\n",
       "    .dataframe thead th {\n",
       "        text-align: right;\n",
       "    }\n",
       "</style>\n",
       "<table border=\"1\" class=\"dataframe\">\n",
       "  <thead>\n",
       "    <tr style=\"text-align: right;\">\n",
       "      <th></th>\n",
       "      <th>CO_ANO</th>\n",
       "      <th>CO_MES</th>\n",
       "      <th>kton</th>\n",
       "      <th>mm</th>\n",
       "    </tr>\n",
       "  </thead>\n",
       "  <tbody>\n",
       "  </tbody>\n",
       "</table>\n",
       "</div>"
      ],
      "text/plain": [
       "Empty DataFrame\n",
       "Columns: [CO_ANO, CO_MES, kton, mm]\n",
       "Index: []"
      ]
     },
     "execution_count": 5,
     "metadata": {},
     "output_type": "execute_result"
    }
   ],
   "source": [
    "i[i.kton==0]"
   ]
  },
  {
   "cell_type": "code",
   "execution_count": 6,
   "id": "2fbfb1d7-2dfb-406e-802c-280428c7bcfe",
   "metadata": {
    "jupyter": {
     "source_hidden": true
    }
   },
   "outputs": [],
   "source": [
    "i=i[i.kton!=0]"
   ]
  },
  {
   "cell_type": "code",
   "execution_count": 7,
   "id": "f6291f9f-40d1-4103-ab6f-8fe65983a35b",
   "metadata": {
    "jupyter": {
     "source_hidden": true
    }
   },
   "outputs": [
    {
     "name": "stdout",
     "output_type": "stream",
     "text": [
      "erro_tratamento.mean 39\n",
      "erro_testemunha.mean 44\n"
     ]
    }
   ],
   "source": [
    "# Recria coluna de data\n",
    "i['date']=pd.to_datetime(i.CO_ANO.astype(str)+'/'+i.CO_MES.astype(str)+'/1').astype(int)\n",
    "\n",
    "# Descarta coluna Ano, substituida por data\n",
    "i=i.drop(columns='CO_ANO')\n",
    "\n",
    "# Formata mês como informação categórica\n",
    "i.CO_MES=i.CO_MES.astype('category')\n",
    "\n",
    "i=pd.get_dummies(i)\n",
    "\n",
    "for a in range(1,len(i)):\n",
    "\n",
    "\n",
    "    for train_size_mes in [10*12]:\n",
    "\n",
    "\n",
    "        train=i.iloc[:a,:].tail(train_size_mes)\n",
    "        \n",
    "        if len(train)>=train_size_mes:\n",
    "\n",
    "\n",
    "            \n",
    "            test=i.iloc[a:a+1,:]\n",
    "                        \n",
    "            # Train\n",
    "            X_train_tratamento=train.drop(columns='kton')\n",
    "            X_train_testemunha=train.drop(columns=['kton','mm'])\n",
    "            y_train=train.kton\n",
    "    \n",
    "            # Test\n",
    "            X_test_tratamento  =test.drop(columns='kton')\n",
    "            X_test_testemunha=test.drop(columns=['kton','mm'])\n",
    "            y_test=test.kton\n",
    "                \n",
    "            RFR.fit(X_train_tratamento,y_train)\n",
    "            \n",
    "            test_pred=test     .assign(kton_pred_tratamento  =RFR.predict(X_test_tratamento  ).astype(int))\n",
    "            \n",
    "            RFR.fit(X_train_testemunha,y_train)\n",
    "            \n",
    "            test_pred=test_pred.assign(kton_pred_testemunha=RFR.predict(X_test_testemunha).astype(int))\n",
    "\n",
    "            test_pred=test_pred.assign(ad=ad,train_size_anos=train_size_mes/12,md=md)\n",
    "            \n",
    "            q=pd.concat([q,test_pred])\n",
    "\n",
    "q['erro_tratamento']=np.abs(q.kton-q.kton_pred_tratamento)\n",
    "q['erro_testemunha']=np.abs(q.kton-q.kton_pred_testemunha)\n",
    "\n",
    "print('erro_tratamento.mean',round(q.erro_tratamento.mean()))\n",
    "print('erro_testemunha.mean',round(q.erro_testemunha.mean()))"
   ]
  },
  {
   "cell_type": "markdown",
   "id": "2629ff19-8bea-4a86-a05c-44badf6d11bc",
   "metadata": {},
   "source": [
    "Salva o resultado dos testes"
   ]
  },
  {
   "cell_type": "code",
   "execution_count": 8,
   "id": "dee85f57-0352-45bc-ae6b-ed2d7b17792d",
   "metadata": {
    "jupyter": {
     "source_hidden": true
    }
   },
   "outputs": [],
   "source": [
    "q.to_csv('~/git/Pricing-Fertilizer-take-Rains-into-account/temp/q.csv', index=False)"
   ]
  }
 ],
 "metadata": {
  "kernelspec": {
   "display_name": "Python 3 (ipykernel)",
   "language": "python",
   "name": "python3"
  },
  "language_info": {
   "codemirror_mode": {
    "name": "ipython",
    "version": 3
   },
   "file_extension": ".py",
   "mimetype": "text/x-python",
   "name": "python",
   "nbconvert_exporter": "python",
   "pygments_lexer": "ipython3",
   "version": "3.11.5"
  }
 },
 "nbformat": 4,
 "nbformat_minor": 5
}
