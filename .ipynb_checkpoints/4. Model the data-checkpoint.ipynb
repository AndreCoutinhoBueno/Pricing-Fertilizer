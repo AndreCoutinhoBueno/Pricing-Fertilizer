{
 "cells": [
  {
   "cell_type": "code",
   "execution_count": 1,
   "id": "112f055f-d41d-4397-bc14-edf2c20c95e0",
   "metadata": {},
   "outputs": [],
   "source": [
    "# Importa as bibliotecas necessárias\n",
    "%run '~/git/Bibliotecas.ipynb'"
   ]
  },
  {
   "cell_type": "markdown",
   "id": "19e6a37b-9dc8-443f-bb5e-b97f9daafb6c",
   "metadata": {},
   "source": [
    "# Importação"
   ]
  },
  {
   "cell_type": "code",
   "execution_count": 2,
   "id": "2fff9990-c5eb-4ea1-b72a-83ccd0b974e1",
   "metadata": {},
   "outputs": [
    {
     "data": {
      "text/html": [
       "<div>\n",
       "<style scoped>\n",
       "    .dataframe tbody tr th:only-of-type {\n",
       "        vertical-align: middle;\n",
       "    }\n",
       "\n",
       "    .dataframe tbody tr th {\n",
       "        vertical-align: top;\n",
       "    }\n",
       "\n",
       "    .dataframe thead th {\n",
       "        text-align: right;\n",
       "    }\n",
       "</style>\n",
       "<table border=\"1\" class=\"dataframe\">\n",
       "  <thead>\n",
       "    <tr style=\"text-align: right;\">\n",
       "      <th></th>\n",
       "      <th>CO_ANO</th>\n",
       "      <th>CO_MES</th>\n",
       "      <th>kton</th>\n",
       "    </tr>\n",
       "  </thead>\n",
       "  <tbody>\n",
       "    <tr>\n",
       "      <th>0</th>\n",
       "      <td>1997</td>\n",
       "      <td>3</td>\n",
       "      <td>7.505776</td>\n",
       "    </tr>\n",
       "  </tbody>\n",
       "</table>\n",
       "</div>"
      ],
      "text/plain": [
       "   CO_ANO  CO_MES      kton\n",
       "0    1997       3  7.505776"
      ]
     },
     "execution_count": 2,
     "metadata": {},
     "output_type": "execute_result"
    }
   ],
   "source": [
    "# Carrega a base de dados contendo os registros de importação de fertilizantes\n",
    "im=pd.read_csv('~/git/Pricing-Fertilizer-take-Rains-into-account/temp/i.csv').drop(columns='date')\n",
    "\n",
    "# Elimina ano incompleto\n",
    "im=im[im.CO_ANO!=2024]\n",
    "\n",
    "# Modifica unidade de peso\n",
    "im.KG_LIQUIDO=im.KG_LIQUIDO/10**6\n",
    "im=im.rename(columns={'KG_LIQUIDO':'kton'})\n",
    "im.head(1)"
   ]
  },
  {
   "cell_type": "markdown",
   "id": "cf478a0a-9d37-48ef-8d7c-dd847d423199",
   "metadata": {},
   "source": [
    "# Chuvas"
   ]
  },
  {
   "cell_type": "code",
   "execution_count": 3,
   "id": "96514361-8661-4b8a-980f-8da91e7ddf58",
   "metadata": {},
   "outputs": [
    {
     "data": {
      "text/html": [
       "<div>\n",
       "<style scoped>\n",
       "    .dataframe tbody tr th:only-of-type {\n",
       "        vertical-align: middle;\n",
       "    }\n",
       "\n",
       "    .dataframe tbody tr th {\n",
       "        vertical-align: top;\n",
       "    }\n",
       "\n",
       "    .dataframe thead th {\n",
       "        text-align: right;\n",
       "    }\n",
       "</style>\n",
       "<table border=\"1\" class=\"dataframe\">\n",
       "  <thead>\n",
       "    <tr style=\"text-align: right;\">\n",
       "      <th></th>\n",
       "      <th>CO_ANO</th>\n",
       "      <th>CO_MES</th>\n",
       "      <th>mm</th>\n",
       "    </tr>\n",
       "  </thead>\n",
       "  <tbody>\n",
       "    <tr>\n",
       "      <th>264</th>\n",
       "      <td>2023</td>\n",
       "      <td>12</td>\n",
       "      <td>78.6</td>\n",
       "    </tr>\n",
       "  </tbody>\n",
       "</table>\n",
       "</div>"
      ],
      "text/plain": [
       "     CO_ANO  CO_MES    mm\n",
       "264    2023      12  78.6"
      ]
     },
     "execution_count": 3,
     "metadata": {},
     "output_type": "execute_result"
    }
   ],
   "source": [
    "ch=pd.read_csv('~/git/Pricing-Fertilizer-take-Rains-into-account/temp/c.csv').drop(columns='date')\n",
    "ch=ch[ch.CO_ANO!=2001]\n",
    "ch.tail(1)"
   ]
  },
  {
   "cell_type": "markdown",
   "id": "12fa8fe0-a6f9-47b4-9759-c49400fedd60",
   "metadata": {},
   "source": [
    "# Teste de hipóteses:\n",
    "\n",
    "Em relação ao o erro médio absoluto do modelo preditivo, o uso dos registros de chuva como input adicional:\n",
    "\n",
    "* Ho = \"Não altera o erro médio absoluto do modelo preditivo\"\n",
    "\n",
    "* Ha = \"Altera o erro médio absoluto do modelo preditivo\"\n",
    "\n",
    "\n",
    "Serão testados paralelamente:\n",
    "* Níveis de hyperparâmetros do algoritmo regressor (md)\n",
    "* Espaço de tempo (meses) entre uma determinada chuva até sua possível influência nos desembarques (ad)\n",
    "* Meses a serem utilizadas como treino (train_size_mes)"
   ]
  },
  {
   "cell_type": "markdown",
   "id": "3be5c04f-1c41-42af-9964-9e568d74a04b",
   "metadata": {},
   "source": [
    "Executa os testes"
   ]
  },
  {
   "cell_type": "code",
   "execution_count": null,
   "id": "18fd8a98-65f8-4c00-a33c-06d97f30e9e2",
   "metadata": {},
   "outputs": [],
   "source": [
    "q=pd.DataFrame()\n",
    "\n",
    "for md in [None,1]:\n",
    "    \n",
    "    from sklearn.ensemble import RandomForestRegressor as RFR\n",
    "    RFR=RFR(max_depth=md)\n",
    "    \n",
    "    for ad in [7,8]:\n",
    "    \n",
    "\n",
    "        i=im.copy()\n",
    "        c=ch.copy()\n",
    "    \n",
    "        c.CO_MES=c.CO_MES+ad\n",
    "        for adi in range(1,ad+1):\n",
    "            c.loc[c.CO_MES==12+adi,'CO_ANO']=c.loc[c.CO_MES==12+adi]['CO_ANO']+1\n",
    "            c.loc[c.CO_MES==12+adi,'CO_MES']=adi\n",
    "        \n",
    "        i=i.merge(c)\n",
    "\n",
    "        i['date']=pd.to_datetime(i.CO_ANO.astype(str)+'/'+i.CO_MES.astype(str)+'/1').astype(int)\n",
    "        i=i.drop(columns='CO_ANO')\n",
    "        i.CO_MES=i.CO_MES.astype('category')\n",
    "        i=pd.get_dummies(i)\n",
    "        \n",
    "        for a in range(1,len(i)):\n",
    "    \n",
    "        \n",
    "            for train_size_mes in [5*12,8*12]:\n",
    "\n",
    "    \n",
    "                train=i.iloc[:a,:].tail(train_size_mes)\n",
    "                \n",
    "                if len(train)>=train_size_mes:\n",
    "\n",
    "    \n",
    "                    \n",
    "                    test=i.iloc[a:a+1,:]\n",
    "                                \n",
    "                    # Train\n",
    "                    X_train_mm=train.drop(columns='kton')\n",
    "                    X_train_s_mm=train.drop(columns=['kton','mm'])\n",
    "                    y_train=train.kton\n",
    "            \n",
    "                    # Test\n",
    "                    X_test_mm  =test.drop(columns='kton')\n",
    "                    X_test_s_mm=test.drop(columns=['kton','mm'])\n",
    "                    y_test=test.kton\n",
    "                        \n",
    "                    RFR.fit(X_train_mm,y_train)\n",
    "                    \n",
    "                    test_pred=test     .assign(kton_pred_mm  =RFR.predict(X_test_mm  ).astype(int))\n",
    "                    \n",
    "                    RFR.fit(X_train_s_mm,y_train)\n",
    "                    \n",
    "                    test_pred=test_pred.assign(kton_pred_s_mm=RFR.predict(X_test_s_mm).astype(int))\n",
    "    \n",
    "                    test_pred=test_pred.assign(ad=ad,train_size_anos=train_size_mes/12,md=md)\n",
    "                    \n",
    "                    q=pd.concat([q,test_pred])\n",
    "\n",
    "q['erro_mm']=np.abs(q.kton-q.kton_pred_mm)\n",
    "q['erro_s_mm']=np.abs(q.kton-q.kton_pred_s_mm)\n",
    "\n",
    "print('erro_mm.mean',round(q.erro_mm.mean()))\n",
    "print('erro_s_mm.mean',round(q.erro_s_mm.mean()))"
   ]
  },
  {
   "cell_type": "markdown",
   "id": "2629ff19-8bea-4a86-a05c-44badf6d11bc",
   "metadata": {},
   "source": [
    "Salva o resultado dos testes"
   ]
  },
  {
   "cell_type": "code",
   "execution_count": 7,
   "id": "dee85f57-0352-45bc-ae6b-ed2d7b17792d",
   "metadata": {},
   "outputs": [],
   "source": [
    "q.to_csv('~/git/Pricing-Fertilizer-take-Rains-into-account/temp/q.csv', index=False)"
   ]
  }
 ],
 "metadata": {
  "kernelspec": {
   "display_name": "Python 3 (ipykernel)",
   "language": "python",
   "name": "python3"
  },
  "language_info": {
   "codemirror_mode": {
    "name": "ipython",
    "version": 3
   },
   "file_extension": ".py",
   "mimetype": "text/x-python",
   "name": "python",
   "nbconvert_exporter": "python",
   "pygments_lexer": "ipython3",
   "version": "3.11.5"
  }
 },
 "nbformat": 4,
 "nbformat_minor": 5
}
