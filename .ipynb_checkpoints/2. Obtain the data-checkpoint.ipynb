{
 "cells": [
  {
   "attachments": {},
   "cell_type": "markdown",
   "id": "f5ac7b64-6093-4f92-8cb6-4803b2bdb759",
   "metadata": {},
   "source": [
    "### 1. Importação de Fertilizantes do Estado da Bahia\n",
    "\n",
    "O site [Comexstat](http://comexstat.mdic.gov.br/pt/geral), portal para acesso gratuito às estatísticas de comércio exterior do Brasil, disponibiliza arquivos que apresentam todos os dados utilizados para construção da balança comercial brasileira, detalhados por NCM ou por Municípios do exportador/importador. \n",
    "\n",
    "O site informa que os dados estão disponíveis em arquivos compatados que contém arquivos CSV, utilizando como separador o ponto e vírgula (;), e com os nomes das colunas na primeira linha. \n",
    "\n",
    "Para esse projeto, o interesse esta sobre a base de dados denominada IMP_COMPLETA.zip, que contém histórico mensal das importações detalhadas por produto (código NCM), Unidade Federativa importadora, ano, mês, país de origem, quilograma líquido, valor dólar FOB (US$) e outras.\n",
    "\n",
    "Para aproveitamento completo dos arquivos de dados, será necessário baixar e utilizar as Tabelas Auxiliares contendo a \"Correlações de Códigos e Classificações\". \n",
    "\n",
    "O arquivo principal e as tabelas auxiliares foram baixadas e salvas localmente na pasta '~/git/BD/Comexstat/'.\n",
    "\n",
    "> **Nota em relação ao Github:** Os arquivos salvos **nesta fase** são maiores do que o tamanho aceito em minha conta, e por isso eles serão ignorados e não disponibilizados.\n",
    "\n",
    "A classificação de produto mais abrangente disponível é a SH2 (Sistema Harmonizado) e no nome dela se buscará identificar palavras como \"fertilizantes\" ou \"adubo\"."
   ]
  },
  {
   "cell_type": "code",
   "execution_count": 1,
   "id": "e96c3ee6-0a56-46cf-aa8f-586a779aea33",
   "metadata": {},
   "outputs": [],
   "source": [
    "# Importa as bibliotecas necessárias\n",
    "%run '~/git/Bibliotecas.ipynb'"
   ]
  },
  {
   "cell_type": "code",
   "execution_count": 2,
   "id": "7acd7896-e04b-4fef-a0b1-da630eb751ee",
   "metadata": {},
   "outputs": [],
   "source": [
    "sh=pd.read_csv('~/git/BD/Comexstat/NCM_SH.csv',sep=';',encoding='Latin-1')"
   ]
  },
  {
   "cell_type": "markdown",
   "id": "4395f36f-fccb-44f1-9b3b-d662b58806fa",
   "metadata": {},
   "source": [
    "> Pode-se ver que a coluna CO_SH2 apresenta o código mais abrangente. Ainda pode-se ver que na coluna NO_SH2_POR existe o nome da categoria em português.\n",
    ">\n",
    "> Identifica-se a seguir qual SH2 tem a palavra \"fertilizante\" incluída no nome."
   ]
  },
  {
   "cell_type": "code",
   "execution_count": 3,
   "id": "626aa747-50e7-47f4-925c-035b5316d1c4",
   "metadata": {},
   "outputs": [],
   "source": [
    "# Identifica qual nome de categoria apresenta a palavra \"fertilizante\"\n",
    "sh2_fert=sh[sh.NO_SH2_POR.str.contains('fertilizante')]['CO_SH2'].unique()"
   ]
  },
  {
   "cell_type": "code",
   "execution_count": 4,
   "id": "4eb72252-3d66-4ddc-9c1a-7d487d98cf0a",
   "metadata": {},
   "outputs": [],
   "source": [
    "# Identifica qual nome de categoria apresenta a palavra \"adubo\"\n",
    "sh2_adubo=sh[sh.NO_SH2_POR.str.contains('adubo')]['CO_SH2'].unique()"
   ]
  },
  {
   "cell_type": "markdown",
   "id": "ccb10623-5e5d-4924-be95-6656361b617d",
   "metadata": {},
   "source": [
    "> Só um SH2 (31) possui 'fertilizante' no nome. Salvaremos o código dele a seguir:"
   ]
  },
  {
   "cell_type": "code",
   "execution_count": 5,
   "id": "21a4a47b-a272-4aaf-92a3-a3129c1351b0",
   "metadata": {},
   "outputs": [],
   "source": [
    "# Identifica o código da única categoria 'fertilizante'\n",
    "sh2_fert=sh2_fert[0]"
   ]
  },
  {
   "cell_type": "markdown",
   "id": "2df66d28-8409-46ce-bafa-b21842d467c2",
   "metadata": {},
   "source": [
    ">  Nessa mesma tabela, o código mais específico é o SH6, e os que são relacionados ao SH2 dos fertilizantes serão listados a seguir:"
   ]
  },
  {
   "cell_type": "code",
   "execution_count": 6,
   "id": "5ad897b9-e574-44a6-b71e-298c81f586c0",
   "metadata": {},
   "outputs": [],
   "source": [
    "sh6_fert=sh[sh.CO_SH2==sh2_fert]['CO_SH6'].unique()"
   ]
  },
  {
   "cell_type": "markdown",
   "id": "7040dc7c-60c1-4b7a-9453-276f11baf8f2",
   "metadata": {},
   "source": [
    "> Passaremos agora para a próxima tabela, a tabela NCM.csv, e dela extrairemos a lista de NCMs que se relacionam com a lista de SH6 dos fertilizantes. "
   ]
  },
  {
   "cell_type": "code",
   "execution_count": 7,
   "id": "a602d8ab-39f1-4547-a4de-b5db829141e5",
   "metadata": {},
   "outputs": [],
   "source": [
    "ncm=pd.read_csv('~/git/BD/Comexstat/NCM.csv', sep=';',encoding='latin1')\n",
    "ncm_fert=ncm[ncm.CO_SH6.isin(sh6_fert)].CO_NCM.unique()"
   ]
  },
  {
   "cell_type": "markdown",
   "id": "09b221f8-0a13-45cb-880a-de8eb9024f84",
   "metadata": {},
   "source": [
    "Agora será extraido do arquivo principal (IMP_COMPLETA.csv) os registros relativos aos NCMs listados.\n",
    "\n",
    "As linhas filtradas serão concatenadas para formar o novo  **arquivo principal**, que em seguida será salvo no endereço '~/comex/data/imp1.csv'."
   ]
  },
  {
   "cell_type": "code",
   "execution_count": 8,
   "id": "45656baf-cb92-4361-9f3a-a653baa7ef72",
   "metadata": {},
   "outputs": [],
   "source": [
    "# Cria leitor do arquivo principal em pedaços\n",
    "csv_reader=pd.read_csv('~/git/BD/Comexstat/IMP_COMPLETA.zip', sep=';', chunksize=1000000)\n",
    "\n",
    "# Prepara tabela para receber e concatenar os filtrados dos pedaços\n",
    "q=pd.DataFrame()\n",
    "\n",
    "# Lê, filtra e concatena cada pedaço\n",
    "for chunk in csv_reader:\n",
    "    q=pd.concat([q, chunk[chunk.CO_NCM.isin(ncm_fert)]])\n",
    "\n",
    "# Ordena os dados\n",
    "imp1=q.sort_values(by=q.columns.to_list()).reset_index(drop=True)\n",
    "\n",
    "directory = '~/git/Pricing-Fertilizer-take-Rains-into-account/temp/'\n",
    "\n",
    "# Expand the user path (if '~' is used)\n",
    "expanded_directory = os.path.expanduser(directory)\n",
    "\n",
    "# Check if the directory exists\n",
    "if not os.path.exists(expanded_directory):\n",
    "    # Create the directory if it doesn't exist\n",
    "    os.makedirs(expanded_directory)\n",
    "\n",
    "\n",
    "# Salva o resultado\n",
    "imp1.to_csv('~/git/Pricing-Fertilizer-take-Rains-into-account/temp/imp1.csv', index=False)"
   ]
  },
  {
   "cell_type": "markdown",
   "id": "69ee12c7-532e-4708-b8e7-b538a90ed95b",
   "metadata": {},
   "source": [
    "### 2. Chuva"
   ]
  },
  {
   "cell_type": "markdown",
   "id": "2ccd857e-a971-4a44-be2c-d21a30b8cbb1",
   "metadata": {},
   "source": [
    "O [INMET](https://portal.inmet.gov.br/) - Instituto Nacional de Meteorologia, subordinado ao Ministério da Agricultura e Pecuária, disponibilisa no site os dados históricos de chuvas em estações meteorológicas automáticas em todos os estados brasileiro.\n",
    "\n",
    "Os arquivos compactados foram baixados do site e salvos localmente em:  \n",
    "* '~/git/BD/Inmet/'\n",
    "\n",
    "No Estado da Bahia exitem várias dessas estações automáticas, na capital e no interior.\n",
    "\n",
    "Para selecionar as estações do INMET que mais se correlacionem com a importação de fertilizantes, é necessário identificar os municípios com maior intensidade da agricultura:\n",
    "\n",
    "Rank dos Municípios com Maior Área Plantada no Estado da Bahia no ano 2022(Fonte: IBGE):\n",
    "São Desidério (BA)\n",
    "Formosa do Rio Preto (BA)\n",
    "Correntina (BA)\n",
    "Barreiras (BA)\n",
    "Luís Eduardo Magalhães (BA)\n",
    "Riachão das Neves (BA)\n",
    "Jaborandi (BA)\n",
    "\n",
    "Comparando o rank acima com as estações meteorológicas listadas pelo INMET, identificamos as seguintes estações de interesse do projeto:  \n",
    "\n",
    "Estações de interesse: \n",
    "* FORMOSA DO RIO PRETO\n",
    "* CORRENTINA\n",
    "* LUIS EDUARDO MAGALHÃES\n",
    "* BARREIRAS\n",
    "\n",
    "\n",
    "\n",
    "> **Nota em relação ao Github:** Os arquivos salvos **nesta fase** são maiores do que o tamanho aceito em minha conta, e por isso eles serão ignorados e não disponibilizados."
   ]
  },
  {
   "cell_type": "markdown",
   "id": "1522d059-a105-48d3-a88d-c734fdb383a2",
   "metadata": {},
   "source": [
    "Filtra arquivos do INMET relacionados as localidades baianas acima listadas e salva localmente"
   ]
  },
  {
   "cell_type": "code",
   "execution_count": 9,
   "id": "e190b62b-bbeb-46b3-8386-40b1be8c327b",
   "metadata": {},
   "outputs": [
    {
     "name": "stdout",
     "output_type": "stream",
     "text": [
      "Transferência concluída. Arquivos filtrados foram salvos em: /home/andre301267/git/Pricing-Fertilizer-take-Rains-into-account/temp/chuvas/\n"
     ]
    }
   ],
   "source": [
    "# Carrega biblioteca adcional\n",
    "import shutil\n",
    "import zipfile\n",
    "\n",
    "# Pasta com os arquivos zipados\n",
    "pasta_zip = '/home/andre301267/git/BD/Inmet/'\n",
    "\n",
    "# Pasta de destino para os arquivos CSV filtrados no ambiente Linux\n",
    "pasta_destino_linux = os.path.expanduser('~/git/Pricing-Fertilizer-take-Rains-into-account/temp/chuvas/')\n",
    "\n",
    "# Alternativas a serem verificadas no nome do arquivo\n",
    "alternativas = ['FORMOSA', 'CORRENTINA', 'EDUARDO', 'BARREIRAS']\n",
    "\n",
    "# Certifique-se de que a pasta de destino exista ou crie-a\n",
    "if not os.path.exists(pasta_destino_linux):\n",
    "    os.makedirs(pasta_destino_linux)\n",
    "\n",
    "# Itera sobre os arquivos na pasta_zip\n",
    "for nome_arquivo in os.listdir(pasta_zip):\n",
    "    caminho_arquivo_zip = os.path.join(pasta_zip, nome_arquivo)\n",
    "\n",
    "    # Verifica se é um arquivo zip\n",
    "    if nome_arquivo.lower().endswith('.zip'):\n",
    "        # Extrai o conteúdo diretamente para a pasta de destino\n",
    "        with zipfile.ZipFile(caminho_arquivo_zip, 'r') as zip_ref:\n",
    "            for arquivo in zip_ref.namelist():\n",
    "                if any(alternativa in arquivo for alternativa in alternativas) and \"_BA_\" in arquivo and arquivo.lower().endswith('.csv'):\n",
    "                    # Constrói o caminho de destino de forma mais simplificada, sem o sufixo \"copiado_\"\n",
    "                    nome_destino = f\"{os.path.splitext(os.path.basename(arquivo))[0]}.CSV\"\n",
    "                    caminho_destino = os.path.join(pasta_destino_linux, nome_destino)\n",
    "\n",
    "                    with open(caminho_destino, 'wb') as destino, zip_ref.open(arquivo) as origem:\n",
    "                        shutil.copyfileobj(origem, destino)\n",
    "\n",
    "print(\"Transferência concluída. Arquivos filtrados foram salvos em:\", pasta_destino_linux)\n"
   ]
  },
  {
   "cell_type": "code",
   "execution_count": 10,
   "id": "2dfd150e-b193-4679-953f-0327d2f0c3f7",
   "metadata": {},
   "outputs": [],
   "source": [
    "# Diretório dos arquivos\n",
    "diretorio = '/home/andre301267/git/Pricing-Fertilizer-take-Rains-into-account/temp/chuvas/'\n",
    "\n",
    "# Lista para armazenar os DataFrames\n",
    "df_parte1 = pd.DataFrame()\n",
    "df_parte2 = pd.DataFrame()\n",
    "\n",
    "# Iterar sobre os arquivos no diretório\n",
    "for arquivo in os.listdir(diretorio):\n",
    "    if arquivo.endswith('.CSV'):  # Certifique-se de que estamos lidando apenas com arquivos de texto\n",
    "        caminho_arquivo = os.path.join(diretorio, arquivo)\n",
    "\n",
    "        # Ler as primeiras 8 linhas\n",
    "        parte1 = pd.read_csv(caminho_arquivo, nrows=7,sep=';',encoding='Latin-1')\n",
    "       # print(parte1)\n",
    "\n",
    "        # Ler a partir da linha 9\n",
    "        parte2 = pd.read_csv(caminho_arquivo, skiprows=8,sep=';',encoding='Latin-1').assign(Estação=parte1.iloc[1,1])\n",
    "\n",
    "        # Adicionar DataFrames às listas\n",
    "        df_parte1=pd.concat([df_parte1,parte1],axis=1)\n",
    "        df_parte2=pd.concat([df_parte2,parte2])\n",
    "\n",
    "# Formata arquivo contendo ID das estações\n",
    "df_parte1=df_parte1.transpose().drop(columns=[5,6]).drop_duplicates(subset=[1]).drop_duplicates(subset=[2])\\\n",
    ".reset_index(drop=True)\n",
    "\n",
    "df_parte1.columns=df_parte1.iloc[0]\n",
    "\n",
    "df_parte1=df_parte1.iloc[1:]\n",
    "\n",
    "df_parte1.to_csv('/home/andre301267/git/Pricing-Fertilizer-take-Rains-into-account/temp/estações.csv',index=False)\n",
    "df_parte2.to_csv('/home/andre301267/git/Pricing-Fertilizer-take-Rains-into-account/temp/chuvas1.csv',index=False)"
   ]
  },
  {
   "cell_type": "markdown",
   "id": "1952b9c0-15a8-4461-94fe-ed4088442e64",
   "metadata": {},
   "source": [
    "Remove o diretório com os arquivos extraídos e ainda separados sobre chuvas"
   ]
  },
  {
   "cell_type": "code",
   "execution_count": 11,
   "id": "04f075eb-25af-4c60-871a-92772d8d6aa4",
   "metadata": {},
   "outputs": [
    {
     "name": "stdout",
     "output_type": "stream",
     "text": [
      "O diretório '/home/andre301267/git/Pricing-Fertilizer-take-Rains-into-account/temp/chuvas/' e todo o seu conteúdo foram removidos com sucesso.\n"
     ]
    }
   ],
   "source": [
    "import shutil\n",
    "\n",
    "diretorio = '/home/andre301267/git/Pricing-Fertilizer-take-Rains-into-account/temp/chuvas/'\n",
    "\n",
    "try:\n",
    "    shutil.rmtree(diretorio)\n",
    "    print(f\"O diretório '{diretorio}' e todo o seu conteúdo foram removidos com sucesso.\")\n",
    "except OSError as e:\n",
    "    print(f\"Falha ao remover o diretório '{diretorio}': {e}\")\n"
   ]
  }
 ],
 "metadata": {
  "kernelspec": {
   "display_name": "Python 3 (ipykernel)",
   "language": "python",
   "name": "python3"
  },
  "language_info": {
   "codemirror_mode": {
    "name": "ipython",
    "version": 3
   },
   "file_extension": ".py",
   "mimetype": "text/x-python",
   "name": "python",
   "nbconvert_exporter": "python",
   "pygments_lexer": "ipython3",
   "version": "3.11.5"
  }
 },
 "nbformat": 4,
 "nbformat_minor": 5
}
