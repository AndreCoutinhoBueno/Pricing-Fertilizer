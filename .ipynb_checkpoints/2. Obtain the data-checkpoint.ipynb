{
 "cells": [
  {
   "cell_type": "code",
   "execution_count": 1,
   "id": "e96c3ee6-0a56-46cf-aa8f-586a779aea33",
   "metadata": {},
   "outputs": [],
   "source": [
    "# Importa as bibliotecas necessárias\n",
    "%run '~/git/Bibliotecas.ipynb'"
   ]
  },
  {
   "cell_type": "code",
   "execution_count": 2,
   "id": "114a9912-631d-4b7a-bfb6-99897d4bb9bc",
   "metadata": {},
   "outputs": [
    {
     "name": "stdout",
     "output_type": "stream",
     "text": [
      "\n",
      "\n",
      "\t2.1 Importação de Fertilizantes\n",
      "\n",
      "\n"
     ]
    }
   ],
   "source": [
    "print('\\n\\n\\t2.1 Importação de Fertilizantes\\n\\n')"
   ]
  },
  {
   "cell_type": "code",
   "execution_count": 5,
   "id": "564a0708-8796-4ed2-9ff8-4c5f3ee5eeca",
   "metadata": {},
   "outputs": [
    {
     "name": "stdout",
     "output_type": "stream",
     "text": [
      "\n",
      "\n",
      "Fonte: Comexstat(http://comexstat.mdic.gov.br/pt/geral), portal para acesso gratuito às estatísticas de\n",
      "comércio exterior do Brasil, com os dados utilizados para construção da balança comercial brasileira, detalhados\n",
      "por NCM ou por Municípios do exportador/importador.\n",
      "\n",
      "\n"
     ]
    }
   ],
   "source": [
    "print('\\n\\nFonte: Comexstat(http://comexstat.mdic.gov.br/pt/geral), portal para acesso gratuito às estatísticas de\\n\\\n",
    "comércio exterior do Brasil, com os dados utilizados para construção da balança comercial brasileira, detalhados\\n\\\n",
    "por NCM ou por Municípios do exportador/importador.\\n\\n')"
   ]
  },
  {
   "cell_type": "markdown",
   "id": "74f9e3a8-50cc-4870-ba1e-d4d5aa1227ce",
   "metadata": {},
   "source": [
    "O site informa que os dados estão disponíveis em arquivos compactados que contém arquivos CSV, utilizando como separador o ponto e vírgula (;), e com os nomes das colunas na primeira linha. \n",
    "\n",
    "Para esse projeto, o interesse esta sobre a base de dados denominada IMP_COMPLETA.zip, que contém histórico mensal das importações detalhadas por produto (código NCM), Unidade Federativa importadora, ano, mês, país de origem, quilograma líquido, valor dólar FOB (US$) e outras.\n",
    "\n",
    "Para aproveitamento completo dos arquivos de dados, será necessário baixar e utilizar as Tabelas Auxiliares contendo a \"Correlações de Códigos e Classificações\". \n",
    "\n",
    "O arquivo principal e as tabelas auxiliares foram baixadas e salvas localmente na pasta '~/git/BD/Comexstat/'.\n",
    "\n",
    "> **Nota em relação ao Github:** Os arquivos salvos **nesta fase** são maiores do que o tamanho aceito em minha conta, e por isso eles serão ignorados e não disponibilizados.\n",
    "\n",
    "A classificação de produto mais abrangente disponível é a SH2 (Sistema Harmonizado) e no nome dela se buscará identificar palavras como \"fertilizantes\" ou \"adubo\".m"
   ]
  },
  {
   "cell_type": "code",
   "execution_count": 3,
   "id": "f7c245d0-d255-4bec-a2a8-03444ba47be6",
   "metadata": {},
   "outputs": [],
   "source": [
    "sh=pd.read_csv('~/git/BD/Comexstat/NCM_SH.csv',sep=';',encoding='Latin-1')"
   ]
  },
  {
   "cell_type": "markdown",
   "id": "4395f36f-fccb-44f1-9b3b-d662b58806fa",
   "metadata": {},
   "source": [
    "> Pode-se ver que a coluna CO_SH2 apresenta o código mais abrangente. Ainda pode-se ver que na coluna NO_SH2_POR existe o nome da categoria em português.\n",
    ">\n",
    "> Identifica-se a seguir qual SH2 tem a palavra \"fertilizante\" incluída no nome."
   ]
  },
  {
   "cell_type": "code",
   "execution_count": 4,
   "id": "626aa747-50e7-47f4-925c-035b5316d1c4",
   "metadata": {},
   "outputs": [
    {
     "data": {
      "text/plain": [
       "31"
      ]
     },
     "execution_count": 4,
     "metadata": {},
     "output_type": "execute_result"
    }
   ],
   "source": [
    "# Identifica qual nome de categoria apresenta a palavra \"fertilizante\"\n",
    "sh2_fert=sh[sh.NO_SH2_POR.str.contains('fertilizante')]['CO_SH2'].unique()\n",
    "sh2_fert[0]"
   ]
  },
  {
   "cell_type": "code",
   "execution_count": 5,
   "id": "21a4a47b-a272-4aaf-92a3-a3129c1351b0",
   "metadata": {},
   "outputs": [],
   "source": [
    "# Identifica o código da única categoria 'fertilizante'\n",
    "sh2_fert=sh2_fert[0]"
   ]
  },
  {
   "cell_type": "code",
   "execution_count": 6,
   "id": "7e36f637-7e45-4023-9ac8-410266b23c34",
   "metadata": {},
   "outputs": [
    {
     "ename": "NameError",
     "evalue": "name 'sh2_fert' is not defined",
     "output_type": "error",
     "traceback": [
      "\u001b[0;31m---------------------------------------------------------------------------\u001b[0m",
      "\u001b[0;31mNameError\u001b[0m                                 Traceback (most recent call last)",
      "Cell \u001b[0;32mIn[6], line 2\u001b[0m\n\u001b[1;32m      1\u001b[0m \u001b[38;5;28mprint\u001b[39m(\u001b[38;5;124mf\u001b[39m\u001b[38;5;124m'\u001b[39m\u001b[38;5;130;01m\\n\u001b[39;00m\u001b[38;5;124mNa tabelas auxiliares, na lista de categorias de produtos mais abrangente (SH2), foi localizado um produto de nome \u001b[39m\u001b[38;5;124m\"\u001b[39m\u001b[38;5;124mfertilizante\u001b[39m\u001b[38;5;124m\"\u001b[39m\u001b[38;5;130;01m\\n\u001b[39;00m\u001b[38;5;130;01m\\\u001b[39;00m\n\u001b[0;32m----> 2\u001b[0m \u001b[38;5;124me de código igual a \u001b[39m\u001b[38;5;132;01m{\u001b[39;00m\u001b[43msh2_fert\u001b[49m\u001b[38;5;132;01m}\u001b[39;00m\u001b[38;5;124m.\u001b[39m\u001b[38;5;130;01m\\n\u001b[39;00m\u001b[38;5;130;01m\\n\u001b[39;00m\u001b[38;5;130;01m\\\u001b[39;00m\n\u001b[1;32m      3\u001b[0m \u001b[38;5;124mEsse nome e código serão utilizados para filtrar a extração dos registros do arquivo compactado IMP_COMPLETA.zip,\u001b[39m\u001b[38;5;130;01m\\n\u001b[39;00m\u001b[38;5;130;01m\\\u001b[39;00m\n\u001b[1;32m      4\u001b[0m \u001b[38;5;124mdisponibilizado pelo site.\u001b[39m\u001b[38;5;130;01m\\n\u001b[39;00m\u001b[38;5;130;01m\\n\u001b[39;00m\u001b[38;5;124m'\u001b[39m)\n",
      "\u001b[0;31mNameError\u001b[0m: name 'sh2_fert' is not defined"
     ]
    }
   ],
   "source": [
    "print(f'\\nNa tabelas auxiliares, na lista de categorias de produtos mais abrangente (SH2), foi localizado um produto de nome \"fertilizante\"\\n\\\n",
    "e de código igual a {sh2_fert}.\\n\\n\\\n",
    "Esse nome e código serão utilizados para filtrar a extração dos registros do arquivo compactado IMP_COMPLETA.zip,\\n\\\n",
    "disponibilizado pelo site.\\n\\n')"
   ]
  },
  {
   "cell_type": "code",
   "execution_count": 7,
   "id": "5ad897b9-e574-44a6-b71e-298c81f586c0",
   "metadata": {},
   "outputs": [],
   "source": [
    "sh6_fert=sh[sh.CO_SH2==sh2_fert]['CO_SH6'].unique()"
   ]
  },
  {
   "cell_type": "markdown",
   "id": "7040dc7c-60c1-4b7a-9453-276f11baf8f2",
   "metadata": {},
   "source": [
    "> Passaremos agora para a próxima tabela, a tabela NCM.csv, e dela extrairemos a lista de NCMs que se relacionam com a lista de SH6 dos fertilizantes. "
   ]
  },
  {
   "cell_type": "code",
   "execution_count": 8,
   "id": "a602d8ab-39f1-4547-a4de-b5db829141e5",
   "metadata": {},
   "outputs": [],
   "source": [
    "ncm=pd.read_csv('~/git/BD/Comexstat/NCM.csv', sep=';',encoding='latin1')\n",
    "ncm_fert=ncm[ncm.CO_SH6.isin(sh6_fert)].CO_NCM.unique()"
   ]
  },
  {
   "cell_type": "markdown",
   "id": "09b221f8-0a13-45cb-880a-de8eb9024f84",
   "metadata": {},
   "source": [
    "Agora será extraido do arquivo principal (IMP_COMPLETA.csv) os registros relativos aos NCMs listados.\n",
    "\n",
    "As linhas filtradas serão concatenadas para formar o novo  **arquivo principal**, que em seguida será salvo no endereço '~/comex/data/imp1.csv'."
   ]
  },
  {
   "cell_type": "code",
   "execution_count": 9,
   "id": "bec29b2b-0837-438c-aeb6-f9e8fc3600c6",
   "metadata": {},
   "outputs": [],
   "source": [
    "# Cria leitor do arquivo principal em pedaços\n",
    "csv_reader=pd.read_csv('~/git/BD/Comexstat/IMP_COMPLETA.zip', sep=';', chunksize=1000000)\n",
    "\n",
    "# Prepara tabela para receber e concatenar os filtrados dos pedaços\n",
    "q=pd.DataFrame()\n",
    "\n",
    "# Lê, filtra e concatena cada pedaço\n",
    "for chunk in csv_reader:\n",
    "    q=pd.concat([q, chunk[chunk.CO_NCM.isin(ncm_fert)]])\n",
    "\n",
    "# Ordena os dados\n",
    "imp1=q.sort_values(by=q.columns.to_list()).reset_index(drop=True)\n",
    "\n",
    "directory = '~/git/Pricing-Fertilizer-take-Rains-into-account/temp/'\n",
    "\n",
    "# Expand the user path (if '~' is used)\n",
    "expanded_directory = os.path.expanduser(directory)\n",
    "\n",
    "# Check if the directory exists\n",
    "if not os.path.exists(expanded_directory):\n",
    "    # Create the directory if it doesn't existyy\n",
    "    os.makedirs(expanded_directory)"
   ]
  },
  {
   "cell_type": "markdown",
   "id": "9a7219f7-bf2f-4c2a-a088-2479ffdaf158",
   "metadata": {},
   "source": [
    "A coluna SG_UF_NCM apresenta as siglas das Unidades Federativas do Brasil"
   ]
  },
  {
   "cell_type": "code",
   "execution_count": 9,
   "id": "2834002d-a712-4c75-88cd-785284cdce60",
   "metadata": {},
   "outputs": [
    {
     "name": "stdout",
     "output_type": "stream",
     "text": [
      "\n",
      "\n",
      "Em nome da simplicidade, esse projeto abordará uma única unidade federativa do Brasil.\n",
      "\n",
      "A Bahia foi a unidade federativa escolhida pelo autor para foco deste projeto.\n",
      "\n",
      "Serão somente salvas as importações destinadas a este estado brasileiro.\n",
      "\n",
      "O arquivo filtrado foi salvo localmente.\n",
      "\n",
      "\n"
     ]
    }
   ],
   "source": [
    "print('\\n\\nEm nome da simplicidade, esse projeto abordará uma única unidade federativa do Brasil.\\n\\n\\\n",
    "A Bahia foi a unidade federativa escolhida pelo autor para foco deste projeto.\\n\\n\\\n",
    "Serão somente salvas as importações destinadas a este estado brasileiro.\\n\\n\\\n",
    "O arquivo filtrado foi salvo localmente.\\n\\n')"
   ]
  },
  {
   "cell_type": "code",
   "execution_count": 12,
   "id": "3c09d69d-6461-4e6b-8523-2facfdcd8d3a",
   "metadata": {},
   "outputs": [],
   "source": [
    "# Filtra deixando passar somente registros destinados a Bahia\n",
    "imp1=imp1[imp1.SG_UF_NCM=='BA']"
   ]
  },
  {
   "cell_type": "code",
   "execution_count": 13,
   "id": "74701c94-bc54-4e0f-b3d9-ad9ec59738a1",
   "metadata": {},
   "outputs": [],
   "source": [
    "# Salva o resultado\n",
    "imp1.to_csv('~/git/Pricing-Fertilizer-take-Rains-into-account/temp/imp1.csv', index=False)"
   ]
  },
  {
   "cell_type": "code",
   "execution_count": 10,
   "id": "d41c71e5-f046-4e2f-a208-6c821321a5b8",
   "metadata": {},
   "outputs": [
    {
     "name": "stdout",
     "output_type": "stream",
     "text": [
      "\n",
      "\n",
      "\t2.1 Volumes de Chuvas\n",
      "\n",
      "\n"
     ]
    }
   ],
   "source": [
    "print('\\n\\n\\t2.1 Volumes de Chuvas\\n\\n')"
   ]
  },
  {
   "cell_type": "code",
   "execution_count": 13,
   "id": "1a52e947-db98-41e2-b84f-849252c4d400",
   "metadata": {},
   "outputs": [
    {
     "name": "stdout",
     "output_type": "stream",
     "text": [
      "\n",
      "\n",
      "No Estado da Bahia o INMET mantém várias estações meteorológicas automáticas,\n",
      "sendo essas identificadas pelo nome do município em que estão localizadas.\n",
      "\n",
      "Para selecionar as estações do INMET que mais se correlacionem com a importação de fertilizantes,\n",
      "é necessário identificar quais os municípios apresentam a maior área plantada:\n",
      "\n",
      "Rank dos Municípios com Maior Área Plantada no Estado da Bahia no ano 2022(Fonte: IBGE):\n",
      "\n",
      "\t*São Desidério (BA)\n",
      "\t*Formosa do Rio Preto (BA)\n",
      "\t*Correntina (BA)\n",
      "\t*Barreiras (BA)\n",
      "\t*Luís Eduardo Magalhães (BA)\n",
      "\t*Riachão das Neves (BA)\n",
      "\t*Jaborandi (BA)\n",
      "\n",
      "Comparando o rank acima com as estações meteorológicas disponibilizadas pelo INMET, identificamos as seguintes\n",
      "estações como de interesse do projeto:\n",
      "\n",
      "Estações meteorológicas de interesse:\n",
      "\n",
      "\t* FORMOSA DO RIO PRETO\n",
      "\t* CORRENTINA\n",
      "\t* LUIS EDUARDO MAGALHÃES\n",
      "\t* BARREIRAS\n"
     ]
    }
   ],
   "source": [
    "print('\\n\\nNo Estado da Bahia o INMET mantém várias estações meteorológicas automáticas,\\n\\\n",
    "sendo essas identificadas pelo nome do município em que estão localizadas.\\n\\n\\\n",
    "\\\n",
    "Para selecionar as estações do INMET que mais se correlacionem com a importação de fertilizantes,\\n\\\n",
    "é necessário identificar quais os municípios apresentam a maior área plantada:\\n\\n\\\n",
    "\\\n",
    "Rank dos Municípios com Maior Área Plantada no Estado da Bahia no ano 2022(Fonte: IBGE):\\n\\n\\\n",
    "\\t*São Desidério (BA)\\n\\\n",
    "\\t*Formosa do Rio Preto (BA)\\n\\\n",
    "\\t*Correntina (BA)\\n\\\n",
    "\\t*Barreiras (BA)\\n\\\n",
    "\\t*Luís Eduardo Magalhães (BA)\\n\\\n",
    "\\t*Riachão das Neves (BA)\\n\\\n",
    "\\t*Jaborandi (BA)\\n\\n\\\n",
    "\\\n",
    "Comparando o rank acima com as estações meteorológicas disponibilizadas pelo INMET, identificamos as seguintes\\n\\\n",
    "estações como de interesse do projeto:\\n\\n\\\n",
    "\\\n",
    "Estações meteorológicas de interesse:\\n\\n\\\n",
    "\\t* FORMOSA DO RIO PRETO\\n\\\n",
    "\\t* CORRENTINA\\n\\\n",
    "\\t* LUIS EDUARDO MAGALHÃES\\n\\\n",
    "\\t* BARREIRAS')"
   ]
  },
  {
   "cell_type": "markdown",
   "id": "1522d059-a105-48d3-a88d-c734fdb383a2",
   "metadata": {},
   "source": [
    "Filtra arquivos do INMET relacionados as localidades baianas acima listadas e salva localmente"
   ]
  },
  {
   "cell_type": "code",
   "execution_count": 16,
   "id": "38d0abc9-34f3-4419-a399-5e55524b5b21",
   "metadata": {},
   "outputs": [
    {
     "name": "stdout",
     "output_type": "stream",
     "text": [
      "\n",
      "\n",
      "Transferência concluída. Arquivos filtrados foram salvos em:\n",
      "\t /home/andre301267/git/Pricing-Fertilizer-take-Rains-into-account/temp/chuvas/ \n",
      "\n",
      "\n"
     ]
    }
   ],
   "source": [
    "# Carrega biblioteca adcional\n",
    "import shutil\n",
    "import zipfile\n",
    "\n",
    "# Pasta com os arquivos zipados\n",
    "pasta_zip = '/home/andre301267/git/BD/Inmet/'\n",
    "\n",
    "# Pasta de destino para os arquivos CSV filtrados no ambiente Linux\n",
    "pasta_destino_linux = os.path.expanduser('~/git/Pricing-Fertilizer-take-Rains-into-account/temp/chuvas/')\n",
    "\n",
    "# Alternativas a serem verificadas no nome do arquivo\n",
    "alternativas = ['FORMOSA', 'CORRENTINA', 'EDUARDO', 'BARREIRAS']\n",
    "\n",
    "# Certifique-se de que a pasta de destino exista ou crie-a\n",
    "if not os.path.exists(pasta_destino_linux):\n",
    "    os.makedirs(pasta_destino_linux)\n",
    "\n",
    "# Itera sobre os arquivos na pasta_zip\n",
    "for nome_arquivo in os.listdir(pasta_zip):\n",
    "    caminho_arquivo_zip = os.path.join(pasta_zip, nome_arquivo)\n",
    "\n",
    "    # Verifica se é um arquivo zip\n",
    "    if nome_arquivo.lower().endswith('.zip'):\n",
    "        # Extrai o conteúdo diretamente para a pasta de destino\n",
    "        with zipfile.ZipFile(caminho_arquivo_zip, 'r') as zip_ref:\n",
    "            for arquivo in zip_ref.namelist():\n",
    "                if any(alternativa in arquivo for alternativa in alternativas) and \"_BA_\" in arquivo and arquivo.lower().endswith('.csv'):\n",
    "                    # Constrói o caminho de destino de forma mais simplificada, sem o sufixo \"copiado_\"\n",
    "                    nome_destino = f\"{os.path.splitext(os.path.basename(arquivo))[0]}.CSV\"\n",
    "                    caminho_destino = os.path.join(pasta_destino_linux, nome_destino)\n",
    "\n",
    "                    with open(caminho_destino, 'wb') as destino, zip_ref.open(arquivo) as origem:\n",
    "                        shutil.copyfileobj(origem, destino)\n",
    "\n",
    "print(\"\\n\\nTransferência concluída. Arquivos filtrados foram salvos em:\\n\\\n",
    "\\t\", pasta_destino_linux,\"\\n\\n\")\n"
   ]
  },
  {
   "cell_type": "code",
   "execution_count": 17,
   "id": "0bdfee8f-483b-4041-b56b-e5a4d9048fc6",
   "metadata": {},
   "outputs": [],
   "source": [
    "# Diretório dos arquivos\n",
    "diretorio = '/home/andre301267/git/Pricing-Fertilizer-take-Rains-into-account/temp/chuvas/'\n",
    "\n",
    "# Lista para armazenar os DataFrames\n",
    "df_parte1 = pd.DataFrame()\n",
    "df_parte2 = pd.DataFrame()\n",
    "\n",
    "# Iterar sobre os arquivos no diretório\n",
    "for arquivo in os.listdir(diretorio):\n",
    "    if arquivo.endswith('.CSV'):  # Certifique-se de que estamos lidando apenas com arquivos de texto\n",
    "        caminho_arquivo = os.path.join(diretorio, arquivo)\n",
    "\n",
    "        # Ler as primeiras 8 linhas\n",
    "        parte1 = pd.read_csv(caminho_arquivo, nrows=7,sep=';',encoding='Latin-1')\n",
    "\n",
    "        # Ler a partir da linha 9\n",
    "        parte2 = pd.read_csv(caminho_arquivo, skiprows=8,sep=';',encoding='Latin-1').assign(Estação=parte1.iloc[1,1])\n",
    "\n",
    "        # Adicionar DataFrames às listas\n",
    "        df_parte1=pd.concat([df_parte1,parte1],axis=1)\n",
    "        df_parte2=pd.concat([df_parte2,parte2])\n",
    "\n",
    "# Formata arquivo contendo ID das estações\n",
    "df_parte1=df_parte1.transpose().drop(columns=[5,6]).drop_duplicates(subset=[1]).drop_duplicates(subset=[2])\\\n",
    ".reset_index(drop=True)\n",
    "\n",
    "df_parte1.columns=df_parte1.iloc[0]\n",
    "\n",
    "df_parte1=df_parte1.iloc[1:]\n",
    "\n",
    "df_parte1.to_csv('/home/andre301267/git/Pricing-Fertilizer-take-Rains-into-account/temp/estações.csv',index=False)\n",
    "df_parte2.to_csv('/home/andre301267/git/Pricing-Fertilizer-take-Rains-into-account/temp/chuvas1.csv',index=False)"
   ]
  },
  {
   "cell_type": "markdown",
   "id": "1952b9c0-15a8-4461-94fe-ed4088442e64",
   "metadata": {},
   "source": [
    "Remove o diretório com os arquivos extraídos e ainda separados sobre chuvas"
   ]
  },
  {
   "cell_type": "code",
   "execution_count": 21,
   "id": "3fdb8e7f-0854-4d0c-b477-bb15717c1820",
   "metadata": {},
   "outputs": [],
   "source": [
    "import shutil\n",
    "\n",
    "diretorio = '/home/andre301267/git/Pricing-Fertilizer-take-Rains-into-account/temp/chuvas/'\n",
    "\n",
    "try:\n",
    "    shutil.rmtree(diretorio)\n",
    "    #print(f\"O diretório '{diretorio}' e todo o seu conteúdo foram removidos com sucesso.\")\n",
    "except OSError as e:\n",
    "    print(f\"Falha ao remover o diretório '{diretorio}': {e}\")\n"
   ]
  },
  {
   "cell_type": "code",
   "execution_count": null,
   "id": "9091bbe5-5b4d-495f-ac38-ee959f8fa53e",
   "metadata": {},
   "outputs": [],
   "source": []
  }
 ],
 "metadata": {
  "kernelspec": {
   "display_name": "Python 3 (ipykernel)",
   "language": "python",
   "name": "python3"
  },
  "language_info": {
   "codemirror_mode": {
    "name": "ipython",
    "version": 3
   },
   "file_extension": ".py",
   "mimetype": "text/x-python",
   "name": "python",
   "nbconvert_exporter": "python",
   "pygments_lexer": "ipython3",
   "version": "3.11.2"
  }
 },
 "nbformat": 4,
 "nbformat_minor": 5
}
