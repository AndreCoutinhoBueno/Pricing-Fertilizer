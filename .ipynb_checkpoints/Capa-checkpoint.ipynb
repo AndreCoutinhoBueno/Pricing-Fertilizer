{
 "cells": [
  {
   "attachments": {
    "399d1bc3-e542-4acc-af02-73451e85df60.png": {
     "image/png": "[encoded data removed]"
    },
    "7eab94d0-11b6-464b-a9b5-3bbd9a8a5991.png": {
     "image/png": "[encoded data removed]"
    },
    "eee44e3b-9291-4f9b-a3ab-4e84ad84ae80.png": {
     "image/png": "[encoded data removed]"
    }
   },
   "cell_type": "markdown",
   "id": "94d507b3-f76e-41c6-9587-a3826ed11c39",
   "metadata": {},
   "source": [
    "# As chuvas influenciam a precificação local dos fertilizantes?\n",
    "\n",
    "![image.png](attachment:7eab94d0-11b6-464b-a9b5-3bbd9a8a5991.png)  \n",
    "![image.png](attachment:eee44e3b-9291-4f9b-a3ab-4e84ad84ae80.png)  \n",
    "![image.png](attachment:399d1bc3-e542-4acc-af02-73451e85df60.png)  \n",
    "![image.png](attachment:7eab94d0-11b6-464b-a9b5-3bbd9a8a5991.png)  \n",
    "![image.png](attachment:eee44e3b-9291-4f9b-a3ab-4e84ad84ae80.png)  \n",
    "![image.png](attachment:399d1bc3-e542-4acc-af02-73451e85df60.png)  \n",
    "\n",
    "   \n",
    "Responsável  \n",
    "André Coutinho Bueno  \n",
    "Cientista de Dados  \n",
    "cel:+55-21-99630-1267  \n",
    "andrecoutinhobueno@hotmail.com  \n",
    "https://github.com/AndreCoutinhoBueno  \n",
    "https://www.linkedin.com/in/andre-coutinho-bueno/  \n",
    "Rio de Janeiro - Brasil  "
   ]
  }
 ],
 "metadata": {
  "kernelspec": {
   "display_name": "Python 3 (ipykernel)",
   "language": "python",
   "name": "python3"
  },
  "language_info": {
   "codemirror_mode": {
    "name": "ipython",
    "version": 3
   },
   "file_extension": ".py",
   "mimetype": "text/x-python",
   "name": "python",
   "nbconvert_exporter": "python",
   "pygments_lexer": "ipython3",
   "version": "3.11.5"
  }
 },
 "nbformat": 4,
 "nbformat_minor": 5
}
