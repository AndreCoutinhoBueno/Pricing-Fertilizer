{
 "cells": [
  {
   "cell_type": "code",
   "execution_count": 88,
   "id": "112f055f-d41d-4397-bc14-edf2c20c95e0",
   "metadata": {},
   "outputs": [],
   "source": [
    "# Importa as bibliotecas necessárias\n",
    "%run '~/git/Bibliotecas.ipynb'"
   ]
  },
  {
   "cell_type": "markdown",
   "id": "19e6a37b-9dc8-443f-bb5e-b97f9daafb6c",
   "metadata": {},
   "source": [
    "# Importação"
   ]
  },
  {
   "cell_type": "code",
   "execution_count": 96,
   "id": "be8b49cd-7861-426d-b93d-cda65a0a924f",
   "metadata": {},
   "outputs": [
    {
     "data": {
      "text/html": [
       "<div>\n",
       "<style scoped>\n",
       "    .dataframe tbody tr th:only-of-type {\n",
       "        vertical-align: middle;\n",
       "    }\n",
       "\n",
       "    .dataframe tbody tr th {\n",
       "        vertical-align: top;\n",
       "    }\n",
       "\n",
       "    .dataframe thead th {\n",
       "        text-align: right;\n",
       "    }\n",
       "</style>\n",
       "<table border=\"1\" class=\"dataframe\">\n",
       "  <thead>\n",
       "    <tr style=\"text-align: right;\">\n",
       "      <th></th>\n",
       "      <th>CO_ANO</th>\n",
       "      <th>CO_MES</th>\n",
       "      <th>KG_LIQUIDO</th>\n",
       "      <th>KG_LIQUIDO_pred_mm</th>\n",
       "      <th>KG_LIQUIDO_pred_s_mm</th>\n",
       "      <th>erro_mm</th>\n",
       "      <th>erro_s_mm</th>\n",
       "      <th>train_size_anos</th>\n",
       "      <th>ad</th>\n",
       "    </tr>\n",
       "  </thead>\n",
       "  <tbody>\n",
       "    <tr>\n",
       "      <th>0</th>\n",
       "      <td>2007</td>\n",
       "      <td>8</td>\n",
       "      <td>53557361.0</td>\n",
       "      <td>58213561</td>\n",
       "      <td>62620730</td>\n",
       "      <td>4656200.0</td>\n",
       "      <td>9063369.0</td>\n",
       "      <td>5.0</td>\n",
       "      <td>1</td>\n",
       "    </tr>\n",
       "    <tr>\n",
       "      <th>1</th>\n",
       "      <td>2007</td>\n",
       "      <td>8</td>\n",
       "      <td>53557361.0</td>\n",
       "      <td>57891088</td>\n",
       "      <td>63464092</td>\n",
       "      <td>4333727.0</td>\n",
       "      <td>9906731.0</td>\n",
       "      <td>5.0</td>\n",
       "      <td>2</td>\n",
       "    </tr>\n",
       "    <tr>\n",
       "      <th>2</th>\n",
       "      <td>2007</td>\n",
       "      <td>8</td>\n",
       "      <td>53557361.0</td>\n",
       "      <td>60822722</td>\n",
       "      <td>60682063</td>\n",
       "      <td>7265361.0</td>\n",
       "      <td>7124702.0</td>\n",
       "      <td>5.0</td>\n",
       "      <td>5</td>\n",
       "    </tr>\n",
       "    <tr>\n",
       "      <th>3</th>\n",
       "      <td>2008</td>\n",
       "      <td>1</td>\n",
       "      <td>46410648.0</td>\n",
       "      <td>49772320</td>\n",
       "      <td>44668616</td>\n",
       "      <td>3361672.0</td>\n",
       "      <td>1742032.0</td>\n",
       "      <td>5.0</td>\n",
       "      <td>1</td>\n",
       "    </tr>\n",
       "    <tr>\n",
       "      <th>4</th>\n",
       "      <td>2008</td>\n",
       "      <td>1</td>\n",
       "      <td>46410648.0</td>\n",
       "      <td>43149520</td>\n",
       "      <td>47889064</td>\n",
       "      <td>3261128.0</td>\n",
       "      <td>1478416.0</td>\n",
       "      <td>5.0</td>\n",
       "      <td>3</td>\n",
       "    </tr>\n",
       "    <tr>\n",
       "      <th>...</th>\n",
       "      <td>...</td>\n",
       "      <td>...</td>\n",
       "      <td>...</td>\n",
       "      <td>...</td>\n",
       "      <td>...</td>\n",
       "      <td>...</td>\n",
       "      <td>...</td>\n",
       "      <td>...</td>\n",
       "      <td>...</td>\n",
       "    </tr>\n",
       "    <tr>\n",
       "      <th>1848</th>\n",
       "      <td>2024</td>\n",
       "      <td>1</td>\n",
       "      <td>121343414.0</td>\n",
       "      <td>182520365</td>\n",
       "      <td>138302495</td>\n",
       "      <td>61176951.0</td>\n",
       "      <td>16959081.0</td>\n",
       "      <td>10.0</td>\n",
       "      <td>8</td>\n",
       "    </tr>\n",
       "    <tr>\n",
       "      <th>1849</th>\n",
       "      <td>2024</td>\n",
       "      <td>1</td>\n",
       "      <td>121343414.0</td>\n",
       "      <td>176331108</td>\n",
       "      <td>145783286</td>\n",
       "      <td>54987694.0</td>\n",
       "      <td>24439872.0</td>\n",
       "      <td>11.0</td>\n",
       "      <td>8</td>\n",
       "    </tr>\n",
       "    <tr>\n",
       "      <th>1850</th>\n",
       "      <td>2024</td>\n",
       "      <td>1</td>\n",
       "      <td>121343414.0</td>\n",
       "      <td>175199927</td>\n",
       "      <td>141412057</td>\n",
       "      <td>53856513.0</td>\n",
       "      <td>20068643.0</td>\n",
       "      <td>12.0</td>\n",
       "      <td>8</td>\n",
       "    </tr>\n",
       "    <tr>\n",
       "      <th>1851</th>\n",
       "      <td>2024</td>\n",
       "      <td>1</td>\n",
       "      <td>121343414.0</td>\n",
       "      <td>178820983</td>\n",
       "      <td>148320066</td>\n",
       "      <td>57477569.0</td>\n",
       "      <td>26976652.0</td>\n",
       "      <td>13.0</td>\n",
       "      <td>8</td>\n",
       "    </tr>\n",
       "    <tr>\n",
       "      <th>1852</th>\n",
       "      <td>2024</td>\n",
       "      <td>1</td>\n",
       "      <td>121343414.0</td>\n",
       "      <td>178032921</td>\n",
       "      <td>144895634</td>\n",
       "      <td>56689507.0</td>\n",
       "      <td>23552220.0</td>\n",
       "      <td>14.0</td>\n",
       "      <td>8</td>\n",
       "    </tr>\n",
       "  </tbody>\n",
       "</table>\n",
       "<p>1853 rows × 9 columns</p>\n",
       "</div>"
      ],
      "text/plain": [
       "      CO_ANO  CO_MES   KG_LIQUIDO  KG_LIQUIDO_pred_mm  KG_LIQUIDO_pred_s_mm  \\\n",
       "0       2007       8   53557361.0            58213561              62620730   \n",
       "1       2007       8   53557361.0            57891088              63464092   \n",
       "2       2007       8   53557361.0            60822722              60682063   \n",
       "3       2008       1   46410648.0            49772320              44668616   \n",
       "4       2008       1   46410648.0            43149520              47889064   \n",
       "...      ...     ...          ...                 ...                   ...   \n",
       "1848    2024       1  121343414.0           182520365             138302495   \n",
       "1849    2024       1  121343414.0           176331108             145783286   \n",
       "1850    2024       1  121343414.0           175199927             141412057   \n",
       "1851    2024       1  121343414.0           178820983             148320066   \n",
       "1852    2024       1  121343414.0           178032921             144895634   \n",
       "\n",
       "         erro_mm   erro_s_mm  train_size_anos  ad  \n",
       "0      4656200.0   9063369.0              5.0   1  \n",
       "1      4333727.0   9906731.0              5.0   2  \n",
       "2      7265361.0   7124702.0              5.0   5  \n",
       "3      3361672.0   1742032.0              5.0   1  \n",
       "4      3261128.0   1478416.0              5.0   3  \n",
       "...          ...         ...              ...  ..  \n",
       "1848  61176951.0  16959081.0             10.0   8  \n",
       "1849  54987694.0  24439872.0             11.0   8  \n",
       "1850  53856513.0  20068643.0             12.0   8  \n",
       "1851  57477569.0  26976652.0             13.0   8  \n",
       "1852  56689507.0  23552220.0             14.0   8  \n",
       "\n",
       "[1853 rows x 9 columns]"
      ]
     },
     "execution_count": 96,
     "metadata": {},
     "output_type": "execute_result"
    }
   ],
   "source": [
    "# Carrega a base de dados contendo os registros de importação de fertilizantes\n",
    "q=pd.read_csv('~/git/Pricing-Fertilizer-take-Rains-into-account/temp/q.csv')\n",
    "q"
   ]
  },
  {
   "cell_type": "code",
   "execution_count": 97,
   "id": "8e306e2e-3139-4942-a6b6-bf5b31079b25",
   "metadata": {},
   "outputs": [],
   "source": [
    "q['dif']=q.erro_s_mm-q.erro_mm"
   ]
  },
  {
   "cell_type": "code",
   "execution_count": 98,
   "id": "04403596-841b-4773-960b-c35195c5340f",
   "metadata": {},
   "outputs": [
    {
     "data": {
      "text/plain": [
       "CO_ANO\n",
       "2007     11\n",
       "2008     26\n",
       "2009     20\n",
       "2010     35\n",
       "2011     51\n",
       "2012     88\n",
       "2013    106\n",
       "2014     89\n",
       "2015    118\n",
       "2016    161\n",
       "2017    128\n",
       "2018    250\n",
       "2019    180\n",
       "2020    150\n",
       "2021    130\n",
       "2022    150\n",
       "2023    150\n",
       "2024     10\n",
       "Name: dif, dtype: int64"
      ]
     },
     "execution_count": 98,
     "metadata": {},
     "output_type": "execute_result"
    }
   ],
   "source": [
    "q.groupby('CO_ANO').dif.count()"
   ]
  },
  {
   "cell_type": "code",
   "execution_count": 99,
   "id": "08b5c44a-47e0-41c2-b6f7-cbce087e5424",
   "metadata": {},
   "outputs": [],
   "source": [
    "q=q[q.CO_ANO!=2024]"
   ]
  },
  {
   "cell_type": "code",
   "execution_count": 100,
   "id": "65f7b408-f70e-4a40-96b6-3b8d21611697",
   "metadata": {},
   "outputs": [
    {
     "data": {
      "text/plain": [
       "CO_MES\n",
       "1     167\n",
       "2     253\n",
       "3     250\n",
       "4     162\n",
       "5     134\n",
       "6     118\n",
       "7     115\n",
       "8     120\n",
       "9     116\n",
       "10    157\n",
       "11    115\n",
       "12    136\n",
       "Name: dif, dtype: int64"
      ]
     },
     "execution_count": 100,
     "metadata": {},
     "output_type": "execute_result"
    }
   ],
   "source": [
    "q.groupby('CO_MES').dif.count()"
   ]
  },
  {
   "cell_type": "code",
   "execution_count": 101,
   "id": "d595aded-bc58-4bb9-ba25-9cbf1e8deba4",
   "metadata": {},
   "outputs": [
    {
     "data": {
      "text/plain": [
       "CO_MES\n",
       "6    -2776524\n",
       "5    -2114393\n",
       "11    -465750\n",
       "4      286444\n",
       "12    1581640\n",
       "8     1933822\n",
       "7     2691333\n",
       "3     3670456\n",
       "9     4279027\n",
       "10    4941859\n",
       "2     5115095\n",
       "1     5665731\n",
       "Name: dif, dtype: int64"
      ]
     },
     "execution_count": 101,
     "metadata": {},
     "output_type": "execute_result"
    }
   ],
   "source": [
    "q.groupby('CO_MES').dif.mean().astype(int).sort_values()"
   ]
  },
  {
   "cell_type": "code",
   "execution_count": 102,
   "id": "72ccb72c-a92d-4544-a7db-84332d7919ab",
   "metadata": {},
   "outputs": [],
   "source": [
    "q=q[q.CO_MES==2]"
   ]
  },
  {
   "cell_type": "code",
   "execution_count": 103,
   "id": "086615a1-1414-444d-a615-f6bb93f2ce00",
   "metadata": {},
   "outputs": [
    {
     "data": {
      "text/plain": [
       "ad\n",
       "5     32\n",
       "6     50\n",
       "7     64\n",
       "8    107\n",
       "Name: dif, dtype: int64"
      ]
     },
     "execution_count": 103,
     "metadata": {},
     "output_type": "execute_result"
    }
   ],
   "source": [
    "q.groupby('ad').dif.count()"
   ]
  },
  {
   "cell_type": "code",
   "execution_count": 104,
   "id": "47b2c512-7582-459a-aa6e-45226cee55d2",
   "metadata": {},
   "outputs": [
    {
     "data": {
      "text/plain": [
       "ad\n",
       "5    -1415605\n",
       "6     2901622\n",
       "8     4967234\n",
       "7    10356929\n",
       "Name: dif, dtype: int64"
      ]
     },
     "execution_count": 104,
     "metadata": {},
     "output_type": "execute_result"
    }
   ],
   "source": [
    "q.groupby('ad').dif.mean().astype(int).sort_values()"
   ]
  },
  {
   "cell_type": "code",
   "execution_count": 105,
   "id": "7581aaaf-85b9-4903-8935-f87c258dc2a4",
   "metadata": {},
   "outputs": [],
   "source": [
    "q=q[q.ad==7]"
   ]
  },
  {
   "cell_type": "code",
   "execution_count": 106,
   "id": "d3ca67a0-2217-4b27-aaba-46af011ce193",
   "metadata": {
    "scrolled": true
   },
   "outputs": [
    {
     "data": {
      "text/plain": [
       "train_size_anos\n",
       "5.0     9\n",
       "6.0     8\n",
       "7.0     8\n",
       "8.0     8\n",
       "9.0     7\n",
       "10.0    6\n",
       "11.0    5\n",
       "12.0    5\n",
       "13.0    4\n",
       "14.0    4\n",
       "Name: dif, dtype: int64"
      ]
     },
     "execution_count": 106,
     "metadata": {},
     "output_type": "execute_result"
    }
   ],
   "source": [
    "q.groupby('train_size_anos').dif.count()"
   ]
  },
  {
   "cell_type": "code",
   "execution_count": 107,
   "id": "5bfcb03d-9405-4e66-b1ad-0537a09245fa",
   "metadata": {},
   "outputs": [
    {
     "data": {
      "text/plain": [
       "train_size_anos\n",
       "12.0     6296592\n",
       "5.0      6314775\n",
       "10.0     8169366\n",
       "6.0      8988596\n",
       "7.0     10840219\n",
       "9.0     11276068\n",
       "11.0    11363174\n",
       "8.0     11851536\n",
       "13.0    16837804\n",
       "14.0    17242231\n",
       "Name: dif, dtype: int64"
      ]
     },
     "execution_count": 107,
     "metadata": {},
     "output_type": "execute_result"
    }
   ],
   "source": [
    "q.groupby('train_size_anos').dif.mean().astype(int).sort_values()"
   ]
  },
  {
   "cell_type": "code",
   "execution_count": 108,
   "id": "64c197b3-a38f-42ad-bcf6-5556e8c870cf",
   "metadata": {},
   "outputs": [],
   "source": [
    "q=q[q.train_size_anos==5]"
   ]
  },
  {
   "cell_type": "code",
   "execution_count": 109,
   "id": "82a0606d-6052-4c80-bb1e-a3b49c342a49",
   "metadata": {},
   "outputs": [
    {
     "data": {
      "text/html": [
       "<div>\n",
       "<style scoped>\n",
       "    .dataframe tbody tr th:only-of-type {\n",
       "        vertical-align: middle;\n",
       "    }\n",
       "\n",
       "    .dataframe tbody tr th {\n",
       "        vertical-align: top;\n",
       "    }\n",
       "\n",
       "    .dataframe thead th {\n",
       "        text-align: right;\n",
       "    }\n",
       "</style>\n",
       "<table border=\"1\" class=\"dataframe\">\n",
       "  <thead>\n",
       "    <tr style=\"text-align: right;\">\n",
       "      <th></th>\n",
       "      <th>CO_ANO</th>\n",
       "      <th>CO_MES</th>\n",
       "      <th>KG_LIQUIDO</th>\n",
       "      <th>KG_LIQUIDO_pred_mm</th>\n",
       "      <th>KG_LIQUIDO_pred_s_mm</th>\n",
       "      <th>erro_mm</th>\n",
       "      <th>erro_s_mm</th>\n",
       "      <th>train_size_anos</th>\n",
       "      <th>ad</th>\n",
       "      <th>dif</th>\n",
       "    </tr>\n",
       "  </thead>\n",
       "  <tbody>\n",
       "    <tr>\n",
       "      <th>219</th>\n",
       "      <td>2008</td>\n",
       "      <td>2</td>\n",
       "      <td>14695417.0</td>\n",
       "      <td>38580318</td>\n",
       "      <td>35977605</td>\n",
       "      <td>23884901.0</td>\n",
       "      <td>21282188.0</td>\n",
       "      <td>5.0</td>\n",
       "      <td>7</td>\n",
       "      <td>-2602713.0</td>\n",
       "    </tr>\n",
       "    <tr>\n",
       "      <th>231</th>\n",
       "      <td>2012</td>\n",
       "      <td>2</td>\n",
       "      <td>8694785.0</td>\n",
       "      <td>23326515</td>\n",
       "      <td>26706719</td>\n",
       "      <td>14631730.0</td>\n",
       "      <td>18011934.0</td>\n",
       "      <td>5.0</td>\n",
       "      <td>7</td>\n",
       "      <td>3380204.0</td>\n",
       "    </tr>\n",
       "    <tr>\n",
       "      <th>252</th>\n",
       "      <td>2013</td>\n",
       "      <td>2</td>\n",
       "      <td>12115066.0</td>\n",
       "      <td>20368726</td>\n",
       "      <td>28049895</td>\n",
       "      <td>8253660.0</td>\n",
       "      <td>15934829.0</td>\n",
       "      <td>5.0</td>\n",
       "      <td>7</td>\n",
       "      <td>7681169.0</td>\n",
       "    </tr>\n",
       "    <tr>\n",
       "      <th>311</th>\n",
       "      <td>2018</td>\n",
       "      <td>2</td>\n",
       "      <td>37623692.0</td>\n",
       "      <td>55750554</td>\n",
       "      <td>83343207</td>\n",
       "      <td>18126862.0</td>\n",
       "      <td>45719515.0</td>\n",
       "      <td>5.0</td>\n",
       "      <td>7</td>\n",
       "      <td>27592653.0</td>\n",
       "    </tr>\n",
       "    <tr>\n",
       "      <th>341</th>\n",
       "      <td>2019</td>\n",
       "      <td>2</td>\n",
       "      <td>41055926.0</td>\n",
       "      <td>123235073</td>\n",
       "      <td>131822984</td>\n",
       "      <td>82179147.0</td>\n",
       "      <td>90767058.0</td>\n",
       "      <td>5.0</td>\n",
       "      <td>7</td>\n",
       "      <td>8587911.0</td>\n",
       "    </tr>\n",
       "    <tr>\n",
       "      <th>439</th>\n",
       "      <td>2015</td>\n",
       "      <td>2</td>\n",
       "      <td>59803933.0</td>\n",
       "      <td>51314754</td>\n",
       "      <td>63874325</td>\n",
       "      <td>8489179.0</td>\n",
       "      <td>4070392.0</td>\n",
       "      <td>5.0</td>\n",
       "      <td>7</td>\n",
       "      <td>-4418787.0</td>\n",
       "    </tr>\n",
       "    <tr>\n",
       "      <th>530</th>\n",
       "      <td>2020</td>\n",
       "      <td>2</td>\n",
       "      <td>67158087.0</td>\n",
       "      <td>98879166</td>\n",
       "      <td>102396185</td>\n",
       "      <td>31721079.0</td>\n",
       "      <td>35238098.0</td>\n",
       "      <td>5.0</td>\n",
       "      <td>7</td>\n",
       "      <td>3517019.0</td>\n",
       "    </tr>\n",
       "    <tr>\n",
       "      <th>560</th>\n",
       "      <td>2023</td>\n",
       "      <td>2</td>\n",
       "      <td>66172521.0</td>\n",
       "      <td>78317688</td>\n",
       "      <td>92090154</td>\n",
       "      <td>12145167.0</td>\n",
       "      <td>25917633.0</td>\n",
       "      <td>5.0</td>\n",
       "      <td>7</td>\n",
       "      <td>13772466.0</td>\n",
       "    </tr>\n",
       "    <tr>\n",
       "      <th>582</th>\n",
       "      <td>2011</td>\n",
       "      <td>2</td>\n",
       "      <td>5957710.0</td>\n",
       "      <td>22913795</td>\n",
       "      <td>22236850</td>\n",
       "      <td>16956085.0</td>\n",
       "      <td>16279140.0</td>\n",
       "      <td>5.0</td>\n",
       "      <td>7</td>\n",
       "      <td>-676945.0</td>\n",
       "    </tr>\n",
       "  </tbody>\n",
       "</table>\n",
       "</div>"
      ],
      "text/plain": [
       "     CO_ANO  CO_MES  KG_LIQUIDO  KG_LIQUIDO_pred_mm  KG_LIQUIDO_pred_s_mm  \\\n",
       "219    2008       2  14695417.0            38580318              35977605   \n",
       "231    2012       2   8694785.0            23326515              26706719   \n",
       "252    2013       2  12115066.0            20368726              28049895   \n",
       "311    2018       2  37623692.0            55750554              83343207   \n",
       "341    2019       2  41055926.0           123235073             131822984   \n",
       "439    2015       2  59803933.0            51314754              63874325   \n",
       "530    2020       2  67158087.0            98879166             102396185   \n",
       "560    2023       2  66172521.0            78317688              92090154   \n",
       "582    2011       2   5957710.0            22913795              22236850   \n",
       "\n",
       "        erro_mm   erro_s_mm  train_size_anos  ad         dif  \n",
       "219  23884901.0  21282188.0              5.0   7  -2602713.0  \n",
       "231  14631730.0  18011934.0              5.0   7   3380204.0  \n",
       "252   8253660.0  15934829.0              5.0   7   7681169.0  \n",
       "311  18126862.0  45719515.0              5.0   7  27592653.0  \n",
       "341  82179147.0  90767058.0              5.0   7   8587911.0  \n",
       "439   8489179.0   4070392.0              5.0   7  -4418787.0  \n",
       "530  31721079.0  35238098.0              5.0   7   3517019.0  \n",
       "560  12145167.0  25917633.0              5.0   7  13772466.0  \n",
       "582  16956085.0  16279140.0              5.0   7   -676945.0  "
      ]
     },
     "execution_count": 109,
     "metadata": {},
     "output_type": "execute_result"
    }
   ],
   "source": [
    "q"
   ]
  },
  {
   "cell_type": "code",
   "execution_count": 110,
   "id": "12308f75-e7b1-4abe-9fd0-e255f923dae1",
   "metadata": {},
   "outputs": [],
   "source": [
    "m=q.dif.mean()"
   ]
  },
  {
   "cell_type": "code",
   "execution_count": 111,
   "id": "9a851650-24d8-43a5-b6fa-c76c06e4ac0c",
   "metadata": {},
   "outputs": [],
   "source": [
    "s=q.dif.std()"
   ]
  },
  {
   "cell_type": "code",
   "execution_count": 183,
   "id": "d898441c-24df-4f37-bec9-d9fafd253fef",
   "metadata": {},
   "outputs": [
    {
     "data": {
      "text/plain": [
       "<seaborn.axisgrid.FacetGrid at 0x7f5ed6e4ab90>"
      ]
     },
     "execution_count": 183,
     "metadata": {},
     "output_type": "execute_result"
    },
    {
     "data": {
      "image/png": "[encoded data removed]",
      "text/plain": [
       "<Figure size 500x500 with 1 Axes>"
      ]
     },
     "metadata": {},
     "output_type": "display_data"
    }
   ],
   "source": [
    "import numpy as np\n",
    "# Step 3. Repeat steps 1 & 2 many times, appending to a list\n",
    "so_boot_distn = []\n",
    "for i in range(2000):\n",
    "    so_boot_distn.append(q.sample(frac=1, replace=True)['dif'].mean())\n",
    "\n",
    "sns.displot(so_boot_distn)"
   ]
  },
  {
   "cell_type": "code",
   "execution_count": 184,
   "id": "b08d43a2-14df-49c7-9f29-1bae1b97cbab",
   "metadata": {},
   "outputs": [],
   "source": [
    "m=np.mean(so_boot_distn)\n",
    "s=np.std(so_boot_distn)"
   ]
  },
  {
   "cell_type": "code",
   "execution_count": 185,
   "id": "c2098351-cada-4852-978c-c371b55ce5e3",
   "metadata": {},
   "outputs": [
    {
     "data": {
      "text/plain": [
       "-2.0027075470790923"
      ]
     },
     "execution_count": 185,
     "metadata": {},
     "output_type": "execute_result"
    }
   ],
   "source": [
    "z_score=(0-m)/s\n",
    "z_score"
   ]
  },
  {
   "cell_type": "code",
   "execution_count": 186,
   "id": "2bc286ce-59af-4fde-b585-230436e67f8a",
   "metadata": {},
   "outputs": [],
   "source": [
    "from scipy.stats import norm"
   ]
  },
  {
   "cell_type": "code",
   "execution_count": 191,
   "id": "548c2c47-c883-4aaa-9a86-b0dc43dcc076",
   "metadata": {},
   "outputs": [
    {
     "data": {
      "text/plain": [
       "0.9773956558734979"
      ]
     },
     "execution_count": 191,
     "metadata": {},
     "output_type": "execute_result"
    }
   ],
   "source": [
    "1-norm.cdf(z_score,loc=0,scale=1)"
   ]
  },
  {
   "cell_type": "code",
   "execution_count": null,
   "id": "97d2094b-9ca1-48be-bc99-942a1544a298",
   "metadata": {},
   "outputs": [],
   "source": []
  },
  {
   "cell_type": "code",
   "execution_count": null,
   "id": "4bcfc351-9251-4d1b-9b47-1953257afb0d",
   "metadata": {},
   "outputs": [],
   "source": []
  },
  {
   "cell_type": "code",
   "execution_count": null,
   "id": "234dfae5-711c-4cbe-9b3d-0afa72a1d2cc",
   "metadata": {},
   "outputs": [],
   "source": []
  },
  {
   "cell_type": "code",
   "execution_count": 38,
   "id": "2296fcc8-d0e8-4c93-9176-6f90598be34d",
   "metadata": {},
   "outputs": [],
   "source": [
    "q.to_csv('~/git/Pricing-Fertilizer-take-Rains-into-account/temp/q1.csv', index=False)"
   ]
  },
  {
   "cell_type": "code",
   "execution_count": null,
   "id": "03b5f150-15bd-4860-b72b-b5cfac2e6069",
   "metadata": {},
   "outputs": [],
   "source": []
  },
  {
   "cell_type": "code",
   "execution_count": null,
   "id": "bcb9b8fa-a796-4361-ad74-23154d74fd91",
   "metadata": {},
   "outputs": [],
   "source": []
  }
 ],
 "metadata": {
  "kernelspec": {
   "display_name": "Python 3 (ipykernel)",
   "language": "python",
   "name": "python3"
  },
  "language_info": {
   "codemirror_mode": {
    "name": "ipython",
    "version": 3
   },
   "file_extension": ".py",
   "mimetype": "text/x-python",
   "name": "python",
   "nbconvert_exporter": "python",
   "pygments_lexer": "ipython3",
   "version": "3.11.5"
  }
 },
 "nbformat": 4,
 "nbformat_minor": 5
}
