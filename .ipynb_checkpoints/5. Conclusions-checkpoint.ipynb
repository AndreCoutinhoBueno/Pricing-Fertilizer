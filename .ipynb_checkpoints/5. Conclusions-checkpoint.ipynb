{
 "cells": [
  {
   "cell_type": "code",
   "execution_count": 1,
   "id": "112f055f-d41d-4397-bc14-edf2c20c95e0",
   "metadata": {},
   "outputs": [],
   "source": [
    "# Importa as bibliotecas necessárias\n",
    "%run '~/git/Bibliotecas.ipynb'"
   ]
  },
  {
   "cell_type": "markdown",
   "id": "19e6a37b-9dc8-443f-bb5e-b97f9daafb6c",
   "metadata": {},
   "source": [
    "# Importação"
   ]
  },
  {
   "cell_type": "code",
   "execution_count": 2,
   "id": "be8b49cd-7861-426d-b93d-cda65a0a924f",
   "metadata": {},
   "outputs": [
    {
     "data": {
      "text/html": [
       "<div>\n",
       "<style scoped>\n",
       "    .dataframe tbody tr th:only-of-type {\n",
       "        vertical-align: middle;\n",
       "    }\n",
       "\n",
       "    .dataframe tbody tr th {\n",
       "        vertical-align: top;\n",
       "    }\n",
       "\n",
       "    .dataframe thead th {\n",
       "        text-align: right;\n",
       "    }\n",
       "</style>\n",
       "<table border=\"1\" class=\"dataframe\">\n",
       "  <thead>\n",
       "    <tr style=\"text-align: right;\">\n",
       "      <th></th>\n",
       "      <th>kton</th>\n",
       "      <th>mm</th>\n",
       "      <th>date</th>\n",
       "      <th>CO_MES_1</th>\n",
       "      <th>CO_MES_2</th>\n",
       "      <th>CO_MES_3</th>\n",
       "      <th>CO_MES_4</th>\n",
       "      <th>CO_MES_5</th>\n",
       "      <th>CO_MES_6</th>\n",
       "      <th>CO_MES_7</th>\n",
       "      <th>...</th>\n",
       "      <th>CO_MES_10</th>\n",
       "      <th>CO_MES_11</th>\n",
       "      <th>CO_MES_12</th>\n",
       "      <th>kton_pred_mm</th>\n",
       "      <th>kton_pred_s_mm</th>\n",
       "      <th>ad</th>\n",
       "      <th>train_size_anos</th>\n",
       "      <th>md</th>\n",
       "      <th>erro_mm</th>\n",
       "      <th>erro_s_mm</th>\n",
       "    </tr>\n",
       "  </thead>\n",
       "  <tbody>\n",
       "    <tr>\n",
       "      <th>0</th>\n",
       "      <td>53.557361</td>\n",
       "      <td>0.4</td>\n",
       "      <td>1185926400000000000</td>\n",
       "      <td>False</td>\n",
       "      <td>False</td>\n",
       "      <td>False</td>\n",
       "      <td>False</td>\n",
       "      <td>False</td>\n",
       "      <td>False</td>\n",
       "      <td>False</td>\n",
       "      <td>...</td>\n",
       "      <td>False</td>\n",
       "      <td>False</td>\n",
       "      <td>False</td>\n",
       "      <td>48</td>\n",
       "      <td>61</td>\n",
       "      <td>7</td>\n",
       "      <td>5.0</td>\n",
       "      <td>NaN</td>\n",
       "      <td>5.557361</td>\n",
       "      <td>7.442639</td>\n",
       "    </tr>\n",
       "    <tr>\n",
       "      <th>1</th>\n",
       "      <td>50.424205</td>\n",
       "      <td>0.3</td>\n",
       "      <td>1188604800000000000</td>\n",
       "      <td>False</td>\n",
       "      <td>False</td>\n",
       "      <td>False</td>\n",
       "      <td>False</td>\n",
       "      <td>False</td>\n",
       "      <td>False</td>\n",
       "      <td>False</td>\n",
       "      <td>...</td>\n",
       "      <td>False</td>\n",
       "      <td>False</td>\n",
       "      <td>False</td>\n",
       "      <td>57</td>\n",
       "      <td>63</td>\n",
       "      <td>7</td>\n",
       "      <td>5.0</td>\n",
       "      <td>NaN</td>\n",
       "      <td>6.575795</td>\n",
       "      <td>12.575795</td>\n",
       "    </tr>\n",
       "    <tr>\n",
       "      <th>2</th>\n",
       "      <td>79.445819</td>\n",
       "      <td>0.0</td>\n",
       "      <td>1191196800000000000</td>\n",
       "      <td>False</td>\n",
       "      <td>False</td>\n",
       "      <td>False</td>\n",
       "      <td>False</td>\n",
       "      <td>False</td>\n",
       "      <td>False</td>\n",
       "      <td>False</td>\n",
       "      <td>...</td>\n",
       "      <td>True</td>\n",
       "      <td>False</td>\n",
       "      <td>False</td>\n",
       "      <td>42</td>\n",
       "      <td>57</td>\n",
       "      <td>7</td>\n",
       "      <td>5.0</td>\n",
       "      <td>NaN</td>\n",
       "      <td>37.445819</td>\n",
       "      <td>22.445819</td>\n",
       "    </tr>\n",
       "    <tr>\n",
       "      <th>3</th>\n",
       "      <td>56.522721</td>\n",
       "      <td>8.8</td>\n",
       "      <td>1193875200000000000</td>\n",
       "      <td>False</td>\n",
       "      <td>False</td>\n",
       "      <td>False</td>\n",
       "      <td>False</td>\n",
       "      <td>False</td>\n",
       "      <td>False</td>\n",
       "      <td>False</td>\n",
       "      <td>...</td>\n",
       "      <td>False</td>\n",
       "      <td>True</td>\n",
       "      <td>False</td>\n",
       "      <td>69</td>\n",
       "      <td>65</td>\n",
       "      <td>7</td>\n",
       "      <td>5.0</td>\n",
       "      <td>NaN</td>\n",
       "      <td>12.477279</td>\n",
       "      <td>8.477279</td>\n",
       "    </tr>\n",
       "    <tr>\n",
       "      <th>4</th>\n",
       "      <td>40.785987</td>\n",
       "      <td>0.4</td>\n",
       "      <td>1196467200000000000</td>\n",
       "      <td>False</td>\n",
       "      <td>False</td>\n",
       "      <td>False</td>\n",
       "      <td>False</td>\n",
       "      <td>False</td>\n",
       "      <td>False</td>\n",
       "      <td>False</td>\n",
       "      <td>...</td>\n",
       "      <td>False</td>\n",
       "      <td>False</td>\n",
       "      <td>True</td>\n",
       "      <td>57</td>\n",
       "      <td>59</td>\n",
       "      <td>7</td>\n",
       "      <td>5.0</td>\n",
       "      <td>NaN</td>\n",
       "      <td>16.214013</td>\n",
       "      <td>18.214013</td>\n",
       "    </tr>\n",
       "    <tr>\n",
       "      <th>...</th>\n",
       "      <td>...</td>\n",
       "      <td>...</td>\n",
       "      <td>...</td>\n",
       "      <td>...</td>\n",
       "      <td>...</td>\n",
       "      <td>...</td>\n",
       "      <td>...</td>\n",
       "      <td>...</td>\n",
       "      <td>...</td>\n",
       "      <td>...</td>\n",
       "      <td>...</td>\n",
       "      <td>...</td>\n",
       "      <td>...</td>\n",
       "      <td>...</td>\n",
       "      <td>...</td>\n",
       "      <td>...</td>\n",
       "      <td>...</td>\n",
       "      <td>...</td>\n",
       "      <td>...</td>\n",
       "      <td>...</td>\n",
       "      <td>...</td>\n",
       "    </tr>\n",
       "    <tr>\n",
       "      <th>1423</th>\n",
       "      <td>240.914358</td>\n",
       "      <td>19.9</td>\n",
       "      <td>1696118400000000000</td>\n",
       "      <td>False</td>\n",
       "      <td>False</td>\n",
       "      <td>False</td>\n",
       "      <td>False</td>\n",
       "      <td>False</td>\n",
       "      <td>False</td>\n",
       "      <td>False</td>\n",
       "      <td>...</td>\n",
       "      <td>True</td>\n",
       "      <td>False</td>\n",
       "      <td>False</td>\n",
       "      <td>133</td>\n",
       "      <td>136</td>\n",
       "      <td>8</td>\n",
       "      <td>8.0</td>\n",
       "      <td>1.0</td>\n",
       "      <td>107.914358</td>\n",
       "      <td>104.914358</td>\n",
       "    </tr>\n",
       "    <tr>\n",
       "      <th>1424</th>\n",
       "      <td>90.119779</td>\n",
       "      <td>83.2</td>\n",
       "      <td>1698796800000000000</td>\n",
       "      <td>False</td>\n",
       "      <td>False</td>\n",
       "      <td>False</td>\n",
       "      <td>False</td>\n",
       "      <td>False</td>\n",
       "      <td>False</td>\n",
       "      <td>False</td>\n",
       "      <td>...</td>\n",
       "      <td>False</td>\n",
       "      <td>True</td>\n",
       "      <td>False</td>\n",
       "      <td>163</td>\n",
       "      <td>178</td>\n",
       "      <td>8</td>\n",
       "      <td>5.0</td>\n",
       "      <td>1.0</td>\n",
       "      <td>72.880221</td>\n",
       "      <td>87.880221</td>\n",
       "    </tr>\n",
       "    <tr>\n",
       "      <th>1425</th>\n",
       "      <td>90.119779</td>\n",
       "      <td>83.2</td>\n",
       "      <td>1698796800000000000</td>\n",
       "      <td>False</td>\n",
       "      <td>False</td>\n",
       "      <td>False</td>\n",
       "      <td>False</td>\n",
       "      <td>False</td>\n",
       "      <td>False</td>\n",
       "      <td>False</td>\n",
       "      <td>...</td>\n",
       "      <td>False</td>\n",
       "      <td>True</td>\n",
       "      <td>False</td>\n",
       "      <td>141</td>\n",
       "      <td>141</td>\n",
       "      <td>8</td>\n",
       "      <td>8.0</td>\n",
       "      <td>1.0</td>\n",
       "      <td>50.880221</td>\n",
       "      <td>50.880221</td>\n",
       "    </tr>\n",
       "    <tr>\n",
       "      <th>1426</th>\n",
       "      <td>128.496690</td>\n",
       "      <td>50.5</td>\n",
       "      <td>1701388800000000000</td>\n",
       "      <td>False</td>\n",
       "      <td>False</td>\n",
       "      <td>False</td>\n",
       "      <td>False</td>\n",
       "      <td>False</td>\n",
       "      <td>False</td>\n",
       "      <td>False</td>\n",
       "      <td>...</td>\n",
       "      <td>False</td>\n",
       "      <td>False</td>\n",
       "      <td>True</td>\n",
       "      <td>145</td>\n",
       "      <td>151</td>\n",
       "      <td>8</td>\n",
       "      <td>5.0</td>\n",
       "      <td>1.0</td>\n",
       "      <td>16.503310</td>\n",
       "      <td>22.503310</td>\n",
       "    </tr>\n",
       "    <tr>\n",
       "      <th>1427</th>\n",
       "      <td>128.496690</td>\n",
       "      <td>50.5</td>\n",
       "      <td>1701388800000000000</td>\n",
       "      <td>False</td>\n",
       "      <td>False</td>\n",
       "      <td>False</td>\n",
       "      <td>False</td>\n",
       "      <td>False</td>\n",
       "      <td>False</td>\n",
       "      <td>False</td>\n",
       "      <td>...</td>\n",
       "      <td>False</td>\n",
       "      <td>False</td>\n",
       "      <td>True</td>\n",
       "      <td>139</td>\n",
       "      <td>141</td>\n",
       "      <td>8</td>\n",
       "      <td>8.0</td>\n",
       "      <td>1.0</td>\n",
       "      <td>10.503310</td>\n",
       "      <td>12.503310</td>\n",
       "    </tr>\n",
       "  </tbody>\n",
       "</table>\n",
       "<p>1428 rows × 22 columns</p>\n",
       "</div>"
      ],
      "text/plain": [
       "            kton    mm                 date  CO_MES_1  CO_MES_2  CO_MES_3  \\\n",
       "0      53.557361   0.4  1185926400000000000     False     False     False   \n",
       "1      50.424205   0.3  1188604800000000000     False     False     False   \n",
       "2      79.445819   0.0  1191196800000000000     False     False     False   \n",
       "3      56.522721   8.8  1193875200000000000     False     False     False   \n",
       "4      40.785987   0.4  1196467200000000000     False     False     False   \n",
       "...          ...   ...                  ...       ...       ...       ...   \n",
       "1423  240.914358  19.9  1696118400000000000     False     False     False   \n",
       "1424   90.119779  83.2  1698796800000000000     False     False     False   \n",
       "1425   90.119779  83.2  1698796800000000000     False     False     False   \n",
       "1426  128.496690  50.5  1701388800000000000     False     False     False   \n",
       "1427  128.496690  50.5  1701388800000000000     False     False     False   \n",
       "\n",
       "      CO_MES_4  CO_MES_5  CO_MES_6  CO_MES_7  ...  CO_MES_10  CO_MES_11  \\\n",
       "0        False     False     False     False  ...      False      False   \n",
       "1        False     False     False     False  ...      False      False   \n",
       "2        False     False     False     False  ...       True      False   \n",
       "3        False     False     False     False  ...      False       True   \n",
       "4        False     False     False     False  ...      False      False   \n",
       "...        ...       ...       ...       ...  ...        ...        ...   \n",
       "1423     False     False     False     False  ...       True      False   \n",
       "1424     False     False     False     False  ...      False       True   \n",
       "1425     False     False     False     False  ...      False       True   \n",
       "1426     False     False     False     False  ...      False      False   \n",
       "1427     False     False     False     False  ...      False      False   \n",
       "\n",
       "      CO_MES_12  kton_pred_mm  kton_pred_s_mm  ad  train_size_anos   md  \\\n",
       "0         False            48              61   7              5.0  NaN   \n",
       "1         False            57              63   7              5.0  NaN   \n",
       "2         False            42              57   7              5.0  NaN   \n",
       "3         False            69              65   7              5.0  NaN   \n",
       "4          True            57              59   7              5.0  NaN   \n",
       "...         ...           ...             ...  ..              ...  ...   \n",
       "1423      False           133             136   8              8.0  1.0   \n",
       "1424      False           163             178   8              5.0  1.0   \n",
       "1425      False           141             141   8              8.0  1.0   \n",
       "1426       True           145             151   8              5.0  1.0   \n",
       "1427       True           139             141   8              8.0  1.0   \n",
       "\n",
       "         erro_mm   erro_s_mm  \n",
       "0       5.557361    7.442639  \n",
       "1       6.575795   12.575795  \n",
       "2      37.445819   22.445819  \n",
       "3      12.477279    8.477279  \n",
       "4      16.214013   18.214013  \n",
       "...          ...         ...  \n",
       "1423  107.914358  104.914358  \n",
       "1424   72.880221   87.880221  \n",
       "1425   50.880221   50.880221  \n",
       "1426   16.503310   22.503310  \n",
       "1427   10.503310   12.503310  \n",
       "\n",
       "[1428 rows x 22 columns]"
      ]
     },
     "execution_count": 2,
     "metadata": {},
     "output_type": "execute_result"
    }
   ],
   "source": [
    "# Carrega a base de dados contendo os registros de importação de fertilizantes\n",
    "q=pd.read_csv('~/git/Pricing-Fertilizer-take-Rains-into-account/temp/q.csv')\n",
    "q"
   ]
  },
  {
   "cell_type": "code",
   "execution_count": 3,
   "id": "8e306e2e-3139-4942-a6b6-bf5b31079b25",
   "metadata": {},
   "outputs": [],
   "source": [
    "q['dif']=q.erro_s_mm-q.erro_mm"
   ]
  },
  {
   "cell_type": "code",
   "execution_count": 4,
   "id": "23f4a436-cf64-42c6-a525-38443b86db70",
   "metadata": {},
   "outputs": [
    {
     "data": {
      "text/plain": [
       "3.557735054621849"
      ]
     },
     "execution_count": 4,
     "metadata": {},
     "output_type": "execute_result"
    }
   ],
   "source": [
    "q.dif.mean()"
   ]
  },
  {
   "cell_type": "code",
   "execution_count": 5,
   "id": "00575b94-e87e-4a60-96b1-a02c10331c06",
   "metadata": {},
   "outputs": [],
   "source": [
    "q.date=pd.to_datetime(q.date)"
   ]
  },
  {
   "cell_type": "code",
   "execution_count": 6,
   "id": "b5f5103c-45c0-483c-8c88-c3b60ced48c8",
   "metadata": {},
   "outputs": [],
   "source": [
    "q['CO_ANO']=q.date.dt.year"
   ]
  },
  {
   "cell_type": "code",
   "execution_count": 7,
   "id": "ac2fcb82-3235-4c13-b7c4-367c4482b3cf",
   "metadata": {},
   "outputs": [],
   "source": [
    "q['CO_MES']=q.date.dt.month"
   ]
  },
  {
   "cell_type": "code",
   "execution_count": 8,
   "id": "04403596-841b-4773-960b-c35195c5340f",
   "metadata": {},
   "outputs": [
    {
     "data": {
      "text/plain": [
       "<seaborn.axisgrid.FacetGrid at 0x7f04445421d0>"
      ]
     },
     "execution_count": 8,
     "metadata": {},
     "output_type": "execute_result"
    },
    {
     "data": {
      "image/png": "[encoded data removed]",
      "text/plain": [
       "<Figure size 320x200 with 1 Axes>"
      ]
     },
     "metadata": {},
     "output_type": "display_data"
    }
   ],
   "source": [
    "plt.style.use('ggplot')\n",
    "sns.relplot(data=q.groupby('CO_ANO').dif.mean().reset_index(),x='CO_ANO',y='dif',kind='line',height=2,aspect=1.6)"
   ]
  },
  {
   "cell_type": "code",
   "execution_count": 9,
   "id": "f50891a1-c32c-419e-9a57-1ce213f4220a",
   "metadata": {},
   "outputs": [
    {
     "data": {
      "text/plain": [
       "<seaborn.axisgrid.FacetGrid at 0x7f03fc206790>"
      ]
     },
     "execution_count": 9,
     "metadata": {},
     "output_type": "execute_result"
    },
    {
     "data": {
      "image/png": "[encoded data removed]",
      "text/plain": [
       "<Figure size 320x200 with 1 Axes>"
      ]
     },
     "metadata": {},
     "output_type": "display_data"
    }
   ],
   "source": [
    "sns.relplot(data=q.groupby('CO_MES').dif.mean().reset_index(),x='CO_MES',y='dif',kind='line',height=2,aspect=1.6)"
   ]
  },
  {
   "cell_type": "code",
   "execution_count": 10,
   "id": "f264e541-a5db-41ae-a0af-d2b54610b72b",
   "metadata": {},
   "outputs": [
    {
     "data": {
      "text/plain": [
       "<seaborn.axisgrid.FacetGrid at 0x7f03fc217ad0>"
      ]
     },
     "execution_count": 10,
     "metadata": {},
     "output_type": "execute_result"
    },
    {
     "data": {
      "image/png": "[encoded data removed]",
      "text/plain": [
       "<Figure size 320x200 with 1 Axes>"
      ]
     },
     "metadata": {},
     "output_type": "display_data"
    }
   ],
   "source": [
    "sns.relplot(data=q.groupby('ad').dif.mean().reset_index(),x='ad',y='dif',kind='line',height=2,aspect=1.6)"
   ]
  },
  {
   "cell_type": "code",
   "execution_count": 11,
   "id": "98b49933-9b94-43e2-ae9a-428c031e485e",
   "metadata": {},
   "outputs": [
    {
     "data": {
      "text/plain": [
       "<seaborn.axisgrid.FacetGrid at 0x7f03fc1f7ad0>"
      ]
     },
     "execution_count": 11,
     "metadata": {},
     "output_type": "execute_result"
    },
    {
     "data": {
      "image/png": "[encoded data removed]",
      "text/plain": [
       "<Figure size 320x200 with 1 Axes>"
      ]
     },
     "metadata": {},
     "output_type": "display_data"
    }
   ],
   "source": [
    "sns.relplot(data=q.groupby('train_size_anos').dif.mean().reset_index(),x='train_size_anos',y='dif',kind='line',height=2,aspect=1.6)"
   ]
  },
  {
   "cell_type": "code",
   "execution_count": 12,
   "id": "04f0babe-5ec4-4e31-8bb2-8394788dd10f",
   "metadata": {},
   "outputs": [
    {
     "data": {
      "text/plain": [
       "<seaborn.axisgrid.FacetGrid at 0x7f03fb5bb910>"
      ]
     },
     "execution_count": 12,
     "metadata": {},
     "output_type": "execute_result"
    },
    {
     "data": {
      "image/png": "[encoded data removed]",
      "text/plain": [
       "<Figure size 320x200 with 1 Axes>"
      ]
     },
     "metadata": {},
     "output_type": "display_data"
    }
   ],
   "source": [
    "q.md=q.md.astype(str)\n",
    "sns.relplot(data=q.groupby('md').dif.mean().reset_index(),x='md',y='dif',kind='line',height=2,aspect=1.6)"
   ]
  },
  {
   "cell_type": "raw",
   "id": "3055eff1-3bc0-48db-a3fb-719525723bde",
   "metadata": {},
   "source": [
    "q=q[q.CO_MES_1==True]"
   ]
  },
  {
   "cell_type": "code",
   "execution_count": 13,
   "id": "d898441c-24df-4f37-bec9-d9fafd253fef",
   "metadata": {},
   "outputs": [
    {
     "data": {
      "text/plain": [
       "<seaborn.axisgrid.FacetGrid at 0x7f03fb53b490>"
      ]
     },
     "execution_count": 13,
     "metadata": {},
     "output_type": "execute_result"
    },
    {
     "data": {
      "image/png": "[encoded data removed]",
      "text/plain": [
       "<Figure size 500x500 with 1 Axes>"
      ]
     },
     "metadata": {},
     "output_type": "display_data"
    }
   ],
   "source": [
    "import numpy as np\n",
    "# Step 3. Repeat steps 1 & 2 many times, appending to a list\n",
    "so_boot_distn = []\n",
    "for i in range(2000):\n",
    "    so_boot_distn.append(q.sample(frac=1, replace=True)['dif'].mean())\n",
    "\n",
    "sns.displot(so_boot_distn)"
   ]
  },
  {
   "cell_type": "code",
   "execution_count": 14,
   "id": "b08d43a2-14df-49c7-9f29-1bae1b97cbab",
   "metadata": {},
   "outputs": [],
   "source": [
    "m=np.mean(so_boot_distn)\n",
    "s=np.std(so_boot_distn)"
   ]
  },
  {
   "cell_type": "code",
   "execution_count": 15,
   "id": "c2098351-cada-4852-978c-c371b55ce5e3",
   "metadata": {},
   "outputs": [
    {
     "data": {
      "text/plain": [
       "-8.220717167480101"
      ]
     },
     "execution_count": 15,
     "metadata": {},
     "output_type": "execute_result"
    }
   ],
   "source": [
    "z_score=(0-m)/s\n",
    "z_score"
   ]
  },
  {
   "cell_type": "code",
   "execution_count": 16,
   "id": "2bc286ce-59af-4fde-b585-230436e67f8a",
   "metadata": {},
   "outputs": [],
   "source": [
    "from scipy.stats import norm"
   ]
  },
  {
   "cell_type": "code",
   "execution_count": 17,
   "id": "548c2c47-c883-4aaa-9a86-b0dc43dcc076",
   "metadata": {},
   "outputs": [
    {
     "data": {
      "text/plain": [
       "0.9999999999999999"
      ]
     },
     "execution_count": 17,
     "metadata": {},
     "output_type": "execute_result"
    }
   ],
   "source": [
    "1-norm.cdf(z_score,loc=0,scale=1)"
   ]
  }
 ],
 "metadata": {
  "kernelspec": {
   "display_name": "Python 3 (ipykernel)",
   "language": "python",
   "name": "python3"
  },
  "language_info": {
   "codemirror_mode": {
    "name": "ipython",
    "version": 3
   },
   "file_extension": ".py",
   "mimetype": "text/x-python",
   "name": "python",
   "nbconvert_exporter": "python",
   "pygments_lexer": "ipython3",
   "version": "3.11.5"
  }
 },
 "nbformat": 4,
 "nbformat_minor": 5
}
