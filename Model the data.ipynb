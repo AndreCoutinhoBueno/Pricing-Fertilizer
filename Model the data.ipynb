{
 "cells": [
  {
   "cell_type": "code",
   "execution_count": 1,
   "id": "7a3cd879-a334-4030-be83-ca4c3e2998c1",
   "metadata": {},
   "outputs": [],
   "source": [
    "# Importa as bibliotecas necessárias\n",
    "%run '~/git/Bibliotecas.ipynb'"
   ]
  },
  {
   "cell_type": "code",
   "execution_count": 2,
   "id": "a0a8875a-5e76-4929-a97c-905c6686c858",
   "metadata": {},
   "outputs": [
    {
     "data": {
      "text/html": [
       "<div>\n",
       "<style scoped>\n",
       "    .dataframe tbody tr th:only-of-type {\n",
       "        vertical-align: middle;\n",
       "    }\n",
       "\n",
       "    .dataframe tbody tr th {\n",
       "        vertical-align: top;\n",
       "    }\n",
       "\n",
       "    .dataframe thead th {\n",
       "        text-align: right;\n",
       "    }\n",
       "</style>\n",
       "<table border=\"1\" class=\"dataframe\">\n",
       "  <thead>\n",
       "    <tr style=\"text-align: right;\">\n",
       "      <th></th>\n",
       "      <th>date</th>\n",
       "      <th>CO_ANO</th>\n",
       "      <th>CO_MES</th>\n",
       "      <th>KG_LIQUIDO</th>\n",
       "      <th>mm</th>\n",
       "    </tr>\n",
       "  </thead>\n",
       "  <tbody>\n",
       "    <tr>\n",
       "      <th>0</th>\n",
       "      <td>2001-12-01</td>\n",
       "      <td>2001</td>\n",
       "      <td>12</td>\n",
       "      <td>28011377.0</td>\n",
       "      <td>23.2</td>\n",
       "    </tr>\n",
       "  </tbody>\n",
       "</table>\n",
       "</div>"
      ],
      "text/plain": [
       "        date  CO_ANO  CO_MES  KG_LIQUIDO    mm\n",
       "0 2001-12-01    2001      12  28011377.0  23.2"
      ]
     },
     "execution_count": 2,
     "metadata": {},
     "output_type": "execute_result"
    }
   ],
   "source": [
    "# Carrega as tabelas\n",
    "i=pd.read_csv('~/git/Pricing-Fertilizer-take-Rains-into-account/temp/i.csv')\n",
    "c=pd.read_csv('~/git/Pricing-Fertilizer-take-Rains-into-account/temp/c.csv')\n",
    "\n",
    "# Funde as tabelas\n",
    "i_c=i.merge(c)\n",
    "\n",
    "# Seleciona e ordena as colunas\n",
    "i_c=i_c[i_c.columns[[3,0,1,2,4]]]\n",
    "i_c.date=pd.to_datetime(i_c.date)\n",
    "i_c.head(1)"
   ]
  },
  {
   "cell_type": "code",
   "execution_count": null,
   "id": "91dace11-44d0-4b41-ab1a-2b4c87f71e78",
   "metadata": {},
   "outputs": [],
   "source": []
  }
 ],
 "metadata": {
  "kernelspec": {
   "display_name": "Python 3 (ipykernel)",
   "language": "python",
   "name": "python3"
  },
  "language_info": {
   "codemirror_mode": {
    "name": "ipython",
    "version": 3
   },
   "file_extension": ".py",
   "mimetype": "text/x-python",
   "name": "python",
   "nbconvert_exporter": "python",
   "pygments_lexer": "ipython3",
   "version": "3.11.5"
  }
 },
 "nbformat": 4,
 "nbformat_minor": 5
}
