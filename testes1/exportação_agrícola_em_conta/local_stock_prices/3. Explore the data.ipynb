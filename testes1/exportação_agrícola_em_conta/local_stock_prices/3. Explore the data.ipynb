{
 "cells": [
  {
   "cell_type": "code",
   "execution_count": 1,
   "id": "3794692a-4de3-4f25-ad33-e79f5d07b708",
   "metadata": {},
   "outputs": [],
   "source": [
    "import pandas as pd\n",
    "\n",
    "# Carrega a base de dados contendo os registros de importação de fertilizantes\n",
    "comex=pd.read_csv('/home/andre301267/git/BD/temp/comex.csv').sort_values(by=['CO_ANO','CO_MES'])"
   ]
  },
  {
   "cell_type": "code",
   "execution_count": 2,
   "id": "578d66af-70c4-44b8-9425-e9206ecdfaf8",
   "metadata": {},
   "outputs": [
    {
     "data": {
      "text/html": [
       "<div>\n",
       "<style scoped>\n",
       "    .dataframe tbody tr th:only-of-type {\n",
       "        vertical-align: middle;\n",
       "    }\n",
       "\n",
       "    .dataframe tbody tr th {\n",
       "        vertical-align: top;\n",
       "    }\n",
       "\n",
       "    .dataframe thead th {\n",
       "        text-align: right;\n",
       "    }\n",
       "</style>\n",
       "<table border=\"1\" class=\"dataframe\">\n",
       "  <thead>\n",
       "    <tr style=\"text-align: right;\">\n",
       "      <th></th>\n",
       "      <th>CO_ANO</th>\n",
       "      <th>CO_MES</th>\n",
       "      <th>nick</th>\n",
       "      <th>SG_UF_NCM</th>\n",
       "      <th>comex</th>\n",
       "      <th>KG_LIQUIDO</th>\n",
       "      <th>VL_FOB</th>\n",
       "    </tr>\n",
       "  </thead>\n",
       "  <tbody>\n",
       "    <tr>\n",
       "      <th>0</th>\n",
       "      <td>1997</td>\n",
       "      <td>1</td>\n",
       "      <td>café</td>\n",
       "      <td>BA</td>\n",
       "      <td>exp</td>\n",
       "      <td>38400.0</td>\n",
       "      <td>152832.0</td>\n",
       "    </tr>\n",
       "    <tr>\n",
       "      <th>1</th>\n",
       "      <td>1997</td>\n",
       "      <td>3</td>\n",
       "      <td>SAM_k</td>\n",
       "      <td>BA</td>\n",
       "      <td>imp</td>\n",
       "      <td>6004584.0</td>\n",
       "      <td>579942.0</td>\n",
       "    </tr>\n",
       "    <tr>\n",
       "      <th>2</th>\n",
       "      <td>1997</td>\n",
       "      <td>4</td>\n",
       "      <td>MAP_k</td>\n",
       "      <td>BA</td>\n",
       "      <td>imp</td>\n",
       "      <td>3515344.0</td>\n",
       "      <td>784030.0</td>\n",
       "    </tr>\n",
       "    <tr>\n",
       "      <th>3</th>\n",
       "      <td>1997</td>\n",
       "      <td>4</td>\n",
       "      <td>MOP_k</td>\n",
       "      <td>BA</td>\n",
       "      <td>imp</td>\n",
       "      <td>4025970.0</td>\n",
       "      <td>514318.0</td>\n",
       "    </tr>\n",
       "    <tr>\n",
       "      <th>4</th>\n",
       "      <td>1997</td>\n",
       "      <td>4</td>\n",
       "      <td>SAM_k</td>\n",
       "      <td>BA</td>\n",
       "      <td>imp</td>\n",
       "      <td>11049492.0</td>\n",
       "      <td>1096029.0</td>\n",
       "    </tr>\n",
       "    <tr>\n",
       "      <th>...</th>\n",
       "      <td>...</td>\n",
       "      <td>...</td>\n",
       "      <td>...</td>\n",
       "      <td>...</td>\n",
       "      <td>...</td>\n",
       "      <td>...</td>\n",
       "      <td>...</td>\n",
       "    </tr>\n",
       "    <tr>\n",
       "      <th>1580</th>\n",
       "      <td>2024</td>\n",
       "      <td>6</td>\n",
       "      <td>NP_k</td>\n",
       "      <td>BA</td>\n",
       "      <td>imp</td>\n",
       "      <td>4000800.0</td>\n",
       "      <td>3379753.0</td>\n",
       "    </tr>\n",
       "    <tr>\n",
       "      <th>1581</th>\n",
       "      <td>2024</td>\n",
       "      <td>6</td>\n",
       "      <td>SAM_k</td>\n",
       "      <td>BA</td>\n",
       "      <td>imp</td>\n",
       "      <td>16050000.0</td>\n",
       "      <td>2587929.0</td>\n",
       "    </tr>\n",
       "    <tr>\n",
       "      <th>1582</th>\n",
       "      <td>2024</td>\n",
       "      <td>6</td>\n",
       "      <td>UREIA_k</td>\n",
       "      <td>BA</td>\n",
       "      <td>imp</td>\n",
       "      <td>22136324.0</td>\n",
       "      <td>7401673.0</td>\n",
       "    </tr>\n",
       "    <tr>\n",
       "      <th>1583</th>\n",
       "      <td>2024</td>\n",
       "      <td>6</td>\n",
       "      <td>café</td>\n",
       "      <td>BA</td>\n",
       "      <td>exp</td>\n",
       "      <td>5219825.0</td>\n",
       "      <td>17318908.0</td>\n",
       "    </tr>\n",
       "    <tr>\n",
       "      <th>1584</th>\n",
       "      <td>2024</td>\n",
       "      <td>6</td>\n",
       "      <td>soja</td>\n",
       "      <td>BA</td>\n",
       "      <td>exp</td>\n",
       "      <td>430402127.0</td>\n",
       "      <td>190005059.0</td>\n",
       "    </tr>\n",
       "  </tbody>\n",
       "</table>\n",
       "<p>1585 rows × 7 columns</p>\n",
       "</div>"
      ],
      "text/plain": [
       "      CO_ANO  CO_MES     nick SG_UF_NCM comex   KG_LIQUIDO       VL_FOB\n",
       "0       1997       1     café        BA   exp      38400.0     152832.0\n",
       "1       1997       3    SAM_k        BA   imp    6004584.0     579942.0\n",
       "2       1997       4    MAP_k        BA   imp    3515344.0     784030.0\n",
       "3       1997       4    MOP_k        BA   imp    4025970.0     514318.0\n",
       "4       1997       4    SAM_k        BA   imp   11049492.0    1096029.0\n",
       "...      ...     ...      ...       ...   ...          ...          ...\n",
       "1580    2024       6     NP_k        BA   imp    4000800.0    3379753.0\n",
       "1581    2024       6    SAM_k        BA   imp   16050000.0    2587929.0\n",
       "1582    2024       6  UREIA_k        BA   imp   22136324.0    7401673.0\n",
       "1583    2024       6     café        BA   exp    5219825.0   17318908.0\n",
       "1584    2024       6     soja        BA   exp  430402127.0  190005059.0\n",
       "\n",
       "[1585 rows x 7 columns]"
      ]
     },
     "execution_count": 2,
     "metadata": {},
     "output_type": "execute_result"
    }
   ],
   "source": [
    "comex=comex.groupby(by=['CO_ANO','CO_MES','nick','SG_UF_NCM','comex'])[['KG_LIQUIDO','VL_FOB']].sum().reset_index()\n",
    "comex"
   ]
  },
  {
   "cell_type": "code",
   "execution_count": 3,
   "id": "9cbf58c1-e1ca-4d8b-bbdd-cc4496d040ad",
   "metadata": {},
   "outputs": [
    {
     "data": {
      "text/plain": [
       "Index(['CO_ANO', 'CO_MES', 'nick', 'SG_UF_NCM', 'comex', 'KG_LIQUIDO',\n",
       "       'VL_FOB'],\n",
       "      dtype='object')"
      ]
     },
     "execution_count": 3,
     "metadata": {},
     "output_type": "execute_result"
    }
   ],
   "source": [
    "comex.columns"
   ]
  },
  {
   "cell_type": "code",
   "execution_count": 4,
   "id": "983f539e-efd6-4273-80ec-727c5a0c2dc8",
   "metadata": {},
   "outputs": [],
   "source": [
    "title='Comércio Exterior'\n",
    "import seaborn as sns\n",
    "import matplotlib.pyplot as plt"
   ]
  },
  {
   "cell_type": "code",
   "execution_count": 5,
   "id": "b56e188a-6346-43f5-b759-2b1a040124cf",
   "metadata": {},
   "outputs": [
    {
     "data": {
      "image/png": "[encoded data removed]",
      "text/plain": [
       "<Figure size 720x200 with 3 Axes>"
      ]
     },
     "metadata": {},
     "output_type": "display_data"
    }
   ],
   "source": [
    "sns.displot(height=2,aspect=1.2,data=comex[comex.comex=='exp'],x='KG_LIQUIDO',log_scale=True, col='nick',col_wrap=3).fig.suptitle(title,y=1.1)\n",
    "plt.show()"
   ]
  },
  {
   "cell_type": "code",
   "execution_count": 6,
   "id": "7007cbc8-b548-4068-adc9-5aaba1b0f6f1",
   "metadata": {},
   "outputs": [
    {
     "data": {
      "text/html": [
       "<div>\n",
       "<style scoped>\n",
       "    .dataframe tbody tr th:only-of-type {\n",
       "        vertical-align: middle;\n",
       "    }\n",
       "\n",
       "    .dataframe tbody tr th {\n",
       "        vertical-align: top;\n",
       "    }\n",
       "\n",
       "    .dataframe thead th {\n",
       "        text-align: right;\n",
       "    }\n",
       "</style>\n",
       "<table border=\"1\" class=\"dataframe\">\n",
       "  <thead>\n",
       "    <tr style=\"text-align: right;\">\n",
       "      <th></th>\n",
       "      <th>CO_ANO</th>\n",
       "      <th>CO_MES</th>\n",
       "      <th>nick</th>\n",
       "      <th>SG_UF_NCM</th>\n",
       "      <th>comex</th>\n",
       "      <th>KG_LIQUIDO</th>\n",
       "      <th>VL_FOB</th>\n",
       "    </tr>\n",
       "  </thead>\n",
       "  <tbody>\n",
       "    <tr>\n",
       "      <th>0</th>\n",
       "      <td>1997</td>\n",
       "      <td>1</td>\n",
       "      <td>café</td>\n",
       "      <td>BA</td>\n",
       "      <td>exp</td>\n",
       "      <td>38400.0</td>\n",
       "      <td>152832.0</td>\n",
       "    </tr>\n",
       "    <tr>\n",
       "      <th>1</th>\n",
       "      <td>1997</td>\n",
       "      <td>3</td>\n",
       "      <td>SAM_k</td>\n",
       "      <td>BA</td>\n",
       "      <td>imp</td>\n",
       "      <td>6004584.0</td>\n",
       "      <td>579942.0</td>\n",
       "    </tr>\n",
       "    <tr>\n",
       "      <th>2</th>\n",
       "      <td>1997</td>\n",
       "      <td>4</td>\n",
       "      <td>MAP_k</td>\n",
       "      <td>BA</td>\n",
       "      <td>imp</td>\n",
       "      <td>3515344.0</td>\n",
       "      <td>784030.0</td>\n",
       "    </tr>\n",
       "    <tr>\n",
       "      <th>3</th>\n",
       "      <td>1997</td>\n",
       "      <td>4</td>\n",
       "      <td>MOP_k</td>\n",
       "      <td>BA</td>\n",
       "      <td>imp</td>\n",
       "      <td>4025970.0</td>\n",
       "      <td>514318.0</td>\n",
       "    </tr>\n",
       "    <tr>\n",
       "      <th>4</th>\n",
       "      <td>1997</td>\n",
       "      <td>4</td>\n",
       "      <td>SAM_k</td>\n",
       "      <td>BA</td>\n",
       "      <td>imp</td>\n",
       "      <td>11049492.0</td>\n",
       "      <td>1096029.0</td>\n",
       "    </tr>\n",
       "    <tr>\n",
       "      <th>...</th>\n",
       "      <td>...</td>\n",
       "      <td>...</td>\n",
       "      <td>...</td>\n",
       "      <td>...</td>\n",
       "      <td>...</td>\n",
       "      <td>...</td>\n",
       "      <td>...</td>\n",
       "    </tr>\n",
       "    <tr>\n",
       "      <th>1580</th>\n",
       "      <td>2024</td>\n",
       "      <td>6</td>\n",
       "      <td>NP_k</td>\n",
       "      <td>BA</td>\n",
       "      <td>imp</td>\n",
       "      <td>4000800.0</td>\n",
       "      <td>3379753.0</td>\n",
       "    </tr>\n",
       "    <tr>\n",
       "      <th>1581</th>\n",
       "      <td>2024</td>\n",
       "      <td>6</td>\n",
       "      <td>SAM_k</td>\n",
       "      <td>BA</td>\n",
       "      <td>imp</td>\n",
       "      <td>16050000.0</td>\n",
       "      <td>2587929.0</td>\n",
       "    </tr>\n",
       "    <tr>\n",
       "      <th>1582</th>\n",
       "      <td>2024</td>\n",
       "      <td>6</td>\n",
       "      <td>UREIA_k</td>\n",
       "      <td>BA</td>\n",
       "      <td>imp</td>\n",
       "      <td>22136324.0</td>\n",
       "      <td>7401673.0</td>\n",
       "    </tr>\n",
       "    <tr>\n",
       "      <th>1583</th>\n",
       "      <td>2024</td>\n",
       "      <td>6</td>\n",
       "      <td>café</td>\n",
       "      <td>BA</td>\n",
       "      <td>exp</td>\n",
       "      <td>5219825.0</td>\n",
       "      <td>17318908.0</td>\n",
       "    </tr>\n",
       "    <tr>\n",
       "      <th>1584</th>\n",
       "      <td>2024</td>\n",
       "      <td>6</td>\n",
       "      <td>soja</td>\n",
       "      <td>BA</td>\n",
       "      <td>exp</td>\n",
       "      <td>430402127.0</td>\n",
       "      <td>190005059.0</td>\n",
       "    </tr>\n",
       "  </tbody>\n",
       "</table>\n",
       "<p>1558 rows × 7 columns</p>\n",
       "</div>"
      ],
      "text/plain": [
       "      CO_ANO  CO_MES     nick SG_UF_NCM comex   KG_LIQUIDO       VL_FOB\n",
       "0       1997       1     café        BA   exp      38400.0     152832.0\n",
       "1       1997       3    SAM_k        BA   imp    6004584.0     579942.0\n",
       "2       1997       4    MAP_k        BA   imp    3515344.0     784030.0\n",
       "3       1997       4    MOP_k        BA   imp    4025970.0     514318.0\n",
       "4       1997       4    SAM_k        BA   imp   11049492.0    1096029.0\n",
       "...      ...     ...      ...       ...   ...          ...          ...\n",
       "1580    2024       6     NP_k        BA   imp    4000800.0    3379753.0\n",
       "1581    2024       6    SAM_k        BA   imp   16050000.0    2587929.0\n",
       "1582    2024       6  UREIA_k        BA   imp   22136324.0    7401673.0\n",
       "1583    2024       6     café        BA   exp    5219825.0   17318908.0\n",
       "1584    2024       6     soja        BA   exp  430402127.0  190005059.0\n",
       "\n",
       "[1558 rows x 7 columns]"
      ]
     },
     "execution_count": 6,
     "metadata": {},
     "output_type": "execute_result"
    }
   ],
   "source": [
    "comex.loc[(comex.nick=='café')&((comex.KG_LIQUIDO<10**3)|(comex.KG_LIQUIDO>10**7)),'to_del']=1\n",
    "comex.loc[(comex.nick=='soja')&((comex.KG_LIQUIDO<10**6.3)|(comex.KG_LIQUIDO>10**9)),'to_del']=1\n",
    "comex.loc[(comex.nick=='milho')&((comex.KG_LIQUIDO<10**6.3)|(comex.KG_LIQUIDO>10**9)),'to_del']=1\n",
    "comex=comex.fillna(0)\n",
    "comex=comex[comex.to_del==0].drop(columns='to_del')\n",
    "comex"
   ]
  },
  {
   "cell_type": "code",
   "execution_count": 7,
   "id": "7f2190ac-efd3-493b-9177-dfa2231162af",
   "metadata": {},
   "outputs": [
    {
     "data": {
      "image/png": "[encoded data removed]",
      "text/plain": [
       "<Figure size 720x200 with 3 Axes>"
      ]
     },
     "metadata": {},
     "output_type": "display_data"
    }
   ],
   "source": [
    "sns.displot(height=2,aspect=1.2,data=comex[comex.comex=='exp'],x='KG_LIQUIDO',log_scale=True, col='nick',col_wrap=3).fig.suptitle(title,y=1.1)\n",
    "plt.show()"
   ]
  },
  {
   "cell_type": "code",
   "execution_count": 8,
   "id": "a52035fb-dffe-4870-a80a-2dee3de8fa1d",
   "metadata": {},
   "outputs": [
    {
     "data": {
      "image/png": "[encoded data removed]",
      "text/plain": [
       "<Figure size 720x200 with 3 Axes>"
      ]
     },
     "metadata": {},
     "output_type": "display_data"
    }
   ],
   "source": [
    "sns.displot(height=2,aspect=1.2,data=comex[comex.comex=='exp'],x='VL_FOB',log_scale=True, col='nick',col_wrap=3).fig.suptitle(title,y=1.1)\n",
    "plt.show()"
   ]
  },
  {
   "cell_type": "code",
   "execution_count": 9,
   "id": "b71a0b9e-3d48-4ddc-a245-164d42fd9cd6",
   "metadata": {},
   "outputs": [
    {
     "data": {
      "text/plain": [
       "(1558, 7)"
      ]
     },
     "execution_count": 9,
     "metadata": {},
     "output_type": "execute_result"
    }
   ],
   "source": [
    "comex.shape"
   ]
  },
  {
   "cell_type": "code",
   "execution_count": 10,
   "id": "44a093af-c685-4016-af07-b5a91ecc377f",
   "metadata": {},
   "outputs": [
    {
     "data": {
      "text/html": [
       "<div>\n",
       "<style scoped>\n",
       "    .dataframe tbody tr th:only-of-type {\n",
       "        vertical-align: middle;\n",
       "    }\n",
       "\n",
       "    .dataframe tbody tr th {\n",
       "        vertical-align: top;\n",
       "    }\n",
       "\n",
       "    .dataframe thead th {\n",
       "        text-align: right;\n",
       "    }\n",
       "</style>\n",
       "<table border=\"1\" class=\"dataframe\">\n",
       "  <thead>\n",
       "    <tr style=\"text-align: right;\">\n",
       "      <th></th>\n",
       "      <th>CO_ANO</th>\n",
       "      <th>CO_MES</th>\n",
       "      <th>nick</th>\n",
       "      <th>SG_UF_NCM</th>\n",
       "      <th>comex</th>\n",
       "      <th>KG_LIQUIDO</th>\n",
       "      <th>VL_FOB</th>\n",
       "    </tr>\n",
       "  </thead>\n",
       "  <tbody>\n",
       "    <tr>\n",
       "      <th>0</th>\n",
       "      <td>1997</td>\n",
       "      <td>1</td>\n",
       "      <td>café</td>\n",
       "      <td>BA</td>\n",
       "      <td>exp</td>\n",
       "      <td>38400.0</td>\n",
       "      <td>152832.0</td>\n",
       "    </tr>\n",
       "  </tbody>\n",
       "</table>\n",
       "</div>"
      ],
      "text/plain": [
       "   CO_ANO  CO_MES  nick SG_UF_NCM comex  KG_LIQUIDO    VL_FOB\n",
       "0    1997       1  café        BA   exp     38400.0  152832.0"
      ]
     },
     "execution_count": 10,
     "metadata": {},
     "output_type": "execute_result"
    }
   ],
   "source": [
    "comex.head(1)"
   ]
  },
  {
   "cell_type": "code",
   "execution_count": 12,
   "id": "c661b65c-fa29-4f5f-b5d3-f1c425e45671",
   "metadata": {},
   "outputs": [],
   "source": [
    "comex.to_csv('/home/andre301267/git/BD/temp/comex.csv',index=False)"
   ]
  }
 ],
 "metadata": {
  "celltoolbar": "Raw Cell Format",
  "kernelspec": {
   "display_name": "Python 3 (ipykernel)",
   "language": "python",
   "name": "python3"
  },
  "language_info": {
   "codemirror_mode": {
    "name": "ipython",
    "version": 3
   },
   "file_extension": ".py",
   "mimetype": "text/x-python",
   "name": "python",
   "nbconvert_exporter": "python",
   "pygments_lexer": "ipython3",
   "version": "3.11.2"
  }
 },
 "nbformat": 4,
 "nbformat_minor": 5
}
