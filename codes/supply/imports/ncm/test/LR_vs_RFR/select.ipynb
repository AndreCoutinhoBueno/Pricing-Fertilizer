{
 "cells": [
  {
   "cell_type": "code",
   "execution_count": 14,
   "id": "d6ee7fc9-ab02-472e-b9fb-a5d3b16a649f",
   "metadata": {},
   "outputs": [],
   "source": [
    "import time\n",
    "time_ini=time.time()"
   ]
  },
  {
   "cell_type": "code",
   "execution_count": 15,
   "id": "993b141f-e8c3-44fc-88a6-5be0eb7787e8",
   "metadata": {},
   "outputs": [
    {
     "data": {
      "text/plain": [
       "Index(['s_fob_kg', 's_cif_kg', 's_log_frete', 's_log_fob', 's_log_kg', 'year',\n",
       "       'month', 'ncm', 'Product', 'UF', 'pais', 'urf', 'kg', 'US$_fob',\n",
       "       'US$_freight', 'US$_insurance', 'log_kg', 'log_fob', 'log_frete',\n",
       "       'cif_kg', 'fob_kg', 'km', 'mean_log_kg', 'qd_dif_log_kg', 'std_log_kg',\n",
       "       'z_score_log_kg', 'mean_log_fob', 'qd_dif_log_fob', 'std_log_fob',\n",
       "       'z_score_log_fob', 'dif_z_score', 'mean_dif_z_score',\n",
       "       'qd_dif_dif_z_score', 'std_dif_z_score', 'z_score_dif_z_score', 'preço',\n",
       "       'kg_err'],\n",
       "      dtype='object')"
      ]
     },
     "execution_count": 15,
     "metadata": {},
     "output_type": "execute_result"
    }
   ],
   "source": [
    "import numpy as np\n",
    "import pandas as pd\n",
    "from pandas.tseries.offsets import DateOffset\n",
    "import matplotlib.pyplot as plt\n",
    "import seaborn as sns\n",
    "import warnings\n",
    "warnings.filterwarnings(\"ignore\")\n",
    "comex_df=pd.read_csv('/home/andre301267/git/Pricing-Fertilizer/DB/temp/imp_fert_ncm_quanti.csv')\n",
    "comex_df.columns"
   ]
  },
  {
   "cell_type": "code",
   "execution_count": 16,
   "id": "0d1fede5",
   "metadata": {},
   "outputs": [],
   "source": [
    "comex_df=comex_df[['year','month', 'Product', 'UF', 'pais', 'urf', 'kg', 'US$_fob',\\\n",
    "       'US$_freight', 'US$_insurance', 'log_kg', 'log_fob', 'log_frete',\\\n",
    "       'cif_kg', 'fob_kg', 'km', 'preço']]"
   ]
  },
  {
   "cell_type": "code",
   "execution_count": 17,
   "id": "11e56ef2-0317-4813-94b9-a3b51f822345",
   "metadata": {},
   "outputs": [],
   "source": [
    "comex_df.insert(0,'date',pd.to_datetime(comex_df.year.astype(str)+'/'+comex_df.month.astype(str)+'/1'))"
   ]
  },
  {
   "cell_type": "code",
   "execution_count": 18,
   "id": "6583f156-4703-49dc-b465-22b9e30e97eb",
   "metadata": {},
   "outputs": [
    {
     "data": {
      "text/plain": [
       "array(['DAP arsênio> 6 mg/kg', 'MAP', 'MOP', 'MOP<60', 'NAM', 'NCa', 'NK',\n",
       "       'NP', 'NPK', 'Nit.Sódio Potássico 15 15', 'Nit.Sódio natural<16,3',\n",
       "       'Nitratos e fosfatos', 'Outros N', 'Outros Nit.Sódio potássico',\n",
       "       'Outros Nit.Sódio, naturais', 'Outros SOP',\n",
       "       'Outros nitratos de sódio', 'Outros potássicos',\n",
       "       'Outros superfosfatos', 'PK', 'SAM', 'SOP<52', 'Superfosfato>45',\n",
       "       'Superfosfatos<22', 'Superfosfatos>35', 'UREIA',\n",
       "       'Ureia, mesmo aquosa'], dtype=object)"
      ]
     },
     "execution_count": 18,
     "metadata": {},
     "output_type": "execute_result"
    }
   ],
   "source": [
    "comex_df.Product.unique()"
   ]
  },
  {
   "cell_type": "code",
   "execution_count": 19,
   "id": "53cb337d-d19d-4dc4-a921-512bd4ae650f",
   "metadata": {},
   "outputs": [],
   "source": [
    "Product=['MOP','MAP','UREIA']\n",
    "UF=['BA']"
   ]
  },
  {
   "cell_type": "code",
   "execution_count": 20,
   "id": "7d93e266-57f1-4eeb-8bf5-7969f924d26d",
   "metadata": {},
   "outputs": [],
   "source": [
    "comex_df=comex_df[(comex_df.Product.isin(Product))&(comex_df.UF.isin(UF))]"
   ]
  },
  {
   "cell_type": "code",
   "execution_count": 21,
   "id": "5a228e54-d3c8-4aaf-a059-7f0eedfa06a7",
   "metadata": {},
   "outputs": [],
   "source": [
    "# Selecioina o km de maioir média\n",
    "filtra_km=comex_df[['Product','km']].sort_values(by=['Product','km'],ascending=False)\\\n",
    "    .drop_duplicates(subset='Product')"
   ]
  },
  {
   "cell_type": "code",
   "execution_count": 22,
   "id": "99973959",
   "metadata": {},
   "outputs": [
    {
     "data": {
      "text/html": [
       "<div>\n",
       "<style scoped>\n",
       "    .dataframe tbody tr th:only-of-type {\n",
       "        vertical-align: middle;\n",
       "    }\n",
       "\n",
       "    .dataframe tbody tr th {\n",
       "        vertical-align: top;\n",
       "    }\n",
       "\n",
       "    .dataframe thead th {\n",
       "        text-align: right;\n",
       "    }\n",
       "</style>\n",
       "<table border=\"1\" class=\"dataframe\">\n",
       "  <thead>\n",
       "    <tr style=\"text-align: right;\">\n",
       "      <th></th>\n",
       "      <th>Product</th>\n",
       "      <th>km</th>\n",
       "    </tr>\n",
       "  </thead>\n",
       "  <tbody>\n",
       "    <tr>\n",
       "      <th>80461</th>\n",
       "      <td>UREIA</td>\n",
       "      <td>1</td>\n",
       "    </tr>\n",
       "    <tr>\n",
       "      <th>17850</th>\n",
       "      <td>MOP</td>\n",
       "      <td>2</td>\n",
       "    </tr>\n",
       "    <tr>\n",
       "      <th>5852</th>\n",
       "      <td>MAP</td>\n",
       "      <td>2</td>\n",
       "    </tr>\n",
       "  </tbody>\n",
       "</table>\n",
       "</div>"
      ],
      "text/plain": [
       "      Product  km\n",
       "80461   UREIA   1\n",
       "17850     MOP   2\n",
       "5852      MAP   2"
      ]
     },
     "execution_count": 22,
     "metadata": {},
     "output_type": "execute_result"
    }
   ],
   "source": [
    "filtra_km"
   ]
  },
  {
   "cell_type": "code",
   "execution_count": 23,
   "id": "882ba3db-cc2f-4d56-b771-9a3355ff59c2",
   "metadata": {},
   "outputs": [],
   "source": [
    "comex_df=comex_df.merge(filtra_km)"
   ]
  },
  {
   "cell_type": "code",
   "execution_count": 24,
   "id": "4dd624fa-b14c-47a5-965d-840c5f594a04",
   "metadata": {},
   "outputs": [],
   "source": [
    "quanti_cols=['kg','US$_fob','US$_frete']"
   ]
  },
  {
   "cell_type": "code",
   "execution_count": 25,
   "id": "92ee524a-b721-4217-8746-b7f925b64ba0",
   "metadata": {},
   "outputs": [],
   "source": [
    "q=pd.DataFrame()"
   ]
  },
  {
   "cell_type": "markdown",
   "id": "66dbca8b-3d0d-4cbb-8f39-65db319f9a5c",
   "metadata": {
    "jp-MarkdownHeadingCollapsed": true
   },
   "source": [
    "# 2a Fase: Sparse Matrix - train"
   ]
  },
  {
   "cell_type": "code",
   "execution_count": 31,
   "id": "f69a9786",
   "metadata": {},
   "outputs": [],
   "source": [
    "comex_df['date']=pd.to_datetime(comex_df.year.astype(str)+'/'+comex_df.month.astype(str)+'/1')"
   ]
  },
  {
   "cell_type": "code",
   "execution_count": 32,
   "id": "7c2a9a0d-de20-496d-a453-49a0afd57e8a",
   "metadata": {},
   "outputs": [],
   "source": [
    "data_ini=comex_df.date.min()\n",
    "data_fim=comex_df.date.max()\n",
    "\n",
    "comex_df=comex_df[['year','month','Product','kg']]\n",
    "\n",
    "comex_df[['year','month','Product']]=comex_df[['year','month','Product']].astype('category')"
   ]
  },
  {
   "cell_type": "code",
   "execution_count": 34,
   "id": "e55ba5eb-b240-4068-b352-b3eac328aca3",
   "metadata": {},
   "outputs": [],
   "source": [
    "comex_df=comex_df.groupby(by=['year','month','Product'],observed=False).kg.sum().reset_index()"
   ]
  },
  {
   "cell_type": "code",
   "execution_count": 36,
   "id": "a850dba4-a5e0-41e5-a46d-4307820a4ce6",
   "metadata": {},
   "outputs": [],
   "source": [
    "comex_df.insert(0,'date',pd.to_datetime(comex_df.year.astype(str)+'/'+comex_df.month.astype(str)+'/1'))\n",
    "\n",
    "comex_df=comex_df[(comex_df.date>=data_ini)&(comex_df.date<=data_fim)]\n",
    "\n",
    "comex_df[['month','Product']]=comex_df[['month','Product']].astype('category')\n",
    "\n",
    "comex_df_dum=pd.get_dummies(comex_df,prefix_sep='~')\n",
    "\n",
    "comex_df_dum=comex_df_dum.assign(oc=1)\n",
    "comex_df_dum.loc[comex_df_dum.kg==0,'oc']=0"
   ]
  },
  {
   "cell_type": "code",
   "execution_count": 37,
   "id": "ced9fdc6",
   "metadata": {},
   "outputs": [],
   "source": [
    "comex_df_dum.to_csv('/home/andre301267/git/Pricing-Fertilizer/DB/temp/imp_fert_select.csv',index=False)"
   ]
  },
  {
   "cell_type": "code",
   "execution_count": null,
   "id": "b08a85fd",
   "metadata": {},
   "outputs": [],
   "source": []
  },
  {
   "cell_type": "code",
   "execution_count": null,
   "id": "0d18e8cf",
   "metadata": {},
   "outputs": [],
   "source": []
  }
 ],
 "metadata": {
  "kernelspec": {
   "display_name": "Python 3 (ipykernel)",
   "language": "python",
   "name": "python3"
  },
  "language_info": {
   "codemirror_mode": {
    "name": "ipython",
    "version": 3
   },
   "file_extension": ".py",
   "mimetype": "text/x-python",
   "name": "python",
   "nbconvert_exporter": "python",
   "pygments_lexer": "ipython3",
   "version": "3.11.2"
  }
 },
 "nbformat": 4,
 "nbformat_minor": 5
}
