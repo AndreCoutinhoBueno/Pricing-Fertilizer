{
 "cells": [
  {
   "cell_type": "code",
   "execution_count": 1,
   "id": "993b141f-e8c3-44fc-88a6-5be0eb7787e8",
   "metadata": {},
   "outputs": [],
   "source": [
    "import numpy as np\n",
    "import pandas as pd\n",
    "from pandas.tseries.offsets import DateOffset\n",
    "import matplotlib.pyplot as plt\n",
    "import seaborn as sns\n",
    "import warnings\n",
    "warnings.filterwarnings(\"ignore\")\n",
    "comex_df=pd.read_csv('/home/andre301267/git/Pricing-Fertilizer/DB/temp/imp_fert_ncm_quanti.csv')"
   ]
  },
  {
   "cell_type": "code",
   "execution_count": 2,
   "id": "146b87e2",
   "metadata": {},
   "outputs": [],
   "source": [
    "comex_df=comex_df[(comex_df.Product.isin(['MOP','MAP','SAM','UREIA']))&(comex_df.UF.isin(['BA']))]"
   ]
  },
  {
   "cell_type": "code",
   "execution_count": 3,
   "id": "8c88b943",
   "metadata": {},
   "outputs": [],
   "source": [
    "filtra_km=comex_df[['Product','km']].drop_duplicates().sort_values(by=['Product','km'],ascending=False).drop_duplicates(subset='Product')\n",
    "comex_df=comex_df.merge(filtra_km)"
   ]
  },
  {
   "cell_type": "code",
   "execution_count": 4,
   "id": "6d92aba1",
   "metadata": {},
   "outputs": [],
   "source": [
    "comex_df['date']=pd.to_datetime(comex_df.year.astype(str)+'-'+comex_df.month.astype(str)+'-01')\n",
    "date_min=comex_df.date.min()\n",
    "date_max=comex_df.date.max()"
   ]
  },
  {
   "cell_type": "code",
   "execution_count": 5,
   "id": "d5ad1191",
   "metadata": {},
   "outputs": [],
   "source": [
    "years=pd.DataFrame({'year':np.arange(comex_df.year.min(),comex_df.year.max()+1)}).assign(key=0)\n",
    "months=pd.DataFrame({'month':np.arange(1,13)}).assign(key=0)\n",
    "calendar=years.merge(months,on='key')\n",
    "full=comex_df[['Product','UF']].drop_duplicates().assign(key=0).merge(calendar,on='key').drop('key',axis=1)\n",
    "comex_df=comex_df.merge(full)"
   ]
  },
  {
   "cell_type": "code",
   "execution_count": 6,
   "id": "d950d3a8",
   "metadata": {},
   "outputs": [
    {
     "data": {
      "text/plain": [
       "8"
      ]
     },
     "execution_count": 6,
     "metadata": {},
     "output_type": "execute_result"
    }
   ],
   "source": [
    "round(comex_df[comex_df.Product=='MOP'].kg.sum()/10**9)"
   ]
  },
  {
   "cell_type": "code",
   "execution_count": 7,
   "id": "feac9b6f",
   "metadata": {},
   "outputs": [],
   "source": [
    "comex_df=comex_df.groupby(by=['year','month','Product'],observed=False).kg.sum().reset_index()"
   ]
  },
  {
   "cell_type": "code",
   "execution_count": 8,
   "id": "8b1adc69",
   "metadata": {},
   "outputs": [],
   "source": [
    "comex_df['date']=pd.to_datetime(comex_df.year.astype(str)+'-'+comex_df.month.astype(str)+'-01')"
   ]
  },
  {
   "cell_type": "code",
   "execution_count": 9,
   "id": "00a88dce",
   "metadata": {},
   "outputs": [],
   "source": [
    "comex_df=comex_df[(comex_df.date>=date_min)&(comex_df.date<=date_max)]"
   ]
  },
  {
   "cell_type": "code",
   "execution_count": 10,
   "id": "1636ce42",
   "metadata": {},
   "outputs": [],
   "source": [
    "comex_df[['month','Product']]=comex_df[['month','Product']].astype(str)"
   ]
  },
  {
   "cell_type": "code",
   "execution_count": 11,
   "id": "3e4dbce2",
   "metadata": {},
   "outputs": [],
   "source": [
    "comex_df=pd.get_dummies(comex_df)"
   ]
  },
  {
   "cell_type": "code",
   "execution_count": 12,
   "id": "dbf47918",
   "metadata": {},
   "outputs": [],
   "source": [
    "comex_df=comex_df.assign(oc=0)\n",
    "comex_df.loc[comex_df.kg>0,'oc']=1"
   ]
  },
  {
   "cell_type": "markdown",
   "id": "3baa3993",
   "metadata": {},
   "source": [
    "# Classify"
   ]
  },
  {
   "cell_type": "code",
   "execution_count": 13,
   "id": "ce8e96d9",
   "metadata": {},
   "outputs": [
    {
     "data": {
      "text/plain": [
       "(836, 20)"
      ]
     },
     "execution_count": 13,
     "metadata": {},
     "output_type": "execute_result"
    }
   ],
   "source": [
    "comex_df.shape"
   ]
  },
  {
   "cell_type": "code",
   "execution_count": 14,
   "id": "8ccf632b",
   "metadata": {},
   "outputs": [],
   "source": [
    "for r in range(1,6):\n",
    "    train=comex_df[comex_df.date<comex_df.date.max()-DateOffset(months=r*12-1)]\n",
    "    test=comex_df[comex_df.date==comex_df.date.max()-DateOffset(months=r*12-1)]\n",
    "    X_train=train.drop(['kg','oc','date'],axis=1)\n",
    "    y_train=train.oc\n",
    "    X_test=test.drop(['kg','oc','date'],axis=1)\n",
    "    y_test=test.oc\n",
    "    from sklearn.ensemble import RandomForestClassifier as rfc\n",
    "    model=rfc()\n",
    "    model.fit(X_train,y_train)\n",
    "    y_pred=model.predict(X_test)\n",
    "    test['y_pred']=y_pred\n",
    "    test['y_test']=y_test\n",
    "    test['r']=r\n",
    "    if r==1:\n",
    "        results=test\n",
    "    else:\n",
    "        results=pd.concat([results,test])"
   ]
  },
  {
   "cell_type": "code",
   "execution_count": 15,
   "id": "043d55a0",
   "metadata": {},
   "outputs": [],
   "source": [
    "comex_df=results.merge(comex_df,how='outer')"
   ]
  },
  {
   "cell_type": "code",
   "execution_count": 16,
   "id": "17c6cf27",
   "metadata": {},
   "outputs": [
    {
     "data": {
      "text/plain": [
       "(836, 23)"
      ]
     },
     "execution_count": 16,
     "metadata": {},
     "output_type": "execute_result"
    }
   ],
   "source": [
    "comex_df.shape"
   ]
  },
  {
   "cell_type": "code",
   "execution_count": 17,
   "id": "0a4738af",
   "metadata": {},
   "outputs": [],
   "source": [
    "comex_df=comex_df[(comex_df.oc==1)&(comex_df.y_pred.isin([1,np.nan]))]"
   ]
  },
  {
   "cell_type": "code",
   "execution_count": 18,
   "id": "2faf06da",
   "metadata": {},
   "outputs": [
    {
     "data": {
      "text/plain": [
       "(836, 23)"
      ]
     },
     "execution_count": 18,
     "metadata": {},
     "output_type": "execute_result"
    }
   ],
   "source": [
    "comex_df.shape"
   ]
  },
  {
   "cell_type": "markdown",
   "id": "04225460",
   "metadata": {},
   "source": [
    "# Regression"
   ]
  },
  {
   "cell_type": "code",
   "execution_count": 21,
   "id": "c24d8398",
   "metadata": {},
   "outputs": [
    {
     "data": {
      "text/html": [
       "<div>\n",
       "<style scoped>\n",
       "    .dataframe tbody tr th:only-of-type {\n",
       "        vertical-align: middle;\n",
       "    }\n",
       "\n",
       "    .dataframe tbody tr th {\n",
       "        vertical-align: top;\n",
       "    }\n",
       "\n",
       "    .dataframe thead th {\n",
       "        text-align: right;\n",
       "    }\n",
       "</style>\n",
       "<table border=\"1\" class=\"dataframe\">\n",
       "  <thead>\n",
       "    <tr style=\"text-align: right;\">\n",
       "      <th></th>\n",
       "      <th>names</th>\n",
       "      <th>importances</th>\n",
       "    </tr>\n",
       "  </thead>\n",
       "  <tbody>\n",
       "    <tr>\n",
       "      <th>19</th>\n",
       "      <td>year</td>\n",
       "      <td>0.503577</td>\n",
       "    </tr>\n",
       "    <tr>\n",
       "      <th>1</th>\n",
       "      <td>Product_MOP</td>\n",
       "      <td>0.123444</td>\n",
       "    </tr>\n",
       "    <tr>\n",
       "      <th>2</th>\n",
       "      <td>Product_SAM</td>\n",
       "      <td>0.097184</td>\n",
       "    </tr>\n",
       "    <tr>\n",
       "      <th>0</th>\n",
       "      <td>Product_MAP</td>\n",
       "      <td>0.028232</td>\n",
       "    </tr>\n",
       "    <tr>\n",
       "      <th>13</th>\n",
       "      <td>month_7</td>\n",
       "      <td>0.026613</td>\n",
       "    </tr>\n",
       "    <tr>\n",
       "      <th>15</th>\n",
       "      <td>month_9</td>\n",
       "      <td>0.025660</td>\n",
       "    </tr>\n",
       "    <tr>\n",
       "      <th>3</th>\n",
       "      <td>Product_UREIA</td>\n",
       "      <td>0.023463</td>\n",
       "    </tr>\n",
       "    <tr>\n",
       "      <th>14</th>\n",
       "      <td>month_8</td>\n",
       "      <td>0.021041</td>\n",
       "    </tr>\n",
       "    <tr>\n",
       "      <th>6</th>\n",
       "      <td>month_11</td>\n",
       "      <td>0.020944</td>\n",
       "    </tr>\n",
       "    <tr>\n",
       "      <th>5</th>\n",
       "      <td>month_10</td>\n",
       "      <td>0.019455</td>\n",
       "    </tr>\n",
       "    <tr>\n",
       "      <th>7</th>\n",
       "      <td>month_12</td>\n",
       "      <td>0.019415</td>\n",
       "    </tr>\n",
       "    <tr>\n",
       "      <th>4</th>\n",
       "      <td>month_1</td>\n",
       "      <td>0.019393</td>\n",
       "    </tr>\n",
       "    <tr>\n",
       "      <th>10</th>\n",
       "      <td>month_4</td>\n",
       "      <td>0.016761</td>\n",
       "    </tr>\n",
       "    <tr>\n",
       "      <th>12</th>\n",
       "      <td>month_6</td>\n",
       "      <td>0.016278</td>\n",
       "    </tr>\n",
       "    <tr>\n",
       "      <th>9</th>\n",
       "      <td>month_3</td>\n",
       "      <td>0.014175</td>\n",
       "    </tr>\n",
       "    <tr>\n",
       "      <th>8</th>\n",
       "      <td>month_2</td>\n",
       "      <td>0.012507</td>\n",
       "    </tr>\n",
       "    <tr>\n",
       "      <th>11</th>\n",
       "      <td>month_5</td>\n",
       "      <td>0.010692</td>\n",
       "    </tr>\n",
       "    <tr>\n",
       "      <th>16</th>\n",
       "      <td>r</td>\n",
       "      <td>0.001165</td>\n",
       "    </tr>\n",
       "    <tr>\n",
       "      <th>17</th>\n",
       "      <td>y_pred</td>\n",
       "      <td>0.000000</td>\n",
       "    </tr>\n",
       "    <tr>\n",
       "      <th>18</th>\n",
       "      <td>y_test</td>\n",
       "      <td>0.000000</td>\n",
       "    </tr>\n",
       "  </tbody>\n",
       "</table>\n",
       "</div>"
      ],
      "text/plain": [
       "            names  importances\n",
       "19           year     0.503577\n",
       "1     Product_MOP     0.123444\n",
       "2     Product_SAM     0.097184\n",
       "0     Product_MAP     0.028232\n",
       "13        month_7     0.026613\n",
       "15        month_9     0.025660\n",
       "3   Product_UREIA     0.023463\n",
       "14        month_8     0.021041\n",
       "6        month_11     0.020944\n",
       "5        month_10     0.019455\n",
       "7        month_12     0.019415\n",
       "4         month_1     0.019393\n",
       "10        month_4     0.016761\n",
       "12        month_6     0.016278\n",
       "9         month_3     0.014175\n",
       "8         month_2     0.012507\n",
       "11        month_5     0.010692\n",
       "16              r     0.001165\n",
       "17         y_pred     0.000000\n",
       "18         y_test     0.000000"
      ]
     },
     "metadata": {},
     "output_type": "display_data"
    }
   ],
   "source": [
    "features_df=pd.DataFrame()\n",
    "for r in range(1,11):\n",
    "    train=comex_df[comex_df.date<comex_df.date.max()-DateOffset(months=r*12-1)]\n",
    "    test=comex_df[comex_df.date==comex_df.date.max()-DateOffset(months=r*12-1)]\n",
    "    X_train=train.drop(['kg','oc','date'],axis=1)\n",
    "    y_train=train.kg\n",
    "    X_test=test.drop(['kg','oc','date'],axis=1)\n",
    "    y_test=test.kg\n",
    "    from sklearn.ensemble import RandomForestRegressor as rfr\n",
    "    model=rfr(max_features=5)\n",
    "    model.fit(X_train,y_train)\n",
    "    t=pd.DataFrame({'names':model.feature_names_in_,'importances':model.feature_importances_})\n",
    "    features_df=pd.concat([features_df,t])\n",
    "    y_pred=model.predict(X_test)\n",
    "    test['y_pred']=y_pred\n",
    "    test['y_test']=y_test\n",
    "    test['r']=r\n",
    "    if r==1:\n",
    "        results=test\n",
    "    else:\n",
    "        results=pd.concat([results,test])\n",
    "\n",
    "\n",
    "display(features_df.groupby('names').importances.mean().reset_index().sort_values(by='importances',ascending=False))"
   ]
  },
  {
   "cell_type": "code",
   "execution_count": 22,
   "id": "8e5828cd",
   "metadata": {},
   "outputs": [],
   "source": [
    "results=results[results.Product_MOP==1]"
   ]
  },
  {
   "cell_type": "code",
   "execution_count": 23,
   "id": "3c41e76c",
   "metadata": {},
   "outputs": [
    {
     "data": {
      "text/html": [
       "<div>\n",
       "<style scoped>\n",
       "    .dataframe tbody tr th:only-of-type {\n",
       "        vertical-align: middle;\n",
       "    }\n",
       "\n",
       "    .dataframe tbody tr th {\n",
       "        vertical-align: top;\n",
       "    }\n",
       "\n",
       "    .dataframe thead th {\n",
       "        text-align: right;\n",
       "    }\n",
       "</style>\n",
       "<table border=\"1\" class=\"dataframe\">\n",
       "  <thead>\n",
       "    <tr style=\"text-align: right;\">\n",
       "      <th></th>\n",
       "      <th>date</th>\n",
       "      <th>kg</th>\n",
       "      <th>y_test</th>\n",
       "      <th>y_pred</th>\n",
       "    </tr>\n",
       "  </thead>\n",
       "  <tbody>\n",
       "    <tr>\n",
       "      <th>802</th>\n",
       "      <td>2023-09-01</td>\n",
       "      <td>7.377500e+07</td>\n",
       "      <td>7.377500e+07</td>\n",
       "      <td>5.298534e+07</td>\n",
       "    </tr>\n",
       "    <tr>\n",
       "      <th>754</th>\n",
       "      <td>2022-09-01</td>\n",
       "      <td>5.513027e+07</td>\n",
       "      <td>5.513027e+07</td>\n",
       "      <td>5.500965e+07</td>\n",
       "    </tr>\n",
       "    <tr>\n",
       "      <th>709</th>\n",
       "      <td>2021-09-01</td>\n",
       "      <td>4.308353e+07</td>\n",
       "      <td>4.308353e+07</td>\n",
       "      <td>4.712157e+07</td>\n",
       "    </tr>\n",
       "    <tr>\n",
       "      <th>664</th>\n",
       "      <td>2020-09-01</td>\n",
       "      <td>5.204514e+07</td>\n",
       "      <td>5.204514e+07</td>\n",
       "      <td>4.928896e+07</td>\n",
       "    </tr>\n",
       "    <tr>\n",
       "      <th>609</th>\n",
       "      <td>2019-09-01</td>\n",
       "      <td>2.760000e+07</td>\n",
       "      <td>2.760000e+07</td>\n",
       "      <td>8.221732e+07</td>\n",
       "    </tr>\n",
       "    <tr>\n",
       "      <th>580</th>\n",
       "      <td>2018-09-01</td>\n",
       "      <td>1.180357e+08</td>\n",
       "      <td>1.180357e+08</td>\n",
       "      <td>4.288023e+07</td>\n",
       "    </tr>\n",
       "    <tr>\n",
       "      <th>539</th>\n",
       "      <td>2017-09-01</td>\n",
       "      <td>5.232994e+07</td>\n",
       "      <td>5.232994e+07</td>\n",
       "      <td>3.899663e+07</td>\n",
       "    </tr>\n",
       "    <tr>\n",
       "      <th>500</th>\n",
       "      <td>2016-09-01</td>\n",
       "      <td>2.483312e+07</td>\n",
       "      <td>2.483312e+07</td>\n",
       "      <td>5.893895e+07</td>\n",
       "    </tr>\n",
       "    <tr>\n",
       "      <th>481</th>\n",
       "      <td>2015-09-01</td>\n",
       "      <td>8.410621e+07</td>\n",
       "      <td>8.410621e+07</td>\n",
       "      <td>3.139535e+07</td>\n",
       "    </tr>\n",
       "    <tr>\n",
       "      <th>441</th>\n",
       "      <td>2014-09-01</td>\n",
       "      <td>3.091048e+07</td>\n",
       "      <td>3.091048e+07</td>\n",
       "      <td>3.451507e+07</td>\n",
       "    </tr>\n",
       "  </tbody>\n",
       "</table>\n",
       "</div>"
      ],
      "text/plain": [
       "          date            kg        y_test        y_pred\n",
       "802 2023-09-01  7.377500e+07  7.377500e+07  5.298534e+07\n",
       "754 2022-09-01  5.513027e+07  5.513027e+07  5.500965e+07\n",
       "709 2021-09-01  4.308353e+07  4.308353e+07  4.712157e+07\n",
       "664 2020-09-01  5.204514e+07  5.204514e+07  4.928896e+07\n",
       "609 2019-09-01  2.760000e+07  2.760000e+07  8.221732e+07\n",
       "580 2018-09-01  1.180357e+08  1.180357e+08  4.288023e+07\n",
       "539 2017-09-01  5.232994e+07  5.232994e+07  3.899663e+07\n",
       "500 2016-09-01  2.483312e+07  2.483312e+07  5.893895e+07\n",
       "481 2015-09-01  8.410621e+07  8.410621e+07  3.139535e+07\n",
       "441 2014-09-01  3.091048e+07  3.091048e+07  3.451507e+07"
      ]
     },
     "execution_count": 23,
     "metadata": {},
     "output_type": "execute_result"
    }
   ],
   "source": [
    "results[['date','kg','y_test','y_pred']]"
   ]
  },
  {
   "cell_type": "code",
   "execution_count": 24,
   "id": "1e4a56bf",
   "metadata": {},
   "outputs": [],
   "source": [
    "from sklearn.metrics import root_mean_squared_error as rse\n",
    "results['rse']=rse(results.y_test,results.y_pred)"
   ]
  },
  {
   "cell_type": "code",
   "execution_count": 25,
   "id": "1c8a41fd",
   "metadata": {},
   "outputs": [
    {
     "data": {
      "text/plain": [
       "36.359222"
      ]
     },
     "execution_count": 25,
     "metadata": {},
     "output_type": "execute_result"
    }
   ],
   "source": [
    "int(results.rse.unique())/10**6"
   ]
  },
  {
   "cell_type": "code",
   "execution_count": null,
   "id": "f79a4d2f",
   "metadata": {},
   "outputs": [],
   "source": []
  },
  {
   "cell_type": "code",
   "execution_count": null,
   "id": "7f8d246e",
   "metadata": {},
   "outputs": [],
   "source": []
  }
 ],
 "metadata": {
  "kernelspec": {
   "display_name": "Python 3 (ipykernel)",
   "language": "python",
   "name": "python3"
  },
  "language_info": {
   "codemirror_mode": {
    "name": "ipython",
    "version": 3
   },
   "file_extension": ".py",
   "mimetype": "text/x-python",
   "name": "python",
   "nbconvert_exporter": "python",
   "pygments_lexer": "ipython3",
   "version": "3.11.2"
  }
 },
 "nbformat": 4,
 "nbformat_minor": 5
}
