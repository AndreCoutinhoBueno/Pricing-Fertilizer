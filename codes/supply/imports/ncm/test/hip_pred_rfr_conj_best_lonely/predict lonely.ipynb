{
 "cells": [
  {
   "cell_type": "code",
   "execution_count": 1,
   "id": "993b141f-e8c3-44fc-88a6-5be0eb7787e8",
   "metadata": {},
   "outputs": [],
   "source": [
    "import numpy as np\n",
    "import pandas as pd\n",
    "from pandas.tseries.offsets import DateOffset\n",
    "import matplotlib.pyplot as plt\n",
    "import seaborn as sns\n",
    "import warnings\n",
    "warnings.filterwarnings(\"ignore\")\n",
    "comex_df=pd.read_csv('/home/andre301267/git/Pricing-Fertilizer/DB/temp/imp_fert_ncm_quanti.csv')"
   ]
  },
  {
   "cell_type": "code",
   "execution_count": 2,
   "id": "146b87e2",
   "metadata": {},
   "outputs": [],
   "source": [
    "mes_pred=10\n",
    "comex_df=comex_df[(comex_df.Product.isin(['MOP']))&(comex_df.UF.isin(['BA']))&(comex_df.month.isin([mes_pred]))]"
   ]
  },
  {
   "cell_type": "code",
   "execution_count": 3,
   "id": "8c88b943",
   "metadata": {},
   "outputs": [],
   "source": [
    "filtra_km=comex_df[['Product','km']].drop_duplicates().sort_values(by=['Product','km'],ascending=False).drop_duplicates(subset='Product')\n",
    "comex_df=comex_df.merge(filtra_km)"
   ]
  },
  {
   "cell_type": "code",
   "execution_count": 4,
   "id": "6d92aba1",
   "metadata": {},
   "outputs": [],
   "source": [
    "comex_df['date']=pd.to_datetime(comex_df.year.astype(str)+'-'+comex_df.month.astype(str)+'-01')\n",
    "date_min=comex_df.date.min()\n",
    "date_max=comex_df.date.max()"
   ]
  },
  {
   "cell_type": "code",
   "execution_count": 5,
   "id": "d5ad1191",
   "metadata": {},
   "outputs": [],
   "source": [
    "years=pd.DataFrame({'year':np.arange(comex_df.year.min(),comex_df.year.max()+1)}).assign(key=0)\n",
    "months=pd.DataFrame({'month':[mes_pred]}).assign(key=0)\n",
    "calendar=years.merge(months,on='key')\n",
    "full=comex_df[['Product','UF']].drop_duplicates().assign(key=0).merge(calendar,on='key').drop('key',axis=1)\n",
    "comex_df=comex_df.merge(full)"
   ]
  },
  {
   "cell_type": "code",
   "execution_count": 6,
   "id": "d950d3a8",
   "metadata": {},
   "outputs": [
    {
     "data": {
      "text/plain": [
       "1"
      ]
     },
     "execution_count": 6,
     "metadata": {},
     "output_type": "execute_result"
    }
   ],
   "source": [
    "round(comex_df[comex_df.Product=='MOP'].kg.sum()/10**9)"
   ]
  },
  {
   "cell_type": "code",
   "execution_count": 7,
   "id": "feac9b6f",
   "metadata": {},
   "outputs": [],
   "source": [
    "comex_df=comex_df.groupby(by=['year','month','Product'],observed=False).kg.sum().reset_index()"
   ]
  },
  {
   "cell_type": "code",
   "execution_count": 8,
   "id": "8b1adc69",
   "metadata": {},
   "outputs": [],
   "source": [
    "comex_df['date']=pd.to_datetime(comex_df.year.astype(str)+'-'+comex_df.month.astype(str)+'-01')"
   ]
  },
  {
   "cell_type": "code",
   "execution_count": 9,
   "id": "00a88dce",
   "metadata": {},
   "outputs": [],
   "source": [
    "comex_df=comex_df[(comex_df.date>=date_min)&(comex_df.date<=date_max)]"
   ]
  },
  {
   "cell_type": "code",
   "execution_count": 10,
   "id": "1636ce42",
   "metadata": {},
   "outputs": [],
   "source": [
    "comex_df[['month','Product']]=comex_df[['month','Product']].astype(str)"
   ]
  },
  {
   "cell_type": "code",
   "execution_count": 11,
   "id": "3e4dbce2",
   "metadata": {},
   "outputs": [],
   "source": [
    "comex_df=pd.get_dummies(comex_df)"
   ]
  },
  {
   "cell_type": "code",
   "execution_count": 12,
   "id": "dbf47918",
   "metadata": {},
   "outputs": [],
   "source": [
    "comex_df=comex_df.assign(oc=0)\n",
    "comex_df.loc[comex_df.kg>0,'oc']=1"
   ]
  },
  {
   "cell_type": "markdown",
   "id": "3baa3993",
   "metadata": {},
   "source": [
    "# Classify"
   ]
  },
  {
   "cell_type": "code",
   "execution_count": 13,
   "id": "ce8e96d9",
   "metadata": {},
   "outputs": [
    {
     "data": {
      "text/plain": [
       "(26, 6)"
      ]
     },
     "execution_count": 13,
     "metadata": {},
     "output_type": "execute_result"
    }
   ],
   "source": [
    "comex_df.shape"
   ]
  },
  {
   "cell_type": "code",
   "execution_count": 14,
   "id": "88b9c2a6",
   "metadata": {},
   "outputs": [
    {
     "data": {
      "text/html": [
       "<div>\n",
       "<style scoped>\n",
       "    .dataframe tbody tr th:only-of-type {\n",
       "        vertical-align: middle;\n",
       "    }\n",
       "\n",
       "    .dataframe tbody tr th {\n",
       "        vertical-align: top;\n",
       "    }\n",
       "\n",
       "    .dataframe thead th {\n",
       "        text-align: right;\n",
       "    }\n",
       "</style>\n",
       "<table border=\"1\" class=\"dataframe\">\n",
       "  <thead>\n",
       "    <tr style=\"text-align: right;\">\n",
       "      <th></th>\n",
       "      <th>year</th>\n",
       "      <th>kg</th>\n",
       "      <th>date</th>\n",
       "      <th>month_10</th>\n",
       "      <th>Product_MOP</th>\n",
       "      <th>oc</th>\n",
       "    </tr>\n",
       "  </thead>\n",
       "  <tbody>\n",
       "    <tr>\n",
       "      <th>0</th>\n",
       "      <td>1997</td>\n",
       "      <td>1.724462e+07</td>\n",
       "      <td>1997-10-01</td>\n",
       "      <td>True</td>\n",
       "      <td>True</td>\n",
       "      <td>1</td>\n",
       "    </tr>\n",
       "    <tr>\n",
       "      <th>1</th>\n",
       "      <td>1998</td>\n",
       "      <td>9.150000e+06</td>\n",
       "      <td>1998-10-01</td>\n",
       "      <td>True</td>\n",
       "      <td>True</td>\n",
       "      <td>1</td>\n",
       "    </tr>\n",
       "    <tr>\n",
       "      <th>2</th>\n",
       "      <td>1999</td>\n",
       "      <td>1.050000e+07</td>\n",
       "      <td>1999-10-01</td>\n",
       "      <td>True</td>\n",
       "      <td>True</td>\n",
       "      <td>1</td>\n",
       "    </tr>\n",
       "    <tr>\n",
       "      <th>3</th>\n",
       "      <td>2000</td>\n",
       "      <td>1.872611e+07</td>\n",
       "      <td>2000-10-01</td>\n",
       "      <td>True</td>\n",
       "      <td>True</td>\n",
       "      <td>1</td>\n",
       "    </tr>\n",
       "    <tr>\n",
       "      <th>4</th>\n",
       "      <td>2001</td>\n",
       "      <td>1.044524e+07</td>\n",
       "      <td>2001-10-01</td>\n",
       "      <td>True</td>\n",
       "      <td>True</td>\n",
       "      <td>1</td>\n",
       "    </tr>\n",
       "    <tr>\n",
       "      <th>5</th>\n",
       "      <td>2003</td>\n",
       "      <td>1.161144e+07</td>\n",
       "      <td>2003-10-01</td>\n",
       "      <td>True</td>\n",
       "      <td>True</td>\n",
       "      <td>1</td>\n",
       "    </tr>\n",
       "    <tr>\n",
       "      <th>6</th>\n",
       "      <td>2004</td>\n",
       "      <td>1.762914e+07</td>\n",
       "      <td>2004-10-01</td>\n",
       "      <td>True</td>\n",
       "      <td>True</td>\n",
       "      <td>1</td>\n",
       "    </tr>\n",
       "    <tr>\n",
       "      <th>7</th>\n",
       "      <td>2005</td>\n",
       "      <td>9.974000e+06</td>\n",
       "      <td>2005-10-01</td>\n",
       "      <td>True</td>\n",
       "      <td>True</td>\n",
       "      <td>1</td>\n",
       "    </tr>\n",
       "    <tr>\n",
       "      <th>8</th>\n",
       "      <td>2006</td>\n",
       "      <td>3.671255e+07</td>\n",
       "      <td>2006-10-01</td>\n",
       "      <td>True</td>\n",
       "      <td>True</td>\n",
       "      <td>1</td>\n",
       "    </tr>\n",
       "    <tr>\n",
       "      <th>9</th>\n",
       "      <td>2007</td>\n",
       "      <td>2.180257e+07</td>\n",
       "      <td>2007-10-01</td>\n",
       "      <td>True</td>\n",
       "      <td>True</td>\n",
       "      <td>1</td>\n",
       "    </tr>\n",
       "    <tr>\n",
       "      <th>10</th>\n",
       "      <td>2008</td>\n",
       "      <td>3.627770e+07</td>\n",
       "      <td>2008-10-01</td>\n",
       "      <td>True</td>\n",
       "      <td>True</td>\n",
       "      <td>1</td>\n",
       "    </tr>\n",
       "    <tr>\n",
       "      <th>11</th>\n",
       "      <td>2009</td>\n",
       "      <td>7.003360e+06</td>\n",
       "      <td>2009-10-01</td>\n",
       "      <td>True</td>\n",
       "      <td>True</td>\n",
       "      <td>1</td>\n",
       "    </tr>\n",
       "    <tr>\n",
       "      <th>12</th>\n",
       "      <td>2010</td>\n",
       "      <td>2.805164e+07</td>\n",
       "      <td>2010-10-01</td>\n",
       "      <td>True</td>\n",
       "      <td>True</td>\n",
       "      <td>1</td>\n",
       "    </tr>\n",
       "    <tr>\n",
       "      <th>13</th>\n",
       "      <td>2011</td>\n",
       "      <td>4.011668e+07</td>\n",
       "      <td>2011-10-01</td>\n",
       "      <td>True</td>\n",
       "      <td>True</td>\n",
       "      <td>1</td>\n",
       "    </tr>\n",
       "    <tr>\n",
       "      <th>14</th>\n",
       "      <td>2012</td>\n",
       "      <td>4.174823e+07</td>\n",
       "      <td>2012-10-01</td>\n",
       "      <td>True</td>\n",
       "      <td>True</td>\n",
       "      <td>1</td>\n",
       "    </tr>\n",
       "    <tr>\n",
       "      <th>15</th>\n",
       "      <td>2013</td>\n",
       "      <td>1.044636e+08</td>\n",
       "      <td>2013-10-01</td>\n",
       "      <td>True</td>\n",
       "      <td>True</td>\n",
       "      <td>1</td>\n",
       "    </tr>\n",
       "    <tr>\n",
       "      <th>16</th>\n",
       "      <td>2014</td>\n",
       "      <td>6.913269e+07</td>\n",
       "      <td>2014-10-01</td>\n",
       "      <td>True</td>\n",
       "      <td>True</td>\n",
       "      <td>1</td>\n",
       "    </tr>\n",
       "    <tr>\n",
       "      <th>17</th>\n",
       "      <td>2015</td>\n",
       "      <td>4.004883e+07</td>\n",
       "      <td>2015-10-01</td>\n",
       "      <td>True</td>\n",
       "      <td>True</td>\n",
       "      <td>1</td>\n",
       "    </tr>\n",
       "    <tr>\n",
       "      <th>18</th>\n",
       "      <td>2016</td>\n",
       "      <td>2.360896e+07</td>\n",
       "      <td>2016-10-01</td>\n",
       "      <td>True</td>\n",
       "      <td>True</td>\n",
       "      <td>1</td>\n",
       "    </tr>\n",
       "    <tr>\n",
       "      <th>19</th>\n",
       "      <td>2017</td>\n",
       "      <td>3.819265e+07</td>\n",
       "      <td>2017-10-01</td>\n",
       "      <td>True</td>\n",
       "      <td>True</td>\n",
       "      <td>1</td>\n",
       "    </tr>\n",
       "    <tr>\n",
       "      <th>20</th>\n",
       "      <td>2018</td>\n",
       "      <td>1.594560e+07</td>\n",
       "      <td>2018-10-01</td>\n",
       "      <td>True</td>\n",
       "      <td>True</td>\n",
       "      <td>1</td>\n",
       "    </tr>\n",
       "    <tr>\n",
       "      <th>21</th>\n",
       "      <td>2019</td>\n",
       "      <td>3.630035e+07</td>\n",
       "      <td>2019-10-01</td>\n",
       "      <td>True</td>\n",
       "      <td>True</td>\n",
       "      <td>1</td>\n",
       "    </tr>\n",
       "    <tr>\n",
       "      <th>22</th>\n",
       "      <td>2020</td>\n",
       "      <td>2.179300e+07</td>\n",
       "      <td>2020-10-01</td>\n",
       "      <td>True</td>\n",
       "      <td>True</td>\n",
       "      <td>1</td>\n",
       "    </tr>\n",
       "    <tr>\n",
       "      <th>23</th>\n",
       "      <td>2021</td>\n",
       "      <td>3.038069e+07</td>\n",
       "      <td>2021-10-01</td>\n",
       "      <td>True</td>\n",
       "      <td>True</td>\n",
       "      <td>1</td>\n",
       "    </tr>\n",
       "    <tr>\n",
       "      <th>24</th>\n",
       "      <td>2022</td>\n",
       "      <td>3.501512e+07</td>\n",
       "      <td>2022-10-01</td>\n",
       "      <td>True</td>\n",
       "      <td>True</td>\n",
       "      <td>1</td>\n",
       "    </tr>\n",
       "    <tr>\n",
       "      <th>25</th>\n",
       "      <td>2023</td>\n",
       "      <td>3.743737e+07</td>\n",
       "      <td>2023-10-01</td>\n",
       "      <td>True</td>\n",
       "      <td>True</td>\n",
       "      <td>1</td>\n",
       "    </tr>\n",
       "  </tbody>\n",
       "</table>\n",
       "</div>"
      ],
      "text/plain": [
       "    year            kg       date  month_10  Product_MOP  oc\n",
       "0   1997  1.724462e+07 1997-10-01      True         True   1\n",
       "1   1998  9.150000e+06 1998-10-01      True         True   1\n",
       "2   1999  1.050000e+07 1999-10-01      True         True   1\n",
       "3   2000  1.872611e+07 2000-10-01      True         True   1\n",
       "4   2001  1.044524e+07 2001-10-01      True         True   1\n",
       "5   2003  1.161144e+07 2003-10-01      True         True   1\n",
       "6   2004  1.762914e+07 2004-10-01      True         True   1\n",
       "7   2005  9.974000e+06 2005-10-01      True         True   1\n",
       "8   2006  3.671255e+07 2006-10-01      True         True   1\n",
       "9   2007  2.180257e+07 2007-10-01      True         True   1\n",
       "10  2008  3.627770e+07 2008-10-01      True         True   1\n",
       "11  2009  7.003360e+06 2009-10-01      True         True   1\n",
       "12  2010  2.805164e+07 2010-10-01      True         True   1\n",
       "13  2011  4.011668e+07 2011-10-01      True         True   1\n",
       "14  2012  4.174823e+07 2012-10-01      True         True   1\n",
       "15  2013  1.044636e+08 2013-10-01      True         True   1\n",
       "16  2014  6.913269e+07 2014-10-01      True         True   1\n",
       "17  2015  4.004883e+07 2015-10-01      True         True   1\n",
       "18  2016  2.360896e+07 2016-10-01      True         True   1\n",
       "19  2017  3.819265e+07 2017-10-01      True         True   1\n",
       "20  2018  1.594560e+07 2018-10-01      True         True   1\n",
       "21  2019  3.630035e+07 2019-10-01      True         True   1\n",
       "22  2020  2.179300e+07 2020-10-01      True         True   1\n",
       "23  2021  3.038069e+07 2021-10-01      True         True   1\n",
       "24  2022  3.501512e+07 2022-10-01      True         True   1\n",
       "25  2023  3.743737e+07 2023-10-01      True         True   1"
      ]
     },
     "execution_count": 14,
     "metadata": {},
     "output_type": "execute_result"
    }
   ],
   "source": [
    "comex_df"
   ]
  },
  {
   "cell_type": "code",
   "execution_count": 15,
   "id": "8ccf632b",
   "metadata": {},
   "outputs": [],
   "source": [
    "comex_df_t=comex_df.copy()\n",
    "for r in range(1,6):\n",
    "    train=comex_df_t[comex_df_t.year<comex_df_t.year.max()]\n",
    "    test=comex_df_t[comex_df_t.year==comex_df_t.year.max()]\n",
    "    X_train=train.drop(['kg','oc','date'],axis=1)\n",
    "    y_train=train.oc\n",
    "    X_test=test.drop(['kg','oc','date'],axis=1)\n",
    "    y_test=test.oc\n",
    "    from sklearn.ensemble import RandomForestClassifier as rfc\n",
    "    model=rfc()\n",
    "    model.fit(X_train,y_train)\n",
    "    y_pred=model.predict(X_test)\n",
    "    test['y_pred']=y_pred\n",
    "    test['y_test']=y_test\n",
    "    if r==1:\n",
    "        results=test\n",
    "    else:\n",
    "        results=pd.concat([results,test])\n",
    "    comex_df_t=comex_df_t[comex_df_t.year<comex_df_t.year.max()]"
   ]
  },
  {
   "cell_type": "code",
   "execution_count": 16,
   "id": "043d55a0",
   "metadata": {},
   "outputs": [],
   "source": [
    "comex_df=results.merge(comex_df,how='outer')"
   ]
  },
  {
   "cell_type": "code",
   "execution_count": 17,
   "id": "17c6cf27",
   "metadata": {},
   "outputs": [
    {
     "data": {
      "text/plain": [
       "(26, 9)"
      ]
     },
     "execution_count": 17,
     "metadata": {},
     "output_type": "execute_result"
    }
   ],
   "source": [
    "comex_df.shape"
   ]
  },
  {
   "cell_type": "code",
   "execution_count": 18,
   "id": "0a4738af",
   "metadata": {},
   "outputs": [],
   "source": [
    "comex_df=comex_df[(comex_df.oc==1)&(comex_df.y_pred.isin([1,np.nan]))]"
   ]
  },
  {
   "cell_type": "code",
   "execution_count": 19,
   "id": "2faf06da",
   "metadata": {},
   "outputs": [
    {
     "data": {
      "text/plain": [
       "(26, 9)"
      ]
     },
     "execution_count": 19,
     "metadata": {},
     "output_type": "execute_result"
    }
   ],
   "source": [
    "comex_df.shape"
   ]
  },
  {
   "cell_type": "markdown",
   "id": "04225460",
   "metadata": {},
   "source": [
    "# Regression"
   ]
  },
  {
   "cell_type": "code",
   "execution_count": 20,
   "id": "c24d8398",
   "metadata": {},
   "outputs": [
    {
     "data": {
      "text/html": [
       "<div>\n",
       "<style scoped>\n",
       "    .dataframe tbody tr th:only-of-type {\n",
       "        vertical-align: middle;\n",
       "    }\n",
       "\n",
       "    .dataframe tbody tr th {\n",
       "        vertical-align: top;\n",
       "    }\n",
       "\n",
       "    .dataframe thead th {\n",
       "        text-align: right;\n",
       "    }\n",
       "</style>\n",
       "<table border=\"1\" class=\"dataframe\">\n",
       "  <thead>\n",
       "    <tr style=\"text-align: right;\">\n",
       "      <th></th>\n",
       "      <th>names</th>\n",
       "      <th>importances</th>\n",
       "    </tr>\n",
       "  </thead>\n",
       "  <tbody>\n",
       "    <tr>\n",
       "      <th>5</th>\n",
       "      <td>year</td>\n",
       "      <td>0.973213</td>\n",
       "    </tr>\n",
       "    <tr>\n",
       "      <th>2</th>\n",
       "      <td>r</td>\n",
       "      <td>0.026787</td>\n",
       "    </tr>\n",
       "    <tr>\n",
       "      <th>1</th>\n",
       "      <td>month_10</td>\n",
       "      <td>0.000000</td>\n",
       "    </tr>\n",
       "    <tr>\n",
       "      <th>0</th>\n",
       "      <td>Product_MOP</td>\n",
       "      <td>0.000000</td>\n",
       "    </tr>\n",
       "    <tr>\n",
       "      <th>3</th>\n",
       "      <td>y_pred</td>\n",
       "      <td>0.000000</td>\n",
       "    </tr>\n",
       "    <tr>\n",
       "      <th>4</th>\n",
       "      <td>y_test</td>\n",
       "      <td>0.000000</td>\n",
       "    </tr>\n",
       "  </tbody>\n",
       "</table>\n",
       "</div>"
      ],
      "text/plain": [
       "         names  importances\n",
       "5         year     0.973213\n",
       "2            r     0.026787\n",
       "1     month_10     0.000000\n",
       "0  Product_MOP     0.000000\n",
       "3       y_pred     0.000000\n",
       "4       y_test     0.000000"
      ]
     },
     "metadata": {},
     "output_type": "display_data"
    }
   ],
   "source": [
    "comex_df_t_t=comex_df.copy()\n",
    "features_df=pd.DataFrame()\n",
    "for r in range(1,11):\n",
    "    train=comex_df_t_t[comex_df_t_t.year<comex_df_t_t.year.max()]\n",
    "    test=comex_df_t_t[comex_df_t_t.year==comex_df_t_t.year.max()]\n",
    "    X_train=train.drop(['kg','oc','date'],axis=1)\n",
    "    y_train=train.kg\n",
    "    X_test=test.drop(['kg','oc','date'],axis=1)\n",
    "    y_test=test.kg\n",
    "    from sklearn.ensemble import RandomForestRegressor as rfr\n",
    "    model=rfr(max_features=5)\n",
    "    model.fit(X_train,y_train)\n",
    "    t=pd.DataFrame({'names':model.feature_names_in_,'importances':model.feature_importances_})\n",
    "    features_df=pd.concat([features_df,t])\n",
    "    y_pred=model.predict(X_test)\n",
    "    test['y_pred']=y_pred\n",
    "    test['y_test']=y_test\n",
    "    test['r']=r\n",
    "    if r==1:\n",
    "        results=test\n",
    "    else:\n",
    "        results=pd.concat([results,test])\n",
    "    \n",
    "    comex_df_t=comex_df_t[comex_df_t.year<comex_df_t.year.max()]\n",
    "\n",
    "\n",
    "display(features_df.groupby('names').importances.mean().reset_index().sort_values(by='importances',ascending=False))"
   ]
  },
  {
   "cell_type": "code",
   "execution_count": 21,
   "id": "8e5828cd",
   "metadata": {},
   "outputs": [],
   "source": [
    "results=results[results.Product_MOP==1]"
   ]
  },
  {
   "cell_type": "code",
   "execution_count": 22,
   "id": "3c41e76c",
   "metadata": {},
   "outputs": [
    {
     "data": {
      "text/html": [
       "<div>\n",
       "<style scoped>\n",
       "    .dataframe tbody tr th:only-of-type {\n",
       "        vertical-align: middle;\n",
       "    }\n",
       "\n",
       "    .dataframe tbody tr th {\n",
       "        vertical-align: top;\n",
       "    }\n",
       "\n",
       "    .dataframe thead th {\n",
       "        text-align: right;\n",
       "    }\n",
       "</style>\n",
       "<table border=\"1\" class=\"dataframe\">\n",
       "  <thead>\n",
       "    <tr style=\"text-align: right;\">\n",
       "      <th></th>\n",
       "      <th>date</th>\n",
       "      <th>kg</th>\n",
       "      <th>y_test</th>\n",
       "      <th>y_pred</th>\n",
       "    </tr>\n",
       "  </thead>\n",
       "  <tbody>\n",
       "    <tr>\n",
       "      <th>25</th>\n",
       "      <td>2023-10-01</td>\n",
       "      <td>37437366.0</td>\n",
       "      <td>37437366.0</td>\n",
       "      <td>3.330771e+07</td>\n",
       "    </tr>\n",
       "    <tr>\n",
       "      <th>25</th>\n",
       "      <td>2023-10-01</td>\n",
       "      <td>37437366.0</td>\n",
       "      <td>37437366.0</td>\n",
       "      <td>3.283028e+07</td>\n",
       "    </tr>\n",
       "    <tr>\n",
       "      <th>25</th>\n",
       "      <td>2023-10-01</td>\n",
       "      <td>37437366.0</td>\n",
       "      <td>37437366.0</td>\n",
       "      <td>3.253258e+07</td>\n",
       "    </tr>\n",
       "    <tr>\n",
       "      <th>25</th>\n",
       "      <td>2023-10-01</td>\n",
       "      <td>37437366.0</td>\n",
       "      <td>37437366.0</td>\n",
       "      <td>3.277206e+07</td>\n",
       "    </tr>\n",
       "    <tr>\n",
       "      <th>25</th>\n",
       "      <td>2023-10-01</td>\n",
       "      <td>37437366.0</td>\n",
       "      <td>37437366.0</td>\n",
       "      <td>3.279754e+07</td>\n",
       "    </tr>\n",
       "    <tr>\n",
       "      <th>25</th>\n",
       "      <td>2023-10-01</td>\n",
       "      <td>37437366.0</td>\n",
       "      <td>37437366.0</td>\n",
       "      <td>3.296760e+07</td>\n",
       "    </tr>\n",
       "    <tr>\n",
       "      <th>25</th>\n",
       "      <td>2023-10-01</td>\n",
       "      <td>37437366.0</td>\n",
       "      <td>37437366.0</td>\n",
       "      <td>3.220287e+07</td>\n",
       "    </tr>\n",
       "    <tr>\n",
       "      <th>25</th>\n",
       "      <td>2023-10-01</td>\n",
       "      <td>37437366.0</td>\n",
       "      <td>37437366.0</td>\n",
       "      <td>3.235381e+07</td>\n",
       "    </tr>\n",
       "    <tr>\n",
       "      <th>25</th>\n",
       "      <td>2023-10-01</td>\n",
       "      <td>37437366.0</td>\n",
       "      <td>37437366.0</td>\n",
       "      <td>3.314202e+07</td>\n",
       "    </tr>\n",
       "    <tr>\n",
       "      <th>25</th>\n",
       "      <td>2023-10-01</td>\n",
       "      <td>37437366.0</td>\n",
       "      <td>37437366.0</td>\n",
       "      <td>3.366898e+07</td>\n",
       "    </tr>\n",
       "  </tbody>\n",
       "</table>\n",
       "</div>"
      ],
      "text/plain": [
       "         date          kg      y_test        y_pred\n",
       "25 2023-10-01  37437366.0  37437366.0  3.330771e+07\n",
       "25 2023-10-01  37437366.0  37437366.0  3.283028e+07\n",
       "25 2023-10-01  37437366.0  37437366.0  3.253258e+07\n",
       "25 2023-10-01  37437366.0  37437366.0  3.277206e+07\n",
       "25 2023-10-01  37437366.0  37437366.0  3.279754e+07\n",
       "25 2023-10-01  37437366.0  37437366.0  3.296760e+07\n",
       "25 2023-10-01  37437366.0  37437366.0  3.220287e+07\n",
       "25 2023-10-01  37437366.0  37437366.0  3.235381e+07\n",
       "25 2023-10-01  37437366.0  37437366.0  3.314202e+07\n",
       "25 2023-10-01  37437366.0  37437366.0  3.366898e+07"
      ]
     },
     "execution_count": 22,
     "metadata": {},
     "output_type": "execute_result"
    }
   ],
   "source": [
    "results[['date','kg','y_test','y_pred']]"
   ]
  },
  {
   "cell_type": "code",
   "execution_count": 23,
   "id": "1e4a56bf",
   "metadata": {},
   "outputs": [],
   "source": [
    "from sklearn.metrics import root_mean_squared_error as rse\n",
    "results['rse']=rse(results.y_test,results.y_pred)"
   ]
  },
  {
   "cell_type": "code",
   "execution_count": 24,
   "id": "1c8a41fd",
   "metadata": {},
   "outputs": [
    {
     "data": {
      "text/plain": [
       "4.598925"
      ]
     },
     "execution_count": 24,
     "metadata": {},
     "output_type": "execute_result"
    }
   ],
   "source": [
    "int(results.rse.unique())/10**6"
   ]
  },
  {
   "cell_type": "code",
   "execution_count": null,
   "id": "f79a4d2f",
   "metadata": {},
   "outputs": [],
   "source": []
  },
  {
   "cell_type": "code",
   "execution_count": null,
   "id": "7f8d246e",
   "metadata": {},
   "outputs": [],
   "source": []
  }
 ],
 "metadata": {
  "kernelspec": {
   "display_name": "Python 3 (ipykernel)",
   "language": "python",
   "name": "python3"
  },
  "language_info": {
   "codemirror_mode": {
    "name": "ipython",
    "version": 3
   },
   "file_extension": ".py",
   "mimetype": "text/x-python",
   "name": "python",
   "nbconvert_exporter": "python",
   "pygments_lexer": "ipython3",
   "version": "3.11.2"
  }
 },
 "nbformat": 4,
 "nbformat_minor": 5
}
