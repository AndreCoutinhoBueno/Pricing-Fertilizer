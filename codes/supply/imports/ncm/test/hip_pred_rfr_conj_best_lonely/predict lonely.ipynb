{
 "cells": [
  {
   "cell_type": "code",
   "execution_count": 1,
   "id": "7a34b0d6",
   "metadata": {},
   "outputs": [],
   "source": [
    "year_testing=5"
   ]
  },
  {
   "cell_type": "code",
   "execution_count": 2,
   "id": "993b141f-e8c3-44fc-88a6-5be0eb7787e8",
   "metadata": {},
   "outputs": [],
   "source": [
    "import numpy as np\n",
    "import pandas as pd\n",
    "from pandas.tseries.offsets import DateOffset\n",
    "import matplotlib.pyplot as plt\n",
    "import seaborn as sns\n",
    "import warnings\n",
    "warnings.filterwarnings(\"ignore\")\n",
    "comex_df=pd.read_csv('/home/andre301267/git/Pricing-Fertilizer/DB/temp/imp_fert_ncm_quanti.csv')"
   ]
  },
  {
   "cell_type": "markdown",
   "id": "9fc16b47",
   "metadata": {},
   "source": [
    "Filtragem preliminar"
   ]
  },
  {
   "cell_type": "code",
   "execution_count": 3,
   "id": "e086f484",
   "metadata": {},
   "outputs": [],
   "source": [
    "comex_df['date']=pd.to_datetime(comex_df.year.astype(str)+'-'+comex_df.month.astype(str)+'-01')"
   ]
  },
  {
   "cell_type": "code",
   "execution_count": 4,
   "id": "78d64f8a",
   "metadata": {},
   "outputs": [
    {
     "data": {
      "text/plain": [
       "np.int64(8)"
      ]
     },
     "execution_count": 4,
     "metadata": {},
     "output_type": "execute_result"
    }
   ],
   "source": [
    "month=comex_df[comex_df.date==comex_df.date.max()].month.max()\n",
    "month"
   ]
  },
  {
   "cell_type": "code",
   "execution_count": 5,
   "id": "146b87e2",
   "metadata": {},
   "outputs": [],
   "source": [
    "# Filtra produto e UF\n",
    "comex_df=comex_df[(comex_df.Product.isin(['MOP']))&(comex_df.UF.isin(['BA']))&(comex_df.month.isin([month]))]"
   ]
  },
  {
   "cell_type": "code",
   "execution_count": 6,
   "id": "8c88b943",
   "metadata": {},
   "outputs": [],
   "source": [
    "# filtra km\n",
    "filtra_km=comex_df[['Product','km']].drop_duplicates().sort_values(by=['Product','km'],ascending=False).drop_duplicates(subset='Product')\n",
    "comex_df=comex_df.merge(filtra_km)"
   ]
  },
  {
   "cell_type": "markdown",
   "id": "212c24bd",
   "metadata": {},
   "source": [
    "Matriz Esparsa"
   ]
  },
  {
   "cell_type": "code",
   "execution_count": 7,
   "id": "6d92aba1",
   "metadata": {},
   "outputs": [],
   "source": [
    "date_min=comex_df.date.min()\n",
    "date_max=comex_df.date.max()"
   ]
  },
  {
   "cell_type": "code",
   "execution_count": 8,
   "id": "d5ad1191",
   "metadata": {},
   "outputs": [],
   "source": [
    "years=pd.DataFrame({'year':np.arange(comex_df.year.min(),comex_df.year.max()+1)}).assign(key=0)\n",
    "months=pd.DataFrame({'month':np.arange(1,13)}).assign(key=0)\n",
    "calendar=years.merge(months,on='key')\n",
    "full=comex_df[['Product','UF']].drop_duplicates().assign(key=0).merge(calendar,on='key').drop('key',axis=1)\n",
    "comex_df=comex_df.merge(full)"
   ]
  },
  {
   "cell_type": "code",
   "execution_count": 9,
   "id": "feac9b6f",
   "metadata": {},
   "outputs": [],
   "source": [
    "comex_df[['month','Product','UF']]=comex_df[['month','Product','UF']].astype('category')\n",
    "comex_df=comex_df.groupby(by=['year','month','Product','UF'],observed=False).kg.sum().reset_index()"
   ]
  },
  {
   "cell_type": "code",
   "execution_count": 10,
   "id": "8b1adc69",
   "metadata": {},
   "outputs": [],
   "source": [
    "comex_df['date']=pd.to_datetime(comex_df.year.astype(str)+'-'+comex_df.month.astype(str)+'-01')"
   ]
  },
  {
   "cell_type": "code",
   "execution_count": 11,
   "id": "00a88dce",
   "metadata": {},
   "outputs": [],
   "source": [
    "comex_df=comex_df[(comex_df.date>=date_min)&(comex_df.date<=date_max)]"
   ]
  },
  {
   "cell_type": "markdown",
   "id": "5c4ff8cb",
   "metadata": {},
   "source": [
    "Dummies"
   ]
  },
  {
   "cell_type": "code",
   "execution_count": 12,
   "id": "3e4dbce2",
   "metadata": {},
   "outputs": [],
   "source": [
    "comex_df=pd.get_dummies(comex_df,prefix_sep='~')"
   ]
  },
  {
   "cell_type": "markdown",
   "id": "3baa3993",
   "metadata": {},
   "source": [
    "# Classify"
   ]
  },
  {
   "cell_type": "code",
   "execution_count": 13,
   "id": "639cf209",
   "metadata": {},
   "outputs": [],
   "source": [
    "comex_df=comex_df.assign(oc=0)\n",
    "comex_df.loc[comex_df.kg>0,'oc']=1"
   ]
  },
  {
   "cell_type": "code",
   "execution_count": 14,
   "id": "8ccf632b",
   "metadata": {},
   "outputs": [],
   "source": [
    "comex_df_t=comex_df.copy()\n",
    "for r in range(1,year_testing+1):\n",
    "    train=comex_df_t[comex_df_t.date<comex_df_t.date.max()]\n",
    "    test=comex_df_t[comex_df_t.date==comex_df_t.date.max()]\n",
    "    X_train=train.drop(['kg','oc','date'],axis=1)\n",
    "    y_train=train.oc\n",
    "    X_test=test.drop(['kg','oc','date'],axis=1)\n",
    "    y_test=test.oc\n",
    "    from sklearn.ensemble import RandomForestClassifier as rfc\n",
    "    model=rfc()\n",
    "    model.fit(X_train,y_train)\n",
    "    y_pred=model.predict(X_test)\n",
    "    test['y_pred']=y_pred\n",
    "    if r==1:\n",
    "        results=test\n",
    "    else:\n",
    "        results=pd.concat([results,test])\n",
    "    \n",
    "    comex_df_t=comex_df_t[comex_df_t.date<=comex_df_t.date.max()-DateOffset(years=1)]"
   ]
  },
  {
   "cell_type": "markdown",
   "id": "ef19aa40",
   "metadata": {},
   "source": [
    "# Regression"
   ]
  },
  {
   "cell_type": "code",
   "execution_count": 15,
   "id": "043d55a0",
   "metadata": {},
   "outputs": [],
   "source": [
    "comex_df=results.merge(comex_df,how='outer')"
   ]
  },
  {
   "cell_type": "code",
   "execution_count": 16,
   "id": "0a4738af",
   "metadata": {},
   "outputs": [],
   "source": [
    "comex_df=comex_df[(comex_df.oc==1)&(comex_df.y_pred.isin([1,np.nan]))]"
   ]
  },
  {
   "cell_type": "code",
   "execution_count": 17,
   "id": "c24d8398",
   "metadata": {},
   "outputs": [
    {
     "data": {
      "text/html": [
       "<div>\n",
       "<style scoped>\n",
       "    .dataframe tbody tr th:only-of-type {\n",
       "        vertical-align: middle;\n",
       "    }\n",
       "\n",
       "    .dataframe tbody tr th {\n",
       "        vertical-align: top;\n",
       "    }\n",
       "\n",
       "    .dataframe thead th {\n",
       "        text-align: right;\n",
       "    }\n",
       "</style>\n",
       "<table border=\"1\" class=\"dataframe\">\n",
       "  <thead>\n",
       "    <tr style=\"text-align: right;\">\n",
       "      <th></th>\n",
       "      <th>names</th>\n",
       "      <th>importances</th>\n",
       "    </tr>\n",
       "  </thead>\n",
       "  <tbody>\n",
       "    <tr>\n",
       "      <th>4</th>\n",
       "      <td>year</td>\n",
       "      <td>1.0</td>\n",
       "    </tr>\n",
       "    <tr>\n",
       "      <th>0</th>\n",
       "      <td>Product~MOP</td>\n",
       "      <td>0.0</td>\n",
       "    </tr>\n",
       "    <tr>\n",
       "      <th>1</th>\n",
       "      <td>UF~BA</td>\n",
       "      <td>0.0</td>\n",
       "    </tr>\n",
       "    <tr>\n",
       "      <th>2</th>\n",
       "      <td>month~8</td>\n",
       "      <td>0.0</td>\n",
       "    </tr>\n",
       "    <tr>\n",
       "      <th>3</th>\n",
       "      <td>y_pred</td>\n",
       "      <td>0.0</td>\n",
       "    </tr>\n",
       "  </tbody>\n",
       "</table>\n",
       "</div>"
      ],
      "text/plain": [
       "         names  importances\n",
       "4         year          1.0\n",
       "0  Product~MOP          0.0\n",
       "1        UF~BA          0.0\n",
       "2      month~8          0.0\n",
       "3       y_pred          0.0"
      ]
     },
     "metadata": {},
     "output_type": "display_data"
    }
   ],
   "source": [
    "comex_df_t=comex_df.copy()\n",
    "features_df=pd.DataFrame()\n",
    "for r in range(1,year_testing+1):\n",
    "    train=comex_df_t[comex_df_t.date<comex_df_t.date.max()]\n",
    "    test=comex_df_t[comex_df_t.date==comex_df_t.date.max()]\n",
    "    X_train=train.drop(['kg','oc','date'],axis=1)\n",
    "    y_train=train.kg\n",
    "    X_test=test.drop(['kg','oc','date'],axis=1)\n",
    "    y_test=test.kg\n",
    "    from sklearn.ensemble import RandomForestRegressor as rfr\n",
    "    model=rfr()\n",
    "    model.fit(X_train,y_train)\n",
    "    t=pd.DataFrame({'names':model.feature_names_in_,'importances':model.feature_importances_})\n",
    "    features_df=pd.concat([features_df,t])\n",
    "    y_pred=model.predict(X_test)\n",
    "    test['y_pred']=y_pred\n",
    "    if r==1:\n",
    "        results=test\n",
    "    else:\n",
    "        results=pd.concat([results,test])\n",
    "    \n",
    "    comex_df_t=comex_df_t[comex_df_t.date<=comex_df_t.date.max()-DateOffset(years=1)]\n",
    "\n",
    "\n",
    "display(features_df.groupby('names').importances.mean().reset_index().sort_values(by='importances',ascending=False))"
   ]
  },
  {
   "cell_type": "code",
   "execution_count": 18,
   "id": "66ac6900",
   "metadata": {},
   "outputs": [],
   "source": [
    "o=results[results.columns[~results.columns.str.contains('~')]]"
   ]
  },
  {
   "cell_type": "code",
   "execution_count": 19,
   "id": "eedb29fd",
   "metadata": {},
   "outputs": [],
   "source": [
    "prdt=pd.from_dummies(results[results.columns[results.columns.str.contains('Pro')]],sep='~')"
   ]
  },
  {
   "cell_type": "code",
   "execution_count": 20,
   "id": "dc346226",
   "metadata": {},
   "outputs": [],
   "source": [
    "month=pd.from_dummies(results[results.columns[results.columns.str.contains('month')]],sep='~')"
   ]
  },
  {
   "cell_type": "code",
   "execution_count": 21,
   "id": "72f10c10",
   "metadata": {},
   "outputs": [],
   "source": [
    "uf=pd.from_dummies(results[results.columns[results.columns.str.contains('UF')]],sep='~')"
   ]
  },
  {
   "cell_type": "code",
   "execution_count": 22,
   "id": "53d79377",
   "metadata": {},
   "outputs": [],
   "source": [
    "results=pd.concat([o,prdt,month,uf],axis=1)"
   ]
  },
  {
   "cell_type": "code",
   "execution_count": 23,
   "id": "42ea861a",
   "metadata": {},
   "outputs": [],
   "source": [
    "mes=results.month.unique()[0]"
   ]
  },
  {
   "cell_type": "code",
   "execution_count": 24,
   "id": "8981521e",
   "metadata": {},
   "outputs": [
    {
     "data": {
      "text/html": [
       "<div>\n",
       "<style scoped>\n",
       "    .dataframe tbody tr th:only-of-type {\n",
       "        vertical-align: middle;\n",
       "    }\n",
       "\n",
       "    .dataframe tbody tr th {\n",
       "        vertical-align: top;\n",
       "    }\n",
       "\n",
       "    .dataframe thead th {\n",
       "        text-align: right;\n",
       "    }\n",
       "</style>\n",
       "<table border=\"1\" class=\"dataframe\">\n",
       "  <thead>\n",
       "    <tr style=\"text-align: right;\">\n",
       "      <th></th>\n",
       "      <th>year</th>\n",
       "      <th>kg</th>\n",
       "      <th>date</th>\n",
       "      <th>oc</th>\n",
       "      <th>y_pred</th>\n",
       "      <th>Product</th>\n",
       "      <th>month</th>\n",
       "      <th>UF</th>\n",
       "    </tr>\n",
       "  </thead>\n",
       "  <tbody>\n",
       "    <tr>\n",
       "      <th>24</th>\n",
       "      <td>2024</td>\n",
       "      <td>73074320.0</td>\n",
       "      <td>2024-08-01</td>\n",
       "      <td>1</td>\n",
       "      <td>37491896.28</td>\n",
       "      <td>MOP</td>\n",
       "      <td>8</td>\n",
       "      <td>BA</td>\n",
       "    </tr>\n",
       "    <tr>\n",
       "      <th>23</th>\n",
       "      <td>2023</td>\n",
       "      <td>37734795.0</td>\n",
       "      <td>2023-08-01</td>\n",
       "      <td>1</td>\n",
       "      <td>39011307.08</td>\n",
       "      <td>MOP</td>\n",
       "      <td>8</td>\n",
       "      <td>BA</td>\n",
       "    </tr>\n",
       "    <tr>\n",
       "      <th>22</th>\n",
       "      <td>2022</td>\n",
       "      <td>46383060.0</td>\n",
       "      <td>2022-08-01</td>\n",
       "      <td>1</td>\n",
       "      <td>28677440.24</td>\n",
       "      <td>MOP</td>\n",
       "      <td>8</td>\n",
       "      <td>BA</td>\n",
       "    </tr>\n",
       "    <tr>\n",
       "      <th>21</th>\n",
       "      <td>2021</td>\n",
       "      <td>27695000.0</td>\n",
       "      <td>2021-08-01</td>\n",
       "      <td>1</td>\n",
       "      <td>29480712.29</td>\n",
       "      <td>MOP</td>\n",
       "      <td>8</td>\n",
       "      <td>BA</td>\n",
       "    </tr>\n",
       "    <tr>\n",
       "      <th>20</th>\n",
       "      <td>2020</td>\n",
       "      <td>15415000.0</td>\n",
       "      <td>2020-08-01</td>\n",
       "      <td>1</td>\n",
       "      <td>59775644.73</td>\n",
       "      <td>MOP</td>\n",
       "      <td>8</td>\n",
       "      <td>BA</td>\n",
       "    </tr>\n",
       "  </tbody>\n",
       "</table>\n",
       "</div>"
      ],
      "text/plain": [
       "    year          kg       date  oc       y_pred Product month  UF\n",
       "24  2024  73074320.0 2024-08-01   1  37491896.28     MOP     8  BA\n",
       "23  2023  37734795.0 2023-08-01   1  39011307.08     MOP     8  BA\n",
       "22  2022  46383060.0 2022-08-01   1  28677440.24     MOP     8  BA\n",
       "21  2021  27695000.0 2021-08-01   1  29480712.29     MOP     8  BA\n",
       "20  2020  15415000.0 2020-08-01   1  59775644.73     MOP     8  BA"
      ]
     },
     "execution_count": 24,
     "metadata": {},
     "output_type": "execute_result"
    }
   ],
   "source": [
    "results[(results.Product=='MOP')&(results.month==mes)&(results.UF=='BA')]"
   ]
  },
  {
   "cell_type": "code",
   "execution_count": 25,
   "id": "1e4a56bf",
   "metadata": {},
   "outputs": [],
   "source": [
    "from sklearn.metrics import root_mean_squared_error as rse\n",
    "results['rse']=rse(results.kg,results.y_pred)"
   ]
  },
  {
   "cell_type": "code",
   "execution_count": 26,
   "id": "1c8a41fd",
   "metadata": {},
   "outputs": [
    {
     "data": {
      "text/plain": [
       "26"
      ]
     },
     "execution_count": 26,
     "metadata": {},
     "output_type": "execute_result"
    }
   ],
   "source": [
    "int(results.rse.unique()/10**6)"
   ]
  }
 ],
 "metadata": {
  "kernelspec": {
   "display_name": "Python 3 (ipykernel)",
   "language": "python",
   "name": "python3"
  },
  "language_info": {
   "codemirror_mode": {
    "name": "ipython",
    "version": 3
   },
   "file_extension": ".py",
   "mimetype": "text/x-python",
   "name": "python",
   "nbconvert_exporter": "python",
   "pygments_lexer": "ipython3",
   "version": "3.11.2"
  }
 },
 "nbformat": 4,
 "nbformat_minor": 5
}
