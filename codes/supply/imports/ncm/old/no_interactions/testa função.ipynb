{
 "cells": [
  {
   "cell_type": "code",
   "execution_count": 1,
   "id": "f661b91a-29c9-4970-919a-0013cc84fa68",
   "metadata": {},
   "outputs": [],
   "source": [
    "import time\n",
    "ini_tempo=time.time()\n",
    "\n",
    "import datetime\n",
    "\n",
    "import warnings\n",
    "warnings.filterwarnings(\"ignore\")\n",
    "\n",
    "import pandas as pd\n",
    "import numpy as np\n",
    "import seaborn as sns\n",
    "\n",
    "from sklearn.ensemble import RandomForestClassifier as RFC_\n",
    "from sklearn.ensemble import RandomForestRegressor as RFR_\n",
    "from sklearn import metrics\n",
    "\n",
    "\n",
    "rept=1\n",
    "quanti_col='KG_LIQUIDO'\n",
    "\n",
    "md_c=None\n",
    "md_r=None\n",
    "y_active=10\n",
    "comp_min=5\n",
    "comp_max=None # Esta com problema se fñao for None\n",
    "\n",
    "imp_fert=pd.read_csv('~/git/BD/temp/imp_fert_quanti.csv')"
   ]
  },
  {
   "cell_type": "code",
   "execution_count": 2,
   "id": "8f5ed70a-686d-47d2-ba60-dc1b507b647d",
   "metadata": {},
   "outputs": [],
   "source": [
    "# Filtra deixando passar o mês de maior quantidade\n",
    "g=imp_fert.groupby('CO_MES').KG_LIQUIDO.sum().sort_values(ascending=False)\n",
    "#print(g)\n",
    "g=g.index[1]\n",
    "imp_fert=imp_fert[imp_fert.CO_MES==g]"
   ]
  },
  {
   "cell_type": "code",
   "execution_count": 3,
   "id": "d8754290-0f52-4522-a9d7-169387e2d2b5",
   "metadata": {},
   "outputs": [
    {
     "name": "stdout",
     "output_type": "stream",
     "text": [
      "nick_list: ['UREIA_k', 'MOP_k', 'MAP_k', 'SAM_k']\n",
      "nick_list: ['UREIA_k']\n"
     ]
    }
   ],
   "source": [
    "# Seleciona UF e nick\n",
    "uf_list=['BA']\n",
    "nick_list_list=[['UREIA_k','MOP_k','MAP_k','SAM_k'],['UREIA_k']]\n",
    "\n",
    "s=pd.DataFrame()\n",
    "\n",
    "# Inicia loop sobre as listas de nick\n",
    "for nick_list in nick_list_list:\n",
    "\n",
    "    print('nick_list:',nick_list)\n",
    "    \n",
    "    # Filtra nick listados\n",
    "    imp_fert_t=imp_fert[(imp_fert.SG_UF_NCM.astype(str).isin(uf_list))&(imp_fert.nick.astype(str).isin(nick_list))]\n",
    "    \n",
    "    # Cria date\n",
    "    imp_fert_t['date']=pd.to_datetime(imp_fert_t.CO_ANO.astype(str)+'/'+imp_fert_t.CO_MES.astype(str)+'/1')\n",
    "    \n",
    "    u=pd.DataFrame()\n",
    "    # Inicia loop sobre as datas\n",
    "    for date_pred in imp_fert_t.date.unique().tolist():\n",
    "            \n",
    "        imp_fert_t2=imp_fert_t[imp_fert_t.date<=date_pred]\n",
    "\n",
    "        # Informa os tipo das colunas categóricas\n",
    "        imp_fert_t2[['CO_MES','nick','SG_UF_NCM','CO_PAIS','CO_URF']]=\\\n",
    "        imp_fert_t2[['CO_MES','nick','SG_UF_NCM','CO_PAIS','CO_URF']].astype('category')\n",
    "    \n",
    "        #################### Filtra categorias ativas ####################\n",
    "        %run '~/git/BD/Comexstat/function/filtra_categorias_ativas.ipynb'\n",
    "        imp_fert_t2=filtra_categorias_ativas(imp_fert_t2)\n",
    "        ##################################################################\n",
    "       \n",
    "        ############## preve(comex_df_NCM,comp_min,comp_max,md_c,md_r,quanti_col)####################################################\n",
    "        %run '~/git/BD/Comexstat/function/preve.ipynb'\n",
    "        score=preve(imp_fert_t2,nick_list,date_pred,comp_min,comp_max,md_c,md_r,quanti_col)\n",
    "        #############################################################################################################################\n",
    "        \n",
    "        u=pd.concat([u,score])\n",
    "        \n",
    "    s=pd.concat([s,u])\n"
   ]
  },
  {
   "cell_type": "code",
   "execution_count": 4,
   "id": "90719570-5399-4b4a-84c0-5958b1f02881",
   "metadata": {},
   "outputs": [
    {
     "data": {
      "text/plain": [
       "Text(0.5, 1.01, 'testemunha')"
      ]
     },
     "execution_count": 4,
     "metadata": {},
     "output_type": "execute_result"
    },
    {
     "data": {
      "image/png": "[encoded data removed]",
      "text/plain": [
       "<Figure size 200x200 with 1 Axes>"
      ]
     },
     "metadata": {},
     "output_type": "display_data"
    }
   ],
   "source": [
    "s[['date']]=s[['date']].astype('datetime64[ns]')\n",
    "\n",
    "s=s[s.nick=='UREIA_k']\n",
    "\n",
    "s.loc[s.nick_list==s.nick_list.unique()[0],'tipo']='tratamento'\n",
    "\n",
    "s.loc[s.nick_list==s.nick_list.unique()[1],'tipo']='testemunha'\n",
    "\n",
    "sg=round(s.groupby(by=['tipo','date_pred','rept'])[['KG_LIQUIDO','kg_pred']].mean()/10**6).reset_index().sort_values('date_pred')\n",
    "\n",
    "sg=sg.assign(p_pred_real=round(sg.kg_pred/sg.KG_LIQUIDO,2))\n",
    "\n",
    "t='testemunha'\n",
    "sns.displot(data=sg[sg.tipo==t],x='p_pred_real',height=2,bins=5).fig.suptitle(t,y=1.01)"
   ]
  },
  {
   "cell_type": "code",
   "execution_count": 5,
   "id": "162ddc92-4e9f-493e-b5fb-98de262ffbf2",
   "metadata": {},
   "outputs": [
    {
     "data": {
      "text/plain": [
       "Text(0.5, 1.01, 'tratamento')"
      ]
     },
     "execution_count": 5,
     "metadata": {},
     "output_type": "execute_result"
    },
    {
     "data": {
      "image/png": "[encoded data removed]",
      "text/plain": [
       "<Figure size 200x200 with 1 Axes>"
      ]
     },
     "metadata": {},
     "output_type": "display_data"
    }
   ],
   "source": [
    "t='tratamento'\n",
    "sns.displot(data=sg[sg.tipo==t],x='p_pred_real',height=2,bins=5).fig.suptitle(t,y=1.01)"
   ]
  },
  {
   "cell_type": "code",
   "execution_count": 6,
   "id": "f5645381-0bf4-4ac6-9a9b-7dbf79e3f950",
   "metadata": {},
   "outputs": [
    {
     "data": {
      "text/plain": [
       "Index(['tipo', 'date_pred', 'rept', 'KG_LIQUIDO', 'kg_pred', 'p_pred_real'], dtype='object')"
      ]
     },
     "execution_count": 6,
     "metadata": {},
     "output_type": "execute_result"
    }
   ],
   "source": [
    "sg.columns"
   ]
  },
  {
   "cell_type": "code",
   "execution_count": 7,
   "id": "dbc11852-8b77-4953-8e7a-52aa24d4116e",
   "metadata": {},
   "outputs": [
    {
     "data": {
      "text/html": [
       "<div>\n",
       "<style scoped>\n",
       "    .dataframe tbody tr th:only-of-type {\n",
       "        vertical-align: middle;\n",
       "    }\n",
       "\n",
       "    .dataframe tbody tr th {\n",
       "        vertical-align: top;\n",
       "    }\n",
       "\n",
       "    .dataframe thead th {\n",
       "        text-align: right;\n",
       "    }\n",
       "</style>\n",
       "<table border=\"1\" class=\"dataframe\">\n",
       "  <thead>\n",
       "    <tr style=\"text-align: right;\">\n",
       "      <th></th>\n",
       "      <th>tratamento</th>\n",
       "      <th>testemunha</th>\n",
       "      <th>dif</th>\n",
       "    </tr>\n",
       "  </thead>\n",
       "  <tbody>\n",
       "    <tr>\n",
       "      <th>3</th>\n",
       "      <td>2.27</td>\n",
       "      <td>2.00</td>\n",
       "      <td>0.27</td>\n",
       "    </tr>\n",
       "    <tr>\n",
       "      <th>11</th>\n",
       "      <td>4.00</td>\n",
       "      <td>7.67</td>\n",
       "      <td>-3.67</td>\n",
       "    </tr>\n",
       "    <tr>\n",
       "      <th>12</th>\n",
       "      <td>1.50</td>\n",
       "      <td>3.50</td>\n",
       "      <td>-2.00</td>\n",
       "    </tr>\n",
       "    <tr>\n",
       "      <th>13</th>\n",
       "      <td>2.60</td>\n",
       "      <td>1.60</td>\n",
       "      <td>1.00</td>\n",
       "    </tr>\n",
       "    <tr>\n",
       "      <th>15</th>\n",
       "      <td>0.50</td>\n",
       "      <td>0.46</td>\n",
       "      <td>0.04</td>\n",
       "    </tr>\n",
       "  </tbody>\n",
       "</table>\n",
       "</div>"
      ],
      "text/plain": [
       "    tratamento  testemunha   dif\n",
       "3         2.27        2.00  0.27\n",
       "11        4.00        7.67 -3.67\n",
       "12        1.50        3.50 -2.00\n",
       "13        2.60        1.60  1.00\n",
       "15        0.50        0.46  0.04"
      ]
     },
     "execution_count": 7,
     "metadata": {},
     "output_type": "execute_result"
    }
   ],
   "source": [
    "a=sg[sg.tipo=='testemunha'].rename(columns={'p_pred_real':'testemunha'}).reset_index(drop=True).drop(columns='tipo')\n",
    "b=sg[sg.tipo=='tratamento'].rename(columns={'p_pred_real':'tratamento'}).reset_index(drop=True).drop(columns=['tipo','kg_pred'])\n",
    "\n",
    "sg1=a.merge(b,how='outer')\n",
    "\n",
    "sg1=sg1[['tratamento','testemunha']].dropna()\n",
    "\n",
    "sg1=sg1.assign(dif=sg1[sg1.columns[0]]-sg1[sg1.columns[1]])\n",
    "\n",
    "sg1.head()"
   ]
  },
  {
   "cell_type": "code",
   "execution_count": 8,
   "id": "36465517-49f7-431f-9650-3959fc99a927",
   "metadata": {},
   "outputs": [
    {
     "data": {
      "text/plain": [
       "tratamento    1.774545\n",
       "testemunha    2.150000\n",
       "dif          -0.375455\n",
       "dtype: float64"
      ]
     },
     "execution_count": 8,
     "metadata": {},
     "output_type": "execute_result"
    }
   ],
   "source": [
    "sg1.mean()"
   ]
  },
  {
   "cell_type": "code",
   "execution_count": 9,
   "id": "5171e246-e870-4d0a-b3e8-7db8b61d9369",
   "metadata": {},
   "outputs": [
    {
     "data": {
      "text/plain": [
       "tratamento    1.439273\n",
       "testemunha    2.151004\n",
       "dif           1.355790\n",
       "dtype: float64"
      ]
     },
     "execution_count": 9,
     "metadata": {},
     "output_type": "execute_result"
    }
   ],
   "source": [
    "sg1.std()"
   ]
  },
  {
   "cell_type": "code",
   "execution_count": 11,
   "id": "daaf6ccb-d601-4cc3-9400-1b00ce802dfc",
   "metadata": {},
   "outputs": [
    {
     "data": {
      "text/plain": [
       "(-0.37545454545454554, 1.3557902760852332)"
      ]
     },
     "execution_count": 11,
     "metadata": {},
     "output_type": "execute_result"
    }
   ],
   "source": [
    "mean_dif=sg1.dif.mean()\n",
    "std_dif=sg1.dif.std()\n",
    "mean_dif,std_dif"
   ]
  },
  {
   "cell_type": "code",
   "execution_count": 12,
   "id": "528fadd2-8645-4008-b386-4a2bad04f99d",
   "metadata": {},
   "outputs": [
    {
     "data": {
      "text/plain": [
       "0.2769267135759736"
      ]
     },
     "execution_count": 12,
     "metadata": {},
     "output_type": "execute_result"
    }
   ],
   "source": [
    "# h1 maior que zero\n",
    "z_score=(0-mean_dif)/std_dif\n",
    "z_score"
   ]
  },
  {
   "cell_type": "code",
   "execution_count": 13,
   "id": "947df1e4-1d6b-461d-bdd8-6392b4733e20",
   "metadata": {},
   "outputs": [
    {
     "name": "stdout",
     "output_type": "stream",
     "text": [
      "O p_value foi de 0.609.\n"
     ]
    }
   ],
   "source": [
    "from scipy.stats import norm\n",
    "p=round(norm.cdf(z_score,loc=0,scale=1),3)\n",
    "print(f\"O p_value foi de {p}.\")"
   ]
  },
  {
   "cell_type": "code",
   "execution_count": 14,
   "id": "2e36d1be-1a66-426c-a82b-67601375be62",
   "metadata": {},
   "outputs": [
    {
     "name": "stdout",
     "output_type": "stream",
     "text": [
      "\n",
      "\n",
      "Pelo método paramétrico, com significância de 0.05, \"fail to reject Ho\"\n",
      "\n",
      "    O tratamento NÃO FOI MELHOR do que a testemunha.\n"
     ]
    }
   ],
   "source": [
    "alpha=0.05\n",
    "if p<=alpha:\n",
    "    print(f'\\n\\nPelo método paramétrico, com significância de {alpha}, \"reject Ho\"\\n\\n\\\n",
    "    O tratamento FOI MELHOR do que a testemunha.')\n",
    "else:\n",
    "    print(f'\\n\\nPelo método paramétrico, com significância de {alpha}, \"fail to reject Ho\"\\n\\n\\\n",
    "    O tratamento NÃO FOI MELHOR do que a testemunha.')"
   ]
  },
  {
   "cell_type": "code",
   "execution_count": 15,
   "id": "bccac562-05b4-4f93-82b9-6a7d7fdbe617",
   "metadata": {},
   "outputs": [
    {
     "name": "stdout",
     "output_type": "stream",
     "text": [
      "\n",
      "\n",
      "Pelo método paramétrico, com significância de 0.05, \"fail to reject Ho\"\n",
      "\n",
      "    O tratamento NÃO FOI PIOR do que a testemunha.\n"
     ]
    }
   ],
   "source": [
    "beta=1-0.05\n",
    "if p>=beta:\n",
    "    print(f'\\n\\nPelo método paramétrico, com significância de {alpha}, \"reject Ho\"\\n\\n\\\n",
    "    O tratamento FOI PIOR do que a testemunha.')\n",
    "else:\n",
    "    print(f'\\n\\nPelo método paramétrico, com significância de {alpha}, \"fail to reject Ho\"\\n\\n\\\n",
    "    O tratamento NÃO FOI PIOR do que a testemunha.')"
   ]
  },
  {
   "cell_type": "code",
   "execution_count": 16,
   "id": "1be89dfa-d370-4275-a465-59f8478e4603",
   "metadata": {},
   "outputs": [
    {
     "data": {
      "text/plain": [
       "<seaborn.axisgrid.FacetGrid at 0x7f7cbc271110>"
      ]
     },
     "execution_count": 16,
     "metadata": {},
     "output_type": "execute_result"
    },
    {
     "data": {
      "image/png": "[encoded data removed]",
      "text/plain": [
       "<Figure size 300x300 with 1 Axes>"
      ]
     },
     "metadata": {},
     "output_type": "display_data"
    }
   ],
   "source": [
    "sns.displot(data=sg1,x='dif',height=3,bins=5)"
   ]
  },
  {
   "cell_type": "code",
   "execution_count": null,
   "id": "496377e1-2149-40d3-beee-5d7f4a6d06b3",
   "metadata": {},
   "outputs": [],
   "source": [
    "fim_tempo=time.time()\n",
    "print('\\n\\n',round((fim_tempo-ini_tempo)/60,1),' minutos\\n\\n')"
   ]
  },
  {
   "cell_type": "code",
   "execution_count": null,
   "id": "43bc5ee7-5d58-4a12-aad1-96ed0d436289",
   "metadata": {},
   "outputs": [],
   "source": []
  }
 ],
 "metadata": {
  "kernelspec": {
   "display_name": "Python 3 (ipykernel)",
   "language": "python",
   "name": "python3"
  },
  "language_info": {
   "codemirror_mode": {
    "name": "ipython",
    "version": 3
   },
   "file_extension": ".py",
   "mimetype": "text/x-python",
   "name": "python",
   "nbconvert_exporter": "python",
   "pygments_lexer": "ipython3",
   "version": "3.11.2"
  }
 },
 "nbformat": 4,
 "nbformat_minor": 5
}
