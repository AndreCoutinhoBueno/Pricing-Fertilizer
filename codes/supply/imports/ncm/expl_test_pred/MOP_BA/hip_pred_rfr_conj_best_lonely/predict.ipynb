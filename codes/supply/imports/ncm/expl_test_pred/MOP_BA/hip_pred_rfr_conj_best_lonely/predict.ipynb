{
 "cells": [
  {
   "cell_type": "code",
   "execution_count": 1,
   "id": "d6ee7fc9-ab02-472e-b9fb-a5d3b16a649f",
   "metadata": {},
   "outputs": [],
   "source": [
    "import time\n",
    "time_ini=time.time()"
   ]
  },
  {
   "cell_type": "code",
   "execution_count": 2,
   "id": "993b141f-e8c3-44fc-88a6-5be0eb7787e8",
   "metadata": {},
   "outputs": [
    {
     "name": "stdout",
     "output_type": "stream",
     "text": [
      "<class 'pandas.core.frame.DataFrame'>\n",
      "RangeIndex: 978 entries, 0 to 977\n",
      "Data columns (total 18 columns):\n",
      " #   Column         Non-Null Count  Dtype         \n",
      "---  ------         --------------  -----         \n",
      " 0   date           978 non-null    datetime64[ns]\n",
      " 1   kg             978 non-null    float64       \n",
      " 2   month~1        978 non-null    bool          \n",
      " 3   month~2        978 non-null    bool          \n",
      " 4   month~3        978 non-null    bool          \n",
      " 5   month~4        978 non-null    bool          \n",
      " 6   month~5        978 non-null    bool          \n",
      " 7   month~6        978 non-null    bool          \n",
      " 8   month~7        978 non-null    bool          \n",
      " 9   month~8        978 non-null    bool          \n",
      " 10  month~9        978 non-null    bool          \n",
      " 11  month~10       978 non-null    bool          \n",
      " 12  month~11       978 non-null    bool          \n",
      " 13  month~12       978 non-null    bool          \n",
      " 14  Product~MAP    978 non-null    bool          \n",
      " 15  Product~MOP    978 non-null    bool          \n",
      " 16  Product~UREIA  978 non-null    bool          \n",
      " 17  oc             978 non-null    int64         \n",
      "dtypes: bool(15), datetime64[ns](1), float64(1), int64(1)\n",
      "memory usage: 37.4 KB\n"
     ]
    }
   ],
   "source": [
    "import numpy as np\n",
    "import pandas as pd\n",
    "from pandas.tseries.offsets import DateOffset\n",
    "import matplotlib.pyplot as plt\n",
    "import seaborn as sns\n",
    "import warnings\n",
    "warnings.filterwarnings(\"ignore\")\n",
    "comex_df_dum=pd.read_csv('/home/andre301267/git/Pricing-Fertilizer/DB/temp/imp_fert_select.csv',parse_dates=['date'])\n",
    "comex_df_dum.info()"
   ]
  },
  {
   "cell_type": "markdown",
   "id": "b30b59ec-9822-417d-a329-5fa0bbf2a724",
   "metadata": {},
   "source": [
    "# LOOP"
   ]
  },
  {
   "cell_type": "code",
   "execution_count": 4,
   "id": "3b06934d-0be0-4ac3-a90b-7449edb5d4fd",
   "metadata": {},
   "outputs": [
    {
     "ename": "NameError",
     "evalue": "name 'ano_dum' is not defined",
     "output_type": "error",
     "traceback": [
      "\u001b[0;31m---------------------------------------------------------------------------\u001b[0m",
      "\u001b[0;31mNameError\u001b[0m                                 Traceback (most recent call last)",
      "Cell \u001b[0;32mIn[4], line 46\u001b[0m\n\u001b[1;32m     42\u001b[0m mes_dum\u001b[38;5;241m=\u001b[39mtest[test\u001b[38;5;241m.\u001b[39mcolumns[test\u001b[38;5;241m.\u001b[39mcolumns\u001b[38;5;241m.\u001b[39mstr\u001b[38;5;241m.\u001b[39mcontains(\u001b[38;5;124m'\u001b[39m\u001b[38;5;124mmonth\u001b[39m\u001b[38;5;124m'\u001b[39m)]]\n\u001b[1;32m     44\u001b[0m Product_dum\u001b[38;5;241m=\u001b[39mtest[test\u001b[38;5;241m.\u001b[39mcolumns[test\u001b[38;5;241m.\u001b[39mcolumns\u001b[38;5;241m.\u001b[39mstr\u001b[38;5;241m.\u001b[39mcontains(\u001b[38;5;124m'\u001b[39m\u001b[38;5;124mProduct\u001b[39m\u001b[38;5;124m'\u001b[39m)]]\n\u001b[0;32m---> 46\u001b[0m w\u001b[38;5;241m=\u001b[39m(\u001b[43mano_dum\u001b[49m\u001b[38;5;241m+\u001b[39mmes_dum\u001b[38;5;241m+\u001b[39mProduct_dum)\u001b[38;5;241m.\u001b[39mcolumns\n\u001b[1;32m     48\u001b[0m outros\u001b[38;5;241m=\u001b[39mtest[[x \u001b[38;5;28;01mfor\u001b[39;00m x \u001b[38;5;129;01min\u001b[39;00m test\u001b[38;5;241m.\u001b[39mcolumns \u001b[38;5;28;01mif\u001b[39;00m x \u001b[38;5;129;01mnot\u001b[39;00m \u001b[38;5;129;01min\u001b[39;00m w]]\n\u001b[1;32m     50\u001b[0m l\u001b[38;5;241m=\u001b[39m[ano_dum,mes_dum,Product_dum]\n",
      "\u001b[0;31mNameError\u001b[0m: name 'ano_dum' is not defined"
     ]
    }
   ],
   "source": [
    "qq=pd.DataFrame()\n",
    "\n",
    "for rr in range(1,6):\n",
    "\n",
    "    predict_date=comex_df_dum.date.max()-DateOffset(months=12*rr-1)\n",
    "    \n",
    "    train=comex_df_dum[comex_df_dum.date<predict_date]\n",
    "    test=comex_df_dum[comex_df_dum.date==predict_date]\n",
    "    \n",
    "    train.date=train.date.astype(int)\n",
    "    test.date=test.date.astype(int)\n",
    "    \n",
    "    # Classificação\n",
    "    \n",
    "    X_train=train.drop(columns=['kg','oc'])\n",
    "    y_train=train.oc\n",
    "    X_test=test.drop(columns=['kg','oc'])\n",
    "    \n",
    "    from sklearn.ensemble import RandomForestClassifier as RFC\n",
    "    RFC=RFC()\n",
    "    RFC.fit(X_train,y_train)\n",
    "    test=test.assign(oc_pred=RFC.predict(X_test))\n",
    "    \n",
    "    # Regressão\n",
    "    \n",
    "    train=train[train.oc==1]\n",
    "    \n",
    "    test=test[(test.oc==1)&(test.oc_pred==1)]\n",
    "    \n",
    "    X_train=train.drop(columns=['kg','oc'])\n",
    "    y_train=train.kg\n",
    "    X_test=test.drop(columns=['kg','oc','oc_pred'])\n",
    "        \n",
    "    from sklearn.ensemble import RandomForestRegressor as RFR\n",
    "    RFR=RFR(max_features=10, max_depth=10)\n",
    "    \n",
    "    \n",
    "    RFR.fit(X_train,y_train)\n",
    "    test=test.assign(kg_test_rfr=RFR.predict(X_test))\n",
    "\n",
    "    \n",
    "    mes_dum=test[test.columns[test.columns.str.contains('month')]]\n",
    "    \n",
    "    Product_dum=test[test.columns[test.columns.str.contains('Product')]]\n",
    "    \n",
    "    w=(ano_dum+mes_dum+Product_dum).columns\n",
    "    \n",
    "    outros=test[[x for x in test.columns if x not in w]]\n",
    "    \n",
    "    l=[ano_dum,mes_dum,Product_dum]\n",
    "    \n",
    "    q1=pd.DataFrame()\n",
    "    for x in l:\n",
    "        t=pd.from_dummies(x,sep='~')\n",
    "        q1=pd.concat([q1,t],axis=1)\n",
    "    \n",
    "    test_pred=pd.concat([q1,outros],axis=1)\n",
    "    \n",
    "    test_pred[test_pred.columns[test_pred.columns.str.contains('KG')]]=\\\n",
    "    test_pred[test_pred.columns[test_pred.columns.str.contains('KG')]].astype(int)\n",
    "    \n",
    "    test_pred.date=test_pred.date.astype('datetime64[ns]')\n",
    "    \n",
    "    qq=pd.concat([qq,test_pred])"
   ]
  },
  {
   "cell_type": "code",
   "execution_count": null,
   "id": "325de7bc",
   "metadata": {},
   "outputs": [],
   "source": [
    "qq"
   ]
  },
  {
   "cell_type": "code",
   "execution_count": 5,
   "id": "4a879bc3-d747-416f-bdc4-3cfa0a263668",
   "metadata": {},
   "outputs": [],
   "source": [
    "from sklearn import metrics"
   ]
  },
  {
   "cell_type": "code",
   "execution_count": null,
   "id": "258b8d21-7fbd-403e-88a6-b289e4daee64",
   "metadata": {},
   "outputs": [],
   "source": [
    "qqq=pd.DataFrame()\n",
    "for ww in qq.Product.unique():\n",
    "    qqt=qq[qq.Product==ww]\n",
    "    std_lr=round(metrics.mean_squared_error(qqt['kg'],qqt['kg_test_lr'])**(1/2))\n",
    "    std_rfr=round(metrics.mean_squared_error(qqt['kg'],qqt['kg_test_rfr'])**(1/2))\n",
    "    std_df=pd.DataFrame({'Product':[ww],'std_lr':[std_lr],'std_rfr':[std_rfr]})\n",
    "    qqq=pd.concat([qqq,std_df])\n",
    "\n",
    "print('\\n*** Standard deviation (kg) ***\\n')\n",
    "qqq"
   ]
  },
  {
   "cell_type": "markdown",
   "id": "bfca1222-8a1b-422f-be01-60696970343b",
   "metadata": {},
   "source": [
    "# Prediction"
   ]
  },
  {
   "cell_type": "markdown",
   "id": "58097041-a251-4280-99b2-b3f8057a2b7a",
   "metadata": {
    "jp-MarkdownHeadingCollapsed": true
   },
   "source": [
    "### Classification"
   ]
  },
  {
   "cell_type": "code",
   "execution_count": null,
   "id": "2d688dd8-ed0c-4f90-b521-7e78bb077fb9",
   "metadata": {},
   "outputs": [],
   "source": [
    "date_pred=(comex_df[comex_df.date==comex_df.date.max()][['date']].drop_duplicates()+DateOffset(months=1)).assign(key=0)\n",
    "\n",
    "Product_pred=comex_df[['Product']].drop_duplicates().assign(key=0)\n",
    "\n",
    "pred=date_pred.merge(Product_pred).drop(columns='key')\n",
    "pred['yaer']=pred.date.dt.year\n",
    "pred['month']=pred.date.dt.month\n",
    "\n",
    "comex_df_pred=pd.concat([comex_df,pred])\n",
    "\n",
    "comex_df_pred[['month','Product']]=comex_df_pred[['month','Product']].astype('category')\n",
    "comex_df_pred_dum=pd.get_dummies(comex_df_pred,prefix_sep='~')\n",
    "comex_df_pred_dum.date=comex_df_pred_dum.date.astype(int)\n",
    "comex_df_pred_dum.drop(columns='yaer',inplace=True)\n",
    "\n",
    "train=comex_df_pred_dum[comex_df_pred_dum.date<comex_df_pred_dum.date.max()].assign(oc=0)\n",
    "train.loc[train.kg>0,'oc']=1\n",
    "\n",
    "pred=comex_df_pred_dum[comex_df_pred_dum.date==comex_df_pred_dum.date.max()].drop(columns='kg')\n",
    "\n",
    "X_train=train.drop(columns=['kg','oc'])\n",
    "y_train=train.oc\n",
    "X_pred=pred\n",
    "RFC.fit(X_train,y_train)\n",
    "pred=pred.assign(oc_pred=RFC.predict(X_pred))"
   ]
  },
  {
   "cell_type": "markdown",
   "id": "cea2de08-5eb3-4e97-a49e-83d1ba8ea1ba",
   "metadata": {
    "jp-MarkdownHeadingCollapsed": true
   },
   "source": [
    "### Regression"
   ]
  },
  {
   "cell_type": "code",
   "execution_count": 19,
   "id": "462631a8-d5ca-4f56-a5ec-e6548be107a1",
   "metadata": {},
   "outputs": [],
   "source": [
    "train=train[train.oc==1]"
   ]
  },
  {
   "cell_type": "code",
   "execution_count": 20,
   "id": "c2319487-dc33-4b56-b963-77767dc4e0d6",
   "metadata": {},
   "outputs": [],
   "source": [
    "pred=pred[pred.oc_pred==1]"
   ]
  },
  {
   "cell_type": "code",
   "execution_count": 21,
   "id": "f6102674-090e-4a1d-a591-9d7a380f0792",
   "metadata": {},
   "outputs": [],
   "source": [
    "X_train=train.drop(columns=['kg','oc'])"
   ]
  },
  {
   "cell_type": "code",
   "execution_count": 22,
   "id": "2e120bdb-d3ca-43f1-b76e-e6895094ba80",
   "metadata": {},
   "outputs": [],
   "source": [
    "y_train=train.kg"
   ]
  },
  {
   "cell_type": "code",
   "execution_count": 23,
   "id": "d782e04f-032d-41bc-b049-d81b12082ca5",
   "metadata": {},
   "outputs": [],
   "source": [
    "X_pred=pred.drop(columns=['oc_pred'])"
   ]
  },
  {
   "cell_type": "code",
   "execution_count": null,
   "id": "19f3c384-f90e-408c-b265-22d1d86bbeee",
   "metadata": {},
   "outputs": [],
   "source": [
    "RFR.fit(X_train,y_train)"
   ]
  },
  {
   "cell_type": "code",
   "execution_count": null,
   "id": "b6553406-c980-400e-8798-32b19120d8b5",
   "metadata": {},
   "outputs": [],
   "source": [
    "pred=pred.assign(kg_pred_rfr=RFR.predict(X_pred))\n",
    "pred"
   ]
  },
  {
   "cell_type": "code",
   "execution_count": null,
   "id": "aa4ee4f5-6b72-418d-8af1-852241978c88",
   "metadata": {},
   "outputs": [],
   "source": [
    "LR.fit(X_train,y_train)"
   ]
  },
  {
   "cell_type": "code",
   "execution_count": null,
   "id": "b8822f2a-2443-4e75-8a2a-b9cfe5dc323a",
   "metadata": {},
   "outputs": [],
   "source": [
    "pred=pred.assign(kg_pred_lr=LR.predict(X_pred))\n",
    "pred"
   ]
  },
  {
   "cell_type": "code",
   "execution_count": 28,
   "id": "bff661b2-5eac-4442-8734-4c4980c22336",
   "metadata": {},
   "outputs": [],
   "source": [
    "mes_d=pd.from_dummies(pred[pred.columns[pred.columns.str.contains('MES')]],sep='~')"
   ]
  },
  {
   "cell_type": "code",
   "execution_count": 29,
   "id": "c8624298-7b7e-4dd7-b918-092347ed3b0d",
   "metadata": {},
   "outputs": [],
   "source": [
    "Product_d=pd.from_dummies(pred[pred.columns[pred.columns.str.contains('Product')]],sep='~')"
   ]
  },
  {
   "cell_type": "code",
   "execution_count": 30,
   "id": "584300f2-d14c-42bd-927f-5e737fc59c01",
   "metadata": {},
   "outputs": [],
   "source": [
    "o=pred[pred.columns[~((pred.columns.str.contains('MES'))+(pred.columns.str.contains('Product')))]]"
   ]
  },
  {
   "cell_type": "code",
   "execution_count": 31,
   "id": "a520843a-f887-4fc1-8da0-b248228b9a6e",
   "metadata": {},
   "outputs": [],
   "source": [
    "pred=pd.concat([o,mes_d,Product_d],axis=1)"
   ]
  },
  {
   "cell_type": "code",
   "execution_count": 32,
   "id": "a8d017f4-2173-400b-bb85-ecf2d152788e",
   "metadata": {},
   "outputs": [],
   "source": [
    "pred.date=pred.date.astype('datetime64[ns]')\n",
    "pred=pred.assign(yaer=pred.date.dt.year)"
   ]
  },
  {
   "cell_type": "code",
   "execution_count": 33,
   "id": "2f02e6aa-221b-4570-9556-c1a1f8087629",
   "metadata": {},
   "outputs": [],
   "source": [
    "pred_tab=pred.merge(qqq)"
   ]
  },
  {
   "cell_type": "code",
   "execution_count": 34,
   "id": "8285509e-9250-409b-8917-68d4dd2aa10a",
   "metadata": {},
   "outputs": [],
   "source": [
    "pred_tab[pred_tab.columns[[2,3,7,8]]]=(pred_tab[pred_tab.columns[[2,3,7,8]]]/10**6).astype(int)"
   ]
  },
  {
   "cell_type": "code",
   "execution_count": 35,
   "id": "ea9c236c-adc9-4a18-b02d-cbf07c644971",
   "metadata": {},
   "outputs": [],
   "source": [
    "pred_tab.rename(columns={'kg_pred_rfr':'mil_ton_rfr','kg_pred_lr':'mil_ton_lr'},inplace=True)"
   ]
  },
  {
   "cell_type": "markdown",
   "id": "73342cce-1d9e-42b0-ba83-708ad243d61b",
   "metadata": {},
   "source": [
    "# Previsão"
   ]
  },
  {
   "cell_type": "code",
   "execution_count": null,
   "id": "3ed802c1-bd2b-4b23-b08b-eb30fd91e44c",
   "metadata": {},
   "outputs": [],
   "source": [
    "pred_tab[pred_tab.columns[[6,4,5,3,7,2,8]]]\\\n",
    ".assign(max_features=max_features).assign(max_depth=max_depth).assign(poly_deg=poly_deg)"
   ]
  },
  {
   "cell_type": "code",
   "execution_count": 37,
   "id": "c9df5f87-5dc7-4e5b-9e64-71be30ee4e20",
   "metadata": {},
   "outputs": [],
   "source": [
    "# Convert the DataFrame to markdown format\n",
    "markdown_table = pred_tab.to_markdown(index=False)\n",
    "\n",
    "# Define the path of the markdown file\n",
    "markdown_file = 'report.md'\n",
    "\n",
    "# Write the markdown table into the file\n",
    "with open(markdown_file, 'w') as f:\n",
    "    f.write(\"# Data Report\\n\\n\")\n",
    "    f.write(markdown_table)\n",
    "    f.write(\"\\n\")"
   ]
  },
  {
   "cell_type": "markdown",
   "id": "3a15b906-1511-4e78-92a5-ce1948b65fc5",
   "metadata": {},
   "source": [
    "# Graf"
   ]
  },
  {
   "cell_type": "code",
   "execution_count": null,
   "id": "70f89657-0709-4e32-99ee-82b8cd89a01a",
   "metadata": {},
   "outputs": [],
   "source": [
    "results=pd.concat([\n",
    "    qq.drop(columns=['kg_test_rfr','kg_test_lr']).assign(tipo='real'),\n",
    "    qq.drop(columns=['kg_test_rfr','kg']).rename(columns={'kg_test_lr':'kg'}).assign(tipo='test_lr'),\n",
    "    qq.drop(columns=['kg','kg_test_lr']).rename(columns={'kg_test_rfr':'kg'}).assign(tipo='test_rfr'),\n",
    "    pred.drop(columns=['kg_pred_lr']).rename(columns={'kg_pred_rfr':'kg'}).assign(tipo='pred_rfr'),\n",
    "    pred.drop(columns=['kg_pred_rfr']).rename(columns={'kg_pred_lr':'kg'}).assign(tipo='pred_lr')\n",
    "    \n",
    "])\n",
    "\n",
    "results.yaer=results.yaer.astype(int)\n",
    "\n",
    "results.loc[results.tipo.str.contains('test'),'tipo']=results[results.tipo.str.contains('test')].tipo.str.replace('test','pred')\n",
    "\n",
    "sns.relplot(data=results,x='yaer',y='kg',hue='tipo',col='Product',height=3,facet_kws={'sharey': False, 'sharex': True})\\\n",
    ".set_xticklabels(rotation=30).fig.suptitle(f\"Importações - {UF[0]} - Mês {predict_date.month}\",y=1.2)\n",
    "plt.show()"
   ]
  },
  {
   "cell_type": "code",
   "execution_count": null,
   "id": "84c617a3-d09a-49fa-9db3-5961f5bffa89",
   "metadata": {},
   "outputs": [],
   "source": [
    "time_end=time.time()\n",
    "print(f\"Duração: {round((time_end-time_ini)/20,1)} minutos.\")"
   ]
  },
  {
   "cell_type": "code",
   "execution_count": null,
   "id": "9758dcab-d7bf-41b2-89e4-b7f9fd0b4c19",
   "metadata": {},
   "outputs": [],
   "source": []
  }
 ],
 "metadata": {
  "kernelspec": {
   "display_name": "Python 3 (ipykernel)",
   "language": "python",
   "name": "python3"
  },
  "language_info": {
   "codemirror_mode": {
    "name": "ipython",
    "version": 3
   },
   "file_extension": ".py",
   "mimetype": "text/x-python",
   "name": "python",
   "nbconvert_exporter": "python",
   "pygments_lexer": "ipython3",
   "version": "3.11.2"
  }
 },
 "nbformat": 4,
 "nbformat_minor": 5
}
