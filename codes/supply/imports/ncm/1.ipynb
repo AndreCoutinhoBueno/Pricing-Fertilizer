{
 "cells": [
  {
   "cell_type": "code",
   "execution_count": 1,
   "id": "ba967c3e-91c4-479b-b540-2fc7650de166",
   "metadata": {
    "jupyter": {
     "source_hidden": true
    }
   },
   "outputs": [],
   "source": [
    "# INICIANDO\n",
    "\n",
    "import time\n",
    "ini=time.time()\n",
    "\n",
    "import numpy as np\n",
    "import pandas as pd\n",
    "from sklearn import metrics\n",
    "from pandas.tseries.offsets import DateOffset\n",
    "import subprocess\n",
    "import matplotlib.pyplot as plt\n",
    "import seaborn as sns\n",
    "import warnings\n",
    "warnings.filterwarnings(\"ignore\")\n",
    "\n",
    "imp_fert=pd.read_csv('/home/andre301267/git/Pricing-Fertilizer/DB/temp/imp_fert_ncm_quanti.csv')\n",
    "exp_soja=pd.read_csv('/home/andre301267/git/Pricing-Fertilizer/DB/temp/exp_soja_ncm_quanti.csv')\n",
    "\n",
    "comex=pd.concat([imp_fert,exp_soja]).sort_values(by=['year','month'])\\\n",
    ".drop(columns=['US$_freight','US$_insurance','cif_kg','fob_kg','preço'])\n",
    "\n",
    "imp_fert=exp_soja=0\n",
    "\n",
    "# filtra km deixando passar o maior km de cada produto\n",
    "filtra_km=comex[['Product','km']].drop_duplicates().sort_values(by=['Product','km'],ascending=False)\\\n",
    "    .drop_duplicates(subset='Product')\n",
    "comex=comex.merge(filtra_km)\n",
    "comex=comex.rename(columns={'US$_fob':'fob'})\n",
    "\n",
    "# Save real begins and ends\n",
    "comex['date']=pd.to_datetime(comex.year.astype(str)+'-'+comex.month.astype(str)+'-01')"
   ]
  },
  {
   "cell_type": "code",
   "execution_count": 2,
   "id": "328c1e8b-c7d3-4aff-961f-c2e1f15fb64a",
   "metadata": {},
   "outputs": [],
   "source": [
    "# PARAMETROS\n",
    "\n",
    "\n",
    "cat_cols=['month','Product','UF']\n",
    "\n",
    "# hipotesys to test\n",
    "hip_list = ['lonely','conj']\n",
    "\n",
    "# General \n",
    "years_rept=10\n",
    "prdt_foco='MOP'\n",
    "uf_foco='BA'\n",
    "qtt_foco=['kg','fob']\n",
    "month_foco=[(comex.date.max()+DateOffset(months=1)).month]\n",
    "train_max=10 # lenght\n",
    "train_min=10 # lenght\n",
    "\n",
    "            \n",
    "\n",
    "# Parameters for lonely processing\n",
    "prdt_lonely=[prdt_foco]\n",
    "uf_lonely=[uf_foco]\n",
    "\n",
    "month_lonely=month_foco\n",
    "degree=1\n",
    "\n",
    "# Parameters for joint processing\n",
    "prdt_conj=[prdt_foco]+['MAP','Soy Group']\n",
    "uf_conj=[uf_foco]+['GO','MT','TO']\n",
    "m_ext=3\n",
    "m_ini=month_foco[0]-m_ext\n",
    "month_conj=np.arange(m_ini,month_foco[0]+1)\n",
    "month_conj[month_conj<=0]+=12\n",
    "max_depth=7\n",
    "max_features=None\n",
    "\n",
    "# Dict for tests\n",
    "dict={'lonely':[prdt_lonely, uf_lonely, month_lonely],\n",
    "      'conj'  :[prdt_conj  , uf_conj,   month_conj]}"
   ]
  },
  {
   "cell_type": "code",
   "execution_count": 3,
   "id": "5d2cac88-0ba1-4946-818a-6adb65b5a091",
   "metadata": {},
   "outputs": [],
   "source": [
    "# MODELS\n",
    "\n",
    "# Classfication\n",
    "from sklearn.ensemble import RandomForestClassifier as rfc\n",
    "model_rfc=rfc(max_depth=max_depth,max_features=max_features)\n",
    "\n",
    "# Regression\n",
    "\n",
    "# RFR\n",
    "from sklearn.ensemble import RandomForestRegressor as rfr\n",
    "model_rfr=rfr(max_depth=max_depth,max_features=max_features)\n",
    "\n",
    "# Polynomial Linear\n",
    "from sklearn.linear_model import LinearRegression\n",
    "from sklearn.preprocessing import PolynomialFeatures\n",
    "from sklearn.pipeline import make_pipeline\n",
    "polynomial_features = PolynomialFeatures(degree=degree)\n",
    "linear_regression = LinearRegression()\n",
    "model_plr = make_pipeline(polynomial_features, linear_regression)"
   ]
  },
  {
   "cell_type": "code",
   "execution_count": 4,
   "id": "fd70162d-9e0e-4589-8315-44e2291cd37a",
   "metadata": {},
   "outputs": [],
   "source": [
    "# PREPROCESSING\n",
    "\n",
    "\n",
    "comex=comex.groupby(by=['year']+cat_cols\n",
    "                   )[['kg','fob']].sum().reset_index()\n",
    "\n",
    "# Save real begins and ends\n",
    "comex['date']=pd.to_datetime(comex.year.astype(str)+'-'+comex.month.astype(str)+'-01')\n",
    "date_min=comex.date.min()\n",
    "date_max=comex.date.max()\n",
    "\n",
    "# Calendar full\n",
    "years=pd.DataFrame({'year':np.arange(date_min.year, date_max.year+1)}).assign(key=0)\n",
    "months=pd.DataFrame({'month':np.arange(1,13)}).assign(key=0)\n",
    "calendar=years.merge(months,on='key')\n",
    "\n",
    "\n",
    "cat=comex[[x for x in cat_cols if x not in ['month']]].drop_duplicates().assign(key=0)\n",
    "comex_cal_cat=calendar.merge(cat,on='key').drop('key',axis=1)\n",
    "\n",
    "comex_sprs=comex_cal_cat.merge(comex,how='outer').fillna(0)\n",
    "\n",
    "# Prune\n",
    "comex_sprs['date']=pd.to_datetime(comex_sprs.year.astype(str)+'-'+comex_sprs.month.astype(str)+'-01')\n",
    "comex_sprs=comex_sprs[(comex_sprs.date>=date_min)&(comex_sprs.date<=date_max)]\n",
    "\n",
    "# Indentify occurances\n",
    "comex_sprs=comex_sprs.assign(oc=0)\n",
    "comex_sprs.loc[comex_sprs.kg>0,'oc']=1\n",
    "\n",
    "h=dict['conj']\n",
    "\n",
    "# Filtra conforme o teste a ser feito\n",
    "comex_sprs_hip=comex_sprs[\n",
    "(comex_sprs.Product.isin(h[0]))&\n",
    "(comex_sprs.UF.isin(h[1]))&\n",
    "(comex_sprs.month.astype(int).isin(h[2]))].copy()"
   ]
  },
  {
   "cell_type": "code",
   "execution_count": 5,
   "id": "586b6d3a-fb9d-4dff-afaa-1640c490bb66",
   "metadata": {},
   "outputs": [
    {
     "name": "stdout",
     "output_type": "stream",
     "text": [
      "pred_next_month_df = pred_next_month(model_c,model_r, comex_s_d, prdt_foco, uf_foco, month_foco)\n"
     ]
    }
   ],
   "source": [
    "%run 'pred_next_month.py'"
   ]
  },
  {
   "cell_type": "code",
   "execution_count": 6,
   "id": "2fda8e3d-fb69-413c-95a0-f815a169cdbb",
   "metadata": {
    "scrolled": true
   },
   "outputs": [],
   "source": [
    "comex_sprs_hip_t=comex_sprs_hip.copy()\n",
    "q=pd.DataFrame()\n",
    "for rept in range(years_rept):\n",
    "    q=pd.concat([q,pred_next_month(model_rfc,model_rfr, comex_sprs_hip_t, prdt_foco, uf_foco)])\n",
    "    comex_sprs_hip_t=comex_sprs_hip_t[comex_sprs_hip_t.date<=comex_sprs_hip_t.date.max()-DateOffset(years=1)]"
   ]
  },
  {
   "cell_type": "code",
   "execution_count": 7,
   "id": "cb838428-70ab-4ba2-9a2b-f83cbfced673",
   "metadata": {},
   "outputs": [],
   "source": [
    "comex_sprs.month=comex_sprs.month.astype(str)"
   ]
  },
  {
   "cell_type": "code",
   "execution_count": 8,
   "id": "4c829f5e-b095-4e04-a96e-a3781457bd13",
   "metadata": {},
   "outputs": [],
   "source": [
    "test_pred=q.merge(comex_sprs,how='outer').dropna(subset='oc_pred')"
   ]
  },
  {
   "cell_type": "code",
   "execution_count": 9,
   "id": "500d240d-987a-44b8-9a6e-2e958ea8c94a",
   "metadata": {},
   "outputs": [
    {
     "data": {
      "text/html": [
       "<div>\n",
       "<style scoped>\n",
       "    .dataframe tbody tr th:only-of-type {\n",
       "        vertical-align: middle;\n",
       "    }\n",
       "\n",
       "    .dataframe tbody tr th {\n",
       "        vertical-align: top;\n",
       "    }\n",
       "\n",
       "    .dataframe thead th {\n",
       "        text-align: right;\n",
       "    }\n",
       "</style>\n",
       "<table border=\"1\" class=\"dataframe\">\n",
       "  <thead>\n",
       "    <tr style=\"text-align: right;\">\n",
       "      <th></th>\n",
       "      <th>year</th>\n",
       "      <th>date</th>\n",
       "      <th>oc_pred</th>\n",
       "      <th>kg_pred</th>\n",
       "      <th>fob_pred</th>\n",
       "      <th>Product</th>\n",
       "      <th>month</th>\n",
       "      <th>UF</th>\n",
       "      <th>kg</th>\n",
       "      <th>fob</th>\n",
       "      <th>oc</th>\n",
       "    </tr>\n",
       "  </thead>\n",
       "  <tbody>\n",
       "    <tr>\n",
       "      <th>99046</th>\n",
       "      <td>2015</td>\n",
       "      <td>2015-09-01</td>\n",
       "      <td>1.0</td>\n",
       "      <td>3.822862e+07</td>\n",
       "      <td>1.358715e+07</td>\n",
       "      <td>MOP</td>\n",
       "      <td>9</td>\n",
       "      <td>BA</td>\n",
       "      <td>8.410621e+07</td>\n",
       "      <td>26473450.0</td>\n",
       "      <td>1.0</td>\n",
       "    </tr>\n",
       "    <tr>\n",
       "      <th>104350</th>\n",
       "      <td>2016</td>\n",
       "      <td>2016-09-01</td>\n",
       "      <td>1.0</td>\n",
       "      <td>4.676227e+07</td>\n",
       "      <td>1.402802e+07</td>\n",
       "      <td>MOP</td>\n",
       "      <td>9</td>\n",
       "      <td>BA</td>\n",
       "      <td>2.483312e+07</td>\n",
       "      <td>5028028.0</td>\n",
       "      <td>1.0</td>\n",
       "    </tr>\n",
       "    <tr>\n",
       "      <th>109654</th>\n",
       "      <td>2017</td>\n",
       "      <td>2017-09-01</td>\n",
       "      <td>1.0</td>\n",
       "      <td>5.075177e+07</td>\n",
       "      <td>1.428197e+07</td>\n",
       "      <td>MOP</td>\n",
       "      <td>9</td>\n",
       "      <td>BA</td>\n",
       "      <td>5.232994e+07</td>\n",
       "      <td>13731565.0</td>\n",
       "      <td>1.0</td>\n",
       "    </tr>\n",
       "    <tr>\n",
       "      <th>114958</th>\n",
       "      <td>2018</td>\n",
       "      <td>2018-09-01</td>\n",
       "      <td>1.0</td>\n",
       "      <td>7.448426e+07</td>\n",
       "      <td>2.096373e+07</td>\n",
       "      <td>MOP</td>\n",
       "      <td>9</td>\n",
       "      <td>BA</td>\n",
       "      <td>1.180357e+08</td>\n",
       "      <td>35175911.0</td>\n",
       "      <td>1.0</td>\n",
       "    </tr>\n",
       "    <tr>\n",
       "      <th>120262</th>\n",
       "      <td>2019</td>\n",
       "      <td>2019-09-01</td>\n",
       "      <td>1.0</td>\n",
       "      <td>5.156739e+07</td>\n",
       "      <td>1.614484e+07</td>\n",
       "      <td>MOP</td>\n",
       "      <td>9</td>\n",
       "      <td>BA</td>\n",
       "      <td>2.760000e+07</td>\n",
       "      <td>9221520.0</td>\n",
       "      <td>1.0</td>\n",
       "    </tr>\n",
       "    <tr>\n",
       "      <th>125566</th>\n",
       "      <td>2020</td>\n",
       "      <td>2020-09-01</td>\n",
       "      <td>1.0</td>\n",
       "      <td>4.732496e+07</td>\n",
       "      <td>1.275041e+07</td>\n",
       "      <td>MOP</td>\n",
       "      <td>9</td>\n",
       "      <td>BA</td>\n",
       "      <td>5.204514e+07</td>\n",
       "      <td>10851818.0</td>\n",
       "      <td>1.0</td>\n",
       "    </tr>\n",
       "    <tr>\n",
       "      <th>130870</th>\n",
       "      <td>2021</td>\n",
       "      <td>2021-09-01</td>\n",
       "      <td>1.0</td>\n",
       "      <td>5.252909e+07</td>\n",
       "      <td>1.500615e+07</td>\n",
       "      <td>MOP</td>\n",
       "      <td>9</td>\n",
       "      <td>BA</td>\n",
       "      <td>4.308353e+07</td>\n",
       "      <td>15245763.0</td>\n",
       "      <td>1.0</td>\n",
       "    </tr>\n",
       "    <tr>\n",
       "      <th>136174</th>\n",
       "      <td>2022</td>\n",
       "      <td>2022-09-01</td>\n",
       "      <td>1.0</td>\n",
       "      <td>5.967234e+07</td>\n",
       "      <td>2.954875e+07</td>\n",
       "      <td>MOP</td>\n",
       "      <td>9</td>\n",
       "      <td>BA</td>\n",
       "      <td>5.513365e+07</td>\n",
       "      <td>32555121.0</td>\n",
       "      <td>1.0</td>\n",
       "    </tr>\n",
       "    <tr>\n",
       "      <th>141478</th>\n",
       "      <td>2023</td>\n",
       "      <td>2023-09-01</td>\n",
       "      <td>1.0</td>\n",
       "      <td>5.798482e+07</td>\n",
       "      <td>2.728229e+07</td>\n",
       "      <td>MOP</td>\n",
       "      <td>9</td>\n",
       "      <td>BA</td>\n",
       "      <td>7.377500e+07</td>\n",
       "      <td>26883059.0</td>\n",
       "      <td>1.0</td>\n",
       "    </tr>\n",
       "    <tr>\n",
       "      <th>146744</th>\n",
       "      <td>2024</td>\n",
       "      <td>2024-09-01</td>\n",
       "      <td>1.0</td>\n",
       "      <td>6.938466e+07</td>\n",
       "      <td>2.641047e+07</td>\n",
       "      <td>MOP</td>\n",
       "      <td>9</td>\n",
       "      <td>BA</td>\n",
       "      <td>NaN</td>\n",
       "      <td>NaN</td>\n",
       "      <td>NaN</td>\n",
       "    </tr>\n",
       "  </tbody>\n",
       "</table>\n",
       "</div>"
      ],
      "text/plain": [
       "        year       date  oc_pred       kg_pred      fob_pred Product month  \\\n",
       "99046   2015 2015-09-01      1.0  3.822862e+07  1.358715e+07     MOP     9   \n",
       "104350  2016 2016-09-01      1.0  4.676227e+07  1.402802e+07     MOP     9   \n",
       "109654  2017 2017-09-01      1.0  5.075177e+07  1.428197e+07     MOP     9   \n",
       "114958  2018 2018-09-01      1.0  7.448426e+07  2.096373e+07     MOP     9   \n",
       "120262  2019 2019-09-01      1.0  5.156739e+07  1.614484e+07     MOP     9   \n",
       "125566  2020 2020-09-01      1.0  4.732496e+07  1.275041e+07     MOP     9   \n",
       "130870  2021 2021-09-01      1.0  5.252909e+07  1.500615e+07     MOP     9   \n",
       "136174  2022 2022-09-01      1.0  5.967234e+07  2.954875e+07     MOP     9   \n",
       "141478  2023 2023-09-01      1.0  5.798482e+07  2.728229e+07     MOP     9   \n",
       "146744  2024 2024-09-01      1.0  6.938466e+07  2.641047e+07     MOP     9   \n",
       "\n",
       "        UF            kg         fob   oc  \n",
       "99046   BA  8.410621e+07  26473450.0  1.0  \n",
       "104350  BA  2.483312e+07   5028028.0  1.0  \n",
       "109654  BA  5.232994e+07  13731565.0  1.0  \n",
       "114958  BA  1.180357e+08  35175911.0  1.0  \n",
       "120262  BA  2.760000e+07   9221520.0  1.0  \n",
       "125566  BA  5.204514e+07  10851818.0  1.0  \n",
       "130870  BA  4.308353e+07  15245763.0  1.0  \n",
       "136174  BA  5.513365e+07  32555121.0  1.0  \n",
       "141478  BA  7.377500e+07  26883059.0  1.0  \n",
       "146744  BA           NaN         NaN  NaN  "
      ]
     },
     "execution_count": 9,
     "metadata": {},
     "output_type": "execute_result"
    }
   ],
   "source": [
    "test_pred"
   ]
  },
  {
   "cell_type": "code",
   "execution_count": 10,
   "id": "68e34bc1-7774-4ba2-b447-bf23e86e913a",
   "metadata": {},
   "outputs": [],
   "source": [
    "test_pred_r=test_pred[(test_pred.oc==1)&(test_pred.oc_pred==1)]"
   ]
  },
  {
   "cell_type": "code",
   "execution_count": 11,
   "id": "47e4a82d-85d9-43f3-b44f-37e8473247c5",
   "metadata": {},
   "outputs": [
    {
     "data": {
      "text/plain": [
       "0.20553826736135228"
      ]
     },
     "execution_count": 11,
     "metadata": {},
     "output_type": "execute_result"
    }
   ],
   "source": [
    "metrics.r2_score(test_pred_r.kg,test_pred_r.kg_pred)"
   ]
  },
  {
   "cell_type": "code",
   "execution_count": 12,
   "id": "fff8e5fe-41bc-482a-a5cc-2c1271a403aa",
   "metadata": {},
   "outputs": [
    {
     "data": {
      "text/plain": [
       "0.46890865199256715"
      ]
     },
     "execution_count": 12,
     "metadata": {},
     "output_type": "execute_result"
    }
   ],
   "source": [
    "metrics.r2_score(test_pred_r.fob,test_pred_r.fob_pred)"
   ]
  },
  {
   "cell_type": "code",
   "execution_count": 13,
   "id": "1af9a260-98c8-45a1-905e-04e5ecbb6524",
   "metadata": {},
   "outputs": [
    {
     "data": {
      "text/plain": [
       "np.float64(0.37)"
      ]
     },
     "execution_count": 13,
     "metadata": {},
     "output_type": "execute_result"
    }
   ],
   "source": [
    "round(metrics.mean_absolute_percentage_error(test_pred_r.kg,test_pred_r.kg_pred),2)"
   ]
  },
  {
   "cell_type": "code",
   "execution_count": 14,
   "id": "7a7d0c92-3a6a-4587-81cf-d4949ece6922",
   "metadata": {},
   "outputs": [
    {
     "data": {
      "text/plain": [
       "np.float64(0.42)"
      ]
     },
     "execution_count": 14,
     "metadata": {},
     "output_type": "execute_result"
    }
   ],
   "source": [
    "round(metrics.mean_absolute_percentage_error(test_pred_r.fob,test_pred_r.fob_pred),2)"
   ]
  },
  {
   "cell_type": "code",
   "execution_count": 15,
   "id": "9dc69b36-4c50-4dd1-830d-00442ddbf930",
   "metadata": {},
   "outputs": [],
   "source": [
    "test_pred_l=pd.concat([\n",
    "    test_pred.drop(columns=['kg_pred','fob_pred']).assign(tipo='real'),\n",
    "    test_pred.drop(columns=['kg','fob']).rename(columns={'kg_pred':'kg','fob_pred':'fob'}).assign(tipo='pred')\n",
    "])"
   ]
  },
  {
   "cell_type": "code",
   "execution_count": 16,
   "id": "1cbc7478-eeb0-4bfc-a458-bb0a1f4931f9",
   "metadata": {},
   "outputs": [],
   "source": [
    "c1=comex_sprs.merge(test_pred_l[['Product','UF','month']])\n",
    "c1=c1[(c1.date<test_pred.date.min())&(c1.oc==1)].assign(tipo='real')"
   ]
  },
  {
   "cell_type": "code",
   "execution_count": 17,
   "id": "3f333765-5eb4-43c1-8896-c0a4a81a7f38",
   "metadata": {},
   "outputs": [],
   "source": [
    "c2=pd.concat([c1,test_pred_l])"
   ]
  },
  {
   "cell_type": "code",
   "execution_count": 18,
   "id": "5a52ba84-2875-40f6-8fdc-7ae87416e1ed",
   "metadata": {},
   "outputs": [
    {
     "data": {
      "text/plain": [
       "<seaborn.axisgrid.FacetGrid at 0x7f8e3968dd90>"
      ]
     },
     "execution_count": 18,
     "metadata": {},
     "output_type": "execute_result"
    },
    {
     "data": {
      "image/png": "[encoded data removed]",
      "text/plain": [
       "<Figure size 881.75x200 with 1 Axes>"
      ]
     },
     "metadata": {},
     "output_type": "display_data"
    }
   ],
   "source": [
    "sns.relplot(data=c2.dropna(subset='kg'),x='date',y='kg',hue='tipo',height=2,aspect=4)"
   ]
  },
  {
   "cell_type": "code",
   "execution_count": null,
   "id": "5451d787-6907-4c0c-a57e-479257eb5aee",
   "metadata": {},
   "outputs": [],
   "source": []
  }
 ],
 "metadata": {
  "kernelspec": {
   "display_name": "Python 3 (ipykernel)",
   "language": "python",
   "name": "python3"
  },
  "language_info": {
   "codemirror_mode": {
    "name": "ipython",
    "version": 3
   },
   "file_extension": ".py",
   "mimetype": "text/x-python",
   "name": "python",
   "nbconvert_exporter": "python",
   "pygments_lexer": "ipython3",
   "version": "3.11.2"
  }
 },
 "nbformat": 4,
 "nbformat_minor": 5
}
