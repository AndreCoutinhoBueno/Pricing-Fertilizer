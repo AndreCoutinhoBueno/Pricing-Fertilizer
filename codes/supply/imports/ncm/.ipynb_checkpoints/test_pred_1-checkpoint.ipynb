{
 "cells": [
  {
   "cell_type": "code",
   "execution_count": 1,
   "id": "220e899b-3da7-468e-82aa-380f662e3247",
   "metadata": {
    "jupyter": {
     "source_hidden": true
    }
   },
   "outputs": [],
   "source": [
    "import time\n",
    "ini=time.time()\n",
    "\n",
    "import numpy as np\n",
    "import pandas as pd\n",
    "from sklearn import metrics\n",
    "from pandas.tseries.offsets import DateOffset\n",
    "import matplotlib.pyplot as plt\n",
    "import seaborn as sns\n",
    "import warnings\n",
    "warnings.filterwarnings(\"ignore\")\n",
    "\n",
    "imp_fert=pd.read_csv('/home/andre301267/git/Pricing-Fertilizer/DB/temp/imp_fert_ncm_quanti.csv')\n",
    "exp_soja=pd.read_csv('/home/andre301267/git/Pricing-Fertilizer/DB/temp/exp_soja_ncm_quanti.csv')\n",
    "\n",
    "comex=pd.concat([imp_fert,exp_soja]).sort_values(by=['year','month'])\\\n",
    ".drop(columns=['US$_freight','US$_insurance','cif_kg','fob_kg','preço'])\n",
    "\n",
    "imp_fert=exp_soja=0\n",
    "\n",
    "\n",
    "# Save real begins and ends\n",
    "comex['date']=pd.to_datetime(comex.year.astype(str)+'-'+comex.month.astype(str)+'-01')\n",
    "date_min=comex.date.min()\n",
    "date_max=comex.date.max()\n",
    "\n",
    "# filtra km deixando passar o maior km de cada produto\n",
    "filtra_km=comex[['Product','km']].drop_duplicates().sort_values(by=['Product','km'],ascending=False)\\\n",
    "    .drop_duplicates(subset='Product')\n",
    "comex=comex.merge(filtra_km)\n",
    "\n",
    "comex=comex.groupby(by=['year','month','Product','UF'],observed=True)['kg'].sum().reset_index()\n",
    "comex['date']=pd.to_datetime(comex.year.astype(str)+'-'+comex.month.astype(str)+'-01')\n",
    "\n",
    "# Calendar full\n",
    "years=pd.DataFrame({'year':np.arange(date_min.year, date_max.year+1)}).assign(key=0)\n",
    "months=pd.DataFrame({'month':np.arange(1,13)}).assign(key=0)\n",
    "calendar=years.merge(months,on='key')\n",
    "calendar_full=comex[['Product','UF']].drop_duplicates().assign(key=0).merge(calendar,on='key').drop('key',axis=1)\n",
    "\n",
    "# Comex merge calendar full\n",
    "comex_full=comex.merge(calendar_full,how='outer')\n",
    "\n",
    "# Saprse Matrix\n",
    "comex_full[['month','Product','UF']]=comex_full[['month', 'Product','UF']].astype(str)\n",
    "comex_sprs=comex_full.groupby(by=['year','month','Product','UF'],observed=False)['kg'].sum().reset_index()\n",
    "\n",
    "# Prune\n",
    "comex_sprs['date']=pd.to_datetime(comex_sprs.year.astype(str)+'-'+comex_sprs.month.astype(str)+'-01')\n",
    "comex_sprs=comex_sprs[(comex_sprs.date>=date_min)&(comex_sprs.date<=date_max)]\n",
    "\n",
    "\n",
    "# Indentify occurances\n",
    "comex_sprs=comex_sprs.assign(oc=0)\n",
    "comex_sprs.loc[comex_sprs.kg>0,'oc']=1\n",
    "\n",
    "# Df for tests\n",
    "date_max_test=comex_sprs.date.max()-DateOffset(months=11)\n",
    "cst=comex_sprs_tests=comex_sprs[comex_sprs.date<=date_max_test]"
   ]
  },
  {
   "cell_type": "code",
   "execution_count": 2,
   "id": "927eacb2-6e95-4415-8785-2cef6b47b52f",
   "metadata": {},
   "outputs": [],
   "source": [
    "# hipotesys to test\n",
    "hip_list = ['lonely','conj']\n",
    "\n",
    "# General parameters\n",
    "years_rept=20\n",
    "prdt_foco=['MOP']\n",
    "uf_foco=['BA']\n",
    "month_foco=[(comex.date.max()+DateOffset(months=1)).month]\n",
    "train_max=20\n",
    "train_min=10\n",
    "\n",
    "# Parameters for lonely processing\n",
    "prdt_lonely=prdt_foco\n",
    "uf_lonely=uf_foco\n",
    "\n",
    "month_lonely=month_foco\n",
    "degree=1\n",
    "\n",
    "# Parameters for joint processing\n",
    "prdt_conj=prdt_foco+['MAP','Soy Group']\n",
    "uf_conj=uf_foco+['GO','MT','TO']\n",
    "m_ext=3\n",
    "m_ini=month_foco[0]-m_ext\n",
    "month_conj=np.arange(m_ini,month_foco[0]+1)\n",
    "month_conj[month_conj<=0]+=12\n",
    "max_depth=7\n",
    "max_features=None\n",
    "\n",
    "# Dict for tests\n",
    "dict={'lonely':[prdt_lonely, uf_lonely, month_lonely],\n",
    "      'conj'  :[prdt_conj  , uf_conj,   month_conj]}"
   ]
  },
  {
   "cell_type": "code",
   "execution_count": 3,
   "id": "010959b2-eb18-4e05-b886-97ba036a3027",
   "metadata": {
    "jupyter": {
     "source_hidden": true
    }
   },
   "outputs": [],
   "source": [
    "# TESTS\n",
    "\n",
    "results_c=pd.DataFrame()\n",
    "results_r=pd.DataFrame()\n",
    "\n",
    "for f in hip_list:\n",
    "\n",
    "    h=dict[f]\n",
    "\n",
    "    # Filtra conforme o teste a ser feito\n",
    "    comex_sprs_tests_hip=comex_sprs_tests[\n",
    "    (comex_sprs_tests.Product.isin(h[0]))&\n",
    "    (comex_sprs_tests.UF.isin(h[1]))&\n",
    "    (comex_sprs_tests.month.astype(int).isin(h[2]))].copy()\n",
    "\n",
    "    \n",
    "    comex_t2=comex_sprs_tests_hip.copy()\n",
    "    \n",
    "\n",
    "    # Repetitions of the test troughout the years\n",
    "    for r in range(1,years_rept+1):\n",
    "        \n",
    "        # Train & test\n",
    "        train=comex_t2[comex_t2.date<comex_t2.date.max()]\n",
    "        test=comex_t2[comex_t2.date==comex_t2.date.max()]\n",
    "        test=test[(test.UF.isin(uf_foco))&(test.Product.isin(prdt_foco))]\n",
    "        # Unify to dumm\n",
    "        tt=pd.concat([train.assign(tipo='train'),test.assign(tipo='test')])\n",
    "        tt.date=tt.date.astype(int)\n",
    "        tt_dumm=pd.get_dummies(tt, prefix_sep='~')\n",
    "        # Train & test to classify\n",
    "        train_c=tt_dumm[tt_dumm['tipo~'+'train']==True].drop(columns=['tipo~'+'train','tipo~'+'test'])\n",
    "        test_c=tt_dumm[tt_dumm['tipo~'+'test']==True].drop(columns=['tipo~'+'train','tipo~'+'test'])\n",
    "        # X & y to classify\n",
    "        X_train=train_c.drop(columns=['oc','kg'])\n",
    "        y_train=train_c.oc\n",
    "        X_test=test_c.drop(columns=['oc','kg'])\n",
    "        \n",
    "        # Verify test conditions to classify\n",
    "        if len(X_test>1)&(len(X_train.year.unique())>train_min):            \n",
    "            \n",
    "            # Classify\n",
    "            from sklearn.ensemble import RandomForestClassifier as rfc\n",
    "            model=rfc(max_depth=max_depth,max_features=max_features)\n",
    "            model.fit(X_train.drop(columns='year'),y_train)\n",
    "            test_c['oc_pred']=model.predict(X_test.drop(columns='year'))\n",
    "            # X & y to regress\n",
    "            X_train=train_c[train_c.oc==1].drop(columns=['oc','kg'])\n",
    "            y_train=train_c[train_c.oc==1].kg\n",
    "            test_r=test_c[(test_c.oc==1)&(test_c.oc_pred==1)].drop(columns=['oc','oc_pred','kg'])\n",
    "            \n",
    "            # Verify test conditions to regeress\n",
    "            if len(X_test>1)&(len(X_train.year.unique())>train_min):            \n",
    "            \n",
    "                # Verify type of regress to be done\n",
    "                if f == 'conj':\n",
    "                    from sklearn.ensemble import RandomForestRegressor as model\n",
    "                    model=model(max_depth=max_depth,max_features=max_features)\n",
    "                else:\n",
    "                    from sklearn.linear_model import LinearRegression\n",
    "                    from sklearn.preprocessing import PolynomialFeatures\n",
    "                    from sklearn.pipeline import make_pipeline\n",
    "                    polynomial_features = PolynomialFeatures(degree=degree)\n",
    "                    linear_regression = LinearRegression()\n",
    "                    model = make_pipeline(polynomial_features, linear_regression)\n",
    "                # Regress\n",
    "                model.fit(X_train.drop(columns='year'),y_train)\n",
    "                test_r=X_test\n",
    "                test_r['kg_pred']=model.predict(X_test.drop(columns='year'))\n",
    "\n",
    "                # Identify the test done in the results\n",
    "                test_c=test_c.assign(hip=f)\n",
    "                test_r=test_r.assign(hip=f)\n",
    "                \n",
    "    \n",
    "                # Save results of the running test\n",
    "                results_c=pd.concat([results_c,test_c]).fillna(False).reset_index(drop=True)\n",
    "                results_r=pd.concat([results_r,test_r]).fillna(False).reset_index(drop=True)\n",
    "\n",
    "            \n",
    "        # Drop the date that was just test\n",
    "        comex_t2=comex_t2[(comex_t2.date<=comex_t2.date.max()-DateOffset(years=1))]\n",
    "\n",
    "\n",
    "def Back_from_dummies(comex_dumm):\n",
    "    o=comex_dumm[comex_dumm.columns[~comex_dumm.columns.str.contains('~')]]    \n",
    "    prdt=pd.from_dummies(comex_dumm[comex_dumm.columns[comex_dumm.columns.str.contains('Product')]],sep='~')    \n",
    "    month=pd.from_dummies(comex_dumm[comex_dumm.columns[comex_dumm.columns.str.contains('month')]],sep='~')    \n",
    "    uf=pd.from_dummies(comex_dumm[comex_dumm.columns[comex_dumm.columns.str.contains('UF')]],sep='~')    \n",
    "    comex_dumm=pd.concat([o,prdt,month,uf],axis=1)\n",
    "    return comex_dumm\n",
    "\n",
    "def date_format(comex):\n",
    "    comex.date=comex.date.astype('datetime64[ns]')\n",
    "    return comex\n",
    "\n",
    "results_c=Back_from_dummies(results_c)\n",
    "results_r=Back_from_dummies(results_r)\n",
    "\n",
    "results_c=date_format(results_c)\n",
    "results_r=date_format(results_r)"
   ]
  },
  {
   "cell_type": "code",
   "execution_count": 4,
   "id": "706a732d-1806-41f5-aebe-19f459be8426",
   "metadata": {
    "jupyter": {
     "source_hidden": true
    }
   },
   "outputs": [
    {
     "data": {
      "text/plain": [
       "29"
      ]
     },
     "execution_count": 4,
     "metadata": {},
     "output_type": "execute_result"
    }
   ],
   "source": [
    "len(results_c)"
   ]
  },
  {
   "cell_type": "code",
   "execution_count": 5,
   "id": "020803ce-3cbd-4f83-8901-a27ec422ad55",
   "metadata": {
    "jupyter": {
     "source_hidden": true
    }
   },
   "outputs": [
    {
     "data": {
      "text/plain": [
       "29"
      ]
     },
     "execution_count": 5,
     "metadata": {},
     "output_type": "execute_result"
    }
   ],
   "source": [
    "len(results_r)"
   ]
  },
  {
   "cell_type": "code",
   "execution_count": 6,
   "id": "54c3ff3d-93f2-4f0b-b9c1-56891f3f1308",
   "metadata": {
    "jupyter": {
     "source_hidden": true
    }
   },
   "outputs": [],
   "source": [
    "results=results_c.merge(results_r,how='outer')"
   ]
  },
  {
   "cell_type": "code",
   "execution_count": 7,
   "id": "c69ef122-14fa-43e7-a6e4-b2bf5e57846c",
   "metadata": {
    "jupyter": {
     "source_hidden": true
    }
   },
   "outputs": [
    {
     "name": "stdout",
     "output_type": "stream",
     "text": [
      "hipotesys  lonely - rse:  31 Kt\n",
      "\n",
      "hipotesys  conj - rse:  23 Kt\n",
      "\n"
     ]
    }
   ],
   "source": [
    "# Metrics\n",
    "from sklearn.metrics import root_mean_squared_error as rse\n",
    "\n",
    "for hip in hip_list:\n",
    "    l=[]\n",
    "    t=results[results.hip==hip]\n",
    "    for i in range(1000):\n",
    "        tt=t.sample(len(t),replace=True)\n",
    "        l=l+[rse(tt.kg,tt.kg_pred)]\n",
    "    print('hipotesys ',hip,'- rse: ',round(sum(l)/len(l)/10**6),'Kt')\n",
    "    print()"
   ]
  },
  {
   "cell_type": "code",
   "execution_count": 8,
   "id": "44fe7295-731f-4518-9526-8459f818b8f4",
   "metadata": {
    "jupyter": {
     "source_hidden": true
    }
   },
   "outputs": [
    {
     "ename": "SyntaxError",
     "evalue": "invalid syntax (62411553.py, line 1)",
     "output_type": "error",
     "traceback": [
      "\u001b[0;36m  Cell \u001b[0;32mIn[8], line 1\u001b[0;36m\u001b[0m\n\u001b[0;31m    a=\u001b[0m\n\u001b[0m      ^\u001b[0m\n\u001b[0;31mSyntaxError\u001b[0m\u001b[0;31m:\u001b[0m invalid syntax\n"
     ]
    }
   ],
   "source": [
    "a="
   ]
  },
  {
   "cell_type": "code",
   "execution_count": null,
   "id": "25018a18-190d-472a-a71d-2a8fcf80f859",
   "metadata": {
    "jupyter": {
     "source_hidden": true
    }
   },
   "outputs": [],
   "source": []
  },
  {
   "cell_type": "code",
   "execution_count": null,
   "id": "1fc1c191-976e-44ed-9b71-bdb483608653",
   "metadata": {
    "jupyter": {
     "source_hidden": true
    }
   },
   "outputs": [],
   "source": []
  },
  {
   "cell_type": "code",
   "execution_count": null,
   "id": "6d6364c0-ddd0-404b-8118-46a48918dd2f",
   "metadata": {
    "jupyter": {
     "source_hidden": true
    }
   },
   "outputs": [],
   "source": []
  },
  {
   "cell_type": "code",
   "execution_count": null,
   "id": "b6187456-07d8-4d56-96da-ce0333a9c902",
   "metadata": {
    "jupyter": {
     "source_hidden": true
    }
   },
   "outputs": [],
   "source": []
  },
  {
   "cell_type": "code",
   "execution_count": null,
   "id": "42b45ff8-2afe-4a88-8f6c-014292f1a103",
   "metadata": {
    "jupyter": {
     "source_hidden": true
    }
   },
   "outputs": [],
   "source": []
  },
  {
   "cell_type": "code",
   "execution_count": null,
   "id": "5c850e66-5aba-442f-9011-b3a95a253756",
   "metadata": {
    "jupyter": {
     "source_hidden": true
    }
   },
   "outputs": [],
   "source": [
    "for hip in hip_list:\n",
    "    r=results[results.hip==hip]\n",
    "    print(metrics.accuracy_score(r.oc,r.oc_pred))\n",
    "    rse_t=0\n",
    "    for x in range(100):\n",
    "        r=r.sample(len(r),replace=True)\n",
    "        rse_t+=round(metrics.root_mean_squared_error(r.kg,r.kg_pred)/10**6)\n",
    "        \n",
    "\n",
    "    print(rse_t/100)    "
   ]
  },
  {
   "cell_type": "code",
   "execution_count": null,
   "id": "53efad81-0418-4fb3-b508-f273bb441cbf",
   "metadata": {
    "jupyter": {
     "source_hidden": true
    }
   },
   "outputs": [],
   "source": []
  },
  {
   "cell_type": "code",
   "execution_count": null,
   "id": "5c9bf2fd-00c2-4539-bf60-6ba2f9f2745d",
   "metadata": {
    "jupyter": {
     "source_hidden": true
    }
   },
   "outputs": [],
   "source": []
  },
  {
   "cell_type": "code",
   "execution_count": null,
   "id": "34adc497-fb43-4907-895c-a58aa014772f",
   "metadata": {
    "jupyter": {
     "source_hidden": true
    }
   },
   "outputs": [],
   "source": []
  },
  {
   "cell_type": "code",
   "execution_count": null,
   "id": "f47c0fbe-9888-45bb-912c-bb219b3706b3",
   "metadata": {
    "jupyter": {
     "source_hidden": true
    }
   },
   "outputs": [],
   "source": [
    "a="
   ]
  },
  {
   "cell_type": "code",
   "execution_count": null,
   "id": "76aa1eaa-6c05-44a5-b6dc-288f961fe0bf",
   "metadata": {
    "jupyter": {
     "source_hidden": true
    }
   },
   "outputs": [],
   "source": []
  },
  {
   "cell_type": "code",
   "execution_count": null,
   "id": "a77b7f59-2869-484a-95b2-53b2aa7db23e",
   "metadata": {
    "jupyter": {
     "source_hidden": true
    }
   },
   "outputs": [],
   "source": []
  },
  {
   "cell_type": "code",
   "execution_count": null,
   "id": "28785cba-cf2e-4e98-a13a-19ce617a802e",
   "metadata": {
    "jupyter": {
     "source_hidden": true
    }
   },
   "outputs": [],
   "source": []
  },
  {
   "cell_type": "code",
   "execution_count": null,
   "id": "13dd3865-560a-464f-b55e-c15eb61f04de",
   "metadata": {
    "jupyter": {
     "source_hidden": true
    }
   },
   "outputs": [],
   "source": []
  },
  {
   "cell_type": "code",
   "execution_count": null,
   "id": "5a62a644-5d15-4955-894b-c8823508b81b",
   "metadata": {
    "jupyter": {
     "source_hidden": true
    }
   },
   "outputs": [],
   "source": []
  },
  {
   "cell_type": "code",
   "execution_count": null,
   "id": "d1e15357-b08b-483c-af11-83d635abd995",
   "metadata": {
    "jupyter": {
     "source_hidden": true
    }
   },
   "outputs": [],
   "source": []
  },
  {
   "cell_type": "code",
   "execution_count": null,
   "id": "c4c9be86-a6f7-4c19-82fa-6ca4ba1388bf",
   "metadata": {
    "jupyter": {
     "source_hidden": true
    }
   },
   "outputs": [],
   "source": []
  },
  {
   "cell_type": "code",
   "execution_count": null,
   "id": "580c0084-0247-40ac-a825-0fddbc3ebd62",
   "metadata": {
    "jupyter": {
     "source_hidden": true
    }
   },
   "outputs": [],
   "source": [
    "tt"
   ]
  },
  {
   "cell_type": "code",
   "execution_count": null,
   "id": "ed08955c-7ea8-4a77-946c-a9a2df1749ff",
   "metadata": {
    "jupyter": {
     "source_hidden": true
    }
   },
   "outputs": [],
   "source": [
    "        \n",
    "        \n",
    "\n",
    "        test.date=test.date.astype('datetime64[ns]')\n",
    "\n",
    "        test=test.assign(hip=f)\n",
    "        \n",
    "        result_class=pd.concat([result_class,test])\n",
    "\n",
    "        comex_t2=comex_t2[comex_t2.date<=comex_t2.date.max()-DateOffset(years=1)]\n",
    "\n",
    "    for f in hip_list:\n",
    "        print(f,'accuracy',metrics.accuracy_score(result_class[result_class.hip==f].oc,result_class[result_class.hip==f].oc_pred))"
   ]
  },
  {
   "cell_type": "code",
   "execution_count": null,
   "id": "8bf188e5-3e77-4ba6-995f-0f5d885afb30",
   "metadata": {
    "jupyter": {
     "source_hidden": true
    }
   },
   "outputs": [],
   "source": []
  },
  {
   "cell_type": "code",
   "execution_count": null,
   "id": "37f7f5c3-ad09-4c08-88c2-3360966c24dd",
   "metadata": {
    "jupyter": {
     "source_hidden": true
    }
   },
   "outputs": [],
   "source": []
  },
  {
   "cell_type": "code",
   "execution_count": null,
   "id": "18abbce0-e823-4ce5-a5c4-ab4256783be1",
   "metadata": {
    "jupyter": {
     "source_hidden": true
    }
   },
   "outputs": [],
   "source": []
  },
  {
   "cell_type": "code",
   "execution_count": null,
   "id": "361e9f00-b9ea-4e75-b938-4dc05704c0ce",
   "metadata": {
    "jupyter": {
     "source_hidden": true
    }
   },
   "outputs": [],
   "source": [
    "    # Regression\n",
    "    \n",
    "    comex_sprs_tests_hip=result_class.merge(comex_sprs_tests_hip,how='outer')\n",
    "        \n",
    "    comex_sprs_tests_hip=comex_sprs_tests_hip[(comex_sprs_tests_hip.oc==1)&(comex_sprs_tests_hip.oc_pred.isin([1,np.nan]))].drop(columns=['oc','oc_pred'])\n",
    "\n",
    "    comex_t2=comex_sprs_tests_hip.copy()\n",
    "    \n",
    "    for r in range(1,years_rept+1):\n",
    "        \n",
    "        train=comex_t2[comex_t2.date<comex_t2.date.max()]\n",
    "        print(len(train))\n",
    "        test=comex_t2[(comex_t2.date==comex_t2.date.max())&(comex_t2['Product~'+prdt_foco]==True)&(comex_t2['UF~'+uf_foco]==True)]\n",
    "\n",
    "        train.date=train.date.astype(int)\n",
    "        test.date=test.date.astype(int)\n",
    "    \n",
    "          \n",
    "        \n",
    "            \n",
    "\n",
    "        X_train=train.drop(['kg'],axis=1)\n",
    "        y_train=train.kg\n",
    "        \n",
    "        X_test=test.drop(['kg'],axis=1)\n",
    "        y_test=test.kg\n",
    "\n",
    "        \n",
    "        test.date=test.date.astype('datetime64[ns]')\n",
    "        \n",
    "        if r==1:\n",
    "            result_regr=test\n",
    "        else:\n",
    "            result_regr=pd.concat([result_regr,test])\n",
    "\n",
    "        result_class=result_class.assign(hyp_list=f)\n",
    "        result_regr=  result_regr.assign(hyp_list=f)\n",
    "                \n",
    "        comex_t2=comex_t2[comex_t2.date<=comex_t2.date.max()-DateOffset(years=1)]\n",
    "\n",
    "    result=result_class.merge(result_regr)\n",
    "\n",
    "\n",
    "\n",
    "    \n",
    "    print('\\n',f)\n",
    "    \n",
    "    def Back_from_dummies(comex_dumm):\n",
    "        o=comex_dumm[comex_dumm.columns[~comex_dumm.columns.str.contains('~')]]    \n",
    "        prdt=pd.from_dummies(comex_dumm[comex_dumm.columns[comex_dumm.columns.str.contains('Product')]],sep='~')    \n",
    "        month=pd.from_dummies(comex_dumm[comex_dumm.columns[comex_dumm.columns.str.contains('month')]],sep='~')    \n",
    "        uf=pd.from_dummies(comex_dumm[comex_dumm.columns[comex_dumm.columns.str.contains('UF')]],sep='~')    \n",
    "        comex_dumm=pd.concat([o,prdt,month,uf],axis=1)\n",
    "        return comex_dumm\n",
    "\n",
    "    result=Back_from_dummies(result)\n",
    "\n",
    "    \n",
    "\n",
    "    # Filtering\n",
    "    mes=result.month.unique()[0]    \n",
    "    result=result[(result.Product=='MOP')&(result.month==mes)&(result.UF=='BA')]\n",
    "\n",
    "    \n",
    "    result['rse']=rse(result.kg,result.kg_pred)    \n",
    "    print(f\"\\nPara {f} - rse = {int(result.rse.unique()/10**6)} Kton\")\n",
    "\n",
    "    results=pd.concat([result,results])\n",
    "    \n",
    "\n",
    "end=time.time()\n",
    "\n",
    "print(f\"Duração: {round((end-ini)/60,1)} minutos.\")"
   ]
  },
  {
   "cell_type": "code",
   "execution_count": null,
   "id": "fa37ec36-eca9-4d31-aa2a-050abd8c622d",
   "metadata": {
    "jupyter": {
     "source_hidden": true
    }
   },
   "outputs": [],
   "source": [
    "results=results.sort_values('year')"
   ]
  },
  {
   "cell_type": "raw",
   "id": "3dc2667f-47b9-467b-a23d-25beae2f6843",
   "metadata": {},
   "source": [
    "# Df for pred\n",
    "comex_sprs"
   ]
  },
  {
   "cell_type": "code",
   "execution_count": null,
   "id": "9a6117cd-4c31-4a74-8195-04512ed1286c",
   "metadata": {
    "jupyter": {
     "source_hidden": true
    }
   },
   "outputs": [],
   "source": [
    "# PREDIÇÃO\n",
    "\n",
    "pred=pd.DataFrame()\n",
    "\n",
    "for f in hip_list:\n",
    "\n",
    "    \n",
    "    h=dict[f]\n",
    "\n",
    "    \n",
    "    # Filtra Product, UF and month\n",
    "    comex_sprs_tests_hip=comex_sprs[\n",
    "    (comex_sprs.Product.isin(h[0]))&\n",
    "    (comex_sprs.UF.isin(h[1]))&\n",
    "    (comex_sprs.month.astype(int).isin(h[2]))].copy()\n",
    "\n",
    "    \n",
    "    # Dummies\n",
    "    comex_sprs_tests_hip=pd.get_dummies(comex_sprs_tests_hip,prefix_sep='~')\n",
    "    \n",
    "    # Identify occurances    \n",
    "    comex_sprs_tests_hip=comex_sprs_tests_hip.assign(oc=0)\n",
    "    comex_sprs_tests_hip.loc[comex_sprs_tests_hip.kg>0,'oc']=1\n",
    "    \n",
    "    # Classifying\n",
    "    train=comex_sprs_tests_hip.copy()\n",
    "    \n",
    "    X_pred=train.drop(columns=['kg','oc'])\n",
    "    X_pred.date=comex_sprs.date.max()+DateOffset(months=1)\n",
    "\n",
    "\n",
    "    \n",
    "    X_pred.year=X_pred.date.dt.year\n",
    "    X_pred.month=X_pred.date.dt.month\n",
    "    X_pred[X_pred.columns[X_pred.columns.str.contains('~')]]=False\n",
    "    X_pred['Product~'+prdt_foco]=True\n",
    "    X_pred['month~'+str(month_foco)]=True\n",
    "    X_pred['UF~'+str(uf_foco)]=True\n",
    "    X_pred=X_pred.drop_duplicates()\n",
    "        \n",
    "    train.date=train.date.astype(int)\n",
    "    X_pred.date=X_pred.date.astype(int)\n",
    "\n",
    "    X_train=train.drop(['kg','oc'],axis=1)\n",
    "\n",
    "    y_train_c=train.oc\n",
    "    \n",
    "    from sklearn.ensemble import RandomForestClassifier as rfc\n",
    "    \n",
    "    model=rfc()\n",
    "    model.fit(X_train,y_train_c)\n",
    "    X_pred['oc_pred']=model.predict(X_pred)\n",
    "\n",
    "    # Regression\n",
    "    \n",
    "    if f == 'conj':\n",
    "        from sklearn.ensemble import RandomForestRegressor as model\n",
    "        model=model(max_depth=max_depth,max_features=max_features)\n",
    "    else:\n",
    "        from sklearn.linear_model import LinearRegression\n",
    "        from sklearn.preprocessing import PolynomialFeatures\n",
    "        from sklearn.pipeline import make_pipeline\n",
    "        polynomial_features = PolynomialFeatures(degree=degree)\n",
    "        linear_regression = LinearRegression()\n",
    "        model = make_pipeline(polynomial_features, linear_regression)\n",
    "\n",
    "        \n",
    "\n",
    "    y_train_r=train.kg\n",
    "    \n",
    "    X_pred=X_pred[X_pred.oc_pred==1].drop(columns='oc_pred')\n",
    "    \n",
    "    model.fit(X_train,y_train_r)\n",
    "    \n",
    "    X_pred['kg_pred']=model.predict(X_pred)\n",
    "\n",
    "    X_pred=X_pred.assign(hyp_list=f)\n",
    "\n",
    "    X_pred=Back_from_dummies(X_pred).assign(oc_pred=1)\n",
    "\n",
    "    pred=pd.concat([pred,X_pred])"
   ]
  },
  {
   "cell_type": "code",
   "execution_count": null,
   "id": "d77faecc-d4c2-45ee-af49-6784ac7d98aa",
   "metadata": {
    "jupyter": {
     "source_hidden": true
    }
   },
   "outputs": [],
   "source": [
    "fim=pd.concat([results,pred])\n",
    "\n",
    "fim.date=fim.date.astype('datetime64[ns]')\n",
    "\n",
    "fim.month=fim.month.astype(int)\n",
    "\n",
    "fim=fim.drop(columns='kg').merge(comex.merge(fim[['month','UF','Product']].drop_duplicates()),how='outer')\n",
    "\n",
    "fim=fim.sort_values('year')\n",
    "\n",
    "fim2=pd.concat([\n",
    "    fim.drop(columns='kg_pred').assign(tipo='real'),\n",
    "    fim[fim.hyp_list=='lonely'].drop(columns='kg').assign(tipo='pred_lonely').rename(columns={'kg_pred':'kg'}),\n",
    "    fim[fim.hyp_list=='conj'].drop(columns='kg').assign(tipo='pred_conj').rename(columns={'kg_pred':'kg'})\n",
    "])\\\n",
    ".sort_values('year')[['year','month','Product','UF','kg','tipo']].drop_duplicates().dropna()"
   ]
  },
  {
   "cell_type": "code",
   "execution_count": null,
   "id": "29f2f77d-888f-4da7-8e13-c25fca97ff44",
   "metadata": {
    "jupyter": {
     "source_hidden": true
    }
   },
   "outputs": [],
   "source": [
    "g=sns.relplot(data=fim2,x='year',y='kg',hue='tipo',style='tipo',height=3,aspect=4)\n",
    "\n",
    "#g.set(ylim=(0, 1*10**8))\n",
    "g.fig.suptitle(f\"Imports\\nProduct: MOP* - Month: {mes} - UF: BA\\nReal and Predictions\",y=1.3)\n",
    "#plt.xticks(ticks=fim2.year.unique())\n",
    "\n",
    "\n",
    "plt.show()"
   ]
  },
  {
   "cell_type": "code",
   "execution_count": null,
   "id": "eef7d6f2-059e-48a2-b9a7-845137277c1f",
   "metadata": {
    "jupyter": {
     "source_hidden": true
    }
   },
   "outputs": [],
   "source": [
    "end=time.time()\n",
    "print(f\"Duração: {round((end-ini)/60,1)} minutos.\")"
   ]
  },
  {
   "cell_type": "code",
   "execution_count": null,
   "id": "08228331-ce03-4042-9526-fca55c73c0a0",
   "metadata": {
    "jupyter": {
     "source_hidden": true
    }
   },
   "outputs": [],
   "source": []
  },
  {
   "cell_type": "code",
   "execution_count": null,
   "id": "2fb23a0f-b847-4c35-a69c-ab166d380651",
   "metadata": {
    "jupyter": {
     "source_hidden": true
    }
   },
   "outputs": [],
   "source": []
  }
 ],
 "metadata": {
  "kernelspec": {
   "display_name": "Python 3 (ipykernel)",
   "language": "python",
   "name": "python3"
  },
  "language_info": {
   "codemirror_mode": {
    "name": "ipython",
    "version": 3
   },
   "file_extension": ".py",
   "mimetype": "text/x-python",
   "name": "python",
   "nbconvert_exporter": "python",
   "pygments_lexer": "ipython3",
   "version": "3.11.2"
  }
 },
 "nbformat": 4,
 "nbformat_minor": 5
}
