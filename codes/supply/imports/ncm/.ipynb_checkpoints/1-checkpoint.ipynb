{
 "cells": [
  {
   "cell_type": "code",
   "execution_count": 1,
   "id": "34d278cd-c818-451f-af78-94528c450a6d",
   "metadata": {},
   "outputs": [],
   "source": [
    "import time\n",
    "ini=time.time()\n",
    "\n",
    "import numpy as np\n",
    "import pandas as pd\n",
    "from sklearn import metrics\n",
    "from pandas.tseries.offsets import DateOffset\n",
    "import matplotlib.pyplot as plt\n",
    "import seaborn as sns\n",
    "import warnings\n",
    "warnings.filterwarnings(\"ignore\")\n",
    "\n",
    "imp_fert=pd.read_csv('/home/andre301267/git/Pricing-Fertilizer/DB/temp/imp_fert_ncm_quanti.csv')\n",
    "exp_soja=pd.read_csv('/home/andre301267/git/Pricing-Fertilizer/DB/temp/exp_soja_ncm_quanti.csv')\n",
    "\n",
    "comex=pd.concat([imp_fert,exp_soja]).sort_values(by=['year','month'])\\\n",
    ".drop(columns=['US$_freight','US$_insurance','cif_kg','fob_kg','preço'])\n",
    "\n",
    "imp_fert=exp_soja=0\n",
    "\n",
    "# filtra km deixando passar o maior km de cada produto\n",
    "filtra_km=comex[['Product','km']].drop_duplicates().sort_values(by=['Product','km'],ascending=False)\\\n",
    "    .drop_duplicates(subset='Product')\n",
    "comex=comex.merge(filtra_km)\n",
    "comex=comex.rename(columns={'US$_fob':'fob'})"
   ]
  },
  {
   "cell_type": "code",
   "execution_count": 2,
   "id": "a0ca5267-2d65-442c-a0bb-c2bfe74450b2",
   "metadata": {},
   "outputs": [],
   "source": [
    "# Save real begins and ends\n",
    "comex['date']=pd.to_datetime(comex.year.astype(str)+'-'+comex.month.astype(str)+'-01')\n",
    "date_min=comex.date.min()\n",
    "date_max=comex.date.max()"
   ]
  },
  {
   "cell_type": "code",
   "execution_count": 3,
   "id": "e04b582b-cf7c-44c4-8c33-b890fb7a2bdc",
   "metadata": {},
   "outputs": [],
   "source": [
    "cat_cols=['month','Product','UF']\n",
    "\n",
    "# hipotesys to test\n",
    "hip_list = ['lonely','conj']\n",
    "\n",
    "# General parameters\n",
    "years_rept=20\n",
    "prdt_foco=['MOP']\n",
    "uf_foco=['BA']\n",
    "qtt_foco=['kg','fob']\n",
    "month_foco=[(comex.date.max()+DateOffset(months=1)).month]\n",
    "train_max=10 # lenght\n",
    "train_min=10 # lenght\n",
    "\n",
    "            \n",
    "\n",
    "# Parameters for lonely processing\n",
    "prdt_lonely=prdt_foco\n",
    "uf_lonely=uf_foco\n",
    "\n",
    "month_lonely=month_foco\n",
    "degree=1\n",
    "\n",
    "# Parameters for joint processing\n",
    "prdt_conj=prdt_foco+['MAP','Soy Group']\n",
    "uf_conj=uf_foco+['GO','MT','TO']\n",
    "m_ext=3\n",
    "m_ini=month_foco[0]-m_ext\n",
    "month_conj=np.arange(m_ini,month_foco[0]+1)\n",
    "month_conj[month_conj<=0]+=12\n",
    "max_depth=7\n",
    "max_features=None\n",
    "\n",
    "# Dict for tests\n",
    "dict={'lonely':[prdt_lonely, uf_lonely, month_lonely],\n",
    "      'conj'  :[prdt_conj  , uf_conj,   month_conj]}\n",
    "\n",
    "\n",
    "# MODELS\n",
    "\n",
    "# Classfication\n",
    "from sklearn.ensemble import RandomForestClassifier as rfc\n",
    "model_rfc=rfc(max_depth=max_depth,max_features=max_features)\n",
    "\n",
    "# Regression\n",
    "\n",
    "# RFR\n",
    "from sklearn.ensemble import RandomForestRegressor as rfr\n",
    "model_rfr=rfr(max_depth=max_depth,max_features=max_features)\n",
    "\n",
    "# Polynomial Linear\n",
    "from sklearn.linear_model import LinearRegression\n",
    "from sklearn.preprocessing import PolynomialFeatures\n",
    "from sklearn.pipeline import make_pipeline\n",
    "polynomial_features = PolynomialFeatures(degree=degree)\n",
    "linear_regression = LinearRegression()\n",
    "model_plr = make_pipeline(polynomial_features, linear_regression)"
   ]
  },
  {
   "cell_type": "code",
   "execution_count": 4,
   "id": "8684b480-7b00-4bb5-8a00-181785594298",
   "metadata": {},
   "outputs": [],
   "source": [
    "comex=comex.groupby(by=['year']+cat_cols\n",
    "                   )[['kg','fob']].sum().reset_index()\n",
    "\n",
    "# Save real begins and ends\n",
    "comex['date']=pd.to_datetime(comex.year.astype(str)+'-'+comex.month.astype(str)+'-01')\n",
    "date_min=comex.date.min()\n",
    "date_max=comex.date.max()\n",
    "\n",
    "# Calendar full\n",
    "years=pd.DataFrame({'year':np.arange(date_min.year, date_max.year+1)}).assign(key=0)\n",
    "months=pd.DataFrame({'month':np.arange(1,13)}).assign(key=0)\n",
    "calendar=years.merge(months,on='key')\n",
    "\n",
    "\n",
    "cat=comex[[x for x in cat_cols if x not in ['month']]].drop_duplicates().assign(key=0)\n",
    "comex_cal_cat=calendar.merge(cat,on='key').drop('key',axis=1)\n",
    "\n",
    "comex_sprs=comex_cal_cat.merge(comex,how='outer').fillna(0)\n",
    "\n",
    "# Prune\n",
    "comex_sprs['date']=pd.to_datetime(comex_sprs.year.astype(str)+'-'+comex_sprs.month.astype(str)+'-01')\n",
    "comex_sprs=comex_sprs[(comex_sprs.date>=date_min)&(comex_sprs.date<=date_max)]\n",
    "\n",
    "# Indentify occurances\n",
    "comex_sprs=comex_sprs.assign(oc=0)\n",
    "comex_sprs.loc[comex_sprs.kg>0,'oc']=1"
   ]
  },
  {
   "cell_type": "code",
   "execution_count": 5,
   "id": "36b3c3fe-3ead-47c9-809b-f959ed919bbb",
   "metadata": {},
   "outputs": [],
   "source": [
    "h=dict['conj']\n",
    "\n",
    "# Filtra conforme o teste a ser feito\n",
    "comex_sprs_f1=comex_sprs[\n",
    "(comex_sprs.Product.isin(h[0]))&\n",
    "(comex_sprs.UF.isin(h[1]))&\n",
    "(comex_sprs.month.astype(int).isin(h[2]))].copy()"
   ]
  },
  {
   "cell_type": "code",
   "execution_count": 6,
   "id": "7ea58239-2bf7-4403-8680-1a89f324ddcc",
   "metadata": {},
   "outputs": [],
   "source": [
    "train=comex_sprs_f1\n",
    "pred=train[train.date==train.date.max()]\n",
    "pred.date=pred.date+DateOffset(months=1)\n",
    "pred.month=pred.date.dt.month\n",
    "pred.year=pred.date.dt.year\n",
    "pred=pred[(pred.Product.isin(prdt_foco))&(pred.UF.isin(uf_foco))]"
   ]
  },
  {
   "cell_type": "code",
   "execution_count": 7,
   "id": "6b100b65-7082-4099-9f2e-144394eddaa5",
   "metadata": {},
   "outputs": [],
   "source": [
    "comex_sprs=pd.concat([train.assign(tipo='train'),pred.assign(tipo='pred')])"
   ]
  },
  {
   "cell_type": "code",
   "execution_count": 8,
   "id": "f97b817e-5c14-478b-9375-bbc7ebf5fc4e",
   "metadata": {},
   "outputs": [],
   "source": [
    "comex_sprs.month=comex_sprs.month.astype(str)"
   ]
  },
  {
   "cell_type": "code",
   "execution_count": 9,
   "id": "5c3a2412-ed48-4769-8a87-4dc81f2316f2",
   "metadata": {},
   "outputs": [],
   "source": [
    "comex_s_d=pd.get_dummies(comex_sprs,prefix_sep='~')"
   ]
  },
  {
   "cell_type": "code",
   "execution_count": 10,
   "id": "4c50f809-849c-45c1-ba27-876b6c469094",
   "metadata": {},
   "outputs": [],
   "source": [
    "comex_s_d.date=comex_s_d.date.astype(int)"
   ]
  },
  {
   "cell_type": "code",
   "execution_count": 11,
   "id": "e013adb9-a140-4f8e-82ba-d01e3667b588",
   "metadata": {},
   "outputs": [],
   "source": [
    "train=comex_s_d[comex_s_d['tipo~train']==True]\n",
    "pred=comex_s_d[comex_s_d['tipo~pred']==True]"
   ]
  },
  {
   "cell_type": "code",
   "execution_count": 12,
   "id": "0450c76a-3270-4da8-822d-85af4a713b55",
   "metadata": {},
   "outputs": [],
   "source": [
    "X_train=train.drop(columns=['oc','kg','fob'])\n",
    "y_train=train.oc\n",
    "X_pred=pred.drop(columns=['oc','kg','fob'])"
   ]
  },
  {
   "cell_type": "code",
   "execution_count": 13,
   "id": "02907d75-f8cb-42d5-8694-b3f54762f420",
   "metadata": {},
   "outputs": [
    {
     "name": "stdout",
     "output_type": "stream",
     "text": [
      "ensemble_pred = s_d_ensemble_pred(model_c,model_r,train,X_pred)\n"
     ]
    }
   ],
   "source": [
    "%run 's_d_ensemble_pred.py'"
   ]
  },
  {
   "cell_type": "code",
   "execution_count": 14,
   "id": "d26b5a55-dcd6-48aa-8d67-b073fda7578b",
   "metadata": {},
   "outputs": [],
   "source": [
    "ensemble_pred = s_d_ensemble_pred(model_rfc,model_rfr,train,X_pred)"
   ]
  },
  {
   "cell_type": "code",
   "execution_count": 15,
   "id": "3348f7e7-46dc-4fdf-8762-f9c7e695b301",
   "metadata": {},
   "outputs": [
    {
     "data": {
      "text/html": [
       "<div>\n",
       "<style scoped>\n",
       "    .dataframe tbody tr th:only-of-type {\n",
       "        vertical-align: middle;\n",
       "    }\n",
       "\n",
       "    .dataframe tbody tr th {\n",
       "        vertical-align: top;\n",
       "    }\n",
       "\n",
       "    .dataframe thead th {\n",
       "        text-align: right;\n",
       "    }\n",
       "</style>\n",
       "<table border=\"1\" class=\"dataframe\">\n",
       "  <thead>\n",
       "    <tr style=\"text-align: right;\">\n",
       "      <th></th>\n",
       "      <th>year</th>\n",
       "      <th>date</th>\n",
       "      <th>month~6</th>\n",
       "      <th>month~7</th>\n",
       "      <th>month~8</th>\n",
       "      <th>month~9</th>\n",
       "      <th>Product~MAP</th>\n",
       "      <th>Product~MOP</th>\n",
       "      <th>Product~Soy Group</th>\n",
       "      <th>UF~BA</th>\n",
       "      <th>UF~GO</th>\n",
       "      <th>UF~MT</th>\n",
       "      <th>UF~TO</th>\n",
       "      <th>tipo~pred</th>\n",
       "      <th>tipo~train</th>\n",
       "      <th>oc_pred</th>\n",
       "      <th>kg_pred</th>\n",
       "      <th>fob_pred</th>\n",
       "    </tr>\n",
       "  </thead>\n",
       "  <tbody>\n",
       "    <tr>\n",
       "      <th>0</th>\n",
       "      <td>2024</td>\n",
       "      <td>1725148800000000000</td>\n",
       "      <td>False</td>\n",
       "      <td>False</td>\n",
       "      <td>False</td>\n",
       "      <td>True</td>\n",
       "      <td>False</td>\n",
       "      <td>True</td>\n",
       "      <td>False</td>\n",
       "      <td>True</td>\n",
       "      <td>False</td>\n",
       "      <td>False</td>\n",
       "      <td>False</td>\n",
       "      <td>True</td>\n",
       "      <td>False</td>\n",
       "      <td>1</td>\n",
       "      <td>6.962360e+07</td>\n",
       "      <td>2.675972e+07</td>\n",
       "    </tr>\n",
       "  </tbody>\n",
       "</table>\n",
       "</div>"
      ],
      "text/plain": [
       "   year                 date  month~6  month~7  month~8  month~9  Product~MAP  \\\n",
       "0  2024  1725148800000000000    False    False    False     True        False   \n",
       "\n",
       "   Product~MOP  Product~Soy Group  UF~BA  UF~GO  UF~MT  UF~TO  tipo~pred  \\\n",
       "0         True              False   True  False  False  False       True   \n",
       "\n",
       "   tipo~train  oc_pred       kg_pred      fob_pred  \n",
       "0       False        1  6.962360e+07  2.675972e+07  "
      ]
     },
     "execution_count": 15,
     "metadata": {},
     "output_type": "execute_result"
    }
   ],
   "source": [
    "ensemble_pred"
   ]
  },
  {
   "cell_type": "code",
   "execution_count": 16,
   "id": "24ef67a1-f617-4d64-8a31-1b4d78c8a06f",
   "metadata": {},
   "outputs": [],
   "source": [
    "def Back_from_dummies(comex_dumm):\n",
    "    o=comex_dumm[comex_dumm.columns[~comex_dumm.columns.str.contains('~')]]    \n",
    "    prdt=pd.from_dummies(comex_dumm[comex_dumm.columns[comex_dumm.columns.str.contains('Product')]],sep='~')    \n",
    "    month=pd.from_dummies(comex_dumm[comex_dumm.columns[comex_dumm.columns.str.contains('month')]],sep='~')    \n",
    "    uf=pd.from_dummies(comex_dumm[comex_dumm.columns[comex_dumm.columns.str.contains('UF')]],sep='~')    \n",
    "    comex_dumm=pd.concat([o,prdt,month,uf],axis=1)\n",
    "    return comex_dumm"
   ]
  },
  {
   "cell_type": "code",
   "execution_count": 17,
   "id": "5dd511e7-2231-4c06-9b6a-434613980251",
   "metadata": {},
   "outputs": [
    {
     "data": {
      "text/html": [
       "<div>\n",
       "<style scoped>\n",
       "    .dataframe tbody tr th:only-of-type {\n",
       "        vertical-align: middle;\n",
       "    }\n",
       "\n",
       "    .dataframe tbody tr th {\n",
       "        vertical-align: top;\n",
       "    }\n",
       "\n",
       "    .dataframe thead th {\n",
       "        text-align: right;\n",
       "    }\n",
       "</style>\n",
       "<table border=\"1\" class=\"dataframe\">\n",
       "  <thead>\n",
       "    <tr style=\"text-align: right;\">\n",
       "      <th></th>\n",
       "      <th>year</th>\n",
       "      <th>date</th>\n",
       "      <th>oc_pred</th>\n",
       "      <th>kg_pred</th>\n",
       "      <th>fob_pred</th>\n",
       "      <th>Product</th>\n",
       "      <th>month</th>\n",
       "      <th>UF</th>\n",
       "    </tr>\n",
       "  </thead>\n",
       "  <tbody>\n",
       "    <tr>\n",
       "      <th>0</th>\n",
       "      <td>2024</td>\n",
       "      <td>1725148800000000000</td>\n",
       "      <td>1</td>\n",
       "      <td>6.962360e+07</td>\n",
       "      <td>2.675972e+07</td>\n",
       "      <td>MOP</td>\n",
       "      <td>9</td>\n",
       "      <td>BA</td>\n",
       "    </tr>\n",
       "  </tbody>\n",
       "</table>\n",
       "</div>"
      ],
      "text/plain": [
       "   year                 date  oc_pred       kg_pred      fob_pred Product  \\\n",
       "0  2024  1725148800000000000        1  6.962360e+07  2.675972e+07     MOP   \n",
       "\n",
       "  month  UF  \n",
       "0     9  BA  "
      ]
     },
     "execution_count": 17,
     "metadata": {},
     "output_type": "execute_result"
    }
   ],
   "source": [
    "Back_from_dummies(ensemble_pred)"
   ]
  },
  {
   "cell_type": "code",
   "execution_count": 18,
   "id": "d61b9657-a987-43e4-bed9-d9a096964318",
   "metadata": {},
   "outputs": [
    {
     "ename": "SyntaxError",
     "evalue": "invalid syntax (62411553.py, line 1)",
     "output_type": "error",
     "traceback": [
      "\u001b[0;36m  Cell \u001b[0;32mIn[18], line 1\u001b[0;36m\u001b[0m\n\u001b[0;31m    a=\u001b[0m\n\u001b[0m      ^\u001b[0m\n\u001b[0;31mSyntaxError\u001b[0m\u001b[0;31m:\u001b[0m invalid syntax\n"
     ]
    }
   ],
   "source": [
    "a="
   ]
  },
  {
   "cell_type": "code",
   "execution_count": null,
   "id": "1ac1e4c4-23c0-4942-89c4-77e6fdb33a6c",
   "metadata": {},
   "outputs": [],
   "source": [
    "X_train"
   ]
  },
  {
   "cell_type": "code",
   "execution_count": null,
   "id": "5bb37e7e-e5bf-48fe-926b-8cef0f68c7fe",
   "metadata": {},
   "outputs": [],
   "source": []
  },
  {
   "cell_type": "code",
   "execution_count": null,
   "id": "30f51a89-4a46-4723-9bf0-c5859a826364",
   "metadata": {},
   "outputs": [],
   "source": []
  },
  {
   "cell_type": "code",
   "execution_count": null,
   "id": "fd32660a-9d70-41f7-b34c-a342adef12bf",
   "metadata": {},
   "outputs": [],
   "source": []
  },
  {
   "cell_type": "code",
   "execution_count": null,
   "id": "088fa02f-4e5c-4dec-93bf-7ed1318a977b",
   "metadata": {},
   "outputs": [],
   "source": [
    "a="
   ]
  },
  {
   "cell_type": "code",
   "execution_count": null,
   "id": "78c7ca60-0c2e-4fde-9ab6-76aebe479c68",
   "metadata": {},
   "outputs": [],
   "source": []
  },
  {
   "cell_type": "code",
   "execution_count": null,
   "id": "c60b4741-a2f5-4bc4-95f6-1122415cd500",
   "metadata": {},
   "outputs": [],
   "source": [
    "X_pred[X_pred.columns[X_pred.columns.str.contains('~')]]=False"
   ]
  },
  {
   "cell_type": "code",
   "execution_count": null,
   "id": "f2bb47d2-cbd6-440f-b637-d794a771447e",
   "metadata": {},
   "outputs": [],
   "source": [
    "X_pred.date=X_pred.date+DateOffset(months=1)\n",
    "month_pred=X_pred.date.dt.month"
   ]
  },
  {
   "cell_type": "code",
   "execution_count": null,
   "id": "20b47839-bc04-42a2-9211-fe9739b383fa",
   "metadata": {},
   "outputs": [],
   "source": [
    "X_pred['month~'+str(month_pred)]=True"
   ]
  },
  {
   "cell_type": "code",
   "execution_count": null,
   "id": "96f6f0c3-8863-4028-83b1-47f4460f65a2",
   "metadata": {},
   "outputs": [],
   "source": [
    "X_pred['UF~'+str(uf_foco)]=True"
   ]
  },
  {
   "cell_type": "code",
   "execution_count": null,
   "id": "7c32a34f-738b-4ea2-a5bc-20cc40bcc362",
   "metadata": {},
   "outputs": [],
   "source": [
    "X_pred['UF~'+str(uf_foco)]=True"
   ]
  },
  {
   "cell_type": "code",
   "execution_count": null,
   "id": "210c7bf6-0bdb-44aa-aecc-8c065b3b31aa",
   "metadata": {},
   "outputs": [],
   "source": []
  },
  {
   "cell_type": "code",
   "execution_count": null,
   "id": "ff7bd4c1-3cdc-4536-8362-86e19f4c36a5",
   "metadata": {},
   "outputs": [],
   "source": [
    "pred=predict_sklearn(model_plr,X_train,y_train,X_pred)"
   ]
  },
  {
   "cell_type": "code",
   "execution_count": null,
   "id": "7a695905-ff4d-4c76-917d-bf9c717cceef",
   "metadata": {},
   "outputs": [],
   "source": []
  },
  {
   "cell_type": "code",
   "execution_count": null,
   "id": "3ac4cd3b-c5cd-4c66-93de-ddc018205025",
   "metadata": {},
   "outputs": [],
   "source": []
  },
  {
   "cell_type": "code",
   "execution_count": null,
   "id": "6b9792c1-9adf-4427-a938-fa3c28562774",
   "metadata": {},
   "outputs": [],
   "source": []
  },
  {
   "cell_type": "code",
   "execution_count": null,
   "id": "2309cc63-05ce-4317-88be-22058c2f37dd",
   "metadata": {},
   "outputs": [],
   "source": [
    "a="
   ]
  },
  {
   "cell_type": "code",
   "execution_count": null,
   "id": "db420fce-73de-408d-bd20-d470a9b6ab26",
   "metadata": {},
   "outputs": [],
   "source": []
  },
  {
   "cell_type": "code",
   "execution_count": null,
   "id": "29e9c292-278c-4824-b5aa-d1ff136810ff",
   "metadata": {},
   "outputs": [],
   "source": []
  },
  {
   "cell_type": "code",
   "execution_count": null,
   "id": "1dddd304-41ed-41a0-96cd-cbce93709ea9",
   "metadata": {},
   "outputs": [],
   "source": []
  },
  {
   "cell_type": "code",
   "execution_count": null,
   "id": "f90d4396-5a03-4b0d-bf1d-2398873cf86a",
   "metadata": {},
   "outputs": [],
   "source": []
  },
  {
   "cell_type": "code",
   "execution_count": null,
   "id": "2c36d8b2-e848-415f-9ac8-b738611cc479",
   "metadata": {},
   "outputs": [],
   "source": [
    "# Df for tests\n",
    "date_max_test=comex_sprs.date.max()-DateOffset(months=11)\n",
    "comex_sprs_tests=comex_sprs[comex_sprs.date<=date_max_test]"
   ]
  },
  {
   "cell_type": "code",
   "execution_count": null,
   "id": "af00d06e-8558-4d1d-8ec1-a6c9aa0338ea",
   "metadata": {},
   "outputs": [],
   "source": []
  },
  {
   "cell_type": "code",
   "execution_count": null,
   "id": "4151e1aa-efde-4741-b57b-eda6905e8c21",
   "metadata": {},
   "outputs": [],
   "source": [
    "comex_sprs_tests=comex_sprs_tests"
   ]
  },
  {
   "cell_type": "code",
   "execution_count": null,
   "id": "40b4976d-4487-4c09-a6c2-bef22e20ebf3",
   "metadata": {},
   "outputs": [],
   "source": [
    "cst=comex_sprs_tests"
   ]
  },
  {
   "cell_type": "code",
   "execution_count": null,
   "id": "93f585c0-831a-415c-92b6-6880139ab49e",
   "metadata": {},
   "outputs": [],
   "source": []
  },
  {
   "cell_type": "code",
   "execution_count": null,
   "id": "c9caf4bb-773d-433a-931b-dc715883ba52",
   "metadata": {},
   "outputs": [],
   "source": []
  },
  {
   "cell_type": "code",
   "execution_count": null,
   "id": "30f71dc6-5fbc-45c8-9729-452a8603429e",
   "metadata": {},
   "outputs": [],
   "source": [
    "comex_t2.info()"
   ]
  },
  {
   "cell_type": "code",
   "execution_count": null,
   "id": "dd9f1b8a-bd95-44a2-9fa9-fe25f531f37d",
   "metadata": {},
   "outputs": [],
   "source": [
    "train=comex_t2"
   ]
  },
  {
   "cell_type": "code",
   "execution_count": null,
   "id": "16cfbd54-c48d-4fb8-a47c-6bad23af95ac",
   "metadata": {},
   "outputs": [],
   "source": [
    "X_train=train.drop(columns=['kg','fob'])"
   ]
  },
  {
   "cell_type": "code",
   "execution_count": null,
   "id": "5c0df3e1-e61b-4773-b3c2-1c425941d6ba",
   "metadata": {},
   "outputs": [],
   "source": []
  },
  {
   "cell_type": "code",
   "execution_count": null,
   "id": "b774c9d0-6563-4e3f-8c81-f27ac89d25f2",
   "metadata": {},
   "outputs": [],
   "source": []
  },
  {
   "cell_type": "code",
   "execution_count": null,
   "id": "4fffb2fe-5dd1-4fbe-b83f-b2bc0e991091",
   "metadata": {},
   "outputs": [],
   "source": []
  },
  {
   "cell_type": "code",
   "execution_count": null,
   "id": "19fbd56e-3f30-4cf4-bc4d-35596b9c5799",
   "metadata": {},
   "outputs": [],
   "source": [
    "a="
   ]
  },
  {
   "cell_type": "code",
   "execution_count": null,
   "id": "fa3f0c89-9a23-4dbd-aa1b-125879528320",
   "metadata": {},
   "outputs": [],
   "source": []
  },
  {
   "cell_type": "code",
   "execution_count": null,
   "id": "94a054c0-e855-4e72-bda8-38f2d1447884",
   "metadata": {},
   "outputs": [],
   "source": []
  },
  {
   "cell_type": "code",
   "execution_count": null,
   "id": "a6b3fb70-02ea-412e-901d-05ceb9a5fd97",
   "metadata": {},
   "outputs": [],
   "source": []
  },
  {
   "cell_type": "code",
   "execution_count": null,
   "id": "e5fa5307-e516-4421-969e-cb646021cfbb",
   "metadata": {},
   "outputs": [],
   "source": []
  },
  {
   "cell_type": "code",
   "execution_count": null,
   "id": "fad9001a-c067-4b52-b7f1-931a39ad4fbe",
   "metadata": {},
   "outputs": [],
   "source": []
  },
  {
   "cell_type": "code",
   "execution_count": null,
   "id": "19db3943-ddc5-4b21-8812-47110a44d552",
   "metadata": {},
   "outputs": [],
   "source": [
    "# Train & test\n",
    "train=comex_t2[comex_t2.date<comex_t2.date.max()]\n",
    "test=comex_t2[comex_t2.date==comex_t2.date.max()]\n",
    "test=test[(test.UF.isin(uf_foco))&(test.Product.isin(prdt_foco))]\n",
    "\n",
    "X_train=train_c.drop(columns=['oc']+qtt_foco)\n",
    "y_train=train_c.oc\n",
    "X_test=test_c.drop(columns=['oc']+qtt_foco)\n",
    "\n",
    "# Classify\n",
    "\n",
    "model_c=model_rfc\n",
    "model_c.fit(X_train.drop(columns='year'),y_train)\n",
    "test_c['oc_pred']=model_c.predict(X_test.drop(columns='year'))\n",
    "\n",
    "# X & y to regress\n",
    "train_r=train_c[train_c.oc==1]\n",
    "test_r=test_c[(test_c.oc==1)&(test_c.oc_pred==1)]\n",
    "\n",
    "# Verify test conditions to regeress\n",
    "if (len(train_r.year.unique())>=train_min) & (len(test_r)>0):\n",
    "    \n",
    "    X_train=train_r.drop(columns=['oc']+qtt_foco)\n",
    "    y_train=train_r[qtt_foco]\n",
    "    X_test=test_r.drop(columns=['oc','oc_pred']+qtt_foco)\n",
    "\n",
    "    # Verify type of regress to be done\n",
    "    if f == 'conj':\n",
    "        model_r=model_rfr\n",
    "    else:\n",
    "        model_r=model_plr\n",
    "        \n",
    "    # Regress\n",
    "    model_r.fit(X_train.drop(columns='year'),y_train)\n",
    "    #test_r=X_test\n",
    "    w=model_r.predict(X_test.drop(columns='year'))[0]\n",
    "    for x in range(len(qtt_foco)):\n",
    "        test_r[str(qtt_foco[x])+'_pred']=w[x]\n",
    "        \n",
    "    # Identify the test done in the results                \n",
    "    test_r=test_r.assign(hip=f)\n",
    "    \n",
    "\n",
    "    # Save results of the running test\n",
    "    results_r=pd.concat([results_r,test_r]).fillna(False).reset_index(drop=True)\n",
    "\n",
    "# Identify the test done in the results\n",
    "test_c=test_c.assign(hip=f)\n",
    "# Save results of the running test\n",
    "results_c=pd.concat([results_c,test_c]).fillna(False).reset_index(drop=True)\n",
    "    \n",
    "# Drop the date that was just test\n",
    "comex_t2=comex_t2[(comex_t2.date<=comex_t2.date.max()-DateOffset(years=1))]"
   ]
  },
  {
   "cell_type": "code",
   "execution_count": null,
   "id": "188bc93b-d38d-4c3c-a390-2c24bf782815",
   "metadata": {},
   "outputs": [],
   "source": []
  },
  {
   "cell_type": "code",
   "execution_count": null,
   "id": "59caed56-9ea0-43d0-802e-a100b9b950ec",
   "metadata": {},
   "outputs": [],
   "source": []
  },
  {
   "cell_type": "code",
   "execution_count": null,
   "id": "2dfe0f79-5f84-46d5-8b6a-424b7ac19fea",
   "metadata": {},
   "outputs": [],
   "source": []
  },
  {
   "cell_type": "code",
   "execution_count": null,
   "id": "b7ddfc84-fa4c-4bf8-b845-2ccf14f803d5",
   "metadata": {},
   "outputs": [],
   "source": []
  },
  {
   "cell_type": "code",
   "execution_count": null,
   "id": "cc7095ac-c484-4d06-b055-3990b5254d49",
   "metadata": {},
   "outputs": [],
   "source": []
  },
  {
   "cell_type": "code",
   "execution_count": null,
   "id": "d9d6b081-29fd-4be0-ae36-4a0d8d6e7ab1",
   "metadata": {},
   "outputs": [],
   "source": [
    "# TESTS\n",
    "results_c=pd.DataFrame()\n",
    "results_r=pd.DataFrame()\n",
    "\n",
    "for f in hip_list:\n",
    "\n",
    "    h=dict[f]\n",
    "    \n",
    "    # Filtra conforme o teste a ser feito\n",
    "    comex_sprs_tests_hip=comex_sprs_tests[\n",
    "    (comex_sprs_tests.Product.isin(h[0]))&\n",
    "    (comex_sprs_tests.UF.isin(h[1]))&\n",
    "    (comex_sprs_tests.month.astype(int).isin(h[2]))].copy()\n",
    "\n",
    "    \n",
    "    comex_t2=comex_sprs_tests_hip.copy()\n",
    "    \n",
    "\n",
    "    # Repetitions of the test troughout the years\n",
    "    for r in range(1,years_rept+1):\n",
    "        \n",
    "        # Train & test\n",
    "        train=comex_t2[comex_t2.date<comex_t2.date.max()]\n",
    "        \n",
    "        test=comex_t2[comex_t2.date==comex_t2.date.max()]\n",
    "        test=test[(test.UF.isin(uf_foco))&(test.Product.isin(prdt_foco))]\n",
    "        \n",
    "        # Verify test conditions to classify\n",
    "        if (len(train.year.unique())>=train_min):\n",
    "                \n",
    "            # Unify to format\n",
    "            tt=pd.concat([train.assign(tipo='train'),test.assign(tipo='test')])\n",
    "            tt.date=tt.date.astype(int) # Format date\n",
    "            tt_dumm=pd.get_dummies(tt, prefix_sep='~') # Format categories\n",
    "            \n",
    "            # Train & test\n",
    "            train_c=tt_dumm[tt_dumm['tipo~'+'train']==True].drop(columns=['tipo~'+'train','tipo~'+'test'])\n",
    "            test_c=tt_dumm[tt_dumm['tipo~'+'test']==True].drop(columns=['tipo~'+'train','tipo~'+'test'])\n",
    "            # X & y for classify\n",
    "            \n",
    "            X_train=train_c.drop(columns=['oc']+qtt_foco)\n",
    "            y_train=train_c.oc\n",
    "            X_test=test_c.drop(columns=['oc']+qtt_foco)\n",
    "            \n",
    "            # Classify\n",
    "            \n",
    "            model_c=model_rfc\n",
    "            model_c.fit(X_train.drop(columns='year'),y_train)\n",
    "            test_c['oc_pred']=model_c.predict(X_test.drop(columns='year'))\n",
    "            \n",
    "            # X & y to regress\n",
    "            train_r=train_c[train_c.oc==1]\n",
    "            test_r=test_c[(test_c.oc==1)&(test_c.oc_pred==1)]\n",
    "            \n",
    "            # Verify test conditions to regeress\n",
    "            if (len(train_r.year.unique())>=train_min) & (len(test_r)>0):\n",
    "                \n",
    "                X_train=train_r.drop(columns=['oc']+qtt_foco)\n",
    "                y_train=train_r[qtt_foco]\n",
    "                X_test=test_r.drop(columns=['oc','oc_pred']+qtt_foco)\n",
    "\n",
    "                # Verify type of regress to be done\n",
    "                if f == 'conj':\n",
    "                    model_r=model_rfr\n",
    "                else:\n",
    "                    model_r=model_plr\n",
    "                    \n",
    "                # Regress\n",
    "                model_r.fit(X_train.drop(columns='year'),y_train)\n",
    "                #test_r=X_test\n",
    "                w=model_r.predict(X_test.drop(columns='year'))[0]\n",
    "                for x in range(len(qtt_foco)):\n",
    "                    test_r[str(qtt_foco[x])+'_pred']=w[x]\n",
    "                    \n",
    "                # Identify the test done in the results                \n",
    "                test_r=test_r.assign(hip=f)\n",
    "                \n",
    "    \n",
    "                # Save results of the running test\n",
    "                results_r=pd.concat([results_r,test_r]).fillna(False).reset_index(drop=True)\n",
    "            \n",
    "            # Identify the test done in the results\n",
    "            test_c=test_c.assign(hip=f)\n",
    "            # Save results of the running test\n",
    "            results_c=pd.concat([results_c,test_c]).fillna(False).reset_index(drop=True)\n",
    "                \n",
    "        # Drop the date that was just test\n",
    "        comex_t2=comex_t2[(comex_t2.date<=comex_t2.date.max()-DateOffset(years=1))]"
   ]
  },
  {
   "cell_type": "code",
   "execution_count": null,
   "id": "66866c2e-c4d2-4f89-9800-a68fb8613afe",
   "metadata": {},
   "outputs": [],
   "source": [
    "results_c.info()"
   ]
  },
  {
   "cell_type": "code",
   "execution_count": null,
   "id": "ebbd883f-dedb-4941-825d-b3002a89764f",
   "metadata": {},
   "outputs": [],
   "source": [
    "def Back_from_dummies(comex_dumm):\n",
    "    o=comex_dumm[comex_dumm.columns[~comex_dumm.columns.str.contains('~')]]    \n",
    "    prdt=pd.from_dummies(comex_dumm[comex_dumm.columns[comex_dumm.columns.str.contains('Product')]],sep='~')    \n",
    "    month=pd.from_dummies(comex_dumm[comex_dumm.columns[comex_dumm.columns.str.contains('month')]],sep='~')    \n",
    "    uf=pd.from_dummies(comex_dumm[comex_dumm.columns[comex_dumm.columns.str.contains('UF')]],sep='~')    \n",
    "    comex_dumm=pd.concat([o,prdt,month,uf],axis=1)\n",
    "    return comex_dumm\n",
    "\n",
    "def date_format(comex):\n",
    "    comex.date=comex.date.astype('datetime64[ns]')\n",
    "    return comex\n",
    "\n",
    "results_c=Back_from_dummies(results_c)\n",
    "results_r=Back_from_dummies(results_r)\n",
    "\n",
    "results_c=date_format(results_c)\n",
    "results_r=date_format(results_r)"
   ]
  },
  {
   "cell_type": "code",
   "execution_count": null,
   "id": "794ee582-e8d9-42e8-8080-5030905dc530",
   "metadata": {},
   "outputs": [],
   "source": [
    "for h in hip_list:\n",
    "    t=results_c[results_c.hip==h]    \n",
    "    print(h+'_hipotesys__scores:')\n",
    "    print('accuracy',round(metrics.accuracy_score(t.oc,t.oc_pred),1))\n",
    "    print('precision',round(metrics.precision_score(t.oc,t.oc_pred),1))\n",
    "    print('recall',round(metrics.recall_score(t.oc,t.oc_pred),1))\n",
    "    print()"
   ]
  },
  {
   "cell_type": "code",
   "execution_count": null,
   "id": "7422e060-e460-4de3-b4d6-004bfd8cc100",
   "metadata": {},
   "outputs": [],
   "source": [
    "w=results_r[results_r.hip=='lonely'][['date','hip']].merge(results_r[results_r.hip=='conj'][['date','hip']], on='date',how='outer')"
   ]
  },
  {
   "cell_type": "code",
   "execution_count": null,
   "id": "ee815ee2-d4f7-4a2f-9551-ee9bdeb489bc",
   "metadata": {},
   "outputs": [],
   "source": [
    "date_sem_regres_lonely=w[w.hip_x.isna()].date"
   ]
  },
  {
   "cell_type": "code",
   "execution_count": null,
   "id": "24f7e3bc-2259-4a2b-9ae5-a7f3d7f32e74",
   "metadata": {},
   "outputs": [],
   "source": [
    "results_c.sort_values(by=['year','hip'])"
   ]
  },
  {
   "cell_type": "code",
   "execution_count": null,
   "id": "408e3558-db66-4c80-8030-c11eabff457c",
   "metadata": {},
   "outputs": [],
   "source": [
    "results_r.sort_values('year')"
   ]
  },
  {
   "cell_type": "code",
   "execution_count": null,
   "id": "a2090fda-350a-4845-bd81-2d0d8669ce22",
   "metadata": {},
   "outputs": [],
   "source": [
    "date_sem_regres_lonely"
   ]
  },
  {
   "cell_type": "code",
   "execution_count": null,
   "id": "13c6b64f-6b27-45d5-bb8c-baf74118d479",
   "metadata": {},
   "outputs": [],
   "source": [
    "# Metrics\n",
    "rse=metrics.root_mean_squared_error\n",
    "\n",
    "for y in qtt_foco:\n",
    "    col_drop=[x for x in qtt_foco if x !=y][0]\n",
    "        \n",
    "    for hip in hip_list:\n",
    "        l=[]\n",
    "        t=results_r[\n",
    "        (results_r.hip==hip)&\n",
    "        (results_r.Product.isin(prdt_foco))&\n",
    "        (results_r.UF.isin(uf_foco))\n",
    "        ].drop(columns=col_drop)\n",
    "        for i in range(1000):\n",
    "            tt=t.sample(len(t),replace=True)\n",
    "            l=l+[rse(\n",
    "                tt[y],\n",
    "                tt[y+'_pred']\n",
    "            )]\n",
    "        print('hipotesys ',hip,y,'- rse: ',round(sum(l)/len(l)/10**6),'Kt, com',len(t), 'amostras.')\n",
    "        print()"
   ]
  }
 ],
 "metadata": {
  "kernelspec": {
   "display_name": "Python 3 (ipykernel)",
   "language": "python",
   "name": "python3"
  },
  "language_info": {
   "codemirror_mode": {
    "name": "ipython",
    "version": 3
   },
   "file_extension": ".py",
   "mimetype": "text/x-python",
   "name": "python",
   "nbconvert_exporter": "python",
   "pygments_lexer": "ipython3",
   "version": "3.11.2"
  }
 },
 "nbformat": 4,
 "nbformat_minor": 5
}
