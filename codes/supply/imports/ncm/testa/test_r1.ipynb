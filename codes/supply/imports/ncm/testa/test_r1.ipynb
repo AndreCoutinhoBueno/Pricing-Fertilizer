{
 "cells": [
  {
   "cell_type": "code",
   "execution_count": 1,
   "id": "993b141f-e8c3-44fc-88a6-5be0eb7787e8",
   "metadata": {},
   "outputs": [],
   "source": [
    "import numpy as np\n",
    "import pandas as pd\n",
    "from pandas.tseries.offsets import DateOffset\n",
    "import matplotlib.pyplot as plt\n",
    "import seaborn as sns\n",
    "import warnings\n",
    "warnings.filterwarnings(\"ignore\")\n",
    "comex_df=pd.read_csv('/home/andre301267/git/BD/temp/imp_fert_ncm_quanti.csv').sort_values(by=['CO_ANO','CO_MES'])"
   ]
  },
  {
   "cell_type": "code",
   "execution_count": 2,
   "id": "11e56ef2-0317-4813-94b9-a3b51f822345",
   "metadata": {},
   "outputs": [],
   "source": [
    "comex_df.insert(0,'date',pd.to_datetime(comex_df.CO_ANO.astype(str)+'/'+comex_df.CO_MES.astype(str)+'/1'))"
   ]
  },
  {
   "cell_type": "code",
   "execution_count": 3,
   "id": "cf52308f-29e5-43a8-9670-58816371348a",
   "metadata": {},
   "outputs": [],
   "source": [
    "data_ini=comex_df.date.min()"
   ]
  },
  {
   "cell_type": "code",
   "execution_count": 4,
   "id": "857b9341-7f32-4df9-ab61-756ce1c16e16",
   "metadata": {},
   "outputs": [],
   "source": [
    "data_fim=comex_df.date.max()"
   ]
  },
  {
   "cell_type": "markdown",
   "id": "4e16e82f-80a5-4d96-ab57-cce676309daa",
   "metadata": {},
   "source": [
    "# 1a Fase: Seleciona a planilha de interesse"
   ]
  },
  {
   "cell_type": "code",
   "execution_count": 5,
   "id": "6583f156-4703-49dc-b465-22b9e30e97eb",
   "metadata": {},
   "outputs": [
    {
     "data": {
      "text/plain": [
       "array(['MOP', 'MOP<60', 'NK', 'NPK', 'Nit.Sódio Potássico 15 15',\n",
       "       'Outros N', 'Outros nitratos de sódio', 'SAM', 'SOP<52', 'MAP',\n",
       "       'NAM', 'Nit.Sódio natural<16,3', 'Outros Nit.Sódio potássico',\n",
       "       'Outros potássicos', 'Superfosfatos<22', 'UREIA',\n",
       "       'DAP arsênio> 6 mg/kg', 'NCa', 'Outros SOP', 'PK',\n",
       "       'Superfosfato>45', 'Ureia, mesmo aquosa',\n",
       "       'Outros Nit.Sódio, naturais', 'NP', 'Nitratos e fosfatos',\n",
       "       'Superfosfatos>35', 'Outros superfosfatos'], dtype=object)"
      ]
     },
     "execution_count": 5,
     "metadata": {},
     "output_type": "execute_result"
    }
   ],
   "source": [
    "comex_df.nick.unique()"
   ]
  },
  {
   "cell_type": "code",
   "execution_count": 6,
   "id": "0fccb9bf-4af3-4cb2-87d2-af543f3b56d6",
   "metadata": {},
   "outputs": [],
   "source": [
    "nick=['MOP']\n",
    "UF=['BA']\n",
    "CO_PAIS=[]\n",
    "CO_URF=[]\n",
    "\n",
    "l=['nick','UF','CO_PAIS','CO_URF']\n",
    "d={'nick':nick,'UF':UF,'CO_PAIS':CO_PAIS,'CO_URF':CO_URF}\n",
    "for x in l:\n",
    "    if len(d[x])>0:\n",
    "        comex_df=comex_df[comex_df[x].isin(d[x])]\n",
    "    else:\n",
    "        comex_df.drop(columns=x,inplace=True)"
   ]
  },
  {
   "cell_type": "raw",
   "id": "b47cf664-e138-4e41-a055-7e4b71a21468",
   "metadata": {},
   "source": [
    "sns.displot(data=comex_df,x='KG_LIQUIDO',hue='km', log_scale=True,height=2,aspect=4)\\\n",
    ".fig.suptitle(f\"Importações de {nick[0]} em {UF[0]}\",y=1.1)\n",
    "plt.show()"
   ]
  },
  {
   "cell_type": "code",
   "execution_count": 7,
   "id": "8a931f69-e69b-482d-9ae9-bd2356911abe",
   "metadata": {},
   "outputs": [],
   "source": [
    "km=2"
   ]
  },
  {
   "cell_type": "code",
   "execution_count": 8,
   "id": "b9bf9e66-fc28-4e73-95f3-6747c919d9a8",
   "metadata": {},
   "outputs": [],
   "source": [
    "comex_df=comex_df[comex_df.km==km]\n",
    "comex_df.drop(columns='km',inplace=True)"
   ]
  },
  {
   "cell_type": "markdown",
   "id": "66dbca8b-3d0d-4cbb-8f39-65db319f9a5c",
   "metadata": {},
   "source": [
    "# 2a Fase: Sparse Matrix - train"
   ]
  },
  {
   "cell_type": "code",
   "execution_count": 9,
   "id": "41055112-31c4-4616-ad57-a3498a06ce72",
   "metadata": {},
   "outputs": [],
   "source": [
    "col_ord=['CO_ANO','CO_MES']\n",
    "col_cat=[x for x in l if x in comex_df.columns.tolist()]\n",
    "col_quanti=['KG_LIQUIDO','VL_FOB','VL_FRETE']\n",
    "comex_df=comex_df[col_ord+col_cat+col_quanti].sort_values(by=col_ord)\n",
    "comex_df[col_ord+col_cat]=comex_df[col_ord+col_cat].astype('category')\n",
    "comex_df_g=comex_df.groupby(by=col_ord+col_cat,observed=False)[col_quanti].sum().reset_index()\n",
    "comex_df_g.insert(0,'date',pd.to_datetime(comex_df_g.CO_ANO.astype(str)+'/'+comex_df_g.CO_MES.astype(str)+'/1'))\n",
    "comex_df_g=comex_df_g[(comex_df_g.date>=data_ini)&(comex_df_g.date<=data_fim)].sort_values('date')\n",
    "train=comex_df_g"
   ]
  },
  {
   "cell_type": "markdown",
   "id": "9bbe6a3c-03f7-4e10-9090-41d6e2f46016",
   "metadata": {},
   "source": [
    "# 3a Fase: train & test"
   ]
  },
  {
   "cell_type": "code",
   "execution_count": 10,
   "id": "4eb2d10f-26af-4680-8ccf-9eff1de29a1a",
   "metadata": {},
   "outputs": [],
   "source": [
    "train_end=train.date.max()-DateOffset(years=1)\n",
    "test=train[train.date>train_end]\n",
    "train=train[train.date<=train_end]"
   ]
  },
  {
   "cell_type": "markdown",
   "id": "7c073c1b-5f65-4210-8781-944f7976d009",
   "metadata": {},
   "source": [
    "# 4a Fase: Dummies"
   ]
  },
  {
   "cell_type": "code",
   "execution_count": 11,
   "id": "be5becfc-57c5-4794-b8ae-465986ca8eac",
   "metadata": {},
   "outputs": [],
   "source": [
    "comex_df_o=pd.concat([train,test])\n",
    "comex_df_o.CO_MES=comex_df_o.CO_MES.astype('category')\n",
    "comex_df_o.drop(columns='CO_ANO',inplace=True)\n",
    "comex_df_o.date=comex_df_o.date.astype(int)\n",
    "comex_df_dumm=pd.get_dummies(comex_df_o, prefix_sep='~')"
   ]
  },
  {
   "cell_type": "markdown",
   "id": "ff86eb26-7dff-4b8f-ac35-23e4df61bf26",
   "metadata": {},
   "source": [
    "# 4a fase: Classificação"
   ]
  },
  {
   "cell_type": "code",
   "execution_count": 12,
   "id": "bbf27ea7-dd56-42e0-963e-908c6250e7d1",
   "metadata": {},
   "outputs": [],
   "source": [
    "comex_df_dumm=comex_df_dumm.assign(oc=1)\n",
    "comex_df_dumm.loc[comex_df_dumm.KG_LIQUIDO==0,'oc']=0\n",
    "comex_df_dumm.select_dtypes(exclude='bool')\n",
    "train=comex_df_dumm[comex_df_dumm.date.astype('datetime64[ns]')<=train_end]\n",
    "test=comex_df_dumm[comex_df_dumm.date.astype('datetime64[ns]')>train_end]\n",
    "X_train=train[['date']+train.select_dtypes('bool').columns.tolist()]\n",
    "y_train=train['oc']\n",
    "X_test=test[['date']+test.select_dtypes('bool').columns.tolist()]"
   ]
  },
  {
   "cell_type": "code",
   "execution_count": 13,
   "id": "4356f9dc-3508-4269-8151-d55dff941bad",
   "metadata": {},
   "outputs": [],
   "source": [
    "from sklearn.ensemble import RandomForestClassifier as RFC\n",
    "RFC=RFC()\n",
    "RFC.fit(X_train,y_train)\n",
    "test_pred=pd.concat([X_test.reset_index(drop=True),pd.DataFrame({'oc_pred':RFC.predict(X_test)})],axis=1)"
   ]
  },
  {
   "cell_type": "code",
   "execution_count": 14,
   "id": "c18740a5-a106-408b-94ce-5939d67dda37",
   "metadata": {},
   "outputs": [],
   "source": [
    "test_pred=test_pred.merge(test.drop(columns=col_quanti))"
   ]
  },
  {
   "cell_type": "markdown",
   "id": "8905711a-a0ba-4b86-85aa-e57057e20876",
   "metadata": {},
   "source": [
    "# 5a fase: Regression"
   ]
  },
  {
   "cell_type": "code",
   "execution_count": 15,
   "id": "399a29f7-5cf8-46ba-97b6-e6e2e8dd76c6",
   "metadata": {},
   "outputs": [],
   "source": [
    "train=train[train.oc==1]"
   ]
  },
  {
   "cell_type": "code",
   "execution_count": 16,
   "id": "0de3b6ae-3f3c-4923-a22a-505ad9c78e01",
   "metadata": {},
   "outputs": [],
   "source": [
    "test_pred=test.merge(test_pred)"
   ]
  },
  {
   "cell_type": "code",
   "execution_count": 17,
   "id": "307aa573-a3a6-46d6-9dea-08e2211f1827",
   "metadata": {},
   "outputs": [],
   "source": [
    "test_pred_r=test_pred[(test_pred.oc==1)&(test_pred.oc_pred==1)]"
   ]
  },
  {
   "cell_type": "code",
   "execution_count": 18,
   "id": "825dc2e8-9996-4a04-8db0-f393e1a973cf",
   "metadata": {},
   "outputs": [],
   "source": [
    "X_train=pd.concat([train[['date']],train.select_dtypes('bool')],axis=1)"
   ]
  },
  {
   "cell_type": "code",
   "execution_count": 19,
   "id": "13212488-27e2-418c-9cb7-98fac340982b",
   "metadata": {},
   "outputs": [],
   "source": [
    "y_train=train[col_quanti]"
   ]
  },
  {
   "cell_type": "code",
   "execution_count": 20,
   "id": "458d2090-b883-48a9-8dd6-ab79c617ceaf",
   "metadata": {},
   "outputs": [],
   "source": [
    "X_test=pd.concat([test_pred_r[['date']],test_pred_r.select_dtypes('bool')],axis=1)"
   ]
  },
  {
   "cell_type": "code",
   "execution_count": 21,
   "id": "1b80cfed-5838-4e99-91db-584b4c9cdf90",
   "metadata": {},
   "outputs": [],
   "source": [
    "from sklearn.ensemble import RandomForestRegressor as REG\n",
    "REG=REG(max_features=1, max_depth=1)"
   ]
  },
  {
   "cell_type": "code",
   "execution_count": null,
   "id": "c66c4c53-98d5-477d-a0f2-bb4d409a66b0",
   "metadata": {},
   "outputs": [],
   "source": [
    "from sklearn.linear_model import LinearRegression as LM\n",
    "LM=LM()\n",
    "from sklearn.preprocessing import PolynomialFeatures\n",
    "from sklearn.pipeline import make_pipeline\n",
    "polynomial_features = PolynomialFeatures(degree=1)\n",
    "REG = make_pipeline(polynomial_features, LM)"
   ]
  },
  {
   "cell_type": "code",
   "execution_count": 22,
   "id": "2c586fe8-4569-4805-9ad0-55a559898226",
   "metadata": {},
   "outputs": [],
   "source": [
    "REG.fit(X_train,y_train)\n",
    "X_test=pd.concat([X_test,pd.DataFrame(REG.predict(X_test),columns=col_quanti)],axis=1)"
   ]
  },
  {
   "cell_type": "code",
   "execution_count": 23,
   "id": "7c156ba8-0eae-4f1e-a5f4-f647b829cf01",
   "metadata": {},
   "outputs": [],
   "source": [
    "for w in col_quanti:\n",
    "    X_test=X_test.rename(columns={w:w+'_pred'})"
   ]
  },
  {
   "cell_type": "code",
   "execution_count": 24,
   "id": "6b559521-f819-46a4-9d9c-edaccc27e815",
   "metadata": {},
   "outputs": [],
   "source": [
    "test_pred=test_pred.merge(X_test)"
   ]
  },
  {
   "cell_type": "markdown",
   "id": "ca35a5b4-2f2d-452b-a000-baaed75d5634",
   "metadata": {},
   "source": [
    "# 6a fase: Score"
   ]
  },
  {
   "cell_type": "code",
   "execution_count": 25,
   "id": "03dc4ab3-bf0b-47fa-81c4-1a575f42deda",
   "metadata": {},
   "outputs": [],
   "source": [
    "b=test_pred.select_dtypes('bool')\n",
    "o=test_pred.select_dtypes(exclude='bool')\n",
    "\n",
    "m=pd.from_dummies(b.loc[:,b.columns.str.contains('CO_MES')],sep='~')\n",
    "n=pd.from_dummies(b.loc[:,b.columns.str.contains('nick')],sep='~')\n",
    "u=pd.from_dummies(b.loc[:,b.columns.str.contains('UF')],sep='~')\n",
    "results=pd.concat([o,m,n,u],axis=1)\n",
    "results.date=results.date.astype('datetime64[ns]')\n",
    "\n",
    "date_results=results[['date']].drop_duplicates().assign(dist_prev=np.arange(1,len(results.date.unique())+1))\n",
    "\n",
    "results=date_results.merge(results)"
   ]
  },
  {
   "cell_type": "code",
   "execution_count": 26,
   "id": "70e65629-8cfb-40fb-81c0-af0784993625",
   "metadata": {},
   "outputs": [
    {
     "name": "stdout",
     "output_type": "stream",
     "text": [
      "mean_absolute_percentage_error -  KG_LIQUIDO : 0.5\n",
      "mean_absolute_percentage_error -  VL_FOB : 0.4\n",
      "mean_absolute_percentage_error -  VL_FRETE : 0.5\n"
     ]
    }
   ],
   "source": [
    "from sklearn import metrics\n",
    "for w in col_quanti:\n",
    "    print('mean_absolute_percentage_error - ',w,':',round(metrics.mean_absolute_percentage_error(results[w],results[w+'_pred']),1))"
   ]
  },
  {
   "cell_type": "code",
   "execution_count": 27,
   "id": "a7034538-09b3-459f-ae0e-580bd48a1739",
   "metadata": {},
   "outputs": [],
   "source": [
    "rl=pd.concat([\n",
    "    results[['date','KG_LIQUIDO']].assign(tipo='real'),\n",
    "    results[['date','KG_LIQUIDO_pred']].assign(tipo='pred').rename(columns={'KG_LIQUIDO_pred':'KG_LIQUIDO'})\n",
    "])"
   ]
  },
  {
   "cell_type": "markdown",
   "id": "6364dc48-2560-490b-9178-c2049f4918f0",
   "metadata": {},
   "source": [
    "# Graph"
   ]
  },
  {
   "cell_type": "code",
   "execution_count": 28,
   "id": "6b2cc029-7c01-463f-80eb-a79bfdfc2939",
   "metadata": {},
   "outputs": [
    {
     "data": {
      "text/plain": [
       "<seaborn.axisgrid.FacetGrid at 0x7f853b8c1190>"
      ]
     },
     "execution_count": 28,
     "metadata": {},
     "output_type": "execute_result"
    },
    {
     "data": {
      "image/png": "[encoded data removed]",
      "text/plain": [
       "<Figure size 1581.75x500 with 1 Axes>"
      ]
     },
     "metadata": {},
     "output_type": "display_data"
    }
   ],
   "source": [
    "sns.relplot(data=rl,x='date',y='KG_LIQUIDO',hue='tipo',aspect=3)"
   ]
  },
  {
   "cell_type": "code",
   "execution_count": null,
   "id": "f5047ecd-3320-4107-8ba1-1cabf8aaed84",
   "metadata": {},
   "outputs": [],
   "source": []
  },
  {
   "cell_type": "markdown",
   "id": "e84693c3-2959-4f0f-aaa0-e7a1c25ced64",
   "metadata": {
    "jp-MarkdownHeadingCollapsed": true
   },
   "source": [
    "# Lixo"
   ]
  },
  {
   "attachments": {},
   "cell_type": "raw",
   "id": "4f1a30b2-5cc1-4308-946a-6a5a339aff98",
   "metadata": {},
   "source": [
    "dict_mes={'1':'01','2':'02','3':'03','4':'04','5':'05','6':'06','7':'07','8':'08','9':'09'}\n",
    "\n",
    "results['CO_MES'] = results['CO_MES'].replace(dict_mes)"
   ]
  },
  {
   "cell_type": "raw",
   "id": "94c86e12-062c-4da9-8775-654150d7db45",
   "metadata": {},
   "source": [
    "g=#sns.relplot(data=results.sort_values('CO_MES'),x='date',y='VL_FOB',\\\n",
    "              hue='tipo',col='CO_MES',col_wrap=6,height=2,style='tipo')\n",
    "g=g.set_xticklabels(rotation=45)\n",
    "plt.show()"
   ]
  }
 ],
 "metadata": {
  "kernelspec": {
   "display_name": "Python 3 (ipykernel)",
   "language": "python",
   "name": "python3"
  },
  "language_info": {
   "codemirror_mode": {
    "name": "ipython",
    "version": 3
   },
   "file_extension": ".py",
   "mimetype": "text/x-python",
   "name": "python",
   "nbconvert_exporter": "python",
   "pygments_lexer": "ipython3",
   "version": "3.11.2"
  }
 },
 "nbformat": 4,
 "nbformat_minor": 5
}
