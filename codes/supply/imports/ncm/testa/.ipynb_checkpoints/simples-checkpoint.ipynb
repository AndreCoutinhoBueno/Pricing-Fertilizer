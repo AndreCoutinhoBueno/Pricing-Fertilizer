{
 "cells": [
  {
   "cell_type": "code",
   "execution_count": 6,
   "id": "fb68ef0d-07b5-4261-933b-8af206039678",
   "metadata": {},
   "outputs": [],
   "source": [
    "import numpy as np\n",
    "import pandas as pd\n",
    "import matplotlib.pyplot as plt\n",
    "import seaborn as sns\n",
    "import warnings\n",
    "warnings.filterwarnings(\"ignore\")"
   ]
  },
  {
   "cell_type": "code",
   "execution_count": 7,
   "id": "2166d8a8-36b6-466d-8a0a-94e424ad03f5",
   "metadata": {},
   "outputs": [
    {
     "name": "stdout",
     "output_type": "stream",
     "text": [
      "<class 'pandas.core.frame.DataFrame'>\n",
      "RangeIndex: 89557 entries, 0 to 89556\n",
      "Data columns (total 15 columns):\n",
      " #   Column          Non-Null Count  Dtype  \n",
      "---  ------          --------------  -----  \n",
      " 0   CO_ANO          89557 non-null  int64  \n",
      " 1   CO_MES          89557 non-null  int64  \n",
      " 2   CO_NCM          89557 non-null  int64  \n",
      " 3   nick            89557 non-null  object \n",
      " 4   UF              89557 non-null  object \n",
      " 5   CO_PAIS         89557 non-null  int64  \n",
      " 6   CO_URF          89557 non-null  int64  \n",
      " 7   VL_SEGURO_orig  89557 non-null  int64  \n",
      " 8   VL_FRETE_orig   89557 non-null  int64  \n",
      " 9   VL_FOB_orig     89557 non-null  int64  \n",
      " 10  KG_LIQUIDO      89557 non-null  float64\n",
      " 11  VL_FOB          89557 non-null  float64\n",
      " 12  VL_FRETE        89557 non-null  int64  \n",
      " 13  VL_SEGURO       89557 non-null  int64  \n",
      " 14  km              89557 non-null  int64  \n",
      "dtypes: float64(2), int64(11), object(2)\n",
      "memory usage: 10.2+ MB\n"
     ]
    }
   ],
   "source": [
    "i=imp_fert_ncm=pd.read_csv('~/git/BD/temp/imp_fert_ncm_quanti.csv')\n",
    "i.info()"
   ]
  },
  {
   "cell_type": "code",
   "execution_count": 8,
   "id": "da605236-96e8-43da-8c77-75a411cc37b2",
   "metadata": {},
   "outputs": [],
   "source": [
    "uf='BA'\n",
    "ncm=31042090"
   ]
  },
  {
   "cell_type": "code",
   "execution_count": 10,
   "id": "270264b4-1b1f-4995-95d1-52e3c853c5c9",
   "metadata": {},
   "outputs": [],
   "source": [
    "i=i[(i.CO_NCM==ncm)&(i.UF==uf)]"
   ]
  },
  {
   "cell_type": "code",
   "execution_count": 12,
   "id": "d5323d14-21b1-4bc3-a7f4-04385af460d9",
   "metadata": {},
   "outputs": [
    {
     "data": {
      "text/html": [
       "<div>\n",
       "<style scoped>\n",
       "    .dataframe tbody tr th:only-of-type {\n",
       "        vertical-align: middle;\n",
       "    }\n",
       "\n",
       "    .dataframe tbody tr th {\n",
       "        vertical-align: top;\n",
       "    }\n",
       "\n",
       "    .dataframe thead th {\n",
       "        text-align: right;\n",
       "    }\n",
       "</style>\n",
       "<table border=\"1\" class=\"dataframe\">\n",
       "  <thead>\n",
       "    <tr style=\"text-align: right;\">\n",
       "      <th></th>\n",
       "      <th>KG_LIQUIDO</th>\n",
       "      <th>VL_FOB</th>\n",
       "    </tr>\n",
       "    <tr>\n",
       "      <th>km</th>\n",
       "      <th></th>\n",
       "      <th></th>\n",
       "    </tr>\n",
       "  </thead>\n",
       "  <tbody>\n",
       "    <tr>\n",
       "      <th>1</th>\n",
       "      <td>94</td>\n",
       "      <td>94</td>\n",
       "    </tr>\n",
       "    <tr>\n",
       "      <th>2</th>\n",
       "      <td>656</td>\n",
       "      <td>656</td>\n",
       "    </tr>\n",
       "  </tbody>\n",
       "</table>\n",
       "</div>"
      ],
      "text/plain": [
       "    KG_LIQUIDO  VL_FOB\n",
       "km                    \n",
       "1           94      94\n",
       "2          656     656"
      ]
     },
     "execution_count": 12,
     "metadata": {},
     "output_type": "execute_result"
    }
   ],
   "source": [
    "i.groupby('km')[['KG_LIQUIDO','VL_FOB']].count()"
   ]
  },
  {
   "cell_type": "code",
   "execution_count": 13,
   "id": "14e23a55-2b6b-4fa7-80b6-2f5c195ccac7",
   "metadata": {},
   "outputs": [],
   "source": [
    "i=i[(i.km==2)]"
   ]
  },
  {
   "cell_type": "code",
   "execution_count": null,
   "id": "41172887-929b-4ded-adb5-e5a573f6c07c",
   "metadata": {},
   "outputs": [],
   "source": []
  }
 ],
 "metadata": {
  "kernelspec": {
   "display_name": "Python 3 (ipykernel)",
   "language": "python",
   "name": "python3"
  },
  "language_info": {
   "codemirror_mode": {
    "name": "ipython",
    "version": 3
   },
   "file_extension": ".py",
   "mimetype": "text/x-python",
   "name": "python",
   "nbconvert_exporter": "python",
   "pygments_lexer": "ipython3",
   "version": "3.11.2"
  }
 },
 "nbformat": 4,
 "nbformat_minor": 5
}
