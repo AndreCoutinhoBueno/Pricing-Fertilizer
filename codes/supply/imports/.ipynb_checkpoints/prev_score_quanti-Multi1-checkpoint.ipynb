{
 "cells": [
  {
   "cell_type": "raw",
   "id": "3372e9c9-aa19-4d4b-b130-5a490be9cd9f",
   "metadata": {},
   "source": [
    "import time\n",
    "inicio=time.time()"
   ]
  },
  {
   "cell_type": "code",
   "execution_count": 1,
   "id": "0dfffd13-343c-48ce-8249-d893df94dff9",
   "metadata": {},
   "outputs": [],
   "source": [
    "import numpy as np\n",
    "import pandas as pd"
   ]
  },
  {
   "cell_type": "code",
   "execution_count": 2,
   "id": "74029b73-8e76-4adb-9113-2bd4ee6fa749",
   "metadata": {},
   "outputs": [
    {
     "data": {
      "text/html": [
       "<div>\n",
       "<style scoped>\n",
       "    .dataframe tbody tr th:only-of-type {\n",
       "        vertical-align: middle;\n",
       "    }\n",
       "\n",
       "    .dataframe tbody tr th {\n",
       "        vertical-align: top;\n",
       "    }\n",
       "\n",
       "    .dataframe thead th {\n",
       "        text-align: right;\n",
       "    }\n",
       "</style>\n",
       "<table border=\"1\" class=\"dataframe\">\n",
       "  <thead>\n",
       "    <tr style=\"text-align: right;\">\n",
       "      <th></th>\n",
       "      <th>sigla</th>\n",
       "      <th>CO_NCM</th>\n",
       "      <th>CO_ANO</th>\n",
       "      <th>CO_MES</th>\n",
       "      <th>SG_UF_NCM</th>\n",
       "      <th>CO_PAIS</th>\n",
       "      <th>CO_URF</th>\n",
       "      <th>KG_LIQUIDO</th>\n",
       "      <th>VL_FOB</th>\n",
       "      <th>VL_FRETE</th>\n",
       "    </tr>\n",
       "  </thead>\n",
       "  <tbody>\n",
       "    <tr>\n",
       "      <th>0</th>\n",
       "      <td>MOP-hi</td>\n",
       "      <td>31042090-hi</td>\n",
       "      <td>1997</td>\n",
       "      <td>1</td>\n",
       "      <td>RS</td>\n",
       "      <td>383</td>\n",
       "      <td>9999999</td>\n",
       "      <td>3856419</td>\n",
       "      <td>544924</td>\n",
       "      <td>48000</td>\n",
       "    </tr>\n",
       "  </tbody>\n",
       "</table>\n",
       "</div>"
      ],
      "text/plain": [
       "    sigla       CO_NCM  CO_ANO  CO_MES SG_UF_NCM  CO_PAIS   CO_URF  \\\n",
       "0  MOP-hi  31042090-hi    1997       1        RS      383  9999999   \n",
       "\n",
       "   KG_LIQUIDO  VL_FOB  VL_FRETE  \n",
       "0     3856419  544924     48000  "
      ]
     },
     "execution_count": 2,
     "metadata": {},
     "output_type": "execute_result"
    }
   ],
   "source": [
    "imp_fert=pd.read_csv('~/git/BD/temp/imp_fert_quanti.csv').sort_values(by=['CO_ANO','CO_MES']).reset_index(drop=True)\n",
    "imp_fert=imp_fert.loc[:,:'VL_FRETE']\n",
    "imp_fert.head(1)"
   ]
  },
  {
   "cell_type": "code",
   "execution_count": 3,
   "id": "10325b57-d31e-434b-84fb-908e31716dd3",
   "metadata": {},
   "outputs": [],
   "source": [
    "imp_fert=pd.concat([imp_fert.loc[:,:'KG_LIQUIDO'],imp_fert.loc[:,'VL_FOB':].shift(1)],axis=1).dropna().rename(columns={'VL_FRETE':'frete_ad','VL_FOB':'fob_ad'})"
   ]
  },
  {
   "cell_type": "code",
   "execution_count": 4,
   "id": "2ce42547-5028-415b-8984-55a012adba95",
   "metadata": {},
   "outputs": [],
   "source": [
    "filt_ncm=imp_fert.groupby('CO_NCM').KG_LIQUIDO.sum().sort_values(ascending=False).head(2).reset_index().CO_NCM.values[:1]\n",
    "imp_fert=imp_fert[imp_fert.CO_NCM.isin(filt_ncm)]\n",
    "\n",
    "filt_uf=imp_fert.groupby('SG_UF_NCM').KG_LIQUIDO.sum().sort_values(ascending=False).head(2).reset_index().SG_UF_NCM.values[:1]\n",
    "imp_fert=imp_fert[imp_fert.SG_UF_NCM.isin(filt_uf)]"
   ]
  },
  {
   "cell_type": "code",
   "execution_count": 5,
   "id": "cfd92e84-8974-4349-a3d9-6727dd4c46ee",
   "metadata": {},
   "outputs": [
    {
     "name": "stdout",
     "output_type": "stream",
     "text": [
      "Disponível função prev_score(ano_mes_ncm_uf)\n"
     ]
    }
   ],
   "source": [
    "%run '~/git/prev_score_ncm_uf.py'"
   ]
  },
  {
   "cell_type": "code",
   "execution_count": 6,
   "id": "dc53eef7-6dec-4bb1-a824-a0c7e3366669",
   "metadata": {},
   "outputs": [],
   "source": [
    "q=prev_score(imp_fert)"
   ]
  },
  {
   "cell_type": "code",
   "execution_count": 7,
   "id": "d38acb9c-b24a-49b5-b1c1-1b0bd9511055",
   "metadata": {},
   "outputs": [],
   "source": [
    "q.to_csv('~/git/BD/temp/prev_score_quanti_multi1.csv',index=False)"
   ]
  },
  {
   "cell_type": "code",
   "execution_count": 13,
   "id": "174cc41d-59ae-40cc-b2b3-0ecc4084e758",
   "metadata": {},
   "outputs": [
    {
     "data": {
      "text/html": [
       "<div>\n",
       "<style scoped>\n",
       "    .dataframe tbody tr th:only-of-type {\n",
       "        vertical-align: middle;\n",
       "    }\n",
       "\n",
       "    .dataframe tbody tr th {\n",
       "        vertical-align: top;\n",
       "    }\n",
       "\n",
       "    .dataframe thead th {\n",
       "        text-align: right;\n",
       "    }\n",
       "</style>\n",
       "<table border=\"1\" class=\"dataframe\">\n",
       "  <thead>\n",
       "    <tr style=\"text-align: right;\">\n",
       "      <th></th>\n",
       "      <th>accuracy</th>\n",
       "      <th>precision</th>\n",
       "      <th>recall</th>\n",
       "      <th>r2</th>\n",
       "    </tr>\n",
       "  </thead>\n",
       "  <tbody>\n",
       "    <tr>\n",
       "      <th>72</th>\n",
       "      <td>0.965909</td>\n",
       "      <td>0.965909</td>\n",
       "      <td>1.0</td>\n",
       "      <td>0.440109</td>\n",
       "    </tr>\n",
       "  </tbody>\n",
       "</table>\n",
       "</div>"
      ],
      "text/plain": [
       "    accuracy  precision  recall        r2\n",
       "72  0.965909   0.965909     1.0  0.440109"
      ]
     },
     "execution_count": 13,
     "metadata": {},
     "output_type": "execute_result"
    }
   ],
   "source": [
    "q[['accuracy','precision','recall','r2']]"
   ]
  },
  {
   "cell_type": "code",
   "execution_count": null,
   "id": "2224c859-0c4b-422f-8b8a-543cc711e624",
   "metadata": {},
   "outputs": [],
   "source": []
  }
 ],
 "metadata": {
  "kernelspec": {
   "display_name": "Python 3 (ipykernel)",
   "language": "python",
   "name": "python3"
  },
  "language_info": {
   "codemirror_mode": {
    "name": "ipython",
    "version": 3
   },
   "file_extension": ".py",
   "mimetype": "text/x-python",
   "name": "python",
   "nbconvert_exporter": "python",
   "pygments_lexer": "ipython3",
   "version": "3.11.2"
  }
 },
 "nbformat": 4,
 "nbformat_minor": 5
}
