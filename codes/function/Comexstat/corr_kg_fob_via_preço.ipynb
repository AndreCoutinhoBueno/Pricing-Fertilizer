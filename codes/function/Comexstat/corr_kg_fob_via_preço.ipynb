{
 "cells": [
  {
   "cell_type": "code",
   "execution_count": 1,
   "id": "3dc111af-adda-47e6-9103-e46bc73f3b06",
   "metadata": {},
   "outputs": [
    {
     "name": "stdout",
     "output_type": "stream",
     "text": [
      "** Função corr_kg_fob_via_preço(imp_fert,z=3) disponível **\n"
     ]
    }
   ],
   "source": [
    "def corr_kg_fob_via_preço(imp_fert,z=3):\n",
    "\n",
    "    col=imp_fert.columns\n",
    "\n",
    "    col_quanti=['kg','US$_fob']\n",
    "    \n",
    "    # Preço FOB e do Frete\n",
    "    for q in col_quanti:\n",
    "        imp_fert.insert(len(imp_fert.columns),'log_'+q,np.log10(imp_fert[q]))\n",
    "    col_quanti\n",
    "    \n",
    "    ### z_score\n",
    "    \n",
    "    col_log=imp_fert.columns[-2:]\n",
    "    col_log\n",
    "    \n",
    "    def z_score(imp_fert,l):\n",
    "        média=imp_fert[l].mean()\n",
    "        k=len(imp_fert.columns)\n",
    "        imp_fert.insert(k,'mean_'+l,média)\n",
    "        imp_fert.insert(k+1,'qd_dif'+l,(imp_fert[l]-imp_fert['mean_'+l])**2)\n",
    "        imp_fert.insert(k+2,'std_'+l, (imp_fert['qd_dif'+l].sum()/len(imp_fert))**(1/2))\n",
    "        imp_fert.insert(k+3,'z_score_'+l, (imp_fert[l]-imp_fert['mean_'+l])/imp_fert['std_'+l])\n",
    "        \n",
    "        return imp_fert\n",
    "    \n",
    "    for l in col_log:\n",
    "        imp_fert=z_score(imp_fert,l)\n",
    "        \n",
    "    \n",
    "    k=len(imp_fert.columns)\n",
    "    imp_fert.insert(k,\n",
    "                    'dif_z_score',\n",
    "                    imp_fert['z_score_'+col_log[0]] - imp_fert['z_score_'+col_log[1]]\n",
    "                   )\n",
    "    \n",
    "    imp_fert=z_score(imp_fert,'dif_z_score')\n",
    "    \n",
    "    borda=3\n",
    "    \n",
    "    imp_fert_corr=imp_fert[np.abs(imp_fert.z_score_dif_z_score)<z]\n",
    "    imp_fert_err=imp_fert[np.abs(imp_fert.z_score_dif_z_score)>z]\n",
    "    \n",
    "    preço=imp_fert_corr['US$_fob'].sum()/imp_fert_corr.kg.sum()\n",
    "    \n",
    "    imp_fert_err=imp_fert_err.assign(preço=preço)\n",
    "    \n",
    "    imp_fert_err=imp_fert_err.assign(kg_err=1)\n",
    "    \n",
    "    imp_fert_err.loc[np.abs(imp_fert_err['z_score_log_US$_fob'])>=np.\\\n",
    "                     abs(imp_fert_err.z_score_log_kg),'kg_err']=0\n",
    "    \n",
    "    imp_fert_err_kg=imp_fert_err[imp_fert_err.kg_err==1]\n",
    "    \n",
    "    imp_fert_err_fob=imp_fert_err[imp_fert_err.kg_err==0]\n",
    "    \n",
    "    imp_fert_err_kg.kg=imp_fert_err_kg['US$_fob']/preço\n",
    "\n",
    "    len_err_kg=len(imp_fert_err_kg)\n",
    "    \n",
    "    imp_fert_err_fob['US$_fob']=imp_fert_err_fob.kg*preço\n",
    "    \n",
    "    len_err_fob=len(imp_fert_err_fob)\n",
    "    \n",
    "    imp_fert=pd.concat([imp_fert_corr,imp_fert_err_kg,imp_fert_err_fob])\n",
    "    \n",
    "    imp_fert=imp_fert[col]\n",
    "    \n",
    "    return imp_fert, len_err_kg, len_err_fob\n",
    "\n",
    "print('** Função corr_kg_fob_via_preço(imp_fert,z=3) disponível **')"
   ]
  }
 ],
 "metadata": {
  "kernelspec": {
   "display_name": "Python 3 (ipykernel)",
   "language": "python",
   "name": "python3"
  },
  "language_info": {
   "codemirror_mode": {
    "name": "ipython",
    "version": 3
   },
   "file_extension": ".py",
   "mimetype": "text/x-python",
   "name": "python",
   "nbconvert_exporter": "python",
   "pygments_lexer": "ipython3",
   "version": "3.11.2"
  }
 },
 "nbformat": 4,
 "nbformat_minor": 5
}
