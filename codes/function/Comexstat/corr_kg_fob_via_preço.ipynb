{
 "cells": [
  {
   "cell_type": "code",
   "execution_count": 1,
   "id": "3dc111af-adda-47e6-9103-e46bc73f3b06",
   "metadata": {},
   "outputs": [
    {
     "name": "stdout",
     "output_type": "stream",
     "text": [
      "** Função corr_kg_fob_via_preço(imp_fert,z=3) disponível **\n"
     ]
    }
   ],
   "source": [
    "def corr_kg_fob_via_preço(comex_df,z=3):\n",
    "    \n",
    "    col_log=comex_df[['log_kg','log_fob']].columns\n",
    "    \n",
    "    def z_score(comex_df,l):\n",
    "        média=comex_df[l].mean()\n",
    "        k=len(comex_df.columns)\n",
    "        comex_df.insert(k,'mean_'+l,média)\n",
    "        comex_df.insert(k+1,'qd_dif_'+l,(comex_df[l]-comex_df['mean_'+l])**2)\n",
    "        comex_df.insert(k+2,'std_'+l, (comex_df['qd_dif_'+l].sum()/len(comex_df))**(1/2))\n",
    "        comex_df.insert(k+3,'z_score_'+l, (comex_df[l]-comex_df['mean_'+l])/comex_df['std_'+l])\n",
    "        \n",
    "        return comex_df\n",
    "    \n",
    "    for l in col_log:\n",
    "        comex_df=z_score(comex_df,l)\n",
    "\n",
    "    k=len(comex_df.columns)\n",
    "\n",
    "    comex_df.insert(k,\n",
    "                    'dif_z_score',\n",
    "                    comex_df['z_score_'+col_log[0]] - comex_df['z_score_'+col_log[1]]\n",
    "                   )\n",
    "    \n",
    "    comex_df=z_score(comex_df,'dif_z_score')\n",
    "    \n",
    "    comex_df_corr=comex_df[np.abs(comex_df.z_score_dif_z_score)<=z]\n",
    "    comex_df_err=comex_df[np.abs(comex_df.z_score_dif_z_score)>z]\n",
    "    \n",
    "    preço=comex_df_corr['US$_fob'].sum()/comex_df_corr.kg.sum()\n",
    "    \n",
    "    comex_df_err=comex_df_err.assign(preço=preço)\n",
    "    \n",
    "    comex_df_err=comex_df_err.assign(kg_err=1)\n",
    "    \n",
    "    comex_df_err.loc[np.abs(comex_df_err['z_score_log_fob'])>=np.\\\n",
    "                     abs(comex_df_err.z_score_log_kg),'kg_err']=0\n",
    "    \n",
    "    comex_df_err_kg=comex_df_err[comex_df_err.kg_err==1]\n",
    "    \n",
    "    comex_df_err_fob=comex_df_err[comex_df_err.kg_err==0]\n",
    "    \n",
    "    comex_df_err_kg.kg=comex_df_err_kg['US$_fob']/preço\n",
    "\n",
    "    len_err_kg=len(comex_df_err_kg)\n",
    "    \n",
    "    comex_df_err_fob['US$_fob']=comex_df_err_fob.kg*preço\n",
    "    \n",
    "    len_err_fob=len(comex_df_err_fob)\n",
    "    \n",
    "    comex_df=pd.concat([comex_df_corr,comex_df_err_kg,comex_df_err_fob])\n",
    "    \n",
    "    return comex_df, len_err_kg, len_err_fob\n",
    "\n",
    "print('** Função corr_kg_fob_via_preço(comex_df,z=3) disponível **')"
   ]
  }
 ],
 "metadata": {
  "kernelspec": {
   "display_name": "Python 3 (ipykernel)",
   "language": "python",
   "name": "python3"
  },
  "language_info": {
   "codemirror_mode": {
    "name": "ipython",
    "version": 3
   },
   "file_extension": ".py",
   "mimetype": "text/x-python",
   "name": "python",
   "nbconvert_exporter": "python",
   "pygments_lexer": "ipython3",
   "version": "3.11.2"
  }
 },
 "nbformat": 4,
 "nbformat_minor": 5
}
