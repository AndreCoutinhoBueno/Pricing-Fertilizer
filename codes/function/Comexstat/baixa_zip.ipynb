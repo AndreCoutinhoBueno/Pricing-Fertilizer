{
 "cells": [
  {
   "cell_type": "code",
   "execution_count": 1,
   "id": "62289ce5-e971-4f58-b5c1-acfc756271c7",
   "metadata": {},
   "outputs": [
    {
     "name": "stdout",
     "output_type": "stream",
     "text": [
      "**Função baixa_zip(url,local_filename) disponível**\n"
     ]
    }
   ],
   "source": [
    "import urllib.request\n",
    "import ssl\n",
    "\n",
    "def baixa_zip(url,local_filename):\n",
    "    \n",
    "    # Ignorar verificação de certificado (não seguro para uso em produção)\n",
    "    ssl_context = ssl._create_unverified_context()\n",
    "    \n",
    "    try:\n",
    "        with urllib.request.urlopen(url, context=ssl_context) as response:\n",
    "            with open(local_filename, 'wb') as file:\n",
    "                file.write(response.read())\n",
    "    \n",
    "        print(f'Arquivo salvo como {local_filename}')\n",
    "    except Exception as e:\n",
    "        print(f'Ocorreu um erro: {e}')\n",
    "\n",
    "print('**Função baixa_zip(url,local_filename) disponível**')"
   ]
  }
 ],
 "metadata": {
  "kernelspec": {
   "display_name": "Python 3 (ipykernel)",
   "language": "python",
   "name": "python3"
  },
  "language_info": {
   "codemirror_mode": {
    "name": "ipython",
    "version": 3
   },
   "file_extension": ".py",
   "mimetype": "text/x-python",
   "name": "python",
   "nbconvert_exporter": "python",
   "pygments_lexer": "ipython3",
   "version": "3.11.2"
  }
 },
 "nbformat": 4,
 "nbformat_minor": 5
}
