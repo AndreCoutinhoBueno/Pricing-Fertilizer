{
 "cells": [
  {
   "cell_type": "code",
   "execution_count": null,
   "id": "05e8aaf6-5341-42e2-a394-ed886cadab01",
   "metadata": {},
   "outputs": [],
   "source": [
    "def multi(imp_fert):\n",
    "\n",
    "    \n",
    "    return imp_fert"
   ]
  },
  {
   "cell_type": "code",
   "execution_count": null,
   "id": "93dfd2e6-7a13-4e0c-9ace-1c7eb651aed8",
   "metadata": {},
   "outputs": [],
   "source": [
    "print('*** multi(imp_fert) function available ***')"
   ]
  }
 ],
 "metadata": {
  "kernelspec": {
   "display_name": "Python 3 (ipykernel)",
   "language": "python",
   "name": "python3"
  },
  "language_info": {
   "codemirror_mode": {
    "name": "ipython",
    "version": 3
   },
   "file_extension": ".py",
   "mimetype": "text/x-python",
   "name": "python",
   "nbconvert_exporter": "python",
   "pygments_lexer": "ipython3",
   "version": "3.11.2"
  }
 },
 "nbformat": 4,
 "nbformat_minor": 5
}
