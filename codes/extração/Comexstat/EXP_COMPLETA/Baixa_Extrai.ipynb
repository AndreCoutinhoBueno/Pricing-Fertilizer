{
 "cells": [
  {
   "cell_type": "code",
   "execution_count": 1,
   "id": "a1bc9bb6-25e6-4659-b688-9cc4912c54bc",
   "metadata": {},
   "outputs": [],
   "source": [
    "import time\n",
    "i=time.time()"
   ]
  },
  {
   "cell_type": "markdown",
   "id": "fcece5a2-d24a-459e-835b-bde66f63bf44",
   "metadata": {},
   "source": [
    "# Baixa zip"
   ]
  },
  {
   "cell_type": "code",
   "execution_count": 2,
   "id": "cccd14a5-4d7f-4933-af43-68cec2f1515d",
   "metadata": {},
   "outputs": [
    {
     "name": "stdout",
     "output_type": "stream",
     "text": [
      "**Função baixa_zip(url,local_filename) disponível**\n"
     ]
    }
   ],
   "source": [
    "%run '/home/andre301267/git/Pricing-Fertilizer/codes/function/Comexstat/baixa_zip.ipynb'"
   ]
  },
  {
   "cell_type": "code",
   "execution_count": 3,
   "id": "cdc4baa9-5294-475f-94be-dabdf4fc9ba3",
   "metadata": {},
   "outputs": [],
   "source": [
    "url = 'https://balanca.economia.gov.br/balanca/bd/comexstat-bd/ncm/EXP_COMPLETA.zip'\n",
    "local_filename = '/home/andre301267/git/Pricing-Fertilizer/DB/temp/EXP_COMPLETA.zip'"
   ]
  },
  {
   "cell_type": "code",
   "execution_count": 4,
   "id": "43bef70a-132a-482e-b921-c3e2cde42a39",
   "metadata": {},
   "outputs": [
    {
     "name": "stdout",
     "output_type": "stream",
     "text": [
      "Arquivo salvo como /home/andre301267/git/Pricing-Fertilizer/DB/temp/EXP_COMPLETA.zip\n"
     ]
    }
   ],
   "source": [
    "baixa_zip(url,local_filename)"
   ]
  },
  {
   "cell_type": "code",
   "execution_count": 5,
   "id": "35866e43",
   "metadata": {},
   "outputs": [
    {
     "data": {
      "image/png": "[encoded data removed]",
      "text/plain": [
       "<Figure size 800x100 with 1 Axes>"
      ]
     },
     "metadata": {},
     "output_type": "display_data"
    }
   ],
   "source": [
    "import os\n",
    "import zipfile\n",
    "\n",
    "# Get the file size in bytes\n",
    "file_size_closed = os.path.getsize(local_filename)\n",
    "\n",
    "# Assuming the file is a zip, get the size of the uncompressed content\n",
    "\n",
    "with zipfile.ZipFile(local_filename, 'r') as zip_ref:\n",
    "    file_size_open = sum([zinfo.file_size for zinfo in zip_ref.infolist()])\n",
    "\n",
    "# Create a markdown table\n",
    "markdown_content = f\"\"\"\n",
    "| Identification         | Closed Size (Mbytes)            |            Open Size (Mbytes) |\n",
    "|------------------------|---------------------------------|-------------------------------|\n",
    "| {local_filename[-12:]} | {round(file_size_closed/10**6)} | {round(file_size_open/10**6)} |\n",
    "-------------------------------------------------------------------------------------------\n",
    "\"\"\"\n",
    "import matplotlib.pyplot as plt\n",
    "\n",
    "# Create a figure and axis\n",
    "fig, ax = plt.subplots(figsize=(8, 1))\n",
    "\n",
    "# Hide the axes\n",
    "ax.axis('off')\n",
    "\n",
    "# Create the table\n",
    "table = ax.table(cellText=[[\"Identification\", \"Closed Size (Mbytes)\", \"Open Size (Mbytes)\"],\n",
    "                           [local_filename[-16:], round(file_size_closed/10**6), round(file_size_open/10**6)]],\n",
    "                 colLabels=None, cellLoc='center', loc='center')\n",
    "\n",
    "# Save the table as an image\n",
    "plt.savefig('/home/andre301267/git/Pricing-Fertilizer/DB/temp/file_info_exp.png'\\\n",
    "            , bbox_inches='tight', dpi=300)"
   ]
  },
  {
   "cell_type": "code",
   "execution_count": 6,
   "id": "d27ef4f3",
   "metadata": {},
   "outputs": [
    {
     "name": "stdout",
     "output_type": "stream",
     "text": [
      "\n",
      "| Identification         | Closed Size (Mbytes)            |            Open Size (Mbytes) |\n",
      "|------------------------|---------------------------------|-------------------------------|\n",
      "| COMPLETA.zip | 416 | 1906 |\n",
      "-------------------------------------------------------------------------------------------\n",
      "\n"
     ]
    }
   ],
   "source": [
    "print(markdown_content)"
   ]
  },
  {
   "cell_type": "raw",
   "id": "375c65c9-b74e-4694-932f-d90be9df610c",
   "metadata": {
    "vscode": {
     "languageId": "raw"
    }
   },
   "source": [
    "import numpy as np"
   ]
  },
  {
   "cell_type": "markdown",
   "id": "5a45cbf3-2e54-4df2-b43f-1c066e326a6d",
   "metadata": {},
   "source": [
    "# Carrega tabelas complementares"
   ]
  },
  {
   "cell_type": "code",
   "execution_count": 7,
   "id": "d8d6558b-45cd-4700-abb6-818aab7dee32",
   "metadata": {},
   "outputs": [
    {
     "name": "stdout",
     "output_type": "stream",
     "text": [
      "Variáveis disponíveis: ncm, ncm_sh, pais,uf_mun,uf,via,urf\n"
     ]
    }
   ],
   "source": [
    "%run '/home/andre301267/git/Pricing-Fertilizer/codes/function/Comexstat/extrai-tab_complementares.ipynb'"
   ]
  },
  {
   "cell_type": "markdown",
   "id": "aecb7c95-becc-4336-ac89-bc3a20936ac5",
   "metadata": {},
   "source": [
    "Reconhecer os códigos mais abrangentes dos produtos de interesse no sistema internacional SH:"
   ]
  },
  {
   "cell_type": "markdown",
   "id": "becf4422-dab2-4b23-901d-b566e0143db7",
   "metadata": {},
   "source": [
    "# Identifica código foco"
   ]
  },
  {
   "cell_type": "code",
   "execution_count": 8,
   "id": "d4b97620-8d24-47aa-9bca-646614ef6547",
   "metadata": {
    "scrolled": true
   },
   "outputs": [
    {
     "data": {
      "text/plain": [
       "array([], dtype=int64)"
      ]
     },
     "execution_count": 8,
     "metadata": {},
     "output_type": "execute_result"
    }
   ],
   "source": [
    "co_sh2_soja=ncm_sh[ncm_sh.NO_SH2_POR.str.lower().str.contains('soja')]['CO_SH2'].unique()\n",
    "co_sh2_soja"
   ]
  },
  {
   "cell_type": "code",
   "execution_count": 9,
   "id": "de76b1ad-4cfc-41b2-ba49-63e112b8eed4",
   "metadata": {
    "scrolled": true
   },
   "outputs": [
    {
     "data": {
      "text/plain": [
       "array([1201, 1507, 2304])"
      ]
     },
     "execution_count": 9,
     "metadata": {},
     "output_type": "execute_result"
    }
   ],
   "source": [
    "co_sh4_soja=ncm_sh[ncm_sh.NO_SH4_POR.str.lower().str.contains('soja')]['CO_SH4'].unique()\n",
    "co_sh4_soja"
   ]
  },
  {
   "cell_type": "markdown",
   "id": "74784cd1-c54d-43e3-9086-4e509b314c4f",
   "metadata": {},
   "source": [
    "Lista os códigos SH6 contidos no código SH4 de fertilizantes:"
   ]
  },
  {
   "cell_type": "code",
   "execution_count": 10,
   "id": "c20d9ba8-220c-4759-b73a-ae5afd06ed4e",
   "metadata": {},
   "outputs": [
    {
     "data": {
      "text/plain": [
       "array([120100, 120110, 120190, 150710, 150790, 230400])"
      ]
     },
     "execution_count": 10,
     "metadata": {},
     "output_type": "execute_result"
    }
   ],
   "source": [
    "ncm_sh_list=ncm_sh[ncm_sh.CO_SH4.isin(co_sh4_soja)]['CO_SH6'].unique()\n",
    "ncm_sh_list"
   ]
  },
  {
   "cell_type": "markdown",
   "id": "64b7bd7d-85c6-4750-acd6-31ae280ee409",
   "metadata": {},
   "source": [
    "Lê tabela com código comum ao Mercosul, que é o de maior especificação de produto."
   ]
  },
  {
   "cell_type": "markdown",
   "id": "ba581b4f-111c-49a3-91a6-1f6878adf24f",
   "metadata": {},
   "source": [
    "Na última tabela de NCM, localizamos os códigos NCM que se relacionam aos SH6 de fertilizantes."
   ]
  },
  {
   "cell_type": "code",
   "execution_count": 11,
   "id": "5a4f98ba-8836-480f-b874-03d86280da12",
   "metadata": {},
   "outputs": [
    {
     "data": {
      "text/plain": [
       "array([23040010, 23040090, 12010010, 12010090, 12011000, 12019000,\n",
       "       15071000, 15079010, 15079011, 15079019, 15079090])"
      ]
     },
     "execution_count": 11,
     "metadata": {},
     "output_type": "execute_result"
    }
   ],
   "source": [
    "list_ncm_fert=ncm[ncm.CO_SH6.isin(ncm_sh_list)].CO_NCM.unique()\n",
    "list_ncm_fert"
   ]
  },
  {
   "cell_type": "markdown",
   "id": "34f644b2-8ce4-4749-ad51-b32d0dcadb45",
   "metadata": {},
   "source": [
    "Identificando os nomes dos arquivos no interior do IMP_COMPLETA.zip"
   ]
  },
  {
   "cell_type": "code",
   "execution_count": 12,
   "id": "c0cebd6d-4b9e-473e-8fac-a9243ac2ecdd",
   "metadata": {},
   "outputs": [
    {
     "name": "stdout",
     "output_type": "stream",
     "text": [
      "** Função id_internal_zipfile(local_filename)disponível **\n"
     ]
    }
   ],
   "source": [
    "%run '/home/andre301267/git/Pricing-Fertilizer/codes/function/Comexstat/Id_internal_zipfile.ipynb'"
   ]
  },
  {
   "cell_type": "code",
   "execution_count": 13,
   "id": "4254c472-54d7-4a36-b5b4-112b93d2716c",
   "metadata": {},
   "outputs": [
    {
     "name": "stdout",
     "output_type": "stream",
     "text": [
      "EXP_COMPLETA.csv\n"
     ]
    }
   ],
   "source": [
    "internal_zipfile=id_internal_zipfile(local_filename)"
   ]
  },
  {
   "cell_type": "markdown",
   "id": "5291607f-5d18-43ac-9b5b-700f93a65a78",
   "metadata": {},
   "source": [
    "# Visualiza primeiras linhas do interno"
   ]
  },
  {
   "cell_type": "code",
   "execution_count": 14,
   "id": "2e850eed-3afd-454d-b299-45ba31f8df39",
   "metadata": {},
   "outputs": [
    {
     "name": "stdout",
     "output_type": "stream",
     "text": [
      "** Função vslz_primeiras_linhas(local_filename,internal_zipfile) disponível**\n"
     ]
    }
   ],
   "source": [
    "%run '/home/andre301267/git/Pricing-Fertilizer/codes/function/Comexstat/vslz_primeiras_linhas.ipynb'"
   ]
  },
  {
   "cell_type": "code",
   "execution_count": 15,
   "id": "c967718e-0205-40f7-98d2-ccab56402040",
   "metadata": {},
   "outputs": [
    {
     "data": {
      "text/html": [
       "<div>\n",
       "<style scoped>\n",
       "    .dataframe tbody tr th:only-of-type {\n",
       "        vertical-align: middle;\n",
       "    }\n",
       "\n",
       "    .dataframe tbody tr th {\n",
       "        vertical-align: top;\n",
       "    }\n",
       "\n",
       "    .dataframe thead th {\n",
       "        text-align: right;\n",
       "    }\n",
       "</style>\n",
       "<table border=\"1\" class=\"dataframe\">\n",
       "  <thead>\n",
       "    <tr style=\"text-align: right;\">\n",
       "      <th></th>\n",
       "      <th>CO_ANO</th>\n",
       "      <th>CO_MES</th>\n",
       "      <th>CO_NCM</th>\n",
       "      <th>CO_UNID</th>\n",
       "      <th>CO_PAIS</th>\n",
       "      <th>SG_UF_NCM</th>\n",
       "      <th>CO_VIA</th>\n",
       "      <th>CO_URF</th>\n",
       "      <th>QT_ESTAT</th>\n",
       "      <th>KG_LIQUIDO</th>\n",
       "      <th>VL_FOB</th>\n",
       "    </tr>\n",
       "  </thead>\n",
       "  <tbody>\n",
       "    <tr>\n",
       "      <th>0</th>\n",
       "      <td>1997</td>\n",
       "      <td>11</td>\n",
       "      <td>20079990</td>\n",
       "      <td>10</td>\n",
       "      <td>158</td>\n",
       "      <td>RJ</td>\n",
       "      <td>4</td>\n",
       "      <td>717700</td>\n",
       "      <td>0</td>\n",
       "      <td>200</td>\n",
       "      <td>540</td>\n",
       "    </tr>\n",
       "    <tr>\n",
       "      <th>1</th>\n",
       "      <td>1997</td>\n",
       "      <td>11</td>\n",
       "      <td>48064000</td>\n",
       "      <td>10</td>\n",
       "      <td>63</td>\n",
       "      <td>SP</td>\n",
       "      <td>7</td>\n",
       "      <td>1010900</td>\n",
       "      <td>0</td>\n",
       "      <td>58792</td>\n",
       "      <td>90186</td>\n",
       "    </tr>\n",
       "    <tr>\n",
       "      <th>2</th>\n",
       "      <td>1997</td>\n",
       "      <td>11</td>\n",
       "      <td>2071300</td>\n",
       "      <td>10</td>\n",
       "      <td>351</td>\n",
       "      <td>SC</td>\n",
       "      <td>1</td>\n",
       "      <td>925100</td>\n",
       "      <td>0</td>\n",
       "      <td>57165</td>\n",
       "      <td>20767</td>\n",
       "    </tr>\n",
       "    <tr>\n",
       "      <th>3</th>\n",
       "      <td>1997</td>\n",
       "      <td>11</td>\n",
       "      <td>19021100</td>\n",
       "      <td>10</td>\n",
       "      <td>586</td>\n",
       "      <td>MS</td>\n",
       "      <td>9</td>\n",
       "      <td>910600</td>\n",
       "      <td>0</td>\n",
       "      <td>12</td>\n",
       "      <td>9</td>\n",
       "    </tr>\n",
       "    <tr>\n",
       "      <th>4</th>\n",
       "      <td>1997</td>\n",
       "      <td>11</td>\n",
       "      <td>90319090</td>\n",
       "      <td>10</td>\n",
       "      <td>40</td>\n",
       "      <td>ND</td>\n",
       "      <td>4</td>\n",
       "      <td>717700</td>\n",
       "      <td>0</td>\n",
       "      <td>6</td>\n",
       "      <td>250</td>\n",
       "    </tr>\n",
       "  </tbody>\n",
       "</table>\n",
       "</div>"
      ],
      "text/plain": [
       "   CO_ANO  CO_MES    CO_NCM  CO_UNID  CO_PAIS SG_UF_NCM  CO_VIA   CO_URF  \\\n",
       "0    1997      11  20079990       10      158        RJ       4   717700   \n",
       "1    1997      11  48064000       10       63        SP       7  1010900   \n",
       "2    1997      11   2071300       10      351        SC       1   925100   \n",
       "3    1997      11  19021100       10      586        MS       9   910600   \n",
       "4    1997      11  90319090       10       40        ND       4   717700   \n",
       "\n",
       "   QT_ESTAT  KG_LIQUIDO  VL_FOB  \n",
       "0         0         200     540  \n",
       "1         0       58792   90186  \n",
       "2         0       57165   20767  \n",
       "3         0          12       9  \n",
       "4         0           6     250  "
      ]
     },
     "metadata": {},
     "output_type": "display_data"
    }
   ],
   "source": [
    "vslz_primeiras_linhas(local_filename,internal_zipfile)"
   ]
  },
  {
   "cell_type": "markdown",
   "id": "45b942d0-f20e-411f-ad8b-6520d478a01a",
   "metadata": {},
   "source": [
    "# Extrai filtrando"
   ]
  },
  {
   "cell_type": "code",
   "execution_count": 16,
   "id": "7da7dd37-d406-4a39-81a8-f7cc1b451f8e",
   "metadata": {},
   "outputs": [
    {
     "name": "stdout",
     "output_type": "stream",
     "text": [
      "** Função extrai_filtrando_ncm(local_filename,internal_zipfile) disponível **\n"
     ]
    }
   ],
   "source": [
    "%run '/home/andre301267/git/Pricing-Fertilizer/codes/function/Comexstat/extrai_filtrando_ncm.ipynb'"
   ]
  },
  {
   "cell_type": "code",
   "execution_count": 17,
   "id": "646ff70f-5c30-4eca-82d5-572de9e9b94c",
   "metadata": {},
   "outputs": [
    {
     "name": "stdout",
     "output_type": "stream",
     "text": [
      "df imp_fert disponível\n"
     ]
    }
   ],
   "source": [
    "exp_soja=extrai_filtrando_ncm(local_filename,internal_zipfile)"
   ]
  },
  {
   "cell_type": "markdown",
   "id": "f0539d6d-117b-435c-906f-94c254f96465",
   "metadata": {},
   "source": [
    "# Corrige Columns Name"
   ]
  },
  {
   "cell_type": "code",
   "execution_count": 18,
   "id": "554c97cf-e25c-4e3e-bffe-f5fd0caf6062",
   "metadata": {},
   "outputs": [],
   "source": [
    "exp_soja=exp_soja.rename(columns={'SG_UF_NCM':'UF'})"
   ]
  },
  {
   "cell_type": "markdown",
   "id": "fc5746f4-9ae6-4ea5-91b1-d9a84000c9a6",
   "metadata": {},
   "source": [
    "# Salva arquivo extraído e filtrado"
   ]
  },
  {
   "cell_type": "code",
   "execution_count": 19,
   "id": "ae6da243-cf05-4ace-a8ff-c9e342ed1698",
   "metadata": {},
   "outputs": [],
   "source": [
    "exp_soja.to_csv('/home/andre301267/git/Pricing-Fertilizer/DB/temp/exp_soja_ncm.csv', index=False)"
   ]
  },
  {
   "cell_type": "code",
   "execution_count": 20,
   "id": "6addeff7-446c-44b4-869b-c5e15ac77610",
   "metadata": {},
   "outputs": [
    {
     "name": "stdout",
     "output_type": "stream",
     "text": [
      "O arquivo /home/andre301267/git/Pricing-Fertilizer/DB/temp/EXP_COMPLETA.zip foi excluído com sucesso.\n"
     ]
    }
   ],
   "source": [
    "import os\n",
    "\n",
    "# Verificar se o arquivo existe antes de tentar excluí-lo\n",
    "if os.path.exists(local_filename):\n",
    "    os.remove(local_filename)\n",
    "    print(f'O arquivo {local_filename} foi excluído com sucesso.')\n",
    "else:\n",
    "    print(f'O arquivo {local_filename} não foi encontrado.')"
   ]
  },
  {
   "cell_type": "code",
   "execution_count": 21,
   "id": "c714c909-48a4-4e75-8237-cc900d4a893c",
   "metadata": {},
   "outputs": [
    {
     "data": {
      "text/html": [
       "<div>\n",
       "<style scoped>\n",
       "    .dataframe tbody tr th:only-of-type {\n",
       "        vertical-align: middle;\n",
       "    }\n",
       "\n",
       "    .dataframe tbody tr th {\n",
       "        vertical-align: top;\n",
       "    }\n",
       "\n",
       "    .dataframe thead th {\n",
       "        text-align: right;\n",
       "    }\n",
       "</style>\n",
       "<table border=\"1\" class=\"dataframe\">\n",
       "  <thead>\n",
       "    <tr style=\"text-align: right;\">\n",
       "      <th></th>\n",
       "      <th>CO_ANO</th>\n",
       "      <th>CO_MES</th>\n",
       "      <th>CO_NCM</th>\n",
       "      <th>CO_UNID</th>\n",
       "      <th>CO_PAIS</th>\n",
       "      <th>UF</th>\n",
       "      <th>CO_VIA</th>\n",
       "      <th>CO_URF</th>\n",
       "      <th>QT_ESTAT</th>\n",
       "      <th>KG_LIQUIDO</th>\n",
       "      <th>VL_FOB</th>\n",
       "    </tr>\n",
       "  </thead>\n",
       "  <tbody>\n",
       "    <tr>\n",
       "      <th>86</th>\n",
       "      <td>1997</td>\n",
       "      <td>3</td>\n",
       "      <td>12010090</td>\n",
       "      <td>21</td>\n",
       "      <td>573</td>\n",
       "      <td>PR</td>\n",
       "      <td>1</td>\n",
       "      <td>915100</td>\n",
       "      <td>211741</td>\n",
       "      <td>211741810</td>\n",
       "      <td>59211521</td>\n",
       "    </tr>\n",
       "    <tr>\n",
       "      <th>962</th>\n",
       "      <td>1997</td>\n",
       "      <td>11</td>\n",
       "      <td>23040090</td>\n",
       "      <td>21</td>\n",
       "      <td>355</td>\n",
       "      <td>PR</td>\n",
       "      <td>1</td>\n",
       "      <td>915100</td>\n",
       "      <td>5200</td>\n",
       "      <td>5200000</td>\n",
       "      <td>1325900</td>\n",
       "    </tr>\n",
       "    <tr>\n",
       "      <th>1414</th>\n",
       "      <td>1997</td>\n",
       "      <td>1</td>\n",
       "      <td>23040090</td>\n",
       "      <td>21</td>\n",
       "      <td>158</td>\n",
       "      <td>RS</td>\n",
       "      <td>7</td>\n",
       "      <td>1010900</td>\n",
       "      <td>0</td>\n",
       "      <td>3000</td>\n",
       "      <td>1620</td>\n",
       "    </tr>\n",
       "    <tr>\n",
       "      <th>1431</th>\n",
       "      <td>1997</td>\n",
       "      <td>6</td>\n",
       "      <td>12010090</td>\n",
       "      <td>21</td>\n",
       "      <td>160</td>\n",
       "      <td>PR</td>\n",
       "      <td>1</td>\n",
       "      <td>915100</td>\n",
       "      <td>18161</td>\n",
       "      <td>18160846</td>\n",
       "      <td>5523982</td>\n",
       "    </tr>\n",
       "    <tr>\n",
       "      <th>1441</th>\n",
       "      <td>1997</td>\n",
       "      <td>6</td>\n",
       "      <td>12010090</td>\n",
       "      <td>21</td>\n",
       "      <td>607</td>\n",
       "      <td>PR</td>\n",
       "      <td>1</td>\n",
       "      <td>915100</td>\n",
       "      <td>6000</td>\n",
       "      <td>6000000</td>\n",
       "      <td>1860000</td>\n",
       "    </tr>\n",
       "    <tr>\n",
       "      <th>...</th>\n",
       "      <td>...</td>\n",
       "      <td>...</td>\n",
       "      <td>...</td>\n",
       "      <td>...</td>\n",
       "      <td>...</td>\n",
       "      <td>...</td>\n",
       "      <td>...</td>\n",
       "      <td>...</td>\n",
       "      <td>...</td>\n",
       "      <td>...</td>\n",
       "      <td>...</td>\n",
       "    </tr>\n",
       "    <tr>\n",
       "      <th>28478692</th>\n",
       "      <td>2024</td>\n",
       "      <td>6</td>\n",
       "      <td>15071000</td>\n",
       "      <td>21</td>\n",
       "      <td>81</td>\n",
       "      <td>MT</td>\n",
       "      <td>1</td>\n",
       "      <td>917800</td>\n",
       "      <td>450</td>\n",
       "      <td>450000</td>\n",
       "      <td>364293</td>\n",
       "    </tr>\n",
       "    <tr>\n",
       "      <th>28479365</th>\n",
       "      <td>2024</td>\n",
       "      <td>1</td>\n",
       "      <td>23040010</td>\n",
       "      <td>21</td>\n",
       "      <td>573</td>\n",
       "      <td>GO</td>\n",
       "      <td>1</td>\n",
       "      <td>917800</td>\n",
       "      <td>5281</td>\n",
       "      <td>5281135</td>\n",
       "      <td>2403656</td>\n",
       "    </tr>\n",
       "    <tr>\n",
       "      <th>28479481</th>\n",
       "      <td>2024</td>\n",
       "      <td>5</td>\n",
       "      <td>15079011</td>\n",
       "      <td>21</td>\n",
       "      <td>467</td>\n",
       "      <td>RJ</td>\n",
       "      <td>1</td>\n",
       "      <td>717800</td>\n",
       "      <td>0</td>\n",
       "      <td>36</td>\n",
       "      <td>87</td>\n",
       "    </tr>\n",
       "    <tr>\n",
       "      <th>28479569</th>\n",
       "      <td>2024</td>\n",
       "      <td>2</td>\n",
       "      <td>23040090</td>\n",
       "      <td>21</td>\n",
       "      <td>372</td>\n",
       "      <td>TO</td>\n",
       "      <td>1</td>\n",
       "      <td>927502</td>\n",
       "      <td>3570</td>\n",
       "      <td>3569038</td>\n",
       "      <td>1783416</td>\n",
       "    </tr>\n",
       "    <tr>\n",
       "      <th>28479662</th>\n",
       "      <td>2024</td>\n",
       "      <td>3</td>\n",
       "      <td>23040090</td>\n",
       "      <td>21</td>\n",
       "      <td>81</td>\n",
       "      <td>GO</td>\n",
       "      <td>1</td>\n",
       "      <td>817800</td>\n",
       "      <td>2286</td>\n",
       "      <td>2286267</td>\n",
       "      <td>939450</td>\n",
       "    </tr>\n",
       "  </tbody>\n",
       "</table>\n",
       "<p>82330 rows × 11 columns</p>\n",
       "</div>"
      ],
      "text/plain": [
       "          CO_ANO  CO_MES    CO_NCM  CO_UNID  CO_PAIS  UF  CO_VIA   CO_URF  \\\n",
       "86          1997       3  12010090       21      573  PR       1   915100   \n",
       "962         1997      11  23040090       21      355  PR       1   915100   \n",
       "1414        1997       1  23040090       21      158  RS       7  1010900   \n",
       "1431        1997       6  12010090       21      160  PR       1   915100   \n",
       "1441        1997       6  12010090       21      607  PR       1   915100   \n",
       "...          ...     ...       ...      ...      ...  ..     ...      ...   \n",
       "28478692    2024       6  15071000       21       81  MT       1   917800   \n",
       "28479365    2024       1  23040010       21      573  GO       1   917800   \n",
       "28479481    2024       5  15079011       21      467  RJ       1   717800   \n",
       "28479569    2024       2  23040090       21      372  TO       1   927502   \n",
       "28479662    2024       3  23040090       21       81  GO       1   817800   \n",
       "\n",
       "          QT_ESTAT  KG_LIQUIDO    VL_FOB  \n",
       "86          211741   211741810  59211521  \n",
       "962           5200     5200000   1325900  \n",
       "1414             0        3000      1620  \n",
       "1431         18161    18160846   5523982  \n",
       "1441          6000     6000000   1860000  \n",
       "...            ...         ...       ...  \n",
       "28478692       450      450000    364293  \n",
       "28479365      5281     5281135   2403656  \n",
       "28479481         0          36        87  \n",
       "28479569      3570     3569038   1783416  \n",
       "28479662      2286     2286267    939450  \n",
       "\n",
       "[82330 rows x 11 columns]"
      ]
     },
     "execution_count": 21,
     "metadata": {},
     "output_type": "execute_result"
    }
   ],
   "source": [
    "exp_soja"
   ]
  },
  {
   "cell_type": "code",
   "execution_count": 22,
   "id": "d85bd6de-b612-46d8-b5fc-be1ef6fe95fe",
   "metadata": {},
   "outputs": [
    {
     "name": "stdout",
     "output_type": "stream",
     "text": [
      "Tempo de execução: 1.9 minutos.\n"
     ]
    }
   ],
   "source": [
    "f=time.time()\n",
    "print(f\"Tempo de execução: {round((f-i)/60,1)} minutos.\")"
   ]
  }
 ],
 "metadata": {
  "kernelspec": {
   "display_name": "Python 3 (ipykernel)",
   "language": "python",
   "name": "python3"
  },
  "language_info": {
   "codemirror_mode": {
    "name": "ipython",
    "version": 3
   },
   "file_extension": ".py",
   "mimetype": "text/x-python",
   "name": "python",
   "nbconvert_exporter": "python",
   "pygments_lexer": "ipython3",
   "version": "3.11.2"
  }
 },
 "nbformat": 4,
 "nbformat_minor": 5
}
