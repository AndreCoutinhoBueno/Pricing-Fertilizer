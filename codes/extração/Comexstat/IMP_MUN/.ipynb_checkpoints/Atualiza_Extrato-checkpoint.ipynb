{
 "cells": [
  {
   "cell_type": "code",
   "execution_count": 1,
   "id": "774a1dd3-de7c-45b4-b664-5eceb4aa2b07",
   "metadata": {},
   "outputs": [],
   "source": [
    "import time\n",
    "i=time.time()"
   ]
  },
  {
   "cell_type": "code",
   "execution_count": 2,
   "id": "ce8c678b-1b4d-490b-87c3-669d8fb72bf9",
   "metadata": {},
   "outputs": [],
   "source": [
    "import numpy as np\n",
    "import pandas as pd"
   ]
  },
  {
   "cell_type": "code",
   "execution_count": 3,
   "id": "7c9cd56d-b847-4c0e-8c69-5a758d6f7803",
   "metadata": {},
   "outputs": [],
   "source": [
    "imp_fert_mun=pd.read_csv('~/git/BD/temp/imp_fert_mun.csv')"
   ]
  },
  {
   "cell_type": "code",
   "execution_count": 4,
   "id": "c407365e-2060-42e9-892a-d608a4b4b9b2",
   "metadata": {},
   "outputs": [],
   "source": [
    "a=imp_fert_mun.CO_ANO.max()"
   ]
  },
  {
   "cell_type": "code",
   "execution_count": 5,
   "id": "972cf5a5-78f8-4a02-8dce-b29fb0b68a35",
   "metadata": {},
   "outputs": [],
   "source": [
    "m=imp_fert_mun[imp_fert_mun.CO_ANO==a].CO_MES.max()"
   ]
  },
  {
   "cell_type": "code",
   "execution_count": 6,
   "id": "1d6bdae3-1522-4bb8-858c-ddb9683c47d6",
   "metadata": {},
   "outputs": [],
   "source": [
    "if m==12:\n",
    "    a=a+1"
   ]
  },
  {
   "cell_type": "code",
   "execution_count": 7,
   "id": "db60853a-e66e-4c8f-8c5c-54eee39ac6a9",
   "metadata": {},
   "outputs": [],
   "source": [
    "sh4_filtro=imp_fert_mun[['CO_SH4']].drop_duplicates()"
   ]
  },
  {
   "cell_type": "code",
   "execution_count": 8,
   "id": "d8c308f9-dae8-4e6d-b54d-b967d73a9c0f",
   "metadata": {},
   "outputs": [],
   "source": [
    "imp_fert_mun=imp_fert_mun[imp_fert_mun.CO_ANO!=a]"
   ]
  },
  {
   "cell_type": "code",
   "execution_count": 9,
   "id": "f514ff0c-2547-4f2b-94bb-7c9da2cc6f7f",
   "metadata": {},
   "outputs": [
    {
     "data": {
      "text/html": [
       "<div>\n",
       "<style scoped>\n",
       "    .dataframe tbody tr th:only-of-type {\n",
       "        vertical-align: middle;\n",
       "    }\n",
       "\n",
       "    .dataframe tbody tr th {\n",
       "        vertical-align: top;\n",
       "    }\n",
       "\n",
       "    .dataframe thead th {\n",
       "        text-align: right;\n",
       "    }\n",
       "</style>\n",
       "<table border=\"1\" class=\"dataframe\">\n",
       "  <thead>\n",
       "    <tr style=\"text-align: right;\">\n",
       "      <th></th>\n",
       "      <th>CO_ANO</th>\n",
       "      <th>CO_MES</th>\n",
       "      <th>SH4</th>\n",
       "      <th>CO_PAIS</th>\n",
       "      <th>SG_UF_MUN</th>\n",
       "      <th>CO_MUN</th>\n",
       "      <th>KG_LIQUIDO</th>\n",
       "      <th>VL_FOB</th>\n",
       "    </tr>\n",
       "  </thead>\n",
       "  <tbody>\n",
       "    <tr>\n",
       "      <th>0</th>\n",
       "      <td>2024</td>\n",
       "      <td>2</td>\n",
       "      <td>9403</td>\n",
       "      <td>160</td>\n",
       "      <td>SC</td>\n",
       "      <td>4205407</td>\n",
       "      <td>508</td>\n",
       "      <td>973</td>\n",
       "    </tr>\n",
       "  </tbody>\n",
       "</table>\n",
       "</div>"
      ],
      "text/plain": [
       "   CO_ANO  CO_MES   SH4  CO_PAIS SG_UF_MUN   CO_MUN  KG_LIQUIDO  VL_FOB\n",
       "0    2024       2  9403      160        SC  4205407         508     973"
      ]
     },
     "execution_count": 9,
     "metadata": {},
     "output_type": "execute_result"
    }
   ],
   "source": [
    "import pandas as pd\n",
    "import ssl\n",
    "\n",
    "# Desativar a verificação do certificado SSL\n",
    "ssl._create_default_https_context = ssl._create_unverified_context\n",
    "\n",
    "# URL do arquivo CSV\n",
    "url = \"https://balanca.economia.gov.br/balanca/bd/comexstat-bd/mun/IMP_\"+str(int(a))+\"_MUN.csv\"\n",
    "#      https://balanca.economia.gov.br/balanca/bd/comexstat-bd/mun/IMP_   2024        _MUN.csv\n",
    "\n",
    "# Ler o arquivo CSV diretamente da URL\n",
    "df = pd.read_csv(url, delimiter=';', encoding='ISO-8859-1')\n",
    "\n",
    "df.head(1)"
   ]
  },
  {
   "cell_type": "code",
   "execution_count": 10,
   "id": "ee5b721a-0057-4a70-9d90-a89bbb221790",
   "metadata": {},
   "outputs": [
    {
     "data": {
      "text/html": [
       "<div>\n",
       "<style scoped>\n",
       "    .dataframe tbody tr th:only-of-type {\n",
       "        vertical-align: middle;\n",
       "    }\n",
       "\n",
       "    .dataframe tbody tr th {\n",
       "        vertical-align: top;\n",
       "    }\n",
       "\n",
       "    .dataframe thead th {\n",
       "        text-align: right;\n",
       "    }\n",
       "</style>\n",
       "<table border=\"1\" class=\"dataframe\">\n",
       "  <thead>\n",
       "    <tr style=\"text-align: right;\">\n",
       "      <th></th>\n",
       "      <th>CO_ANO</th>\n",
       "      <th>CO_MES</th>\n",
       "      <th>CO_SH4</th>\n",
       "      <th>CO_PAIS</th>\n",
       "      <th>UF</th>\n",
       "      <th>CO_MUN</th>\n",
       "      <th>KG_LIQUIDO</th>\n",
       "      <th>VL_FOB</th>\n",
       "    </tr>\n",
       "  </thead>\n",
       "  <tbody>\n",
       "    <tr>\n",
       "      <th>0</th>\n",
       "      <td>2024</td>\n",
       "      <td>2</td>\n",
       "      <td>9403</td>\n",
       "      <td>160</td>\n",
       "      <td>SC</td>\n",
       "      <td>4205407</td>\n",
       "      <td>508</td>\n",
       "      <td>973</td>\n",
       "    </tr>\n",
       "  </tbody>\n",
       "</table>\n",
       "</div>"
      ],
      "text/plain": [
       "   CO_ANO  CO_MES  CO_SH4  CO_PAIS  UF   CO_MUN  KG_LIQUIDO  VL_FOB\n",
       "0    2024       2    9403      160  SC  4205407         508     973"
      ]
     },
     "execution_count": 10,
     "metadata": {},
     "output_type": "execute_result"
    }
   ],
   "source": [
    "df=df.rename(columns={'SG_UF_MUN':'UF','SH4':'CO_SH4'})\n",
    "df.head(1)"
   ]
  },
  {
   "cell_type": "code",
   "execution_count": 11,
   "id": "790d87e3-c6ae-4df6-b5a3-68e05a3b60e9",
   "metadata": {},
   "outputs": [
    {
     "name": "stdout",
     "output_type": "stream",
     "text": [
      "   CO_ANO  CO_MES  CO_SH4  CO_PAIS  UF   CO_MUN  KG_LIQUIDO   VL_FOB\n",
      "0    2024       1    3104       23  SP  3447304       48000    32915\n",
      "1    2024       6    3102      556  ES  3205002    22454616  6111637\n",
      "2    2024       2    3102       59  MS  5203702      100000    34525\n",
      "3    2024       8    3105      245  SP  3426902       22464    37511\n",
      "4    2024       3    3102      850  RS  4314407     5000000  1625000\n"
     ]
    }
   ],
   "source": [
    "df=df.merge(sh4_filtro)\n",
    "\n",
    "# Exibir as primeiras linhas do DataFrame\n",
    "print(df.head())"
   ]
  },
  {
   "cell_type": "code",
   "execution_count": 12,
   "id": "0b4b1df2-d0e3-4487-aa1f-aed96163d641",
   "metadata": {},
   "outputs": [],
   "source": [
    "imp_fert_mun_atlz=pd.concat([imp_fert_mun,df]).sort_values(by=['CO_ANO','CO_MES','CO_SH4','CO_PAIS','UF'])\\\n",
    ".reset_index(drop=True)"
   ]
  },
  {
   "cell_type": "code",
   "execution_count": 13,
   "id": "d0b1c964-f865-4030-91b0-1683272d8e64",
   "metadata": {},
   "outputs": [],
   "source": [
    "imp_fert_mun_atlz.to_csv('~/git/BD/temp/imp_fert_mun.csv', index=False)"
   ]
  },
  {
   "cell_type": "code",
   "execution_count": 14,
   "id": "8eaafc45-1648-43b1-83b8-5700a70c27cd",
   "metadata": {},
   "outputs": [
    {
     "name": "stdout",
     "output_type": "stream",
     "text": [
      "Tempo de execução: 0.2 minutos.\n"
     ]
    }
   ],
   "source": [
    "f=time.time()\n",
    "print(f\"Tempo de execução: {round((f-i)/60,1)} minutos.\")"
   ]
  }
 ],
 "metadata": {
  "kernelspec": {
   "display_name": "Python 3 (ipykernel)",
   "language": "python",
   "name": "python3"
  },
  "language_info": {
   "codemirror_mode": {
    "name": "ipython",
    "version": 3
   },
   "file_extension": ".py",
   "mimetype": "text/x-python",
   "name": "python",
   "nbconvert_exporter": "python",
   "pygments_lexer": "ipython3",
   "version": "3.11.2"
  }
 },
 "nbformat": 4,
 "nbformat_minor": 5
}
