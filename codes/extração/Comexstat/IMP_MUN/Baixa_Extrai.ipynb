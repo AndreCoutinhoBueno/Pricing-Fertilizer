{
 "cells": [
  {
   "cell_type": "code",
   "execution_count": 1,
   "id": "a1bc9bb6-25e6-4659-b688-9cc4912c54bc",
   "metadata": {},
   "outputs": [],
   "source": [
    "import time\n",
    "i=time.time()"
   ]
  },
  {
   "cell_type": "markdown",
   "id": "fcece5a2-d24a-459e-835b-bde66f63bf44",
   "metadata": {},
   "source": [
    "# Baixa zip"
   ]
  },
  {
   "cell_type": "code",
   "execution_count": 2,
   "id": "cccd14a5-4d7f-4933-af43-68cec2f1515d",
   "metadata": {},
   "outputs": [
    {
     "name": "stdout",
     "output_type": "stream",
     "text": [
      "**Função baixa_zip(url,local_filename) disponível**\n"
     ]
    }
   ],
   "source": [
    "%run '/home/andre301267/git/BD/Comexstat/function/baixa_zip.ipynb'"
   ]
  },
  {
   "cell_type": "code",
   "execution_count": 3,
   "id": "cdc4baa9-5294-475f-94be-dabdf4fc9ba3",
   "metadata": {},
   "outputs": [],
   "source": [
    "url = 'https://balanca.economia.gov.br/balanca/bd/comexstat-bd/mun/IMP_COMPLETA_MUN.zip'\n",
    "local_filename = '/home/andre301267/git/BD/temp/IMP_COMPLETA_MUN.zip'"
   ]
  },
  {
   "cell_type": "code",
   "execution_count": 4,
   "id": "43bef70a-132a-482e-b921-c3e2cde42a39",
   "metadata": {},
   "outputs": [
    {
     "name": "stdout",
     "output_type": "stream",
     "text": [
      "Arquivo salvo como /home/andre301267/git/BD/temp/IMP_COMPLETA_MUN.zip\n"
     ]
    }
   ],
   "source": [
    "baixa_zip(url,local_filename)"
   ]
  },
  {
   "cell_type": "raw",
   "id": "375c65c9-b74e-4694-932f-d90be9df610c",
   "metadata": {},
   "source": [
    "import numpy as np"
   ]
  },
  {
   "cell_type": "markdown",
   "id": "5a45cbf3-2e54-4df2-b43f-1c066e326a6d",
   "metadata": {},
   "source": [
    "# Carrega tabelas complementares"
   ]
  },
  {
   "cell_type": "code",
   "execution_count": 5,
   "id": "d8d6558b-45cd-4700-abb6-818aab7dee32",
   "metadata": {},
   "outputs": [
    {
     "name": "stdout",
     "output_type": "stream",
     "text": [
      "Variáveis disponíveis: ncm, ncm_sh, pais,uf_mun,uf,via,urf\n"
     ]
    }
   ],
   "source": [
    "%run '~/git/BD/Comexstat/function/Extrai-tab_complementares.ipynb'"
   ]
  },
  {
   "cell_type": "markdown",
   "id": "aecb7c95-becc-4336-ac89-bc3a20936ac5",
   "metadata": {},
   "source": [
    "Reconhecer os códigos mais abrangentes dos produtos de interesse no sistema internacional SH:"
   ]
  },
  {
   "cell_type": "markdown",
   "id": "becf4422-dab2-4b23-901d-b566e0143db7",
   "metadata": {},
   "source": [
    "# Identifica código foco"
   ]
  },
  {
   "cell_type": "code",
   "execution_count": 6,
   "id": "d4b97620-8d24-47aa-9bca-646614ef6547",
   "metadata": {
    "scrolled": true
   },
   "outputs": [
    {
     "data": {
      "text/plain": [
       "array([31])"
      ]
     },
     "execution_count": 6,
     "metadata": {},
     "output_type": "execute_result"
    }
   ],
   "source": [
    "co_sh2_fert=ncm_sh[ncm_sh.NO_SH2_POR.str.lower().str.contains('fertilizante')]['CO_SH2'].unique()\n",
    "co_sh2_fert"
   ]
  },
  {
   "cell_type": "markdown",
   "id": "74784cd1-c54d-43e3-9086-4e509b314c4f",
   "metadata": {},
   "source": [
    "Lista os códigos SH4 contidos no código SH2 de fertilizantes:"
   ]
  },
  {
   "cell_type": "code",
   "execution_count": 7,
   "id": "c20d9ba8-220c-4759-b73a-ae5afd06ed4e",
   "metadata": {},
   "outputs": [
    {
     "data": {
      "text/plain": [
       "array([3101, 3102, 3103, 3104, 3105])"
      ]
     },
     "execution_count": 7,
     "metadata": {},
     "output_type": "execute_result"
    }
   ],
   "source": [
    "sh4_fert=ncm_sh[ncm_sh.CO_SH2.isin(co_sh2_fert)]['CO_SH4'].unique()\n",
    "sh4_fert"
   ]
  },
  {
   "cell_type": "markdown",
   "id": "34f644b2-8ce4-4749-ad51-b32d0dcadb45",
   "metadata": {},
   "source": [
    "Identificando os nomes dos arquivos no interior do IMP_COMPLETA.zip"
   ]
  },
  {
   "cell_type": "code",
   "execution_count": 8,
   "id": "c0cebd6d-4b9e-473e-8fac-a9243ac2ecdd",
   "metadata": {},
   "outputs": [
    {
     "name": "stdout",
     "output_type": "stream",
     "text": [
      "** Função id_internal_zipfile(local_filename)disponível **\n"
     ]
    }
   ],
   "source": [
    "%run '/home/andre301267/git/BD/Comexstat/function/Id_internal_zipfile.ipynb'"
   ]
  },
  {
   "cell_type": "code",
   "execution_count": 9,
   "id": "4254c472-54d7-4a36-b5b4-112b93d2716c",
   "metadata": {},
   "outputs": [
    {
     "name": "stdout",
     "output_type": "stream",
     "text": [
      "IMP_COMPLETA_MUN.csv\n"
     ]
    }
   ],
   "source": [
    "internal_zipfile=id_internal_zipfile(local_filename)"
   ]
  },
  {
   "cell_type": "markdown",
   "id": "5291607f-5d18-43ac-9b5b-700f93a65a78",
   "metadata": {},
   "source": [
    "# Visualiza primeiras linhas do interno"
   ]
  },
  {
   "cell_type": "code",
   "execution_count": 10,
   "id": "2e850eed-3afd-454d-b299-45ba31f8df39",
   "metadata": {},
   "outputs": [
    {
     "name": "stdout",
     "output_type": "stream",
     "text": [
      "** Função vslz_primeiras_linhas(local_filename,internal_zipfile) disponível**\n"
     ]
    }
   ],
   "source": [
    "%run '/home/andre301267/git/BD/Comexstat/function/vslz_primeiras_linhas.ipynb'"
   ]
  },
  {
   "cell_type": "code",
   "execution_count": 11,
   "id": "c967718e-0205-40f7-98d2-ccab56402040",
   "metadata": {},
   "outputs": [
    {
     "data": {
      "text/html": [
       "<div>\n",
       "<style scoped>\n",
       "    .dataframe tbody tr th:only-of-type {\n",
       "        vertical-align: middle;\n",
       "    }\n",
       "\n",
       "    .dataframe tbody tr th {\n",
       "        vertical-align: top;\n",
       "    }\n",
       "\n",
       "    .dataframe thead th {\n",
       "        text-align: right;\n",
       "    }\n",
       "</style>\n",
       "<table border=\"1\" class=\"dataframe\">\n",
       "  <thead>\n",
       "    <tr style=\"text-align: right;\">\n",
       "      <th></th>\n",
       "      <th>CO_ANO</th>\n",
       "      <th>CO_MES</th>\n",
       "      <th>SH4</th>\n",
       "      <th>CO_PAIS</th>\n",
       "      <th>SG_UF_MUN</th>\n",
       "      <th>CO_MUN</th>\n",
       "      <th>KG_LIQUIDO</th>\n",
       "      <th>VL_FOB</th>\n",
       "    </tr>\n",
       "  </thead>\n",
       "  <tbody>\n",
       "    <tr>\n",
       "      <th>0</th>\n",
       "      <td>1997</td>\n",
       "      <td>6</td>\n",
       "      <td>9032</td>\n",
       "      <td>399</td>\n",
       "      <td>SP</td>\n",
       "      <td>3450308</td>\n",
       "      <td>1460</td>\n",
       "      <td>179845</td>\n",
       "    </tr>\n",
       "    <tr>\n",
       "      <th>1</th>\n",
       "      <td>1997</td>\n",
       "      <td>4</td>\n",
       "      <td>8421</td>\n",
       "      <td>249</td>\n",
       "      <td>SP</td>\n",
       "      <td>3424402</td>\n",
       "      <td>289</td>\n",
       "      <td>18950</td>\n",
       "    </tr>\n",
       "    <tr>\n",
       "      <th>2</th>\n",
       "      <td>1997</td>\n",
       "      <td>12</td>\n",
       "      <td>7616</td>\n",
       "      <td>23</td>\n",
       "      <td>MG</td>\n",
       "      <td>3106200</td>\n",
       "      <td>1312</td>\n",
       "      <td>20534</td>\n",
       "    </tr>\n",
       "    <tr>\n",
       "      <th>3</th>\n",
       "      <td>1997</td>\n",
       "      <td>12</td>\n",
       "      <td>8483</td>\n",
       "      <td>249</td>\n",
       "      <td>SC</td>\n",
       "      <td>4209102</td>\n",
       "      <td>4251</td>\n",
       "      <td>120559</td>\n",
       "    </tr>\n",
       "    <tr>\n",
       "      <th>4</th>\n",
       "      <td>1997</td>\n",
       "      <td>6</td>\n",
       "      <td>4104</td>\n",
       "      <td>63</td>\n",
       "      <td>RS</td>\n",
       "      <td>4307609</td>\n",
       "      <td>10828</td>\n",
       "      <td>247316</td>\n",
       "    </tr>\n",
       "  </tbody>\n",
       "</table>\n",
       "</div>"
      ],
      "text/plain": [
       "   CO_ANO  CO_MES   SH4  CO_PAIS SG_UF_MUN   CO_MUN  KG_LIQUIDO  VL_FOB\n",
       "0    1997       6  9032      399        SP  3450308        1460  179845\n",
       "1    1997       4  8421      249        SP  3424402         289   18950\n",
       "2    1997      12  7616       23        MG  3106200        1312   20534\n",
       "3    1997      12  8483      249        SC  4209102        4251  120559\n",
       "4    1997       6  4104       63        RS  4307609       10828  247316"
      ]
     },
     "metadata": {},
     "output_type": "display_data"
    }
   ],
   "source": [
    "vslz_primeiras_linhas(local_filename,internal_zipfile)"
   ]
  },
  {
   "cell_type": "markdown",
   "id": "45b942d0-f20e-411f-ad8b-6520d478a01a",
   "metadata": {},
   "source": [
    "# Extrai filtrando"
   ]
  },
  {
   "cell_type": "code",
   "execution_count": 12,
   "id": "7da7dd37-d406-4a39-81a8-f7cc1b451f8e",
   "metadata": {},
   "outputs": [
    {
     "name": "stdout",
     "output_type": "stream",
     "text": [
      "** Função extrai_filtrando_mun(local_filename,internal_zipfile) disponível **\n"
     ]
    }
   ],
   "source": [
    "%run '/home/andre301267/git/BD/Comexstat/function/extrai_filtrando_mun.ipynb'"
   ]
  },
  {
   "cell_type": "code",
   "execution_count": 13,
   "id": "646ff70f-5c30-4eca-82d5-572de9e9b94c",
   "metadata": {},
   "outputs": [
    {
     "name": "stdout",
     "output_type": "stream",
     "text": [
      "df imp_fert disponível\n"
     ]
    }
   ],
   "source": [
    "imp_fert=extrai_filtrando_mun(local_filename,internal_zipfile)"
   ]
  },
  {
   "cell_type": "markdown",
   "id": "f0539d6d-117b-435c-906f-94c254f96465",
   "metadata": {},
   "source": [
    "# Corrige Columns Name"
   ]
  },
  {
   "cell_type": "code",
   "execution_count": 14,
   "id": "554c97cf-e25c-4e3e-bffe-f5fd0caf6062",
   "metadata": {},
   "outputs": [],
   "source": [
    "imp_fert=imp_fert.rename(columns={'SG_UF_MUN':'UF', 'SH4':'CO_SH4'})"
   ]
  },
  {
   "cell_type": "markdown",
   "id": "fc5746f4-9ae6-4ea5-91b1-d9a84000c9a6",
   "metadata": {},
   "source": [
    "# Salva arquivo extraído e filtrado"
   ]
  },
  {
   "cell_type": "code",
   "execution_count": 15,
   "id": "ae6da243-cf05-4ace-a8ff-c9e342ed1698",
   "metadata": {},
   "outputs": [],
   "source": [
    "imp_fert.to_csv('~/git/BD/temp/imp_fert_mun.csv', index=False)"
   ]
  },
  {
   "cell_type": "code",
   "execution_count": 16,
   "id": "6addeff7-446c-44b4-869b-c5e15ac77610",
   "metadata": {},
   "outputs": [
    {
     "name": "stdout",
     "output_type": "stream",
     "text": [
      "O arquivo /home/andre301267/git/BD/temp/IMP_COMPLETA_MUN.zip foi excluído com sucesso.\n"
     ]
    }
   ],
   "source": [
    "import os\n",
    "\n",
    "# Verificar se o arquivo existe antes de tentar excluí-lo\n",
    "if os.path.exists(local_filename):\n",
    "    os.remove(local_filename)\n",
    "    print(f'O arquivo {local_filename} foi excluído com sucesso.')\n",
    "else:\n",
    "    print(f'O arquivo {local_filename} não foi encontrado.')"
   ]
  },
  {
   "cell_type": "code",
   "execution_count": 17,
   "id": "c714c909-48a4-4e75-8237-cc900d4a893c",
   "metadata": {},
   "outputs": [
    {
     "data": {
      "text/html": [
       "<div>\n",
       "<style scoped>\n",
       "    .dataframe tbody tr th:only-of-type {\n",
       "        vertical-align: middle;\n",
       "    }\n",
       "\n",
       "    .dataframe tbody tr th {\n",
       "        vertical-align: top;\n",
       "    }\n",
       "\n",
       "    .dataframe thead th {\n",
       "        text-align: right;\n",
       "    }\n",
       "</style>\n",
       "<table border=\"1\" class=\"dataframe\">\n",
       "  <thead>\n",
       "    <tr style=\"text-align: right;\">\n",
       "      <th></th>\n",
       "      <th>CO_ANO</th>\n",
       "      <th>CO_MES</th>\n",
       "      <th>CO_SH4</th>\n",
       "      <th>CO_PAIS</th>\n",
       "      <th>UF</th>\n",
       "      <th>CO_MUN</th>\n",
       "      <th>KG_LIQUIDO</th>\n",
       "      <th>VL_FOB</th>\n",
       "    </tr>\n",
       "  </thead>\n",
       "  <tbody>\n",
       "    <tr>\n",
       "      <th>368</th>\n",
       "      <td>1997</td>\n",
       "      <td>7</td>\n",
       "      <td>3105</td>\n",
       "      <td>249</td>\n",
       "      <td>SP</td>\n",
       "      <td>3431308</td>\n",
       "      <td>3653780</td>\n",
       "      <td>734410</td>\n",
       "    </tr>\n",
       "    <tr>\n",
       "      <th>605</th>\n",
       "      <td>1997</td>\n",
       "      <td>10</td>\n",
       "      <td>3104</td>\n",
       "      <td>275</td>\n",
       "      <td>SP</td>\n",
       "      <td>3438709</td>\n",
       "      <td>1000000</td>\n",
       "      <td>134000</td>\n",
       "    </tr>\n",
       "    <tr>\n",
       "      <th>709</th>\n",
       "      <td>1997</td>\n",
       "      <td>4</td>\n",
       "      <td>3104</td>\n",
       "      <td>149</td>\n",
       "      <td>SP</td>\n",
       "      <td>3409502</td>\n",
       "      <td>2000000</td>\n",
       "      <td>262500</td>\n",
       "    </tr>\n",
       "    <tr>\n",
       "      <th>814</th>\n",
       "      <td>1997</td>\n",
       "      <td>10</td>\n",
       "      <td>3104</td>\n",
       "      <td>383</td>\n",
       "      <td>MG</td>\n",
       "      <td>3170107</td>\n",
       "      <td>9900000</td>\n",
       "      <td>1450300</td>\n",
       "    </tr>\n",
       "    <tr>\n",
       "      <th>843</th>\n",
       "      <td>1997</td>\n",
       "      <td>12</td>\n",
       "      <td>3104</td>\n",
       "      <td>149</td>\n",
       "      <td>RS</td>\n",
       "      <td>4315602</td>\n",
       "      <td>15909367</td>\n",
       "      <td>1964390</td>\n",
       "    </tr>\n",
       "    <tr>\n",
       "      <th>...</th>\n",
       "      <td>...</td>\n",
       "      <td>...</td>\n",
       "      <td>...</td>\n",
       "      <td>...</td>\n",
       "      <td>...</td>\n",
       "      <td>...</td>\n",
       "      <td>...</td>\n",
       "      <td>...</td>\n",
       "    </tr>\n",
       "    <tr>\n",
       "      <th>31363655</th>\n",
       "      <td>2024</td>\n",
       "      <td>8</td>\n",
       "      <td>3102</td>\n",
       "      <td>160</td>\n",
       "      <td>SC</td>\n",
       "      <td>4208203</td>\n",
       "      <td>1200000</td>\n",
       "      <td>452590</td>\n",
       "    </tr>\n",
       "    <tr>\n",
       "      <th>31363725</th>\n",
       "      <td>2024</td>\n",
       "      <td>1</td>\n",
       "      <td>3102</td>\n",
       "      <td>528</td>\n",
       "      <td>RS</td>\n",
       "      <td>4314407</td>\n",
       "      <td>2750000</td>\n",
       "      <td>780038</td>\n",
       "    </tr>\n",
       "    <tr>\n",
       "      <th>31364805</th>\n",
       "      <td>2024</td>\n",
       "      <td>1</td>\n",
       "      <td>3105</td>\n",
       "      <td>628</td>\n",
       "      <td>SP</td>\n",
       "      <td>3438709</td>\n",
       "      <td>37440</td>\n",
       "      <td>184055</td>\n",
       "    </tr>\n",
       "    <tr>\n",
       "      <th>31365180</th>\n",
       "      <td>2024</td>\n",
       "      <td>4</td>\n",
       "      <td>3104</td>\n",
       "      <td>383</td>\n",
       "      <td>SP</td>\n",
       "      <td>3424402</td>\n",
       "      <td>1100000</td>\n",
       "      <td>285010</td>\n",
       "    </tr>\n",
       "    <tr>\n",
       "      <th>31365188</th>\n",
       "      <td>2024</td>\n",
       "      <td>1</td>\n",
       "      <td>3102</td>\n",
       "      <td>154</td>\n",
       "      <td>MT</td>\n",
       "      <td>5107925</td>\n",
       "      <td>7701576</td>\n",
       "      <td>3007496</td>\n",
       "    </tr>\n",
       "  </tbody>\n",
       "</table>\n",
       "<p>121774 rows × 8 columns</p>\n",
       "</div>"
      ],
      "text/plain": [
       "          CO_ANO  CO_MES  CO_SH4  CO_PAIS  UF   CO_MUN  KG_LIQUIDO   VL_FOB\n",
       "368         1997       7    3105      249  SP  3431308     3653780   734410\n",
       "605         1997      10    3104      275  SP  3438709     1000000   134000\n",
       "709         1997       4    3104      149  SP  3409502     2000000   262500\n",
       "814         1997      10    3104      383  MG  3170107     9900000  1450300\n",
       "843         1997      12    3104      149  RS  4315602    15909367  1964390\n",
       "...          ...     ...     ...      ...  ..      ...         ...      ...\n",
       "31363655    2024       8    3102      160  SC  4208203     1200000   452590\n",
       "31363725    2024       1    3102      528  RS  4314407     2750000   780038\n",
       "31364805    2024       1    3105      628  SP  3438709       37440   184055\n",
       "31365180    2024       4    3104      383  SP  3424402     1100000   285010\n",
       "31365188    2024       1    3102      154  MT  5107925     7701576  3007496\n",
       "\n",
       "[121774 rows x 8 columns]"
      ]
     },
     "execution_count": 17,
     "metadata": {},
     "output_type": "execute_result"
    }
   ],
   "source": [
    "imp_fert"
   ]
  },
  {
   "cell_type": "code",
   "execution_count": 18,
   "id": "d85bd6de-b612-46d8-b5fc-be1ef6fe95fe",
   "metadata": {},
   "outputs": [
    {
     "name": "stdout",
     "output_type": "stream",
     "text": [
      "Tempo de execução: 2.0 minutos.\n"
     ]
    }
   ],
   "source": [
    "f=time.time()\n",
    "print(f\"Tempo de execução: {round((f-i)/60,1)} minutos.\")"
   ]
  }
 ],
 "metadata": {
  "kernelspec": {
   "display_name": "Python 3 (ipykernel)",
   "language": "python",
   "name": "python3"
  },
  "language_info": {
   "codemirror_mode": {
    "name": "ipython",
    "version": 3
   },
   "file_extension": ".py",
   "mimetype": "text/x-python",
   "name": "python",
   "nbconvert_exporter": "python",
   "pygments_lexer": "ipython3",
   "version": "3.11.2"
  }
 },
 "nbformat": 4,
 "nbformat_minor": 5
}
