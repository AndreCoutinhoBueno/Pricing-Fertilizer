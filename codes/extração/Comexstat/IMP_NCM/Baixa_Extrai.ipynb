{
 "cells": [
  {
   "cell_type": "code",
   "execution_count": 86,
   "id": "a1bc9bb6-25e6-4659-b688-9cc4912c54bc",
   "metadata": {},
   "outputs": [],
   "source": [
    "import time\n",
    "i=time.time()"
   ]
  },
  {
   "cell_type": "markdown",
   "id": "fcece5a2-d24a-459e-835b-bde66f63bf44",
   "metadata": {},
   "source": [
    "# Baixa zip"
   ]
  },
  {
   "cell_type": "code",
   "execution_count": 87,
   "id": "cccd14a5-4d7f-4933-af43-68cec2f1515d",
   "metadata": {},
   "outputs": [
    {
     "name": "stdout",
     "output_type": "stream",
     "text": [
      "**Função baixa_zip(url,local_filename) disponível**\n"
     ]
    }
   ],
   "source": [
    "%run '/home/andre301267/git/Pricing-Fertilizer/codes/function/Comexstat/baixa_zip.ipynb'"
   ]
  },
  {
   "cell_type": "code",
   "execution_count": 88,
   "id": "cdc4baa9-5294-475f-94be-dabdf4fc9ba3",
   "metadata": {},
   "outputs": [],
   "source": [
    "url = 'https://balanca.economia.gov.br/balanca/bd/comexstat-bd/ncm/IMP_COMPLETA.zip'\n",
    "local_filename = '/home/andre301267/git/Pricing-Fertilizer/DB/temp/IMP_COMPLETA.zip'"
   ]
  },
  {
   "cell_type": "code",
   "execution_count": 89,
   "id": "43bef70a-132a-482e-b921-c3e2cde42a39",
   "metadata": {},
   "outputs": [
    {
     "name": "stdout",
     "output_type": "stream",
     "text": [
      "Arquivo salvo como /home/andre301267/git/Pricing-Fertilizer/DB/temp/IMP_COMPLETA.zip\n"
     ]
    }
   ],
   "source": [
    "baixa_zip(url,local_filename)"
   ]
  },
  {
   "cell_type": "code",
   "execution_count": 90,
   "id": "35866e43",
   "metadata": {},
   "outputs": [
    {
     "data": {
      "image/png": "[encoded data removed]",
      "text/plain": [
       "<Figure size 800x100 with 1 Axes>"
      ]
     },
     "metadata": {},
     "output_type": "display_data"
    }
   ],
   "source": [
    "import os\n",
    "import zipfile\n",
    "\n",
    "# Get the file size in bytes\n",
    "file_size_closed = os.path.getsize(local_filename)\n",
    "\n",
    "# Assuming the file is a zip, get the size of the uncompressed content\n",
    "\n",
    "with zipfile.ZipFile(local_filename, 'r') as zip_ref:\n",
    "    file_size_open = sum([zinfo.file_size for zinfo in zip_ref.infolist()])\n",
    "\n",
    "# Create a markdown table\n",
    "markdown_content = f\"\"\"\n",
    "| Identification         | Closed Size (Mbytes)            |            Open Size (Mbytes) |\n",
    "|------------------------|---------------------------------|-------------------------------|\n",
    "| {local_filename[-12:]} | {round(file_size_closed/10**6)} | {round(file_size_open/10**6)} |\n",
    "-------------------------------------------------------------------------------------------\n",
    "\"\"\"\n",
    "import matplotlib.pyplot as plt\n",
    "\n",
    "# Create a figure and axis\n",
    "fig, ax = plt.subplots(figsize=(8, 1))\n",
    "\n",
    "# Hide the axes\n",
    "ax.axis('off')\n",
    "\n",
    "# Create the table\n",
    "table = ax.table(cellText=[[\"Identification\", \"Closed Size (Mbytes)\", \"Open Size (Mbytes)\"],\n",
    "                           [local_filename[-16:], round(file_size_closed/10**6), round(file_size_open/10**6)]],\n",
    "                 colLabels=None, cellLoc='center', loc='center')\n",
    "\n",
    "# Save the table as an image\n",
    "plt.savefig('/home/andre301267/git/Pricing-Fertilizer/DB/temp/file_info.png'\\\n",
    "            , bbox_inches='tight', dpi=300)"
   ]
  },
  {
   "cell_type": "code",
   "execution_count": 91,
   "id": "d27ef4f3",
   "metadata": {},
   "outputs": [
    {
     "name": "stdout",
     "output_type": "stream",
     "text": [
      "\n",
      "| Identification         | Closed Size (Mbytes)            |            Open Size (Mbytes) |\n",
      "|------------------------|---------------------------------|-------------------------------|\n",
      "| COMPLETA.zip | 742 | 3075 |\n",
      "-------------------------------------------------------------------------------------------\n",
      "\n"
     ]
    }
   ],
   "source": [
    "print(markdown_content)"
   ]
  },
  {
   "cell_type": "raw",
   "id": "375c65c9-b74e-4694-932f-d90be9df610c",
   "metadata": {
    "vscode": {
     "languageId": "raw"
    }
   },
   "source": [
    "import numpy as np"
   ]
  },
  {
   "cell_type": "markdown",
   "id": "5a45cbf3-2e54-4df2-b43f-1c066e326a6d",
   "metadata": {},
   "source": [
    "# Carrega tabelas complementares"
   ]
  },
  {
   "cell_type": "code",
   "execution_count": 92,
   "id": "d8d6558b-45cd-4700-abb6-818aab7dee32",
   "metadata": {},
   "outputs": [
    {
     "name": "stdout",
     "output_type": "stream",
     "text": [
      "Variáveis disponíveis: ncm, ncm_sh, pais,uf_mun,uf,via,urf\n"
     ]
    }
   ],
   "source": [
    "%run '/home/andre301267/git/Pricing-Fertilizer/codes/function/Comexstat/extrai-tab_complementares.ipynb'"
   ]
  },
  {
   "cell_type": "markdown",
   "id": "aecb7c95-becc-4336-ac89-bc3a20936ac5",
   "metadata": {},
   "source": [
    "Reconhecer os códigos mais abrangentes dos produtos de interesse no sistema internacional SH:"
   ]
  },
  {
   "cell_type": "markdown",
   "id": "becf4422-dab2-4b23-901d-b566e0143db7",
   "metadata": {},
   "source": [
    "# Identifica código foco"
   ]
  },
  {
   "cell_type": "code",
   "execution_count": 93,
   "id": "d4b97620-8d24-47aa-9bca-646614ef6547",
   "metadata": {
    "scrolled": true
   },
   "outputs": [
    {
     "data": {
      "text/plain": [
       "array([31])"
      ]
     },
     "execution_count": 93,
     "metadata": {},
     "output_type": "execute_result"
    }
   ],
   "source": [
    "co_sh2_fert=ncm_sh[ncm_sh.NO_SH2_POR.str.lower().str.contains('fertilizante')]['CO_SH2'].unique()\n",
    "co_sh2_fert"
   ]
  },
  {
   "cell_type": "markdown",
   "id": "74784cd1-c54d-43e3-9086-4e509b314c4f",
   "metadata": {},
   "source": [
    "Lista os códigos SH6 contidos no código SH2 de fertilizantes:"
   ]
  },
  {
   "cell_type": "code",
   "execution_count": 94,
   "id": "c20d9ba8-220c-4759-b73a-ae5afd06ed4e",
   "metadata": {},
   "outputs": [
    {
     "data": {
      "text/plain": [
       "array([310100, 310210, 310221, 310229, 310230, 310240, 310250, 310260,\n",
       "       310270, 310280, 310290, 310310, 310311, 310319, 310320, 310390,\n",
       "       310410, 310420, 310430, 310490, 310510, 310520, 310530, 310540,\n",
       "       310551, 310559, 310560, 310590])"
      ]
     },
     "execution_count": 94,
     "metadata": {},
     "output_type": "execute_result"
    }
   ],
   "source": [
    "ncm_sh_list=ncm_sh[ncm_sh.CO_SH2.isin(co_sh2_fert)]['CO_SH6'].unique()\n",
    "ncm_sh_list"
   ]
  },
  {
   "cell_type": "markdown",
   "id": "64b7bd7d-85c6-4750-acd6-31ae280ee409",
   "metadata": {},
   "source": [
    "Lê tabela com código comum ao Mercosul, que é o de maior especificação de produto."
   ]
  },
  {
   "cell_type": "markdown",
   "id": "ba581b4f-111c-49a3-91a6-1f6878adf24f",
   "metadata": {},
   "source": [
    "Na última tabela de NCM, localizamos os códigos NCM que se relacionam aos SH6 de fertilizantes."
   ]
  },
  {
   "cell_type": "code",
   "execution_count": 95,
   "id": "5a4f98ba-8836-480f-b874-03d86280da12",
   "metadata": {},
   "outputs": [
    {
     "data": {
      "text/plain": [
       "array([31053000, 31031100, 31031900, 31059011, 31059019, 31059090,\n",
       "       31031020, 31031030, 31032000, 31039011, 31053010, 31053090,\n",
       "       31054000, 31055100, 31055900, 31056000, 31010000, 31021010,\n",
       "       31021090, 31022100, 31022910, 31022990, 31023000, 31024000,\n",
       "       31025011, 31025019, 31025090, 31026000, 31027000, 31028000,\n",
       "       31029000, 31031010, 31039019, 31039090, 31041000, 31042010,\n",
       "       31042090, 31043010, 31043090, 31049010, 31049090, 31051000,\n",
       "       31052000])"
      ]
     },
     "execution_count": 95,
     "metadata": {},
     "output_type": "execute_result"
    }
   ],
   "source": [
    "list_ncm_fert=ncm[ncm.CO_SH6.isin(ncm_sh_list)].CO_NCM.unique()\n",
    "list_ncm_fert"
   ]
  },
  {
   "cell_type": "markdown",
   "id": "34f644b2-8ce4-4749-ad51-b32d0dcadb45",
   "metadata": {},
   "source": [
    "Identificando os nomes dos arquivos no interior do IMP_COMPLETA.zip"
   ]
  },
  {
   "cell_type": "code",
   "execution_count": 96,
   "id": "c0cebd6d-4b9e-473e-8fac-a9243ac2ecdd",
   "metadata": {},
   "outputs": [
    {
     "name": "stdout",
     "output_type": "stream",
     "text": [
      "** Função id_internal_zipfile(local_filename)disponível **\n"
     ]
    }
   ],
   "source": [
    "%run '/home/andre301267/git/Pricing-Fertilizer/codes/function/Comexstat/Id_internal_zipfile.ipynb'"
   ]
  },
  {
   "cell_type": "code",
   "execution_count": 97,
   "id": "4254c472-54d7-4a36-b5b4-112b93d2716c",
   "metadata": {},
   "outputs": [
    {
     "name": "stdout",
     "output_type": "stream",
     "text": [
      "IMP_COMPLETA.csv\n"
     ]
    }
   ],
   "source": [
    "internal_zipfile=id_internal_zipfile(local_filename)"
   ]
  },
  {
   "cell_type": "markdown",
   "id": "5291607f-5d18-43ac-9b5b-700f93a65a78",
   "metadata": {},
   "source": [
    "# Visualiza primeiras linhas do interno"
   ]
  },
  {
   "cell_type": "code",
   "execution_count": 98,
   "id": "2e850eed-3afd-454d-b299-45ba31f8df39",
   "metadata": {},
   "outputs": [
    {
     "name": "stdout",
     "output_type": "stream",
     "text": [
      "** Função vslz_primeiras_linhas(local_filename,internal_zipfile) disponível**\n"
     ]
    }
   ],
   "source": [
    "%run '/home/andre301267/git/Pricing-Fertilizer/codes/function/Comexstat/vslz_primeiras_linhas.ipynb'"
   ]
  },
  {
   "cell_type": "code",
   "execution_count": 99,
   "id": "c967718e-0205-40f7-98d2-ccab56402040",
   "metadata": {},
   "outputs": [
    {
     "data": {
      "text/html": [
       "<div>\n",
       "<style scoped>\n",
       "    .dataframe tbody tr th:only-of-type {\n",
       "        vertical-align: middle;\n",
       "    }\n",
       "\n",
       "    .dataframe tbody tr th {\n",
       "        vertical-align: top;\n",
       "    }\n",
       "\n",
       "    .dataframe thead th {\n",
       "        text-align: right;\n",
       "    }\n",
       "</style>\n",
       "<table border=\"1\" class=\"dataframe\">\n",
       "  <thead>\n",
       "    <tr style=\"text-align: right;\">\n",
       "      <th></th>\n",
       "      <th>CO_ANO</th>\n",
       "      <th>CO_MES</th>\n",
       "      <th>CO_NCM</th>\n",
       "      <th>CO_UNID</th>\n",
       "      <th>CO_PAIS</th>\n",
       "      <th>SG_UF_NCM</th>\n",
       "      <th>CO_VIA</th>\n",
       "      <th>CO_URF</th>\n",
       "      <th>QT_ESTAT</th>\n",
       "      <th>KG_LIQUIDO</th>\n",
       "      <th>VL_FOB</th>\n",
       "      <th>VL_FRETE</th>\n",
       "      <th>VL_SEGURO</th>\n",
       "    </tr>\n",
       "  </thead>\n",
       "  <tbody>\n",
       "    <tr>\n",
       "      <th>0</th>\n",
       "      <td>1997</td>\n",
       "      <td>9</td>\n",
       "      <td>29251990</td>\n",
       "      <td>10</td>\n",
       "      <td>87</td>\n",
       "      <td>SP</td>\n",
       "      <td>1</td>\n",
       "      <td>817800</td>\n",
       "      <td>200</td>\n",
       "      <td>200</td>\n",
       "      <td>4888</td>\n",
       "      <td>180</td>\n",
       "      <td>24</td>\n",
       "    </tr>\n",
       "    <tr>\n",
       "      <th>1</th>\n",
       "      <td>1997</td>\n",
       "      <td>8</td>\n",
       "      <td>85049010</td>\n",
       "      <td>10</td>\n",
       "      <td>399</td>\n",
       "      <td>SP</td>\n",
       "      <td>4</td>\n",
       "      <td>817600</td>\n",
       "      <td>4891</td>\n",
       "      <td>84</td>\n",
       "      <td>30116</td>\n",
       "      <td>409</td>\n",
       "      <td>93</td>\n",
       "    </tr>\n",
       "    <tr>\n",
       "      <th>2</th>\n",
       "      <td>1997</td>\n",
       "      <td>8</td>\n",
       "      <td>54023300</td>\n",
       "      <td>10</td>\n",
       "      <td>63</td>\n",
       "      <td>SP</td>\n",
       "      <td>7</td>\n",
       "      <td>1010900</td>\n",
       "      <td>143834</td>\n",
       "      <td>143834</td>\n",
       "      <td>402427</td>\n",
       "      <td>10121</td>\n",
       "      <td>266</td>\n",
       "    </tr>\n",
       "    <tr>\n",
       "      <th>3</th>\n",
       "      <td>1997</td>\n",
       "      <td>3</td>\n",
       "      <td>38121000</td>\n",
       "      <td>10</td>\n",
       "      <td>249</td>\n",
       "      <td>SP</td>\n",
       "      <td>1</td>\n",
       "      <td>817800</td>\n",
       "      <td>9434</td>\n",
       "      <td>9172</td>\n",
       "      <td>61190</td>\n",
       "      <td>3011</td>\n",
       "      <td>163</td>\n",
       "    </tr>\n",
       "    <tr>\n",
       "      <th>4</th>\n",
       "      <td>1997</td>\n",
       "      <td>10</td>\n",
       "      <td>73209000</td>\n",
       "      <td>10</td>\n",
       "      <td>399</td>\n",
       "      <td>SP</td>\n",
       "      <td>4</td>\n",
       "      <td>817600</td>\n",
       "      <td>222510</td>\n",
       "      <td>49</td>\n",
       "      <td>3638</td>\n",
       "      <td>456</td>\n",
       "      <td>18</td>\n",
       "    </tr>\n",
       "  </tbody>\n",
       "</table>\n",
       "</div>"
      ],
      "text/plain": [
       "   CO_ANO  CO_MES    CO_NCM  CO_UNID  CO_PAIS SG_UF_NCM  CO_VIA   CO_URF  \\\n",
       "0    1997       9  29251990       10       87        SP       1   817800   \n",
       "1    1997       8  85049010       10      399        SP       4   817600   \n",
       "2    1997       8  54023300       10       63        SP       7  1010900   \n",
       "3    1997       3  38121000       10      249        SP       1   817800   \n",
       "4    1997      10  73209000       10      399        SP       4   817600   \n",
       "\n",
       "   QT_ESTAT  KG_LIQUIDO  VL_FOB  VL_FRETE  VL_SEGURO  \n",
       "0       200         200    4888       180         24  \n",
       "1      4891          84   30116       409         93  \n",
       "2    143834      143834  402427     10121        266  \n",
       "3      9434        9172   61190      3011        163  \n",
       "4    222510          49    3638       456         18  "
      ]
     },
     "metadata": {},
     "output_type": "display_data"
    }
   ],
   "source": [
    "vslz_primeiras_linhas(local_filename,internal_zipfile)"
   ]
  },
  {
   "cell_type": "markdown",
   "id": "45b942d0-f20e-411f-ad8b-6520d478a01a",
   "metadata": {},
   "source": [
    "# Extrai filtrando"
   ]
  },
  {
   "cell_type": "code",
   "execution_count": 100,
   "id": "7da7dd37-d406-4a39-81a8-f7cc1b451f8e",
   "metadata": {},
   "outputs": [
    {
     "name": "stdout",
     "output_type": "stream",
     "text": [
      "** Função extrai_filtrando_ncm(local_filename,internal_zipfile) disponível **\n"
     ]
    }
   ],
   "source": [
    "%run '/home/andre301267/git/Pricing-Fertilizer/codes/function/Comexstat/extrai_filtrando_ncm.ipynb'"
   ]
  },
  {
   "cell_type": "code",
   "execution_count": 101,
   "id": "646ff70f-5c30-4eca-82d5-572de9e9b94c",
   "metadata": {},
   "outputs": [
    {
     "name": "stdout",
     "output_type": "stream",
     "text": [
      "df imp_fert disponível\n"
     ]
    }
   ],
   "source": [
    "imp_fert=extrai_filtrando_ncm(local_filename,internal_zipfile)"
   ]
  },
  {
   "cell_type": "markdown",
   "id": "f0539d6d-117b-435c-906f-94c254f96465",
   "metadata": {},
   "source": [
    "# Corrige Columns Name"
   ]
  },
  {
   "cell_type": "code",
   "execution_count": 102,
   "id": "554c97cf-e25c-4e3e-bffe-f5fd0caf6062",
   "metadata": {},
   "outputs": [],
   "source": [
    "imp_fert=imp_fert.rename(columns={'SG_UF_NCM':'UF'})"
   ]
  },
  {
   "cell_type": "markdown",
   "id": "fc5746f4-9ae6-4ea5-91b1-d9a84000c9a6",
   "metadata": {},
   "source": [
    "# Salva arquivo extraído e filtrado"
   ]
  },
  {
   "cell_type": "code",
   "execution_count": 103,
   "id": "ae6da243-cf05-4ace-a8ff-c9e342ed1698",
   "metadata": {},
   "outputs": [],
   "source": [
    "imp_fert.to_csv('/home/andre301267/git/Pricing-Fertilizer/DB/temp/imp_fert_ncm.csv', index=False)"
   ]
  },
  {
   "cell_type": "code",
   "execution_count": 104,
   "id": "6addeff7-446c-44b4-869b-c5e15ac77610",
   "metadata": {},
   "outputs": [
    {
     "name": "stdout",
     "output_type": "stream",
     "text": [
      "O arquivo /home/andre301267/git/Pricing-Fertilizer/DB/temp/IMP_COMPLETA.zip foi excluído com sucesso.\n"
     ]
    }
   ],
   "source": [
    "import os\n",
    "\n",
    "# Verificar se o arquivo existe antes de tentar excluí-lo\n",
    "if os.path.exists(local_filename):\n",
    "    os.remove(local_filename)\n",
    "    print(f'O arquivo {local_filename} foi excluído com sucesso.')\n",
    "else:\n",
    "    print(f'O arquivo {local_filename} não foi encontrado.')"
   ]
  },
  {
   "cell_type": "code",
   "execution_count": 105,
   "id": "c714c909-48a4-4e75-8237-cc900d4a893c",
   "metadata": {},
   "outputs": [
    {
     "data": {
      "text/html": [
       "<div>\n",
       "<style scoped>\n",
       "    .dataframe tbody tr th:only-of-type {\n",
       "        vertical-align: middle;\n",
       "    }\n",
       "\n",
       "    .dataframe tbody tr th {\n",
       "        vertical-align: top;\n",
       "    }\n",
       "\n",
       "    .dataframe thead th {\n",
       "        text-align: right;\n",
       "    }\n",
       "</style>\n",
       "<table border=\"1\" class=\"dataframe\">\n",
       "  <thead>\n",
       "    <tr style=\"text-align: right;\">\n",
       "      <th></th>\n",
       "      <th>CO_ANO</th>\n",
       "      <th>CO_MES</th>\n",
       "      <th>CO_NCM</th>\n",
       "      <th>CO_UNID</th>\n",
       "      <th>CO_PAIS</th>\n",
       "      <th>UF</th>\n",
       "      <th>CO_VIA</th>\n",
       "      <th>CO_URF</th>\n",
       "      <th>QT_ESTAT</th>\n",
       "      <th>KG_LIQUIDO</th>\n",
       "      <th>VL_FOB</th>\n",
       "      <th>VL_FRETE</th>\n",
       "      <th>VL_SEGURO</th>\n",
       "    </tr>\n",
       "  </thead>\n",
       "  <tbody>\n",
       "    <tr>\n",
       "      <th>266</th>\n",
       "      <td>1997</td>\n",
       "      <td>12</td>\n",
       "      <td>31042090</td>\n",
       "      <td>10</td>\n",
       "      <td>23</td>\n",
       "      <td>RS</td>\n",
       "      <td>1</td>\n",
       "      <td>1015400</td>\n",
       "      <td>7130535</td>\n",
       "      <td>7130535</td>\n",
       "      <td>922261</td>\n",
       "      <td>85567</td>\n",
       "      <td>1935</td>\n",
       "    </tr>\n",
       "    <tr>\n",
       "      <th>874</th>\n",
       "      <td>1997</td>\n",
       "      <td>3</td>\n",
       "      <td>31027000</td>\n",
       "      <td>10</td>\n",
       "      <td>249</td>\n",
       "      <td>SP</td>\n",
       "      <td>1</td>\n",
       "      <td>817800</td>\n",
       "      <td>12</td>\n",
       "      <td>6</td>\n",
       "      <td>103</td>\n",
       "      <td>4</td>\n",
       "      <td>0</td>\n",
       "    </tr>\n",
       "    <tr>\n",
       "      <th>1095</th>\n",
       "      <td>1997</td>\n",
       "      <td>11</td>\n",
       "      <td>31042090</td>\n",
       "      <td>10</td>\n",
       "      <td>249</td>\n",
       "      <td>SP</td>\n",
       "      <td>4</td>\n",
       "      <td>817600</td>\n",
       "      <td>12</td>\n",
       "      <td>1</td>\n",
       "      <td>1197</td>\n",
       "      <td>35</td>\n",
       "      <td>6</td>\n",
       "    </tr>\n",
       "    <tr>\n",
       "      <th>1543</th>\n",
       "      <td>1997</td>\n",
       "      <td>12</td>\n",
       "      <td>31021010</td>\n",
       "      <td>10</td>\n",
       "      <td>831</td>\n",
       "      <td>SC</td>\n",
       "      <td>1</td>\n",
       "      <td>920151</td>\n",
       "      <td>4507463</td>\n",
       "      <td>4507463</td>\n",
       "      <td>549976</td>\n",
       "      <td>54024</td>\n",
       "      <td>0</td>\n",
       "    </tr>\n",
       "    <tr>\n",
       "      <th>2273</th>\n",
       "      <td>1997</td>\n",
       "      <td>3</td>\n",
       "      <td>31022100</td>\n",
       "      <td>10</td>\n",
       "      <td>23</td>\n",
       "      <td>RJ</td>\n",
       "      <td>1</td>\n",
       "      <td>717600</td>\n",
       "      <td>144</td>\n",
       "      <td>7200</td>\n",
       "      <td>15582</td>\n",
       "      <td>681</td>\n",
       "      <td>0</td>\n",
       "    </tr>\n",
       "    <tr>\n",
       "      <th>...</th>\n",
       "      <td>...</td>\n",
       "      <td>...</td>\n",
       "      <td>...</td>\n",
       "      <td>...</td>\n",
       "      <td>...</td>\n",
       "      <td>...</td>\n",
       "      <td>...</td>\n",
       "      <td>...</td>\n",
       "      <td>...</td>\n",
       "      <td>...</td>\n",
       "      <td>...</td>\n",
       "      <td>...</td>\n",
       "      <td>...</td>\n",
       "    </tr>\n",
       "    <tr>\n",
       "      <th>41834074</th>\n",
       "      <td>2024</td>\n",
       "      <td>6</td>\n",
       "      <td>31022100</td>\n",
       "      <td>10</td>\n",
       "      <td>160</td>\n",
       "      <td>GO</td>\n",
       "      <td>1</td>\n",
       "      <td>917800</td>\n",
       "      <td>1950062</td>\n",
       "      <td>1950062</td>\n",
       "      <td>271060</td>\n",
       "      <td>37050</td>\n",
       "      <td>0</td>\n",
       "    </tr>\n",
       "    <tr>\n",
       "      <th>41834331</th>\n",
       "      <td>2024</td>\n",
       "      <td>1</td>\n",
       "      <td>31059090</td>\n",
       "      <td>10</td>\n",
       "      <td>403</td>\n",
       "      <td>RS</td>\n",
       "      <td>1</td>\n",
       "      <td>1017700</td>\n",
       "      <td>96000</td>\n",
       "      <td>96000</td>\n",
       "      <td>80307</td>\n",
       "      <td>6612</td>\n",
       "      <td>26</td>\n",
       "    </tr>\n",
       "    <tr>\n",
       "      <th>41834486</th>\n",
       "      <td>2024</td>\n",
       "      <td>6</td>\n",
       "      <td>31023000</td>\n",
       "      <td>10</td>\n",
       "      <td>676</td>\n",
       "      <td>RS</td>\n",
       "      <td>1</td>\n",
       "      <td>1017700</td>\n",
       "      <td>5128932</td>\n",
       "      <td>5128932</td>\n",
       "      <td>1159272</td>\n",
       "      <td>174250</td>\n",
       "      <td>1134</td>\n",
       "    </tr>\n",
       "    <tr>\n",
       "      <th>41834619</th>\n",
       "      <td>2024</td>\n",
       "      <td>8</td>\n",
       "      <td>31052000</td>\n",
       "      <td>10</td>\n",
       "      <td>53</td>\n",
       "      <td>MS</td>\n",
       "      <td>1</td>\n",
       "      <td>917800</td>\n",
       "      <td>1000000</td>\n",
       "      <td>1000000</td>\n",
       "      <td>318500</td>\n",
       "      <td>24500</td>\n",
       "      <td>0</td>\n",
       "    </tr>\n",
       "    <tr>\n",
       "      <th>41834721</th>\n",
       "      <td>2024</td>\n",
       "      <td>8</td>\n",
       "      <td>31010000</td>\n",
       "      <td>10</td>\n",
       "      <td>756</td>\n",
       "      <td>SP</td>\n",
       "      <td>4</td>\n",
       "      <td>817600</td>\n",
       "      <td>3150</td>\n",
       "      <td>3150</td>\n",
       "      <td>10863</td>\n",
       "      <td>10988</td>\n",
       "      <td>0</td>\n",
       "    </tr>\n",
       "  </tbody>\n",
       "</table>\n",
       "<p>103643 rows × 13 columns</p>\n",
       "</div>"
      ],
      "text/plain": [
       "          CO_ANO  CO_MES    CO_NCM  CO_UNID  CO_PAIS  UF  CO_VIA   CO_URF  \\\n",
       "266         1997      12  31042090       10       23  RS       1  1015400   \n",
       "874         1997       3  31027000       10      249  SP       1   817800   \n",
       "1095        1997      11  31042090       10      249  SP       4   817600   \n",
       "1543        1997      12  31021010       10      831  SC       1   920151   \n",
       "2273        1997       3  31022100       10       23  RJ       1   717600   \n",
       "...          ...     ...       ...      ...      ...  ..     ...      ...   \n",
       "41834074    2024       6  31022100       10      160  GO       1   917800   \n",
       "41834331    2024       1  31059090       10      403  RS       1  1017700   \n",
       "41834486    2024       6  31023000       10      676  RS       1  1017700   \n",
       "41834619    2024       8  31052000       10       53  MS       1   917800   \n",
       "41834721    2024       8  31010000       10      756  SP       4   817600   \n",
       "\n",
       "          QT_ESTAT  KG_LIQUIDO   VL_FOB  VL_FRETE  VL_SEGURO  \n",
       "266        7130535     7130535   922261     85567       1935  \n",
       "874             12           6      103         4          0  \n",
       "1095            12           1     1197        35          6  \n",
       "1543       4507463     4507463   549976     54024          0  \n",
       "2273           144        7200    15582       681          0  \n",
       "...            ...         ...      ...       ...        ...  \n",
       "41834074   1950062     1950062   271060     37050          0  \n",
       "41834331     96000       96000    80307      6612         26  \n",
       "41834486   5128932     5128932  1159272    174250       1134  \n",
       "41834619   1000000     1000000   318500     24500          0  \n",
       "41834721      3150        3150    10863     10988          0  \n",
       "\n",
       "[103643 rows x 13 columns]"
      ]
     },
     "execution_count": 105,
     "metadata": {},
     "output_type": "execute_result"
    }
   ],
   "source": [
    "imp_fert"
   ]
  },
  {
   "cell_type": "code",
   "execution_count": 106,
   "id": "d85bd6de-b612-46d8-b5fc-be1ef6fe95fe",
   "metadata": {},
   "outputs": [
    {
     "name": "stdout",
     "output_type": "stream",
     "text": [
      "Tempo de execução: 3.9 minutos.\n"
     ]
    }
   ],
   "source": [
    "f=time.time()\n",
    "print(f\"Tempo de execução: {round((f-i)/60,1)} minutos.\")"
   ]
  },
  {
   "cell_type": "code",
   "execution_count": null,
   "id": "80667d28",
   "metadata": {},
   "outputs": [],
   "source": []
  }
 ],
 "metadata": {
  "kernelspec": {
   "display_name": "Python 3 (ipykernel)",
   "language": "python",
   "name": "python3"
  },
  "language_info": {
   "codemirror_mode": {
    "name": "ipython",
    "version": 3
   },
   "file_extension": ".py",
   "mimetype": "text/x-python",
   "name": "python",
   "nbconvert_exporter": "python",
   "pygments_lexer": "ipython3",
   "version": "3.11.2"
  }
 },
 "nbformat": 4,
 "nbformat_minor": 5
}
