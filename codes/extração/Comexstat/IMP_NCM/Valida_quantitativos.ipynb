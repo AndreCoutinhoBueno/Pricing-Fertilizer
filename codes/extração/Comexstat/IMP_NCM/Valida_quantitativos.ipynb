{
 "cells": [
  {
   "cell_type": "code",
   "execution_count": 136,
   "id": "86b25282-5e3c-4be8-8afd-651102d94e68",
   "metadata": {},
   "outputs": [
    {
     "data": {
      "text/plain": [
       "(89785, 11)"
      ]
     },
     "execution_count": 136,
     "metadata": {},
     "output_type": "execute_result"
    }
   ],
   "source": [
    "import numpy as np\n",
    "import pandas as pd\n",
    "import matplotlib.pyplot as plt\n",
    "import seaborn as sns\n",
    "import warnings\n",
    "warnings.filterwarnings(\"ignore\")\n",
    "\n",
    "# Carrega a tabela imortação\n",
    "imp_fert=pd.read_csv('/home/andre301267/git/Pricing-Fertilizer/DB/temp/imp_fert_ncm_cat.csv').reset_index(drop=True)\n",
    "imp_fert.shape"
   ]
  },
  {
   "cell_type": "code",
   "execution_count": 137,
   "id": "dec55e24",
   "metadata": {},
   "outputs": [
    {
     "data": {
      "text/html": [
       "<div>\n",
       "<style scoped>\n",
       "    .dataframe tbody tr th:only-of-type {\n",
       "        vertical-align: middle;\n",
       "    }\n",
       "\n",
       "    .dataframe tbody tr th {\n",
       "        vertical-align: top;\n",
       "    }\n",
       "\n",
       "    .dataframe thead th {\n",
       "        text-align: right;\n",
       "    }\n",
       "</style>\n",
       "<table border=\"1\" class=\"dataframe\">\n",
       "  <thead>\n",
       "    <tr style=\"text-align: right;\">\n",
       "      <th></th>\n",
       "      <th>year</th>\n",
       "      <th>month</th>\n",
       "      <th>ncm</th>\n",
       "      <th>Product</th>\n",
       "      <th>UF</th>\n",
       "      <th>pais</th>\n",
       "      <th>urf</th>\n",
       "      <th>kg</th>\n",
       "      <th>US$_fob</th>\n",
       "      <th>US$_freight</th>\n",
       "      <th>US$_insurance</th>\n",
       "    </tr>\n",
       "  </thead>\n",
       "  <tbody>\n",
       "    <tr>\n",
       "      <th>0</th>\n",
       "      <td>1997</td>\n",
       "      <td>1</td>\n",
       "      <td>31022100</td>\n",
       "      <td>SAM</td>\n",
       "      <td>GO</td>\n",
       "      <td>23</td>\n",
       "      <td>817800</td>\n",
       "      <td>1900000</td>\n",
       "      <td>184300</td>\n",
       "      <td>19000</td>\n",
       "      <td>0</td>\n",
       "    </tr>\n",
       "  </tbody>\n",
       "</table>\n",
       "</div>"
      ],
      "text/plain": [
       "   year  month       ncm Product  UF  pais     urf       kg  US$_fob  \\\n",
       "0  1997      1  31022100     SAM  GO    23  817800  1900000   184300   \n",
       "\n",
       "   US$_freight  US$_insurance  \n",
       "0        19000              0  "
      ]
     },
     "execution_count": 137,
     "metadata": {},
     "output_type": "execute_result"
    }
   ],
   "source": [
    "imp_fert.head(1)"
   ]
  },
  {
   "cell_type": "markdown",
   "id": "a87caa0d-44e1-46dc-9881-f5c56897bd1f",
   "metadata": {},
   "source": [
    "### Identifica as colunas quantitativas"
   ]
  },
  {
   "cell_type": "code",
   "execution_count": 138,
   "id": "63e25d8e-2634-42df-817a-0833d1329b67",
   "metadata": {
    "scrolled": true
   },
   "outputs": [
    {
     "data": {
      "text/plain": [
       "['kg', 'US$_fob', 'US$_freight']"
      ]
     },
     "execution_count": 138,
     "metadata": {},
     "output_type": "execute_result"
    }
   ],
   "source": [
    "col_quanti=['kg','US$_fob','US$_freight']\n",
    "col_quanti"
   ]
  },
  {
   "cell_type": "markdown",
   "id": "a24b0e8f-d3d2-4af4-b9db-07a1b387079a",
   "metadata": {},
   "source": [
    "### Avalia impacto e elimina registros com quantidade igual a zero"
   ]
  },
  {
   "cell_type": "code",
   "execution_count": 139,
   "id": "2132b451-ab6c-4088-9192-042d08d7da1e",
   "metadata": {},
   "outputs": [
    {
     "name": "stdout",
     "output_type": "stream",
     "text": [
      "kg possui 0.0 % dos registros com valor igual a zero.\n",
      "US$_fob possui 0.0 % dos registros com valor igual a zero.\n",
      "US$_freight possui 0.3 % dos registros com valor igual a zero.\n"
     ]
    }
   ],
   "source": [
    "# Avalia impacto na eliminação de registros com quantidade zero\n",
    "for q in col_quanti:\n",
    "    print(f\"{q} possui {round(100*imp_fert[imp_fert[q]==0].shape[0]/imp_fert.shape[0],1)} % dos registros com valor igual a zero.\")"
   ]
  },
  {
   "cell_type": "code",
   "execution_count": 140,
   "id": "2671f0be-b72d-4ad5-9844-5a5209617e89",
   "metadata": {},
   "outputs": [
    {
     "name": "stdout",
     "output_type": "stream",
     "text": [
      "Qdo  kg = 0:\n",
      "US$_fob        2.237782e-06\n",
      "US$_freight    6.689952e-09\n",
      "dtype: float64 % do total.\n",
      "\n",
      "Qdo  US$_fob = 0:\n",
      "kg             0.0\n",
      "US$_freight    0.0\n",
      "dtype: float64 % do total.\n",
      "\n",
      "Qdo  US$_freight = 0:\n",
      "kg         0.000108\n",
      "US$_fob    0.000101\n",
      "dtype: float64 % do total.\n",
      "\n"
     ]
    }
   ],
   "source": [
    "for q in col_quanti:\n",
    "    par=imp_fert[imp_fert[q]==0][[x for x in col_quanti if x not in [q]]].sum()\n",
    "    tot=imp_fert[imp_fert[q]!=0][[x for x in col_quanti if x not in [q]]].sum()\n",
    "    print('Qdo ',q,'= 0:')\n",
    "    print(f\"{100*(par/tot)} % do total.\")\n",
    "    print()"
   ]
  },
  {
   "cell_type": "code",
   "execution_count": 141,
   "id": "a6365bf8-2b5d-4975-9501-d87334e573d1",
   "metadata": {},
   "outputs": [
    {
     "data": {
      "text/plain": [
       "['kg', 'US$_fob', 'US$_freight']"
      ]
     },
     "execution_count": 141,
     "metadata": {},
     "output_type": "execute_result"
    }
   ],
   "source": [
    "# Seleciona colunas para descate de zero\n",
    "col_quanti=[x for x in col_quanti if x not in ['VL_SEGURO']]\n",
    "col_quanti"
   ]
  },
  {
   "cell_type": "code",
   "execution_count": 142,
   "id": "badc72f9-f62f-4f46-b111-4004d3636031",
   "metadata": {},
   "outputs": [],
   "source": [
    "# Descarta registros com valor igual a zero\n",
    "for c in col_quanti:\n",
    "    imp_fert=imp_fert[imp_fert[c]>0]"
   ]
  },
  {
   "cell_type": "markdown",
   "id": "6f96607a-e52e-492a-b161-ed9c5607d251",
   "metadata": {},
   "source": [
    "### Corrige inflação monetária"
   ]
  },
  {
   "cell_type": "code",
   "execution_count": 143,
   "id": "816a6ef3-9877-4abe-bc75-6b5428d31029",
   "metadata": {},
   "outputs": [
    {
     "name": "stdout",
     "output_type": "stream",
     "text": [
      "\n",
      "Função ***corrige_inflação_dólar(df_ano_mes_valor,col_vl_name)*** disponível.\n",
      "\n"
     ]
    }
   ],
   "source": [
    "# Carrega função de correção do dólar\n",
    "%run '/home/andre301267/git/Pricing-Fertilizer/codes/function/Comexstat/corrige_inflação_dólar.ipynb'"
   ]
  },
  {
   "cell_type": "code",
   "execution_count": 144,
   "id": "dc4776f5-ba2c-402d-b890-0eb8661a22f8",
   "metadata": {},
   "outputs": [
    {
     "data": {
      "text/plain": [
       "[]"
      ]
     },
     "execution_count": 144,
     "metadata": {},
     "output_type": "execute_result"
    }
   ],
   "source": [
    "# Identifica valores a serem corrigidos da inflação\n",
    "col_val=[x for x in imp_fert.columns if x[:2]=='VL']\n",
    "col_val"
   ]
  },
  {
   "cell_type": "code",
   "execution_count": 145,
   "id": "3623d162-dbd6-4d54-a329-62aca585d652",
   "metadata": {},
   "outputs": [],
   "source": [
    "# Salva backup e corrige inflação\n",
    "for cv in col_val:\n",
    "    imp_fert.insert(7,cv+'_orig',imp_fert[cv])\n",
    "    imp_fert=corrige_inflação_dólar(imp_fert,cv)"
   ]
  },
  {
   "cell_type": "code",
   "execution_count": 146,
   "id": "42076d31-7534-41a3-af1b-c0ba1b6afdff",
   "metadata": {},
   "outputs": [
    {
     "data": {
      "text/plain": [
       "Index(['year', 'month', 'ncm', 'Product', 'UF', 'pais', 'urf', 'kg', 'US$_fob',\n",
       "       'US$_freight', 'US$_insurance'],\n",
       "      dtype='object')"
      ]
     },
     "execution_count": 146,
     "metadata": {},
     "output_type": "execute_result"
    }
   ],
   "source": [
    "imp_fert.columns"
   ]
  },
  {
   "cell_type": "markdown",
   "id": "7050f95f-1634-4fd9-9f5c-138a7162e27e",
   "metadata": {},
   "source": [
    "sns.displot(kind='kde',data=imp_fert.sort_values('Product'),x='kg',col='Product',col_wrap=3,height=2,aspect=2,\\\n",
    "            log_scale=True,facet_kws=dict(sharey=False,sharex=False))\n",
    "\n",
    "plt.show()"
   ]
  },
  {
   "cell_type": "code",
   "execution_count": 147,
   "id": "8a3058c0",
   "metadata": {},
   "outputs": [
    {
     "data": {
      "image/png": "[encoded data removed]",
      "text/plain": [
       "<Figure size 400x200 with 1 Axes>"
      ]
     },
     "metadata": {},
     "output_type": "display_data"
    }
   ],
   "source": [
    "sns.displot(kind='kde',data=imp_fert[imp_fert.Product=='MAP'].sort_values('Product'),x='kg',col='Product',height=2,aspect=2,\\\n",
    "            log_scale=True)\\\n",
    "                .fig.suptitle('Brazilian Fertilizers Imports', y=1.05)\n",
    "\n",
    "plt.savefig('/home/andre301267/git/Pricing-Fertilizer/DB/Comexstat/graphs/fertilizers_imports0.png')\n",
    "plt.show()"
   ]
  },
  {
   "cell_type": "markdown",
   "id": "469ca8cd-4e5e-4756-abcb-656ffed3e733",
   "metadata": {},
   "source": [
    "## Clusteriza NCM"
   ]
  },
  {
   "cell_type": "code",
   "execution_count": 148,
   "id": "78074c68-14d9-4f12-9f95-07082904c87d",
   "metadata": {},
   "outputs": [],
   "source": [
    "imp_fert['log_kg']=np.log10(imp_fert.kg)\n",
    "imp_fert['log_fob']=np.log10(imp_fert['US$_fob'])\n",
    "imp_fert['log_frete']=np.log10(imp_fert['US$_freight'])\n",
    "imp_fert['cif_kg']=(imp_fert['US$_fob']+imp_fert['US$_freight'])/imp_fert.kg\n",
    "imp_fert['fob_kg']=(imp_fert['US$_fob'])/imp_fert.kg"
   ]
  },
  {
   "cell_type": "code",
   "execution_count": 149,
   "id": "eaf9ce3a-de8f-4571-b320-38e1a875f681",
   "metadata": {},
   "outputs": [
    {
     "name": "stdout",
     "output_type": "stream",
     "text": [
      "** Função clusteriza_ncm(imp_fert, n_clusters=4, cols_base=['s_log_kg','s_log_fob']) disponível **\n"
     ]
    }
   ],
   "source": [
    "%run '/home/andre301267/git/Pricing-Fertilizer/codes/function/Comexstat/clusteriza_ncm.ipynb'"
   ]
  },
  {
   "cell_type": "code",
   "execution_count": 150,
   "id": "a04419c9-056e-4949-ace5-fa6d5c2b82ea",
   "metadata": {},
   "outputs": [],
   "source": [
    "n_cluster_list=[1,3,3,\n",
    "                3,2,1,\n",
    "                6,2,2,\n",
    "                5,3,2,\n",
    "                2,3,2,\n",
    "                2,2,4,\n",
    "                1,3,2,\n",
    "                5,1,1,\n",
    "                1,2,4]\n",
    "ncm_list=imp_fert['Product'].drop_duplicates().sort_values().values\n",
    "d=dict(zip(ncm_list,n_cluster_list))"
   ]
  },
  {
   "cell_type": "code",
   "execution_count": 151,
   "id": "243497a7",
   "metadata": {},
   "outputs": [
    {
     "data": {
      "text/plain": [
       "array(['SAM', 'Outros nitratos de sódio', 'Outros N', 'MOP<60', 'MOP',\n",
       "       'SOP<52', 'NPK', 'Nit.Sódio Potássico 15 15', 'NK', 'UREIA', 'NAM',\n",
       "       'Nit.Sódio natural<16,3', 'Superfosfatos<22', 'Outros potássicos',\n",
       "       'MAP', 'Outros Nit.Sódio potássico', 'Ureia, mesmo aquosa', 'NCa',\n",
       "       'Superfosfato>45', 'Outros SOP', 'DAP arsênio> 6 mg/kg', 'PK',\n",
       "       'Outros Nit.Sódio, naturais', 'NP', 'Nitratos e fosfatos',\n",
       "       'Superfosfatos>35', 'Outros superfosfatos'], dtype=object)"
      ]
     },
     "execution_count": 151,
     "metadata": {},
     "output_type": "execute_result"
    }
   ],
   "source": [
    "imp_fert.Product.unique()"
   ]
  },
  {
   "cell_type": "code",
   "execution_count": 152,
   "id": "1be6bfc3-d10c-4f1d-bb09-673d7dd15bb4",
   "metadata": {},
   "outputs": [],
   "source": [
    "q=pd.DataFrame()\n",
    "for n in ncm_list:\n",
    "    t=imp_fert[imp_fert.Product==n]\n",
    "    t=clusteriza_ncm(t,n_clusters=d[n],cols_base=['log_kg','log_fob','log_frete','cif_kg','fob_kg'])\n",
    "    q=pd.concat([q,t])"
   ]
  },
  {
   "cell_type": "code",
   "execution_count": 153,
   "id": "006fa71b-3a98-4dec-9bd8-8c0e7a055bcb",
   "metadata": {},
   "outputs": [],
   "source": [
    "imp_fert=q"
   ]
  },
  {
   "cell_type": "code",
   "execution_count": 154,
   "id": "79256346-f8db-4e64-acd3-9bb2b05857d5",
   "metadata": {},
   "outputs": [
    {
     "data": {
      "text/plain": [
       "np.int64(987)"
      ]
     },
     "execution_count": 154,
     "metadata": {},
     "output_type": "execute_result"
    }
   ],
   "source": [
    "imp_fert[(imp_fert.Product=='MAP')&(imp_fert.km==1)].kg.min()"
   ]
  },
  {
   "cell_type": "markdown",
   "id": "6d7f5cab-1545-4aa8-89cb-921856288124",
   "metadata": {},
   "source": [
    "sns.displot(kind='kde', data=imp_fert, x='kg', col='Product', hue='km', col_wrap=3, height=2, aspect=2,\\\n",
    "            log_scale=True, facet_kws=dict(sharey=False)).fig.suptitle('Brazilian Fertilizers Imports', y=1.05)\n",
    "\n",
    "#plt.savefig('/home/andre301267/git/Pricing-Fertilizer/DB/Comexstat/graphs/fertilizers_imports.png')\n",
    "plt.show()"
   ]
  },
  {
   "cell_type": "code",
   "execution_count": 155,
   "id": "16507cd8",
   "metadata": {},
   "outputs": [
    {
     "data": {
      "image/png": "[encoded data removed]",
      "text/plain": [
       "<Figure size 530.625x200 with 1 Axes>"
      ]
     },
     "metadata": {},
     "output_type": "display_data"
    }
   ],
   "source": [
    "dict_km={0:'outlier',1:'foliar grade',2:'standard'}\n",
    "data=imp_fert[(imp_fert.Product=='MAP')]\n",
    "data['cluster']=data.km.map(dict_km)\n",
    "sns.displot(kind='kde', data=data, x='kg', col='Product', hue='cluster',\\\n",
    "             height=2, aspect=2, log_scale=True)\\\n",
    "                .fig.suptitle('Brazilian Fertilizers Imports', y=1.05)\n",
    "\n",
    "plt.savefig('/home/andre301267/git/Pricing-Fertilizer/DB/Comexstat/graphs/fertilizers_imports.png')\n",
    "plt.show()"
   ]
  },
  {
   "cell_type": "markdown",
   "id": "8b3a437e-a199-4edb-bc01-4a5368bae9d6",
   "metadata": {},
   "source": [
    "### Corrige outliers através do preço"
   ]
  },
  {
   "cell_type": "markdown",
   "id": "c1c4b486-ff78-4838-82cb-2d84cc85c92e",
   "metadata": {},
   "source": [
    "Confere maior registro de peso:"
   ]
  },
  {
   "cell_type": "code",
   "execution_count": 156,
   "id": "710cf561-576b-4054-ac70-42381ca9b113",
   "metadata": {},
   "outputs": [
    {
     "data": {
      "text/html": [
       "<div>\n",
       "<style scoped>\n",
       "    .dataframe tbody tr th:only-of-type {\n",
       "        vertical-align: middle;\n",
       "    }\n",
       "\n",
       "    .dataframe tbody tr th {\n",
       "        vertical-align: top;\n",
       "    }\n",
       "\n",
       "    .dataframe thead th {\n",
       "        text-align: right;\n",
       "    }\n",
       "</style>\n",
       "<table border=\"1\" class=\"dataframe\">\n",
       "  <thead>\n",
       "    <tr style=\"text-align: right;\">\n",
       "      <th></th>\n",
       "      <th>s_fob_kg</th>\n",
       "      <th>s_cif_kg</th>\n",
       "      <th>s_log_frete</th>\n",
       "      <th>s_log_fob</th>\n",
       "      <th>s_log_kg</th>\n",
       "      <th>year</th>\n",
       "      <th>month</th>\n",
       "      <th>ncm</th>\n",
       "      <th>Product</th>\n",
       "      <th>UF</th>\n",
       "      <th>...</th>\n",
       "      <th>kg</th>\n",
       "      <th>US$_fob</th>\n",
       "      <th>US$_freight</th>\n",
       "      <th>US$_insurance</th>\n",
       "      <th>log_kg</th>\n",
       "      <th>log_fob</th>\n",
       "      <th>log_frete</th>\n",
       "      <th>cif_kg</th>\n",
       "      <th>fob_kg</th>\n",
       "      <th>km</th>\n",
       "    </tr>\n",
       "  </thead>\n",
       "  <tbody>\n",
       "    <tr>\n",
       "      <th>1118</th>\n",
       "      <td>0.0</td>\n",
       "      <td>0.0</td>\n",
       "      <td>0.811266</td>\n",
       "      <td>0.852084</td>\n",
       "      <td>1.0</td>\n",
       "      <td>2003</td>\n",
       "      <td>8</td>\n",
       "      <td>31021010</td>\n",
       "      <td>UREIA</td>\n",
       "      <td>BA</td>\n",
       "      <td>...</td>\n",
       "      <td>1418071545</td>\n",
       "      <td>5604808</td>\n",
       "      <td>293995</td>\n",
       "      <td>0</td>\n",
       "      <td>9.151698</td>\n",
       "      <td>6.748561</td>\n",
       "      <td>5.46834</td>\n",
       "      <td>0.00416</td>\n",
       "      <td>0.003952</td>\n",
       "      <td>1</td>\n",
       "    </tr>\n",
       "  </tbody>\n",
       "</table>\n",
       "<p>1 rows × 22 columns</p>\n",
       "</div>"
      ],
      "text/plain": [
       "      s_fob_kg  s_cif_kg  s_log_frete  s_log_fob  s_log_kg  year  month  \\\n",
       "1118       0.0       0.0     0.811266   0.852084       1.0  2003      8   \n",
       "\n",
       "           ncm Product  UF  ...          kg  US$_fob  US$_freight  \\\n",
       "1118  31021010   UREIA  BA  ...  1418071545  5604808       293995   \n",
       "\n",
       "      US$_insurance    log_kg   log_fob  log_frete   cif_kg    fob_kg  km  \n",
       "1118              0  9.151698  6.748561    5.46834  0.00416  0.003952   1  \n",
       "\n",
       "[1 rows x 22 columns]"
      ]
     },
     "execution_count": 156,
     "metadata": {},
     "output_type": "execute_result"
    }
   ],
   "source": [
    "imp_fert[imp_fert.kg==imp_fert.kg.max()]"
   ]
  },
  {
   "cell_type": "markdown",
   "id": "afb5c313-ad56-45af-a2bf-dcba1233900d",
   "metadata": {},
   "source": [
    "Confere a soma geral"
   ]
  },
  {
   "cell_type": "code",
   "execution_count": 157,
   "id": "734d4d7e-ce70-41f9-93e1-69908e1613fd",
   "metadata": {},
   "outputs": [
    {
     "data": {
      "text/plain": [
       "kg         557.0\n",
       "US$_fob    178.0\n",
       "dtype: float64"
      ]
     },
     "execution_count": 157,
     "metadata": {},
     "output_type": "execute_result"
    }
   ],
   "source": [
    "round(imp_fert[['kg','US$_fob']].sum()/10**9)"
   ]
  },
  {
   "cell_type": "markdown",
   "id": "712340ff-8119-4caa-b576-352a85bccd3b",
   "metadata": {},
   "source": [
    "Carrega função para correção via preço"
   ]
  },
  {
   "cell_type": "code",
   "execution_count": 158,
   "id": "8885d159-2682-4f65-9dce-6105402f54c3",
   "metadata": {},
   "outputs": [
    {
     "name": "stdout",
     "output_type": "stream",
     "text": [
      "** Função corr_kg_fob_via_preço(comex_df,z=3) disponível **\n"
     ]
    },
    {
     "name": "stdout",
     "output_type": "stream",
     "text": [
      "Através do preço, foram corrigidos 2225 registros de kg e 1912 registros de valor fob, que estavam a mais de 2 vezes o desvio padrão\n",
      "de distância da média (z score).\n"
     ]
    }
   ],
   "source": [
    "%run '/home/andre301267/git/Pricing-Fertilizer/codes/function/Comexstat/corr_kg_fob_via_preço.ipynb'\n",
    "q=pd.DataFrame()\n",
    "z=2\n",
    "k=0\n",
    "f=0\n",
    "for ncm in imp_fert.ncm.unique():\n",
    "    for km in imp_fert.km.unique():\n",
    "        t=imp_fert[(imp_fert.ncm==ncm)&(imp_fert.km==km)]\n",
    "        t1, len_err_kg, len_err_fob=corr_kg_fob_via_preço(t,z)\n",
    "        q=pd.concat([q,t1])\n",
    "        k+=len_err_kg\n",
    "        f+=len_err_fob\n",
    "\n",
    "print(f\"Através do preço, foram corrigidos {k} registros de kg e {f} registros de valor fob, que estavam a mais de {z} vezes \\\n",
    "o desvio padrão\\nde distância da média (z score).\")\n",
    "\n",
    "imp_fert=q.copy()"
   ]
  },
  {
   "cell_type": "markdown",
   "id": "23b30671-068f-4498-b53d-be8e175cf2e7",
   "metadata": {},
   "source": [
    "Confere maior registro de peso:"
   ]
  },
  {
   "cell_type": "code",
   "execution_count": 159,
   "id": "71d40078-47f4-4bf9-b1fc-678f208f1e44",
   "metadata": {},
   "outputs": [
    {
     "data": {
      "text/html": [
       "<div>\n",
       "<style scoped>\n",
       "    .dataframe tbody tr th:only-of-type {\n",
       "        vertical-align: middle;\n",
       "    }\n",
       "\n",
       "    .dataframe tbody tr th {\n",
       "        vertical-align: top;\n",
       "    }\n",
       "\n",
       "    .dataframe thead th {\n",
       "        text-align: right;\n",
       "    }\n",
       "</style>\n",
       "<table border=\"1\" class=\"dataframe\">\n",
       "  <thead>\n",
       "    <tr style=\"text-align: right;\">\n",
       "      <th></th>\n",
       "      <th>s_fob_kg</th>\n",
       "      <th>s_cif_kg</th>\n",
       "      <th>s_log_frete</th>\n",
       "      <th>s_log_fob</th>\n",
       "      <th>s_log_kg</th>\n",
       "      <th>year</th>\n",
       "      <th>month</th>\n",
       "      <th>ncm</th>\n",
       "      <th>Product</th>\n",
       "      <th>UF</th>\n",
       "      <th>...</th>\n",
       "      <th>qd_dif_log_fob</th>\n",
       "      <th>std_log_fob</th>\n",
       "      <th>z_score_log_fob</th>\n",
       "      <th>dif_z_score</th>\n",
       "      <th>mean_dif_z_score</th>\n",
       "      <th>qd_dif_dif_z_score</th>\n",
       "      <th>std_dif_z_score</th>\n",
       "      <th>z_score_dif_z_score</th>\n",
       "      <th>preço</th>\n",
       "      <th>kg_err</th>\n",
       "    </tr>\n",
       "  </thead>\n",
       "  <tbody>\n",
       "    <tr>\n",
       "      <th>9694</th>\n",
       "      <td>0.000686</td>\n",
       "      <td>0.000274</td>\n",
       "      <td>0.97953</td>\n",
       "      <td>0.97788</td>\n",
       "      <td>1.0</td>\n",
       "      <td>2023</td>\n",
       "      <td>10</td>\n",
       "      <td>31022100</td>\n",
       "      <td>SAM</td>\n",
       "      <td>MT</td>\n",
       "      <td>...</td>\n",
       "      <td>3.995656</td>\n",
       "      <td>0.468482</td>\n",
       "      <td>4.266788</td>\n",
       "      <td>0.305113</td>\n",
       "      <td>2.236462e-15</td>\n",
       "      <td>0.093094</td>\n",
       "      <td>0.475866</td>\n",
       "      <td>0.641174</td>\n",
       "      <td>NaN</td>\n",
       "      <td>NaN</td>\n",
       "    </tr>\n",
       "  </tbody>\n",
       "</table>\n",
       "<p>1 rows × 37 columns</p>\n",
       "</div>"
      ],
      "text/plain": [
       "      s_fob_kg  s_cif_kg  s_log_frete  s_log_fob  s_log_kg  year  month  \\\n",
       "9694  0.000686  0.000274      0.97953    0.97788       1.0  2023     10   \n",
       "\n",
       "           ncm Product  UF  ...  qd_dif_log_fob  std_log_fob  z_score_log_fob  \\\n",
       "9694  31022100     SAM  MT  ...        3.995656     0.468482         4.266788   \n",
       "\n",
       "      dif_z_score  mean_dif_z_score  qd_dif_dif_z_score  std_dif_z_score  \\\n",
       "9694     0.305113      2.236462e-15            0.093094         0.475866   \n",
       "\n",
       "      z_score_dif_z_score  preço  kg_err  \n",
       "9694             0.641174    NaN     NaN  \n",
       "\n",
       "[1 rows x 37 columns]"
      ]
     },
     "execution_count": 159,
     "metadata": {},
     "output_type": "execute_result"
    }
   ],
   "source": [
    "imp_fert[imp_fert.kg==imp_fert.kg.max()]"
   ]
  },
  {
   "cell_type": "markdown",
   "id": "d096aebb-dd29-4373-acbf-56ff865c8982",
   "metadata": {},
   "source": [
    "Confere a soma geral"
   ]
  },
  {
   "cell_type": "code",
   "execution_count": 160,
   "id": "6db555fa-12ef-4d88-bdb0-265ce24f9fcc",
   "metadata": {},
   "outputs": [
    {
     "data": {
      "text/plain": [
       "kg         552.692497\n",
       "US$_fob    175.011363\n",
       "dtype: float64"
      ]
     },
     "execution_count": 160,
     "metadata": {},
     "output_type": "execute_result"
    }
   ],
   "source": [
    "imp_fert[['kg','US$_fob']].sum()/10**9"
   ]
  },
  {
   "cell_type": "code",
   "execution_count": 161,
   "id": "5069d770-37ed-4bee-a0a1-e24da68519b8",
   "metadata": {},
   "outputs": [],
   "source": [
    "imp_fert.to_csv('/home/andre301267/git/Pricing-Fertilizer/DB/temp/imp_fert_ncm_quanti.csv',index=False)"
   ]
  },
  {
   "cell_type": "code",
   "execution_count": null,
   "id": "f6f266a1-c7f7-429b-a79a-5084dd7f2c5e",
   "metadata": {},
   "outputs": [],
   "source": []
  }
 ],
 "metadata": {
  "kernelspec": {
   "display_name": "Python 3 (ipykernel)",
   "language": "python",
   "name": "python3"
  },
  "language_info": {
   "codemirror_mode": {
    "name": "ipython",
    "version": 3
   },
   "file_extension": ".py",
   "mimetype": "text/x-python",
   "name": "python",
   "nbconvert_exporter": "python",
   "pygments_lexer": "ipython3",
   "version": "3.11.2"
  }
 },
 "nbformat": 4,
 "nbformat_minor": 5
}
