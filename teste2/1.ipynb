{
 "cells": [
  {
   "cell_type": "code",
   "execution_count": 21,
   "id": "993b141f-e8c3-44fc-88a6-5be0eb7787e8",
   "metadata": {},
   "outputs": [],
   "source": [
    "import numpy as np\n",
    "import pandas as pd\n",
    "import matplotlib.pyplot as plt\n",
    "import seaborn as sns\n",
    "import warnings\n",
    "warnings.filterwarnings(\"ignore\")\n",
    "cx=pd.read_csv('/home/andre301267/git/BD/temp/imp_fert_ncm_quanti.csv').sort_values(by=['CO_ANO','CO_MES'])"
   ]
  },
  {
   "cell_type": "code",
   "execution_count": 22,
   "id": "bc269666-5fed-4779-bef0-cabdf069deba",
   "metadata": {},
   "outputs": [],
   "source": [
    "cx.drop(columns=['CO_NCM','VL_FOB_orig','VL_FRETE_orig','VL_SEGURO_orig','VL_SEGURO'],inplace=True)"
   ]
  },
  {
   "cell_type": "code",
   "execution_count": 23,
   "id": "a52db548-f77f-4f5e-a23f-c78ba58ea937",
   "metadata": {},
   "outputs": [],
   "source": [
    "nick=['MOP']\n",
    "km=[2]\n",
    "UF=['BA']\n",
    "CO_PAIS=[]\n",
    "CO_URF=[]"
   ]
  },
  {
   "cell_type": "code",
   "execution_count": 24,
   "id": "7563afc4-3c51-4cc9-be55-f8e73f7226b2",
   "metadata": {},
   "outputs": [],
   "source": [
    "cat_list=['nick','km','UF','CO_PAIS','CO_URF']\n",
    "cat_dict={'nick':nick,'km':km,'UF':UF,'CO_PAIS':CO_PAIS,'CO_URF':CO_URF}"
   ]
  },
  {
   "cell_type": "code",
   "execution_count": 25,
   "id": "299abf85-25ef-4cff-a443-f285e6aa7caf",
   "metadata": {},
   "outputs": [],
   "source": [
    "for col in cat_list:\n",
    "    if len(cat_dict[col])>0:\n",
    "        cx=cx[cx[col].isin(cat_dict[col])]\n",
    "    else:\n",
    "        cx.drop(columns=[col],inplace=True)"
   ]
  },
  {
   "cell_type": "code",
   "execution_count": 26,
   "id": "87cd86af-70d2-4036-b8b0-8b3d3c1459c8",
   "metadata": {},
   "outputs": [],
   "source": [
    "col_cat=[x for x in ['nick','km','UF','CO_PAIS','CO_URF'] if x in cx.columns]\n",
    "\n",
    "col_quanti=['KG_LIQUIDO','VL_FOB','VL_FRETE']\n",
    "\n",
    "cx=cx.groupby(by=['CO_ANO','CO_MES']+col_cat)[col_quanti].sum().reset_index()"
   ]
  },
  {
   "cell_type": "code",
   "execution_count": 37,
   "id": "797ce917-8139-4ae0-9146-5479e1bd8cde",
   "metadata": {},
   "outputs": [
    {
     "name": "stdout",
     "output_type": "stream",
     "text": [
      "** Função matriz_esparsa(comex_df,col_cat) disponível **\n"
     ]
    }
   ],
   "source": [
    "%run '/home/andre301267/git/BD/Comexstat/function/matriz_esparsa.ipynb'"
   ]
  },
  {
   "cell_type": "code",
   "execution_count": 38,
   "id": "ad2033f9-06e2-4b3d-80ed-609637b21092",
   "metadata": {},
   "outputs": [
    {
     "ename": "KeyError",
     "evalue": "\"['KG_LIQUIDO', 'VL_FOB', 'VL_FRETE'] not in index\"",
     "output_type": "error",
     "traceback": [
      "\u001b[0;31m---------------------------------------------------------------------------\u001b[0m",
      "\u001b[0;31mKeyError\u001b[0m                                  Traceback (most recent call last)",
      "Cell \u001b[0;32mIn[38], line 1\u001b[0m\n\u001b[0;32m----> 1\u001b[0m cx\u001b[38;5;241m=\u001b[39m\u001b[43mmatriz_esparsa\u001b[49m\u001b[43m(\u001b[49m\u001b[43mcx\u001b[49m\u001b[43m,\u001b[49m\u001b[43mcol_cat\u001b[49m\u001b[43m)\u001b[49m\n",
      "File \u001b[0;32m/tmp/ipykernel_18780/3528382868.py:31\u001b[0m, in \u001b[0;36mmatriz_esparsa\u001b[0;34m(comex_df, col_cat)\u001b[0m\n\u001b[1;32m     28\u001b[0m datas\u001b[38;5;241m=\u001b[39mdatas[(datas\u001b[38;5;241m.\u001b[39mdate\u001b[38;5;241m>\u001b[39m\u001b[38;5;241m=\u001b[39mdate_ini)\u001b[38;5;241m&\u001b[39m(datas\u001b[38;5;241m.\u001b[39mdate\u001b[38;5;241m<\u001b[39m\u001b[38;5;241m=\u001b[39mdate_fim)]\u001b[38;5;241m.\u001b[39massign(key\u001b[38;5;241m=\u001b[39m\u001b[38;5;241m0\u001b[39m)\n\u001b[1;32m     30\u001b[0m \u001b[38;5;66;03m# Cria combinação de categorias\u001b[39;00m\n\u001b[0;32m---> 31\u001b[0m cat\u001b[38;5;241m=\u001b[39m\u001b[43mcomex_df\u001b[49m\u001b[43m[\u001b[49m\u001b[43mcol_cat\u001b[49m\u001b[38;5;241;43m+\u001b[39;49m\u001b[43mcol_quanti\u001b[49m\u001b[43m]\u001b[49m\u001b[38;5;241m.\u001b[39massign(key\u001b[38;5;241m=\u001b[39m\u001b[38;5;241m0\u001b[39m)\u001b[38;5;241m.\u001b[39mdrop_duplicates()\n\u001b[1;32m     33\u001b[0m comex_df_sp\u001b[38;5;241m=\u001b[39mdatas\u001b[38;5;241m.\u001b[39mmerge(cat,how\u001b[38;5;241m=\u001b[39m\u001b[38;5;124m'\u001b[39m\u001b[38;5;124mouter\u001b[39m\u001b[38;5;124m'\u001b[39m)\u001b[38;5;241m.\u001b[39mfillna(\u001b[38;5;241m0\u001b[39m)\u001b[38;5;241m.\u001b[39mdrop(columns\u001b[38;5;241m=\u001b[39m\u001b[38;5;124m'\u001b[39m\u001b[38;5;124mkey\u001b[39m\u001b[38;5;124m'\u001b[39m)\n\u001b[1;32m     35\u001b[0m \u001b[38;5;66;03m# Corrige tipo\u001b[39;00m\n",
      "File \u001b[0;32m~/jupyter_env/lib/python3.11/site-packages/pandas/core/frame.py:4108\u001b[0m, in \u001b[0;36mDataFrame.__getitem__\u001b[0;34m(self, key)\u001b[0m\n\u001b[1;32m   4106\u001b[0m     \u001b[38;5;28;01mif\u001b[39;00m is_iterator(key):\n\u001b[1;32m   4107\u001b[0m         key \u001b[38;5;241m=\u001b[39m \u001b[38;5;28mlist\u001b[39m(key)\n\u001b[0;32m-> 4108\u001b[0m     indexer \u001b[38;5;241m=\u001b[39m \u001b[38;5;28;43mself\u001b[39;49m\u001b[38;5;241;43m.\u001b[39;49m\u001b[43mcolumns\u001b[49m\u001b[38;5;241;43m.\u001b[39;49m\u001b[43m_get_indexer_strict\u001b[49m\u001b[43m(\u001b[49m\u001b[43mkey\u001b[49m\u001b[43m,\u001b[49m\u001b[43m \u001b[49m\u001b[38;5;124;43m\"\u001b[39;49m\u001b[38;5;124;43mcolumns\u001b[39;49m\u001b[38;5;124;43m\"\u001b[39;49m\u001b[43m)\u001b[49m[\u001b[38;5;241m1\u001b[39m]\n\u001b[1;32m   4110\u001b[0m \u001b[38;5;66;03m# take() does not accept boolean indexers\u001b[39;00m\n\u001b[1;32m   4111\u001b[0m \u001b[38;5;28;01mif\u001b[39;00m \u001b[38;5;28mgetattr\u001b[39m(indexer, \u001b[38;5;124m\"\u001b[39m\u001b[38;5;124mdtype\u001b[39m\u001b[38;5;124m\"\u001b[39m, \u001b[38;5;28;01mNone\u001b[39;00m) \u001b[38;5;241m==\u001b[39m \u001b[38;5;28mbool\u001b[39m:\n",
      "File \u001b[0;32m~/jupyter_env/lib/python3.11/site-packages/pandas/core/indexes/base.py:6200\u001b[0m, in \u001b[0;36mIndex._get_indexer_strict\u001b[0;34m(self, key, axis_name)\u001b[0m\n\u001b[1;32m   6197\u001b[0m \u001b[38;5;28;01melse\u001b[39;00m:\n\u001b[1;32m   6198\u001b[0m     keyarr, indexer, new_indexer \u001b[38;5;241m=\u001b[39m \u001b[38;5;28mself\u001b[39m\u001b[38;5;241m.\u001b[39m_reindex_non_unique(keyarr)\n\u001b[0;32m-> 6200\u001b[0m \u001b[38;5;28;43mself\u001b[39;49m\u001b[38;5;241;43m.\u001b[39;49m\u001b[43m_raise_if_missing\u001b[49m\u001b[43m(\u001b[49m\u001b[43mkeyarr\u001b[49m\u001b[43m,\u001b[49m\u001b[43m \u001b[49m\u001b[43mindexer\u001b[49m\u001b[43m,\u001b[49m\u001b[43m \u001b[49m\u001b[43maxis_name\u001b[49m\u001b[43m)\u001b[49m\n\u001b[1;32m   6202\u001b[0m keyarr \u001b[38;5;241m=\u001b[39m \u001b[38;5;28mself\u001b[39m\u001b[38;5;241m.\u001b[39mtake(indexer)\n\u001b[1;32m   6203\u001b[0m \u001b[38;5;28;01mif\u001b[39;00m \u001b[38;5;28misinstance\u001b[39m(key, Index):\n\u001b[1;32m   6204\u001b[0m     \u001b[38;5;66;03m# GH 42790 - Preserve name from an Index\u001b[39;00m\n",
      "File \u001b[0;32m~/jupyter_env/lib/python3.11/site-packages/pandas/core/indexes/base.py:6252\u001b[0m, in \u001b[0;36mIndex._raise_if_missing\u001b[0;34m(self, key, indexer, axis_name)\u001b[0m\n\u001b[1;32m   6249\u001b[0m     \u001b[38;5;28;01mraise\u001b[39;00m \u001b[38;5;167;01mKeyError\u001b[39;00m(\u001b[38;5;124mf\u001b[39m\u001b[38;5;124m\"\u001b[39m\u001b[38;5;124mNone of [\u001b[39m\u001b[38;5;132;01m{\u001b[39;00mkey\u001b[38;5;132;01m}\u001b[39;00m\u001b[38;5;124m] are in the [\u001b[39m\u001b[38;5;132;01m{\u001b[39;00maxis_name\u001b[38;5;132;01m}\u001b[39;00m\u001b[38;5;124m]\u001b[39m\u001b[38;5;124m\"\u001b[39m)\n\u001b[1;32m   6251\u001b[0m not_found \u001b[38;5;241m=\u001b[39m \u001b[38;5;28mlist\u001b[39m(ensure_index(key)[missing_mask\u001b[38;5;241m.\u001b[39mnonzero()[\u001b[38;5;241m0\u001b[39m]]\u001b[38;5;241m.\u001b[39munique())\n\u001b[0;32m-> 6252\u001b[0m \u001b[38;5;28;01mraise\u001b[39;00m \u001b[38;5;167;01mKeyError\u001b[39;00m(\u001b[38;5;124mf\u001b[39m\u001b[38;5;124m\"\u001b[39m\u001b[38;5;132;01m{\u001b[39;00mnot_found\u001b[38;5;132;01m}\u001b[39;00m\u001b[38;5;124m not in index\u001b[39m\u001b[38;5;124m\"\u001b[39m)\n",
      "\u001b[0;31mKeyError\u001b[0m: \"['KG_LIQUIDO', 'VL_FOB', 'VL_FRETE'] not in index\""
     ]
    }
   ],
   "source": [
    "cx=matriz_esparsa(cx,col_cat)"
   ]
  },
  {
   "cell_type": "code",
   "execution_count": 36,
   "id": "bfad14b2-ef45-4d40-8559-12ec3665f12d",
   "metadata": {},
   "outputs": [
    {
     "data": {
      "text/html": [
       "<div>\n",
       "<style scoped>\n",
       "    .dataframe tbody tr th:only-of-type {\n",
       "        vertical-align: middle;\n",
       "    }\n",
       "\n",
       "    .dataframe tbody tr th {\n",
       "        vertical-align: top;\n",
       "    }\n",
       "\n",
       "    .dataframe thead th {\n",
       "        text-align: right;\n",
       "    }\n",
       "</style>\n",
       "<table border=\"1\" class=\"dataframe\">\n",
       "  <thead>\n",
       "    <tr style=\"text-align: right;\">\n",
       "      <th></th>\n",
       "      <th>CO_ANO</th>\n",
       "      <th>CO_MES</th>\n",
       "      <th>date</th>\n",
       "      <th>nick</th>\n",
       "      <th>km</th>\n",
       "      <th>UF</th>\n",
       "      <th>tipo</th>\n",
       "    </tr>\n",
       "  </thead>\n",
       "  <tbody>\n",
       "    <tr>\n",
       "      <th>0</th>\n",
       "      <td>1997</td>\n",
       "      <td>8</td>\n",
       "      <td>1997-08-01</td>\n",
       "      <td>MOP</td>\n",
       "      <td>2</td>\n",
       "      <td>BA</td>\n",
       "      <td>train</td>\n",
       "    </tr>\n",
       "    <tr>\n",
       "      <th>1</th>\n",
       "      <td>1997</td>\n",
       "      <td>9</td>\n",
       "      <td>1997-09-01</td>\n",
       "      <td>MOP</td>\n",
       "      <td>2</td>\n",
       "      <td>BA</td>\n",
       "      <td>train</td>\n",
       "    </tr>\n",
       "    <tr>\n",
       "      <th>2</th>\n",
       "      <td>1997</td>\n",
       "      <td>10</td>\n",
       "      <td>1997-10-01</td>\n",
       "      <td>MOP</td>\n",
       "      <td>2</td>\n",
       "      <td>BA</td>\n",
       "      <td>train</td>\n",
       "    </tr>\n",
       "    <tr>\n",
       "      <th>3</th>\n",
       "      <td>1997</td>\n",
       "      <td>11</td>\n",
       "      <td>1997-11-01</td>\n",
       "      <td>MOP</td>\n",
       "      <td>2</td>\n",
       "      <td>BA</td>\n",
       "      <td>train</td>\n",
       "    </tr>\n",
       "    <tr>\n",
       "      <th>4</th>\n",
       "      <td>1997</td>\n",
       "      <td>12</td>\n",
       "      <td>1997-12-01</td>\n",
       "      <td>MOP</td>\n",
       "      <td>2</td>\n",
       "      <td>BA</td>\n",
       "      <td>train</td>\n",
       "    </tr>\n",
       "    <tr>\n",
       "      <th>...</th>\n",
       "      <td>...</td>\n",
       "      <td>...</td>\n",
       "      <td>...</td>\n",
       "      <td>...</td>\n",
       "      <td>...</td>\n",
       "      <td>...</td>\n",
       "      <td>...</td>\n",
       "    </tr>\n",
       "    <tr>\n",
       "      <th>320</th>\n",
       "      <td>2024</td>\n",
       "      <td>4</td>\n",
       "      <td>2024-04-01</td>\n",
       "      <td>MOP</td>\n",
       "      <td>2</td>\n",
       "      <td>BA</td>\n",
       "      <td>train</td>\n",
       "    </tr>\n",
       "    <tr>\n",
       "      <th>321</th>\n",
       "      <td>2024</td>\n",
       "      <td>5</td>\n",
       "      <td>2024-05-01</td>\n",
       "      <td>MOP</td>\n",
       "      <td>2</td>\n",
       "      <td>BA</td>\n",
       "      <td>train</td>\n",
       "    </tr>\n",
       "    <tr>\n",
       "      <th>322</th>\n",
       "      <td>2024</td>\n",
       "      <td>6</td>\n",
       "      <td>2024-06-01</td>\n",
       "      <td>MOP</td>\n",
       "      <td>2</td>\n",
       "      <td>BA</td>\n",
       "      <td>train</td>\n",
       "    </tr>\n",
       "    <tr>\n",
       "      <th>323</th>\n",
       "      <td>2024</td>\n",
       "      <td>7</td>\n",
       "      <td>2024-07-01</td>\n",
       "      <td>MOP</td>\n",
       "      <td>2</td>\n",
       "      <td>BA</td>\n",
       "      <td>train</td>\n",
       "    </tr>\n",
       "    <tr>\n",
       "      <th>324</th>\n",
       "      <td>2024</td>\n",
       "      <td>8</td>\n",
       "      <td>2024-08-01</td>\n",
       "      <td>MOP</td>\n",
       "      <td>2</td>\n",
       "      <td>BA</td>\n",
       "      <td>train</td>\n",
       "    </tr>\n",
       "  </tbody>\n",
       "</table>\n",
       "<p>325 rows × 7 columns</p>\n",
       "</div>"
      ],
      "text/plain": [
       "     CO_ANO  CO_MES       date nick  km  UF   tipo\n",
       "0      1997       8 1997-08-01  MOP   2  BA  train\n",
       "1      1997       9 1997-09-01  MOP   2  BA  train\n",
       "2      1997      10 1997-10-01  MOP   2  BA  train\n",
       "3      1997      11 1997-11-01  MOP   2  BA  train\n",
       "4      1997      12 1997-12-01  MOP   2  BA  train\n",
       "..      ...     ...        ...  ...  ..  ..    ...\n",
       "320    2024       4 2024-04-01  MOP   2  BA  train\n",
       "321    2024       5 2024-05-01  MOP   2  BA  train\n",
       "322    2024       6 2024-06-01  MOP   2  BA  train\n",
       "323    2024       7 2024-07-01  MOP   2  BA  train\n",
       "324    2024       8 2024-08-01  MOP   2  BA  train\n",
       "\n",
       "[325 rows x 7 columns]"
      ]
     },
     "execution_count": 36,
     "metadata": {},
     "output_type": "execute_result"
    }
   ],
   "source": [
    "cx"
   ]
  },
  {
   "cell_type": "code",
   "execution_count": 33,
   "id": "515bd1d7-fed5-4a47-b038-d51eaf7eb899",
   "metadata": {},
   "outputs": [],
   "source": [
    "cx=cx.assign(tipo='train')"
   ]
  },
  {
   "cell_type": "code",
   "execution_count": null,
   "id": "e73f1807-8b7b-4c50-9c4f-52a177622147",
   "metadata": {},
   "outputs": [],
   "source": [
    "cx_train=cx[cx.tipo=='train']"
   ]
  },
  {
   "cell_type": "code",
   "execution_count": null,
   "id": "9a37387c-85f0-44ab-9493-ccec4ad45112",
   "metadata": {},
   "outputs": [],
   "source": [
    "cx_prev=cx[cx.date==cx.date.max()]"
   ]
  },
  {
   "cell_type": "code",
   "execution_count": null,
   "id": "a33034de-8500-4ce2-8ad2-4689256d7cd7",
   "metadata": {},
   "outputs": [],
   "source": [
    "cx_prev.CO_MES=cx_prev.CO_MES+1"
   ]
  },
  {
   "cell_type": "code",
   "execution_count": null,
   "id": "b9d255ec-0e35-43f0-81b7-296607e9120b",
   "metadata": {},
   "outputs": [],
   "source": [
    "cx_prev.CO_MES.values>0"
   ]
  },
  {
   "cell_type": "code",
   "execution_count": null,
   "id": "5494d17e-a032-4f75-91ad-6360f5f5c600",
   "metadata": {},
   "outputs": [],
   "source": [
    "if cx_prev.CO_MES.values>12:\n",
    "    cx_prev.CO_ANO=cx_prev.CO_ANO+1\n",
    "    cx_prev.CO_MES=1"
   ]
  },
  {
   "cell_type": "code",
   "execution_count": null,
   "id": "e6ef0b8f-6096-401f-9959-3c683ba5af66",
   "metadata": {},
   "outputs": [],
   "source": [
    "cx=pd.concat([cx_train,cx_prev.assign(tipo='prev')])"
   ]
  },
  {
   "cell_type": "code",
   "execution_count": null,
   "id": "d92dc8a6-a8f2-405c-a8b4-f1b4421388e0",
   "metadata": {},
   "outputs": [],
   "source": [
    "cx.date=cx.date.astype(int)"
   ]
  },
  {
   "cell_type": "markdown",
   "id": "921f06bd-a4a8-4968-8ca9-7c590aac20ad",
   "metadata": {},
   "source": [
    "# Previsão"
   ]
  },
  {
   "cell_type": "code",
   "execution_count": null,
   "id": "41a0748c-fd72-4cdb-8ab2-ec9a74a11f11",
   "metadata": {},
   "outputs": [],
   "source": [
    "cx[cx.tipo=='prev'].date=pd.to_datetime(cx[cx.tipo=='prev'].CO_ANO.astype(str)+'/'+cx[cx.tipo=='prev'].CO_MES.astype(str)+'/1').astype(int)"
   ]
  },
  {
   "cell_type": "markdown",
   "id": "93bf8c75-fe9a-4c78-b6ab-36fad9f0c061",
   "metadata": {},
   "source": [
    "# Calssificação"
   ]
  },
  {
   "cell_type": "code",
   "execution_count": null,
   "id": "7e507f78-b650-4785-8fba-33cad9936642",
   "metadata": {},
   "outputs": [],
   "source": [
    "# Marca ocorrências\n",
    "cx=cx.assign(oc=0)\n",
    "cx.loc[cx.KG_LIQUIDO>0,'oc']=1\n",
    "cx.loc[cx.tipo=='prev',col_quanti+['oc']]=np.nan\n",
    "prev=cx[cx.tipo=='prev']\n",
    "cx.loc[cx.tipo=='prev','date']=pd.to_datetime(prev.CO_ANO.astype(str)+'/'+prev.CO_MES.astype(str)+'/1').astype(int)"
   ]
  },
  {
   "cell_type": "code",
   "execution_count": null,
   "id": "2ddcdd4e-3e88-4c23-8352-86955a4d8f9f",
   "metadata": {},
   "outputs": [],
   "source": [
    "cx[['CO_MES']+col_cat+['tipo']]=cx[['CO_MES']+col_cat+['tipo']].astype('category')"
   ]
  },
  {
   "cell_type": "code",
   "execution_count": null,
   "id": "98a2140b-23b1-4d84-bbfb-bb5972308223",
   "metadata": {},
   "outputs": [],
   "source": [
    "cx_back=cx.copy()"
   ]
  },
  {
   "cell_type": "code",
   "execution_count": null,
   "id": "f74d8722-b947-46e3-b7f4-7c731b3c3d91",
   "metadata": {},
   "outputs": [],
   "source": [
    "cx=pd.get_dummies(cx)"
   ]
  },
  {
   "cell_type": "markdown",
   "id": "d111b162-323f-4a47-8c75-2fa95ff90883",
   "metadata": {},
   "source": [
    "# Classificação"
   ]
  },
  {
   "cell_type": "code",
   "execution_count": null,
   "id": "c79a379e-5350-4e5e-8887-9f6da3bb9895",
   "metadata": {},
   "outputs": [],
   "source": [
    "train=cx[cx.tipo_train==True]"
   ]
  },
  {
   "cell_type": "code",
   "execution_count": null,
   "id": "ddb0bfc6-3f45-46ac-bf83-4a8ef98930a7",
   "metadata": {},
   "outputs": [],
   "source": [
    "X_train=train[['date']+train.select_dtypes('bool').columns.tolist()]"
   ]
  },
  {
   "cell_type": "code",
   "execution_count": null,
   "id": "76dbb64a-6a02-4aee-a584-6b31fb13eb98",
   "metadata": {},
   "outputs": [],
   "source": [
    "y_train=train.oc"
   ]
  },
  {
   "cell_type": "code",
   "execution_count": null,
   "id": "4a1624c6-9d02-4116-a668-db5405262ec3",
   "metadata": {},
   "outputs": [],
   "source": [
    "prev=cx[cx.tipo_prev==True]"
   ]
  },
  {
   "cell_type": "code",
   "execution_count": null,
   "id": "ea743342-433a-470b-90e6-33e6131a4705",
   "metadata": {},
   "outputs": [],
   "source": [
    "X_prev=prev[['date']+prev.select_dtypes('bool').columns.tolist()]"
   ]
  },
  {
   "cell_type": "code",
   "execution_count": null,
   "id": "06affffb-857f-4de7-bb3b-252efe3072f9",
   "metadata": {},
   "outputs": [],
   "source": [
    "from sklearn.ensemble import RandomForestClassifier as RFC\n",
    "RFC=RFC()"
   ]
  },
  {
   "cell_type": "code",
   "execution_count": null,
   "id": "0ac00b45-f848-4c80-b448-0c9638209811",
   "metadata": {},
   "outputs": [],
   "source": [
    "RFC.fit(X_train,y_train)"
   ]
  },
  {
   "cell_type": "code",
   "execution_count": null,
   "id": "d8493976-12bb-429d-8f96-8c30de4d9274",
   "metadata": {},
   "outputs": [],
   "source": [
    "X_prev=X_prev.assign(oc=RFC.predict(X_prev))"
   ]
  },
  {
   "cell_type": "markdown",
   "id": "6911c17c-5e03-4f18-bb17-f6c20ec0194e",
   "metadata": {},
   "source": [
    "# Regressão"
   ]
  },
  {
   "cell_type": "code",
   "execution_count": null,
   "id": "cd5778b7-cb24-49c5-854b-c3597008082b",
   "metadata": {},
   "outputs": [],
   "source": [
    "train=train[train.oc==1]"
   ]
  },
  {
   "cell_type": "code",
   "execution_count": null,
   "id": "67281041-3a94-4f30-ad05-443f2d7481ef",
   "metadata": {},
   "outputs": [],
   "source": [
    "X_train=train[['date']+train.select_dtypes('bool').columns.tolist()]"
   ]
  },
  {
   "cell_type": "code",
   "execution_count": null,
   "id": "0e0d1212-c443-4623-a5aa-4b9a54ed94b6",
   "metadata": {},
   "outputs": [],
   "source": [
    "y_train=train[col_quanti]"
   ]
  },
  {
   "cell_type": "code",
   "execution_count": null,
   "id": "76ba0407-ebfb-4da0-ac01-5e377cc5574f",
   "metadata": {},
   "outputs": [],
   "source": [
    "X_prev=X_prev[X_prev.oc==1].drop(columns='oc')"
   ]
  },
  {
   "cell_type": "code",
   "execution_count": null,
   "id": "299e3136-738f-4006-9771-41908b3df131",
   "metadata": {},
   "outputs": [],
   "source": [
    "from sklearn.ensemble import RandomForestRegressor as RFR\n",
    "RFR=RFR()"
   ]
  },
  {
   "cell_type": "code",
   "execution_count": null,
   "id": "574d98de-e2ae-4ea4-b036-f2d8631eca5e",
   "metadata": {},
   "outputs": [],
   "source": [
    "RFR.fit(X_train,y_train)"
   ]
  },
  {
   "cell_type": "code",
   "execution_count": null,
   "id": "07d8c7b5-0647-4f63-9e72-e54d84127a32",
   "metadata": {},
   "outputs": [],
   "source": [
    "prev=RFR.predict(X_prev)"
   ]
  },
  {
   "cell_type": "code",
   "execution_count": null,
   "id": "726f4379-f8ba-4049-bc29-38477a36178b",
   "metadata": {},
   "outputs": [],
   "source": [
    "cx_back[col_quanti]=list(prev.flat)"
   ]
  },
  {
   "cell_type": "code",
   "execution_count": null,
   "id": "0d1fd93f-506e-4354-82b7-2c5b0cddb143",
   "metadata": {},
   "outputs": [],
   "source": [
    "cx_back"
   ]
  },
  {
   "cell_type": "code",
   "execution_count": null,
   "id": "5b7186f8-8960-49e4-b08b-6b209d4f880c",
   "metadata": {},
   "outputs": [],
   "source": []
  }
 ],
 "metadata": {
  "kernelspec": {
   "display_name": "Python 3 (ipykernel)",
   "language": "python",
   "name": "python3"
  },
  "language_info": {
   "codemirror_mode": {
    "name": "ipython",
    "version": 3
   },
   "file_extension": ".py",
   "mimetype": "text/x-python",
   "name": "python",
   "nbconvert_exporter": "python",
   "pygments_lexer": "ipython3",
   "version": "3.11.2"
  }
 },
 "nbformat": 4,
 "nbformat_minor": 5
}
